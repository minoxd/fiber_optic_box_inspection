{
  "cells": [
    {
      "cell_type": "markdown",
      "metadata": {
        "id": "view-in-github",
        "colab_type": "text"
      },
      "source": [
        "<a href=\"https://colab.research.google.com/github/minoxd/fiber_optic_box_inspection/blob/main/hehe.ipynb\" target=\"_parent\"><img src=\"https://colab.research.google.com/assets/colab-badge.svg\" alt=\"Open In Colab\"/></a>"
      ]
    },
    {
      "cell_type": "markdown",
      "source": [
        "# Environmental Setup"
      ],
      "metadata": {
        "id": "KLRShjFGX7M_"
      }
    },
    {
      "cell_type": "code",
      "execution_count": 2,
      "metadata": {
        "colab": {
          "base_uri": "https://localhost:8080/"
        },
        "id": "cESaTvhCEaJ6",
        "outputId": "8e5a587f-9f82-41a5-b9f1-a48a96ab6fcf"
      },
      "outputs": [
        {
          "output_type": "stream",
          "name": "stdout",
          "text": [
            "Mounted at /content/drive\n"
          ]
        }
      ],
      "source": [
        "from google.colab import drive\n",
        "drive.mount('/content/drive', force_remount=True)"
      ]
    },
    {
      "cell_type": "code",
      "execution_count": 3,
      "metadata": {
        "colab": {
          "base_uri": "https://localhost:8080/"
        },
        "collapsed": true,
        "id": "6dHbcvTwDZzJ",
        "outputId": "34a55505-23c5-4e39-f1bb-96b76806bd2b"
      },
      "outputs": [
        {
          "output_type": "stream",
          "name": "stdout",
          "text": [
            "Collecting ultralytics\n",
            "  Downloading ultralytics-8.3.158-py3-none-any.whl.metadata (37 kB)\n",
            "Requirement already satisfied: numpy>=1.23.0 in /usr/local/lib/python3.11/dist-packages (from ultralytics) (2.0.2)\n",
            "Requirement already satisfied: matplotlib>=3.3.0 in /usr/local/lib/python3.11/dist-packages (from ultralytics) (3.10.0)\n",
            "Requirement already satisfied: opencv-python>=4.6.0 in /usr/local/lib/python3.11/dist-packages (from ultralytics) (4.11.0.86)\n",
            "Requirement already satisfied: pillow>=7.1.2 in /usr/local/lib/python3.11/dist-packages (from ultralytics) (11.2.1)\n",
            "Requirement already satisfied: pyyaml>=5.3.1 in /usr/local/lib/python3.11/dist-packages (from ultralytics) (6.0.2)\n",
            "Requirement already satisfied: requests>=2.23.0 in /usr/local/lib/python3.11/dist-packages (from ultralytics) (2.32.3)\n",
            "Requirement already satisfied: scipy>=1.4.1 in /usr/local/lib/python3.11/dist-packages (from ultralytics) (1.15.3)\n",
            "Requirement already satisfied: torch>=1.8.0 in /usr/local/lib/python3.11/dist-packages (from ultralytics) (2.6.0+cu124)\n",
            "Requirement already satisfied: torchvision>=0.9.0 in /usr/local/lib/python3.11/dist-packages (from ultralytics) (0.21.0+cu124)\n",
            "Requirement already satisfied: tqdm>=4.64.0 in /usr/local/lib/python3.11/dist-packages (from ultralytics) (4.67.1)\n",
            "Requirement already satisfied: psutil in /usr/local/lib/python3.11/dist-packages (from ultralytics) (5.9.5)\n",
            "Requirement already satisfied: py-cpuinfo in /usr/local/lib/python3.11/dist-packages (from ultralytics) (9.0.0)\n",
            "Requirement already satisfied: pandas>=1.1.4 in /usr/local/lib/python3.11/dist-packages (from ultralytics) (2.2.2)\n",
            "Collecting ultralytics-thop>=2.0.0 (from ultralytics)\n",
            "  Downloading ultralytics_thop-2.0.14-py3-none-any.whl.metadata (9.4 kB)\n",
            "Requirement already satisfied: contourpy>=1.0.1 in /usr/local/lib/python3.11/dist-packages (from matplotlib>=3.3.0->ultralytics) (1.3.2)\n",
            "Requirement already satisfied: cycler>=0.10 in /usr/local/lib/python3.11/dist-packages (from matplotlib>=3.3.0->ultralytics) (0.12.1)\n",
            "Requirement already satisfied: fonttools>=4.22.0 in /usr/local/lib/python3.11/dist-packages (from matplotlib>=3.3.0->ultralytics) (4.58.4)\n",
            "Requirement already satisfied: kiwisolver>=1.3.1 in /usr/local/lib/python3.11/dist-packages (from matplotlib>=3.3.0->ultralytics) (1.4.8)\n",
            "Requirement already satisfied: packaging>=20.0 in /usr/local/lib/python3.11/dist-packages (from matplotlib>=3.3.0->ultralytics) (24.2)\n",
            "Requirement already satisfied: pyparsing>=2.3.1 in /usr/local/lib/python3.11/dist-packages (from matplotlib>=3.3.0->ultralytics) (3.2.3)\n",
            "Requirement already satisfied: python-dateutil>=2.7 in /usr/local/lib/python3.11/dist-packages (from matplotlib>=3.3.0->ultralytics) (2.9.0.post0)\n",
            "Requirement already satisfied: pytz>=2020.1 in /usr/local/lib/python3.11/dist-packages (from pandas>=1.1.4->ultralytics) (2025.2)\n",
            "Requirement already satisfied: tzdata>=2022.7 in /usr/local/lib/python3.11/dist-packages (from pandas>=1.1.4->ultralytics) (2025.2)\n",
            "Requirement already satisfied: charset-normalizer<4,>=2 in /usr/local/lib/python3.11/dist-packages (from requests>=2.23.0->ultralytics) (3.4.2)\n",
            "Requirement already satisfied: idna<4,>=2.5 in /usr/local/lib/python3.11/dist-packages (from requests>=2.23.0->ultralytics) (3.10)\n",
            "Requirement already satisfied: urllib3<3,>=1.21.1 in /usr/local/lib/python3.11/dist-packages (from requests>=2.23.0->ultralytics) (2.4.0)\n",
            "Requirement already satisfied: certifi>=2017.4.17 in /usr/local/lib/python3.11/dist-packages (from requests>=2.23.0->ultralytics) (2025.6.15)\n",
            "Requirement already satisfied: filelock in /usr/local/lib/python3.11/dist-packages (from torch>=1.8.0->ultralytics) (3.18.0)\n",
            "Requirement already satisfied: typing-extensions>=4.10.0 in /usr/local/lib/python3.11/dist-packages (from torch>=1.8.0->ultralytics) (4.14.0)\n",
            "Requirement already satisfied: networkx in /usr/local/lib/python3.11/dist-packages (from torch>=1.8.0->ultralytics) (3.5)\n",
            "Requirement already satisfied: jinja2 in /usr/local/lib/python3.11/dist-packages (from torch>=1.8.0->ultralytics) (3.1.6)\n",
            "Requirement already satisfied: fsspec in /usr/local/lib/python3.11/dist-packages (from torch>=1.8.0->ultralytics) (2025.3.2)\n",
            "Collecting nvidia-cuda-nvrtc-cu12==12.4.127 (from torch>=1.8.0->ultralytics)\n",
            "  Downloading nvidia_cuda_nvrtc_cu12-12.4.127-py3-none-manylinux2014_x86_64.whl.metadata (1.5 kB)\n",
            "Collecting nvidia-cuda-runtime-cu12==12.4.127 (from torch>=1.8.0->ultralytics)\n",
            "  Downloading nvidia_cuda_runtime_cu12-12.4.127-py3-none-manylinux2014_x86_64.whl.metadata (1.5 kB)\n",
            "Collecting nvidia-cuda-cupti-cu12==12.4.127 (from torch>=1.8.0->ultralytics)\n",
            "  Downloading nvidia_cuda_cupti_cu12-12.4.127-py3-none-manylinux2014_x86_64.whl.metadata (1.6 kB)\n",
            "Collecting nvidia-cudnn-cu12==9.1.0.70 (from torch>=1.8.0->ultralytics)\n",
            "  Downloading nvidia_cudnn_cu12-9.1.0.70-py3-none-manylinux2014_x86_64.whl.metadata (1.6 kB)\n",
            "Collecting nvidia-cublas-cu12==12.4.5.8 (from torch>=1.8.0->ultralytics)\n",
            "  Downloading nvidia_cublas_cu12-12.4.5.8-py3-none-manylinux2014_x86_64.whl.metadata (1.5 kB)\n",
            "Collecting nvidia-cufft-cu12==11.2.1.3 (from torch>=1.8.0->ultralytics)\n",
            "  Downloading nvidia_cufft_cu12-11.2.1.3-py3-none-manylinux2014_x86_64.whl.metadata (1.5 kB)\n",
            "Collecting nvidia-curand-cu12==10.3.5.147 (from torch>=1.8.0->ultralytics)\n",
            "  Downloading nvidia_curand_cu12-10.3.5.147-py3-none-manylinux2014_x86_64.whl.metadata (1.5 kB)\n",
            "Collecting nvidia-cusolver-cu12==11.6.1.9 (from torch>=1.8.0->ultralytics)\n",
            "  Downloading nvidia_cusolver_cu12-11.6.1.9-py3-none-manylinux2014_x86_64.whl.metadata (1.6 kB)\n",
            "Collecting nvidia-cusparse-cu12==12.3.1.170 (from torch>=1.8.0->ultralytics)\n",
            "  Downloading nvidia_cusparse_cu12-12.3.1.170-py3-none-manylinux2014_x86_64.whl.metadata (1.6 kB)\n",
            "Requirement already satisfied: nvidia-cusparselt-cu12==0.6.2 in /usr/local/lib/python3.11/dist-packages (from torch>=1.8.0->ultralytics) (0.6.2)\n",
            "Requirement already satisfied: nvidia-nccl-cu12==2.21.5 in /usr/local/lib/python3.11/dist-packages (from torch>=1.8.0->ultralytics) (2.21.5)\n",
            "Requirement already satisfied: nvidia-nvtx-cu12==12.4.127 in /usr/local/lib/python3.11/dist-packages (from torch>=1.8.0->ultralytics) (12.4.127)\n",
            "Collecting nvidia-nvjitlink-cu12==12.4.127 (from torch>=1.8.0->ultralytics)\n",
            "  Downloading nvidia_nvjitlink_cu12-12.4.127-py3-none-manylinux2014_x86_64.whl.metadata (1.5 kB)\n",
            "Requirement already satisfied: triton==3.2.0 in /usr/local/lib/python3.11/dist-packages (from torch>=1.8.0->ultralytics) (3.2.0)\n",
            "Requirement already satisfied: sympy==1.13.1 in /usr/local/lib/python3.11/dist-packages (from torch>=1.8.0->ultralytics) (1.13.1)\n",
            "Requirement already satisfied: mpmath<1.4,>=1.1.0 in /usr/local/lib/python3.11/dist-packages (from sympy==1.13.1->torch>=1.8.0->ultralytics) (1.3.0)\n",
            "Requirement already satisfied: six>=1.5 in /usr/local/lib/python3.11/dist-packages (from python-dateutil>=2.7->matplotlib>=3.3.0->ultralytics) (1.17.0)\n",
            "Requirement already satisfied: MarkupSafe>=2.0 in /usr/local/lib/python3.11/dist-packages (from jinja2->torch>=1.8.0->ultralytics) (3.0.2)\n",
            "Downloading ultralytics-8.3.158-py3-none-any.whl (1.0 MB)\n",
            "\u001b[2K   \u001b[90m━━━━━━━━━━━━━━━━━━━━━━━━━━━━━━━━━━━━━━━━\u001b[0m \u001b[32m1.0/1.0 MB\u001b[0m \u001b[31m65.4 MB/s\u001b[0m eta \u001b[36m0:00:00\u001b[0m\n",
            "\u001b[?25hDownloading nvidia_cublas_cu12-12.4.5.8-py3-none-manylinux2014_x86_64.whl (363.4 MB)\n",
            "\u001b[2K   \u001b[90m━━━━━━━━━━━━━━━━━━━━━━━━━━━━━━━━━━━━━━━━\u001b[0m \u001b[32m363.4/363.4 MB\u001b[0m \u001b[31m3.2 MB/s\u001b[0m eta \u001b[36m0:00:00\u001b[0m\n",
            "\u001b[?25hDownloading nvidia_cuda_cupti_cu12-12.4.127-py3-none-manylinux2014_x86_64.whl (13.8 MB)\n",
            "\u001b[2K   \u001b[90m━━━━━━━━━━━━━━━━━━━━━━━━━━━━━━━━━━━━━━━━\u001b[0m \u001b[32m13.8/13.8 MB\u001b[0m \u001b[31m116.3 MB/s\u001b[0m eta \u001b[36m0:00:00\u001b[0m\n",
            "\u001b[?25hDownloading nvidia_cuda_nvrtc_cu12-12.4.127-py3-none-manylinux2014_x86_64.whl (24.6 MB)\n",
            "\u001b[2K   \u001b[90m━━━━━━━━━━━━━━━━━━━━━━━━━━━━━━━━━━━━━━━━\u001b[0m \u001b[32m24.6/24.6 MB\u001b[0m \u001b[31m93.3 MB/s\u001b[0m eta \u001b[36m0:00:00\u001b[0m\n",
            "\u001b[?25hDownloading nvidia_cuda_runtime_cu12-12.4.127-py3-none-manylinux2014_x86_64.whl (883 kB)\n",
            "\u001b[2K   \u001b[90m━━━━━━━━━━━━━━━━━━━━━━━━━━━━━━━━━━━━━━━━\u001b[0m \u001b[32m883.7/883.7 kB\u001b[0m \u001b[31m60.8 MB/s\u001b[0m eta \u001b[36m0:00:00\u001b[0m\n",
            "\u001b[?25hDownloading nvidia_cudnn_cu12-9.1.0.70-py3-none-manylinux2014_x86_64.whl (664.8 MB)\n",
            "\u001b[2K   \u001b[90m━━━━━━━━━━━━━━━━━━━━━━━━━━━━━━━━━━━━━━━━\u001b[0m \u001b[32m664.8/664.8 MB\u001b[0m \u001b[31m2.2 MB/s\u001b[0m eta \u001b[36m0:00:00\u001b[0m\n",
            "\u001b[?25hDownloading nvidia_cufft_cu12-11.2.1.3-py3-none-manylinux2014_x86_64.whl (211.5 MB)\n",
            "\u001b[2K   \u001b[90m━━━━━━━━━━━━━━━━━━━━━━━━━━━━━━━━━━━━━━━━\u001b[0m \u001b[32m211.5/211.5 MB\u001b[0m \u001b[31m6.6 MB/s\u001b[0m eta \u001b[36m0:00:00\u001b[0m\n",
            "\u001b[?25hDownloading nvidia_curand_cu12-10.3.5.147-py3-none-manylinux2014_x86_64.whl (56.3 MB)\n",
            "\u001b[2K   \u001b[90m━━━━━━━━━━━━━━━━━━━━━━━━━━━━━━━━━━━━━━━━\u001b[0m \u001b[32m56.3/56.3 MB\u001b[0m \u001b[31m39.8 MB/s\u001b[0m eta \u001b[36m0:00:00\u001b[0m\n",
            "\u001b[?25hDownloading nvidia_cusolver_cu12-11.6.1.9-py3-none-manylinux2014_x86_64.whl (127.9 MB)\n",
            "\u001b[2K   \u001b[90m━━━━━━━━━━━━━━━━━━━━━━━━━━━━━━━━━━━━━━━━\u001b[0m \u001b[32m127.9/127.9 MB\u001b[0m \u001b[31m19.4 MB/s\u001b[0m eta \u001b[36m0:00:00\u001b[0m\n",
            "\u001b[?25hDownloading nvidia_cusparse_cu12-12.3.1.170-py3-none-manylinux2014_x86_64.whl (207.5 MB)\n",
            "\u001b[2K   \u001b[90m━━━━━━━━━━━━━━━━━━━━━━━━━━━━━━━━━━━━━━━━\u001b[0m \u001b[32m207.5/207.5 MB\u001b[0m \u001b[31m3.6 MB/s\u001b[0m eta \u001b[36m0:00:00\u001b[0m\n",
            "\u001b[?25hDownloading nvidia_nvjitlink_cu12-12.4.127-py3-none-manylinux2014_x86_64.whl (21.1 MB)\n",
            "\u001b[2K   \u001b[90m━━━━━━━━━━━━━━━━━━━━━━━━━━━━━━━━━━━━━━━━\u001b[0m \u001b[32m21.1/21.1 MB\u001b[0m \u001b[31m88.7 MB/s\u001b[0m eta \u001b[36m0:00:00\u001b[0m\n",
            "\u001b[?25hDownloading ultralytics_thop-2.0.14-py3-none-any.whl (26 kB)\n",
            "Installing collected packages: nvidia-nvjitlink-cu12, nvidia-curand-cu12, nvidia-cufft-cu12, nvidia-cuda-runtime-cu12, nvidia-cuda-nvrtc-cu12, nvidia-cuda-cupti-cu12, nvidia-cublas-cu12, nvidia-cusparse-cu12, nvidia-cudnn-cu12, nvidia-cusolver-cu12, ultralytics-thop, ultralytics\n",
            "  Attempting uninstall: nvidia-nvjitlink-cu12\n",
            "    Found existing installation: nvidia-nvjitlink-cu12 12.5.82\n",
            "    Uninstalling nvidia-nvjitlink-cu12-12.5.82:\n",
            "      Successfully uninstalled nvidia-nvjitlink-cu12-12.5.82\n",
            "  Attempting uninstall: nvidia-curand-cu12\n",
            "    Found existing installation: nvidia-curand-cu12 10.3.6.82\n",
            "    Uninstalling nvidia-curand-cu12-10.3.6.82:\n",
            "      Successfully uninstalled nvidia-curand-cu12-10.3.6.82\n",
            "  Attempting uninstall: nvidia-cufft-cu12\n",
            "    Found existing installation: nvidia-cufft-cu12 11.2.3.61\n",
            "    Uninstalling nvidia-cufft-cu12-11.2.3.61:\n",
            "      Successfully uninstalled nvidia-cufft-cu12-11.2.3.61\n",
            "  Attempting uninstall: nvidia-cuda-runtime-cu12\n",
            "    Found existing installation: nvidia-cuda-runtime-cu12 12.5.82\n",
            "    Uninstalling nvidia-cuda-runtime-cu12-12.5.82:\n",
            "      Successfully uninstalled nvidia-cuda-runtime-cu12-12.5.82\n",
            "  Attempting uninstall: nvidia-cuda-nvrtc-cu12\n",
            "    Found existing installation: nvidia-cuda-nvrtc-cu12 12.5.82\n",
            "    Uninstalling nvidia-cuda-nvrtc-cu12-12.5.82:\n",
            "      Successfully uninstalled nvidia-cuda-nvrtc-cu12-12.5.82\n",
            "  Attempting uninstall: nvidia-cuda-cupti-cu12\n",
            "    Found existing installation: nvidia-cuda-cupti-cu12 12.5.82\n",
            "    Uninstalling nvidia-cuda-cupti-cu12-12.5.82:\n",
            "      Successfully uninstalled nvidia-cuda-cupti-cu12-12.5.82\n",
            "  Attempting uninstall: nvidia-cublas-cu12\n",
            "    Found existing installation: nvidia-cublas-cu12 12.5.3.2\n",
            "    Uninstalling nvidia-cublas-cu12-12.5.3.2:\n",
            "      Successfully uninstalled nvidia-cublas-cu12-12.5.3.2\n",
            "  Attempting uninstall: nvidia-cusparse-cu12\n",
            "    Found existing installation: nvidia-cusparse-cu12 12.5.1.3\n",
            "    Uninstalling nvidia-cusparse-cu12-12.5.1.3:\n",
            "      Successfully uninstalled nvidia-cusparse-cu12-12.5.1.3\n",
            "  Attempting uninstall: nvidia-cudnn-cu12\n",
            "    Found existing installation: nvidia-cudnn-cu12 9.3.0.75\n",
            "    Uninstalling nvidia-cudnn-cu12-9.3.0.75:\n",
            "      Successfully uninstalled nvidia-cudnn-cu12-9.3.0.75\n",
            "  Attempting uninstall: nvidia-cusolver-cu12\n",
            "    Found existing installation: nvidia-cusolver-cu12 11.6.3.83\n",
            "    Uninstalling nvidia-cusolver-cu12-11.6.3.83:\n",
            "      Successfully uninstalled nvidia-cusolver-cu12-11.6.3.83\n",
            "Successfully installed nvidia-cublas-cu12-12.4.5.8 nvidia-cuda-cupti-cu12-12.4.127 nvidia-cuda-nvrtc-cu12-12.4.127 nvidia-cuda-runtime-cu12-12.4.127 nvidia-cudnn-cu12-9.1.0.70 nvidia-cufft-cu12-11.2.1.3 nvidia-curand-cu12-10.3.5.147 nvidia-cusolver-cu12-11.6.1.9 nvidia-cusparse-cu12-12.3.1.170 nvidia-nvjitlink-cu12-12.4.127 ultralytics-8.3.158 ultralytics-thop-2.0.14\n",
            "Creating new Ultralytics Settings v0.0.6 file ✅ \n",
            "View Ultralytics Settings with 'yolo settings' or at '/root/.config/Ultralytics/settings.json'\n",
            "Update Settings with 'yolo settings key=value', i.e. 'yolo settings runs_dir=path/to/dir'. For help see https://docs.ultralytics.com/quickstart/#ultralytics-settings.\n"
          ]
        }
      ],
      "source": [
        "!pip install ultralytics\n",
        "from ultralytics import YOLO"
      ]
    },
    {
      "cell_type": "code",
      "execution_count": 4,
      "metadata": {
        "id": "jUL8WlxoDP8V"
      },
      "outputs": [],
      "source": [
        "import os\n",
        "import shutil\n",
        "import zipfile\n",
        "import tarfile\n",
        "import json\n",
        "from sklearn.model_selection import train_test_split\n",
        "import yaml\n",
        "import torch\n",
        "from multiprocessing import Pool\n",
        "import pandas as pd\n",
        "\n",
        "if os.path.exists('/content/sample_data'):\n",
        "    shutil.rmtree('/content/sample_data')"
      ]
    },
    {
      "cell_type": "markdown",
      "source": [
        "These files are required in the `Data_INF` folder:\n",
        "- data_label_All.tar.gz\n",
        "- inf_raw_classes_v1.0.json\n",
        "- matching_name_id_v1.0.xlsx"
      ],
      "metadata": {
        "id": "TMen5sA6LtLZ"
      }
    },
    {
      "cell_type": "code",
      "source": [
        "BASE_DIR = '/content/drive/MyDrive/fiber_optic_box_inspection'\n",
        "if not os.path.exists(BASE_DIR):\n",
        "    raise FileNotFoundError(f\"Base directory {BASE_DIR} not found. Check Google Drive mount.\")\n",
        "\n",
        "LOCAL_BASE_DIR = '/content'\n",
        "\n",
        "paths = {\n",
        "    'base_dir':                                   BASE_DIR,\n",
        "    'Data_INF':                                   os.path.join(BASE_DIR, 'Data_INF'),\n",
        "    'dataset_dir':                                os.path.join(BASE_DIR, 'dataset'),\n",
        "    'yolo_output_dir':                            os.path.join(BASE_DIR, 'runs_yolo'),\n",
        "}\n",
        "\n",
        "if not os.path.exists(paths['dataset_dir']):\n",
        "    os.makedirs(paths['dataset_dir'], exist_ok=True)\n",
        "\n",
        "paths['raw_classes'] =                            os.path.join(paths['Data_INF'], 'inf_raw_classes_v1.0.json')\n",
        "paths['new_raw_classes'] =                        os.path.join(paths['Data_INF'], 'inf_raw_classes_v1.0_new.json')\n",
        "paths['matching_name_id'] =                       os.path.join(paths['Data_INF'], 'matching_name_id_v1.0.xlsx')\n",
        "paths['data_label_compressed'] =                  os.path.join(paths['Data_INF'], 'data_label_ALL.tar.gz')\n",
        "\n",
        "paths['processed_data_label_compressed'] =        os.path.join(paths['dataset_dir'], 'data_label_ALL_processed.tar.gz')\n",
        "\n",
        "local_paths = {\n",
        "    'base_dir':                                   LOCAL_BASE_DIR,\n",
        "    'dataset_dir':                                os.path.join(LOCAL_BASE_DIR, 'dataset'),\n",
        "}\n",
        "\n",
        "if not os.path.exists(local_paths['dataset_dir']):\n",
        "    os.makedirs(local_paths['dataset_dir'], exist_ok=True)\n",
        "\n",
        "local_paths['data_label_dir'] =                   os.path.join(local_paths['dataset_dir'], 'data_label_v2_ALL')\n",
        "local_paths['label_files_backup_dir'] =           os.path.join(local_paths['dataset_dir'], 'label_files_backup') #todo labels_backup\n",
        "local_paths['processed_data_label_compressed'] =  os.path.join(local_paths['dataset_dir'], 'data_label_ALL_processed.tar.gz')\n",
        "\n",
        "local_paths['data'] =                             os.path.join(local_paths['dataset_dir'], 'data.yaml')\n",
        "local_paths['all_paths'] =                        os.path.join(local_paths['dataset_dir'], 'all.txt')\n",
        "local_paths['train_paths'] =                      os.path.join(local_paths['dataset_dir'], 'train.txt')\n",
        "local_paths['val_paths'] =                        os.path.join(local_paths['dataset_dir'], 'val.txt')\n",
        "local_paths['test_paths'] =                       os.path.join(local_paths['dataset_dir'], 'test.txt')\n",
        "local_paths['ids_from_label_files'] =             os.path.join(local_paths['dataset_dir'], 'ids_from_label_files_backup_dir.txt')"
      ],
      "metadata": {
        "id": "dTk0xkiZGWt2"
      },
      "execution_count": 5,
      "outputs": []
    },
    {
      "cell_type": "code",
      "source": [
        "# local_paths['images'] = os.path.join(local_paths['dataset_dir'], 'images')\n",
        "# local_paths['labels'] = os.path.join(local_paths['dataset_dir'], 'labels')\n",
        "\n",
        "# if not os.path.exists(local_paths['images']):\n",
        "#     os.makedirs(local_paths['images'], exist_ok=True)\n",
        "# if not os.path.exists(local_paths['labels']):\n",
        "#     os.makedirs(local_paths['labels'], exist_ok=True)"
      ],
      "metadata": {
        "id": "QRPOqCjYh8og"
      },
      "execution_count": 6,
      "outputs": []
    },
    {
      "cell_type": "code",
      "source": [
        "# # todo this needed where?\n",
        "# def read_image_paths(file_path):\n",
        "#     if os.path.exists(file_path):\n",
        "#         with open(file_path, \"r\") as f:\n",
        "#             return [line.strip() for line in f if line.strip()]\n",
        "#     return []\n",
        "\n",
        "# all_images = read_image_paths(paths['all_paths'])\n",
        "# train_images = read_image_paths(paths['train_paths'])\n",
        "# val_images = read_image_paths(paths['val_paths'])\n",
        "# test_images = read_image_paths(paths['test_paths'])"
      ],
      "metadata": {
        "id": "qPKCemwVeyF4",
        "collapsed": true
      },
      "execution_count": 7,
      "outputs": []
    },
    {
      "cell_type": "markdown",
      "source": [
        "## Get processed dataset"
      ],
      "metadata": {
        "id": "zExyX0dlWtXI"
      }
    },
    {
      "cell_type": "code",
      "source": [
        "shutil.copytree(paths['dataset_dir'], local_paths['dataset_dir'], dirs_exist_ok=True)"
      ],
      "metadata": {
        "colab": {
          "base_uri": "https://localhost:8080/",
          "height": 0
        },
        "id": "bCsUKNGDWvQc",
        "outputId": "0e644078-f317-4f18-b9fe-cb66d51d6561"
      },
      "execution_count": 8,
      "outputs": [
        {
          "output_type": "execute_result",
          "data": {
            "text/plain": [
              "'/content/dataset'"
            ],
            "application/vnd.google.colaboratory.intrinsic+json": {
              "type": "string"
            }
          },
          "metadata": {},
          "execution_count": 8
        }
      ]
    },
    {
      "cell_type": "code",
      "source": [
        "with tarfile.open(paths['processed_data_label_compressed'], 'r:gz') as tar_file:\n",
        "    tar_file.extractall(local_paths['dataset_dir'])\n",
        "    print(f\"Extracted {paths['processed_data_label_compressed']} to {local_paths['dataset_dir']}\")"
      ],
      "metadata": {
        "colab": {
          "base_uri": "https://localhost:8080/"
        },
        "id": "SxeSPEq0Xgly",
        "outputId": "c0f629f8-3660-4186-c123-86fb19e480d4"
      },
      "execution_count": 9,
      "outputs": [
        {
          "output_type": "stream",
          "name": "stdout",
          "text": [
            "Extracted /content/drive/MyDrive/fiber_optic_box_inspection/dataset/data_label_ALL_processed.tar.gz to /content/dataset\n"
          ]
        }
      ]
    },
    {
      "cell_type": "markdown",
      "source": [
        "## learn custom class names todo"
      ],
      "metadata": {
        "id": "JP6b4jrsFuRX"
      }
    },
    {
      "cell_type": "code",
      "source": [
        "# matching_name_id_df"
      ],
      "metadata": {
        "id": "UrHb_bZgYtql"
      },
      "execution_count": 10,
      "outputs": []
    },
    {
      "cell_type": "code",
      "source": [
        "# matching_name_id_df = pd.read_excel(paths['matching_name_id'], sheet_name=0)\n",
        "# matching_name_id = dict(zip(matching_name_id_df['Label ID'], matching_name_id_df['Tên Label']))\n",
        "# print(matching_name_id[1.0])"
      ],
      "metadata": {
        "id": "8dwaY8lHXt8l"
      },
      "execution_count": 11,
      "outputs": []
    },
    {
      "cell_type": "code",
      "source": [
        "# id_to_names = matching_name_id_df.groupby(matching_name_id_df['Label ID'].astype(int))['Tên Label'].apply(list).to_dict()\n",
        "\n",
        "# def find_names_by_id(integer_part):\n",
        "#     return id_to_names.get(int(integer_part), [\"ID not found\"])\n",
        "\n",
        "# integer_part = 0\n",
        "# names = find_names_by_id(integer_part)\n",
        "# print(f\"Names for IDs with integer part {integer_part}: {names}\")"
      ],
      "metadata": {
        "id": "qZ-ADDpwjtjw"
      },
      "execution_count": 12,
      "outputs": []
    },
    {
      "cell_type": "code",
      "source": [
        "# id_to_names"
      ],
      "metadata": {
        "id": "1SjD70UaxZno",
        "collapsed": true
      },
      "execution_count": 13,
      "outputs": []
    },
    {
      "cell_type": "markdown",
      "source": [
        "# Data Preparation (Run once per lifetime)"
      ],
      "metadata": {
        "id": "nOLYLV50YB0u"
      }
    },
    {
      "cell_type": "markdown",
      "source": [
        "## Extract compressed dataset to VM"
      ],
      "metadata": {
        "id": "UFOgOFF7YWfQ"
      }
    },
    {
      "cell_type": "markdown",
      "source": [
        "The compressed dataset is located on GDrive. We extract the file directly from GDrive to VM's storage"
      ],
      "metadata": {
        "id": "0T501u29Qefh"
      }
    },
    {
      "cell_type": "code",
      "source": [
        "shutil.rmtree(local_paths['data_label_dir'])"
      ],
      "metadata": {
        "id": "uhK1jhConzK4"
      },
      "execution_count": null,
      "outputs": []
    },
    {
      "cell_type": "code",
      "source": [
        "with tarfile.open(paths['data_label_compressed'], 'r:gz') as tar_file:\n",
        "    tar_file.extractall(local_paths['dataset_dir'])\n",
        "    print(f\"Extracted {paths['data_label_compressed']} to {local_paths['dataset_dir']}\")"
      ],
      "metadata": {
        "colab": {
          "base_uri": "https://localhost:8080/"
        },
        "id": "FcKKRx8M8LAi",
        "outputId": "b0043625-da7d-4e83-bb4d-32bc3632329d"
      },
      "execution_count": null,
      "outputs": [
        {
          "output_type": "stream",
          "name": "stdout",
          "text": [
            "Extracted /content/drive/MyDrive/fiber_optic_box_inspection/Data_INF/data_label_ALL.tar.gz to /content/dataset\n"
          ]
        }
      ]
    },
    {
      "cell_type": "code",
      "source": [
        "for root, dirs, files in os.walk(local_paths['data_label_dir']):\n",
        "    print(len(files))"
      ],
      "metadata": {
        "colab": {
          "base_uri": "https://localhost:8080/"
        },
        "id": "sazMQlxtefiY",
        "outputId": "5fbf2469-c225-49e4-fd24-ebaa079cdd8a"
      },
      "execution_count": null,
      "outputs": [
        {
          "output_type": "stream",
          "name": "stdout",
          "text": [
            "22452\n"
          ]
        }
      ]
    },
    {
      "cell_type": "markdown",
      "source": [
        "## Split dataset & save dataset division"
      ],
      "metadata": {
        "id": "ExZDAV-LYa5Q"
      }
    },
    {
      "cell_type": "code",
      "execution_count": null,
      "metadata": {
        "id": "8v0sSNCiZjmD"
      },
      "outputs": [],
      "source": [
        "train_ratio = 0.7\n",
        "val_ratio = 0.15\n",
        "test_ratio = 0.15\n",
        "\n",
        "all_images = [os.path.join(local_paths['data_label_dir'], f) for f in os.listdir(local_paths['data_label_dir']) if f.endswith('.jpg')]\n",
        "\n",
        "train_images, temp_images = train_test_split(all_images, train_size=train_ratio, random_state=42)\n",
        "val_images, test_images = train_test_split(temp_images, train_size=(val_ratio / (val_ratio + test_ratio)), random_state=42)"
      ]
    },
    {
      "cell_type": "code",
      "source": [
        "with open(local_paths['all_paths'], 'w') as f:\n",
        "    for img in all_images:\n",
        "        f.write(f\"{img}\\n\")\n",
        "\n",
        "with open(local_paths['train_paths'], 'w') as f:\n",
        "    for img in train_images:\n",
        "        f.write(f\"{img}\\n\")\n",
        "\n",
        "with open(local_paths['val_paths'], 'w') as f:\n",
        "    for img in val_images:\n",
        "        f.write(f\"{img}\\n\")\n",
        "\n",
        "with open(local_paths['test_paths'], 'w') as f:\n",
        "    for img in test_images:\n",
        "        f.write(f\"{img}\\n\")"
      ],
      "metadata": {
        "id": "PIMyq_6BbLwA"
      },
      "execution_count": null,
      "outputs": []
    },
    {
      "cell_type": "markdown",
      "source": [
        "## Inspect class ids from label files and json"
      ],
      "metadata": {
        "id": "MqykX7ncdZgT"
      }
    },
    {
      "cell_type": "markdown",
      "source": [
        "### Get class ids from json"
      ],
      "metadata": {
        "id": "sm7ZkBG8WSW3"
      }
    },
    {
      "cell_type": "code",
      "source": [
        "with open(paths['raw_classes'], 'r') as f:\n",
        "    class_dict = json.load(f)\n",
        "print(\"Class dictionary from JSON:\", class_dict)\n",
        "\n",
        "class_ids_from_json = set(sorted([int(k) for k in class_dict.keys()]))"
      ],
      "metadata": {
        "colab": {
          "base_uri": "https://localhost:8080/"
        },
        "id": "hgHpJ7khWSrE",
        "outputId": "9cbdd3bb-d8b7-45c7-8187-cad257c8b713"
      },
      "execution_count": null,
      "outputs": [
        {
          "output_type": "stream",
          "name": "stdout",
          "text": [
            "Class dictionary from JSON: {'0': '1.0', '1': '1.1', '2': '1.2', '4': '1.7', '7': '2.0', '8': '2.1', '9': '2.3', '10': '3.0', '11': '3.1', '12': '4.0', '13': '4.1', '14': '5.0', '15': '5.1', '16': '6.0', '17': '6.1', '18': '7.0', '19': '7.1', '20': '7.2', '21': '7.3', '23': '7.7', '24': '8.0', '25': '8.3', '27': '8.5', '28': '9.0', '30': '9.4', '32': '10.0', '33': '10.1', '34': '11.0', '35': '11.1', '36': '13.0', '37': '13.1', '38': '13.2', '41': '14.0', '42': '14.1', '43': '14.2', '44': '14.3', '45': '15.0', '46': '15.1', '47': '15.4', '50': '17.0', '51': '17.1', '52': '18.0', '53': '18.1', '54': '19.0', '55': '19.1', '56': '19.2', '57': '19.3', '58': '19.4', '59': '19.5', '60': '20.0', '61': '20.1', '62': '20.2', '63': '20.3', '67': '23.0', '68': '23.1', '69': '23.2', '70': '24.0', '71': '24.1', '72': '24.3', '73': '26.0', '74': '26.1', '75': '27.0', '76': '27.1', '77': '28.0', '78': '28.3', '80': '29.0', '81': '29.1', '82': '29.2', '83': '29.4', '84': '30.0', '85': '30.1', '86': '32.0', '87': '32.1', '88': '32.2', '93': '35.0', '94': '35.1', '97': '37.0', '98': '37.1', '99': '37.3', '100': '37.4', '101': '38.0', '102': '38.1', '103': '39.0', '104': '39.1', '105': '40.0', '106': '40.1', '107': '40.2', '108': '41.0', '109': '41.1', '110': '41.2', '111': '42.0', '112': '42.1', '113': '43.0', '114': '43.1', '115': '44.0', '116': '44.1', '117': '44.2', '118': '45.0', '119': '45.1', '120': '45.2', '122': '46.0', '123': '46.1', '124': '46.3', '125': '46.4', '126': '47.0', '127': '47.1', '128': '47.3', '129': '48.0', '130': '48.2', '131': '49.0', '132': '49.3', '133': '49.4', '134': '50.0', '135': '50.1', '136': '50.2', '137': '51.0', '138': '51.2', '139': '51.3', '140': '52.0', '141': '52.3', '142': '52.5', '143': '53.0', '144': '53.4', '145': '53.5', '146': '54.0', '147': '54.4', '148': '54.5', '149': '55.0', '150': '55.4', '151': '55.5', '152': '56.0', '153': '56.1', '154': '56.2', '155': '56.4', '156': '57.0', '157': '57.1', '158': '57.2', '159': '58.0', '160': '58.1', '161': '58.2', '162': '59.0', '163': '59.1', '164': '59.2', '165': '59.3', '166': '60.0', '167': '60.1', '168': '60.3', '169': '61.0', '170': '61.1', '171': '61.2', '172': '61.4'}\n"
          ]
        }
      ]
    },
    {
      "cell_type": "markdown",
      "source": [
        "### Backup ids from label files before removal"
      ],
      "metadata": {
        "id": "UUsdV2gVvGQ5"
      }
    },
    {
      "cell_type": "code",
      "source": [
        "def get_class_ids_from_label_file(label_file):\n",
        "    class_ids = set()\n",
        "    msg = None\n",
        "    try:\n",
        "        ids = set()\n",
        "        with open(label_file, 'r') as f:\n",
        "            for line in f:\n",
        "                if line.strip():\n",
        "                    id = line.strip().split()[0]\n",
        "                    ids.add(id)\n",
        "        msg = f'Ids in {label_file}: {ids}'\n",
        "        class_ids.update(ids)\n",
        "    except Exception as e:\n",
        "        msg = f'Error processing {label_file}: {e}'\n",
        "    return class_ids, msg\n",
        "\n",
        "def get_class_ids_from_label_files(label_dir):\n",
        "    label_files = [os.path.join(label_dir, f) for f in os.listdir(label_dir) if f.endswith('.txt')]\n",
        "    with Pool() as pool:\n",
        "        results = pool.map(get_class_ids_from_label_file, label_files)\n",
        "    class_ids, msgs = zip(*results)\n",
        "    class_ids = set().union(*class_ids)\n",
        "\n",
        "    with open(local_paths['ids_from_label_files'], 'w') as f:\n",
        "        f.write(str(len(msgs)) + '\\n')\n",
        "        for msg in msgs:\n",
        "            f.write(f'{msg}\\n')\n",
        "\n",
        "    return set(sorted([int(id) for id in class_ids]))"
      ],
      "metadata": {
        "id": "Bgay89efgJfj"
      },
      "execution_count": null,
      "outputs": []
    },
    {
      "cell_type": "code",
      "source": [
        "class_ids_from_label_files = get_class_ids_from_label_files(local_paths['data_label_dir'])"
      ],
      "metadata": {
        "id": "99v5vQ00kY4V",
        "collapsed": true
      },
      "execution_count": null,
      "outputs": []
    },
    {
      "cell_type": "markdown",
      "source": [
        "### Get class ids differences"
      ],
      "metadata": {
        "id": "T5zUzImvv8Py"
      }
    },
    {
      "cell_type": "code",
      "source": [
        "class_ids = class_ids_from_json & class_ids_from_label_files\n",
        "class_ids_from_label_files_not_in_json = class_ids_from_label_files - class_ids\n",
        "class_ids_from_json_not_in_label_files = class_ids_from_json - class_ids"
      ],
      "metadata": {
        "id": "k_Ys1Whd7JaT"
      },
      "execution_count": null,
      "outputs": []
    },
    {
      "cell_type": "code",
      "source": [
        "print(f'Class IDs from json (count: {len(class_ids_from_json)}):                                          \\n\\t {class_ids_from_json}')\n",
        "print(f'Class IDs from label files (count: {len(class_ids_from_label_files)}):                            \\n\\t {class_ids_from_label_files}')\n",
        "print(f'Class Ids from label files but not in json (count: {len(class_ids_from_label_files_not_in_json)}):\\n\\t {class_ids_from_label_files_not_in_json}')\n",
        "print(f'Class Ids from json but not in label files (count: {len(class_ids_from_json_not_in_label_files)}):\\n\\t {class_ids_from_json_not_in_label_files}')"
      ],
      "metadata": {
        "colab": {
          "base_uri": "https://localhost:8080/"
        },
        "id": "GrHlAEZ27JUw",
        "outputId": "18837143-ad73-4511-c59a-07d93dc6fa6d"
      },
      "execution_count": null,
      "outputs": [
        {
          "output_type": "stream",
          "name": "stdout",
          "text": [
            "Class IDs from json (count: 151):                                          \n",
            "\t {0, 1, 2, 4, 7, 8, 9, 10, 11, 12, 13, 14, 15, 16, 17, 18, 19, 20, 21, 23, 24, 25, 27, 28, 30, 32, 33, 34, 35, 36, 37, 38, 41, 42, 43, 44, 45, 46, 47, 50, 51, 52, 53, 54, 55, 56, 57, 58, 59, 60, 61, 62, 63, 67, 68, 69, 70, 71, 72, 73, 74, 75, 76, 77, 78, 80, 81, 82, 83, 84, 85, 86, 87, 88, 93, 94, 97, 98, 99, 100, 101, 102, 103, 104, 105, 106, 107, 108, 109, 110, 111, 112, 113, 114, 115, 116, 117, 118, 119, 120, 122, 123, 124, 125, 126, 127, 128, 129, 130, 131, 132, 133, 134, 135, 136, 137, 138, 139, 140, 141, 142, 143, 144, 145, 146, 147, 148, 149, 150, 151, 152, 153, 154, 155, 156, 157, 158, 159, 160, 161, 162, 163, 164, 165, 166, 167, 168, 169, 170, 171, 172}\n",
            "Class IDs from label files (count: 150):                            \n",
            "\t {0, 1, 2, 3, 4, 7, 9, 10, 11, 14, 15, 16, 17, 18, 19, 20, 21, 22, 23, 24, 25, 26, 27, 28, 29, 30, 32, 33, 34, 35, 36, 37, 38, 39, 41, 42, 43, 44, 54, 55, 56, 57, 58, 60, 61, 62, 63, 67, 68, 69, 70, 71, 72, 73, 74, 75, 76, 77, 80, 81, 82, 83, 84, 85, 86, 87, 88, 89, 90, 91, 92, 93, 94, 95, 97, 98, 99, 100, 101, 102, 103, 104, 105, 106, 107, 108, 109, 110, 111, 112, 113, 114, 115, 116, 117, 118, 119, 120, 121, 122, 123, 124, 125, 126, 127, 128, 129, 130, 131, 132, 133, 134, 135, 136, 137, 138, 139, 140, 141, 142, 143, 144, 145, 146, 147, 148, 149, 150, 151, 152, 153, 154, 155, 156, 157, 158, 159, 160, 161, 162, 163, 164, 165, 166, 167, 168, 169, 170, 171, 172}\n",
            "Class Ids from label files but not in json (count: 11):\n",
            "\t {121, 3, 90, 39, 22, 89, 26, 91, 92, 29, 95}\n",
            "Class Ids from json but not in label files (count: 12):\n",
            "\t {8, 12, 45, 13, 46, 47, 78, 50, 51, 52, 53, 59}\n"
          ]
        }
      ]
    },
    {
      "cell_type": "markdown",
      "source": [
        "### From label files, remove labels that their ids does not appear in json"
      ],
      "metadata": {
        "id": "ITmhQRtkt0pO"
      }
    },
    {
      "cell_type": "code",
      "source": [
        "def process_label_file(args):\n",
        "    label_file, label_dir, backup_dir, class_ids_to_remove = args\n",
        "    filename = os.path.basename(label_file)\n",
        "    try:\n",
        "        with open(label_file, 'r') as f:\n",
        "            lines = f.readlines()\n",
        "\n",
        "        lines_kept = [\n",
        "            line for line in lines\n",
        "            if line.strip() and line.strip().split()[0] not in class_ids_to_remove\n",
        "        ]\n",
        "\n",
        "        lines_removed = len(lines) - len(lines_kept)\n",
        "\n",
        "        if lines_removed <= 0:\n",
        "            return\n",
        "\n",
        "        backup_file = os.path.join(backup_dir, filename)\n",
        "        shutil.copy(label_file, backup_file)\n",
        "        with open(label_file, 'w') as f:\n",
        "            f.writelines(lines_kept)\n",
        "\n",
        "        return f\"Processed {filename}: {lines_removed} lines removed, original backed up\"\n",
        "    except Exception as e:\n",
        "        return f\"Error processing {filename}: {e}\"\n",
        "\n",
        "def process_label_files(label_dir, backup_dir, class_ids_to_remove):\n",
        "    class_ids_to_remove = [str(id) for id in class_ids_to_remove]\n",
        "\n",
        "    all_labels = [\n",
        "        os.path.join(label_dir, f) for f in os.listdir(label_dir)\n",
        "        if f.endswith('.txt')\n",
        "    ]\n",
        "\n",
        "    args = [(f, label_dir, backup_dir, class_ids_to_remove) for f in all_labels]\n",
        "\n",
        "    with Pool() as pool:\n",
        "        results = pool.map(process_label_file, args)\n",
        "\n",
        "    for result in results:\n",
        "        if result:\n",
        "            print(result)\n",
        "\n",
        "    return len(all_labels)"
      ],
      "metadata": {
        "id": "znrN5ksi1PX9"
      },
      "execution_count": null,
      "outputs": []
    },
    {
      "cell_type": "code",
      "source": [
        "if not os.path.exists(local_paths['label_files_backup_dir']):\n",
        "    os.makedirs(local_paths['label_files_backup_dir'])\n",
        "\n",
        "num_files_processed = process_label_files(\n",
        "    label_dir=local_paths['data_label_dir'],\n",
        "    backup_dir=local_paths['label_files_backup_dir'],\n",
        "    class_ids_to_remove=class_ids_from_label_files_not_in_json\n",
        ")\n",
        "print(f\"Total files processed: {num_files_processed}\")"
      ],
      "metadata": {
        "colab": {
          "base_uri": "https://localhost:8080/"
        },
        "collapsed": true,
        "id": "2hfKjXiMmrZY",
        "outputId": "98165925-d72d-4267-a152-6d2d82b6ac37"
      },
      "execution_count": null,
      "outputs": [
        {
          "output_type": "stream",
          "name": "stdout",
          "text": [
            "Processed 2022_11_03_08_42_50-DNIP106463HO.txt: 1 lines removed, original backed up\n",
            "Processed 2022_11_15_16_13_30-HNIP297028HO.txt: 2 lines removed, original backed up\n",
            "Processed 2022_11_14_08_53_27-KTMP021131HO.txt: 1 lines removed, original backed up\n",
            "Processed 2022_11_19_11_13_47-DNGP128199HO.txt: 1 lines removed, original backed up\n",
            "Processed 2022_11_09_16_22_25-HNIP386031HO.txt: 1 lines removed, original backed up\n",
            "Processed 2022_11_17_10_35_33-LDGP039070HO.txt: 1 lines removed, original backed up\n",
            "Processed 2022_11_05_08_39_39-QNIP028100HO.txt: 1 lines removed, original backed up\n",
            "Processed 2022_11_02_14_39_28-GLIP032281HO.txt: 1 lines removed, original backed up\n",
            "Processed 2022_11_14_09_26_25-LANP020052HO.txt: 1 lines removed, original backed up\n",
            "Processed 2022_11_19_16_47_34-TGGP031212HO.txt: 1 lines removed, original backed up\n",
            "Processed 2022_11_01_15_36_53-CTOP020125HO.txt: 1 lines removed, original backed up\n",
            "Processed 2022_11_02_09_20_19-GLIP035003HO.txt: 1 lines removed, original backed up\n",
            "Processed 2022_11_18_14_22_54-STGP031069HO.txt: 1 lines removed, original backed up\n",
            "Processed 2022_11_15_11_53_26-AGGP053177HO.txt: 1 lines removed, original backed up\n",
            "Processed 2022_11_11_15_18_39-KGGP003345HO.txt: 1 lines removed, original backed up\n",
            "Processed 2022_11_02_15_43_58-KTMP007312HO.txt: 1 lines removed, original backed up\n",
            "Processed 2022_11_08_14_22_58-HNIP726069HO.txt: 2 lines removed, original backed up\n",
            "Processed 2022_11_07_09_35_14-KTMP007349HO.txt: 1 lines removed, original backed up\n",
            "Processed 2022_11_03_10_01_14-DLKP035065HO.txt: 1 lines removed, original backed up\n",
            "Processed 2022_11_02_09_53_07-QNIP022103HO.txt: 1 lines removed, original backed up\n",
            "Processed 2022_11_10_09_36_02-AGGP054262HO.txt: 1 lines removed, original backed up\n",
            "Processed 2022_11_14_08_33_39-LANP012432HO.txt: 1 lines removed, original backed up\n",
            "Processed 2022_11_23_09_48_23-QNHP052294HO.txt: 1 lines removed, original backed up\n",
            "Processed 2022_11_17_15_48_08-HGGP017475HO.txt: 1 lines removed, original backed up\n",
            "Processed 2022_11_07_10_40_43-AGGP018273HO.txt: 1 lines removed, original backed up\n",
            "Processed 2022_11_12_15_53_59-GLIP015218HO.txt: 1 lines removed, original backed up\n",
            "Processed 2022_11_09_10_46_01-GLIP025244HO.txt: 1 lines removed, original backed up\n",
            "Processed 2022_11_10_09_03_18-BGGP040241HO.txt: 1 lines removed, original backed up\n",
            "Processed 2022_11_08_16_00_40-HNIP456026HO.txt: 2 lines removed, original backed up\n",
            "Processed 2022_12_09_08_28_58-TBHP014190HO.txt: 1 lines removed, original backed up\n",
            "Processed 2022_11_03_15_58_07-DLKP035081HO.txt: 1 lines removed, original backed up\n",
            "Processed 2022_11_07_10_24_37-AGGP018113HO.txt: 1 lines removed, original backed up\n",
            "Processed 2022_11_03_10_18_25-DLKP035064HO.txt: 1 lines removed, original backed up\n",
            "Processed 2022_11_19_15_25_54-DNGP128207HO.txt: 1 lines removed, original backed up\n",
            "Processed 2022_11_03_09_51_22-DLKP035069HO.txt: 1 lines removed, original backed up\n",
            "Processed 2022_11_17_16_33_04-LDGP039083HO.txt: 1 lines removed, original backed up\n",
            "Processed 2022_11_01_10_30_26-LANP012470HO.txt: 1 lines removed, original backed up\n",
            "Processed 2022_11_10_09_20_40-AGGP054264HO.txt: 1 lines removed, original backed up\n",
            "Processed 2022_11_09_14_18_34-AGGP054270HO.txt: 1 lines removed, original backed up\n",
            "Processed 2022_11_02_16_10_07-DTPP007225HO.txt: 1 lines removed, original backed up\n",
            "Processed 2022_11_07_10_58_09-AGGP018171HO.txt: 1 lines removed, original backed up\n",
            "Processed 2022_11_16_16_10_33-LANP029176HO.txt: 1 lines removed, original backed up\n",
            "Processed 2022_11_04_12_05_53-GLIP041215HO.txt: 1 lines removed, original backed up\n",
            "Processed 2022_11_01_13_58_32-QTIP021003HO.txt: 1 lines removed, original backed up\n",
            "Processed 2022_11_09_14_12_54-AGGP054270HO.txt: 1 lines removed, original backed up\n",
            "Processed 2022_10_27_11_45_38-STGP030006HO.txt: 1 lines removed, original backed up\n",
            "Processed 2022_11_19_10_49_49-DTPP025112HO.txt: 1 lines removed, original backed up\n",
            "Processed 2022_10_28_16_40_16-QNMP001083HO.txt: 1 lines removed, original backed up\n",
            "Processed 2022_11_09_11_07_34-STGP030092HO.txt: 1 lines removed, original backed up\n",
            "Processed 2022_11_07_11_12_13-STGP019208HO.txt: 1 lines removed, original backed up\n",
            "Processed 2022_12_30_16_14_42-HYNP038054HO.txt: 1 lines removed, original backed up\n",
            "Processed 2022_11_11_10_06_38-AGGP052204HO.txt: 1 lines removed, original backed up\n",
            "Processed 2022_11_16_15_55_16-LANP029180HO.txt: 1 lines removed, original backed up\n",
            "Processed 2022_11_07_10_39_43-AGGP018273HO.txt: 1 lines removed, original backed up\n",
            "Processed 2022_10_28_09_20_59-QNIP027002HO.txt: 1 lines removed, original backed up\n",
            "Processed 2022_11_16_10_56_26-GLIP038182HO.txt: 1 lines removed, original backed up\n",
            "Processed 2022_11_19_10_42_11-DNGP128193HO.txt: 1 lines removed, original backed up\n",
            "Processed 2022_11_26_14_49_03-QNHP056146HO.txt: 1 lines removed, original backed up\n",
            "Processed 2022_11_15_10_24_47-LANP012412HO.txt: 1 lines removed, original backed up\n",
            "Processed 2022_11_19_10_57_56-BPCP008014HO.txt: 1 lines removed, original backed up\n",
            "Processed 2022_11_08_14_33_23-TNHP007376HO.txt: 2 lines removed, original backed up\n",
            "Processed 2022_11_24_10_48_38-CBGP005131HO.txt: 1 lines removed, original backed up\n",
            "Processed 2022_11_07_09_50_45-KTMP021169HO.txt: 1 lines removed, original backed up\n",
            "Processed 2022_11_17_11_01_06-GLIP038272HO.txt: 1 lines removed, original backed up\n",
            "Processed 2022_11_08_15_56_10-STGP028308HO.txt: 1 lines removed, original backed up\n",
            "Processed 2022_11_15_10_20_59-BPCP001520HO.txt: 1 lines removed, original backed up\n",
            "Processed 2022_11_17_11_20_22-DNGP052023HO.txt: 1 lines removed, original backed up\n",
            "Processed 2022_11_17_08_57_05-GLIP038198HO.txt: 1 lines removed, original backed up\n",
            "Processed 2022_11_24_11_17_19-YBIP008171HO.txt: 2 lines removed, original backed up\n",
            "Processed 2022_10_27_14_54_44-AGGP018102HO.txt: 1 lines removed, original backed up\n",
            "Processed 2022_11_14_13_38_23-BLUP009251HO.txt: 1 lines removed, original backed up\n",
            "Processed 2022_10_27_10_35_27-AGGP044199HO.txt: 1 lines removed, original backed up\n",
            "Processed 2022_11_19_11_19_42-BPCP008009HO.txt: 1 lines removed, original backed up\n",
            "Processed 2022_11_04_15_46_16-DLKP035073HO.txt: 1 lines removed, original backed up\n",
            "Processed 2022_11_19_08_53_38-DNIP106460HO.txt: 1 lines removed, original backed up\n",
            "Processed 2022_11_10_10_33_34-AGGP052224HO.txt: 1 lines removed, original backed up\n",
            "Processed 2022_12_09_09_57_17-HDGP004064HO.txt: 1 lines removed, original backed up\n",
            "Processed 2022_11_19_10_41_12-DNGP128193HO.txt: 1 lines removed, original backed up\n",
            "Processed 2022_11_07_11_23_26-HNIP614032HO.txt: 1 lines removed, original backed up\n",
            "Processed 2022_11_16_15_37_43-GLIP038158HO.txt: 1 lines removed, original backed up\n",
            "Processed 2022_11_15_09_42_56-LANP029340HO.txt: 1 lines removed, original backed up\n",
            "Processed 2022_10_28_10_57_35-AGGP045009HO.txt: 1 lines removed, original backed up\n",
            "Processed 2022_11_02_17_05_48-STGP030018HO.txt: 1 lines removed, original backed up\n",
            "Processed 2022_11_09_16_44_31-KTMP007325HO.txt: 1 lines removed, original backed up\n",
            "Processed 2022_11_09_11_22_27-AGGP053194HO.txt: 1 lines removed, original backed up\n",
            "Processed 2022_11_09_17_01_29-KTMP007310HO.txt: 1 lines removed, original backed up\n",
            "Processed 2022_11_06_14_12_38-STGP030016HO.txt: 1 lines removed, original backed up\n",
            "Processed 2022_10_27_10_32_07-AGGP045231HO.txt: 1 lines removed, original backed up\n",
            "Processed 2022_11_07_11_56_28-AGGP018204HO.txt: 1 lines removed, original backed up\n",
            "Processed 2022_11_18_10_24_51-DNGP052251HO.txt: 1 lines removed, original backed up\n",
            "Processed 2022_10_28_10_38_17-AGGP045016HO.txt: 1 lines removed, original backed up\n",
            "Processed 2022_11_14_09_33_01-LANP020052HO.txt: 1 lines removed, original backed up\n",
            "Processed 2022_11_16_10_03_56-TBHP012022HO.txt: 1 lines removed, original backed up\n",
            "Processed 2022_11_02_16_38_25-KTMP007315HO.txt: 1 lines removed, original backed up\n",
            "Processed 2022_11_11_14_38_35-LDGP029038HO.txt: 1 lines removed, original backed up\n",
            "Processed 2022_11_09_10_36_36-STGP030050HO.txt: 1 lines removed, original backed up\n",
            "Processed 2022_11_01_15_11_35-DLKP035003HO.txt: 1 lines removed, original backed up\n",
            "Processed 2022_10_28_09_06_58-KTMP007346HO.txt: 1 lines removed, original backed up\n",
            "Processed 2022_11_16_14_57_18-BPCP002390HO.txt: 1 lines removed, original backed up\n",
            "Processed 2022_11_07_11_02_48-LANP026128HO.txt: 1 lines removed, original backed up\n",
            "Processed 2022_11_10_16_54_19-BLUP012019HO.txt: 1 lines removed, original backed up\n",
            "Processed 2022_11_15_14_06_46-AGGP018094HO.txt: 1 lines removed, original backed up\n",
            "Processed 2022_11_07_10_28_42-STGP019038HO.txt: 1 lines removed, original backed up\n",
            "Processed 2022_11_08_16_03_43-STGP028303HO.txt: 1 lines removed, original backed up\n",
            "Processed 2022_11_12_09_25_48-LANP029285HU.txt: 1 lines removed, original backed up\n",
            "Processed 2022_11_03_10_07_44-DLKP035066HO.txt: 1 lines removed, original backed up\n",
            "Processed 2022_11_09_10_20_26-STGP030062HO.txt: 1 lines removed, original backed up\n",
            "Processed 2022_11_07_11_23_04-STGP019206HO.txt: 1 lines removed, original backed up\n",
            "Processed 2022_10_28_14_34_48-QNIP027006HO.txt: 1 lines removed, original backed up\n",
            "Processed 2022_11_02_16_59_35-GLIP032273HO.txt: 1 lines removed, original backed up\n",
            "Processed 2022_11_15_09_26_44-LANP029286HO.txt: 1 lines removed, original backed up\n",
            "Processed 2022_11_15_14_38_20-AGGP018094HO.txt: 1 lines removed, original backed up\n",
            "Processed 2022_11_04_10_49_44-DLKP035120HO.txt: 1 lines removed, original backed up\n",
            "Processed 2022_11_11_09_49_01-AGGP052205HO.txt: 1 lines removed, original backed up\n",
            "Processed 2022_11_07_09_33_04-KTMP021168HO.txt: 1 lines removed, original backed up\n",
            "Processed 2022_11_09_07_55_41-TNHP007376HO.txt: 2 lines removed, original backed up\n",
            "Processed 2022_10_27_10_51_13-AGGP045231HO.txt: 1 lines removed, original backed up\n",
            "Processed 2022_10_27_14_51_45-AGGP018102HO.txt: 1 lines removed, original backed up\n",
            "Processed 2022_11_18_15_32_37-HGGP020074HO.txt: 1 lines removed, original backed up\n",
            "Processed 2022_11_11_15_27_35-HNIP475422HO.txt: 1 lines removed, original backed up\n",
            "Processed 2022_11_18_10_38_10-KTMP021137HO.txt: 1 lines removed, original backed up\n",
            "Processed 2022_11_02_16_36_21-STGP030042HO.txt: 1 lines removed, original backed up\n",
            "Processed 2022_11_09_11_01_01-TNHP036130HO.txt: 3 lines removed, original backed up\n",
            "Processed 2022_11_07_10_26_18-KTMP021163HO.txt: 1 lines removed, original backed up\n",
            "Processed 2022_11_11_16_09_03-BRUP046356HO.txt: 1 lines removed, original backed up\n",
            "Processed 2022_11_07_12_03_37-AGGP018204HO.txt: 1 lines removed, original backed up\n",
            "Processed 2022_11_08_10_36_37-KTMP021158HO.txt: 1 lines removed, original backed up\n",
            "Processed 2022_11_15_10_17_34-BPCP002373HO.txt: 1 lines removed, original backed up\n",
            "Processed 2022_11_02_17_35_04-GLIP032277HO.txt: 1 lines removed, original backed up\n",
            "Processed 2022_11_10_11_14_50-DNIP094148HO.txt: 1 lines removed, original backed up\n",
            "Processed 2022_11_18_11_36_22-BPCP008021HO.txt: 3 lines removed, original backed up\n",
            "Processed 2022_11_09_14_52_41-GLIP025116HO.txt: 1 lines removed, original backed up\n",
            "Processed 2022_11_14_11_11_00-CTOP036437HO.txt: 1 lines removed, original backed up\n",
            "Processed 2022_11_14_16_22_42-HNIP206574HO.txt: 2 lines removed, original backed up\n",
            "Processed 2022_11_15_11_10_30-BPCP001518HO.txt: 1 lines removed, original backed up\n",
            "Processed 2022_11_03_16_50_20-GLIP025206HO.txt: 1 lines removed, original backed up\n",
            "Processed 2022_11_01_10_08_08-LANP012473HO.txt: 2 lines removed, original backed up\n",
            "Processed 2022_11_11_11_06_05-DNIP109300HO.txt: 1 lines removed, original backed up\n",
            "Processed 2022_11_18_09_57_09-HPGP061140HO.txt: 2 lines removed, original backed up\n",
            "Processed 2022_11_18_11_31_55-HGGP017492HO.txt: 1 lines removed, original backed up\n",
            "Processed 2022_11_09_09_38_25-HNIP204131HO.txt: 2 lines removed, original backed up\n",
            "Processed 2022_11_02_09_15_31-GLIP035003HO.txt: 1 lines removed, original backed up\n",
            "Processed 2022_10_28_10_33_59-KTMP007341HO.txt: 1 lines removed, original backed up\n",
            "Processed 2022_11_07_15_24_22-DTPP007173HO.txt: 1 lines removed, original backed up\n",
            "Processed 2022_12_09_14_32_32-TBHP025068HO.txt: 2 lines removed, original backed up\n",
            "Processed 2022_11_07_11_41_28-AGGP018272HO.txt: 1 lines removed, original backed up\n",
            "Processed 2022_11_16_15_14_09-GLIP038159HO.txt: 1 lines removed, original backed up\n",
            "Processed 2022_10_27_11_04_52-AGGP018101HO.txt: 1 lines removed, original backed up\n",
            "Processed 2022_11_17_10_27_26-HGGP004113HO.txt: 1 lines removed, original backed up\n",
            "Processed 2022_11_05_07_12_19-STGP030041HO.txt: 1 lines removed, original backed up\n",
            "Processed 2022_11_07_14_22_03-GLIP015215HO.txt: 1 lines removed, original backed up\n",
            "Processed 2022_10_27_11_37_56-STGP030006HO.txt: 1 lines removed, original backed up\n",
            "Processed 2022_11_02_14_52_10-GLIP032281HO.txt: 1 lines removed, original backed up\n",
            "Processed 2022_11_07_13_02_42-STGP029059HO.txt: 1 lines removed, original backed up\n",
            "Processed 2022_11_16_16_16_32-BPCP002364HO.txt: 1 lines removed, original backed up\n",
            "Processed 2022_10_31_09_49_23-AGGP045015HO.txt: 1 lines removed, original backed up\n",
            "Processed 2022_11_17_08_04_49-LDGP039032HO.txt: 1 lines removed, original backed up\n",
            "Processed 2022_11_17_15_35_56-HGGP017481HO.txt: 1 lines removed, original backed up\n",
            "Processed 2022_11_15_14_03_00-AGGP018094HO.txt: 1 lines removed, original backed up\n",
            "Processed 2022_11_17_16_25_59-LDGP039084HO.txt: 1 lines removed, original backed up\n",
            "Processed 2022_11_16_15_16_02-BPCP002389HO.txt: 1 lines removed, original backed up\n",
            "Processed 2022_11_07_14_15_17-GLIP015215HO.txt: 1 lines removed, original backed up\n",
            "Processed 2022_11_17_08_55_13-GLIP038198HO.txt: 1 lines removed, original backed up\n",
            "Processed 2022_11_07_11_37_01-STGP019232HO.txt: 1 lines removed, original backed up\n",
            "Processed 2022_11_15_15_58_06-GLIP036077HO.txt: 1 lines removed, original backed up\n",
            "Processed 2022_11_07_10_43_23-AGGP018273HO.txt: 1 lines removed, original backed up\n",
            "Processed 2022_11_04_14_06_42-NTGP066277HO.txt: 1 lines removed, original backed up\n",
            "Processed 2022_11_04_10_28_38-KTMP021165HO.txt: 1 lines removed, original backed up\n",
            "Processed 2022_11_16_11_57_38-HGGP014205HO.txt: 1 lines removed, original backed up\n",
            "Processed 2022_11_02_14_35_01-DLKP035042HO.txt: 1 lines removed, original backed up\n",
            "Processed 2022_11_02_10_41_23-AGGP045003HO.txt: 1 lines removed, original backed up\n",
            "Processed 2022_11_04_08_35_30-QNIP028100HO.txt: 1 lines removed, original backed up\n",
            "Processed 2022_11_09_15_30_48-QTIP020048HO.txt: 1 lines removed, original backed up\n",
            "Processed 2022_11_01_15_19_39-DLKP035003HO.txt: 1 lines removed, original backed up\n",
            "Processed 2022_11_14_12_10_07-LDGP029048HO.txt: 1 lines removed, original backed up\n",
            "Processed 2023_01_04_11_02_25-LSNP021123HO.txt: 1 lines removed, original backed up\n",
            "Processed 2022_11_16_15_11_04-GLIP038159HO.txt: 1 lines removed, original backed up\n",
            "Processed 2022_11_01_15_44_24-DTPP001013HO.txt: 1 lines removed, original backed up\n",
            "Processed 2022_11_19_11_52_17-HGGP020108HO.txt: 1 lines removed, original backed up\n",
            "Processed 2022_10_29_09_32_25-QNMP001162HO.txt: 3 lines removed, original backed up\n",
            "Processed 2022_10_31_15_36_47-AGGP018270HO.txt: 1 lines removed, original backed up\n",
            "Processed 2022_11_09_11_26_48-AGGP053194HO.txt: 1 lines removed, original backed up\n",
            "Processed 2022_11_19_15_16_19-DNGP128206HO.txt: 1 lines removed, original backed up\n",
            "Processed 2022_11_12_11_26_51-LDGP029007HO.txt: 1 lines removed, original backed up\n",
            "Processed 2022_11_19_12_55_52-DTPP007238HO.txt: 1 lines removed, original backed up\n",
            "Processed 2022_11_13_10_30_08-CTOP036426HO.txt: 1 lines removed, original backed up\n",
            "Processed 2022_11_08_09_48_24-AGGP016166HO.txt: 1 lines removed, original backed up\n",
            "Processed 2022_11_15_11_02_58-LANP030349HU.txt: 1 lines removed, original backed up\n",
            "Processed 2022_11_14_10_05_41-LANP020120HO.txt: 1 lines removed, original backed up\n",
            "Processed 2022_11_08_10_53_15-KTMP021157HO.txt: 1 lines removed, original backed up\n",
            "Processed 2022_11_02_14_48_45-GLIP032281HO.txt: 1 lines removed, original backed up\n",
            "Processed 2022_11_02_17_31_40-GLIP032277HO.txt: 1 lines removed, original backed up\n",
            "Processed 2022_11_08_14_19_52-TNHP007376HO.txt: 1 lines removed, original backed up\n",
            "Processed 2022_11_14_14_05_51-GLIP025143HO.txt: 1 lines removed, original backed up\n",
            "Processed 2022_11_07_10_02_34-KTMP021169HO.txt: 1 lines removed, original backed up\n",
            "Processed 2022_11_15_11_54_58-AGGP053177HO.txt: 1 lines removed, original backed up\n",
            "Processed 2022_11_17_14_14_54-HGGP004161HO.txt: 1 lines removed, original backed up\n",
            "Processed 2022_11_16_11_22_10-GLIP038183HO.txt: 1 lines removed, original backed up\n",
            "Processed 2022_10_28_10_51_49-AGGP045009HO.txt: 1 lines removed, original backed up\n",
            "Processed 2022_11_09_13_57_18-AGGP054269HO.txt: 1 lines removed, original backed up\n",
            "Processed 2022_11_02_16_31_45-GLIP032274HO.txt: 1 lines removed, original backed up\n",
            "Processed 2022_11_08_11_54_59-STGP029101HO.txt: 1 lines removed, original backed up\n",
            "Processed 2022_10_27_11_13_21-STGP030005HO.txt: 1 lines removed, original backed up\n",
            "Processed 2022_11_14_15_01_26-BRUP051087HO.txt: 1 lines removed, original backed up\n",
            "Processed 2022_11_08_09_33_45-AGGP016167HO.txt: 1 lines removed, original backed up\n",
            "Processed 2022_11_03_15_13_42-GLIP025204HO.txt: 1 lines removed, original backed up\n",
            "Processed 2022_11_15_07_32_03-LANP012403HO.txt: 1 lines removed, original backed up\n",
            "Processed 2022_11_14_10_01_50-KTMP021120HO.txt: 1 lines removed, original backed up\n",
            "Processed 2022_12_12_11_09_47-NBHP014033HO.txt: 2 lines removed, original backed up\n",
            "Processed 2022_11_12_15_26_17-HNIP234754HO.txt: 2 lines removed, original backed up\n",
            "Processed 2022_11_17_16_51_24-HGGP017472HO.txt: 1 lines removed, original backed up\n",
            "Processed 2022_11_10_11_02_48-DNIP094148HO.txt: 1 lines removed, original backed up\n",
            "Processed 2022_11_04_09_53_00-GLIP025202HO.txt: 1 lines removed, original backed up\n",
            "Processed 2022_11_17_16_03_47-HGGP004233HO.txt: 1 lines removed, original backed up\n",
            "Processed 2022_11_01_15_05_38-QNIP028005HO.txt: 1 lines removed, original backed up\n",
            "Processed 2022_11_18_14_35_50-STGP031071HO.txt: 1 lines removed, original backed up\n",
            "Processed 2022_11_15_10_49_47-HNIP163139HO.txt: 1 lines removed, original backed up\n",
            "Processed 2022_11_01_14_43_46-DLKP035002HO.txt: 1 lines removed, original backed up\n",
            "Processed 2022_11_16_11_13_19-HGGP004212HO.txt: 1 lines removed, original backed up\n",
            "Processed 2022_11_15_16_48_38-HNIP297056HO.txt: 1 lines removed, original backed up\n",
            "Processed 2022_11_04_07_05_10-LANP029270HU.txt: 1 lines removed, original backed up\n",
            "Processed 2022_11_03_16_46_20-GLIP025206HO.txt: 1 lines removed, original backed up\n",
            "Processed 2022_11_17_16_44_37-DNGP052032HO.txt: 1 lines removed, original backed up\n",
            "Processed 2022_11_04_10_08_55-KTMP021164HO.txt: 1 lines removed, original backed up\n",
            "Processed 2022_11_15_11_08_20-LANP030348HU.txt: 1 lines removed, original backed up\n",
            "Processed 2022_11_02_10_50_12-KTMP019286HO.txt: 1 lines removed, original backed up\n",
            "Processed 2022_11_06_14_57_11-STGP030008HO.txt: 1 lines removed, original backed up\n",
            "Processed 2022_11_03_14_45_23-GLIP025205HO.txt: 1 lines removed, original backed up\n",
            "Processed 2022_10_28_11_26_37-AGGP045339HO.txt: 1 lines removed, original backed up\n",
            "Processed 2022_11_05_10_55_01-KGGP002208HO.txt: 1 lines removed, original backed up\n",
            "Processed 2022_11_07_09_56_09-STGP028302HO.txt: 1 lines removed, original backed up\n",
            "Processed 2022_11_07_11_07_11-AGGP023299HO.txt: 1 lines removed, original backed up\n",
            "Processed 2022_11_04_09_02_19-GLIP025199HO.txt: 1 lines removed, original backed up\n",
            "Processed 2022_11_05_08_58_48-LANP024185HO.txt: 1 lines removed, original backed up\n",
            "Processed 2022_11_09_10_56_36-AGGP053202HO.txt: 1 lines removed, original backed up\n",
            "Processed 2022_11_14_13_42_13-BLUP009251HO.txt: 1 lines removed, original backed up\n",
            "Processed 2022_11_09_14_11_02-AGGP054270HO.txt: 1 lines removed, original backed up\n",
            "Processed 2022_11_04_10_40_45-DNIP090228HO.txt: 1 lines removed, original backed up\n",
            "Processed 2022_11_24_11_32_08-YBIP008171HO.txt: 2 lines removed, original backed up\n",
            "Processed 2022_11_02_09_17_12-YBIP012112HO.txt: 1 lines removed, original backed up\n",
            "Processed 2022_11_10_16_46_46-BRUP034236HO.txt: 1 lines removed, original backed up\n",
            "Processed 2022_11_08_11_21_23-STGP029100HO.txt: 1 lines removed, original backed up\n",
            "Processed 2022_11_04_11_18_24-QNIP028098HO.txt: 1 lines removed, original backed up\n",
            "Processed 2022_11_09_11_21_04-AGGP054196HO.txt: 1 lines removed, original backed up\n",
            "Processed 2022_11_14_16_24_20-CTOP036439HO.txt: 1 lines removed, original backed up\n",
            "Processed 2022_11_16_15_44_11-BPCP002370HO.txt: 1 lines removed, original backed up\n",
            "Processed 2022_11_18_11_07_41-HGGP008076HO.txt: 1 lines removed, original backed up\n",
            "Processed 2022_11_03_09_40_05-DLKP035019HO.txt: 1 lines removed, original backed up\n",
            "Processed 2022_11_07_13_34_15-BDGP059486HO.txt: 1 lines removed, original backed up\n",
            "Processed 2022_11_10_09_53_00-AGGP054258HO.txt: 1 lines removed, original backed up\n",
            "Processed 2022_11_01_14_58_52-QNIP028005HO.txt: 1 lines removed, original backed up\n",
            "Processed 2022_11_15_10_50_52-AGGP052178HO.txt: 1 lines removed, original backed up\n",
            "Processed 2022_11_07_08_18_01-STGP019268HO.txt: 1 lines removed, original backed up\n",
            "Processed 2022_11_01_14_08_02-DLKP035001HO.txt: 1 lines removed, original backed up\n",
            "Processed 2022_11_04_09_35_45-DLKP035126HO.txt: 1 lines removed, original backed up\n",
            "Processed 2022_11_02_09_58_19-DLKP035047HO.txt: 1 lines removed, original backed up\n",
            "Processed 2022_11_11_09_15_42-AGGP052230HO.txt: 1 lines removed, original backed up\n",
            "Processed 2022_11_07_11_45_23-LANP026137HO.txt: 1 lines removed, original backed up\n",
            "Processed 2022_11_04_09_48_45-QNIP028102HO.txt: 1 lines removed, original backed up\n",
            "Processed 2022_11_16_09_55_10-HGGP004222HO.txt: 1 lines removed, original backed up\n",
            "Processed 2022_11_12_16_36_30-HGGP016263HO.txt: 1 lines removed, original backed up\n",
            "Processed 2022_11_07_09_44_54-LANP029274HU.txt: 1 lines removed, original backed up\n",
            "Processed 2022_11_14_17_07_11-GLIP025146HO.txt: 1 lines removed, original backed up\n",
            "Processed 2022_11_07_12_01_08-AGGP018204HO.txt: 1 lines removed, original backed up\n",
            "Processed 2022_11_02_15_33_21-GLIP032276HO.txt: 1 lines removed, original backed up\n",
            "Processed 2022_11_14_09_57_29-LANP032100HO.txt: 1 lines removed, original backed up\n",
            "Processed 2022_11_09_12_28_50-AGGP054268HO.txt: 1 lines removed, original backed up\n",
            "Processed 2022_11_02_10_07_32-QNIP027096HO.txt: 1 lines removed, original backed up\n",
            "Processed 2022_11_01_10_45_55-LANP012469HO.txt: 1 lines removed, original backed up\n",
            "Processed 2022_11_25_14_49_06-HDGP004021HO.txt: 1 lines removed, original backed up\n",
            "Processed 2022_11_15_15_25_08-HGGP020245HO.txt: 1 lines removed, original backed up\n",
            "Processed 2022_11_14_14_06_10-HDGP008093HO.txt: 1 lines removed, original backed up\n",
            "Processed 2022_10_31_15_56_41-AGGP018272HO.txt: 1 lines removed, original backed up\n",
            "Processed 2022_11_04_10_10_23-KTMP021164HO.txt: 1 lines removed, original backed up\n",
            "Processed 2022_11_29_15_34_07-TNNP069099HO.txt: 2 lines removed, original backed up\n",
            "Processed 2022_11_02_17_27_50-GLIP032277HO.txt: 1 lines removed, original backed up\n",
            "Processed 2022_11_15_15_51_53-BRUP075016HO.txt: 1 lines removed, original backed up\n",
            "Processed 2022_11_15_16_47_47-LDGP029058HO.txt: 1 lines removed, original backed up\n",
            "Processed 2022_11_07_14_29_11-BDGP061321HO.txt: 1 lines removed, original backed up\n",
            "Processed 2022_11_14_10_16_49-CTOP036433HO.txt: 1 lines removed, original backed up\n",
            "Processed 2022_11_01_08_36_13-LANP012463HO.txt: 1 lines removed, original backed up\n",
            "Processed 2022_11_14_11_20_39-LANP012405HO.txt: 1 lines removed, original backed up\n",
            "Processed 2022_11_07_11_29_26-AGGP018269HO.txt: 1 lines removed, original backed up\n",
            "Processed 2022_11_01_09_23_02-LANP012192HO.txt: 1 lines removed, original backed up\n",
            "Processed 2022_11_17_14_53_59-NBHP013149HO.txt: 2 lines removed, original backed up\n",
            "Processed 2022_11_10_11_17_43-DNIP094148HO.txt: 1 lines removed, original backed up\n",
            "Processed 2022_11_09_09_30_16-GLIP025107HO.txt: 1 lines removed, original backed up\n",
            "Processed 2022_11_02_14_43_12-GLIP032281HO.txt: 1 lines removed, original backed up\n",
            "Processed 2022_11_16_11_48_12-HGGP004210HO.txt: 1 lines removed, original backed up\n",
            "Processed 2022_11_04_10_18_48-GLIP041213HO.txt: 1 lines removed, original backed up\n",
            "Processed 2022_11_14_09_49_42-LANP020049HO.txt: 1 lines removed, original backed up\n",
            "Processed 2022_11_14_09_10_37-LANP012184HO.txt: 1 lines removed, original backed up\n",
            "Processed 2022_11_15_13_49_41-BTEP019110HO.txt: 1 lines removed, original backed up\n",
            "Processed 2022_10_31_14_53_14-QNIP003014HO.txt: 1 lines removed, original backed up\n",
            "Processed 2022_11_05_08_28_30-QNIP028010HO.txt: 1 lines removed, original backed up\n",
            "Processed 2022_11_08_15_36_36-BRUP040352HO.txt: 2 lines removed, original backed up\n",
            "Processed 2022_11_03_13_46_20-DLKP035114HO.txt: 1 lines removed, original backed up\n",
            "Processed 2022_11_18_09_19_42-DNGP005103HO.txt: 1 lines removed, original backed up\n",
            "Processed 2022_11_10_11_24_02-QNIP019223HO.txt: 1 lines removed, original backed up\n",
            "Processed 2022_11_10_09_54_28-AGGP054258HO.txt: 1 lines removed, original backed up\n",
            "Processed 2022_11_02_09_51_51-QNIP022103HO.txt: 1 lines removed, original backed up\n",
            "Processed 2022_11_09_11_28_54-AGGP053194HO.txt: 1 lines removed, original backed up\n",
            "Processed 2022_11_19_11_30_04-BPCP008011HO.txt: 1 lines removed, original backed up\n",
            "Processed 2022_11_06_09_25_14-STGP019290HO.txt: 1 lines removed, original backed up\n",
            "Processed 2022_10_31_09_47_27-AGGP045015HO.txt: 1 lines removed, original backed up\n",
            "Processed 2022_11_18_09_11_09-DNGP052255HO.txt: 1 lines removed, original backed up\n",
            "Processed 2022_11_01_15_50_58-DTPP001013HO.txt: 1 lines removed, original backed up\n",
            "Processed 2022_11_03_14_40_08-DLKP035107HO.txt: 1 lines removed, original backed up\n",
            "Processed 2022_11_09_13_15_52-AGGP054267HO.txt: 1 lines removed, original backed up\n",
            "Processed 2022_11_09_10_43_31-STGP030095HO.txt: 1 lines removed, original backed up\n",
            "Processed 2022_11_17_11_06_34-GLIP038272HO.txt: 1 lines removed, original backed up\n",
            "Processed 2022_10_28_10_11_14-AGGP045230HO.txt: 1 lines removed, original backed up\n",
            "Processed 2022_10_28_10_56_14-QNIP027007HO.txt: 1 lines removed, original backed up\n",
            "Processed 2022_11_15_10_51_56-BPCP001506HO.txt: 1 lines removed, original backed up\n",
            "Processed 2022_11_07_10_00_42-KTMP021169HO.txt: 1 lines removed, original backed up\n",
            "Processed 2022_11_14_10_23_55-KTMP021124HO.txt: 1 lines removed, original backed up\n",
            "Processed 2022_11_15_11_25_43-AGGP053177HO.txt: 1 lines removed, original backed up\n",
            "Processed 2022_11_05_08_49_47-QNIP028101HO.txt: 1 lines removed, original backed up\n",
            "Processed 2022_11_07_08_58_06-KTMP021167HO.txt: 1 lines removed, original backed up\n",
            "Processed 2022_11_29_16_29_45-QNHP118150HO.txt: 2 lines removed, original backed up\n",
            "Processed 2022_11_15_14_13_07-AGGP018094HO.txt: 1 lines removed, original backed up\n",
            "Total files processed: 11226\n"
          ]
        }
      ]
    },
    {
      "cell_type": "markdown",
      "source": [
        "### From json, remove ids that are not in label files, then save to a new json"
      ],
      "metadata": {
        "id": "blz7ltl1xJu1"
      }
    },
    {
      "cell_type": "code",
      "source": [
        "with open(paths['raw_classes'], 'r') as f:\n",
        "    new_class_dict = json.load(f)\n",
        "\n",
        "for id in class_ids_from_json_not_in_label_files:\n",
        "    new_class_dict.pop(str(id))\n",
        "try:\n",
        "    with open(paths['new_raw_classes'], 'w') as f:\n",
        "        json.dump(new_class_dict, f, indent=2)\n",
        "    print(f\"JSON file created: {paths['new_raw_classes']}\")\n",
        "except Exception as e:\n",
        "    print(f\"Error writing JSON file: {e}\")"
      ],
      "metadata": {
        "colab": {
          "base_uri": "https://localhost:8080/"
        },
        "id": "JCvRoF1DxRZ3",
        "outputId": "9de2716d-5fa0-46bf-a915-d959c0fcf030"
      },
      "execution_count": null,
      "outputs": [
        {
          "output_type": "stream",
          "name": "stdout",
          "text": [
            "JSON file created: /content/drive/MyDrive/fiber_optic_box_inspection/Data_INF/inf_raw_classes_v1.0_new.json\n"
          ]
        }
      ]
    },
    {
      "cell_type": "markdown",
      "source": [
        "## Write dataset configuration"
      ],
      "metadata": {
        "id": "mrv3Kb5Ryssw"
      }
    },
    {
      "cell_type": "code",
      "source": [
        "class_names = [new_class_dict[str(id)] if id in class_ids else '' for id in range(list(class_ids)[-1] + 1)]\n",
        "print(\"Class names in order:\", class_names)"
      ],
      "metadata": {
        "colab": {
          "base_uri": "https://localhost:8080/"
        },
        "id": "vIih8Lxb6q5x",
        "outputId": "91da8187-d702-4548-8844-526cfc455b05"
      },
      "execution_count": null,
      "outputs": [
        {
          "output_type": "stream",
          "name": "stdout",
          "text": [
            "Class names in order: ['1.0', '1.1', '1.2', '', '1.7', '', '', '2.0', '', '2.3', '3.0', '3.1', '', '', '5.0', '5.1', '6.0', '6.1', '7.0', '7.1', '7.2', '7.3', '', '7.7', '8.0', '8.3', '', '8.5', '9.0', '', '9.4', '', '10.0', '10.1', '11.0', '11.1', '13.0', '13.1', '13.2', '', '', '14.0', '14.1', '14.2', '14.3', '', '', '', '', '', '', '', '', '', '19.0', '19.1', '19.2', '19.3', '19.4', '', '20.0', '20.1', '20.2', '20.3', '', '', '', '23.0', '23.1', '23.2', '24.0', '24.1', '24.3', '26.0', '26.1', '27.0', '27.1', '28.0', '', '', '29.0', '29.1', '29.2', '29.4', '30.0', '30.1', '32.0', '32.1', '32.2', '', '', '', '', '35.0', '35.1', '', '', '37.0', '37.1', '37.3', '37.4', '38.0', '38.1', '39.0', '39.1', '40.0', '40.1', '40.2', '41.0', '41.1', '41.2', '42.0', '42.1', '43.0', '43.1', '44.0', '44.1', '44.2', '45.0', '45.1', '45.2', '', '46.0', '46.1', '46.3', '46.4', '47.0', '47.1', '47.3', '48.0', '48.2', '49.0', '49.3', '49.4', '50.0', '50.1', '50.2', '51.0', '51.2', '51.3', '52.0', '52.3', '52.5', '53.0', '53.4', '53.5', '54.0', '54.4', '54.5', '55.0', '55.4', '55.5', '56.0', '56.1', '56.2', '56.4', '57.0', '57.1', '57.2', '58.0', '58.1', '58.2', '59.0', '59.1', '59.2', '59.3', '60.0', '60.1', '60.3', '61.0', '61.1', '61.2', '61.4']\n"
          ]
        }
      ]
    },
    {
      "cell_type": "code",
      "execution_count": null,
      "metadata": {
        "colab": {
          "base_uri": "https://localhost:8080/"
        },
        "id": "o5lE2SJyTls0",
        "outputId": "e6f46595-5c9a-4e2c-e822-d397359f9e68"
      },
      "outputs": [
        {
          "output_type": "stream",
          "name": "stdout",
          "text": [
            "data.yaml has been generated!\n"
          ]
        }
      ],
      "source": [
        "data = {\n",
        "    \"train\": local_paths['train_paths'],\n",
        "    \"val\": local_paths['val_paths'],\n",
        "    \"test\": local_paths['test_paths'],\n",
        "    \"nc\": len(class_names),\n",
        "    \"names\": class_names\n",
        "}\n",
        "\n",
        "with open(local_paths['data'], \"w\") as file:\n",
        "    yaml.dump(data, file, default_flow_style=False)\n",
        "\n",
        "print(\"data.yaml has been generated!\")"
      ]
    },
    {
      "cell_type": "markdown",
      "source": [
        "## Backup processed files and configurations"
      ],
      "metadata": {
        "id": "VSOA9vQqEeRb"
      }
    },
    {
      "cell_type": "code",
      "source": [
        "def compress_folders_to_tar_gz(folders, output_tar_gz):\n",
        "    try:\n",
        "        with tarfile.open(output_tar_gz, \"w:gz\") as tar:\n",
        "            for folder in folders:\n",
        "                if not os.path.isdir(folder):\n",
        "                    print(f\"Error: '{folder}' is not a directory or does not exist.\")\n",
        "                    continue\n",
        "                folder_name = os.path.basename(folder)\n",
        "                tar.add(folder, arcname=folder_name)\n",
        "                print(f\"Added folder: {folder}\")\n",
        "        print(f\"Created archive: {output_tar_gz}\")\n",
        "        return True\n",
        "    except Exception as e:\n",
        "        print(f\"Error creating archive: {e}\")\n",
        "        return False"
      ],
      "metadata": {
        "id": "X695jTWXEjnq"
      },
      "execution_count": null,
      "outputs": []
    },
    {
      "cell_type": "code",
      "source": [
        "folders_to_compress = [local_paths['data_label_dir'], local_paths['label_files_backup_dir']]\n",
        "compress_folders_to_tar_gz(folders_to_compress, local_paths['processed_data_label_compressed'])"
      ],
      "metadata": {
        "colab": {
          "base_uri": "https://localhost:8080/"
        },
        "id": "WUeYZFknElSb",
        "outputId": "e4cd6bfd-685e-49df-d365-f8c37ffe4479"
      },
      "execution_count": null,
      "outputs": [
        {
          "output_type": "stream",
          "name": "stdout",
          "text": [
            "Added folder: /content/dataset/data_label_v2_ALL\n",
            "Added folder: /content/dataset/label_files_backup\n",
            "Created archive: /content/dataset/data_label_ALL_processed.tar.gz\n"
          ]
        },
        {
          "output_type": "execute_result",
          "data": {
            "text/plain": [
              "True"
            ]
          },
          "metadata": {},
          "execution_count": 173
        }
      ]
    },
    {
      "cell_type": "code",
      "source": [
        "def copy_folder_exclude(src_dir, dst_dir, exclude_entries=None):\n",
        "    if exclude_entries is None:\n",
        "        exclude_entries = set()\n",
        "\n",
        "    try:\n",
        "        def ignore_func(directory, contents):\n",
        "            return [entry for entry in contents if entry in exclude_entries]\n",
        "\n",
        "        shutil.copytree(src_dir, dst_dir, ignore=ignore_func, dirs_exist_ok=True)\n",
        "        print(f\"Folder copied to: {dst_dir}\")\n",
        "        return True\n",
        "    except FileNotFoundError:\n",
        "        print(f\"Error: Source directory '{src_dir}' not found.\")\n",
        "        return False\n",
        "    except FileExistsError:\n",
        "        print(f\"Error: Destination directory '{dst_dir}' already exists and cannot be overwritten.\")\n",
        "        return False\n",
        "    except Exception as e:\n",
        "        print(f\"Error copying folder: {e}\")\n",
        "        return False"
      ],
      "metadata": {
        "id": "n4ycd00kKIzR"
      },
      "execution_count": null,
      "outputs": []
    },
    {
      "cell_type": "code",
      "source": [
        "exclude = {\n",
        "    os.path.splitext(os.path.basename(local_paths['data_label_dir']))[0],\n",
        "    os.path.splitext(os.path.basename(local_paths['label_files_backup_dir']))[0]}\n",
        "copy_folder_exclude(local_paths['dataset_dir'], paths['dataset_dir'], exclude)"
      ],
      "metadata": {
        "colab": {
          "base_uri": "https://localhost:8080/"
        },
        "id": "v4BfyuviKfj3",
        "outputId": "7bd1b5e8-2dd6-49ae-da17-fb4f244d05cb"
      },
      "execution_count": null,
      "outputs": [
        {
          "output_type": "stream",
          "name": "stdout",
          "text": [
            "Folder copied to: /content/drive/MyDrive/fiber_optic_box_inspection/dataset\n"
          ]
        },
        {
          "output_type": "execute_result",
          "data": {
            "text/plain": [
              "True"
            ]
          },
          "metadata": {},
          "execution_count": 199
        }
      ]
    },
    {
      "cell_type": "markdown",
      "source": [
        "## something else"
      ],
      "metadata": {
        "id": "QILTQrAmeB8H"
      }
    },
    {
      "cell_type": "code",
      "source": [
        "def get_distinct_filenames(directory):\n",
        "    unique_names = set()\n",
        "    try:\n",
        "        for root, _, files in os.walk(directory):\n",
        "            for f in files:\n",
        "                name, _ = os.path.splitext(f)\n",
        "                unique_names.add(name)\n",
        "\n",
        "        return unique_names\n",
        "    except Exception as e:\n",
        "        print(f\"Error scanning directory {directory}: {e}\")\n",
        "        return set()\n",
        "\n",
        "distinct_names = get_distinct_filenames(local_paths['data_label_dir'])"
      ],
      "metadata": {
        "id": "jKeKOh66HptW"
      },
      "execution_count": null,
      "outputs": []
    },
    {
      "cell_type": "code",
      "source": [
        "for name in distinct_names:\n",
        "    image = f'{name}.jpg'\n",
        "    label = f'{name}.txt'\n",
        "    shutil.move(os.path.join(local_paths['data_label_dir'], image), local_paths['images'])\n",
        "    shutil.move(os.path.join(local_paths['data_label_dir'], label), local_paths['labels'])"
      ],
      "metadata": {
        "id": "VP12LgpHIEAv"
      },
      "execution_count": null,
      "outputs": []
    },
    {
      "cell_type": "code",
      "source": [
        "with open(local_paths['all_paths'], 'r') as f:\n",
        "    content = f.read()\n",
        "new_content = content.replace('data_label_v2_ALL', 'images')\n",
        "with open(local_paths['all_paths'], 'w') as f:\n",
        "    f.write(new_content)\n",
        "del content, new_content\n",
        "\n",
        "with open(local_paths['train_paths'], 'r') as f:\n",
        "    content = f.read()\n",
        "new_content = content.replace('data_label_v2_ALL', 'images')\n",
        "with open(local_paths['train_paths'], 'w') as f:\n",
        "    f.write(new_content)\n",
        "del content, new_content\n",
        "\n",
        "with open(local_paths['val_paths'], 'r') as f:\n",
        "    content = f.read()\n",
        "new_content = content.replace('data_label_v2_ALL', 'images')\n",
        "with open(local_paths['val_paths'], 'w') as f:\n",
        "    f.write(new_content)\n",
        "del content, new_content\n",
        "\n",
        "with open(local_paths['test_paths'], 'r') as f:\n",
        "    content = f.read()\n",
        "new_content = content.replace('data_label_v2_ALL', 'images')\n",
        "with open(local_paths['test_paths'], 'w') as f:\n",
        "    f.write(new_content)\n",
        "del content, new_content"
      ],
      "metadata": {
        "id": "1S__W0LRI65B"
      },
      "execution_count": null,
      "outputs": []
    },
    {
      "cell_type": "markdown",
      "source": [
        "# Model Training"
      ],
      "metadata": {
        "id": "05mhf3nfzBjS"
      }
    },
    {
      "cell_type": "markdown",
      "source": [
        "## GPU check"
      ],
      "metadata": {
        "id": "-m71MKuxzDHJ"
      }
    },
    {
      "cell_type": "code",
      "source": [
        "!nvidia-smi"
      ],
      "metadata": {
        "colab": {
          "base_uri": "https://localhost:8080/"
        },
        "id": "igA3CYns5JxG",
        "outputId": "9457cd34-b2c1-4c4b-e745-d1b7bc09fdf2"
      },
      "execution_count": 14,
      "outputs": [
        {
          "output_type": "stream",
          "name": "stdout",
          "text": [
            "Mon Jun 23 11:38:33 2025       \n",
            "+-----------------------------------------------------------------------------------------+\n",
            "| NVIDIA-SMI 550.54.15              Driver Version: 550.54.15      CUDA Version: 12.4     |\n",
            "|-----------------------------------------+------------------------+----------------------+\n",
            "| GPU  Name                 Persistence-M | Bus-Id          Disp.A | Volatile Uncorr. ECC |\n",
            "| Fan  Temp   Perf          Pwr:Usage/Cap |           Memory-Usage | GPU-Util  Compute M. |\n",
            "|                                         |                        |               MIG M. |\n",
            "|=========================================+========================+======================|\n",
            "|   0  NVIDIA L4                      Off |   00000000:00:03.0 Off |                    0 |\n",
            "| N/A   41C    P8             12W /   72W |       0MiB /  23034MiB |      0%      Default |\n",
            "|                                         |                        |                  N/A |\n",
            "+-----------------------------------------+------------------------+----------------------+\n",
            "                                                                                         \n",
            "+-----------------------------------------------------------------------------------------+\n",
            "| Processes:                                                                              |\n",
            "|  GPU   GI   CI        PID   Type   Process name                              GPU Memory |\n",
            "|        ID   ID                                                               Usage      |\n",
            "|=========================================================================================|\n",
            "|  No running processes found                                                             |\n",
            "+-----------------------------------------------------------------------------------------+\n"
          ]
        }
      ]
    },
    {
      "cell_type": "code",
      "source": [
        "if torch.cuda.is_available():\n",
        "    device = torch.device(\"cuda\")\n",
        "    print(f\"GPU is available! Using device: {device}\")\n",
        "    print(f\"GPU Name: {torch.cuda.get_device_name(0)}\")\n",
        "    print(f\"Number of GPUs: {torch.cuda.device_count()}\")\n",
        "    print(f\"Total Memory: {torch.cuda.get_device_properties(0).total_memory / 1e9:.2f} GB\")\n",
        "else:\n",
        "    device = torch.device(\"cpu\")\n",
        "    print(\"No GPU available, using CPU.\")\n"
      ],
      "metadata": {
        "colab": {
          "base_uri": "https://localhost:8080/"
        },
        "id": "2xvCTl2j5XIE",
        "outputId": "4177b49d-d630-4026-ec9e-9c1168819013"
      },
      "execution_count": 15,
      "outputs": [
        {
          "output_type": "stream",
          "name": "stdout",
          "text": [
            "GPU is available! Using device: cuda\n",
            "GPU Name: NVIDIA L4\n",
            "Number of GPUs: 1\n",
            "Total Memory: 23.80 GB\n"
          ]
        }
      ]
    },
    {
      "cell_type": "markdown",
      "source": [
        "## Train"
      ],
      "metadata": {
        "id": "SHF0-EOWzIq1"
      }
    },
    {
      "cell_type": "code",
      "execution_count": null,
      "metadata": {
        "colab": {
          "base_uri": "https://localhost:8080/"
        },
        "id": "4r5uG6Q65yE1",
        "outputId": "63aa4dd7-38a7-41ca-c5c3-8bbfb2f4524d"
      },
      "outputs": [
        {
          "output_type": "stream",
          "name": "stdout",
          "text": [
            "Downloading https://github.com/ultralytics/assets/releases/download/v8.3.0/yolov8m.pt to 'yolov8m.pt'...\n"
          ]
        },
        {
          "output_type": "stream",
          "name": "stderr",
          "text": [
            "100%|██████████| 49.7M/49.7M [00:01<00:00, 39.1MB/s]\n"
          ]
        },
        {
          "output_type": "stream",
          "name": "stdout",
          "text": [
            "Ultralytics 8.3.158 🚀 Python-3.11.13 torch-2.6.0+cu124 CUDA:0 (NVIDIA L4, 22693MiB)\n",
            "\u001b[34m\u001b[1mengine/trainer: \u001b[0magnostic_nms=False, amp=True, augment=False, auto_augment=randaugment, batch=25, bgr=0.0, box=7.5, cache=disk, cfg=None, classes=None, close_mosaic=10, cls=0.5, conf=None, copy_paste=0.0, copy_paste_mode=flip, cos_lr=False, cutmix=0.0, data=/content/dataset/data.yaml, degrees=0.0, deterministic=True, device=0, dfl=1.5, dnn=False, dropout=0.0, dynamic=False, embed=None, epochs=300, erasing=0.4, exist_ok=False, fliplr=0.5, flipud=0.0, format=torchscript, fraction=1.0, freeze=None, half=False, hsv_h=0.015, hsv_s=0.7, hsv_v=0.4, imgsz=896, int8=False, iou=0.7, keras=False, kobj=1.0, line_width=None, lr0=0.01, lrf=0.01, mask_ratio=4, max_det=300, mixup=0.0, mode=train, model=yolov8m.pt, momentum=0.937, mosaic=1.0, multi_scale=False, name=v8m_mni1.0_batch25_imgsz896_2, nbs=64, nms=False, opset=None, optimize=False, optimizer=auto, overlap_mask=True, patience=10, perspective=0.0, plots=True, pose=12.0, pretrained=True, profile=False, project=/content/drive/MyDrive/fiber_optic_box_inspection/runs_yolo, rect=False, resume=False, retina_masks=False, save=True, save_conf=True, save_crop=False, save_dir=/content/drive/MyDrive/fiber_optic_box_inspection/runs_yolo/v8m_mni1.0_batch25_imgsz896_2, save_frames=False, save_json=False, save_period=5, save_txt=False, scale=0.5, seed=0, shear=0.0, show=False, show_boxes=True, show_conf=True, show_labels=True, simplify=True, single_cls=False, source=None, split=val, stream_buffer=False, task=detect, time=None, tracker=botsort.yaml, translate=0.1, val=True, verbose=True, vid_stride=1, visualize=False, warmup_bias_lr=0.1, warmup_epochs=3.0, warmup_momentum=0.8, weight_decay=0.0005, workers=16, workspace=None\n",
            "Downloading https://ultralytics.com/assets/Arial.ttf to '/root/.config/Ultralytics/Arial.ttf'...\n"
          ]
        },
        {
          "output_type": "stream",
          "name": "stderr",
          "text": [
            "100%|██████████| 755k/755k [00:00<00:00, 93.8MB/s]"
          ]
        },
        {
          "output_type": "stream",
          "name": "stdout",
          "text": [
            "Overriding model.yaml nc=80 with nc=173\n",
            "\n",
            "                   from  n    params  module                                       arguments                     \n",
            "  0                  -1  1      1392  ultralytics.nn.modules.conv.Conv             [3, 48, 3, 2]                 \n",
            "  1                  -1  1     41664  ultralytics.nn.modules.conv.Conv             [48, 96, 3, 2]                \n",
            "  2                  -1  2    111360  ultralytics.nn.modules.block.C2f             [96, 96, 2, True]             \n",
            "  3                  -1  1    166272  ultralytics.nn.modules.conv.Conv             [96, 192, 3, 2]               \n",
            "  4                  -1  4    813312  ultralytics.nn.modules.block.C2f             [192, 192, 4, True]           \n",
            "  5                  -1  1    664320  ultralytics.nn.modules.conv.Conv             [192, 384, 3, 2]              \n",
            "  6                  -1  4   3248640  ultralytics.nn.modules.block.C2f             [384, 384, 4, True]           \n",
            "  7                  -1  1   1991808  ultralytics.nn.modules.conv.Conv             [384, 576, 3, 2]              \n",
            "  8                  -1  2   3985920  ultralytics.nn.modules.block.C2f             [576, 576, 2, True]           \n",
            "  9                  -1  1    831168  ultralytics.nn.modules.block.SPPF            [576, 576, 5]                 \n",
            " 10                  -1  1         0  torch.nn.modules.upsampling.Upsample         [None, 2, 'nearest']          \n",
            " 11             [-1, 6]  1         0  ultralytics.nn.modules.conv.Concat           [1]                           \n",
            " 12                  -1  2   1993728  ultralytics.nn.modules.block.C2f             [960, 384, 2]                 \n",
            " 13                  -1  1         0  torch.nn.modules.upsampling.Upsample         [None, 2, 'nearest']          \n",
            " 14             [-1, 4]  1         0  ultralytics.nn.modules.conv.Concat           [1]                           \n",
            " 15                  -1  2    517632  ultralytics.nn.modules.block.C2f             [576, 192, 2]                 \n",
            " 16                  -1  1    332160  ultralytics.nn.modules.conv.Conv             [192, 192, 3, 2]              \n",
            " 17            [-1, 12]  1         0  ultralytics.nn.modules.conv.Concat           [1]                           \n",
            " 18                  -1  2   1846272  ultralytics.nn.modules.block.C2f             [576, 384, 2]                 \n",
            " 19                  -1  1   1327872  ultralytics.nn.modules.conv.Conv             [384, 384, 3, 2]              \n"
          ]
        },
        {
          "output_type": "stream",
          "name": "stderr",
          "text": [
            "\n"
          ]
        },
        {
          "output_type": "stream",
          "name": "stdout",
          "text": [
            " 20             [-1, 9]  1         0  ultralytics.nn.modules.conv.Concat           [1]                           \n",
            " 21                  -1  2   4207104  ultralytics.nn.modules.block.C2f             [960, 576, 2]                 \n",
            " 22        [15, 18, 21]  1   3875863  ultralytics.nn.modules.head.Detect           [173, [192, 384, 576]]        \n",
            "Model summary: 169 layers, 25,956,487 parameters, 25,956,471 gradients, 79.6 GFLOPs\n",
            "\n",
            "Transferred 469/475 items from pretrained weights\n",
            "Freezing layer 'model.22.dfl.conv.weight'\n",
            "\u001b[34m\u001b[1mAMP: \u001b[0mrunning Automatic Mixed Precision (AMP) checks...\n",
            "Downloading https://github.com/ultralytics/assets/releases/download/v8.3.0/yolo11n.pt to 'yolo11n.pt'...\n"
          ]
        },
        {
          "output_type": "stream",
          "name": "stderr",
          "text": [
            "100%|██████████| 5.35M/5.35M [00:00<00:00, 214MB/s]\n"
          ]
        },
        {
          "output_type": "stream",
          "name": "stdout",
          "text": [
            "\u001b[34m\u001b[1mAMP: \u001b[0mchecks passed ✅\n",
            "\u001b[34m\u001b[1mtrain: \u001b[0mFast image access ✅ (ping: 0.0±0.0 ms, read: 2644.4±933.2 MB/s, size: 101.7 KB)\n"
          ]
        },
        {
          "output_type": "stream",
          "name": "stderr",
          "text": [
            "\u001b[34m\u001b[1mtrain: \u001b[0mScanning /content/dataset/data_label_v2_ALL... 7858 images, 462 backgrounds, 0 corrupt: 100%|██████████| 7858/7858 [00:05<00:00, 1452.84it/s]"
          ]
        },
        {
          "output_type": "stream",
          "name": "stdout",
          "text": [
            "\u001b[34m\u001b[1mtrain: \u001b[0m/content/dataset/data_label_v2_ALL/2022_11_03_15_29_32-HNIP456107HO.jpg: 1 duplicate labels removed\n",
            "\u001b[34m\u001b[1mtrain: \u001b[0m/content/dataset/data_label_v2_ALL/2022_11_10_14_59_59-HNIP120595HO.jpg: 1 duplicate labels removed\n",
            "\u001b[34m\u001b[1mtrain: \u001b[0m/content/dataset/data_label_v2_ALL/2022_11_11_09_10_09-PYNP016064HO.jpg: 1 duplicate labels removed\n",
            "\u001b[34m\u001b[1mtrain: \u001b[0m/content/dataset/data_label_v2_ALL/2022_11_11_09_59_56-BGGP089061HO.jpg: 1 duplicate labels removed\n",
            "\u001b[34m\u001b[1mtrain: \u001b[0m/content/dataset/data_label_v2_ALL/2022_11_14_16_04_38-HNIP548102HO.jpg: 1 duplicate labels removed\n",
            "\u001b[34m\u001b[1mtrain: \u001b[0m/content/dataset/data_label_v2_ALL/2022_11_16_08_43_48-HDGP141064HO.jpg: 1 duplicate labels removed\n",
            "\u001b[34m\u001b[1mtrain: \u001b[0m/content/dataset/data_label_v2_ALL/2022_11_16_15_40_51-HBHP012080HO.jpg: 1 duplicate labels removed\n",
            "\u001b[34m\u001b[1mtrain: \u001b[0m/content/dataset/data_label_v2_ALL/2022_12_06_15_18_24-TBHP019033HO.jpg: 1 duplicate labels removed\n",
            "\u001b[34m\u001b[1mtrain: \u001b[0m/content/dataset/data_label_v2_ALL/2022_12_07_16_39_07-QNHP088205HO.jpg: 1 duplicate labels removed\n",
            "\u001b[34m\u001b[1mtrain: \u001b[0m/content/dataset/data_label_v2_ALL/2022_12_08_10_14_33-HYNP074125HO.jpg: 1 duplicate labels removed\n",
            "\u001b[34m\u001b[1mtrain: \u001b[0m/content/dataset/data_label_v2_ALL/2022_12_09_10_16_40-TBHP044214HO.jpg: 1 duplicate labels removed\n",
            "\u001b[34m\u001b[1mtrain: \u001b[0m/content/dataset/data_label_v2_ALL/2022_12_29_09_46_47-HDGP048174HO.jpg: 1 duplicate labels removed\n"
          ]
        },
        {
          "output_type": "stream",
          "name": "stderr",
          "text": [
            "\n"
          ]
        },
        {
          "output_type": "stream",
          "name": "stdout",
          "text": [
            "\u001b[34m\u001b[1mtrain: \u001b[0mNew cache created: /content/dataset/data_label_v2_ALL.cache\n"
          ]
        },
        {
          "output_type": "stream",
          "name": "stderr",
          "text": [
            "\u001b[34m\u001b[1mtrain: \u001b[0mCaching images (17.9GB Disk): 100%|██████████| 7858/7858 [01:09<00:00, 113.27it/s]\n"
          ]
        },
        {
          "output_type": "stream",
          "name": "stdout",
          "text": [
            "\u001b[34m\u001b[1malbumentations: \u001b[0mBlur(p=0.01, blur_limit=(3, 7)), MedianBlur(p=0.01, blur_limit=(3, 7)), ToGray(p=0.01, method='weighted_average', num_output_channels=3), CLAHE(p=0.01, clip_limit=(1.0, 4.0), tile_grid_size=(8, 8))\n",
            "\u001b[34m\u001b[1mval: \u001b[0mFast image access ✅ (ping: 0.0±0.0 ms, read: 648.4±41.5 MB/s, size: 107.9 KB)\n"
          ]
        },
        {
          "output_type": "stream",
          "name": "stderr",
          "text": [
            "\u001b[34m\u001b[1mval: \u001b[0mScanning /content/dataset/data_label_v2_ALL... 1684 images, 100 backgrounds, 0 corrupt: 100%|██████████| 1684/1684 [00:01<00:00, 970.23it/s]"
          ]
        },
        {
          "output_type": "stream",
          "name": "stdout",
          "text": [
            "\u001b[34m\u001b[1mval: \u001b[0m/content/dataset/data_label_v2_ALL/2022_11_21_09_08_32-TNNP069058HO.jpg: 1 duplicate labels removed\n",
            "\u001b[34m\u001b[1mval: \u001b[0m/content/dataset/data_label_v2_ALL/2022_11_21_16_32_02-HBHP012062HO.jpg: 1 duplicate labels removed\n",
            "\u001b[34m\u001b[1mval: \u001b[0mNew cache created: /content/dataset/data_label_v2_ALL.cache\n"
          ]
        },
        {
          "output_type": "stream",
          "name": "stderr",
          "text": [
            "\n",
            "\u001b[34m\u001b[1mval: \u001b[0mCaching images (3.9GB Disk): 100%|██████████| 1684/1684 [00:11<00:00, 148.49it/s]\n"
          ]
        },
        {
          "output_type": "stream",
          "name": "stdout",
          "text": [
            "Plotting labels to /content/drive/MyDrive/fiber_optic_box_inspection/runs_yolo/v8m_mni1.0_batch25_imgsz896_2/labels.jpg... \n",
            "\u001b[34m\u001b[1moptimizer:\u001b[0m 'optimizer=auto' found, ignoring 'lr0=0.01' and 'momentum=0.937' and determining best 'optimizer', 'lr0' and 'momentum' automatically... \n",
            "\u001b[34m\u001b[1moptimizer:\u001b[0m SGD(lr=0.01, momentum=0.9) with parameter groups 77 weight(decay=0.0), 84 weight(decay=0.0005859375000000001), 83 bias(decay=0.0)\n",
            "Image sizes 896 train, 896 val\n",
            "Using 12 dataloader workers\n",
            "Logging results to \u001b[1m/content/drive/MyDrive/fiber_optic_box_inspection/runs_yolo/v8m_mni1.0_batch25_imgsz896_2\u001b[0m\n",
            "Starting training for 300 epochs...\n",
            "\n",
            "      Epoch    GPU_mem   box_loss   cls_loss   dfl_loss  Instances       Size\n"
          ]
        },
        {
          "output_type": "stream",
          "name": "stderr",
          "text": [
            "      1/300      20.2G      1.531       2.63      1.605        153        896: 100%|██████████| 315/315 [05:48<00:00,  1.10s/it]\n",
            "                 Class     Images  Instances      Box(P          R      mAP50  mAP50-95): 100%|██████████| 34/34 [00:28<00:00,  1.21it/s]\n"
          ]
        },
        {
          "output_type": "stream",
          "name": "stdout",
          "text": [
            "                   all       1684      17375      0.703      0.405      0.366      0.233\n",
            "\n",
            "      Epoch    GPU_mem   box_loss   cls_loss   dfl_loss  Instances       Size\n"
          ]
        },
        {
          "output_type": "stream",
          "name": "stderr",
          "text": [
            "      2/300      19.2G      1.169      1.162      1.312        157        896: 100%|██████████| 315/315 [05:54<00:00,  1.13s/it]\n",
            "                 Class     Images  Instances      Box(P          R      mAP50  mAP50-95): 100%|██████████| 34/34 [00:25<00:00,  1.35it/s]\n"
          ]
        },
        {
          "output_type": "stream",
          "name": "stdout",
          "text": [
            "                   all       1684      17375      0.668       0.43      0.415       0.27\n",
            "\n",
            "      Epoch    GPU_mem   box_loss   cls_loss   dfl_loss  Instances       Size\n"
          ]
        },
        {
          "output_type": "stream",
          "name": "stderr",
          "text": [
            "      3/300      19.2G      1.189      1.082      1.326        191        896: 100%|██████████| 315/315 [05:39<00:00,  1.08s/it]\n",
            "                 Class     Images  Instances      Box(P          R      mAP50  mAP50-95): 100%|██████████| 34/34 [00:24<00:00,  1.38it/s]\n"
          ]
        },
        {
          "output_type": "stream",
          "name": "stdout",
          "text": [
            "                   all       1684      17375      0.618      0.442      0.407      0.258\n",
            "\n",
            "      Epoch    GPU_mem   box_loss   cls_loss   dfl_loss  Instances       Size\n"
          ]
        },
        {
          "output_type": "stream",
          "name": "stderr",
          "text": [
            "      4/300      19.1G      1.175      1.007      1.318         94        896: 100%|██████████| 315/315 [05:38<00:00,  1.07s/it]\n",
            "                 Class     Images  Instances      Box(P          R      mAP50  mAP50-95): 100%|██████████| 34/34 [00:23<00:00,  1.43it/s]\n"
          ]
        },
        {
          "output_type": "stream",
          "name": "stdout",
          "text": [
            "                   all       1684      17375      0.678       0.45      0.423      0.261\n",
            "\n",
            "      Epoch    GPU_mem   box_loss   cls_loss   dfl_loss  Instances       Size\n"
          ]
        },
        {
          "output_type": "stream",
          "name": "stderr",
          "text": [
            "      5/300        19G       1.15      0.947      1.308        202        896: 100%|██████████| 315/315 [05:38<00:00,  1.07s/it]\n",
            "                 Class     Images  Instances      Box(P          R      mAP50  mAP50-95): 100%|██████████| 34/34 [00:24<00:00,  1.37it/s]\n"
          ]
        },
        {
          "output_type": "stream",
          "name": "stdout",
          "text": [
            "                   all       1684      17375      0.719      0.454      0.441      0.286\n",
            "\n",
            "      Epoch    GPU_mem   box_loss   cls_loss   dfl_loss  Instances       Size\n"
          ]
        },
        {
          "output_type": "stream",
          "name": "stderr",
          "text": [
            "      6/300      19.1G      1.127     0.9061      1.291        189        896: 100%|██████████| 315/315 [05:39<00:00,  1.08s/it]\n",
            "                 Class     Images  Instances      Box(P          R      mAP50  mAP50-95): 100%|██████████| 34/34 [00:24<00:00,  1.36it/s]\n"
          ]
        },
        {
          "output_type": "stream",
          "name": "stdout",
          "text": [
            "                   all       1684      17375      0.693      0.478      0.462      0.298\n",
            "\n",
            "      Epoch    GPU_mem   box_loss   cls_loss   dfl_loss  Instances       Size\n"
          ]
        },
        {
          "output_type": "stream",
          "name": "stderr",
          "text": [
            "      7/300        19G      1.113     0.8792      1.283        150        896: 100%|██████████| 315/315 [05:38<00:00,  1.07s/it]\n",
            "                 Class     Images  Instances      Box(P          R      mAP50  mAP50-95): 100%|██████████| 34/34 [00:24<00:00,  1.39it/s]\n"
          ]
        },
        {
          "output_type": "stream",
          "name": "stdout",
          "text": [
            "                   all       1684      17375      0.698      0.469      0.464      0.296\n",
            "\n",
            "      Epoch    GPU_mem   box_loss   cls_loss   dfl_loss  Instances       Size\n"
          ]
        },
        {
          "output_type": "stream",
          "name": "stderr",
          "text": [
            "      8/300      19.1G      1.098     0.8514      1.274        208        896: 100%|██████████| 315/315 [05:38<00:00,  1.07s/it]\n",
            "                 Class     Images  Instances      Box(P          R      mAP50  mAP50-95): 100%|██████████| 34/34 [00:24<00:00,  1.37it/s]\n"
          ]
        },
        {
          "output_type": "stream",
          "name": "stdout",
          "text": [
            "                   all       1684      17375      0.692       0.48      0.478      0.305\n",
            "\n",
            "      Epoch    GPU_mem   box_loss   cls_loss   dfl_loss  Instances       Size\n"
          ]
        },
        {
          "output_type": "stream",
          "name": "stderr",
          "text": [
            "      9/300      19.2G      1.087      0.831      1.266        203        896: 100%|██████████| 315/315 [05:38<00:00,  1.07s/it]\n",
            "                 Class     Images  Instances      Box(P          R      mAP50  mAP50-95): 100%|██████████| 34/34 [00:23<00:00,  1.44it/s]\n"
          ]
        },
        {
          "output_type": "stream",
          "name": "stdout",
          "text": [
            "                   all       1684      17375       0.68        0.5      0.477      0.312\n",
            "\n",
            "      Epoch    GPU_mem   box_loss   cls_loss   dfl_loss  Instances       Size\n"
          ]
        },
        {
          "output_type": "stream",
          "name": "stderr",
          "text": [
            "     10/300      19.2G      1.074     0.8179      1.265        183        896: 100%|██████████| 315/315 [05:38<00:00,  1.07s/it]\n",
            "                 Class     Images  Instances      Box(P          R      mAP50  mAP50-95): 100%|██████████| 34/34 [00:24<00:00,  1.38it/s]\n"
          ]
        },
        {
          "output_type": "stream",
          "name": "stdout",
          "text": [
            "                   all       1684      17375      0.644      0.503      0.492      0.324\n",
            "\n",
            "      Epoch    GPU_mem   box_loss   cls_loss   dfl_loss  Instances       Size\n"
          ]
        },
        {
          "output_type": "stream",
          "name": "stderr",
          "text": [
            "     11/300      19.2G      1.075     0.8022      1.263        142        896: 100%|██████████| 315/315 [05:38<00:00,  1.07s/it]\n",
            "                 Class     Images  Instances      Box(P          R      mAP50  mAP50-95): 100%|██████████| 34/34 [00:24<00:00,  1.38it/s]\n"
          ]
        },
        {
          "output_type": "stream",
          "name": "stdout",
          "text": [
            "                   all       1684      17375      0.696      0.512      0.499      0.331\n",
            "\n",
            "      Epoch    GPU_mem   box_loss   cls_loss   dfl_loss  Instances       Size\n"
          ]
        },
        {
          "output_type": "stream",
          "name": "stderr",
          "text": [
            "     12/300      19.2G      1.058     0.7894      1.257        103        896: 100%|██████████| 315/315 [05:38<00:00,  1.07s/it]\n",
            "                 Class     Images  Instances      Box(P          R      mAP50  mAP50-95): 100%|██████████| 34/34 [00:23<00:00,  1.44it/s]\n"
          ]
        },
        {
          "output_type": "stream",
          "name": "stdout",
          "text": [
            "                   all       1684      17375      0.698      0.524      0.509      0.334\n",
            "\n",
            "      Epoch    GPU_mem   box_loss   cls_loss   dfl_loss  Instances       Size\n"
          ]
        },
        {
          "output_type": "stream",
          "name": "stderr",
          "text": [
            "     13/300      19.2G      1.056     0.7844      1.255        222        896: 100%|██████████| 315/315 [05:38<00:00,  1.07s/it]\n",
            "                 Class     Images  Instances      Box(P          R      mAP50  mAP50-95): 100%|██████████| 34/34 [00:24<00:00,  1.39it/s]\n"
          ]
        },
        {
          "output_type": "stream",
          "name": "stdout",
          "text": [
            "                   all       1684      17375      0.677      0.516      0.507      0.334\n",
            "\n",
            "      Epoch    GPU_mem   box_loss   cls_loss   dfl_loss  Instances       Size\n"
          ]
        },
        {
          "output_type": "stream",
          "name": "stderr",
          "text": [
            "     14/300      19.1G      1.046      0.767      1.255        111        896: 100%|██████████| 315/315 [05:38<00:00,  1.07s/it]\n",
            "                 Class     Images  Instances      Box(P          R      mAP50  mAP50-95): 100%|██████████| 34/34 [00:24<00:00,  1.39it/s]\n"
          ]
        },
        {
          "output_type": "stream",
          "name": "stdout",
          "text": [
            "                   all       1684      17375      0.722      0.521      0.517       0.34\n",
            "\n",
            "      Epoch    GPU_mem   box_loss   cls_loss   dfl_loss  Instances       Size\n"
          ]
        },
        {
          "output_type": "stream",
          "name": "stderr",
          "text": [
            "     15/300      19.1G      1.037     0.7527      1.243        170        896: 100%|██████████| 315/315 [05:38<00:00,  1.07s/it]\n",
            "                 Class     Images  Instances      Box(P          R      mAP50  mAP50-95): 100%|██████████| 34/34 [00:23<00:00,  1.44it/s]\n"
          ]
        },
        {
          "output_type": "stream",
          "name": "stdout",
          "text": [
            "                   all       1684      17375       0.68      0.529      0.519      0.338\n",
            "\n",
            "      Epoch    GPU_mem   box_loss   cls_loss   dfl_loss  Instances       Size\n"
          ]
        },
        {
          "output_type": "stream",
          "name": "stderr",
          "text": [
            "     16/300      19.1G      1.032     0.7481      1.243        194        896: 100%|██████████| 315/315 [05:38<00:00,  1.07s/it]\n",
            "                 Class     Images  Instances      Box(P          R      mAP50  mAP50-95): 100%|██████████| 34/34 [00:24<00:00,  1.38it/s]\n"
          ]
        },
        {
          "output_type": "stream",
          "name": "stdout",
          "text": [
            "                   all       1684      17375       0.66      0.546      0.524      0.342\n",
            "\n",
            "      Epoch    GPU_mem   box_loss   cls_loss   dfl_loss  Instances       Size\n"
          ]
        },
        {
          "output_type": "stream",
          "name": "stderr",
          "text": [
            "     17/300      19.3G       1.03     0.7396      1.243        201        896: 100%|██████████| 315/315 [05:38<00:00,  1.08s/it]\n",
            "                 Class     Images  Instances      Box(P          R      mAP50  mAP50-95): 100%|██████████| 34/34 [00:24<00:00,  1.38it/s]\n"
          ]
        },
        {
          "output_type": "stream",
          "name": "stdout",
          "text": [
            "                   all       1684      17375      0.652      0.547      0.533      0.352\n",
            "\n",
            "      Epoch    GPU_mem   box_loss   cls_loss   dfl_loss  Instances       Size\n"
          ]
        },
        {
          "output_type": "stream",
          "name": "stderr",
          "text": [
            "     18/300      19.1G      1.023     0.7375      1.234        154        896: 100%|██████████| 315/315 [05:38<00:00,  1.08s/it]\n",
            "                 Class     Images  Instances      Box(P          R      mAP50  mAP50-95): 100%|██████████| 34/34 [00:24<00:00,  1.38it/s]\n"
          ]
        },
        {
          "output_type": "stream",
          "name": "stdout",
          "text": [
            "                   all       1684      17375      0.718      0.529      0.531      0.351\n",
            "\n",
            "      Epoch    GPU_mem   box_loss   cls_loss   dfl_loss  Instances       Size\n"
          ]
        },
        {
          "output_type": "stream",
          "name": "stderr",
          "text": [
            "     19/300      19.1G      1.012     0.7262       1.23        206        896: 100%|██████████| 315/315 [05:38<00:00,  1.07s/it]\n",
            "                 Class     Images  Instances      Box(P          R      mAP50  mAP50-95): 100%|██████████| 34/34 [00:25<00:00,  1.31it/s]\n"
          ]
        },
        {
          "output_type": "stream",
          "name": "stdout",
          "text": [
            "                   all       1684      17375      0.686      0.549      0.539      0.356\n",
            "\n",
            "      Epoch    GPU_mem   box_loss   cls_loss   dfl_loss  Instances       Size\n"
          ]
        },
        {
          "output_type": "stream",
          "name": "stderr",
          "text": [
            "     20/300      19.2G      1.012     0.7228      1.232        153        896: 100%|██████████| 315/315 [05:39<00:00,  1.08s/it]\n",
            "                 Class     Images  Instances      Box(P          R      mAP50  mAP50-95): 100%|██████████| 34/34 [00:23<00:00,  1.43it/s]\n"
          ]
        },
        {
          "output_type": "stream",
          "name": "stdout",
          "text": [
            "                   all       1684      17375      0.712      0.538      0.541      0.353\n",
            "\n",
            "      Epoch    GPU_mem   box_loss   cls_loss   dfl_loss  Instances       Size\n"
          ]
        },
        {
          "output_type": "stream",
          "name": "stderr",
          "text": [
            "     21/300        19G       1.01     0.7163      1.232        121        896: 100%|██████████| 315/315 [05:38<00:00,  1.07s/it]\n",
            "                 Class     Images  Instances      Box(P          R      mAP50  mAP50-95): 100%|██████████| 34/34 [00:24<00:00,  1.38it/s]\n"
          ]
        },
        {
          "output_type": "stream",
          "name": "stdout",
          "text": [
            "                   all       1684      17375      0.675      0.552      0.539      0.359\n",
            "\n",
            "      Epoch    GPU_mem   box_loss   cls_loss   dfl_loss  Instances       Size\n"
          ]
        },
        {
          "output_type": "stream",
          "name": "stderr",
          "text": [
            "     22/300        19G      1.001     0.7092      1.224        190        896: 100%|██████████| 315/315 [05:38<00:00,  1.07s/it]\n",
            "                 Class     Images  Instances      Box(P          R      mAP50  mAP50-95): 100%|██████████| 34/34 [00:24<00:00,  1.37it/s]\n"
          ]
        },
        {
          "output_type": "stream",
          "name": "stdout",
          "text": [
            "                   all       1684      17375      0.723      0.522      0.531      0.351\n",
            "\n",
            "      Epoch    GPU_mem   box_loss   cls_loss   dfl_loss  Instances       Size\n"
          ]
        },
        {
          "output_type": "stream",
          "name": "stderr",
          "text": [
            "     23/300        19G      1.001      0.706      1.225        205        896: 100%|██████████| 315/315 [05:38<00:00,  1.08s/it]\n",
            "                 Class     Images  Instances      Box(P          R      mAP50  mAP50-95): 100%|██████████| 34/34 [00:24<00:00,  1.37it/s]\n"
          ]
        },
        {
          "output_type": "stream",
          "name": "stdout",
          "text": [
            "                   all       1684      17375      0.647      0.547      0.545      0.362\n",
            "\n",
            "      Epoch    GPU_mem   box_loss   cls_loss   dfl_loss  Instances       Size\n"
          ]
        },
        {
          "output_type": "stream",
          "name": "stderr",
          "text": [
            "     24/300        19G     0.9968     0.6981      1.221        157        896: 100%|██████████| 315/315 [05:39<00:00,  1.08s/it]\n",
            "                 Class     Images  Instances      Box(P          R      mAP50  mAP50-95): 100%|██████████| 34/34 [00:24<00:00,  1.37it/s]\n"
          ]
        },
        {
          "output_type": "stream",
          "name": "stdout",
          "text": [
            "                   all       1684      17375      0.696      0.548      0.547      0.361\n",
            "\n",
            "      Epoch    GPU_mem   box_loss   cls_loss   dfl_loss  Instances       Size\n"
          ]
        },
        {
          "output_type": "stream",
          "name": "stderr",
          "text": [
            "     25/300        19G     0.9888     0.6898      1.219        171        896: 100%|██████████| 315/315 [05:39<00:00,  1.08s/it]\n",
            "                 Class     Images  Instances      Box(P          R      mAP50  mAP50-95): 100%|██████████| 34/34 [00:25<00:00,  1.32it/s]\n"
          ]
        },
        {
          "output_type": "stream",
          "name": "stdout",
          "text": [
            "                   all       1684      17375        0.7      0.554      0.555      0.365\n",
            "\n",
            "      Epoch    GPU_mem   box_loss   cls_loss   dfl_loss  Instances       Size\n"
          ]
        },
        {
          "output_type": "stream",
          "name": "stderr",
          "text": [
            "     26/300      19.2G     0.9863     0.6894      1.219        139        896: 100%|██████████| 315/315 [05:39<00:00,  1.08s/it]\n",
            "                 Class     Images  Instances      Box(P          R      mAP50  mAP50-95): 100%|██████████| 34/34 [00:23<00:00,  1.44it/s]\n"
          ]
        },
        {
          "output_type": "stream",
          "name": "stdout",
          "text": [
            "                   all       1684      17375      0.693      0.545      0.546       0.36\n",
            "\n",
            "      Epoch    GPU_mem   box_loss   cls_loss   dfl_loss  Instances       Size\n"
          ]
        },
        {
          "output_type": "stream",
          "name": "stderr",
          "text": [
            "     27/300        19G     0.9792     0.6786      1.211        161        896: 100%|██████████| 315/315 [05:39<00:00,  1.08s/it]\n",
            "                 Class     Images  Instances      Box(P          R      mAP50  mAP50-95): 100%|██████████| 34/34 [00:24<00:00,  1.37it/s]\n"
          ]
        },
        {
          "output_type": "stream",
          "name": "stdout",
          "text": [
            "                   all       1684      17375      0.643      0.565      0.547      0.366\n",
            "\n",
            "      Epoch    GPU_mem   box_loss   cls_loss   dfl_loss  Instances       Size\n"
          ]
        },
        {
          "output_type": "stream",
          "name": "stderr",
          "text": [
            "     28/300      19.1G     0.9769     0.6764      1.213        167        896: 100%|██████████| 315/315 [05:40<00:00,  1.08s/it]\n",
            "                 Class     Images  Instances      Box(P          R      mAP50  mAP50-95): 100%|██████████| 34/34 [00:25<00:00,  1.36it/s]\n"
          ]
        },
        {
          "output_type": "stream",
          "name": "stdout",
          "text": [
            "                   all       1684      17375       0.64      0.569      0.543       0.36\n",
            "\n",
            "      Epoch    GPU_mem   box_loss   cls_loss   dfl_loss  Instances       Size\n"
          ]
        },
        {
          "output_type": "stream",
          "name": "stderr",
          "text": [
            "     29/300      19.1G      0.971      0.669      1.209        185        896: 100%|██████████| 315/315 [05:39<00:00,  1.08s/it]\n",
            "                 Class     Images  Instances      Box(P          R      mAP50  mAP50-95): 100%|██████████| 34/34 [00:23<00:00,  1.44it/s]\n"
          ]
        },
        {
          "output_type": "stream",
          "name": "stdout",
          "text": [
            "                   all       1684      17375      0.666      0.558      0.553       0.37\n",
            "\n",
            "      Epoch    GPU_mem   box_loss   cls_loss   dfl_loss  Instances       Size\n"
          ]
        },
        {
          "output_type": "stream",
          "name": "stderr",
          "text": [
            "     30/300      19.1G     0.9677     0.6639      1.206        206        896: 100%|██████████| 315/315 [05:39<00:00,  1.08s/it]\n",
            "                 Class     Images  Instances      Box(P          R      mAP50  mAP50-95): 100%|██████████| 34/34 [00:24<00:00,  1.36it/s]\n"
          ]
        },
        {
          "output_type": "stream",
          "name": "stdout",
          "text": [
            "                   all       1684      17375      0.678      0.567      0.557      0.371\n",
            "\n",
            "      Epoch    GPU_mem   box_loss   cls_loss   dfl_loss  Instances       Size\n"
          ]
        },
        {
          "output_type": "stream",
          "name": "stderr",
          "text": [
            "     31/300      19.1G     0.9634     0.6572      1.201        149        896: 100%|██████████| 315/315 [05:39<00:00,  1.08s/it]\n",
            "                 Class     Images  Instances      Box(P          R      mAP50  mAP50-95): 100%|██████████| 34/34 [00:24<00:00,  1.37it/s]\n"
          ]
        },
        {
          "output_type": "stream",
          "name": "stdout",
          "text": [
            "                   all       1684      17375      0.703      0.557      0.557       0.37\n",
            "\n",
            "      Epoch    GPU_mem   box_loss   cls_loss   dfl_loss  Instances       Size\n"
          ]
        },
        {
          "output_type": "stream",
          "name": "stderr",
          "text": [
            "     32/300      19.2G     0.9596     0.6585      1.199        207        896: 100%|██████████| 315/315 [05:40<00:00,  1.08s/it]\n",
            "                 Class     Images  Instances      Box(P          R      mAP50  mAP50-95): 100%|██████████| 34/34 [00:24<00:00,  1.36it/s]\n"
          ]
        },
        {
          "output_type": "stream",
          "name": "stdout",
          "text": [
            "                   all       1684      17375      0.635      0.559      0.553      0.368\n",
            "\n",
            "      Epoch    GPU_mem   box_loss   cls_loss   dfl_loss  Instances       Size\n"
          ]
        },
        {
          "output_type": "stream",
          "name": "stderr",
          "text": [
            "     33/300      19.1G     0.9574     0.6471      1.203        171        896: 100%|██████████| 315/315 [05:39<00:00,  1.08s/it]\n",
            "                 Class     Images  Instances      Box(P          R      mAP50  mAP50-95): 100%|██████████| 34/34 [00:24<00:00,  1.36it/s]\n"
          ]
        },
        {
          "output_type": "stream",
          "name": "stdout",
          "text": [
            "                   all       1684      17375       0.66      0.576      0.563      0.374\n",
            "\n",
            "      Epoch    GPU_mem   box_loss   cls_loss   dfl_loss  Instances       Size\n"
          ]
        },
        {
          "output_type": "stream",
          "name": "stderr",
          "text": [
            "     34/300      19.3G     0.9534     0.6471      1.199        261        896: 100%|██████████| 315/315 [05:39<00:00,  1.08s/it]\n",
            "                 Class     Images  Instances      Box(P          R      mAP50  mAP50-95): 100%|██████████| 34/34 [00:24<00:00,  1.37it/s]\n"
          ]
        },
        {
          "output_type": "stream",
          "name": "stdout",
          "text": [
            "                   all       1684      17375      0.699      0.563      0.559      0.369\n",
            "\n",
            "      Epoch    GPU_mem   box_loss   cls_loss   dfl_loss  Instances       Size\n"
          ]
        },
        {
          "output_type": "stream",
          "name": "stderr",
          "text": [
            "     35/300      19.2G     0.9526     0.6482        1.2        245        896: 100%|██████████| 315/315 [05:39<00:00,  1.08s/it]\n",
            "                 Class     Images  Instances      Box(P          R      mAP50  mAP50-95): 100%|██████████| 34/34 [00:25<00:00,  1.35it/s]\n"
          ]
        },
        {
          "output_type": "stream",
          "name": "stdout",
          "text": [
            "                   all       1684      17375      0.662      0.549      0.556      0.369\n",
            "\n",
            "      Epoch    GPU_mem   box_loss   cls_loss   dfl_loss  Instances       Size\n"
          ]
        },
        {
          "output_type": "stream",
          "name": "stderr",
          "text": [
            "     36/300      19.2G     0.9469     0.6415      1.197        216        896: 100%|██████████| 315/315 [05:40<00:00,  1.08s/it]\n",
            "                 Class     Images  Instances      Box(P          R      mAP50  mAP50-95): 100%|██████████| 34/34 [00:23<00:00,  1.44it/s]\n"
          ]
        },
        {
          "output_type": "stream",
          "name": "stdout",
          "text": [
            "                   all       1684      17375      0.703      0.547      0.567      0.377\n",
            "\n",
            "      Epoch    GPU_mem   box_loss   cls_loss   dfl_loss  Instances       Size\n"
          ]
        },
        {
          "output_type": "stream",
          "name": "stderr",
          "text": [
            "     37/300      19.2G     0.9421      0.637      1.192        165        896: 100%|██████████| 315/315 [05:39<00:00,  1.08s/it]\n",
            "                 Class     Images  Instances      Box(P          R      mAP50  mAP50-95): 100%|██████████| 34/34 [00:23<00:00,  1.44it/s]\n"
          ]
        },
        {
          "output_type": "stream",
          "name": "stdout",
          "text": [
            "                   all       1684      17375       0.64      0.579      0.559      0.372\n",
            "\n",
            "      Epoch    GPU_mem   box_loss   cls_loss   dfl_loss  Instances       Size\n"
          ]
        },
        {
          "output_type": "stream",
          "name": "stderr",
          "text": [
            "     38/300        19G     0.9377     0.6334      1.189        164        896: 100%|██████████| 315/315 [05:39<00:00,  1.08s/it]\n",
            "                 Class     Images  Instances      Box(P          R      mAP50  mAP50-95): 100%|██████████| 34/34 [00:24<00:00,  1.37it/s]\n"
          ]
        },
        {
          "output_type": "stream",
          "name": "stdout",
          "text": [
            "                   all       1684      17375      0.663      0.562       0.56      0.375\n",
            "\n",
            "      Epoch    GPU_mem   box_loss   cls_loss   dfl_loss  Instances       Size\n"
          ]
        },
        {
          "output_type": "stream",
          "name": "stderr",
          "text": [
            "     39/300        19G     0.9386     0.6314      1.187        144        896: 100%|██████████| 315/315 [05:39<00:00,  1.08s/it]\n",
            "                 Class     Images  Instances      Box(P          R      mAP50  mAP50-95): 100%|██████████| 34/34 [00:25<00:00,  1.36it/s]\n"
          ]
        },
        {
          "output_type": "stream",
          "name": "stdout",
          "text": [
            "                   all       1684      17375       0.65      0.582      0.566      0.378\n",
            "\n",
            "      Epoch    GPU_mem   box_loss   cls_loss   dfl_loss  Instances       Size\n"
          ]
        },
        {
          "output_type": "stream",
          "name": "stderr",
          "text": [
            "     40/300      19.1G     0.9268     0.6169      1.177        514        896:  23%|██▎       | 71/315 [01:16<04:19,  1.06s/it]"
          ]
        }
      ],
      "source": [
        "model = YOLO('yolov8m.pt')\n",
        "results = model.train(\n",
        "    data=local_paths['data'],\n",
        "    epochs=300,\n",
        "    patience=10,\n",
        "    batch=25,\n",
        "    imgsz=896,\n",
        "    save_period=5,\n",
        "    cache='disk',\n",
        "    device=0,\n",
        "    workers=16,\n",
        "    project=paths['yolo_output_dir'],\n",
        "    name='v8m_mni1.0_batch25_imgsz896_',\n",
        "    save_conf=True,)"
      ]
    },
    {
      "cell_type": "markdown",
      "source": [
        "## Resume Train"
      ],
      "metadata": {
        "id": "X5cMRgcy0Bed"
      }
    },
    {
      "cell_type": "code",
      "source": [
        "model = YOLO('/content/drive/MyDrive/fiber_optic_box_inspection/runs_yolo/v8m_mni1.0_batch25_imgsz896_2/weights/last.pt')\n",
        "results = model.train(resume=True)"
      ],
      "metadata": {
        "colab": {
          "base_uri": "https://localhost:8080/"
        },
        "id": "1ESZu6mK0AzO",
        "outputId": "ddb6f135-d4c9-4ba4-d942-71f473abe547"
      },
      "execution_count": 17,
      "outputs": [
        {
          "output_type": "stream",
          "name": "stdout",
          "text": [
            "Ultralytics 8.3.158 🚀 Python-3.11.13 torch-2.6.0+cu124 CUDA:0 (NVIDIA L4, 22693MiB)\n",
            "\u001b[34m\u001b[1mengine/trainer: \u001b[0magnostic_nms=False, amp=True, augment=False, auto_augment=randaugment, batch=25, bgr=0.0, box=7.5, cache=disk, cfg=None, classes=None, close_mosaic=10, cls=0.5, conf=None, copy_paste=0.0, copy_paste_mode=flip, cos_lr=False, cutmix=0.0, data=/content/dataset/data.yaml, degrees=0.0, deterministic=True, device=0, dfl=1.5, dnn=False, dropout=0.0, dynamic=False, embed=None, epochs=300, erasing=0.4, exist_ok=False, fliplr=0.5, flipud=0.0, format=torchscript, fraction=1.0, freeze=None, half=False, hsv_h=0.015, hsv_s=0.7, hsv_v=0.4, imgsz=896, int8=False, iou=0.7, keras=False, kobj=1.0, line_width=None, lr0=0.01, lrf=0.01, mask_ratio=4, max_det=300, mixup=0.0, mode=train, model=/content/drive/MyDrive/fiber_optic_box_inspection/runs_yolo/v8m_mni1.0_batch25_imgsz896_2/weights/last.pt, momentum=0.937, mosaic=1.0, multi_scale=False, name=v8m_mni1.0_batch25_imgsz896_2, nbs=64, nms=False, opset=None, optimize=False, optimizer=auto, overlap_mask=True, patience=10, perspective=0.0, plots=True, pose=12.0, pretrained=True, profile=False, project=/content/drive/MyDrive/fiber_optic_box_inspection/runs_yolo, rect=False, resume=/content/drive/MyDrive/fiber_optic_box_inspection/runs_yolo/v8m_mni1.0_batch25_imgsz896_2/weights/last.pt, retina_masks=False, save=True, save_conf=True, save_crop=False, save_dir=/content/drive/MyDrive/fiber_optic_box_inspection/runs_yolo/v8m_mni1.0_batch25_imgsz896_2, save_frames=False, save_json=False, save_period=5, save_txt=False, scale=0.5, seed=0, shear=0.0, show=False, show_boxes=True, show_conf=True, show_labels=True, simplify=True, single_cls=False, source=None, split=val, stream_buffer=False, task=detect, time=None, tracker=botsort.yaml, translate=0.1, val=True, verbose=True, vid_stride=1, visualize=False, warmup_bias_lr=0.0, warmup_epochs=3.0, warmup_momentum=0.8, weight_decay=0.0005, workers=16, workspace=None\n",
            "Downloading https://ultralytics.com/assets/Arial.ttf to '/root/.config/Ultralytics/Arial.ttf'...\n"
          ]
        },
        {
          "output_type": "stream",
          "name": "stderr",
          "text": [
            "100%|██████████| 755k/755k [00:00<00:00, 109MB/s]\n"
          ]
        },
        {
          "output_type": "stream",
          "name": "stdout",
          "text": [
            "\n",
            "                   from  n    params  module                                       arguments                     \n",
            "  0                  -1  1      1392  ultralytics.nn.modules.conv.Conv             [3, 48, 3, 2]                 \n",
            "  1                  -1  1     41664  ultralytics.nn.modules.conv.Conv             [48, 96, 3, 2]                \n",
            "  2                  -1  2    111360  ultralytics.nn.modules.block.C2f             [96, 96, 2, True]             \n",
            "  3                  -1  1    166272  ultralytics.nn.modules.conv.Conv             [96, 192, 3, 2]               \n",
            "  4                  -1  4    813312  ultralytics.nn.modules.block.C2f             [192, 192, 4, True]           \n",
            "  5                  -1  1    664320  ultralytics.nn.modules.conv.Conv             [192, 384, 3, 2]              \n",
            "  6                  -1  4   3248640  ultralytics.nn.modules.block.C2f             [384, 384, 4, True]           \n",
            "  7                  -1  1   1991808  ultralytics.nn.modules.conv.Conv             [384, 576, 3, 2]              \n",
            "  8                  -1  2   3985920  ultralytics.nn.modules.block.C2f             [576, 576, 2, True]           \n",
            "  9                  -1  1    831168  ultralytics.nn.modules.block.SPPF            [576, 576, 5]                 \n",
            " 10                  -1  1         0  torch.nn.modules.upsampling.Upsample         [None, 2, 'nearest']          \n",
            " 11             [-1, 6]  1         0  ultralytics.nn.modules.conv.Concat           [1]                           \n",
            " 12                  -1  2   1993728  ultralytics.nn.modules.block.C2f             [960, 384, 2]                 \n",
            " 13                  -1  1         0  torch.nn.modules.upsampling.Upsample         [None, 2, 'nearest']          \n",
            " 14             [-1, 4]  1         0  ultralytics.nn.modules.conv.Concat           [1]                           \n",
            " 15                  -1  2    517632  ultralytics.nn.modules.block.C2f             [576, 192, 2]                 \n",
            " 16                  -1  1    332160  ultralytics.nn.modules.conv.Conv             [192, 192, 3, 2]              \n",
            " 17            [-1, 12]  1         0  ultralytics.nn.modules.conv.Concat           [1]                           \n",
            " 18                  -1  2   1846272  ultralytics.nn.modules.block.C2f             [576, 384, 2]                 \n",
            " 19                  -1  1   1327872  ultralytics.nn.modules.conv.Conv             [384, 384, 3, 2]              \n",
            " 20             [-1, 9]  1         0  ultralytics.nn.modules.conv.Concat           [1]                           \n",
            " 21                  -1  2   4207104  ultralytics.nn.modules.block.C2f             [960, 576, 2]                 \n",
            " 22        [15, 18, 21]  1   3875863  ultralytics.nn.modules.head.Detect           [173, [192, 384, 576]]        \n",
            "Model summary: 169 layers, 25,956,487 parameters, 25,956,471 gradients, 79.6 GFLOPs\n",
            "\n",
            "Transferred 475/475 items from pretrained weights\n",
            "Freezing layer 'model.22.dfl.conv.weight'\n",
            "\u001b[34m\u001b[1mAMP: \u001b[0mrunning Automatic Mixed Precision (AMP) checks...\n",
            "Downloading https://github.com/ultralytics/assets/releases/download/v8.3.0/yolo11n.pt to 'yolo11n.pt'...\n"
          ]
        },
        {
          "output_type": "stream",
          "name": "stderr",
          "text": [
            "100%|██████████| 5.35M/5.35M [00:00<00:00, 306MB/s]\n"
          ]
        },
        {
          "output_type": "stream",
          "name": "stdout",
          "text": [
            "\u001b[34m\u001b[1mAMP: \u001b[0mchecks passed ✅\n",
            "\u001b[34m\u001b[1mtrain: \u001b[0mFast image access ✅ (ping: 0.0±0.0 ms, read: 2618.2±972.5 MB/s, size: 101.7 KB)\n"
          ]
        },
        {
          "output_type": "stream",
          "name": "stderr",
          "text": [
            "\u001b[34m\u001b[1mtrain: \u001b[0mScanning /content/dataset/data_label_v2_ALL... 7858 images, 462 backgrounds, 0 corrupt: 100%|██████████| 7858/7858 [00:05<00:00, 1460.69it/s]"
          ]
        },
        {
          "output_type": "stream",
          "name": "stdout",
          "text": [
            "\u001b[34m\u001b[1mtrain: \u001b[0m/content/dataset/data_label_v2_ALL/2022_11_03_15_29_32-HNIP456107HO.jpg: 1 duplicate labels removed\n",
            "\u001b[34m\u001b[1mtrain: \u001b[0m/content/dataset/data_label_v2_ALL/2022_11_10_14_59_59-HNIP120595HO.jpg: 1 duplicate labels removed\n",
            "\u001b[34m\u001b[1mtrain: \u001b[0m/content/dataset/data_label_v2_ALL/2022_11_11_09_10_09-PYNP016064HO.jpg: 1 duplicate labels removed\n",
            "\u001b[34m\u001b[1mtrain: \u001b[0m/content/dataset/data_label_v2_ALL/2022_11_11_09_59_56-BGGP089061HO.jpg: 1 duplicate labels removed\n",
            "\u001b[34m\u001b[1mtrain: \u001b[0m/content/dataset/data_label_v2_ALL/2022_11_14_16_04_38-HNIP548102HO.jpg: 1 duplicate labels removed\n",
            "\u001b[34m\u001b[1mtrain: \u001b[0m/content/dataset/data_label_v2_ALL/2022_11_16_08_43_48-HDGP141064HO.jpg: 1 duplicate labels removed\n",
            "\u001b[34m\u001b[1mtrain: \u001b[0m/content/dataset/data_label_v2_ALL/2022_11_16_15_40_51-HBHP012080HO.jpg: 1 duplicate labels removed\n",
            "\u001b[34m\u001b[1mtrain: \u001b[0m/content/dataset/data_label_v2_ALL/2022_12_06_15_18_24-TBHP019033HO.jpg: 1 duplicate labels removed\n",
            "\u001b[34m\u001b[1mtrain: \u001b[0m/content/dataset/data_label_v2_ALL/2022_12_07_16_39_07-QNHP088205HO.jpg: 1 duplicate labels removed\n",
            "\u001b[34m\u001b[1mtrain: \u001b[0m/content/dataset/data_label_v2_ALL/2022_12_08_10_14_33-HYNP074125HO.jpg: 1 duplicate labels removed\n",
            "\u001b[34m\u001b[1mtrain: \u001b[0m/content/dataset/data_label_v2_ALL/2022_12_09_10_16_40-TBHP044214HO.jpg: 1 duplicate labels removed\n",
            "\u001b[34m\u001b[1mtrain: \u001b[0m/content/dataset/data_label_v2_ALL/2022_12_29_09_46_47-HDGP048174HO.jpg: 1 duplicate labels removed\n"
          ]
        },
        {
          "output_type": "stream",
          "name": "stderr",
          "text": [
            "\n"
          ]
        },
        {
          "output_type": "stream",
          "name": "stdout",
          "text": [
            "\u001b[34m\u001b[1mtrain: \u001b[0mNew cache created: /content/dataset/data_label_v2_ALL.cache\n"
          ]
        },
        {
          "output_type": "stream",
          "name": "stderr",
          "text": [
            "\u001b[34m\u001b[1mtrain: \u001b[0mCaching images (17.9GB Disk): 100%|██████████| 7858/7858 [06:35<00:00, 19.88it/s]\n"
          ]
        },
        {
          "output_type": "stream",
          "name": "stdout",
          "text": [
            "\u001b[34m\u001b[1malbumentations: \u001b[0mBlur(p=0.01, blur_limit=(3, 7)), MedianBlur(p=0.01, blur_limit=(3, 7)), ToGray(p=0.01, method='weighted_average', num_output_channels=3), CLAHE(p=0.01, clip_limit=(1.0, 4.0), tile_grid_size=(8, 8))\n",
            "\u001b[34m\u001b[1mval: \u001b[0mFast image access ✅ (ping: 0.0±0.0 ms, read: 704.0±83.5 MB/s, size: 107.9 KB)\n"
          ]
        },
        {
          "output_type": "stream",
          "name": "stderr",
          "text": [
            "\u001b[34m\u001b[1mval: \u001b[0mScanning /content/dataset/data_label_v2_ALL... 1684 images, 100 backgrounds, 0 corrupt: 100%|██████████| 1684/1684 [00:01<00:00, 1260.98it/s]"
          ]
        },
        {
          "output_type": "stream",
          "name": "stdout",
          "text": [
            "\u001b[34m\u001b[1mval: \u001b[0m/content/dataset/data_label_v2_ALL/2022_11_21_09_08_32-TNNP069058HO.jpg: 1 duplicate labels removed\n",
            "\u001b[34m\u001b[1mval: \u001b[0m/content/dataset/data_label_v2_ALL/2022_11_21_16_32_02-HBHP012062HO.jpg: 1 duplicate labels removed\n"
          ]
        },
        {
          "output_type": "stream",
          "name": "stderr",
          "text": [
            "\n"
          ]
        },
        {
          "output_type": "stream",
          "name": "stdout",
          "text": [
            "\u001b[34m\u001b[1mval: \u001b[0mNew cache created: /content/dataset/data_label_v2_ALL.cache\n"
          ]
        },
        {
          "output_type": "stream",
          "name": "stderr",
          "text": [
            "\u001b[34m\u001b[1mval: \u001b[0mCaching images (3.9GB Disk): 100%|██████████| 1684/1684 [00:12<00:00, 135.00it/s]\n"
          ]
        },
        {
          "output_type": "stream",
          "name": "stdout",
          "text": [
            "Plotting labels to /content/drive/MyDrive/fiber_optic_box_inspection/runs_yolo/v8m_mni1.0_batch25_imgsz896_2/labels.jpg... \n",
            "\u001b[34m\u001b[1moptimizer:\u001b[0m 'optimizer=auto' found, ignoring 'lr0=0.01' and 'momentum=0.937' and determining best 'optimizer', 'lr0' and 'momentum' automatically... \n",
            "\u001b[34m\u001b[1moptimizer:\u001b[0m SGD(lr=0.01, momentum=0.9) with parameter groups 77 weight(decay=0.0), 84 weight(decay=0.0005859375000000001), 83 bias(decay=0.0)\n",
            "Resuming training /content/drive/MyDrive/fiber_optic_box_inspection/runs_yolo/v8m_mni1.0_batch25_imgsz896_2/weights/last.pt from epoch 49 to 300 total epochs\n",
            "Image sizes 896 train, 896 val\n",
            "Using 12 dataloader workers\n",
            "Logging results to \u001b[1m/content/drive/MyDrive/fiber_optic_box_inspection/runs_yolo/v8m_mni1.0_batch25_imgsz896_2\u001b[0m\n",
            "Starting training for 300 epochs...\n",
            "\n",
            "      Epoch    GPU_mem   box_loss   cls_loss   dfl_loss  Instances       Size\n"
          ]
        },
        {
          "output_type": "stream",
          "name": "stderr",
          "text": [
            "     49/300      20.3G     0.9023      0.592      1.162        153        896: 100%|██████████| 315/315 [05:45<00:00,  1.10s/it]\n",
            "                 Class     Images  Instances      Box(P          R      mAP50  mAP50-95): 100%|██████████| 34/34 [00:26<00:00,  1.28it/s]\n"
          ]
        },
        {
          "output_type": "stream",
          "name": "stdout",
          "text": [
            "                   all       1684      17375      0.672      0.574      0.571      0.382\n",
            "\n",
            "      Epoch    GPU_mem   box_loss   cls_loss   dfl_loss  Instances       Size\n"
          ]
        },
        {
          "output_type": "stream",
          "name": "stderr",
          "text": [
            "     50/300      19.1G     0.8986      0.591      1.163        157        896: 100%|██████████| 315/315 [05:59<00:00,  1.14s/it]\n",
            "                 Class     Images  Instances      Box(P          R      mAP50  mAP50-95): 100%|██████████| 34/34 [00:24<00:00,  1.37it/s]\n"
          ]
        },
        {
          "output_type": "stream",
          "name": "stdout",
          "text": [
            "                   all       1684      17375      0.641      0.557      0.581      0.385\n",
            "\n",
            "      Epoch    GPU_mem   box_loss   cls_loss   dfl_loss  Instances       Size\n"
          ]
        },
        {
          "output_type": "stream",
          "name": "stderr",
          "text": [
            "     51/300      19.1G     0.8993     0.5906      1.168        191        896: 100%|██████████| 315/315 [05:42<00:00,  1.09s/it]\n",
            "                 Class     Images  Instances      Box(P          R      mAP50  mAP50-95): 100%|██████████| 34/34 [00:25<00:00,  1.35it/s]\n"
          ]
        },
        {
          "output_type": "stream",
          "name": "stdout",
          "text": [
            "                   all       1684      17375       0.66      0.566      0.564      0.376\n",
            "\n",
            "      Epoch    GPU_mem   box_loss   cls_loss   dfl_loss  Instances       Size\n"
          ]
        },
        {
          "output_type": "stream",
          "name": "stderr",
          "text": [
            "     52/300        19G     0.8935     0.5838      1.162         94        896: 100%|██████████| 315/315 [05:42<00:00,  1.09s/it]\n",
            "                 Class     Images  Instances      Box(P          R      mAP50  mAP50-95): 100%|██████████| 34/34 [00:23<00:00,  1.43it/s]\n"
          ]
        },
        {
          "output_type": "stream",
          "name": "stdout",
          "text": [
            "                   all       1684      17375      0.623      0.579      0.577      0.382\n",
            "\n",
            "      Epoch    GPU_mem   box_loss   cls_loss   dfl_loss  Instances       Size\n"
          ]
        },
        {
          "output_type": "stream",
          "name": "stderr",
          "text": [
            "     53/300      18.9G     0.8921     0.5805      1.163        202        896: 100%|██████████| 315/315 [05:41<00:00,  1.08s/it]\n",
            "                 Class     Images  Instances      Box(P          R      mAP50  mAP50-95): 100%|██████████| 34/34 [00:23<00:00,  1.42it/s]"
          ]
        },
        {
          "output_type": "stream",
          "name": "stdout",
          "text": [
            "                   all       1684      17375      0.632      0.583      0.573      0.383\n"
          ]
        },
        {
          "output_type": "stream",
          "name": "stderr",
          "text": [
            "\n"
          ]
        },
        {
          "output_type": "stream",
          "name": "stdout",
          "text": [
            "\n",
            "      Epoch    GPU_mem   box_loss   cls_loss   dfl_loss  Instances       Size\n"
          ]
        },
        {
          "output_type": "stream",
          "name": "stderr",
          "text": [
            "     54/300        19G     0.8885      0.576      1.156        189        896: 100%|██████████| 315/315 [05:42<00:00,  1.09s/it]\n",
            "                 Class     Images  Instances      Box(P          R      mAP50  mAP50-95): 100%|██████████| 34/34 [00:25<00:00,  1.35it/s]"
          ]
        },
        {
          "output_type": "stream",
          "name": "stdout",
          "text": [
            "                   all       1684      17375       0.65      0.569      0.568      0.378\n"
          ]
        },
        {
          "output_type": "stream",
          "name": "stderr",
          "text": [
            "\n"
          ]
        },
        {
          "output_type": "stream",
          "name": "stdout",
          "text": [
            "\n",
            "      Epoch    GPU_mem   box_loss   cls_loss   dfl_loss  Instances       Size\n"
          ]
        },
        {
          "output_type": "stream",
          "name": "stderr",
          "text": [
            "     55/300      18.9G     0.8855     0.5748      1.155        150        896: 100%|██████████| 315/315 [05:42<00:00,  1.09s/it]\n",
            "                 Class     Images  Instances      Box(P          R      mAP50  mAP50-95): 100%|██████████| 34/34 [00:24<00:00,  1.38it/s]\n"
          ]
        },
        {
          "output_type": "stream",
          "name": "stdout",
          "text": [
            "                   all       1684      17375      0.656      0.569      0.564      0.378\n",
            "\n",
            "      Epoch    GPU_mem   box_loss   cls_loss   dfl_loss  Instances       Size\n"
          ]
        },
        {
          "output_type": "stream",
          "name": "stderr",
          "text": [
            "     56/300        19G     0.8806     0.5714      1.151        208        896: 100%|██████████| 315/315 [05:42<00:00,  1.09s/it]\n",
            "                 Class     Images  Instances      Box(P          R      mAP50  mAP50-95): 100%|██████████| 34/34 [00:24<00:00,  1.41it/s]"
          ]
        },
        {
          "output_type": "stream",
          "name": "stdout",
          "text": [
            "                   all       1684      17375      0.688      0.564      0.566      0.379\n"
          ]
        },
        {
          "output_type": "stream",
          "name": "stderr",
          "text": [
            "\n"
          ]
        },
        {
          "output_type": "stream",
          "name": "stdout",
          "text": [
            "\n",
            "      Epoch    GPU_mem   box_loss   cls_loss   dfl_loss  Instances       Size\n"
          ]
        },
        {
          "output_type": "stream",
          "name": "stderr",
          "text": [
            "     57/300      19.1G     0.8777     0.5678      1.149        203        896: 100%|██████████| 315/315 [05:42<00:00,  1.09s/it]\n",
            "                 Class     Images  Instances      Box(P          R      mAP50  mAP50-95): 100%|██████████| 34/34 [00:24<00:00,  1.41it/s]\n"
          ]
        },
        {
          "output_type": "stream",
          "name": "stdout",
          "text": [
            "                   all       1684      17375      0.656      0.569      0.563      0.377\n",
            "\n",
            "      Epoch    GPU_mem   box_loss   cls_loss   dfl_loss  Instances       Size\n"
          ]
        },
        {
          "output_type": "stream",
          "name": "stderr",
          "text": [
            "     58/300      19.1G     0.8758     0.5665      1.154        183        896: 100%|██████████| 315/315 [05:41<00:00,  1.09s/it]\n",
            "                 Class     Images  Instances      Box(P          R      mAP50  mAP50-95): 100%|██████████| 34/34 [00:24<00:00,  1.42it/s]\n"
          ]
        },
        {
          "output_type": "stream",
          "name": "stdout",
          "text": [
            "                   all       1684      17375      0.671       0.56      0.563      0.377\n",
            "\n",
            "      Epoch    GPU_mem   box_loss   cls_loss   dfl_loss  Instances       Size\n"
          ]
        },
        {
          "output_type": "stream",
          "name": "stderr",
          "text": [
            "     59/300      19.1G     0.8782     0.5635       1.15        142        896: 100%|██████████| 315/315 [05:42<00:00,  1.09s/it]\n",
            "                 Class     Images  Instances      Box(P          R      mAP50  mAP50-95): 100%|██████████| 34/34 [00:24<00:00,  1.39it/s]"
          ]
        },
        {
          "output_type": "stream",
          "name": "stdout",
          "text": [
            "                   all       1684      17375      0.645      0.572      0.574      0.384\n"
          ]
        },
        {
          "output_type": "stream",
          "name": "stderr",
          "text": [
            "\n"
          ]
        },
        {
          "output_type": "stream",
          "name": "stdout",
          "text": [
            "\n",
            "      Epoch    GPU_mem   box_loss   cls_loss   dfl_loss  Instances       Size\n"
          ]
        },
        {
          "output_type": "stream",
          "name": "stderr",
          "text": [
            "     60/300      19.1G     0.8681     0.5612      1.146        103        896: 100%|██████████| 315/315 [05:42<00:00,  1.09s/it]\n",
            "                 Class     Images  Instances      Box(P          R      mAP50  mAP50-95): 100%|██████████| 34/34 [00:25<00:00,  1.36it/s]"
          ]
        },
        {
          "output_type": "stream",
          "name": "stdout",
          "text": [
            "                   all       1684      17375      0.668      0.575      0.579      0.384\n"
          ]
        },
        {
          "output_type": "stream",
          "name": "stderr",
          "text": [
            "\n"
          ]
        },
        {
          "output_type": "stream",
          "name": "stdout",
          "text": [
            "\u001b[34m\u001b[1mEarlyStopping: \u001b[0mTraining stopped early as no improvement observed in last 10 epochs. Best results observed at epoch 50, best model saved as best.pt.\n",
            "To update EarlyStopping(patience=10) pass a new patience value, i.e. `patience=300` or use `patience=0` to disable EarlyStopping.\n",
            "\n",
            "12 epochs completed in 1.234 hours.\n",
            "Optimizer stripped from /content/drive/MyDrive/fiber_optic_box_inspection/runs_yolo/v8m_mni1.0_batch25_imgsz896_2/weights/last.pt, 52.2MB\n",
            "Optimizer stripped from /content/drive/MyDrive/fiber_optic_box_inspection/runs_yolo/v8m_mni1.0_batch25_imgsz896_2/weights/best.pt, 52.2MB\n",
            "\n",
            "Validating /content/drive/MyDrive/fiber_optic_box_inspection/runs_yolo/v8m_mni1.0_batch25_imgsz896_2/weights/best.pt...\n",
            "Ultralytics 8.3.158 🚀 Python-3.11.13 torch-2.6.0+cu124 CUDA:0 (NVIDIA L4, 22693MiB)\n",
            "Model summary (fused): 92 layers, 25,939,927 parameters, 0 gradients, 79.2 GFLOPs\n"
          ]
        },
        {
          "output_type": "stream",
          "name": "stderr",
          "text": [
            "                 Class     Images  Instances      Box(P          R      mAP50  mAP50-95): 100%|██████████| 34/34 [00:24<00:00,  1.40it/s]\n"
          ]
        },
        {
          "output_type": "stream",
          "name": "stdout",
          "text": [
            "                   all       1684      17375       0.64      0.557      0.581      0.385\n",
            "                   1.0        163        164      0.816      0.866        0.9      0.781\n",
            "                   1.1         67         67      0.679      0.694      0.745      0.595\n",
            "                   1.2         16         16      0.267      0.438      0.334      0.187\n",
            "                   1.7         20         20      0.381        0.5      0.518      0.414\n",
            "                   2.0        270        272      0.931      0.926      0.971      0.862\n",
            "                   2.3          1          1          1          0          0          0\n",
            "                   3.0        251        251      0.891      0.932      0.946      0.607\n",
            "                   3.1          4          5      0.551        0.2      0.223      0.126\n",
            "                   5.0        267        527      0.923      0.991      0.981      0.693\n",
            "                   5.1         10         10      0.824      0.472      0.539      0.261\n",
            "                   6.0        231        231      0.879      0.945      0.948       0.73\n",
            "                   6.1          2          2       0.38        0.5      0.538       0.11\n",
            "                   7.0        211        211      0.833      0.924      0.943      0.662\n",
            "                   7.1         11         11          0          0     0.0867     0.0554\n",
            "                   7.2          2          2      0.159        0.5      0.557      0.217\n",
            "                   7.7          2          2          1          0    0.00554    0.00444\n",
            "                   8.0        253        705      0.771      0.814      0.832      0.475\n",
            "                   8.3         17         22      0.392      0.318      0.336      0.222\n",
            "                   9.0        177        296      0.645      0.733      0.721      0.391\n",
            "                   9.4         54         78      0.805      0.808      0.847      0.435\n",
            "                  10.0         86         86      0.445      0.728      0.573      0.433\n",
            "                  11.0        252        652      0.725      0.913      0.807      0.481\n",
            "                  11.1         12         15      0.267       0.34      0.361      0.186\n",
            "                  13.0        165        165      0.621      0.825      0.815       0.61\n",
            "                  13.1         17         17          0          0      0.164      0.113\n",
            "                  13.2          1          1          1          0      0.995      0.895\n",
            "                  14.0        148        149        0.8      0.885       0.85      0.724\n",
            "                  14.1         18         18      0.634      0.667      0.666      0.547\n",
            "                  14.2         92         94      0.749      0.698      0.798      0.597\n",
            "                  19.0         97         98      0.559      0.755      0.661      0.449\n",
            "                  19.1         11         11          0          0     0.0823     0.0488\n",
            "                  19.3         59         60      0.438       0.65      0.572      0.303\n",
            "                  20.0         88         88      0.661       0.75      0.735      0.522\n",
            "                  20.1         49         52      0.431      0.452      0.474      0.296\n",
            "                  20.2         79        102      0.612      0.557      0.561       0.29\n",
            "                  20.3          2          2          1          0          0          0\n",
            "                  23.0        258        262       0.72       0.87      0.815      0.575\n",
            "                  23.1        169        191      0.685      0.592      0.614      0.314\n",
            "                  23.2          4          4          0          0    0.00104    0.00052\n",
            "                  24.0         51         80      0.739       0.65      0.704      0.283\n",
            "                  24.1         82        143      0.565      0.445      0.471      0.166\n",
            "                  24.3          1          1          0          0          0          0\n",
            "                  26.0        468        472      0.873      0.987      0.935       0.81\n",
            "                  26.1          3          3          0          0     0.0227     0.0196\n",
            "                  27.0        147        147      0.813      0.973      0.924      0.639\n",
            "                  28.0        249        249      0.873      0.996      0.958      0.824\n",
            "                  29.0        264        268      0.926      0.983      0.952      0.869\n",
            "                  29.1         15         15      0.533        0.4       0.35       0.28\n",
            "                  29.4          3          3      0.615      0.333      0.385      0.348\n",
            "                  30.0        203        391      0.926       0.93      0.951      0.588\n",
            "                  30.1         20         25      0.258     0.0983      0.173      0.121\n",
            "                  32.0         68        136       0.94          1      0.972      0.701\n",
            "                  32.1          5         10      0.532        0.7      0.602      0.427\n",
            "                  32.2         49         98      0.942      0.684      0.906      0.583\n",
            "                  35.0        146        155      0.763      0.845      0.826      0.381\n",
            "                  35.1         39         41       0.44      0.463      0.397      0.177\n",
            "                  37.0        236        558      0.766      0.919      0.876      0.563\n",
            "                  37.1          2          4          1          0      0.531      0.228\n",
            "                  37.3          3          5          1          0       0.38      0.116\n",
            "                  37.4         54        144      0.767      0.965      0.922      0.624\n",
            "                  38.0        216        744      0.751      0.855      0.886      0.539\n",
            "                  38.1          5         17          0          0     0.0218    0.00645\n",
            "                  39.0        171        293      0.842      0.901      0.896      0.607\n",
            "                  39.1          7         11      0.406      0.182      0.224     0.0986\n",
            "                  40.0        171        171       0.84      0.953      0.946      0.828\n",
            "                  40.1         18         18       0.42      0.556      0.616      0.466\n",
            "                  41.0        104        107      0.956      0.953      0.969      0.839\n",
            "                  41.1          2          2          0          0     0.0362     0.0301\n",
            "                  41.2          1          1          1          0     0.0284     0.0256\n",
            "                  42.0        118        118      0.875          1      0.943      0.701\n",
            "                  42.1         15         15      0.646        0.4      0.402      0.196\n",
            "                  43.0        285       1126      0.955      0.985      0.986      0.831\n",
            "                  43.1         29         33      0.713      0.636      0.789      0.444\n",
            "                  44.0        202        202      0.933       0.99       0.97       0.74\n",
            "                  44.1          4          4      0.468       0.25      0.516      0.272\n",
            "                  45.0        214        215      0.905      0.973      0.954      0.704\n",
            "                  45.1         63         63      0.652      0.619      0.587      0.249\n",
            "                  45.2          7          7      0.363      0.286      0.326      0.182\n",
            "                  46.0        122        335       0.75      0.831      0.827      0.378\n",
            "                  46.1         69        119      0.344      0.143      0.216     0.0569\n",
            "                  46.3          3          8      0.581      0.186      0.232      0.058\n",
            "                  47.0        218        643      0.837      0.935      0.922      0.568\n",
            "                  47.1         65         74       0.72      0.763      0.748       0.35\n",
            "                  48.0        206        239      0.771      0.904      0.875      0.484\n",
            "                  48.2          1          1          1          0     0.0415     0.0173\n",
            "                  49.0        143        145       0.73      0.878      0.828      0.572\n",
            "                  49.3         20         22      0.372      0.682      0.398      0.135\n",
            "                  49.4         52         59      0.516      0.433      0.489      0.293\n",
            "                  50.0        102        103      0.849       0.99      0.934      0.732\n",
            "                  50.1         33         33      0.733      0.909      0.927       0.67\n",
            "                  50.2          9          9          1          0      0.181     0.0494\n",
            "                  51.0        372        372      0.867      0.981      0.929      0.844\n",
            "                  51.2         31         40      0.419      0.379      0.302       0.19\n",
            "                  51.3          9         10      0.308      0.358      0.327      0.119\n",
            "                  52.0        184        190      0.886      0.941      0.889      0.565\n",
            "                  52.3          9          9          0          0     0.0734     0.0389\n",
            "                  52.5         24         25      0.726       0.72      0.762      0.204\n",
            "                  53.0        195        207       0.82      0.903      0.849      0.533\n",
            "                  53.4         18         20      0.522        0.4      0.345      0.122\n",
            "                  53.5         17         17      0.201      0.235      0.167       0.12\n",
            "                  54.0        166        307      0.863      0.922      0.878      0.569\n",
            "                  54.4         55         80      0.481      0.312      0.328     0.0951\n",
            "                  54.5         12         13          0          0     0.0178      0.011\n",
            "                  55.0        197        359      0.868      0.944      0.929      0.554\n",
            "                  55.4         54         72      0.692      0.688       0.65      0.269\n",
            "                  55.5          3          4          0          0     0.0529      0.038\n",
            "                  56.0        271        807      0.938      0.976      0.986      0.843\n",
            "                  56.2          4          5       0.57        0.2      0.448      0.289\n",
            "                  56.4          1          4      0.641       0.75      0.752      0.569\n",
            "                  57.0        283        840      0.943      0.964      0.981       0.76\n",
            "                  57.1          1          1          0          0     0.0765     0.0306\n",
            "                  58.0        270        272      0.965      0.993       0.99      0.801\n",
            "                  58.1          8          8          1      0.609      0.872      0.533\n",
            "                  59.0        274        275      0.966      0.996      0.982      0.848\n",
            "                  59.2          1          1          1          0     0.0107    0.00749\n",
            "                  59.3          1          1          0          0          0          0\n",
            "                  60.0        204        205      0.799      0.971      0.939       0.74\n",
            "                  60.1         29         36      0.424      0.583      0.473      0.208\n",
            "                  60.3         56         65      0.492      0.369      0.378      0.175\n",
            "                  61.0        280        280      0.966          1      0.986      0.826\n",
            "                  61.1          1          1          1          0          0          0\n",
            "                  61.4          4          4          1          0    0.00783    0.00704\n",
            "Speed: 0.2ms preprocess, 8.4ms inference, 0.0ms loss, 2.1ms postprocess per image\n",
            "Results saved to \u001b[1m/content/drive/MyDrive/fiber_optic_box_inspection/runs_yolo/v8m_mni1.0_batch25_imgsz896_2\u001b[0m\n"
          ]
        }
      ]
    },
    {
      "cell_type": "markdown",
      "source": [
        "# what"
      ],
      "metadata": {
        "id": "lpPgFnEn0VjV"
      }
    },
    {
      "cell_type": "code",
      "source": [
        "import torch\n",
        "torch.cuda.empty_cache()"
      ],
      "metadata": {
        "id": "ACvtImIHLmI9"
      },
      "execution_count": null,
      "outputs": []
    },
    {
      "cell_type": "code",
      "source": [],
      "metadata": {
        "id": "C8gTtBBo9iU3"
      },
      "execution_count": null,
      "outputs": []
    }
  ],
  "metadata": {
    "colab": {
      "provenance": [],
      "machine_shape": "hm",
      "gpuType": "L4",
      "collapsed_sections": [
        "KLRShjFGX7M_",
        "nOLYLV50YB0u",
        "UFOgOFF7YWfQ",
        "ExZDAV-LYa5Q",
        "MqykX7ncdZgT",
        "sm7ZkBG8WSW3",
        "UUsdV2gVvGQ5",
        "mrv3Kb5Ryssw",
        "VSOA9vQqEeRb",
        "QILTQrAmeB8H",
        "-m71MKuxzDHJ"
      ],
      "authorship_tag": "ABX9TyP7AZZzikIDHASA8bbYS0OI",
      "include_colab_link": true
    },
    "kernelspec": {
      "display_name": "Python 3",
      "name": "python3"
    },
    "language_info": {
      "name": "python"
    },
    "accelerator": "GPU"
  },
  "nbformat": 4,
  "nbformat_minor": 0
}