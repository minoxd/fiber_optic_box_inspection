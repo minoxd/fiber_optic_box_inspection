{
  "cells": [
    {
      "cell_type": "markdown",
      "metadata": {
        "id": "view-in-github",
        "colab_type": "text"
      },
      "source": [
        "<a href=\"https://colab.research.google.com/github/minoxd/fiber_optic_box_inspection/blob/main/hehe.ipynb\" target=\"_parent\"><img src=\"https://colab.research.google.com/assets/colab-badge.svg\" alt=\"Open In Colab\"/></a>"
      ]
    },
    {
      "cell_type": "markdown",
      "source": [
        "# Environmental Setup"
      ],
      "metadata": {
        "id": "KLRShjFGX7M_"
      }
    },
    {
      "cell_type": "code",
      "execution_count": null,
      "metadata": {
        "colab": {
          "base_uri": "https://localhost:8080/"
        },
        "id": "cESaTvhCEaJ6",
        "outputId": "9b5d825d-b52e-49ca-fa77-100a63ea9f98"
      },
      "outputs": [
        {
          "output_type": "stream",
          "name": "stdout",
          "text": [
            "Mounted at /content/drive\n"
          ]
        }
      ],
      "source": [
        "from google.colab import drive\n",
        "drive.mount('/content/drive', force_remount=True)"
      ]
    },
    {
      "cell_type": "code",
      "execution_count": null,
      "metadata": {
        "colab": {
          "base_uri": "https://localhost:8080/"
        },
        "collapsed": true,
        "id": "6dHbcvTwDZzJ",
        "outputId": "19eecb19-1d8d-4aa5-ae64-5f01f5287c8b"
      },
      "outputs": [
        {
          "output_type": "stream",
          "name": "stdout",
          "text": [
            "Collecting ultralytics\n",
            "  Downloading ultralytics-8.3.111-py3-none-any.whl.metadata (37 kB)\n",
            "Requirement already satisfied: numpy<=2.1.1,>=1.23.0 in /usr/local/lib/python3.11/dist-packages (from ultralytics) (2.0.2)\n",
            "Requirement already satisfied: matplotlib>=3.3.0 in /usr/local/lib/python3.11/dist-packages (from ultralytics) (3.10.0)\n",
            "Requirement already satisfied: opencv-python>=4.6.0 in /usr/local/lib/python3.11/dist-packages (from ultralytics) (4.11.0.86)\n",
            "Requirement already satisfied: pillow>=7.1.2 in /usr/local/lib/python3.11/dist-packages (from ultralytics) (11.1.0)\n",
            "Requirement already satisfied: pyyaml>=5.3.1 in /usr/local/lib/python3.11/dist-packages (from ultralytics) (6.0.2)\n",
            "Requirement already satisfied: requests>=2.23.0 in /usr/local/lib/python3.11/dist-packages (from ultralytics) (2.32.3)\n",
            "Requirement already satisfied: scipy>=1.4.1 in /usr/local/lib/python3.11/dist-packages (from ultralytics) (1.14.1)\n",
            "Requirement already satisfied: torch>=1.8.0 in /usr/local/lib/python3.11/dist-packages (from ultralytics) (2.6.0+cu124)\n",
            "Requirement already satisfied: torchvision>=0.9.0 in /usr/local/lib/python3.11/dist-packages (from ultralytics) (0.21.0+cu124)\n",
            "Requirement already satisfied: tqdm>=4.64.0 in /usr/local/lib/python3.11/dist-packages (from ultralytics) (4.67.1)\n",
            "Requirement already satisfied: psutil in /usr/local/lib/python3.11/dist-packages (from ultralytics) (5.9.5)\n",
            "Requirement already satisfied: py-cpuinfo in /usr/local/lib/python3.11/dist-packages (from ultralytics) (9.0.0)\n",
            "Requirement already satisfied: pandas>=1.1.4 in /usr/local/lib/python3.11/dist-packages (from ultralytics) (2.2.2)\n",
            "Requirement already satisfied: seaborn>=0.11.0 in /usr/local/lib/python3.11/dist-packages (from ultralytics) (0.13.2)\n",
            "Collecting ultralytics-thop>=2.0.0 (from ultralytics)\n",
            "  Downloading ultralytics_thop-2.0.14-py3-none-any.whl.metadata (9.4 kB)\n",
            "Requirement already satisfied: contourpy>=1.0.1 in /usr/local/lib/python3.11/dist-packages (from matplotlib>=3.3.0->ultralytics) (1.3.1)\n",
            "Requirement already satisfied: cycler>=0.10 in /usr/local/lib/python3.11/dist-packages (from matplotlib>=3.3.0->ultralytics) (0.12.1)\n",
            "Requirement already satisfied: fonttools>=4.22.0 in /usr/local/lib/python3.11/dist-packages (from matplotlib>=3.3.0->ultralytics) (4.57.0)\n",
            "Requirement already satisfied: kiwisolver>=1.3.1 in /usr/local/lib/python3.11/dist-packages (from matplotlib>=3.3.0->ultralytics) (1.4.8)\n",
            "Requirement already satisfied: packaging>=20.0 in /usr/local/lib/python3.11/dist-packages (from matplotlib>=3.3.0->ultralytics) (24.2)\n",
            "Requirement already satisfied: pyparsing>=2.3.1 in /usr/local/lib/python3.11/dist-packages (from matplotlib>=3.3.0->ultralytics) (3.2.3)\n",
            "Requirement already satisfied: python-dateutil>=2.7 in /usr/local/lib/python3.11/dist-packages (from matplotlib>=3.3.0->ultralytics) (2.8.2)\n",
            "Requirement already satisfied: pytz>=2020.1 in /usr/local/lib/python3.11/dist-packages (from pandas>=1.1.4->ultralytics) (2025.2)\n",
            "Requirement already satisfied: tzdata>=2022.7 in /usr/local/lib/python3.11/dist-packages (from pandas>=1.1.4->ultralytics) (2025.2)\n",
            "Requirement already satisfied: charset-normalizer<4,>=2 in /usr/local/lib/python3.11/dist-packages (from requests>=2.23.0->ultralytics) (3.4.1)\n",
            "Requirement already satisfied: idna<4,>=2.5 in /usr/local/lib/python3.11/dist-packages (from requests>=2.23.0->ultralytics) (3.10)\n",
            "Requirement already satisfied: urllib3<3,>=1.21.1 in /usr/local/lib/python3.11/dist-packages (from requests>=2.23.0->ultralytics) (2.3.0)\n",
            "Requirement already satisfied: certifi>=2017.4.17 in /usr/local/lib/python3.11/dist-packages (from requests>=2.23.0->ultralytics) (2025.1.31)\n",
            "Requirement already satisfied: filelock in /usr/local/lib/python3.11/dist-packages (from torch>=1.8.0->ultralytics) (3.18.0)\n",
            "Requirement already satisfied: typing-extensions>=4.10.0 in /usr/local/lib/python3.11/dist-packages (from torch>=1.8.0->ultralytics) (4.13.1)\n",
            "Requirement already satisfied: networkx in /usr/local/lib/python3.11/dist-packages (from torch>=1.8.0->ultralytics) (3.4.2)\n",
            "Requirement already satisfied: jinja2 in /usr/local/lib/python3.11/dist-packages (from torch>=1.8.0->ultralytics) (3.1.6)\n",
            "Requirement already satisfied: fsspec in /usr/local/lib/python3.11/dist-packages (from torch>=1.8.0->ultralytics) (2025.3.2)\n",
            "Collecting nvidia-cuda-nvrtc-cu12==12.4.127 (from torch>=1.8.0->ultralytics)\n",
            "  Downloading nvidia_cuda_nvrtc_cu12-12.4.127-py3-none-manylinux2014_x86_64.whl.metadata (1.5 kB)\n",
            "Collecting nvidia-cuda-runtime-cu12==12.4.127 (from torch>=1.8.0->ultralytics)\n",
            "  Downloading nvidia_cuda_runtime_cu12-12.4.127-py3-none-manylinux2014_x86_64.whl.metadata (1.5 kB)\n",
            "Collecting nvidia-cuda-cupti-cu12==12.4.127 (from torch>=1.8.0->ultralytics)\n",
            "  Downloading nvidia_cuda_cupti_cu12-12.4.127-py3-none-manylinux2014_x86_64.whl.metadata (1.6 kB)\n",
            "Collecting nvidia-cudnn-cu12==9.1.0.70 (from torch>=1.8.0->ultralytics)\n",
            "  Downloading nvidia_cudnn_cu12-9.1.0.70-py3-none-manylinux2014_x86_64.whl.metadata (1.6 kB)\n",
            "Collecting nvidia-cublas-cu12==12.4.5.8 (from torch>=1.8.0->ultralytics)\n",
            "  Downloading nvidia_cublas_cu12-12.4.5.8-py3-none-manylinux2014_x86_64.whl.metadata (1.5 kB)\n",
            "Collecting nvidia-cufft-cu12==11.2.1.3 (from torch>=1.8.0->ultralytics)\n",
            "  Downloading nvidia_cufft_cu12-11.2.1.3-py3-none-manylinux2014_x86_64.whl.metadata (1.5 kB)\n",
            "Collecting nvidia-curand-cu12==10.3.5.147 (from torch>=1.8.0->ultralytics)\n",
            "  Downloading nvidia_curand_cu12-10.3.5.147-py3-none-manylinux2014_x86_64.whl.metadata (1.5 kB)\n",
            "Collecting nvidia-cusolver-cu12==11.6.1.9 (from torch>=1.8.0->ultralytics)\n",
            "  Downloading nvidia_cusolver_cu12-11.6.1.9-py3-none-manylinux2014_x86_64.whl.metadata (1.6 kB)\n",
            "Collecting nvidia-cusparse-cu12==12.3.1.170 (from torch>=1.8.0->ultralytics)\n",
            "  Downloading nvidia_cusparse_cu12-12.3.1.170-py3-none-manylinux2014_x86_64.whl.metadata (1.6 kB)\n",
            "Requirement already satisfied: nvidia-cusparselt-cu12==0.6.2 in /usr/local/lib/python3.11/dist-packages (from torch>=1.8.0->ultralytics) (0.6.2)\n",
            "Requirement already satisfied: nvidia-nccl-cu12==2.21.5 in /usr/local/lib/python3.11/dist-packages (from torch>=1.8.0->ultralytics) (2.21.5)\n",
            "Requirement already satisfied: nvidia-nvtx-cu12==12.4.127 in /usr/local/lib/python3.11/dist-packages (from torch>=1.8.0->ultralytics) (12.4.127)\n",
            "Collecting nvidia-nvjitlink-cu12==12.4.127 (from torch>=1.8.0->ultralytics)\n",
            "  Downloading nvidia_nvjitlink_cu12-12.4.127-py3-none-manylinux2014_x86_64.whl.metadata (1.5 kB)\n",
            "Requirement already satisfied: triton==3.2.0 in /usr/local/lib/python3.11/dist-packages (from torch>=1.8.0->ultralytics) (3.2.0)\n",
            "Requirement already satisfied: sympy==1.13.1 in /usr/local/lib/python3.11/dist-packages (from torch>=1.8.0->ultralytics) (1.13.1)\n",
            "Requirement already satisfied: mpmath<1.4,>=1.1.0 in /usr/local/lib/python3.11/dist-packages (from sympy==1.13.1->torch>=1.8.0->ultralytics) (1.3.0)\n",
            "Requirement already satisfied: six>=1.5 in /usr/local/lib/python3.11/dist-packages (from python-dateutil>=2.7->matplotlib>=3.3.0->ultralytics) (1.17.0)\n",
            "Requirement already satisfied: MarkupSafe>=2.0 in /usr/local/lib/python3.11/dist-packages (from jinja2->torch>=1.8.0->ultralytics) (3.0.2)\n",
            "Downloading ultralytics-8.3.111-py3-none-any.whl (978 kB)\n",
            "\u001b[2K   \u001b[90m━━━━━━━━━━━━━━━━━━━━━━━━━━━━━━━━━━━━━━━━\u001b[0m \u001b[32m978.8/978.8 kB\u001b[0m \u001b[31m47.1 MB/s\u001b[0m eta \u001b[36m0:00:00\u001b[0m\n",
            "\u001b[?25hDownloading nvidia_cublas_cu12-12.4.5.8-py3-none-manylinux2014_x86_64.whl (363.4 MB)\n",
            "\u001b[2K   \u001b[90m━━━━━━━━━━━━━━━━━━━━━━━━━━━━━━━━━━━━━━━━\u001b[0m \u001b[32m363.4/363.4 MB\u001b[0m \u001b[31m3.3 MB/s\u001b[0m eta \u001b[36m0:00:00\u001b[0m\n",
            "\u001b[?25hDownloading nvidia_cuda_cupti_cu12-12.4.127-py3-none-manylinux2014_x86_64.whl (13.8 MB)\n",
            "\u001b[2K   \u001b[90m━━━━━━━━━━━━━━━━━━━━━━━━━━━━━━━━━━━━━━━━\u001b[0m \u001b[32m13.8/13.8 MB\u001b[0m \u001b[31m123.7 MB/s\u001b[0m eta \u001b[36m0:00:00\u001b[0m\n",
            "\u001b[?25hDownloading nvidia_cuda_nvrtc_cu12-12.4.127-py3-none-manylinux2014_x86_64.whl (24.6 MB)\n",
            "\u001b[2K   \u001b[90m━━━━━━━━━━━━━━━━━━━━━━━━━━━━━━━━━━━━━━━━\u001b[0m \u001b[32m24.6/24.6 MB\u001b[0m \u001b[31m98.5 MB/s\u001b[0m eta \u001b[36m0:00:00\u001b[0m\n",
            "\u001b[?25hDownloading nvidia_cuda_runtime_cu12-12.4.127-py3-none-manylinux2014_x86_64.whl (883 kB)\n",
            "\u001b[2K   \u001b[90m━━━━━━━━━━━━━━━━━━━━━━━━━━━━━━━━━━━━━━━━\u001b[0m \u001b[32m883.7/883.7 kB\u001b[0m \u001b[31m47.0 MB/s\u001b[0m eta \u001b[36m0:00:00\u001b[0m\n",
            "\u001b[?25hDownloading nvidia_cudnn_cu12-9.1.0.70-py3-none-manylinux2014_x86_64.whl (664.8 MB)\n",
            "\u001b[2K   \u001b[90m━━━━━━━━━━━━━━━━━━━━━━━━━━━━━━━━━━━━━━━━\u001b[0m \u001b[32m664.8/664.8 MB\u001b[0m \u001b[31m2.2 MB/s\u001b[0m eta \u001b[36m0:00:00\u001b[0m\n",
            "\u001b[?25hDownloading nvidia_cufft_cu12-11.2.1.3-py3-none-manylinux2014_x86_64.whl (211.5 MB)\n",
            "\u001b[2K   \u001b[90m━━━━━━━━━━━━━━━━━━━━━━━━━━━━━━━━━━━━━━━━\u001b[0m \u001b[32m211.5/211.5 MB\u001b[0m \u001b[31m5.0 MB/s\u001b[0m eta \u001b[36m0:00:00\u001b[0m\n",
            "\u001b[?25hDownloading nvidia_curand_cu12-10.3.5.147-py3-none-manylinux2014_x86_64.whl (56.3 MB)\n",
            "\u001b[2K   \u001b[90m━━━━━━━━━━━━━━━━━━━━━━━━━━━━━━━━━━━━━━━━\u001b[0m \u001b[32m56.3/56.3 MB\u001b[0m \u001b[31m44.6 MB/s\u001b[0m eta \u001b[36m0:00:00\u001b[0m\n",
            "\u001b[?25hDownloading nvidia_cusolver_cu12-11.6.1.9-py3-none-manylinux2014_x86_64.whl (127.9 MB)\n",
            "\u001b[2K   \u001b[90m━━━━━━━━━━━━━━━━━━━━━━━━━━━━━━━━━━━━━━━━\u001b[0m \u001b[32m127.9/127.9 MB\u001b[0m \u001b[31m20.5 MB/s\u001b[0m eta \u001b[36m0:00:00\u001b[0m\n",
            "\u001b[?25hDownloading nvidia_cusparse_cu12-12.3.1.170-py3-none-manylinux2014_x86_64.whl (207.5 MB)\n",
            "\u001b[2K   \u001b[90m━━━━━━━━━━━━━━━━━━━━━━━━━━━━━━━━━━━━━━━━\u001b[0m \u001b[32m207.5/207.5 MB\u001b[0m \u001b[31m6.2 MB/s\u001b[0m eta \u001b[36m0:00:00\u001b[0m\n",
            "\u001b[?25hDownloading nvidia_nvjitlink_cu12-12.4.127-py3-none-manylinux2014_x86_64.whl (21.1 MB)\n",
            "\u001b[2K   \u001b[90m━━━━━━━━━━━━━━━━━━━━━━━━━━━━━━━━━━━━━━━━\u001b[0m \u001b[32m21.1/21.1 MB\u001b[0m \u001b[31m106.2 MB/s\u001b[0m eta \u001b[36m0:00:00\u001b[0m\n",
            "\u001b[?25hDownloading ultralytics_thop-2.0.14-py3-none-any.whl (26 kB)\n",
            "Installing collected packages: nvidia-nvjitlink-cu12, nvidia-curand-cu12, nvidia-cufft-cu12, nvidia-cuda-runtime-cu12, nvidia-cuda-nvrtc-cu12, nvidia-cuda-cupti-cu12, nvidia-cublas-cu12, nvidia-cusparse-cu12, nvidia-cudnn-cu12, nvidia-cusolver-cu12, ultralytics-thop, ultralytics\n",
            "  Attempting uninstall: nvidia-nvjitlink-cu12\n",
            "    Found existing installation: nvidia-nvjitlink-cu12 12.5.82\n",
            "    Uninstalling nvidia-nvjitlink-cu12-12.5.82:\n",
            "      Successfully uninstalled nvidia-nvjitlink-cu12-12.5.82\n",
            "  Attempting uninstall: nvidia-curand-cu12\n",
            "    Found existing installation: nvidia-curand-cu12 10.3.6.82\n",
            "    Uninstalling nvidia-curand-cu12-10.3.6.82:\n",
            "      Successfully uninstalled nvidia-curand-cu12-10.3.6.82\n",
            "  Attempting uninstall: nvidia-cufft-cu12\n",
            "    Found existing installation: nvidia-cufft-cu12 11.2.3.61\n",
            "    Uninstalling nvidia-cufft-cu12-11.2.3.61:\n",
            "      Successfully uninstalled nvidia-cufft-cu12-11.2.3.61\n",
            "  Attempting uninstall: nvidia-cuda-runtime-cu12\n",
            "    Found existing installation: nvidia-cuda-runtime-cu12 12.5.82\n",
            "    Uninstalling nvidia-cuda-runtime-cu12-12.5.82:\n",
            "      Successfully uninstalled nvidia-cuda-runtime-cu12-12.5.82\n",
            "  Attempting uninstall: nvidia-cuda-nvrtc-cu12\n",
            "    Found existing installation: nvidia-cuda-nvrtc-cu12 12.5.82\n",
            "    Uninstalling nvidia-cuda-nvrtc-cu12-12.5.82:\n",
            "      Successfully uninstalled nvidia-cuda-nvrtc-cu12-12.5.82\n",
            "  Attempting uninstall: nvidia-cuda-cupti-cu12\n",
            "    Found existing installation: nvidia-cuda-cupti-cu12 12.5.82\n",
            "    Uninstalling nvidia-cuda-cupti-cu12-12.5.82:\n",
            "      Successfully uninstalled nvidia-cuda-cupti-cu12-12.5.82\n",
            "  Attempting uninstall: nvidia-cublas-cu12\n",
            "    Found existing installation: nvidia-cublas-cu12 12.5.3.2\n",
            "    Uninstalling nvidia-cublas-cu12-12.5.3.2:\n",
            "      Successfully uninstalled nvidia-cublas-cu12-12.5.3.2\n",
            "  Attempting uninstall: nvidia-cusparse-cu12\n",
            "    Found existing installation: nvidia-cusparse-cu12 12.5.1.3\n",
            "    Uninstalling nvidia-cusparse-cu12-12.5.1.3:\n",
            "      Successfully uninstalled nvidia-cusparse-cu12-12.5.1.3\n",
            "  Attempting uninstall: nvidia-cudnn-cu12\n",
            "    Found existing installation: nvidia-cudnn-cu12 9.3.0.75\n",
            "    Uninstalling nvidia-cudnn-cu12-9.3.0.75:\n",
            "      Successfully uninstalled nvidia-cudnn-cu12-9.3.0.75\n",
            "  Attempting uninstall: nvidia-cusolver-cu12\n",
            "    Found existing installation: nvidia-cusolver-cu12 11.6.3.83\n",
            "    Uninstalling nvidia-cusolver-cu12-11.6.3.83:\n",
            "      Successfully uninstalled nvidia-cusolver-cu12-11.6.3.83\n",
            "Successfully installed nvidia-cublas-cu12-12.4.5.8 nvidia-cuda-cupti-cu12-12.4.127 nvidia-cuda-nvrtc-cu12-12.4.127 nvidia-cuda-runtime-cu12-12.4.127 nvidia-cudnn-cu12-9.1.0.70 nvidia-cufft-cu12-11.2.1.3 nvidia-curand-cu12-10.3.5.147 nvidia-cusolver-cu12-11.6.1.9 nvidia-cusparse-cu12-12.3.1.170 nvidia-nvjitlink-cu12-12.4.127 ultralytics-8.3.111 ultralytics-thop-2.0.14\n",
            "Creating new Ultralytics Settings v0.0.6 file ✅ \n",
            "View Ultralytics Settings with 'yolo settings' or at '/root/.config/Ultralytics/settings.json'\n",
            "Update Settings with 'yolo settings key=value', i.e. 'yolo settings runs_dir=path/to/dir'. For help see https://docs.ultralytics.com/quickstart/#ultralytics-settings.\n"
          ]
        }
      ],
      "source": [
        "!pip install ultralytics\n",
        "from ultralytics import YOLO"
      ]
    },
    {
      "cell_type": "code",
      "execution_count": null,
      "metadata": {
        "id": "jUL8WlxoDP8V"
      },
      "outputs": [],
      "source": [
        "import os\n",
        "import shutil\n",
        "import zipfile\n",
        "import tarfile\n",
        "import json\n",
        "from sklearn.model_selection import train_test_split\n",
        "import yaml\n",
        "import torch\n",
        "from multiprocessing import Pool\n",
        "import pandas as pd"
      ]
    },
    {
      "cell_type": "code",
      "execution_count": null,
      "metadata": {
        "id": "tCYny39CfW0j"
      },
      "outputs": [],
      "source": [
        "BASE_DIR = '/content/drive/MyDrive/fiber_optic_box_inspection'\n",
        "if not os.path.exists(BASE_DIR):\n",
        "    raise FileNotFoundError(f\"Base directory {BASE_DIR} not found. Check Google Drive mount.\")\n",
        "\n",
        "paths = {\n",
        "    'Data_INF':                   os.path.join(BASE_DIR, 'Data_INF'),\n",
        "    'dataset_dir':                os.path.join(BASE_DIR, 'dataset'),\n",
        "    'yolo_output_dir':            os.path.join(BASE_DIR, 'runs_yolo'),\n",
        "}\n",
        "paths['raw_classes'] =            os.path.join(paths['Data_INF'], 'inf_raw_classes.json')\n",
        "paths['matching_name_id'] =       os.path.join(paths['Data_INF'], 'matching_name_id_v10.0.xlsx')\n",
        "paths['data_label_compressed'] =  os.path.join(paths['Data_INF'], 'data_label_ALL.tar.gz')\n",
        "\n",
        "paths['data_label_dir'] =         os.path.join(paths['dataset_dir'], 'data_label_v2_ALL')\n",
        "paths['backup_label_dir'] =       os.path.join(paths['data_label_dir'], 'backup_label')\n",
        "if not os.path.exists(paths['backup_label_dir']):\n",
        "    os.makedirs(paths['backup_label_dir'])\n",
        "\n",
        "paths['data'] =                   os.path.join(paths['dataset_dir'], 'data.yaml')\n",
        "paths['all_paths'] =              os.path.join(paths['dataset_dir'], 'all.txt')\n",
        "paths['train_paths'] =            os.path.join(paths['dataset_dir'], 'train.txt')\n",
        "paths['val_paths'] =              os.path.join(paths['dataset_dir'], 'val.txt')\n",
        "paths['test_paths'] =             os.path.join(paths['dataset_dir'], 'test.txt')"
      ]
    },
    {
      "cell_type": "code",
      "source": [
        "with open(paths['raw_classes'], 'r') as f:\n",
        "    class_dict = json.load(f)\n",
        "print(\"Class dictionary from JSON:\", class_dict)\n",
        "\n",
        "class_ids_from_json = sorted([int(k) for k in class_dict.keys()])\n",
        "class_names = [class_dict[str(id)] if id in class_ids_from_json else '' for id in range(class_ids_from_json[-1] + 1)]\n",
        "print(\"Class names in order:\", class_names)"
      ],
      "metadata": {
        "colab": {
          "base_uri": "https://localhost:8080/"
        },
        "id": "YwXoxbKZEtd0",
        "outputId": "c1672953-ef56-42c0-a620-e975fbb02c9f"
      },
      "execution_count": null,
      "outputs": [
        {
          "output_type": "stream",
          "name": "stdout",
          "text": [
            "Class dictionary from JSON: {'0': '1.0', '1': '1.1', '2': '1.2', '4': '1.7', '7': '2.0', '8': '2.1', '9': '2.3', '10': '3.0', '11': '3.1', '12': '4.0', '13': '4.1', '14': '5.0', '15': '5.1', '16': '6.0', '17': '6.1', '18': '7.0', '19': '7.1', '20': '7.2', '21': '7.3', '23': '7.7', '24': '8.0', '25': '8.3', '27': '8.5', '28': '9.0', '30': '9.4', '32': '10.0', '33': '10.1', '34': '11.0', '35': '11.1', '36': '13.0', '37': '13.1', '38': '13.2', '41': '14.0', '42': '14.1', '43': '14.2', '44': '14.3', '45': '15.0', '46': '15.1', '47': '15.4', '50': '17.0', '51': '17.1', '52': '18.0', '53': '18.1', '54': '19.0', '55': '19.1', '56': '19.2', '57': '19.3', '58': '19.4', '59': '19.5', '60': '20.0', '61': '20.1', '62': '20.2', '63': '20.3', '67': '23.0', '68': '23.1', '69': '23.2', '70': '24.0', '71': '24.1', '72': '24.3', '73': '26.0', '74': '26.1', '75': '27.0', '76': '27.1', '77': '28.0', '78': '28.3', '80': '29.0', '81': '29.1', '82': '29.2', '83': '29.4', '84': '30.0', '85': '30.1', '86': '32.0', '87': '32.1', '88': '32.2', '93': '35.0', '94': '35.1', '97': '37.0', '98': '37.1', '99': '37.3', '100': '37.4', '101': '38.0', '102': '38.1', '103': '39.0', '104': '39.1', '105': '40.0', '106': '40.1', '107': '40.2', '108': '41.0', '109': '41.1', '110': '41.2', '111': '42.0', '112': '42.1', '113': '43.0', '114': '43.1', '115': '44.0', '116': '44.1', '117': '44.2', '118': '45.0', '119': '45.1', '120': '45.2', '122': '46.0', '123': '46.1', '124': '46.3', '125': '46.4', '126': '47.0', '127': '47.1', '128': '47.3', '129': '48.0', '130': '48.2', '131': '49.0', '132': '49.3', '133': '49.4', '134': '50.0', '135': '50.1', '136': '50.2', '137': '51.0', '138': '51.2', '139': '51.3', '140': '52.0', '141': '52.3', '142': '52.5', '143': '53.0', '144': '53.4', '145': '53.5', '146': '54.0', '147': '54.4', '148': '54.5', '149': '55.0', '150': '55.4', '151': '55.5', '152': '56.0', '153': '56.1', '154': '56.2', '155': '56.4', '156': '57.0', '157': '57.1', '158': '57.2', '159': '58.0', '160': '58.1', '161': '58.2', '162': '59.0', '163': '59.1', '164': '59.2', '165': '59.3', '166': '60.0', '167': '60.1', '168': '60.3', '169': '61.0', '170': '61.1', '171': '61.2', '172': '61.4'}\n",
            "Class names in order: ['1.0', '1.1', '1.2', '', '1.7', '', '', '2.0', '2.1', '2.3', '3.0', '3.1', '4.0', '4.1', '5.0', '5.1', '6.0', '6.1', '7.0', '7.1', '7.2', '7.3', '', '7.7', '8.0', '8.3', '', '8.5', '9.0', '', '9.4', '', '10.0', '10.1', '11.0', '11.1', '13.0', '13.1', '13.2', '', '', '14.0', '14.1', '14.2', '14.3', '15.0', '15.1', '15.4', '', '', '17.0', '17.1', '18.0', '18.1', '19.0', '19.1', '19.2', '19.3', '19.4', '19.5', '20.0', '20.1', '20.2', '20.3', '', '', '', '23.0', '23.1', '23.2', '24.0', '24.1', '24.3', '26.0', '26.1', '27.0', '27.1', '28.0', '28.3', '', '29.0', '29.1', '29.2', '29.4', '30.0', '30.1', '32.0', '32.1', '32.2', '', '', '', '', '35.0', '35.1', '', '', '37.0', '37.1', '37.3', '37.4', '38.0', '38.1', '39.0', '39.1', '40.0', '40.1', '40.2', '41.0', '41.1', '41.2', '42.0', '42.1', '43.0', '43.1', '44.0', '44.1', '44.2', '45.0', '45.1', '45.2', '', '46.0', '46.1', '46.3', '46.4', '47.0', '47.1', '47.3', '48.0', '48.2', '49.0', '49.3', '49.4', '50.0', '50.1', '50.2', '51.0', '51.2', '51.3', '52.0', '52.3', '52.5', '53.0', '53.4', '53.5', '54.0', '54.4', '54.5', '55.0', '55.4', '55.5', '56.0', '56.1', '56.2', '56.4', '57.0', '57.1', '57.2', '58.0', '58.1', '58.2', '59.0', '59.1', '59.2', '59.3', '60.0', '60.1', '60.3', '61.0', '61.1', '61.2', '61.4']\n"
          ]
        }
      ]
    },
    {
      "cell_type": "code",
      "source": [
        "matching_name_id_df"
      ],
      "metadata": {
        "colab": {
          "base_uri": "https://localhost:8080/",
          "height": 423
        },
        "id": "UrHb_bZgYtql",
        "outputId": "f6428f8b-76d9-45c2-c881-248a6a50c2c8"
      },
      "execution_count": null,
      "outputs": [
        {
          "output_type": "execute_result",
          "data": {
            "text/plain": [
              "       id                                             title  \\\n",
              "0     0.1                              Ảnh mờ, sai góc chụp   \n",
              "1     0.2                    Ảnh giả, ảnh chụp qua màn hình   \n",
              "2     1.0                     Tên tập điểm: sơn đỏ/đen(Đạt)   \n",
              "3     1.1                                         Tên bị mờ   \n",
              "4     1.2         Giấy dán quảng cáo che, chưa vệ sinh sạch   \n",
              "..    ...                                               ...   \n",
              "181  71.1                                     Modem cũ/ bẩn   \n",
              "182  72.1                              Có/Không có dây LAN    \n",
              "183  72.2                       Có/không có dây LAN đúc sẵn   \n",
              "184  73.1                     Giá trị đo công suất tập điểm   \n",
              "185  74.1  Không cắt dây gia cường, không cắt dây gia cường   \n",
              "\n",
              "                               Unnamed: 2  \n",
              "0                             Bổ sung mới  \n",
              "1                             Bổ sung mới  \n",
              "2                                     NaN  \n",
              "3                          Không thay đổi  \n",
              "4    Cập nhật tên, không thay đổi gì thêm  \n",
              "..                                    ...  \n",
              "181                           Bổ sung mới  \n",
              "182                           Bổ sung mới  \n",
              "183                           Bổ sung mới  \n",
              "184                           Bổ sung mới  \n",
              "185                           Bổ sung mới  \n",
              "\n",
              "[186 rows x 3 columns]"
            ],
            "text/html": [
              "\n",
              "  <div id=\"df-269caf4d-fd00-432e-b83e-7645645e4c95\" class=\"colab-df-container\">\n",
              "    <div>\n",
              "<style scoped>\n",
              "    .dataframe tbody tr th:only-of-type {\n",
              "        vertical-align: middle;\n",
              "    }\n",
              "\n",
              "    .dataframe tbody tr th {\n",
              "        vertical-align: top;\n",
              "    }\n",
              "\n",
              "    .dataframe thead th {\n",
              "        text-align: right;\n",
              "    }\n",
              "</style>\n",
              "<table border=\"1\" class=\"dataframe\">\n",
              "  <thead>\n",
              "    <tr style=\"text-align: right;\">\n",
              "      <th></th>\n",
              "      <th>id</th>\n",
              "      <th>title</th>\n",
              "      <th>Unnamed: 2</th>\n",
              "    </tr>\n",
              "  </thead>\n",
              "  <tbody>\n",
              "    <tr>\n",
              "      <th>0</th>\n",
              "      <td>0.1</td>\n",
              "      <td>Ảnh mờ, sai góc chụp</td>\n",
              "      <td>Bổ sung mới</td>\n",
              "    </tr>\n",
              "    <tr>\n",
              "      <th>1</th>\n",
              "      <td>0.2</td>\n",
              "      <td>Ảnh giả, ảnh chụp qua màn hình</td>\n",
              "      <td>Bổ sung mới</td>\n",
              "    </tr>\n",
              "    <tr>\n",
              "      <th>2</th>\n",
              "      <td>1.0</td>\n",
              "      <td>Tên tập điểm: sơn đỏ/đen(Đạt)</td>\n",
              "      <td>NaN</td>\n",
              "    </tr>\n",
              "    <tr>\n",
              "      <th>3</th>\n",
              "      <td>1.1</td>\n",
              "      <td>Tên bị mờ</td>\n",
              "      <td>Không thay đổi</td>\n",
              "    </tr>\n",
              "    <tr>\n",
              "      <th>4</th>\n",
              "      <td>1.2</td>\n",
              "      <td>Giấy dán quảng cáo che, chưa vệ sinh sạch</td>\n",
              "      <td>Cập nhật tên, không thay đổi gì thêm</td>\n",
              "    </tr>\n",
              "    <tr>\n",
              "      <th>...</th>\n",
              "      <td>...</td>\n",
              "      <td>...</td>\n",
              "      <td>...</td>\n",
              "    </tr>\n",
              "    <tr>\n",
              "      <th>181</th>\n",
              "      <td>71.1</td>\n",
              "      <td>Modem cũ/ bẩn</td>\n",
              "      <td>Bổ sung mới</td>\n",
              "    </tr>\n",
              "    <tr>\n",
              "      <th>182</th>\n",
              "      <td>72.1</td>\n",
              "      <td>Có/Không có dây LAN</td>\n",
              "      <td>Bổ sung mới</td>\n",
              "    </tr>\n",
              "    <tr>\n",
              "      <th>183</th>\n",
              "      <td>72.2</td>\n",
              "      <td>Có/không có dây LAN đúc sẵn</td>\n",
              "      <td>Bổ sung mới</td>\n",
              "    </tr>\n",
              "    <tr>\n",
              "      <th>184</th>\n",
              "      <td>73.1</td>\n",
              "      <td>Giá trị đo công suất tập điểm</td>\n",
              "      <td>Bổ sung mới</td>\n",
              "    </tr>\n",
              "    <tr>\n",
              "      <th>185</th>\n",
              "      <td>74.1</td>\n",
              "      <td>Không cắt dây gia cường, không cắt dây gia cường</td>\n",
              "      <td>Bổ sung mới</td>\n",
              "    </tr>\n",
              "  </tbody>\n",
              "</table>\n",
              "<p>186 rows × 3 columns</p>\n",
              "</div>\n",
              "    <div class=\"colab-df-buttons\">\n",
              "\n",
              "  <div class=\"colab-df-container\">\n",
              "    <button class=\"colab-df-convert\" onclick=\"convertToInteractive('df-269caf4d-fd00-432e-b83e-7645645e4c95')\"\n",
              "            title=\"Convert this dataframe to an interactive table.\"\n",
              "            style=\"display:none;\">\n",
              "\n",
              "  <svg xmlns=\"http://www.w3.org/2000/svg\" height=\"24px\" viewBox=\"0 -960 960 960\">\n",
              "    <path d=\"M120-120v-720h720v720H120Zm60-500h600v-160H180v160Zm220 220h160v-160H400v160Zm0 220h160v-160H400v160ZM180-400h160v-160H180v160Zm440 0h160v-160H620v160ZM180-180h160v-160H180v160Zm440 0h160v-160H620v160Z\"/>\n",
              "  </svg>\n",
              "    </button>\n",
              "\n",
              "  <style>\n",
              "    .colab-df-container {\n",
              "      display:flex;\n",
              "      gap: 12px;\n",
              "    }\n",
              "\n",
              "    .colab-df-convert {\n",
              "      background-color: #E8F0FE;\n",
              "      border: none;\n",
              "      border-radius: 50%;\n",
              "      cursor: pointer;\n",
              "      display: none;\n",
              "      fill: #1967D2;\n",
              "      height: 32px;\n",
              "      padding: 0 0 0 0;\n",
              "      width: 32px;\n",
              "    }\n",
              "\n",
              "    .colab-df-convert:hover {\n",
              "      background-color: #E2EBFA;\n",
              "      box-shadow: 0px 1px 2px rgba(60, 64, 67, 0.3), 0px 1px 3px 1px rgba(60, 64, 67, 0.15);\n",
              "      fill: #174EA6;\n",
              "    }\n",
              "\n",
              "    .colab-df-buttons div {\n",
              "      margin-bottom: 4px;\n",
              "    }\n",
              "\n",
              "    [theme=dark] .colab-df-convert {\n",
              "      background-color: #3B4455;\n",
              "      fill: #D2E3FC;\n",
              "    }\n",
              "\n",
              "    [theme=dark] .colab-df-convert:hover {\n",
              "      background-color: #434B5C;\n",
              "      box-shadow: 0px 1px 3px 1px rgba(0, 0, 0, 0.15);\n",
              "      filter: drop-shadow(0px 1px 2px rgba(0, 0, 0, 0.3));\n",
              "      fill: #FFFFFF;\n",
              "    }\n",
              "  </style>\n",
              "\n",
              "    <script>\n",
              "      const buttonEl =\n",
              "        document.querySelector('#df-269caf4d-fd00-432e-b83e-7645645e4c95 button.colab-df-convert');\n",
              "      buttonEl.style.display =\n",
              "        google.colab.kernel.accessAllowed ? 'block' : 'none';\n",
              "\n",
              "      async function convertToInteractive(key) {\n",
              "        const element = document.querySelector('#df-269caf4d-fd00-432e-b83e-7645645e4c95');\n",
              "        const dataTable =\n",
              "          await google.colab.kernel.invokeFunction('convertToInteractive',\n",
              "                                                    [key], {});\n",
              "        if (!dataTable) return;\n",
              "\n",
              "        const docLinkHtml = 'Like what you see? Visit the ' +\n",
              "          '<a target=\"_blank\" href=https://colab.research.google.com/notebooks/data_table.ipynb>data table notebook</a>'\n",
              "          + ' to learn more about interactive tables.';\n",
              "        element.innerHTML = '';\n",
              "        dataTable['output_type'] = 'display_data';\n",
              "        await google.colab.output.renderOutput(dataTable, element);\n",
              "        const docLink = document.createElement('div');\n",
              "        docLink.innerHTML = docLinkHtml;\n",
              "        element.appendChild(docLink);\n",
              "      }\n",
              "    </script>\n",
              "  </div>\n",
              "\n",
              "\n",
              "<div id=\"df-99a893ca-bfd2-4b65-b8dc-21814297eb91\">\n",
              "  <button class=\"colab-df-quickchart\" onclick=\"quickchart('df-99a893ca-bfd2-4b65-b8dc-21814297eb91')\"\n",
              "            title=\"Suggest charts\"\n",
              "            style=\"display:none;\">\n",
              "\n",
              "<svg xmlns=\"http://www.w3.org/2000/svg\" height=\"24px\"viewBox=\"0 0 24 24\"\n",
              "     width=\"24px\">\n",
              "    <g>\n",
              "        <path d=\"M19 3H5c-1.1 0-2 .9-2 2v14c0 1.1.9 2 2 2h14c1.1 0 2-.9 2-2V5c0-1.1-.9-2-2-2zM9 17H7v-7h2v7zm4 0h-2V7h2v10zm4 0h-2v-4h2v4z\"/>\n",
              "    </g>\n",
              "</svg>\n",
              "  </button>\n",
              "\n",
              "<style>\n",
              "  .colab-df-quickchart {\n",
              "      --bg-color: #E8F0FE;\n",
              "      --fill-color: #1967D2;\n",
              "      --hover-bg-color: #E2EBFA;\n",
              "      --hover-fill-color: #174EA6;\n",
              "      --disabled-fill-color: #AAA;\n",
              "      --disabled-bg-color: #DDD;\n",
              "  }\n",
              "\n",
              "  [theme=dark] .colab-df-quickchart {\n",
              "      --bg-color: #3B4455;\n",
              "      --fill-color: #D2E3FC;\n",
              "      --hover-bg-color: #434B5C;\n",
              "      --hover-fill-color: #FFFFFF;\n",
              "      --disabled-bg-color: #3B4455;\n",
              "      --disabled-fill-color: #666;\n",
              "  }\n",
              "\n",
              "  .colab-df-quickchart {\n",
              "    background-color: var(--bg-color);\n",
              "    border: none;\n",
              "    border-radius: 50%;\n",
              "    cursor: pointer;\n",
              "    display: none;\n",
              "    fill: var(--fill-color);\n",
              "    height: 32px;\n",
              "    padding: 0;\n",
              "    width: 32px;\n",
              "  }\n",
              "\n",
              "  .colab-df-quickchart:hover {\n",
              "    background-color: var(--hover-bg-color);\n",
              "    box-shadow: 0 1px 2px rgba(60, 64, 67, 0.3), 0 1px 3px 1px rgba(60, 64, 67, 0.15);\n",
              "    fill: var(--button-hover-fill-color);\n",
              "  }\n",
              "\n",
              "  .colab-df-quickchart-complete:disabled,\n",
              "  .colab-df-quickchart-complete:disabled:hover {\n",
              "    background-color: var(--disabled-bg-color);\n",
              "    fill: var(--disabled-fill-color);\n",
              "    box-shadow: none;\n",
              "  }\n",
              "\n",
              "  .colab-df-spinner {\n",
              "    border: 2px solid var(--fill-color);\n",
              "    border-color: transparent;\n",
              "    border-bottom-color: var(--fill-color);\n",
              "    animation:\n",
              "      spin 1s steps(1) infinite;\n",
              "  }\n",
              "\n",
              "  @keyframes spin {\n",
              "    0% {\n",
              "      border-color: transparent;\n",
              "      border-bottom-color: var(--fill-color);\n",
              "      border-left-color: var(--fill-color);\n",
              "    }\n",
              "    20% {\n",
              "      border-color: transparent;\n",
              "      border-left-color: var(--fill-color);\n",
              "      border-top-color: var(--fill-color);\n",
              "    }\n",
              "    30% {\n",
              "      border-color: transparent;\n",
              "      border-left-color: var(--fill-color);\n",
              "      border-top-color: var(--fill-color);\n",
              "      border-right-color: var(--fill-color);\n",
              "    }\n",
              "    40% {\n",
              "      border-color: transparent;\n",
              "      border-right-color: var(--fill-color);\n",
              "      border-top-color: var(--fill-color);\n",
              "    }\n",
              "    60% {\n",
              "      border-color: transparent;\n",
              "      border-right-color: var(--fill-color);\n",
              "    }\n",
              "    80% {\n",
              "      border-color: transparent;\n",
              "      border-right-color: var(--fill-color);\n",
              "      border-bottom-color: var(--fill-color);\n",
              "    }\n",
              "    90% {\n",
              "      border-color: transparent;\n",
              "      border-bottom-color: var(--fill-color);\n",
              "    }\n",
              "  }\n",
              "</style>\n",
              "\n",
              "  <script>\n",
              "    async function quickchart(key) {\n",
              "      const quickchartButtonEl =\n",
              "        document.querySelector('#' + key + ' button');\n",
              "      quickchartButtonEl.disabled = true;  // To prevent multiple clicks.\n",
              "      quickchartButtonEl.classList.add('colab-df-spinner');\n",
              "      try {\n",
              "        const charts = await google.colab.kernel.invokeFunction(\n",
              "            'suggestCharts', [key], {});\n",
              "      } catch (error) {\n",
              "        console.error('Error during call to suggestCharts:', error);\n",
              "      }\n",
              "      quickchartButtonEl.classList.remove('colab-df-spinner');\n",
              "      quickchartButtonEl.classList.add('colab-df-quickchart-complete');\n",
              "    }\n",
              "    (() => {\n",
              "      let quickchartButtonEl =\n",
              "        document.querySelector('#df-99a893ca-bfd2-4b65-b8dc-21814297eb91 button');\n",
              "      quickchartButtonEl.style.display =\n",
              "        google.colab.kernel.accessAllowed ? 'block' : 'none';\n",
              "    })();\n",
              "  </script>\n",
              "</div>\n",
              "\n",
              "  <div id=\"id_2a9e9105-93e5-4582-9d56-e6bbaa195ef2\">\n",
              "    <style>\n",
              "      .colab-df-generate {\n",
              "        background-color: #E8F0FE;\n",
              "        border: none;\n",
              "        border-radius: 50%;\n",
              "        cursor: pointer;\n",
              "        display: none;\n",
              "        fill: #1967D2;\n",
              "        height: 32px;\n",
              "        padding: 0 0 0 0;\n",
              "        width: 32px;\n",
              "      }\n",
              "\n",
              "      .colab-df-generate:hover {\n",
              "        background-color: #E2EBFA;\n",
              "        box-shadow: 0px 1px 2px rgba(60, 64, 67, 0.3), 0px 1px 3px 1px rgba(60, 64, 67, 0.15);\n",
              "        fill: #174EA6;\n",
              "      }\n",
              "\n",
              "      [theme=dark] .colab-df-generate {\n",
              "        background-color: #3B4455;\n",
              "        fill: #D2E3FC;\n",
              "      }\n",
              "\n",
              "      [theme=dark] .colab-df-generate:hover {\n",
              "        background-color: #434B5C;\n",
              "        box-shadow: 0px 1px 3px 1px rgba(0, 0, 0, 0.15);\n",
              "        filter: drop-shadow(0px 1px 2px rgba(0, 0, 0, 0.3));\n",
              "        fill: #FFFFFF;\n",
              "      }\n",
              "    </style>\n",
              "    <button class=\"colab-df-generate\" onclick=\"generateWithVariable('matching_name_id_df')\"\n",
              "            title=\"Generate code using this dataframe.\"\n",
              "            style=\"display:none;\">\n",
              "\n",
              "  <svg xmlns=\"http://www.w3.org/2000/svg\" height=\"24px\"viewBox=\"0 0 24 24\"\n",
              "       width=\"24px\">\n",
              "    <path d=\"M7,19H8.4L18.45,9,17,7.55,7,17.6ZM5,21V16.75L18.45,3.32a2,2,0,0,1,2.83,0l1.4,1.43a1.91,1.91,0,0,1,.58,1.4,1.91,1.91,0,0,1-.58,1.4L9.25,21ZM18.45,9,17,7.55Zm-12,3A5.31,5.31,0,0,0,4.9,8.1,5.31,5.31,0,0,0,1,6.5,5.31,5.31,0,0,0,4.9,4.9,5.31,5.31,0,0,0,6.5,1,5.31,5.31,0,0,0,8.1,4.9,5.31,5.31,0,0,0,12,6.5,5.46,5.46,0,0,0,6.5,12Z\"/>\n",
              "  </svg>\n",
              "    </button>\n",
              "    <script>\n",
              "      (() => {\n",
              "      const buttonEl =\n",
              "        document.querySelector('#id_2a9e9105-93e5-4582-9d56-e6bbaa195ef2 button.colab-df-generate');\n",
              "      buttonEl.style.display =\n",
              "        google.colab.kernel.accessAllowed ? 'block' : 'none';\n",
              "\n",
              "      buttonEl.onclick = () => {\n",
              "        google.colab.notebook.generateWithVariable('matching_name_id_df');\n",
              "      }\n",
              "      })();\n",
              "    </script>\n",
              "  </div>\n",
              "\n",
              "    </div>\n",
              "  </div>\n"
            ],
            "application/vnd.google.colaboratory.intrinsic+json": {
              "type": "dataframe",
              "variable_name": "matching_name_id_df",
              "summary": "{\n  \"name\": \"matching_name_id_df\",\n  \"rows\": 186,\n  \"fields\": [\n    {\n      \"column\": \"id\",\n      \"properties\": {\n        \"dtype\": \"number\",\n        \"std\": 21.453122099939943,\n        \"min\": 0.1,\n        \"max\": 74.1,\n        \"num_unique_values\": 186,\n        \"samples\": [\n          47.0,\n          63.2,\n          65.1\n        ],\n        \"semantic_type\": \"\",\n        \"description\": \"\"\n      }\n    },\n    {\n      \"column\": \"title\",\n      \"properties\": {\n        \"dtype\": \"string\",\n        \"num_unique_values\": 186,\n        \"samples\": [\n          \"L\\u1ea1t th\\u00edt (D\\u00e2y r\\u00fat) c\\u1ed1 \\u0111\\u1ecbnh \\u1ed5ng l\\u1ecfng tr\\u00ean khay cassett(\\u0110\\u1ea1t)\",\n          \"Thanh c\\u1ed1 \\u0111\\u1ecbnh c\\u00e1p thu\\u00ea bao b\\u1ecb h\\u1ecfng\",\n          \"\\u1ed0c c\\u1ed5 d\\u00ea k\\u1eb9p c\\u00e1p g\\u1ed1c b\\u1ecb m\\u1ea5t\"\n        ],\n        \"semantic_type\": \"\",\n        \"description\": \"\"\n      }\n    },\n    {\n      \"column\": \"Unnamed: 2\",\n      \"properties\": {\n        \"dtype\": \"category\",\n        \"num_unique_values\": 4,\n        \"samples\": [\n          \"Kh\\u00f4ng thay \\u0111\\u1ed5i\",\n          \"C\\u1eadp nh\\u1eadt ID, kh\\u00f4ng thay \\u0111\\u1ed5i g\\u00ec th\\u00eam\",\n          \"B\\u1ed5 sung m\\u1edbi\"\n        ],\n        \"semantic_type\": \"\",\n        \"description\": \"\"\n      }\n    }\n  ]\n}"
            }
          },
          "metadata": {},
          "execution_count": 11
        }
      ]
    },
    {
      "cell_type": "code",
      "source": [
        "matching_name_id_df = pd.read_excel(paths['matching_name_id'], sheet_name=1)\n",
        "matching_name_id = dict(zip(matching_name_id_df['id'], matching_name_id_df['title']))\n",
        "print(matching_name_id[0.1])"
      ],
      "metadata": {
        "colab": {
          "base_uri": "https://localhost:8080/"
        },
        "id": "8dwaY8lHXt8l",
        "outputId": "8c43d2f6-ee61-4a82-e222-b0c61f02507d"
      },
      "execution_count": null,
      "outputs": [
        {
          "output_type": "stream",
          "name": "stdout",
          "text": [
            "Ảnh mờ, sai góc chụp\n"
          ]
        }
      ]
    },
    {
      "cell_type": "code",
      "source": [
        "id_to_names = matching_name_id_df.groupby(matching_name_id_df['id'].astype(int))['title'].apply(list).to_dict()\n",
        "\n",
        "def find_names_by_id(integer_part):\n",
        "    return id_to_names.get(int(integer_part), [\"ID not found\"])\n",
        "\n",
        "integer_part = 0\n",
        "names = find_names_by_id(integer_part)\n",
        "print(f\"Names for IDs with integer part {integer_part}: {names}\")"
      ],
      "metadata": {
        "colab": {
          "base_uri": "https://localhost:8080/"
        },
        "id": "qZ-ADDpwjtjw",
        "outputId": "7953a67e-cbe4-4197-ca84-a1777729f7c9"
      },
      "execution_count": null,
      "outputs": [
        {
          "output_type": "stream",
          "name": "stdout",
          "text": [
            "Names for IDs with integer part 0: ['Ảnh mờ, sai góc chụp', 'Ảnh giả, ảnh chụp qua màn hình']\n"
          ]
        }
      ]
    },
    {
      "cell_type": "code",
      "source": [
        "id_to_names"
      ],
      "metadata": {
        "id": "1SjD70UaxZno",
        "outputId": "85ec0666-e909-481a-db99-753c20c4de24",
        "colab": {
          "base_uri": "https://localhost:8080/"
        }
      },
      "execution_count": null,
      "outputs": [
        {
          "output_type": "execute_result",
          "data": {
            "text/plain": [
              "{0: ['Ảnh mờ, sai góc chụp', 'Ảnh giả, ảnh chụp qua màn hình'],\n",
              " 1: ['Tên tập điểm: sơn đỏ/đen(Đạt)',\n",
              "  'Tên bị mờ',\n",
              "  'Giấy dán quảng cáo che, chưa vệ sinh sạch',\n",
              "  'Không sơn tên',\n",
              "  'Sơn sai quy cách'],\n",
              " 2: ['Nắp tập điểm(Đạt)', 'Mất nắp tập điểm', 'Vỡ nắp tập điểm, biến dạng'],\n",
              " 3: ['Ốc khóa bán nguyệt(Đạt)', 'Mất ốc khóa bán nguyệt'],\n",
              " 4: ['Ốc vít khóa hộp(Đạt)', 'Mất ốc vít khóa hộp'],\n",
              " 5: ['Tai nhựa đóng/mở hộp (2 tai)(Đạt)', 'Vỡ tai nhựa đóng/mở hộp'],\n",
              " 6: ['Bản lề tập điểm(Đạt)', 'Vỡ bản lề tập điểm'],\n",
              " 7: ['Ống nhựa luồn cáp(Đạt)',\n",
              "  'Bắt cao/thấp so với đáy tập điểm',\n",
              "  'Không có ống nhựa luồn cáp',\n",
              "  'Ống nhựa luồn cáp đặt không đúng bên trái hộp',\n",
              "  'Vỡ ống nhựa luồn cáp'],\n",
              " 8: ['Đai inox(Đạt)', 'Đai inox đánh không chặt', 'Đai inox bị mất'],\n",
              " 9: ['Khóa đai inox(Đạt)',\n",
              "  'Khóa đai lắp không đúng vị trí theo quy định (lắp trên ống nhựa)'],\n",
              " 10: ['Khung đáy tập điểm(Đạt)', 'Khung thân tập điểm vỡ'],\n",
              " 11: ['Gioăng cao su chống nước(Đạt)',\n",
              "  'Gioăng cao su chống nước bị mất hoặc hụt một đoạn'],\n",
              " 13: ['Cáp hạ tầng(Đạt)',\n",
              "  'Hướng vào cáp hạ tầng (đạt)',\n",
              "  'Hướng vào cáp hạ tầng không đúng phía bản lề hộp (bên trái)'],\n",
              " 14: ['Bán kính uốn cong cáp hạ tầng(Đạt)',\n",
              "  'Quá bán kính uốn cong cáp hạ tầng',\n",
              "  'Không đủ bán kính uốn cong cáp hạ tầng',\n",
              "  'Cáp hạ tầng bị gẫy/gập'],\n",
              " 15: ['Thẻ seal Qrcode treo cáp hạ tầng(Đạt)',\n",
              "  'Không có thẻ seal Qrcode treo cáp hạ tầng',\n",
              "  'Thẻ seal Qrcode treo cáp hạ tầng không có nhãn QRcode'],\n",
              " 17: ['Nhãn Qrcode dán bên hông tập điểm(Đạt)',\n",
              "  'Không có nhãn Qrcode dán bên hông tập điểm'],\n",
              " 18: ['Nhãn Qrcode dán mặt trước tập điểm(Đạt)',\n",
              "  'Không có nhãn Qrcode dán mặt trước tập điểm'],\n",
              " 19: ['Cáp thuê bao(Đạt)',\n",
              "  'Hướng vào cáp thuê bao (đạt )',\n",
              "  'Hướng vào cáp thuê bao không đúng phía bản lề hộp (bên trái)',\n",
              "  'Cáp thuê bao ngoài hộp lộn xộn',\n",
              "  'Cáp thuê bao không đi vào thang luồn cáp, ống luồn cáp'],\n",
              " 20: ['Bán kính uốn cong cáp thuê bao(Đạt)',\n",
              "  'Quá bán kính uốn cong cáp thuê bao',\n",
              "  'Không đủ bán kính uốn cong cáp thuê bao',\n",
              "  'Cáp thuê bao bị gẫy/gập'],\n",
              " 23: ['Cáp thuê bao trong hộp(Đạt)',\n",
              "  'Cáp thuê bao trong hộp đi không đúng qui cách: chéo/tắt/không đúng lỗ qui định',\n",
              "  'Cáp thuê bao thừa không rút khỏi hộp',\n",
              "  'Chừa cáp dự phòng sai quy định',\n",
              "  'Cáp thuê bao không cắt gọn dây gia cường trước khi vào tập điểm',\n",
              "  'Không quấn băng dính điểm đầu cáp & ống lỏng'],\n",
              " 24: ['Lạt thít (Dây rút) cố định cáp thuê bao (bên trong)(Đạt)',\n",
              "  'Bắt Lạt thít (Dây rút) cố định cáp thuê bao (bên trong) không đủ vị trí quy định',\n",
              "  'Lạt thít (Dây rút) cố định cáp thuê bao (bên trong) không cắt dây thừa'],\n",
              " 26: ['Cánh khay cassette(Đạt)',\n",
              "  'Cánh khay cassette bị vỡ thành phần, biến dạng'],\n",
              " 27: ['Bản lề cánh khay cassette(Đạt)',\n",
              "  'Bản lề cánh khay cassette bị vỡ, gãy'],\n",
              " 28: ['Hộp bộ chia(Đạt)',\n",
              "  'Hộp bộ chia bị vỡ, biến dạng',\n",
              "  'Hộp bộ chia nhựa bị vỡ, biến dạng'],\n",
              " 29: ['Nắp hộp bộ chia(Đạt)',\n",
              "  'Bắt nắp hộp bộ chia không kín, bị lệch',\n",
              "  'Mất nắp hộp bộ chia',\n",
              "  'Nắp hộp bộ chia nhựa bị vỡ',\n",
              "  'Không có tấm mica đậy bộ chia'],\n",
              " 30: ['Ốc bắt nắp hộp chứa bộ chia(Đạt)',\n",
              "  'Ốc bắt nắp hộp chứa bộ chia bị mất'],\n",
              " 32: ['Tem vỡ dán ốc nắp bộ chia(Đạt)',\n",
              "  'Tem vỡ bị rách',\n",
              "  'Không có tem vỡ dán ốc nắp bộ chia'],\n",
              " 35: ['Dây pigtail đầu vào bộ chia(Đạt)',\n",
              "  'Dây pigtail đầu vào bộ chia không luồn đúng khe, lỗ qui định'],\n",
              " 37: ['Coupler(Đạt)',\n",
              "  'Coupler bị mất',\n",
              "  'Coupler bị sai loại',\n",
              "  'Coupler bị lắp ngược (hướng ra ngoài)'],\n",
              " 38: ['Ốc coupler(Đạt)', 'Ốc coupler bị mất'],\n",
              " 39: ['Nắp bịt coupler(Đạt)', 'Nắp bịt coupler bị mất'],\n",
              " 40: ['Nắp nhựa Mica trong suốt(Đạt)',\n",
              "  'Nắp nhựa Mica trong suốt bị mất.',\n",
              "  'Nắp nhựa Mica trong suốt bị vỡ/nứt'],\n",
              " 41: ['Nắp nhựa trong suốt (Version 2)(Đạt)',\n",
              "  'Nắp nhựa trong suốt (Version 2) bị mất',\n",
              "  'Nắp nhựa trong suốt (Version 2) bị vỡ/nứt'],\n",
              " 42: ['Ốc cố định nắp nhựa trong suốt Version 2 phía dưới(Đạt)',\n",
              "  'Ốc cố định nắp nhựa trong suốt Version 2 phía dưới bị mất, (có bị thiếu long đen)'],\n",
              " 43: ['Khuy cài (móc tai thỏ cố định ống lỏng)(Đạt)',\n",
              "  'Khuy cài (móc tai thỏ cố định ống lỏng) bị mất, bị gãy'],\n",
              " 44: ['Móc tròn nhựa cố định thuê bao mặt bên trong(Đạt)',\n",
              "  'Móc tròn nhựa cố định thuê bao mặt bên trong bị gãy',\n",
              "  'Móc tròn nhựa cố định thuê bao mặt bên trong không có'],\n",
              " 45: ['Ống lỏng quấn dự phòng(Đạt)',\n",
              "  'Ống lỏng quấn dự phòng đi sai ở vị trí tai thỏ 8h',\n",
              "  'Ống lỏng quấn dự phòng không đi đủ vòng',\n",
              "  'Đầu ra ống lỏng không đi đúng rãnh quy định sang khay cassette',\n",
              "  'Ống lỏng không đi vào khuy quy định',\n",
              "  'Không có dây rút cố định ống lỏng'],\n",
              " 46: ['Lạt thít (Dây rút) bó gọn ống lỏng (phía trong)(Đạt)',\n",
              "  'Lạt thít (Dây rút) bó gọn ống lỏng (phía trong) bắt không đủ vị trí quy định',\n",
              "  'Lạt thít (Dây rút) bó gọn ống lỏng (phía trong) không cắt dây thừa'],\n",
              " 47: ['Lạt thít (Dây rút) cố định ổng lỏng trên khay cassett(Đạt)',\n",
              "  'Lạt thít (Dây rút) cố định ổng lỏng trên khay cassett bắt không đủ vị trí quy định',\n",
              "  'Lạt thít (Dây rút) cố định ổng lỏng trên khay cassett bắt không cắt dây thừa'],\n",
              " 48: ['Ống co nhiệt(Đạt)', 'Ống co nhiệt xếp không đúng khe'],\n",
              " 49: ['Core quang(Đạt)',\n",
              "  'Core quang bị rối, chéo',\n",
              "  'Core quang thừa ko quấn vào rulo'],\n",
              " 50: ['Ống mềm bọc ống lỏng(Đạt)',\n",
              "  'Không có ống mềm bọc ống lỏng',\n",
              "  'Ống mềm bọc ống lỏng không đủ độ dài'],\n",
              " 51: ['Côn trùng không làm tổ bên trong họp(Đạt)',\n",
              "  'Côn trùng làm tổ mặt khung thân hộp',\n",
              "  'Côn trùng làm tổ cánh khay casset'],\n",
              " 52: ['Băng dính cố định core quang vị trí số 2(Đạt)',\n",
              "  'Băng dính cố định core quang dán không thẩm mĩ',\n",
              "  'Không có băng dính cố định core quang'],\n",
              " 53: ['Băng dính cố định co nhiệt vị trí số 5(Đạt)',\n",
              "  'Không có băng dính cố định co nhiệt',\n",
              "  'Băng dính cố định co nhiệt dán không thẩm mĩ'],\n",
              " 54: ['Băng dính cố định pigtail vị trí số 4, 6(Đạt)',\n",
              "  'Không có băng dính cố định pigtail',\n",
              "  'Băng dính cố định pigtail dán không thẩm mĩ'],\n",
              " 55: ['Băng dính cố định core quang và dây pigtail vị trí số 1,3(Đạt)',\n",
              "  'Không có băng dính cố định core quang và dây pigtail',\n",
              "  'Băng dính cố định core quang và pigtail dán không thẩm mĩ'],\n",
              " 56: ['Đai bán nguyệt chốt cáp hạ tầng(Đạt)',\n",
              "  'Đai bán nguyệt chốt cáp hạ tầng bị mất',\n",
              "  'Đai bán nguyệt chốt cáp hạ tầng bị mất ốc',\n",
              "  'Đai bán nguyệt chốt cáp hạ tầng hư hỏng: nứt, vỡ'],\n",
              " 57: ['Đai kẹp dây chịu lực cáp (FRP)(Đạt)',\n",
              "  'Đai kẹp dây chịu lực cáp (FRP) mất',\n",
              "  'Đai kẹp dây chịu lực cáp (FRP) bị mất ốc'],\n",
              " 58: ['Rãnh cao su giữ cáp hạ tầng(Đạt)',\n",
              "  'Rãnh cao su giữ cáp hạ tầng bị mất',\n",
              "  'Rãnh cao su giữ cáp hạ tầng bị hở, đứt gãy'],\n",
              " 59: ['Miếng nhựa giữ cáp hạ tầng(Đạt)',\n",
              "  'Miếng nhựa giữ cáp hạ tầng bị mất',\n",
              "  'Miếng nhựa giữ cáp hạ tầng bị vỡ',\n",
              "  'Miếng nhựa giữ cáp hạ tầng bị mất ốc'],\n",
              " 60: ['Núm cao su cố định cáp thuê bao vào(Đạt)',\n",
              "  'Núm cao su cố định cáp thuê bao vào bị mất',\n",
              "  'Núm cao su không được cố định chắc chắn'],\n",
              " 61: ['Miếng cài (Rãnh hãm cáp) giữ dây thuê bao trong hộp(Đạt)',\n",
              "  'Miếng cài (Rãnh hãm cáp) giữ dây thuê bao bị mất',\n",
              "  'Miếng cài (Rãnh hãm cáp) giữ dây thuê bao bị vỡ',\n",
              "  'Miếng cài (Rãnh hãm cáp) giữ dây thuê bao thiếu ốc cố định'],\n",
              " 62: ['Không có sticker cáp thuê bao',\n",
              "  'Sticker sai mẫu quy định',\n",
              "  'Sticker dán sai vị trí'],\n",
              " 63: ['Thanh cố định cáp thuê bao bị mất',\n",
              "  'Thanh cố định cáp thuê bao bị hỏng'],\n",
              " 64: ['Ống PG giữ cáp hạ tầng bị mất',\n",
              "  'Ống PG giữ giữ cáp hạ tầng bị hở',\n",
              "  'Ống PG giữ cáp thuê bao bị mất',\n",
              "  'Ống PG giữ giữ cáp thuê bao bị hở'],\n",
              " 65: ['Ốc cổ dê kẹp cáp gốc bị mất', 'Ốc cổ dê kẹp cáp gốc bị hỏng'],\n",
              " 66: ['FC sai chủng loại', 'FC sai vị trí quy định'],\n",
              " 68: ['Modem treo chưa đúng quy định',\n",
              "  'Modem đặt vị trí chưa tối ưu',\n",
              "  'Vị trí đặt modem chưa hoàn tất',\n",
              "  'Ảnh không bao quát vị trí đặt modem'],\n",
              " 69: ['Không dán tem modem',\n",
              "  'Không note thông tin lên tem (tem không có ghi số HĐ)'],\n",
              " 70: ['Chừa cáp indoor sai quy định',\n",
              "  'Cáp thuê bao không gọn gàng/chưa thẩm mỹ'],\n",
              " 71: ['Modem cũ/ bẩn'],\n",
              " 72: ['Có/Không có dây LAN ', 'Có/không có dây LAN đúc sẵn'],\n",
              " 73: ['Giá trị đo công suất tập điểm'],\n",
              " 74: ['Không cắt dây gia cường, không cắt dây gia cường']}"
            ]
          },
          "metadata": {},
          "execution_count": 15
        }
      ]
    },
    {
      "cell_type": "markdown",
      "source": [
        "# Data Preparation (Run once per lifetime)"
      ],
      "metadata": {
        "id": "nOLYLV50YB0u"
      }
    },
    {
      "cell_type": "markdown",
      "source": [
        "## Extract compressed dataset"
      ],
      "metadata": {
        "id": "UFOgOFF7YWfQ"
      }
    },
    {
      "cell_type": "code",
      "execution_count": null,
      "metadata": {
        "colab": {
          "base_uri": "https://localhost:8080/"
        },
        "id": "EbtEA4YVHaKX",
        "outputId": "de6b1a08-6c16-4bd8-87f2-b6a51916f6b7"
      },
      "outputs": [
        {
          "output_type": "stream",
          "name": "stdout",
          "text": [
            "Extracted data_label_ALL.tar.gz to /content/drive/MyDrive/fiber_optic_box_inspection/dataset\n"
          ]
        }
      ],
      "source": [
        "with tarfile.open(paths['data_label_compressed'], 'r:gz') as tar_ref:\n",
        "    tar_ref.extractall(paths['dataset_dir'])\n",
        "    print(f\"Extracted data_label_ALL.tar.gz to {paths['dataset_dir']}\")"
      ]
    },
    {
      "cell_type": "markdown",
      "source": [
        "## Split dataset & save dataset division"
      ],
      "metadata": {
        "id": "ExZDAV-LYa5Q"
      }
    },
    {
      "cell_type": "code",
      "execution_count": null,
      "metadata": {
        "id": "8v0sSNCiZjmD"
      },
      "outputs": [],
      "source": [
        "train_ratio = 0.7\n",
        "val_ratio = 0.15\n",
        "test_ratio = 0.15\n",
        "\n",
        "all_images = [os.path.join(paths['data_label_dir'], f) for f in os.listdir(paths['data_label_dir']) if f.endswith('.jpg')]\n",
        "\n",
        "train_images, temp_images = train_test_split(all_images, train_size=train_ratio, random_state=42)\n",
        "val_images, test_images = train_test_split(temp_images, train_size=(val_ratio / (val_ratio + test_ratio)), random_state=42)"
      ]
    },
    {
      "cell_type": "code",
      "source": [
        "with open(paths['all_paths'], \"w\") as f:\n",
        "    for img in all_images:\n",
        "        f.write(f\"{img}\\n\")\n",
        "\n",
        "with open(paths['train_paths'], \"w\") as f:\n",
        "    for img in train_images:\n",
        "        f.write(f\"{img}\\n\")\n",
        "\n",
        "with open(paths['val_paths'], \"w\") as f:\n",
        "    for img in val_images:\n",
        "        f.write(f\"{img}\\n\")\n",
        "\n",
        "with open(paths['test_paths'], \"w\") as f:\n",
        "    for img in test_images:\n",
        "        f.write(f\"{img}\\n\")"
      ],
      "metadata": {
        "id": "PIMyq_6BbLwA"
      },
      "execution_count": null,
      "outputs": []
    },
    {
      "cell_type": "code",
      "source": [
        "# todo this needed where?\n",
        "def read_image_paths(file_path):\n",
        "    if os.path.exists(file_path):\n",
        "        with open(file_path, \"r\") as f:\n",
        "            return [line.strip() for line in f if line.strip()]\n",
        "    return []\n",
        "\n",
        "all_images = read_image_paths(paths['all_paths'])\n",
        "train_images = read_image_paths(paths['train_paths'])\n",
        "val_images = read_image_paths(paths['val_paths'])\n",
        "test_images = read_image_paths(paths['test_paths'])"
      ],
      "metadata": {
        "id": "qPKCemwVeyF4"
      },
      "execution_count": null,
      "outputs": []
    },
    {
      "cell_type": "markdown",
      "source": [
        "## Validate class ids"
      ],
      "metadata": {
        "id": "MqykX7ncdZgT"
      }
    },
    {
      "cell_type": "code",
      "source": [
        "def get_class_ids_from_label_file(label_file):\n",
        "    class_ids = set()\n",
        "    try:\n",
        "        with open(label_file, 'r') as f:\n",
        "            for line in f:\n",
        "                if line.strip():\n",
        "                    class_id = line.strip().split()[0]\n",
        "                    class_ids.add(class_id)\n",
        "    except Exception as e:\n",
        "        print(f\"Error processing {label_file}: {e}\")\n",
        "    return class_ids\n",
        "\n",
        "def get_class_ids_from_label_files(label_dir):\n",
        "    label_files = [os.path.join(label_dir, f) for f in os.listdir(label_dir) if f.endswith('.txt')]\n",
        "    with Pool() as pool:\n",
        "        results = pool.map(get_class_ids_from_label_file, label_files)\n",
        "    class_ids = set().union(*results)\n",
        "    return sorted([int(id) for id in class_ids])"
      ],
      "metadata": {
        "id": "Bgay89efgJfj"
      },
      "execution_count": null,
      "outputs": []
    },
    {
      "cell_type": "code",
      "source": [
        "class_ids_from_label_files = get_class_ids_from_label_files(paths['data_label_dir'])"
      ],
      "metadata": {
        "id": "RlUITVkBfsFL"
      },
      "execution_count": null,
      "outputs": []
    },
    {
      "cell_type": "code",
      "source": [
        "class_ids_from_label_files_not_in_json = [id for id in class_ids_from_label_files if id not in class_ids_from_json]"
      ],
      "metadata": {
        "id": "z2EmVw7jfvGE"
      },
      "execution_count": null,
      "outputs": []
    },
    {
      "cell_type": "code",
      "source": [
        "print(f'Class IDs from json:                       \\n\\t {class_ids_from_json}')\n",
        "print(f'Class IDs from label files:                \\n\\t {class_ids_from_label_files}')\n",
        "print(f'Class Ids from label files but not in json:\\n\\t {class_ids_from_label_files_not_in_json}')"
      ],
      "metadata": {
        "colab": {
          "base_uri": "https://localhost:8080/"
        },
        "id": "bfmSeEvdkSYT",
        "outputId": "a1dcd645-3812-4394-af4b-846b0213d8d1"
      },
      "execution_count": null,
      "outputs": [
        {
          "output_type": "stream",
          "name": "stdout",
          "text": [
            "Class IDs from json:                       \n",
            "\t [0, 1, 2, 4, 7, 8, 9, 10, 11, 12, 13, 14, 15, 16, 17, 18, 19, 20, 21, 23, 24, 25, 27, 28, 30, 32, 33, 34, 35, 36, 37, 38, 41, 42, 43, 44, 45, 46, 47, 50, 51, 52, 53, 54, 55, 56, 57, 58, 59, 60, 61, 62, 63, 67, 68, 69, 70, 71, 72, 73, 74, 75, 76, 77, 78, 80, 81, 82, 83, 84, 85, 86, 87, 88, 93, 94, 97, 98, 99, 100, 101, 102, 103, 104, 105, 106, 107, 108, 109, 110, 111, 112, 113, 114, 115, 116, 117, 118, 119, 120, 122, 123, 124, 125, 126, 127, 128, 129, 130, 131, 132, 133, 134, 135, 136, 137, 138, 139, 140, 141, 142, 143, 144, 145, 146, 147, 148, 149, 150, 151, 152, 153, 154, 155, 156, 157, 158, 159, 160, 161, 162, 163, 164, 165, 166, 167, 168, 169, 170, 171, 172]\n",
            "Class IDs from label files:                \n",
            "\t [0, 1, 2, 3, 4, 7, 9, 10, 11, 14, 15, 16, 17, 18, 19, 20, 21, 22, 23, 24, 25, 26, 27, 28, 29, 30, 32, 33, 34, 35, 36, 37, 38, 39, 41, 42, 43, 44, 54, 55, 56, 57, 58, 60, 61, 62, 63, 67, 68, 69, 70, 71, 72, 73, 74, 75, 76, 77, 80, 81, 82, 83, 84, 85, 86, 87, 88, 89, 90, 91, 92, 93, 94, 95, 97, 98, 99, 100, 101, 102, 103, 104, 105, 106, 107, 108, 109, 110, 111, 112, 113, 114, 115, 116, 117, 118, 119, 120, 121, 122, 123, 124, 125, 126, 127, 128, 129, 130, 131, 132, 133, 134, 135, 136, 137, 138, 139, 140, 141, 142, 143, 144, 145, 146, 147, 148, 149, 150, 151, 152, 153, 154, 155, 156, 157, 158, 159, 160, 161, 162, 163, 164, 165, 166, 167, 168, 169, 170, 171, 172]\n",
            "Class Ids from label files but not in json:\n",
            "\t [3, 22, 26, 29, 39, 89, 90, 91, 92, 95, 121]\n"
          ]
        }
      ]
    },
    {
      "cell_type": "code",
      "source": [
        "from_json = [0, 1, 2, 4, 7, 8, 9, 10, 11, 12, 13, 14, 15, 16, 17, 18, 19, 20, 21, 23, 24, 25, 27, 28, 30, 32, 33, 34, 35, 36, 37, 38, 41, 42, 43, 44, 45, 46, 47, 50, 51, 52, 53, 54, 55, 56, 57, 58, 59, 60, 61, 62, 63, 67, 68, 69, 70, 71, 72, 73, 74, 75, 76, 77, 78, 80, 81, 82, 83, 84, 85, 86, 87, 88, 93, 94, 97, 98, 99, 100, 101, 102, 103, 104, 105, 106, 107, 108, 109, 110, 111, 112, 113, 114, 115, 116, 117, 118, 119, 120, 122, 123, 124, 125, 126, 127, 128, 129, 130, 131, 132, 133, 134, 135, 136, 137, 138, 139, 140, 141, 142, 143, 144, 145, 146, 147, 148, 149, 150, 151, 152, 153, 154, 155, 156, 157, 158, 159, 160, 161, 162, 163, 164, 165, 166, 167, 168, 169, 170, 171, 172]\n",
        "omitted = [id for id in range(173) if id not in from_json]\n",
        "print(omitted)\n",
        "print(len(from_json))\n",
        "print(len(omitted))"
      ],
      "metadata": {
        "colab": {
          "base_uri": "https://localhost:8080/"
        },
        "id": "_DLKNOGZTXpz",
        "outputId": "6f85a4cd-e5b1-4a9a-8fac-858dcbe18412"
      },
      "execution_count": null,
      "outputs": [
        {
          "output_type": "stream",
          "name": "stdout",
          "text": [
            "[3, 5, 6, 22, 26, 29, 31, 39, 40, 48, 49, 64, 65, 66, 79, 89, 90, 91, 92, 95, 96, 121]\n",
            "151\n",
            "22\n"
          ]
        }
      ]
    },
    {
      "cell_type": "code",
      "source": [
        "def process_label_file(args):\n",
        "    label_file, label_dir, backup_dir, class_ids_to_remove = args\n",
        "    filename = os.path.basename(label_file)\n",
        "    try:\n",
        "        with open(label_file, 'r') as f:\n",
        "            lines = f.readlines()\n",
        "\n",
        "        lines_kept = [\n",
        "            line for line in lines\n",
        "            if line.strip() and line.strip().split()[0] not in class_ids_to_remove\n",
        "        ]\n",
        "\n",
        "        lines_removed = len(lines) - len(lines_kept)\n",
        "\n",
        "        if lines_removed <= 0:\n",
        "            return\n",
        "\n",
        "        backup_file = os.path.join(backup_dir, filename)\n",
        "        shutil.copy(label_file, backup_file)\n",
        "        with open(label_file, 'w') as f:\n",
        "            f.writelines(lines_kept)\n",
        "\n",
        "        return f\"Processed {filename}: {lines_removed} lines removed, original backed up\"\n",
        "    except Exception as e:\n",
        "        return f\"Error processing {filename}: {e}\"\n",
        "\n",
        "def process_label_files(label_dir, backup_dir, class_ids_to_remove):\n",
        "    class_ids_to_remove = [str(id) for id in class_ids_to_remove]\n",
        "\n",
        "    all_labels = [\n",
        "        os.path.join(label_dir, f) for f in os.listdir(label_dir)\n",
        "        if f.endswith('.txt')\n",
        "    ]\n",
        "\n",
        "    args = [(f, label_dir, backup_dir, class_ids_to_remove) for f in all_labels]\n",
        "\n",
        "    with Pool() as pool:\n",
        "        results = pool.map(process_label_file, args)\n",
        "\n",
        "    for result in results:\n",
        "        if result:\n",
        "            print(result)\n",
        "\n",
        "    return len(all_labels)"
      ],
      "metadata": {
        "id": "znrN5ksi1PX9"
      },
      "execution_count": null,
      "outputs": []
    },
    {
      "cell_type": "code",
      "source": [
        "num_files_processed = process_label_files(\n",
        "    label_dir=paths['data_label_dir'],\n",
        "    backup_dir=paths['backup_label_dir'],\n",
        "    class_ids_to_remove=class_ids_from_label_files_not_in_json\n",
        ")\n",
        "print(f\"Total files processed: {num_files_processed}\")"
      ],
      "metadata": {
        "colab": {
          "base_uri": "https://localhost:8080/"
        },
        "id": "4W6N_t5pxk17",
        "outputId": "2b86444e-13d4-424e-e683-bae3cc12b7b2",
        "collapsed": true
      },
      "execution_count": null,
      "outputs": [
        {
          "output_type": "stream",
          "name": "stdout",
          "text": [
            "Processed 2022_11_16_15_16_02-BPCP002389HO.txt: 1 lines removed, original backed up\n",
            "Processed 2022_11_16_11_57_38-HGGP014205HO.txt: 1 lines removed, original backed up\n",
            "Processed 2022_11_19_11_19_42-BPCP008009HO.txt: 1 lines removed, original backed up\n",
            "Processed 2022_11_18_11_36_22-BPCP008021HO.txt: 3 lines removed, original backed up\n",
            "Processed 2022_11_19_08_53_38-DNIP106460HO.txt: 1 lines removed, original backed up\n",
            "Processed 2022_11_09_11_01_01-TNHP036130HO.txt: 3 lines removed, original backed up\n",
            "Processed 2022_11_16_11_13_19-HGGP004212HO.txt: 1 lines removed, original backed up\n",
            "Processed 2022_11_08_14_33_23-TNHP007376HO.txt: 2 lines removed, original backed up\n",
            "Processed 2022_11_09_07_55_41-TNHP007376HO.txt: 2 lines removed, original backed up\n",
            "Processed 2022_11_03_08_42_50-DNIP106463HO.txt: 1 lines removed, original backed up\n",
            "Processed 2022_11_08_15_36_36-BRUP040352HO.txt: 2 lines removed, original backed up\n",
            "Processed 2022_11_08_14_19_52-TNHP007376HO.txt: 1 lines removed, original backed up\n",
            "Processed 2022_10_29_09_32_25-QNMP001162HO.txt: 3 lines removed, original backed up\n",
            "Processed 2022_11_17_11_20_22-DNGP052023HO.txt: 1 lines removed, original backed up\n",
            "Processed 2022_11_18_11_31_55-HGGP017492HO.txt: 1 lines removed, original backed up\n",
            "Processed 2022_11_18_10_38_10-KTMP021137HO.txt: 1 lines removed, original backed up\n",
            "Processed 2022_11_18_14_22_54-STGP031069HO.txt: 1 lines removed, original backed up\n",
            "Processed 2022_11_19_11_30_04-BPCP008011HO.txt: 1 lines removed, original backed up\n",
            "Processed 2022_11_18_15_32_37-HGGP020074HO.txt: 1 lines removed, original backed up\n",
            "Processed 2022_11_18_11_07_41-HGGP008076HO.txt: 1 lines removed, original backed up\n",
            "Processed 2022_11_19_16_47_34-TGGP031212HO.txt: 1 lines removed, original backed up\n",
            "Processed 2022_11_17_15_35_56-HGGP017481HO.txt: 1 lines removed, original backed up\n",
            "Processed 2022_11_17_14_14_54-HGGP004161HO.txt: 1 lines removed, original backed up\n",
            "Processed 2022_11_17_16_33_04-LDGP039083HO.txt: 1 lines removed, original backed up\n",
            "Processed 2022_11_17_15_48_08-HGGP017475HO.txt: 1 lines removed, original backed up\n",
            "Processed 2022_11_17_16_25_59-LDGP039084HO.txt: 1 lines removed, original backed up\n",
            "Processed 2022_11_17_16_03_47-HGGP004233HO.txt: 1 lines removed, original backed up\n",
            "Processed 2022_11_17_11_06_34-GLIP038272HO.txt: 1 lines removed, original backed up\n",
            "Processed 2022_11_17_11_01_06-GLIP038272HO.txt: 1 lines removed, original backed up\n",
            "Processed 2022_11_17_10_35_33-LDGP039070HO.txt: 1 lines removed, original backed up\n",
            "Processed 2022_11_16_11_22_10-GLIP038183HO.txt: 1 lines removed, original backed up\n",
            "Processed 2022_11_14_10_16_49-CTOP036433HO.txt: 1 lines removed, original backed up\n",
            "Processed 2022_11_16_11_48_12-HGGP004210HO.txt: 1 lines removed, original backed up\n",
            "Processed 2022_11_14_16_24_20-CTOP036439HO.txt: 1 lines removed, original backed up\n",
            "Processed 2022_11_14_10_05_41-LANP020120HO.txt: 1 lines removed, original backed up\n",
            "Processed 2022_11_16_14_57_18-BPCP002390HO.txt: 1 lines removed, original backed up\n",
            "Processed 2022_11_16_09_55_10-HGGP004222HO.txt: 1 lines removed, original backed up\n",
            "Processed 2022_11_14_17_07_11-GLIP025146HO.txt: 1 lines removed, original backed up\n",
            "Processed 2022_11_15_13_49_41-BTEP019110HO.txt: 1 lines removed, original backed up\n",
            "Processed 2022_11_15_10_50_52-AGGP052178HO.txt: 1 lines removed, original backed up\n",
            "Processed 2022_11_16_15_14_09-GLIP038159HO.txt: 1 lines removed, original backed up\n",
            "Processed 2022_11_16_15_55_16-LANP029180HO.txt: 1 lines removed, original backed up\n",
            "Processed 2022_11_16_15_11_04-GLIP038159HO.txt: 1 lines removed, original backed up\n",
            "Processed 2022_11_15_09_26_44-LANP029286HO.txt: 1 lines removed, original backed up\n",
            "Processed 2022_11_16_15_37_43-GLIP038158HO.txt: 1 lines removed, original backed up\n",
            "Processed 2022_11_14_09_57_29-LANP032100HO.txt: 1 lines removed, original backed up\n",
            "Processed 2022_11_14_10_23_55-KTMP021124HO.txt: 1 lines removed, original backed up\n",
            "Processed 2022_11_14_11_20_39-LANP012405HO.txt: 1 lines removed, original backed up\n",
            "Processed 2022_11_14_10_01_50-KTMP021120HO.txt: 1 lines removed, original backed up\n",
            "Processed 2022_11_15_15_25_08-HGGP020245HO.txt: 1 lines removed, original backed up\n",
            "Processed 2022_11_15_14_06_46-AGGP018094HO.txt: 1 lines removed, original backed up\n",
            "Processed 2022_11_17_08_04_49-LDGP039032HO.txt: 1 lines removed, original backed up\n",
            "Processed 2022_11_15_14_38_20-AGGP018094HO.txt: 1 lines removed, original backed up\n",
            "Processed 2022_11_17_08_55_13-GLIP038198HO.txt: 1 lines removed, original backed up\n",
            "Processed 2022_11_15_15_51_53-BRUP075016HO.txt: 1 lines removed, original backed up\n",
            "Processed 2022_11_17_08_57_05-GLIP038198HO.txt: 1 lines removed, original backed up\n",
            "Processed 2022_11_15_14_03_00-AGGP018094HO.txt: 1 lines removed, original backed up\n",
            "Processed 2022_11_16_16_10_33-LANP029176HO.txt: 1 lines removed, original backed up\n",
            "Processed 2022_11_15_16_47_47-LDGP029058HO.txt: 1 lines removed, original backed up\n",
            "Processed 2022_11_15_14_13_07-AGGP018094HO.txt: 1 lines removed, original backed up\n",
            "Processed 2022_11_15_15_58_06-GLIP036077HO.txt: 1 lines removed, original backed up\n",
            "Processed 2022_11_14_14_05_51-GLIP025143HO.txt: 1 lines removed, original backed up\n",
            "Processed 2022_11_15_10_24_47-LANP012412HO.txt: 1 lines removed, original backed up\n",
            "Processed 2022_11_14_15_01_26-BRUP051087HO.txt: 1 lines removed, original backed up\n",
            "Processed 2022_11_16_10_56_26-GLIP038182HO.txt: 1 lines removed, original backed up\n",
            "Processed 2022_11_14_11_11_00-CTOP036437HO.txt: 1 lines removed, original backed up\n",
            "Processed 2022_11_11_10_06_38-AGGP052204HO.txt: 1 lines removed, original backed up\n",
            "Processed 2022_11_09_15_30_48-QTIP020048HO.txt: 1 lines removed, original backed up\n",
            "Processed 2022_11_09_11_26_48-AGGP053194HO.txt: 1 lines removed, original backed up\n",
            "Processed 2022_11_12_15_53_59-GLIP015218HO.txt: 1 lines removed, original backed up\n",
            "Processed 2022_11_08_16_03_43-STGP028303HO.txt: 1 lines removed, original backed up\n",
            "Processed 2022_11_10_11_24_02-QNIP019223HO.txt: 1 lines removed, original backed up\n",
            "Processed 2022_11_10_11_17_43-DNIP094148HO.txt: 1 lines removed, original backed up\n",
            "Processed 2022_11_09_11_21_04-AGGP054196HO.txt: 1 lines removed, original backed up\n",
            "Processed 2022_11_11_16_09_03-BRUP046356HO.txt: 1 lines removed, original backed up\n",
            "Processed 2022_11_09_16_44_31-KTMP007325HO.txt: 1 lines removed, original backed up\n",
            "Processed 2022_11_10_16_54_19-BLUP012019HO.txt: 1 lines removed, original backed up\n",
            "Processed 2022_11_09_17_01_29-KTMP007310HO.txt: 1 lines removed, original backed up\n",
            "Processed 2022_11_14_08_33_39-LANP012432HO.txt: 1 lines removed, original backed up\n",
            "Processed 2022_11_09_13_15_52-AGGP054267HO.txt: 1 lines removed, original backed up\n",
            "Processed 2022_11_10_09_53_00-AGGP054258HO.txt: 1 lines removed, original backed up\n",
            "Processed 2022_11_14_09_10_37-LANP012184HO.txt: 1 lines removed, original backed up\n",
            "Processed 2022_11_11_09_49_01-AGGP052205HO.txt: 1 lines removed, original backed up\n",
            "Processed 2022_11_11_14_38_35-LDGP029038HO.txt: 1 lines removed, original backed up\n",
            "Processed 2022_11_13_10_30_08-CTOP036426HO.txt: 1 lines removed, original backed up\n",
            "Processed 2022_11_12_09_25_48-LANP029285HU.txt: 1 lines removed, original backed up\n",
            "Processed 2022_11_09_14_52_41-GLIP025116HO.txt: 1 lines removed, original backed up\n",
            "Processed 2022_11_10_16_46_46-BRUP034236HO.txt: 1 lines removed, original backed up\n",
            "Processed 2022_11_10_09_36_02-AGGP054262HO.txt: 1 lines removed, original backed up\n",
            "Processed 2022_11_09_11_22_27-AGGP053194HO.txt: 1 lines removed, original backed up\n",
            "Processed 2022_11_09_09_30_16-GLIP025107HO.txt: 1 lines removed, original backed up\n",
            "Processed 2022_11_10_11_14_50-DNIP094148HO.txt: 1 lines removed, original backed up\n",
            "Processed 2022_11_09_10_46_01-GLIP025244HO.txt: 1 lines removed, original backed up\n",
            "Processed 2022_11_11_11_06_05-DNIP109300HO.txt: 1 lines removed, original backed up\n",
            "Processed 2022_11_08_15_56_10-STGP028308HO.txt: 1 lines removed, original backed up\n",
            "Processed 2022_11_05_08_39_39-QNIP028100HO.txt: 1 lines removed, original backed up\n",
            "Processed 2022_11_04_15_46_16-DLKP035073HO.txt: 1 lines removed, original backed up\n",
            "Processed 2022_10_31_09_49_23-AGGP045015HO.txt: 1 lines removed, original backed up\n",
            "Processed 2022_11_03_10_07_44-DLKP035066HO.txt: 1 lines removed, original backed up\n",
            "Processed 2022_11_01_08_36_13-LANP012463HO.txt: 1 lines removed, original backed up\n",
            "Processed 2022_11_02_10_07_32-QNIP027096HO.txt: 1 lines removed, original backed up\n",
            "Processed 2022_10_27_14_54_44-AGGP018102HO.txt: 1 lines removed, original backed up\n",
            "Processed 2022_11_03_14_45_23-GLIP025205HO.txt: 1 lines removed, original backed up\n",
            "Processed 2022_11_02_16_38_25-KTMP007315HO.txt: 1 lines removed, original backed up\n",
            "Processed 2022_10_28_10_56_14-QNIP027007HO.txt: 1 lines removed, original backed up\n",
            "Processed 2022_11_07_11_56_28-AGGP018204HO.txt: 1 lines removed, original backed up\n",
            "Processed 2022_11_01_14_58_52-QNIP028005HO.txt: 1 lines removed, original backed up\n",
            "Processed 2022_11_01_15_50_58-DTPP001013HO.txt: 1 lines removed, original backed up\n",
            "Processed 2022_10_28_10_11_14-AGGP045230HO.txt: 1 lines removed, original backed up\n",
            "Processed 2022_11_04_09_02_19-GLIP025199HO.txt: 1 lines removed, original backed up\n",
            "Processed 2022_11_01_10_30_26-LANP012470HO.txt: 1 lines removed, original backed up\n",
            "Processed 2022_11_07_10_24_37-AGGP018113HO.txt: 1 lines removed, original backed up\n",
            "Processed 2022_11_06_09_25_14-STGP019290HO.txt: 1 lines removed, original backed up\n",
            "Processed 2022_11_02_09_51_51-QNIP022103HO.txt: 1 lines removed, original backed up\n",
            "Processed 2022_10_27_11_37_56-STGP030006HO.txt: 1 lines removed, original backed up\n",
            "Processed 2022_10_28_10_57_35-AGGP045009HO.txt: 1 lines removed, original backed up\n",
            "Processed 2022_10_28_09_20_59-QNIP027002HO.txt: 1 lines removed, original backed up\n",
            "Processed 2022_11_01_10_45_55-LANP012469HO.txt: 1 lines removed, original backed up\n",
            "Processed 2022_11_01_15_44_24-DTPP001013HO.txt: 1 lines removed, original backed up\n",
            "Processed 2022_11_02_14_52_10-GLIP032281HO.txt: 1 lines removed, original backed up\n",
            "Processed 2022_10_28_10_51_49-AGGP045009HO.txt: 1 lines removed, original backed up\n",
            "Processed 2022_11_08_10_53_15-KTMP021157HO.txt: 1 lines removed, original backed up\n",
            "Processed 2022_10_28_10_38_17-AGGP045016HO.txt: 1 lines removed, original backed up\n",
            "Processed 2022_11_02_17_35_04-GLIP032277HO.txt: 1 lines removed, original backed up\n",
            "Processed 2022_11_04_09_48_45-QNIP028102HO.txt: 1 lines removed, original backed up\n",
            "Processed 2022_11_05_08_49_47-QNIP028101HO.txt: 1 lines removed, original backed up\n",
            "Processed 2022_11_04_10_10_23-KTMP021164HO.txt: 1 lines removed, original backed up\n",
            "Processed 2022_11_03_16_46_20-GLIP025206HO.txt: 1 lines removed, original backed up\n",
            "Processed 2022_11_02_15_43_58-KTMP007312HO.txt: 1 lines removed, original backed up\n",
            "Processed 2022_11_07_11_12_13-STGP019208HO.txt: 1 lines removed, original backed up\n",
            "Processed 2022_11_04_10_40_45-DNIP090228HO.txt: 1 lines removed, original backed up\n",
            "Processed 2022_11_02_14_39_28-GLIP032281HO.txt: 1 lines removed, original backed up\n",
            "Processed 2022_11_07_14_29_11-BDGP061321HO.txt: 1 lines removed, original backed up\n",
            "Processed 2022_11_01_15_05_38-QNIP028005HO.txt: 1 lines removed, original backed up\n",
            "Processed 2022_11_02_14_43_12-GLIP032281HO.txt: 1 lines removed, original backed up\n",
            "Processed 2022_11_04_09_53_00-GLIP025202HO.txt: 1 lines removed, original backed up\n",
            "Processed 2022_11_01_15_11_35-DLKP035003HO.txt: 1 lines removed, original backed up\n",
            "Processed 2022_11_07_13_34_15-BDGP059486HO.txt: 1 lines removed, original backed up\n",
            "Processed 2022_11_07_10_28_42-STGP019038HO.txt: 1 lines removed, original backed up\n",
            "Processed 2022_10_31_15_56_41-AGGP018272HO.txt: 1 lines removed, original backed up\n",
            "Processed 2022_11_04_10_18_48-GLIP041213HO.txt: 1 lines removed, original backed up\n",
            "Processed 2022_10_27_10_51_13-AGGP045231HO.txt: 1 lines removed, original backed up\n",
            "Processed 2022_11_04_14_06_42-NTGP066277HO.txt: 1 lines removed, original backed up\n",
            "Processed 2022_11_07_10_40_43-AGGP018273HO.txt: 1 lines removed, original backed up\n",
            "Processed 2022_11_02_17_27_50-GLIP032277HO.txt: 1 lines removed, original backed up\n",
            "Processed 2022_10_28_14_34_48-QNIP027006HO.txt: 1 lines removed, original backed up\n",
            "Processed 2022_11_02_09_53_07-QNIP022103HO.txt: 1 lines removed, original backed up\n",
            "Processed 2022_11_02_09_20_19-GLIP035003HO.txt: 1 lines removed, original backed up\n",
            "Processed 2022_11_01_14_43_46-DLKP035002HO.txt: 1 lines removed, original backed up\n",
            "Processed 2022_11_07_08_18_01-STGP019268HO.txt: 1 lines removed, original backed up\n",
            "Processed 2022_10_31_14_53_14-QNIP003014HO.txt: 1 lines removed, original backed up\n",
            "Processed 2022_11_02_14_48_45-GLIP032281HO.txt: 1 lines removed, original backed up\n",
            "Processed 2022_11_07_10_39_43-AGGP018273HO.txt: 1 lines removed, original backed up\n",
            "Processed 2022_11_03_10_18_25-DLKP035064HO.txt: 1 lines removed, original backed up\n",
            "Processed 2022_10_27_10_35_27-AGGP044199HO.txt: 1 lines removed, original backed up\n",
            "Processed 2022_11_02_16_59_35-GLIP032273HO.txt: 1 lines removed, original backed up\n",
            "Processed 2022_10_27_10_32_07-AGGP045231HO.txt: 1 lines removed, original backed up\n",
            "Processed 2022_11_07_14_22_03-GLIP015215HO.txt: 1 lines removed, original backed up\n",
            "Processed 2022_11_08_10_36_37-KTMP021158HO.txt: 1 lines removed, original backed up\n",
            "Processed 2022_10_28_10_33_59-KTMP007341HO.txt: 1 lines removed, original backed up\n",
            "Processed 2022_11_05_08_58_48-LANP024185HO.txt: 1 lines removed, original backed up\n",
            "Processed 2022_11_02_16_31_45-GLIP032274HO.txt: 1 lines removed, original backed up\n",
            "Processed 2022_11_03_16_50_20-GLIP025206HO.txt: 1 lines removed, original backed up\n",
            "Processed 2022_11_07_14_15_17-GLIP015215HO.txt: 1 lines removed, original backed up\n",
            "Processed 2022_10_28_09_06_58-KTMP007346HO.txt: 1 lines removed, original backed up\n",
            "Processed 2022_11_07_11_37_01-STGP019232HO.txt: 1 lines removed, original backed up\n",
            "Processed 2022_11_07_10_58_09-AGGP018171HO.txt: 1 lines removed, original backed up\n",
            "Processed 2022_11_02_16_36_21-STGP030042HO.txt: 1 lines removed, original backed up\n",
            "Processed 2022_11_08_11_21_23-STGP029100HO.txt: 1 lines removed, original backed up\n",
            "Processed 2022_11_07_08_58_06-KTMP021167HO.txt: 1 lines removed, original backed up\n",
            "Processed 2022_11_05_08_28_30-QNIP028010HO.txt: 1 lines removed, original backed up\n",
            "Processed 2022_11_01_14_08_02-DLKP035001HO.txt: 1 lines removed, original backed up\n",
            "Processed 2022_11_04_12_05_53-GLIP041215HO.txt: 1 lines removed, original backed up\n",
            "Processed 2022_11_07_13_02_42-STGP029059HO.txt: 1 lines removed, original backed up\n",
            "Processed 2022_11_04_10_08_55-KTMP021164HO.txt: 1 lines removed, original backed up\n",
            "Processed 2022_11_02_16_10_07-DTPP007225HO.txt: 1 lines removed, original backed up\n",
            "Processed 2022_11_07_10_43_23-AGGP018273HO.txt: 1 lines removed, original backed up\n",
            "Processed 2022_11_03_15_58_07-DLKP035081HO.txt: 1 lines removed, original backed up\n",
            "Processed 2022_11_03_10_01_14-DLKP035065HO.txt: 1 lines removed, original backed up\n",
            "Processed 2022_11_07_09_50_45-KTMP021169HO.txt: 1 lines removed, original backed up\n",
            "Processed 2022_11_03_09_51_22-DLKP035069HO.txt: 1 lines removed, original backed up\n",
            "Processed 2022_11_07_11_07_11-AGGP023299HO.txt: 1 lines removed, original backed up\n",
            "Processed 2022_11_01_09_23_02-LANP012192HO.txt: 1 lines removed, original backed up\n",
            "Processed 2022_11_08_11_54_59-STGP029101HO.txt: 1 lines removed, original backed up\n",
            "Processed 2022_11_02_17_05_48-STGP030018HO.txt: 1 lines removed, original backed up\n",
            "Processed 2022_11_06_14_57_11-STGP030008HO.txt: 1 lines removed, original backed up\n",
            "Processed 2022_11_07_11_23_04-STGP019206HO.txt: 1 lines removed, original backed up\n",
            "Processed 2022_11_04_07_05_10-LANP029270HU.txt: 1 lines removed, original backed up\n",
            "Processed 2022_11_03_15_13_42-GLIP025204HO.txt: 1 lines removed, original backed up\n",
            "Processed 2022_11_02_10_41_23-AGGP045003HO.txt: 1 lines removed, original backed up\n",
            "Processed 2022_11_07_15_24_22-DTPP007173HO.txt: 1 lines removed, original backed up\n",
            "Processed 2022_11_02_17_31_40-GLIP032277HO.txt: 1 lines removed, original backed up\n",
            "Processed 2022_11_02_09_15_31-GLIP035003HO.txt: 1 lines removed, original backed up\n",
            "Processed 2022_11_02_15_33_21-GLIP032276HO.txt: 1 lines removed, original backed up\n",
            "Processed 2022_11_07_11_02_48-LANP026128HO.txt: 1 lines removed, original backed up\n",
            "Processed 2022_10_28_11_26_37-AGGP045339HO.txt: 1 lines removed, original backed up\n",
            "Processed 2022_11_06_14_12_38-STGP030016HO.txt: 1 lines removed, original backed up\n",
            "Processed 2022_11_07_11_45_23-LANP026137HO.txt: 1 lines removed, original backed up\n",
            "Processed 2022_11_08_09_48_24-AGGP016166HO.txt: 1 lines removed, original backed up\n",
            "Processed 2022_11_04_08_35_30-QNIP028100HO.txt: 1 lines removed, original backed up\n",
            "Processed 2022_11_04_11_18_24-QNIP028098HO.txt: 1 lines removed, original backed up\n",
            "Processed 2022_10_27_14_51_45-AGGP018102HO.txt: 1 lines removed, original backed up\n",
            "Processed 2022_11_07_09_33_04-KTMP021168HO.txt: 1 lines removed, original backed up\n",
            "Processed 2022_10_31_15_36_47-AGGP018270HO.txt: 1 lines removed, original backed up\n",
            "Processed 2022_11_07_11_29_26-AGGP018269HO.txt: 1 lines removed, original backed up\n",
            "Processed 2022_11_07_10_00_42-KTMP021169HO.txt: 1 lines removed, original backed up\n",
            "Processed 2022_11_07_10_26_18-KTMP021163HO.txt: 1 lines removed, original backed up\n",
            "Processed 2022_11_07_09_44_54-LANP029274HU.txt: 1 lines removed, original backed up\n",
            "Processed 2022_11_05_10_55_01-KGGP002208HO.txt: 1 lines removed, original backed up\n",
            "Processed 2022_10_27_11_13_21-STGP030005HO.txt: 1 lines removed, original backed up\n",
            "Processed 2022_10_28_16_40_16-QNMP001083HO.txt: 1 lines removed, original backed up\n",
            "Processed 2022_11_07_09_35_14-KTMP007349HO.txt: 1 lines removed, original backed up\n",
            "Processed 2022_11_26_14_49_03-QNHP056146HO.txt: 1 lines removed, original backed up\n",
            "Processed 2022_12_09_14_32_32-TBHP025068HO.txt: 2 lines removed, original backed up\n",
            "Processed 2022_11_23_09_48_23-QNHP052294HO.txt: 1 lines removed, original backed up\n",
            "Processed 2022_11_02_09_17_12-YBIP012112HO.txt: 1 lines removed, original backed up\n",
            "Processed 2023_01_04_11_02_25-LSNP021123HO.txt: 1 lines removed, original backed up\n",
            "Processed 2022_12_30_16_14_42-HYNP038054HO.txt: 1 lines removed, original backed up\n",
            "Processed 2022_12_09_09_57_17-HDGP004064HO.txt: 1 lines removed, original backed up\n",
            "Processed 2022_12_09_08_28_58-TBHP014190HO.txt: 1 lines removed, original backed up\n",
            "Processed 2022_11_24_10_48_38-CBGP005131HO.txt: 1 lines removed, original backed up\n",
            "Processed 2022_11_15_16_48_38-HNIP297056HO.txt: 1 lines removed, original backed up\n",
            "Processed 2022_11_15_10_49_47-HNIP163139HO.txt: 1 lines removed, original backed up\n",
            "Processed 2022_11_14_14_06_10-HDGP008093HO.txt: 1 lines removed, original backed up\n",
            "Processed 2022_11_11_15_27_35-HNIP475422HO.txt: 1 lines removed, original backed up\n",
            "Processed 2022_11_10_09_03_18-BGGP040241HO.txt: 1 lines removed, original backed up\n",
            "Processed 2022_11_09_16_22_25-HNIP386031HO.txt: 1 lines removed, original backed up\n",
            "Processed 2022_11_07_11_23_26-HNIP614032HO.txt: 1 lines removed, original backed up\n",
            "Processed 2022_11_15_11_10_30-BPCP001518HO.txt: 1 lines removed, original backed up\n",
            "Processed 2022_11_01_10_08_08-LANP012473HO.txt: 2 lines removed, original backed up\n",
            "Processed 2022_11_19_10_41_12-DNGP128193HO.txt: 1 lines removed, original backed up\n",
            "Processed 2022_11_19_15_25_54-DNGP128207HO.txt: 1 lines removed, original backed up\n",
            "Processed 2022_11_19_15_16_19-DNGP128206HO.txt: 1 lines removed, original backed up\n",
            "Processed 2022_11_19_11_13_47-DNGP128199HO.txt: 1 lines removed, original backed up\n",
            "Processed 2022_11_18_10_24_51-DNGP052251HO.txt: 1 lines removed, original backed up\n",
            "Processed 2022_11_18_09_11_09-DNGP052255HO.txt: 1 lines removed, original backed up\n",
            "Processed 2022_11_17_16_44_37-DNGP052032HO.txt: 1 lines removed, original backed up\n",
            "Processed 2022_11_18_09_19_42-DNGP005103HO.txt: 1 lines removed, original backed up\n",
            "Processed 2022_11_18_14_35_50-STGP031071HO.txt: 1 lines removed, original backed up\n",
            "Processed 2022_11_19_10_57_56-BPCP008014HO.txt: 1 lines removed, original backed up\n",
            "Processed 2022_11_19_11_52_17-HGGP020108HO.txt: 1 lines removed, original backed up\n",
            "Processed 2022_11_19_12_55_52-DTPP007238HO.txt: 1 lines removed, original backed up\n",
            "Processed 2022_11_19_10_49_49-DTPP025112HO.txt: 1 lines removed, original backed up\n",
            "Processed 2022_11_17_16_51_24-HGGP017472HO.txt: 1 lines removed, original backed up\n",
            "Processed 2022_11_17_10_27_26-HGGP004113HO.txt: 1 lines removed, original backed up\n",
            "Processed 2022_11_16_16_16_32-BPCP002364HO.txt: 1 lines removed, original backed up\n",
            "Processed 2022_11_15_11_08_20-LANP030348HU.txt: 1 lines removed, original backed up\n",
            "Processed 2022_11_15_11_25_43-AGGP053177HO.txt: 1 lines removed, original backed up\n",
            "Processed 2022_11_15_10_20_59-BPCP001520HO.txt: 1 lines removed, original backed up\n",
            "Processed 2022_11_15_09_42_56-LANP029340HO.txt: 1 lines removed, original backed up\n",
            "Processed 2022_11_15_10_17_34-BPCP002373HO.txt: 1 lines removed, original backed up\n",
            "Processed 2022_11_16_15_44_11-BPCP002370HO.txt: 1 lines removed, original backed up\n",
            "Processed 2022_11_15_11_02_58-LANP030349HU.txt: 1 lines removed, original backed up\n",
            "Processed 2022_11_14_09_49_42-LANP020049HO.txt: 1 lines removed, original backed up\n",
            "Processed 2022_11_14_13_38_23-BLUP009251HO.txt: 1 lines removed, original backed up\n",
            "Processed 2022_11_14_13_42_13-BLUP009251HO.txt: 1 lines removed, original backed up\n",
            "Processed 2022_11_14_12_10_07-LDGP029048HO.txt: 1 lines removed, original backed up\n",
            "Processed 2022_11_15_11_54_58-AGGP053177HO.txt: 1 lines removed, original backed up\n",
            "Processed 2022_11_15_07_32_03-LANP012403HO.txt: 1 lines removed, original backed up\n",
            "Processed 2022_11_14_09_33_01-LANP020052HO.txt: 1 lines removed, original backed up\n",
            "Processed 2022_11_15_10_51_56-BPCP001506HO.txt: 1 lines removed, original backed up\n",
            "Processed 2022_11_09_10_20_26-STGP030062HO.txt: 1 lines removed, original backed up\n",
            "Processed 2022_11_10_09_54_28-AGGP054258HO.txt: 1 lines removed, original backed up\n",
            "Processed 2022_11_09_10_56_36-AGGP053202HO.txt: 1 lines removed, original backed up\n",
            "Processed 2022_11_11_09_15_42-AGGP052230HO.txt: 1 lines removed, original backed up\n",
            "Processed 2022_11_11_15_18_39-KGGP003345HO.txt: 1 lines removed, original backed up\n",
            "Processed 2022_11_12_11_26_51-LDGP029007HO.txt: 1 lines removed, original backed up\n",
            "Processed 2022_11_14_09_26_25-LANP020052HO.txt: 1 lines removed, original backed up\n",
            "Processed 2022_11_10_11_02_48-DNIP094148HO.txt: 1 lines removed, original backed up\n",
            "Processed 2022_11_10_10_33_34-AGGP052224HO.txt: 1 lines removed, original backed up\n",
            "Processed 2022_11_09_14_12_54-AGGP054270HO.txt: 1 lines removed, original backed up\n",
            "Processed 2022_11_10_09_20_40-AGGP054264HO.txt: 1 lines removed, original backed up\n",
            "Processed 2022_11_12_16_36_30-HGGP016263HO.txt: 1 lines removed, original backed up\n",
            "Processed 2022_11_09_12_28_50-AGGP054268HO.txt: 1 lines removed, original backed up\n",
            "Processed 2022_11_09_14_18_34-AGGP054270HO.txt: 1 lines removed, original backed up\n",
            "Processed 2022_11_14_08_53_27-KTMP021131HO.txt: 1 lines removed, original backed up\n",
            "Processed 2022_11_09_11_28_54-AGGP053194HO.txt: 1 lines removed, original backed up\n",
            "Processed 2022_11_09_13_57_18-AGGP054269HO.txt: 1 lines removed, original backed up\n",
            "Processed 2022_11_09_11_07_34-STGP030092HO.txt: 1 lines removed, original backed up\n",
            "Processed 2022_11_09_14_11_02-AGGP054270HO.txt: 1 lines removed, original backed up\n",
            "Processed 2022_11_09_10_36_36-STGP030050HO.txt: 1 lines removed, original backed up\n",
            "Processed 2022_11_01_15_19_39-DLKP035003HO.txt: 1 lines removed, original backed up\n",
            "Processed 2022_11_02_09_58_19-DLKP035047HO.txt: 1 lines removed, original backed up\n",
            "Processed 2022_11_04_10_49_44-DLKP035120HO.txt: 1 lines removed, original backed up\n",
            "Processed 2022_11_05_07_12_19-STGP030041HO.txt: 1 lines removed, original backed up\n",
            "Processed 2022_11_04_09_35_45-DLKP035126HO.txt: 1 lines removed, original backed up\n",
            "Processed 2022_11_08_09_33_45-AGGP016167HO.txt: 1 lines removed, original backed up\n",
            "Processed 2022_11_01_15_36_53-CTOP020125HO.txt: 1 lines removed, original backed up\n",
            "Processed 2022_11_07_11_41_28-AGGP018272HO.txt: 1 lines removed, original backed up\n",
            "Processed 2022_10_27_11_04_52-AGGP018101HO.txt: 1 lines removed, original backed up\n",
            "Processed 2022_11_07_09_56_09-STGP028302HO.txt: 1 lines removed, original backed up\n",
            "Processed 2022_11_02_10_50_12-KTMP019286HO.txt: 1 lines removed, original backed up\n",
            "Processed 2022_11_02_14_35_01-DLKP035042HO.txt: 1 lines removed, original backed up\n",
            "Processed 2022_11_07_12_03_37-AGGP018204HO.txt: 1 lines removed, original backed up\n",
            "Processed 2022_11_03_13_46_20-DLKP035114HO.txt: 1 lines removed, original backed up\n",
            "Processed 2022_10_31_09_47_27-AGGP045015HO.txt: 1 lines removed, original backed up\n",
            "Processed 2022_11_07_10_02_34-KTMP021169HO.txt: 1 lines removed, original backed up\n",
            "Processed 2022_11_04_10_28_38-KTMP021165HO.txt: 1 lines removed, original backed up\n",
            "Processed 2022_11_07_12_01_08-AGGP018204HO.txt: 1 lines removed, original backed up\n",
            "Processed 2022_10_27_11_45_38-STGP030006HO.txt: 1 lines removed, original backed up\n",
            "Processed 2022_11_03_09_40_05-DLKP035019HO.txt: 1 lines removed, original backed up\n",
            "Processed 2022_11_18_09_57_09-HPGP061140HO.txt: 2 lines removed, original backed up\n",
            "Processed 2022_11_17_14_53_59-NBHP013149HO.txt: 2 lines removed, original backed up\n",
            "Processed 2022_11_29_16_29_45-QNHP118150HO.txt: 2 lines removed, original backed up\n",
            "Processed 2022_11_24_11_32_08-YBIP008171HO.txt: 2 lines removed, original backed up\n",
            "Processed 2022_11_24_11_17_19-YBIP008171HO.txt: 2 lines removed, original backed up\n",
            "Processed 2022_11_25_14_49_06-HDGP004021HO.txt: 1 lines removed, original backed up\n",
            "Processed 2022_12_12_11_09_47-NBHP014033HO.txt: 2 lines removed, original backed up\n",
            "Processed 2022_11_29_15_34_07-TNNP069099HO.txt: 2 lines removed, original backed up\n",
            "Processed 2022_11_12_15_26_17-HNIP234754HO.txt: 2 lines removed, original backed up\n",
            "Processed 2022_11_14_16_22_42-HNIP206574HO.txt: 2 lines removed, original backed up\n",
            "Processed 2022_11_16_10_03_56-TBHP012022HO.txt: 1 lines removed, original backed up\n",
            "Processed 2022_11_15_16_13_30-HNIP297028HO.txt: 2 lines removed, original backed up\n",
            "Processed 2022_11_08_16_00_40-HNIP456026HO.txt: 2 lines removed, original backed up\n",
            "Processed 2022_11_09_09_38_25-HNIP204131HO.txt: 2 lines removed, original backed up\n",
            "Processed 2022_11_08_14_22_58-HNIP726069HO.txt: 2 lines removed, original backed up\n",
            "Processed 2022_11_19_10_42_11-DNGP128193HO.txt: 1 lines removed, original backed up\n",
            "Processed 2022_11_15_11_53_26-AGGP053177HO.txt: 1 lines removed, original backed up\n",
            "Processed 2022_11_09_10_43_31-STGP030095HO.txt: 1 lines removed, original backed up\n",
            "Processed 2022_11_03_14_40_08-DLKP035107HO.txt: 1 lines removed, original backed up\n",
            "Processed 2022_11_01_13_58_32-QTIP021003HO.txt: 1 lines removed, original backed up\n",
            "Total files processed: 11226\n"
          ]
        }
      ]
    },
    {
      "cell_type": "markdown",
      "source": [
        "## Write dataset configuration"
      ],
      "metadata": {
        "id": "mrv3Kb5Ryssw"
      }
    },
    {
      "cell_type": "code",
      "execution_count": null,
      "metadata": {
        "colab": {
          "base_uri": "https://localhost:8080/"
        },
        "id": "o5lE2SJyTls0",
        "outputId": "f147fe5f-ea70-40de-b4d6-5b45479ea445"
      },
      "outputs": [
        {
          "output_type": "stream",
          "name": "stdout",
          "text": [
            "data.yaml has been generated!\n"
          ]
        }
      ],
      "source": [
        "data = {\n",
        "    \"train\": paths['train_paths'],\n",
        "    \"val\": paths['val_paths'],\n",
        "    \"test\": paths['test_paths'],\n",
        "    \"nc\": len(class_names),\n",
        "    \"names\": class_names\n",
        "}\n",
        "\n",
        "with open(paths['data'], \"w\") as file:\n",
        "    yaml.dump(data, file, default_flow_style=False)\n",
        "\n",
        "print(\"data.yaml has been generated!\")"
      ]
    },
    {
      "cell_type": "markdown",
      "source": [
        "# Model Training"
      ],
      "metadata": {
        "id": "05mhf3nfzBjS"
      }
    },
    {
      "cell_type": "markdown",
      "source": [
        "## GPU check"
      ],
      "metadata": {
        "id": "-m71MKuxzDHJ"
      }
    },
    {
      "cell_type": "code",
      "source": [
        "!nvidia-smi"
      ],
      "metadata": {
        "colab": {
          "base_uri": "https://localhost:8080/"
        },
        "id": "igA3CYns5JxG",
        "outputId": "532ce22c-3807-471b-c808-554d76d835dc"
      },
      "execution_count": null,
      "outputs": [
        {
          "output_type": "stream",
          "name": "stdout",
          "text": [
            "Fri Apr 18 08:51:43 2025       \n",
            "+-----------------------------------------------------------------------------------------+\n",
            "| NVIDIA-SMI 550.54.15              Driver Version: 550.54.15      CUDA Version: 12.4     |\n",
            "|-----------------------------------------+------------------------+----------------------+\n",
            "| GPU  Name                 Persistence-M | Bus-Id          Disp.A | Volatile Uncorr. ECC |\n",
            "| Fan  Temp   Perf          Pwr:Usage/Cap |           Memory-Usage | GPU-Util  Compute M. |\n",
            "|                                         |                        |               MIG M. |\n",
            "|=========================================+========================+======================|\n",
            "|   0  NVIDIA L4                      Off |   00000000:00:03.0 Off |                    0 |\n",
            "| N/A   36C    P8             11W /   72W |       0MiB /  23034MiB |      0%      Default |\n",
            "|                                         |                        |                  N/A |\n",
            "+-----------------------------------------+------------------------+----------------------+\n",
            "                                                                                         \n",
            "+-----------------------------------------------------------------------------------------+\n",
            "| Processes:                                                                              |\n",
            "|  GPU   GI   CI        PID   Type   Process name                              GPU Memory |\n",
            "|        ID   ID                                                               Usage      |\n",
            "|=========================================================================================|\n",
            "|  No running processes found                                                             |\n",
            "+-----------------------------------------------------------------------------------------+\n"
          ]
        }
      ]
    },
    {
      "cell_type": "code",
      "source": [
        "if torch.cuda.is_available():\n",
        "    device = torch.device(\"cuda\")\n",
        "    print(f\"GPU is available! Using device: {device}\")\n",
        "    print(f\"GPU Name: {torch.cuda.get_device_name(0)}\")\n",
        "    print(f\"Number of GPUs: {torch.cuda.device_count()}\")\n",
        "    print(f\"Total Memory: {torch.cuda.get_device_properties(0).total_memory / 1e9:.2f} GB\")\n",
        "else:\n",
        "    device = torch.device(\"cpu\")\n",
        "    print(\"No GPU available, using CPU.\")\n"
      ],
      "metadata": {
        "colab": {
          "base_uri": "https://localhost:8080/"
        },
        "id": "2xvCTl2j5XIE",
        "outputId": "08be89c2-7509-4a76-f7af-c60c29d8a382"
      },
      "execution_count": null,
      "outputs": [
        {
          "output_type": "stream",
          "name": "stdout",
          "text": [
            "GPU is available! Using device: cuda\n",
            "GPU Name: NVIDIA L4\n",
            "Number of GPUs: 1\n",
            "Total Memory: 23.80 GB\n"
          ]
        }
      ]
    },
    {
      "cell_type": "markdown",
      "source": [
        "## Train"
      ],
      "metadata": {
        "id": "SHF0-EOWzIq1"
      }
    },
    {
      "cell_type": "code",
      "execution_count": null,
      "metadata": {
        "colab": {
          "base_uri": "https://localhost:8080/",
          "height": 1000
        },
        "id": "4r5uG6Q65yE1",
        "outputId": "9fca02c9-8ef6-47aa-b036-9efb77f4ff55"
      },
      "outputs": [
        {
          "output_type": "stream",
          "name": "stdout",
          "text": [
            "Ultralytics 8.3.110 🚀 Python-3.11.12 torch-2.6.0+cu124 CUDA:0 (NVIDIA L4, 22693MiB)\n",
            "\u001b[34m\u001b[1mengine/trainer: \u001b[0mtask=detect, mode=train, model=yolov8m.pt, data=/content/drive/MyDrive/fiber_optic_box_inspection/dataset/data.yaml, epochs=100, time=None, patience=10, batch=25, imgsz=896, save=True, save_period=5, cache=True, device=0, workers=16, project=/content/drive/MyDrive/fiber_optic_box_inspection/runs_yolo, name=v8m_batch25_imgsz896_, exist_ok=False, pretrained=True, optimizer=auto, verbose=True, seed=0, deterministic=True, single_cls=False, rect=False, cos_lr=False, close_mosaic=10, resume=False, amp=True, fraction=1.0, profile=False, freeze=None, multi_scale=False, overlap_mask=True, mask_ratio=4, dropout=0.0, val=True, split=val, save_json=False, conf=None, iou=0.7, max_det=300, half=False, dnn=False, plots=True, source=None, vid_stride=1, stream_buffer=False, visualize=False, augment=False, agnostic_nms=False, classes=None, retina_masks=False, embed=None, show=False, save_frames=False, save_txt=False, save_conf=False, save_crop=False, show_labels=True, show_conf=True, show_boxes=True, line_width=None, format=torchscript, keras=False, optimize=False, int8=False, dynamic=False, simplify=True, opset=None, workspace=None, nms=False, lr0=0.01, lrf=0.01, momentum=0.937, weight_decay=0.0005, warmup_epochs=3.0, warmup_momentum=0.8, warmup_bias_lr=0.1, box=7.5, cls=0.5, dfl=1.5, pose=12.0, kobj=1.0, nbs=64, hsv_h=0.015, hsv_s=0.7, hsv_v=0.4, degrees=0.0, translate=0.1, scale=0.5, shear=0.0, perspective=0.0, flipud=0.0, fliplr=0.5, bgr=0.0, mosaic=1.0, mixup=0.0, copy_paste=0.0, copy_paste_mode=flip, auto_augment=randaugment, erasing=0.4, cfg=None, tracker=botsort.yaml, save_dir=/content/drive/MyDrive/fiber_optic_box_inspection/runs_yolo/v8m_batch25_imgsz896_\n",
            "Overriding model.yaml nc=80 with nc=173\n",
            "\n",
            "                   from  n    params  module                                       arguments                     \n",
            "  0                  -1  1      1392  ultralytics.nn.modules.conv.Conv             [3, 48, 3, 2]                 \n",
            "  1                  -1  1     41664  ultralytics.nn.modules.conv.Conv             [48, 96, 3, 2]                \n",
            "  2                  -1  2    111360  ultralytics.nn.modules.block.C2f             [96, 96, 2, True]             \n",
            "  3                  -1  1    166272  ultralytics.nn.modules.conv.Conv             [96, 192, 3, 2]               \n",
            "  4                  -1  4    813312  ultralytics.nn.modules.block.C2f             [192, 192, 4, True]           \n",
            "  5                  -1  1    664320  ultralytics.nn.modules.conv.Conv             [192, 384, 3, 2]              \n",
            "  6                  -1  4   3248640  ultralytics.nn.modules.block.C2f             [384, 384, 4, True]           \n",
            "  7                  -1  1   1991808  ultralytics.nn.modules.conv.Conv             [384, 576, 3, 2]              \n",
            "  8                  -1  2   3985920  ultralytics.nn.modules.block.C2f             [576, 576, 2, True]           \n",
            "  9                  -1  1    831168  ultralytics.nn.modules.block.SPPF            [576, 576, 5]                 \n",
            " 10                  -1  1         0  torch.nn.modules.upsampling.Upsample         [None, 2, 'nearest']          \n",
            " 11             [-1, 6]  1         0  ultralytics.nn.modules.conv.Concat           [1]                           \n",
            " 12                  -1  2   1993728  ultralytics.nn.modules.block.C2f             [960, 384, 2]                 \n",
            " 13                  -1  1         0  torch.nn.modules.upsampling.Upsample         [None, 2, 'nearest']          \n",
            " 14             [-1, 4]  1         0  ultralytics.nn.modules.conv.Concat           [1]                           \n",
            " 15                  -1  2    517632  ultralytics.nn.modules.block.C2f             [576, 192, 2]                 \n",
            " 16                  -1  1    332160  ultralytics.nn.modules.conv.Conv             [192, 192, 3, 2]              \n",
            " 17            [-1, 12]  1         0  ultralytics.nn.modules.conv.Concat           [1]                           \n",
            " 18                  -1  2   1846272  ultralytics.nn.modules.block.C2f             [576, 384, 2]                 \n",
            " 19                  -1  1   1327872  ultralytics.nn.modules.conv.Conv             [384, 384, 3, 2]              \n",
            " 20             [-1, 9]  1         0  ultralytics.nn.modules.conv.Concat           [1]                           \n",
            " 21                  -1  2   4207104  ultralytics.nn.modules.block.C2f             [960, 576, 2]                 \n",
            " 22        [15, 18, 21]  1   3875863  ultralytics.nn.modules.head.Detect           [173, [192, 384, 576]]        \n",
            "Model summary: 169 layers, 25,956,487 parameters, 25,956,471 gradients, 79.6 GFLOPs\n",
            "\n",
            "Transferred 469/475 items from pretrained weights\n",
            "\u001b[34m\u001b[1mTensorBoard: \u001b[0mStart with 'tensorboard --logdir /content/drive/MyDrive/fiber_optic_box_inspection/runs_yolo/v8m_batch25_imgsz896_', view at http://localhost:6006/\n",
            "Freezing layer 'model.22.dfl.conv.weight'\n",
            "\u001b[34m\u001b[1mAMP: \u001b[0mrunning Automatic Mixed Precision (AMP) checks...\n",
            "\u001b[34m\u001b[1mAMP: \u001b[0mchecks passed ✅\n",
            "\u001b[34m\u001b[1mtrain: \u001b[0mFast image access ✅ (ping: 0.3±0.0 ms, read: 77.8±22.0 MB/s, size: 122.3 KB)\n"
          ]
        },
        {
          "output_type": "stream",
          "name": "stderr",
          "text": [
            "\u001b[34m\u001b[1mtrain: \u001b[0mScanning /content/drive/MyDrive/fiber_optic_box_inspection/dataset/data_label_v2_ALL... 7858 images, 501 backgrounds, 0 corrupt: 100%|██████████| 7858/7858 [00:27<00:00, 287.35it/s]"
          ]
        },
        {
          "output_type": "stream",
          "name": "stdout",
          "text": [
            "\u001b[34m\u001b[1mtrain: \u001b[0mWARNING ⚠️ /content/drive/MyDrive/fiber_optic_box_inspection/dataset/data_label_v2_ALL/2022_11_03_15_29_32-HNIP456107HO.jpg: 1 duplicate labels removed\n",
            "\u001b[34m\u001b[1mtrain: \u001b[0mWARNING ⚠️ /content/drive/MyDrive/fiber_optic_box_inspection/dataset/data_label_v2_ALL/2022_11_10_14_59_59-HNIP120595HO.jpg: 1 duplicate labels removed\n",
            "\u001b[34m\u001b[1mtrain: \u001b[0mWARNING ⚠️ /content/drive/MyDrive/fiber_optic_box_inspection/dataset/data_label_v2_ALL/2022_11_11_09_10_09-PYNP016064HO.jpg: 1 duplicate labels removed\n",
            "\u001b[34m\u001b[1mtrain: \u001b[0mWARNING ⚠️ /content/drive/MyDrive/fiber_optic_box_inspection/dataset/data_label_v2_ALL/2022_11_14_16_04_38-HNIP548102HO.jpg: 1 duplicate labels removed\n",
            "\u001b[34m\u001b[1mtrain: \u001b[0mWARNING ⚠️ /content/drive/MyDrive/fiber_optic_box_inspection/dataset/data_label_v2_ALL/2022_11_16_08_43_48-HDGP141064HO.jpg: 1 duplicate labels removed\n",
            "\u001b[34m\u001b[1mtrain: \u001b[0mWARNING ⚠️ /content/drive/MyDrive/fiber_optic_box_inspection/dataset/data_label_v2_ALL/2022_11_16_10_35_33-GLIP038152HO.jpg: 1 duplicate labels removed\n",
            "\u001b[34m\u001b[1mtrain: \u001b[0mWARNING ⚠️ /content/drive/MyDrive/fiber_optic_box_inspection/dataset/data_label_v2_ALL/2022_11_16_15_40_51-HBHP012080HO.jpg: 1 duplicate labels removed\n",
            "\u001b[34m\u001b[1mtrain: \u001b[0mWARNING ⚠️ /content/drive/MyDrive/fiber_optic_box_inspection/dataset/data_label_v2_ALL/2022_11_21_09_08_32-TNNP069058HO.jpg: 1 duplicate labels removed\n",
            "\u001b[34m\u001b[1mtrain: \u001b[0mWARNING ⚠️ /content/drive/MyDrive/fiber_optic_box_inspection/dataset/data_label_v2_ALL/2022_11_21_16_32_02-HBHP012062HO.jpg: 1 duplicate labels removed\n",
            "\u001b[34m\u001b[1mtrain: \u001b[0mWARNING ⚠️ /content/drive/MyDrive/fiber_optic_box_inspection/dataset/data_label_v2_ALL/2022_12_06_15_18_24-TBHP019033HO.jpg: 1 duplicate labels removed\n",
            "\u001b[34m\u001b[1mtrain: \u001b[0mWARNING ⚠️ /content/drive/MyDrive/fiber_optic_box_inspection/dataset/data_label_v2_ALL/2022_12_07_16_39_07-QNHP088205HO.jpg: 1 duplicate labels removed\n",
            "\u001b[34m\u001b[1mtrain: \u001b[0mWARNING ⚠️ /content/drive/MyDrive/fiber_optic_box_inspection/dataset/data_label_v2_ALL/2022_12_08_10_14_33-HYNP074125HO.jpg: 1 duplicate labels removed\n",
            "\u001b[34m\u001b[1mtrain: \u001b[0mWARNING ⚠️ /content/drive/MyDrive/fiber_optic_box_inspection/dataset/data_label_v2_ALL/2022_12_09_10_16_40-TBHP044214HO.jpg: 1 duplicate labels removed\n"
          ]
        },
        {
          "output_type": "stream",
          "name": "stderr",
          "text": [
            "\n"
          ]
        },
        {
          "output_type": "stream",
          "name": "stdout",
          "text": [
            "\u001b[34m\u001b[1mtrain: \u001b[0mNew cache created: /content/drive/MyDrive/fiber_optic_box_inspection/dataset/data_label_v2_ALL.cache\n",
            "WARNING ⚠️ cache='ram' may produce non-deterministic training results. Consider cache='disk' as a deterministic alternative if your disk space allows.\n"
          ]
        },
        {
          "output_type": "stream",
          "name": "stderr",
          "text": [
            "\u001b[34m\u001b[1mtrain: \u001b[0mCaching images (12.4GB RAM): 100%|██████████| 7858/7858 [00:25<00:00, 309.89it/s]\n"
          ]
        },
        {
          "output_type": "stream",
          "name": "stdout",
          "text": [
            "\u001b[34m\u001b[1malbumentations: \u001b[0mBlur(p=0.01, blur_limit=(3, 7)), MedianBlur(p=0.01, blur_limit=(3, 7)), ToGray(p=0.01, num_output_channels=3, method='weighted_average'), CLAHE(p=0.01, clip_limit=(1.0, 4.0), tile_grid_size=(8, 8))\n",
            "\u001b[34m\u001b[1mval: \u001b[0mFast image access ✅ (ping: 0.4±0.1 ms, read: 49.6±25.2 MB/s, size: 149.4 KB)\n"
          ]
        },
        {
          "output_type": "stream",
          "name": "stderr",
          "text": [
            "\u001b[34m\u001b[1mval: \u001b[0mScanning /content/drive/MyDrive/fiber_optic_box_inspection/dataset/data_label_v2_ALL... 1684 images, 95 backgrounds, 0 corrupt: 100%|██████████| 1684/1684 [00:06<00:00, 277.13it/s]"
          ]
        },
        {
          "output_type": "stream",
          "name": "stdout",
          "text": [
            "\u001b[34m\u001b[1mval: \u001b[0mWARNING ⚠️ /content/drive/MyDrive/fiber_optic_box_inspection/dataset/data_label_v2_ALL/2022_11_11_09_59_56-BGGP089061HO.jpg: 1 duplicate labels removed\n",
            "\u001b[34m\u001b[1mval: \u001b[0mWARNING ⚠️ /content/drive/MyDrive/fiber_optic_box_inspection/dataset/data_label_v2_ALL/2022_11_17_15_10_14-TNNP063261HO.jpg: 1 duplicate labels removed\n",
            "\u001b[34m\u001b[1mval: \u001b[0mWARNING ⚠️ /content/drive/MyDrive/fiber_optic_box_inspection/dataset/data_label_v2_ALL/2022_12_29_09_46_47-HDGP048174HO.jpg: 1 duplicate labels removed\n"
          ]
        },
        {
          "output_type": "stream",
          "name": "stderr",
          "text": [
            "\n"
          ]
        },
        {
          "output_type": "stream",
          "name": "stdout",
          "text": [
            "\u001b[34m\u001b[1mval: \u001b[0mNew cache created: /content/drive/MyDrive/fiber_optic_box_inspection/dataset/data_label_v2_ALL.cache\n",
            "WARNING ⚠️ cache='ram' may produce non-deterministic training results. Consider cache='disk' as a deterministic alternative if your disk space allows.\n"
          ]
        },
        {
          "output_type": "stream",
          "name": "stderr",
          "text": [
            "\u001b[34m\u001b[1mval: \u001b[0mCaching images (2.6GB RAM): 100%|██████████| 1684/1684 [00:05<00:00, 300.63it/s]\n"
          ]
        },
        {
          "output_type": "stream",
          "name": "stdout",
          "text": [
            "Plotting labels to /content/drive/MyDrive/fiber_optic_box_inspection/runs_yolo/v8m_batch25_imgsz896_/labels.jpg... \n",
            "\u001b[34m\u001b[1moptimizer:\u001b[0m 'optimizer=auto' found, ignoring 'lr0=0.01' and 'momentum=0.937' and determining best 'optimizer', 'lr0' and 'momentum' automatically... \n",
            "\u001b[34m\u001b[1moptimizer:\u001b[0m SGD(lr=0.01, momentum=0.9) with parameter groups 77 weight(decay=0.0), 84 weight(decay=0.0005859375000000001), 83 bias(decay=0.0)\n",
            "\u001b[34m\u001b[1mTensorBoard: \u001b[0mmodel graph visualization added ✅\n",
            "Image sizes 896 train, 896 val\n",
            "Using 12 dataloader workers\n",
            "Logging results to \u001b[1m/content/drive/MyDrive/fiber_optic_box_inspection/runs_yolo/v8m_batch25_imgsz896_\u001b[0m\n",
            "Starting training for 100 epochs...\n",
            "\n",
            "      Epoch    GPU_mem   box_loss   cls_loss   dfl_loss  Instances       Size\n"
          ]
        },
        {
          "output_type": "stream",
          "name": "stderr",
          "text": [
            "      1/100      20.5G      1.454      2.284      1.552        171        896: 100%|██████████| 315/315 [05:43<00:00,  1.09s/it]\n",
            "                 Class     Images  Instances      Box(P          R      mAP50  mAP50-95): 100%|██████████| 34/34 [00:24<00:00,  1.39it/s]\n"
          ]
        },
        {
          "output_type": "stream",
          "name": "stdout",
          "text": [
            "                   all       1684      17744      0.771       0.32        0.3      0.189\n",
            "\n",
            "      Epoch    GPU_mem   box_loss   cls_loss   dfl_loss  Instances       Size\n"
          ]
        },
        {
          "output_type": "stream",
          "name": "stderr",
          "text": [
            "      2/100      19.4G     0.9921     0.8682        1.2        194        896: 100%|██████████| 315/315 [05:39<00:00,  1.08s/it]\n",
            "                 Class     Images  Instances      Box(P          R      mAP50  mAP50-95): 100%|██████████| 34/34 [00:23<00:00,  1.47it/s]\n"
          ]
        },
        {
          "output_type": "stream",
          "name": "stdout",
          "text": [
            "                   all       1684      17744      0.661      0.349      0.331      0.209\n",
            "\n",
            "      Epoch    GPU_mem   box_loss   cls_loss   dfl_loss  Instances       Size\n"
          ]
        },
        {
          "output_type": "stream",
          "name": "stderr",
          "text": [
            "      3/100        20G     0.9406     0.7448      1.165        203        896: 100%|██████████| 315/315 [05:39<00:00,  1.08s/it]\n",
            "                 Class     Images  Instances      Box(P          R      mAP50  mAP50-95): 100%|██████████| 34/34 [00:23<00:00,  1.45it/s]\n"
          ]
        },
        {
          "output_type": "stream",
          "name": "stdout",
          "text": [
            "                   all       1684      17744      0.511      0.375      0.355       0.22\n",
            "\n",
            "      Epoch    GPU_mem   box_loss   cls_loss   dfl_loss  Instances       Size\n"
          ]
        },
        {
          "output_type": "stream",
          "name": "stderr",
          "text": [
            "      4/100      19.2G     0.8705     0.6492      1.125        227        896: 100%|██████████| 315/315 [05:38<00:00,  1.08s/it]\n",
            "                 Class     Images  Instances      Box(P          R      mAP50  mAP50-95): 100%|██████████| 34/34 [00:23<00:00,  1.47it/s]\n"
          ]
        },
        {
          "output_type": "stream",
          "name": "stdout",
          "text": [
            "                   all       1684      17744       0.58      0.375       0.37      0.234\n",
            "\n",
            "      Epoch    GPU_mem   box_loss   cls_loss   dfl_loss  Instances       Size\n"
          ]
        },
        {
          "output_type": "stream",
          "name": "stderr",
          "text": [
            "      5/100      20.4G      0.798     0.5801      1.091        240        896: 100%|██████████| 315/315 [05:38<00:00,  1.07s/it]\n",
            "                 Class     Images  Instances      Box(P          R      mAP50  mAP50-95): 100%|██████████| 34/34 [00:23<00:00,  1.44it/s]\n"
          ]
        },
        {
          "output_type": "stream",
          "name": "stdout",
          "text": [
            "                   all       1684      17744      0.602      0.393      0.379       0.24\n",
            "\n",
            "      Epoch    GPU_mem   box_loss   cls_loss   dfl_loss  Instances       Size\n"
          ]
        },
        {
          "output_type": "stream",
          "name": "stderr",
          "text": [
            "      6/100        19G     0.7387     0.5341      1.064        153        896: 100%|██████████| 315/315 [05:38<00:00,  1.07s/it]\n",
            "                 Class     Images  Instances      Box(P          R      mAP50  mAP50-95): 100%|██████████| 34/34 [00:23<00:00,  1.47it/s]\n"
          ]
        },
        {
          "output_type": "stream",
          "name": "stdout",
          "text": [
            "                   all       1684      17744      0.593      0.415      0.389      0.251\n",
            "\n",
            "      Epoch    GPU_mem   box_loss   cls_loss   dfl_loss  Instances       Size\n"
          ]
        },
        {
          "output_type": "stream",
          "name": "stderr",
          "text": [
            "      7/100      20.5G     0.6995     0.5013      1.042        201        896: 100%|██████████| 315/315 [05:38<00:00,  1.07s/it]\n",
            "                 Class     Images  Instances      Box(P          R      mAP50  mAP50-95): 100%|██████████| 34/34 [00:23<00:00,  1.45it/s]\n"
          ]
        },
        {
          "output_type": "stream",
          "name": "stdout",
          "text": [
            "                   all       1684      17744      0.586      0.431       0.41      0.261\n",
            "\n",
            "      Epoch    GPU_mem   box_loss   cls_loss   dfl_loss  Instances       Size\n"
          ]
        },
        {
          "output_type": "stream",
          "name": "stderr",
          "text": [
            "      8/100      19.2G     0.6679     0.4786      1.024        151        896: 100%|██████████| 315/315 [05:38<00:00,  1.08s/it]\n",
            "                 Class     Images  Instances      Box(P          R      mAP50  mAP50-95): 100%|██████████| 34/34 [00:23<00:00,  1.47it/s]\n"
          ]
        },
        {
          "output_type": "stream",
          "name": "stdout",
          "text": [
            "                   all       1684      17744      0.541      0.445      0.405      0.262\n",
            "\n",
            "      Epoch    GPU_mem   box_loss   cls_loss   dfl_loss  Instances       Size\n"
          ]
        },
        {
          "output_type": "stream",
          "name": "stderr",
          "text": [
            "      9/100      20.4G     0.6404     0.4585       1.01        154        896: 100%|██████████| 315/315 [05:38<00:00,  1.07s/it]\n",
            "                 Class     Images  Instances      Box(P          R      mAP50  mAP50-95): 100%|██████████| 34/34 [00:23<00:00,  1.45it/s]\n"
          ]
        },
        {
          "output_type": "stream",
          "name": "stdout",
          "text": [
            "                   all       1684      17744      0.616      0.442       0.42      0.275\n",
            "\n",
            "      Epoch    GPU_mem   box_loss   cls_loss   dfl_loss  Instances       Size\n"
          ]
        },
        {
          "output_type": "stream",
          "name": "stderr",
          "text": [
            "     10/100      19.3G     0.6174     0.4453     0.9984        169        896: 100%|██████████| 315/315 [05:38<00:00,  1.07s/it]\n",
            "                 Class     Images  Instances      Box(P          R      mAP50  mAP50-95): 100%|██████████| 34/34 [00:23<00:00,  1.46it/s]\n"
          ]
        },
        {
          "output_type": "stream",
          "name": "stdout",
          "text": [
            "                   all       1684      17744       0.56      0.449      0.415      0.268\n",
            "\n",
            "      Epoch    GPU_mem   box_loss   cls_loss   dfl_loss  Instances       Size\n"
          ]
        },
        {
          "output_type": "stream",
          "name": "stderr",
          "text": [
            "     11/100      20.7G     0.6045     0.4328     0.9966        185        896: 100%|██████████| 315/315 [05:38<00:00,  1.07s/it]\n",
            "                 Class     Images  Instances      Box(P          R      mAP50  mAP50-95): 100%|██████████| 34/34 [00:23<00:00,  1.45it/s]\n"
          ]
        },
        {
          "output_type": "stream",
          "name": "stdout",
          "text": [
            "                   all       1684      17744      0.644      0.426      0.433       0.28\n",
            "\n",
            "      Epoch    GPU_mem   box_loss   cls_loss   dfl_loss  Instances       Size\n"
          ]
        },
        {
          "output_type": "stream",
          "name": "stderr",
          "text": [
            "     12/100      19.1G     0.5882      0.422      0.986        147        896: 100%|██████████| 315/315 [05:38<00:00,  1.08s/it]\n",
            "                 Class     Images  Instances      Box(P          R      mAP50  mAP50-95): 100%|██████████| 34/34 [00:23<00:00,  1.47it/s]\n"
          ]
        },
        {
          "output_type": "stream",
          "name": "stdout",
          "text": [
            "                   all       1684      17744      0.614      0.439      0.426      0.278\n",
            "\n",
            "      Epoch    GPU_mem   box_loss   cls_loss   dfl_loss  Instances       Size\n"
          ]
        },
        {
          "output_type": "stream",
          "name": "stderr",
          "text": [
            "     13/100      20.3G     0.5755     0.4125     0.9817        226        896: 100%|██████████| 315/315 [05:38<00:00,  1.07s/it]\n",
            "                 Class     Images  Instances      Box(P          R      mAP50  mAP50-95): 100%|██████████| 34/34 [00:23<00:00,  1.45it/s]\n"
          ]
        },
        {
          "output_type": "stream",
          "name": "stdout",
          "text": [
            "                   all       1684      17744      0.603      0.457      0.432      0.282\n",
            "\n",
            "      Epoch    GPU_mem   box_loss   cls_loss   dfl_loss  Instances       Size\n"
          ]
        },
        {
          "output_type": "stream",
          "name": "stderr",
          "text": [
            "     14/100      19.2G     0.5589     0.4024      0.973        218        896: 100%|██████████| 315/315 [05:38<00:00,  1.07s/it]\n",
            "                 Class     Images  Instances      Box(P          R      mAP50  mAP50-95): 100%|██████████| 34/34 [00:23<00:00,  1.47it/s]\n"
          ]
        },
        {
          "output_type": "stream",
          "name": "stdout",
          "text": [
            "                   all       1684      17744      0.658      0.459      0.443      0.288\n",
            "\n",
            "      Epoch    GPU_mem   box_loss   cls_loss   dfl_loss  Instances       Size\n"
          ]
        },
        {
          "output_type": "stream",
          "name": "stderr",
          "text": [
            "     15/100      20.4G     0.5503     0.3966     0.9688        160        896: 100%|██████████| 315/315 [05:38<00:00,  1.07s/it]\n",
            "                 Class     Images  Instances      Box(P          R      mAP50  mAP50-95): 100%|██████████| 34/34 [00:23<00:00,  1.45it/s]\n"
          ]
        },
        {
          "output_type": "stream",
          "name": "stdout",
          "text": [
            "                   all       1684      17744      0.619       0.46      0.442       0.29\n",
            "\n",
            "      Epoch    GPU_mem   box_loss   cls_loss   dfl_loss  Instances       Size\n"
          ]
        },
        {
          "output_type": "stream",
          "name": "stderr",
          "text": [
            "     16/100      19.2G     0.5417     0.3911     0.9662        192        896: 100%|██████████| 315/315 [05:38<00:00,  1.07s/it]\n",
            "                 Class     Images  Instances      Box(P          R      mAP50  mAP50-95): 100%|██████████| 34/34 [00:23<00:00,  1.47it/s]\n"
          ]
        },
        {
          "output_type": "stream",
          "name": "stdout",
          "text": [
            "                   all       1684      17744      0.621       0.46      0.433      0.285\n",
            "\n",
            "      Epoch    GPU_mem   box_loss   cls_loss   dfl_loss  Instances       Size\n"
          ]
        },
        {
          "output_type": "stream",
          "name": "stderr",
          "text": [
            "     17/100      20.7G     0.5333     0.3858     0.9632        181        896: 100%|██████████| 315/315 [05:38<00:00,  1.07s/it]\n",
            "                 Class     Images  Instances      Box(P          R      mAP50  mAP50-95): 100%|██████████| 34/34 [00:23<00:00,  1.44it/s]\n"
          ]
        },
        {
          "output_type": "stream",
          "name": "stdout",
          "text": [
            "                   all       1684      17744      0.592       0.47      0.444      0.291\n",
            "\n",
            "      Epoch    GPU_mem   box_loss   cls_loss   dfl_loss  Instances       Size\n"
          ]
        },
        {
          "output_type": "stream",
          "name": "stderr",
          "text": [
            "     18/100      19.1G     0.5244     0.3785     0.9559        204        896: 100%|██████████| 315/315 [05:38<00:00,  1.07s/it]\n",
            "                 Class     Images  Instances      Box(P          R      mAP50  mAP50-95): 100%|██████████| 34/34 [00:23<00:00,  1.47it/s]\n"
          ]
        },
        {
          "output_type": "stream",
          "name": "stdout",
          "text": [
            "                   all       1684      17744      0.602      0.467      0.449      0.296\n",
            "\n",
            "      Epoch    GPU_mem   box_loss   cls_loss   dfl_loss  Instances       Size\n"
          ]
        },
        {
          "output_type": "stream",
          "name": "stderr",
          "text": [
            "     19/100      20.5G     0.5112     0.3708     0.9524        159        896: 100%|██████████| 315/315 [05:38<00:00,  1.07s/it]\n",
            "                 Class     Images  Instances      Box(P          R      mAP50  mAP50-95): 100%|██████████| 34/34 [00:23<00:00,  1.45it/s]\n"
          ]
        },
        {
          "output_type": "stream",
          "name": "stdout",
          "text": [
            "                   all       1684      17744      0.657      0.459      0.461      0.302\n",
            "\n",
            "      Epoch    GPU_mem   box_loss   cls_loss   dfl_loss  Instances       Size\n"
          ]
        },
        {
          "output_type": "stream",
          "name": "stderr",
          "text": [
            "     20/100      19.3G     0.5052     0.3652      0.949        140        896: 100%|██████████| 315/315 [05:38<00:00,  1.07s/it]\n",
            "                 Class     Images  Instances      Box(P          R      mAP50  mAP50-95): 100%|██████████| 34/34 [00:23<00:00,  1.47it/s]\n"
          ]
        },
        {
          "output_type": "stream",
          "name": "stdout",
          "text": [
            "                   all       1684      17744      0.633      0.479      0.463      0.304\n",
            "\n",
            "      Epoch    GPU_mem   box_loss   cls_loss   dfl_loss  Instances       Size\n"
          ]
        },
        {
          "output_type": "stream",
          "name": "stderr",
          "text": [
            "     21/100      20.6G     0.5054     0.3629     0.9494        244        896: 100%|██████████| 315/315 [05:38<00:00,  1.07s/it]\n",
            "                 Class     Images  Instances      Box(P          R      mAP50  mAP50-95): 100%|██████████| 34/34 [00:23<00:00,  1.45it/s]\n"
          ]
        },
        {
          "output_type": "stream",
          "name": "stdout",
          "text": [
            "                   all       1684      17744      0.658      0.458      0.457      0.295\n",
            "\n",
            "      Epoch    GPU_mem   box_loss   cls_loss   dfl_loss  Instances       Size\n"
          ]
        },
        {
          "output_type": "stream",
          "name": "stderr",
          "text": [
            "     22/100      19.1G     0.4923      0.354     0.9422        212        896: 100%|██████████| 315/315 [05:38<00:00,  1.07s/it]\n",
            "                 Class     Images  Instances      Box(P          R      mAP50  mAP50-95): 100%|██████████| 34/34 [00:23<00:00,  1.47it/s]\n"
          ]
        },
        {
          "output_type": "stream",
          "name": "stdout",
          "text": [
            "                   all       1684      17744      0.658      0.468      0.462      0.302\n",
            "\n",
            "      Epoch    GPU_mem   box_loss   cls_loss   dfl_loss  Instances       Size\n"
          ]
        },
        {
          "output_type": "stream",
          "name": "stderr",
          "text": [
            "     23/100      20.4G     0.4888     0.3527     0.9445        189        896: 100%|██████████| 315/315 [05:38<00:00,  1.07s/it]\n",
            "                 Class     Images  Instances      Box(P          R      mAP50  mAP50-95): 100%|██████████| 34/34 [00:23<00:00,  1.45it/s]\n"
          ]
        },
        {
          "output_type": "stream",
          "name": "stdout",
          "text": [
            "                   all       1684      17744      0.634      0.472      0.466      0.305\n",
            "\n",
            "      Epoch    GPU_mem   box_loss   cls_loss   dfl_loss  Instances       Size\n"
          ]
        },
        {
          "output_type": "stream",
          "name": "stderr",
          "text": [
            "     24/100      19.4G     0.4833     0.3487     0.9407        205        896: 100%|██████████| 315/315 [05:38<00:00,  1.07s/it]\n",
            "                 Class     Images  Instances      Box(P          R      mAP50  mAP50-95): 100%|██████████| 34/34 [00:23<00:00,  1.47it/s]\n"
          ]
        },
        {
          "output_type": "stream",
          "name": "stdout",
          "text": [
            "                   all       1684      17744       0.63      0.482      0.473      0.311\n",
            "\n",
            "      Epoch    GPU_mem   box_loss   cls_loss   dfl_loss  Instances       Size\n"
          ]
        },
        {
          "output_type": "stream",
          "name": "stderr",
          "text": [
            "     25/100      20.4G     0.4736     0.3444     0.9377        192        896: 100%|██████████| 315/315 [05:38<00:00,  1.08s/it]\n",
            "                 Class     Images  Instances      Box(P          R      mAP50  mAP50-95): 100%|██████████| 34/34 [00:23<00:00,  1.45it/s]\n"
          ]
        },
        {
          "output_type": "stream",
          "name": "stdout",
          "text": [
            "                   all       1684      17744      0.656      0.475      0.472      0.311\n",
            "\n",
            "      Epoch    GPU_mem   box_loss   cls_loss   dfl_loss  Instances       Size\n"
          ]
        },
        {
          "output_type": "stream",
          "name": "stderr",
          "text": [
            "     26/100      19.1G     0.4714     0.3411     0.9352        148        896: 100%|██████████| 315/315 [05:38<00:00,  1.07s/it]\n",
            "                 Class     Images  Instances      Box(P          R      mAP50  mAP50-95): 100%|██████████| 34/34 [00:23<00:00,  1.47it/s]\n"
          ]
        },
        {
          "output_type": "stream",
          "name": "stdout",
          "text": [
            "                   all       1684      17744      0.638      0.467      0.471      0.313\n",
            "\n",
            "      Epoch    GPU_mem   box_loss   cls_loss   dfl_loss  Instances       Size\n"
          ]
        },
        {
          "output_type": "stream",
          "name": "stderr",
          "text": [
            "     27/100      20.5G     0.4687     0.3381     0.9347        211        896: 100%|██████████| 315/315 [05:38<00:00,  1.07s/it]\n",
            "                 Class     Images  Instances      Box(P          R      mAP50  mAP50-95): 100%|██████████| 34/34 [00:23<00:00,  1.45it/s]\n"
          ]
        },
        {
          "output_type": "stream",
          "name": "stdout",
          "text": [
            "                   all       1684      17744      0.664      0.475      0.471       0.31\n",
            "\n",
            "      Epoch    GPU_mem   box_loss   cls_loss   dfl_loss  Instances       Size\n"
          ]
        },
        {
          "output_type": "stream",
          "name": "stderr",
          "text": [
            "     28/100      19.4G     0.4631     0.3375     0.9336        103        896: 100%|██████████| 315/315 [05:38<00:00,  1.07s/it]\n",
            "                 Class     Images  Instances      Box(P          R      mAP50  mAP50-95): 100%|██████████| 34/34 [00:23<00:00,  1.47it/s]\n"
          ]
        },
        {
          "output_type": "stream",
          "name": "stdout",
          "text": [
            "                   all       1684      17744      0.665      0.486      0.482      0.315\n",
            "\n",
            "      Epoch    GPU_mem   box_loss   cls_loss   dfl_loss  Instances       Size\n"
          ]
        },
        {
          "output_type": "stream",
          "name": "stderr",
          "text": [
            "     29/100      20.3G     0.4586     0.3317     0.9306        140        896: 100%|██████████| 315/315 [05:38<00:00,  1.07s/it]\n",
            "                 Class     Images  Instances      Box(P          R      mAP50  mAP50-95): 100%|██████████| 34/34 [00:23<00:00,  1.45it/s]\n"
          ]
        },
        {
          "output_type": "stream",
          "name": "stdout",
          "text": [
            "                   all       1684      17744      0.702      0.466      0.478      0.314\n",
            "\n",
            "      Epoch    GPU_mem   box_loss   cls_loss   dfl_loss  Instances       Size\n"
          ]
        },
        {
          "output_type": "stream",
          "name": "stderr",
          "text": [
            "     30/100      19.2G     0.4541     0.3303     0.9284        250        896: 100%|██████████| 315/315 [05:38<00:00,  1.08s/it]\n",
            "                 Class     Images  Instances      Box(P          R      mAP50  mAP50-95): 100%|██████████| 34/34 [00:23<00:00,  1.47it/s]\n"
          ]
        },
        {
          "output_type": "stream",
          "name": "stdout",
          "text": [
            "                   all       1684      17744      0.639      0.486      0.468      0.308\n",
            "\n",
            "      Epoch    GPU_mem   box_loss   cls_loss   dfl_loss  Instances       Size\n"
          ]
        },
        {
          "output_type": "stream",
          "name": "stderr",
          "text": [
            "     31/100      20.5G     0.4488     0.3291     0.9284        200        896: 100%|██████████| 315/315 [05:38<00:00,  1.07s/it]\n",
            "                 Class     Images  Instances      Box(P          R      mAP50  mAP50-95): 100%|██████████| 34/34 [00:23<00:00,  1.45it/s]\n"
          ]
        },
        {
          "output_type": "stream",
          "name": "stdout",
          "text": [
            "                   all       1684      17744       0.65      0.485      0.476      0.314\n",
            "\n",
            "      Epoch    GPU_mem   box_loss   cls_loss   dfl_loss  Instances       Size\n"
          ]
        },
        {
          "output_type": "stream",
          "name": "stderr",
          "text": [
            "     32/100      19.4G     0.4473     0.3262     0.9263        215        896: 100%|██████████| 315/315 [05:38<00:00,  1.07s/it]\n",
            "                 Class     Images  Instances      Box(P          R      mAP50  mAP50-95): 100%|██████████| 34/34 [00:23<00:00,  1.47it/s]\n"
          ]
        },
        {
          "output_type": "stream",
          "name": "stdout",
          "text": [
            "                   all       1684      17744      0.644      0.495      0.477      0.316\n",
            "\n",
            "      Epoch    GPU_mem   box_loss   cls_loss   dfl_loss  Instances       Size\n"
          ]
        },
        {
          "output_type": "stream",
          "name": "stderr",
          "text": [
            "     33/100      20.4G     0.4409     0.3221     0.9222        164        896: 100%|██████████| 315/315 [05:38<00:00,  1.07s/it]\n",
            "                 Class     Images  Instances      Box(P          R      mAP50  mAP50-95): 100%|██████████| 34/34 [00:23<00:00,  1.45it/s]\n"
          ]
        },
        {
          "output_type": "stream",
          "name": "stdout",
          "text": [
            "                   all       1684      17744      0.633      0.508      0.483      0.318\n",
            "\n",
            "      Epoch    GPU_mem   box_loss   cls_loss   dfl_loss  Instances       Size\n"
          ]
        },
        {
          "output_type": "stream",
          "name": "stderr",
          "text": [
            "     34/100      19.2G       0.44     0.3193     0.9225        254        896: 100%|██████████| 315/315 [05:38<00:00,  1.07s/it]\n",
            "                 Class     Images  Instances      Box(P          R      mAP50  mAP50-95): 100%|██████████| 34/34 [00:23<00:00,  1.47it/s]\n"
          ]
        },
        {
          "output_type": "stream",
          "name": "stdout",
          "text": [
            "                   all       1684      17744      0.614      0.505      0.484      0.318\n",
            "\n",
            "      Epoch    GPU_mem   box_loss   cls_loss   dfl_loss  Instances       Size\n"
          ]
        },
        {
          "output_type": "stream",
          "name": "stderr",
          "text": [
            "     35/100      20.5G     0.4381     0.3172     0.9227        169        896: 100%|██████████| 315/315 [05:38<00:00,  1.07s/it]\n",
            "                 Class     Images  Instances      Box(P          R      mAP50  mAP50-95): 100%|██████████| 34/34 [00:23<00:00,  1.45it/s]\n"
          ]
        },
        {
          "output_type": "stream",
          "name": "stdout",
          "text": [
            "                   all       1684      17744      0.609      0.518      0.495      0.326\n",
            "\n",
            "      Epoch    GPU_mem   box_loss   cls_loss   dfl_loss  Instances       Size\n"
          ]
        },
        {
          "output_type": "stream",
          "name": "stderr",
          "text": [
            "     36/100      19.3G     0.4335     0.3169     0.9213        185        896: 100%|██████████| 315/315 [05:38<00:00,  1.07s/it]\n",
            "                 Class     Images  Instances      Box(P          R      mAP50  mAP50-95): 100%|██████████| 34/34 [00:23<00:00,  1.47it/s]\n"
          ]
        },
        {
          "output_type": "stream",
          "name": "stdout",
          "text": [
            "                   all       1684      17744      0.638      0.507      0.502      0.329\n",
            "\n",
            "      Epoch    GPU_mem   box_loss   cls_loss   dfl_loss  Instances       Size\n"
          ]
        },
        {
          "output_type": "stream",
          "name": "stderr",
          "text": [
            "     37/100      20.5G     0.4234     0.3084     0.9139        205        896: 100%|██████████| 315/315 [05:38<00:00,  1.08s/it]\n",
            "                 Class     Images  Instances      Box(P          R      mAP50  mAP50-95): 100%|██████████| 34/34 [00:23<00:00,  1.46it/s]\n"
          ]
        },
        {
          "output_type": "stream",
          "name": "stdout",
          "text": [
            "                   all       1684      17744      0.656      0.503      0.491      0.325\n",
            "\n",
            "      Epoch    GPU_mem   box_loss   cls_loss   dfl_loss  Instances       Size\n"
          ]
        },
        {
          "output_type": "stream",
          "name": "stderr",
          "text": [
            "     38/100      19.5G     0.4234     0.3086      0.915        149        896: 100%|██████████| 315/315 [05:38<00:00,  1.07s/it]\n",
            "                 Class     Images  Instances      Box(P          R      mAP50  mAP50-95): 100%|██████████| 34/34 [00:23<00:00,  1.47it/s]\n"
          ]
        },
        {
          "output_type": "stream",
          "name": "stdout",
          "text": [
            "                   all       1684      17744      0.675      0.499      0.491      0.325\n",
            "\n",
            "      Epoch    GPU_mem   box_loss   cls_loss   dfl_loss  Instances       Size\n"
          ]
        },
        {
          "output_type": "stream",
          "name": "stderr",
          "text": [
            "     39/100      20.6G     0.4209     0.3079     0.9152        194        896: 100%|██████████| 315/315 [05:38<00:00,  1.07s/it]\n",
            "                 Class     Images  Instances      Box(P          R      mAP50  mAP50-95): 100%|██████████| 34/34 [00:23<00:00,  1.45it/s]\n"
          ]
        },
        {
          "output_type": "stream",
          "name": "stdout",
          "text": [
            "                   all       1684      17744      0.675      0.491      0.501      0.327\n",
            "\n",
            "      Epoch    GPU_mem   box_loss   cls_loss   dfl_loss  Instances       Size\n"
          ]
        },
        {
          "output_type": "stream",
          "name": "stderr",
          "text": [
            "     40/100      19.4G     0.4161     0.3033      0.912        218        896: 100%|██████████| 315/315 [05:38<00:00,  1.07s/it]\n",
            "                 Class     Images  Instances      Box(P          R      mAP50  mAP50-95): 100%|██████████| 34/34 [00:23<00:00,  1.47it/s]\n"
          ]
        },
        {
          "output_type": "stream",
          "name": "stdout",
          "text": [
            "                   all       1684      17744      0.665      0.503      0.503      0.327\n",
            "\n",
            "      Epoch    GPU_mem   box_loss   cls_loss   dfl_loss  Instances       Size\n"
          ]
        },
        {
          "output_type": "stream",
          "name": "stderr",
          "text": [
            "     41/100      20.5G       0.41     0.2986     0.9097        161        896: 100%|██████████| 315/315 [05:38<00:00,  1.07s/it]\n",
            "                 Class     Images  Instances      Box(P          R      mAP50  mAP50-95): 100%|██████████| 34/34 [00:23<00:00,  1.45it/s]\n"
          ]
        },
        {
          "output_type": "stream",
          "name": "stdout",
          "text": [
            "                   all       1684      17744      0.649      0.505       0.49      0.326\n",
            "\n",
            "      Epoch    GPU_mem   box_loss   cls_loss   dfl_loss  Instances       Size\n"
          ]
        },
        {
          "output_type": "stream",
          "name": "stderr",
          "text": [
            "     42/100      19.2G     0.4097     0.2998     0.9113        185        896: 100%|██████████| 315/315 [05:38<00:00,  1.07s/it]\n",
            "                 Class     Images  Instances      Box(P          R      mAP50  mAP50-95): 100%|██████████| 34/34 [00:23<00:00,  1.47it/s]\n"
          ]
        },
        {
          "output_type": "stream",
          "name": "stdout",
          "text": [
            "                   all       1684      17744      0.646      0.501        0.5       0.33\n",
            "\n",
            "      Epoch    GPU_mem   box_loss   cls_loss   dfl_loss  Instances       Size\n"
          ]
        },
        {
          "output_type": "stream",
          "name": "stderr",
          "text": [
            "     43/100      20.5G     0.4048     0.2977     0.9103        120        896: 100%|██████████| 315/315 [05:38<00:00,  1.07s/it]\n",
            "                 Class     Images  Instances      Box(P          R      mAP50  mAP50-95): 100%|██████████| 34/34 [00:23<00:00,  1.46it/s]\n"
          ]
        },
        {
          "output_type": "stream",
          "name": "stdout",
          "text": [
            "                   all       1684      17744      0.637       0.51      0.498       0.33\n",
            "\n",
            "      Epoch    GPU_mem   box_loss   cls_loss   dfl_loss  Instances       Size\n"
          ]
        },
        {
          "output_type": "stream",
          "name": "stderr",
          "text": [
            "     44/100      19.3G     0.4043     0.2965     0.9085        200        896: 100%|██████████| 315/315 [05:38<00:00,  1.07s/it]\n",
            "                 Class     Images  Instances      Box(P          R      mAP50  mAP50-95): 100%|██████████| 34/34 [00:23<00:00,  1.47it/s]\n"
          ]
        },
        {
          "output_type": "stream",
          "name": "stdout",
          "text": [
            "                   all       1684      17744      0.644      0.511      0.509      0.336\n",
            "\n",
            "      Epoch    GPU_mem   box_loss   cls_loss   dfl_loss  Instances       Size\n"
          ]
        },
        {
          "output_type": "stream",
          "name": "stderr",
          "text": [
            "     45/100      20.8G     0.4017     0.2947     0.9067        188        896: 100%|██████████| 315/315 [05:38<00:00,  1.07s/it]\n",
            "                 Class     Images  Instances      Box(P          R      mAP50  mAP50-95): 100%|██████████| 34/34 [00:23<00:00,  1.45it/s]\n"
          ]
        },
        {
          "output_type": "stream",
          "name": "stdout",
          "text": [
            "                   all       1684      17744      0.649      0.516      0.514       0.34\n",
            "\n",
            "      Epoch    GPU_mem   box_loss   cls_loss   dfl_loss  Instances       Size\n"
          ]
        },
        {
          "output_type": "stream",
          "name": "stderr",
          "text": [
            "     46/100      19.2G     0.3974     0.2924      0.906        138        896: 100%|██████████| 315/315 [05:38<00:00,  1.07s/it]\n",
            "                 Class     Images  Instances      Box(P          R      mAP50  mAP50-95): 100%|██████████| 34/34 [00:23<00:00,  1.47it/s]\n"
          ]
        },
        {
          "output_type": "stream",
          "name": "stdout",
          "text": [
            "                   all       1684      17744      0.635      0.526      0.504      0.335\n",
            "\n",
            "      Epoch    GPU_mem   box_loss   cls_loss   dfl_loss  Instances       Size\n"
          ]
        },
        {
          "output_type": "stream",
          "name": "stderr",
          "text": [
            "     47/100      20.4G     0.3983     0.2931     0.9065        154        896: 100%|██████████| 315/315 [05:38<00:00,  1.07s/it]\n",
            "                 Class     Images  Instances      Box(P          R      mAP50  mAP50-95): 100%|██████████| 34/34 [00:23<00:00,  1.45it/s]\n"
          ]
        },
        {
          "output_type": "stream",
          "name": "stdout",
          "text": [
            "                   all       1684      17744      0.645      0.526      0.507      0.336\n",
            "\n",
            "      Epoch    GPU_mem   box_loss   cls_loss   dfl_loss  Instances       Size\n"
          ]
        },
        {
          "output_type": "stream",
          "name": "stderr",
          "text": [
            "     48/100      19.3G      0.395     0.2886     0.9043        209        896: 100%|██████████| 315/315 [05:38<00:00,  1.07s/it]\n",
            "                 Class     Images  Instances      Box(P          R      mAP50  mAP50-95): 100%|██████████| 34/34 [00:23<00:00,  1.47it/s]\n"
          ]
        },
        {
          "output_type": "stream",
          "name": "stdout",
          "text": [
            "                   all       1684      17744      0.652      0.511      0.512      0.341\n",
            "\n",
            "      Epoch    GPU_mem   box_loss   cls_loss   dfl_loss  Instances       Size\n"
          ]
        },
        {
          "output_type": "stream",
          "name": "stderr",
          "text": [
            "     49/100      20.6G     0.3905     0.2867     0.9019        163        896: 100%|██████████| 315/315 [05:38<00:00,  1.07s/it]\n",
            "                 Class     Images  Instances      Box(P          R      mAP50  mAP50-95): 100%|██████████| 34/34 [00:23<00:00,  1.45it/s]\n"
          ]
        },
        {
          "output_type": "stream",
          "name": "stdout",
          "text": [
            "                   all       1684      17744      0.642      0.522      0.511      0.343\n",
            "\n",
            "      Epoch    GPU_mem   box_loss   cls_loss   dfl_loss  Instances       Size\n"
          ]
        },
        {
          "output_type": "stream",
          "name": "stderr",
          "text": [
            "     50/100      19.2G     0.3891     0.2875     0.9022        171        896: 100%|██████████| 315/315 [05:38<00:00,  1.07s/it]\n",
            "                 Class     Images  Instances      Box(P          R      mAP50  mAP50-95): 100%|██████████| 34/34 [00:23<00:00,  1.47it/s]\n"
          ]
        },
        {
          "output_type": "stream",
          "name": "stdout",
          "text": [
            "                   all       1684      17744      0.676      0.495      0.505      0.335\n",
            "\n",
            "      Epoch    GPU_mem   box_loss   cls_loss   dfl_loss  Instances       Size\n"
          ]
        },
        {
          "output_type": "stream",
          "name": "stderr",
          "text": [
            "     51/100      20.5G     0.3867     0.2835     0.9019        221        896: 100%|██████████| 315/315 [05:38<00:00,  1.07s/it]\n",
            "                 Class     Images  Instances      Box(P          R      mAP50  mAP50-95): 100%|██████████| 34/34 [00:23<00:00,  1.45it/s]\n"
          ]
        },
        {
          "output_type": "stream",
          "name": "stdout",
          "text": [
            "                   all       1684      17744      0.657      0.504      0.508      0.341\n",
            "\n",
            "      Epoch    GPU_mem   box_loss   cls_loss   dfl_loss  Instances       Size\n"
          ]
        },
        {
          "output_type": "stream",
          "name": "stderr",
          "text": [
            "     52/100        19G      0.382     0.2794     0.8986        219        896: 100%|██████████| 315/315 [05:38<00:00,  1.07s/it]\n",
            "                 Class     Images  Instances      Box(P          R      mAP50  mAP50-95): 100%|██████████| 34/34 [00:23<00:00,  1.47it/s]\n"
          ]
        },
        {
          "output_type": "stream",
          "name": "stdout",
          "text": [
            "                   all       1684      17744      0.647       0.52      0.511      0.341\n",
            "\n",
            "      Epoch    GPU_mem   box_loss   cls_loss   dfl_loss  Instances       Size\n"
          ]
        },
        {
          "output_type": "stream",
          "name": "stderr",
          "text": [
            "     53/100      20.4G     0.3797     0.2803     0.8961        183        896: 100%|██████████| 315/315 [05:38<00:00,  1.08s/it]\n",
            "                 Class     Images  Instances      Box(P          R      mAP50  mAP50-95): 100%|██████████| 34/34 [00:23<00:00,  1.45it/s]\n"
          ]
        },
        {
          "output_type": "stream",
          "name": "stdout",
          "text": [
            "                   all       1684      17744      0.634      0.541      0.518      0.345\n",
            "\n",
            "      Epoch    GPU_mem   box_loss   cls_loss   dfl_loss  Instances       Size\n"
          ]
        },
        {
          "output_type": "stream",
          "name": "stderr",
          "text": [
            "     54/100      19.4G     0.3773     0.2767     0.8967        191        896: 100%|██████████| 315/315 [05:38<00:00,  1.07s/it]\n",
            "                 Class     Images  Instances      Box(P          R      mAP50  mAP50-95): 100%|██████████| 34/34 [00:23<00:00,  1.47it/s]\n"
          ]
        },
        {
          "output_type": "stream",
          "name": "stdout",
          "text": [
            "                   all       1684      17744      0.646      0.525      0.517      0.344\n",
            "\n",
            "      Epoch    GPU_mem   box_loss   cls_loss   dfl_loss  Instances       Size\n"
          ]
        },
        {
          "output_type": "stream",
          "name": "stderr",
          "text": [
            "     55/100      20.4G      0.378     0.2793     0.8991        121        896: 100%|██████████| 315/315 [05:38<00:00,  1.07s/it]\n",
            "                 Class     Images  Instances      Box(P          R      mAP50  mAP50-95): 100%|██████████| 34/34 [00:23<00:00,  1.45it/s]\n"
          ]
        },
        {
          "output_type": "stream",
          "name": "stdout",
          "text": [
            "                   all       1684      17744      0.649      0.506      0.517      0.345\n",
            "\n",
            "      Epoch    GPU_mem   box_loss   cls_loss   dfl_loss  Instances       Size\n"
          ]
        },
        {
          "output_type": "stream",
          "name": "stderr",
          "text": [
            "     56/100        19G     0.3714     0.2728     0.8942        176        896: 100%|██████████| 315/315 [05:38<00:00,  1.08s/it]\n",
            "                 Class     Images  Instances      Box(P          R      mAP50  mAP50-95): 100%|██████████| 34/34 [00:23<00:00,  1.47it/s]\n"
          ]
        },
        {
          "output_type": "stream",
          "name": "stdout",
          "text": [
            "                   all       1684      17744      0.615      0.541      0.524      0.348\n",
            "\n",
            "      Epoch    GPU_mem   box_loss   cls_loss   dfl_loss  Instances       Size\n"
          ]
        },
        {
          "output_type": "stream",
          "name": "stderr",
          "text": [
            "     57/100      20.5G     0.3693     0.2721     0.8953        165        896: 100%|██████████| 315/315 [05:38<00:00,  1.08s/it]\n",
            "                 Class     Images  Instances      Box(P          R      mAP50  mAP50-95): 100%|██████████| 34/34 [00:23<00:00,  1.45it/s]\n"
          ]
        },
        {
          "output_type": "stream",
          "name": "stdout",
          "text": [
            "                   all       1684      17744      0.633      0.531       0.52      0.344\n",
            "\n",
            "      Epoch    GPU_mem   box_loss   cls_loss   dfl_loss  Instances       Size\n"
          ]
        },
        {
          "output_type": "stream",
          "name": "stderr",
          "text": [
            "     58/100      19.4G      0.366     0.2698     0.8936        186        896: 100%|██████████| 315/315 [05:38<00:00,  1.07s/it]\n",
            "                 Class     Images  Instances      Box(P          R      mAP50  mAP50-95): 100%|██████████| 34/34 [00:23<00:00,  1.47it/s]\n"
          ]
        },
        {
          "output_type": "stream",
          "name": "stdout",
          "text": [
            "                   all       1684      17744      0.606      0.548      0.521      0.346\n",
            "\n",
            "      Epoch    GPU_mem   box_loss   cls_loss   dfl_loss  Instances       Size\n"
          ]
        },
        {
          "output_type": "stream",
          "name": "stderr",
          "text": [
            "     59/100      20.5G      0.368     0.2703     0.8962        136        896: 100%|██████████| 315/315 [05:38<00:00,  1.07s/it]\n",
            "                 Class     Images  Instances      Box(P          R      mAP50  mAP50-95): 100%|██████████| 34/34 [00:23<00:00,  1.45it/s]\n"
          ]
        },
        {
          "output_type": "stream",
          "name": "stdout",
          "text": [
            "                   all       1684      17744      0.633      0.544      0.519      0.344\n",
            "\n",
            "      Epoch    GPU_mem   box_loss   cls_loss   dfl_loss  Instances       Size\n"
          ]
        },
        {
          "output_type": "stream",
          "name": "stderr",
          "text": [
            "     60/100      19.1G     0.3621     0.2659      0.891        186        896: 100%|██████████| 315/315 [05:38<00:00,  1.07s/it]\n",
            "                 Class     Images  Instances      Box(P          R      mAP50  mAP50-95): 100%|██████████| 34/34 [00:23<00:00,  1.47it/s]\n"
          ]
        },
        {
          "output_type": "stream",
          "name": "stdout",
          "text": [
            "                   all       1684      17744      0.652       0.54       0.52      0.344\n",
            "\n",
            "      Epoch    GPU_mem   box_loss   cls_loss   dfl_loss  Instances       Size\n"
          ]
        },
        {
          "output_type": "stream",
          "name": "stderr",
          "text": [
            "     61/100      20.6G     0.3616     0.2665      0.893        185        896: 100%|██████████| 315/315 [05:38<00:00,  1.07s/it]\n",
            "                 Class     Images  Instances      Box(P          R      mAP50  mAP50-95): 100%|██████████| 34/34 [00:23<00:00,  1.45it/s]\n"
          ]
        },
        {
          "output_type": "stream",
          "name": "stdout",
          "text": [
            "                   all       1684      17744      0.686      0.506      0.519      0.345\n",
            "\n",
            "      Epoch    GPU_mem   box_loss   cls_loss   dfl_loss  Instances       Size\n"
          ]
        },
        {
          "output_type": "stream",
          "name": "stderr",
          "text": [
            "     62/100      19.1G     0.3588     0.2635     0.8902        148        896: 100%|██████████| 315/315 [05:38<00:00,  1.07s/it]\n",
            "                 Class     Images  Instances      Box(P          R      mAP50  mAP50-95): 100%|██████████| 34/34 [00:23<00:00,  1.47it/s]\n"
          ]
        },
        {
          "output_type": "stream",
          "name": "stdout",
          "text": [
            "                   all       1684      17744      0.634       0.53      0.525      0.349\n",
            "\n",
            "      Epoch    GPU_mem   box_loss   cls_loss   dfl_loss  Instances       Size\n"
          ]
        },
        {
          "output_type": "stream",
          "name": "stderr",
          "text": [
            "     63/100      20.4G     0.3551     0.2633     0.8899        157        896: 100%|██████████| 315/315 [05:38<00:00,  1.07s/it]\n",
            "                 Class     Images  Instances      Box(P          R      mAP50  mAP50-95): 100%|██████████| 34/34 [00:23<00:00,  1.46it/s]\n"
          ]
        },
        {
          "output_type": "stream",
          "name": "stdout",
          "text": [
            "                   all       1684      17744      0.628      0.529      0.525      0.349\n",
            "\n",
            "      Epoch    GPU_mem   box_loss   cls_loss   dfl_loss  Instances       Size\n"
          ]
        },
        {
          "output_type": "stream",
          "name": "stderr",
          "text": [
            "     64/100      19.1G     0.3541     0.2612     0.8888        198        896: 100%|██████████| 315/315 [05:38<00:00,  1.07s/it]\n",
            "                 Class     Images  Instances      Box(P          R      mAP50  mAP50-95): 100%|██████████| 34/34 [00:23<00:00,  1.47it/s]\n"
          ]
        },
        {
          "output_type": "stream",
          "name": "stdout",
          "text": [
            "                   all       1684      17744      0.629      0.535      0.528      0.348\n",
            "\n",
            "      Epoch    GPU_mem   box_loss   cls_loss   dfl_loss  Instances       Size\n"
          ]
        },
        {
          "output_type": "stream",
          "name": "stderr",
          "text": [
            "     65/100      20.6G     0.3533     0.2607     0.8893        232        896: 100%|██████████| 315/315 [05:38<00:00,  1.07s/it]\n",
            "                 Class     Images  Instances      Box(P          R      mAP50  mAP50-95): 100%|██████████| 34/34 [00:23<00:00,  1.45it/s]\n"
          ]
        },
        {
          "output_type": "stream",
          "name": "stdout",
          "text": [
            "                   all       1684      17744      0.621      0.535      0.527      0.349\n",
            "\n",
            "      Epoch    GPU_mem   box_loss   cls_loss   dfl_loss  Instances       Size\n"
          ]
        },
        {
          "output_type": "stream",
          "name": "stderr",
          "text": [
            "     66/100      19.3G     0.3482     0.2577     0.8855        211        896: 100%|██████████| 315/315 [05:38<00:00,  1.07s/it]\n",
            "                 Class     Images  Instances      Box(P          R      mAP50  mAP50-95): 100%|██████████| 34/34 [00:23<00:00,  1.47it/s]\n"
          ]
        },
        {
          "output_type": "stream",
          "name": "stdout",
          "text": [
            "                   all       1684      17744       0.59      0.555      0.526       0.35\n",
            "\n",
            "      Epoch    GPU_mem   box_loss   cls_loss   dfl_loss  Instances       Size\n"
          ]
        },
        {
          "output_type": "stream",
          "name": "stderr",
          "text": [
            "     67/100      20.6G     0.3434      0.254     0.8853        151        896: 100%|██████████| 315/315 [05:38<00:00,  1.07s/it]\n",
            "                 Class     Images  Instances      Box(P          R      mAP50  mAP50-95): 100%|██████████| 34/34 [00:23<00:00,  1.45it/s]\n"
          ]
        },
        {
          "output_type": "stream",
          "name": "stdout",
          "text": [
            "                   all       1684      17744      0.664      0.535      0.529      0.352\n",
            "\n",
            "      Epoch    GPU_mem   box_loss   cls_loss   dfl_loss  Instances       Size\n"
          ]
        },
        {
          "output_type": "stream",
          "name": "stderr",
          "text": [
            "     68/100      19.1G     0.3452     0.2537     0.8862        148        896: 100%|██████████| 315/315 [05:38<00:00,  1.07s/it]\n",
            "                 Class     Images  Instances      Box(P          R      mAP50  mAP50-95): 100%|██████████| 34/34 [00:23<00:00,  1.47it/s]\n"
          ]
        },
        {
          "output_type": "stream",
          "name": "stdout",
          "text": [
            "                   all       1684      17744      0.627      0.551      0.532      0.351\n",
            "\n",
            "      Epoch    GPU_mem   box_loss   cls_loss   dfl_loss  Instances       Size\n"
          ]
        },
        {
          "output_type": "stream",
          "name": "stderr",
          "text": [
            "     69/100      20.3G     0.3451     0.2542     0.8863        222        896: 100%|██████████| 315/315 [05:38<00:00,  1.07s/it]\n",
            "                 Class     Images  Instances      Box(P          R      mAP50  mAP50-95): 100%|██████████| 34/34 [00:23<00:00,  1.46it/s]\n"
          ]
        },
        {
          "output_type": "stream",
          "name": "stdout",
          "text": [
            "                   all       1684      17744      0.595      0.549      0.527      0.348\n",
            "\n",
            "      Epoch    GPU_mem   box_loss   cls_loss   dfl_loss  Instances       Size\n"
          ]
        },
        {
          "output_type": "stream",
          "name": "stderr",
          "text": [
            "     70/100      19.3G     0.3366     0.2496     0.8846        128        896: 100%|██████████| 315/315 [05:38<00:00,  1.07s/it]\n",
            "                 Class     Images  Instances      Box(P          R      mAP50  mAP50-95): 100%|██████████| 34/34 [00:23<00:00,  1.47it/s]\n"
          ]
        },
        {
          "output_type": "stream",
          "name": "stdout",
          "text": [
            "                   all       1684      17744      0.588      0.555       0.53      0.352\n",
            "\n",
            "      Epoch    GPU_mem   box_loss   cls_loss   dfl_loss  Instances       Size\n"
          ]
        },
        {
          "output_type": "stream",
          "name": "stderr",
          "text": [
            "     71/100      20.8G     0.3321     0.2462     0.8812        187        896: 100%|██████████| 315/315 [05:38<00:00,  1.07s/it]\n",
            "                 Class     Images  Instances      Box(P          R      mAP50  mAP50-95): 100%|██████████| 34/34 [00:23<00:00,  1.45it/s]\n"
          ]
        },
        {
          "output_type": "stream",
          "name": "stdout",
          "text": [
            "                   all       1684      17744      0.608      0.537      0.535      0.354\n",
            "\n",
            "      Epoch    GPU_mem   box_loss   cls_loss   dfl_loss  Instances       Size\n"
          ]
        },
        {
          "output_type": "stream",
          "name": "stderr",
          "text": [
            "     72/100      19.2G     0.3365      0.247     0.8838        215        896: 100%|██████████| 315/315 [05:38<00:00,  1.07s/it]\n",
            "                 Class     Images  Instances      Box(P          R      mAP50  mAP50-95): 100%|██████████| 34/34 [00:23<00:00,  1.47it/s]\n"
          ]
        },
        {
          "output_type": "stream",
          "name": "stdout",
          "text": [
            "                   all       1684      17744      0.583      0.552      0.536      0.356\n",
            "\n",
            "      Epoch    GPU_mem   box_loss   cls_loss   dfl_loss  Instances       Size\n"
          ]
        },
        {
          "output_type": "stream",
          "name": "stderr",
          "text": [
            "     73/100      20.4G     0.3348     0.2481     0.8844        233        896: 100%|██████████| 315/315 [05:38<00:00,  1.07s/it]\n",
            "                 Class     Images  Instances      Box(P          R      mAP50  mAP50-95): 100%|██████████| 34/34 [00:23<00:00,  1.45it/s]\n"
          ]
        },
        {
          "output_type": "stream",
          "name": "stdout",
          "text": [
            "                   all       1684      17744      0.628      0.541      0.539      0.359\n",
            "\n",
            "      Epoch    GPU_mem   box_loss   cls_loss   dfl_loss  Instances       Size\n"
          ]
        },
        {
          "output_type": "stream",
          "name": "stderr",
          "text": [
            "     74/100      19.3G     0.3293     0.2427     0.8783        169        896: 100%|██████████| 315/315 [05:38<00:00,  1.08s/it]\n",
            "                 Class     Images  Instances      Box(P          R      mAP50  mAP50-95): 100%|██████████| 34/34 [00:23<00:00,  1.47it/s]\n"
          ]
        },
        {
          "output_type": "stream",
          "name": "stdout",
          "text": [
            "                   all       1684      17744      0.608      0.549      0.538      0.359\n",
            "\n",
            "      Epoch    GPU_mem   box_loss   cls_loss   dfl_loss  Instances       Size\n"
          ]
        },
        {
          "output_type": "stream",
          "name": "stderr",
          "text": [
            "     75/100      20.3G     0.3251     0.2392     0.8783        211        896: 100%|██████████| 315/315 [05:38<00:00,  1.07s/it]\n",
            "                 Class     Images  Instances      Box(P          R      mAP50  mAP50-95): 100%|██████████| 34/34 [00:23<00:00,  1.45it/s]\n"
          ]
        },
        {
          "output_type": "stream",
          "name": "stdout",
          "text": [
            "                   all       1684      17744      0.631      0.553      0.539      0.358\n",
            "\n",
            "      Epoch    GPU_mem   box_loss   cls_loss   dfl_loss  Instances       Size\n"
          ]
        },
        {
          "output_type": "stream",
          "name": "stderr",
          "text": [
            "     76/100      19.2G     0.3264     0.2404     0.8792        201        896: 100%|██████████| 315/315 [05:38<00:00,  1.07s/it]\n",
            "                 Class     Images  Instances      Box(P          R      mAP50  mAP50-95): 100%|██████████| 34/34 [00:23<00:00,  1.48it/s]\n"
          ]
        },
        {
          "output_type": "stream",
          "name": "stdout",
          "text": [
            "                   all       1684      17744      0.599      0.572       0.54       0.36\n",
            "\n",
            "      Epoch    GPU_mem   box_loss   cls_loss   dfl_loss  Instances       Size\n"
          ]
        },
        {
          "output_type": "stream",
          "name": "stderr",
          "text": [
            "     77/100      20.4G     0.3251     0.2368     0.8776        567        896:  48%|████▊     | 151/315 [02:43<02:57,  1.08s/it]\n"
          ]
        },
        {
          "output_type": "error",
          "ename": "KeyboardInterrupt",
          "evalue": "",
          "traceback": [
            "\u001b[0;31m---------------------------------------------------------------------------\u001b[0m",
            "\u001b[0;31mKeyboardInterrupt\u001b[0m                         Traceback (most recent call last)",
            "\u001b[0;32m<ipython-input-26-e5a4cfddb471>\u001b[0m in \u001b[0;36m<cell line: 0>\u001b[0;34m()\u001b[0m\n\u001b[1;32m      1\u001b[0m \u001b[0mmodel\u001b[0m \u001b[0;34m=\u001b[0m \u001b[0mYOLO\u001b[0m\u001b[0;34m(\u001b[0m\u001b[0;34m'yolov8m.pt'\u001b[0m\u001b[0;34m)\u001b[0m\u001b[0;34m\u001b[0m\u001b[0;34m\u001b[0m\u001b[0m\n\u001b[0;32m----> 2\u001b[0;31m model.train(\n\u001b[0m\u001b[1;32m      3\u001b[0m     \u001b[0mdata\u001b[0m\u001b[0;34m=\u001b[0m\u001b[0mpaths\u001b[0m\u001b[0;34m[\u001b[0m\u001b[0;34m'data'\u001b[0m\u001b[0;34m]\u001b[0m\u001b[0;34m,\u001b[0m\u001b[0;34m\u001b[0m\u001b[0;34m\u001b[0m\u001b[0m\n\u001b[1;32m      4\u001b[0m     \u001b[0mepochs\u001b[0m\u001b[0;34m=\u001b[0m\u001b[0;36m100\u001b[0m\u001b[0;34m,\u001b[0m\u001b[0;34m\u001b[0m\u001b[0;34m\u001b[0m\u001b[0m\n\u001b[1;32m      5\u001b[0m     \u001b[0mpatience\u001b[0m\u001b[0;34m=\u001b[0m\u001b[0;36m10\u001b[0m\u001b[0;34m,\u001b[0m\u001b[0;34m\u001b[0m\u001b[0;34m\u001b[0m\u001b[0m\n",
            "\u001b[0;32m/usr/local/lib/python3.11/dist-packages/ultralytics/engine/model.py\u001b[0m in \u001b[0;36mtrain\u001b[0;34m(self, trainer, **kwargs)\u001b[0m\n\u001b[1;32m    789\u001b[0m \u001b[0;34m\u001b[0m\u001b[0m\n\u001b[1;32m    790\u001b[0m         \u001b[0mself\u001b[0m\u001b[0;34m.\u001b[0m\u001b[0mtrainer\u001b[0m\u001b[0;34m.\u001b[0m\u001b[0mhub_session\u001b[0m \u001b[0;34m=\u001b[0m \u001b[0mself\u001b[0m\u001b[0;34m.\u001b[0m\u001b[0msession\u001b[0m  \u001b[0;31m# attach optional HUB session\u001b[0m\u001b[0;34m\u001b[0m\u001b[0;34m\u001b[0m\u001b[0m\n\u001b[0;32m--> 791\u001b[0;31m         \u001b[0mself\u001b[0m\u001b[0;34m.\u001b[0m\u001b[0mtrainer\u001b[0m\u001b[0;34m.\u001b[0m\u001b[0mtrain\u001b[0m\u001b[0;34m(\u001b[0m\u001b[0;34m)\u001b[0m\u001b[0;34m\u001b[0m\u001b[0;34m\u001b[0m\u001b[0m\n\u001b[0m\u001b[1;32m    792\u001b[0m         \u001b[0;31m# Update model and cfg after training\u001b[0m\u001b[0;34m\u001b[0m\u001b[0;34m\u001b[0m\u001b[0m\n\u001b[1;32m    793\u001b[0m         \u001b[0;32mif\u001b[0m \u001b[0mRANK\u001b[0m \u001b[0;32min\u001b[0m \u001b[0;34m{\u001b[0m\u001b[0;34m-\u001b[0m\u001b[0;36m1\u001b[0m\u001b[0;34m,\u001b[0m \u001b[0;36m0\u001b[0m\u001b[0;34m}\u001b[0m\u001b[0;34m:\u001b[0m\u001b[0;34m\u001b[0m\u001b[0;34m\u001b[0m\u001b[0m\n",
            "\u001b[0;32m/usr/local/lib/python3.11/dist-packages/ultralytics/engine/trainer.py\u001b[0m in \u001b[0;36mtrain\u001b[0;34m(self)\u001b[0m\n\u001b[1;32m    209\u001b[0m \u001b[0;34m\u001b[0m\u001b[0m\n\u001b[1;32m    210\u001b[0m         \u001b[0;32melse\u001b[0m\u001b[0;34m:\u001b[0m\u001b[0;34m\u001b[0m\u001b[0;34m\u001b[0m\u001b[0m\n\u001b[0;32m--> 211\u001b[0;31m             \u001b[0mself\u001b[0m\u001b[0;34m.\u001b[0m\u001b[0m_do_train\u001b[0m\u001b[0;34m(\u001b[0m\u001b[0mworld_size\u001b[0m\u001b[0;34m)\u001b[0m\u001b[0;34m\u001b[0m\u001b[0;34m\u001b[0m\u001b[0m\n\u001b[0m\u001b[1;32m    212\u001b[0m \u001b[0;34m\u001b[0m\u001b[0m\n\u001b[1;32m    213\u001b[0m     \u001b[0;32mdef\u001b[0m \u001b[0m_setup_scheduler\u001b[0m\u001b[0;34m(\u001b[0m\u001b[0mself\u001b[0m\u001b[0;34m)\u001b[0m\u001b[0;34m:\u001b[0m\u001b[0;34m\u001b[0m\u001b[0;34m\u001b[0m\u001b[0m\n",
            "\u001b[0;32m/usr/local/lib/python3.11/dist-packages/ultralytics/engine/trainer.py\u001b[0m in \u001b[0;36m_do_train\u001b[0;34m(self, world_size)\u001b[0m\n\u001b[1;32m    412\u001b[0m                 \u001b[0;32mif\u001b[0m \u001b[0mRANK\u001b[0m \u001b[0;32min\u001b[0m \u001b[0;34m{\u001b[0m\u001b[0;34m-\u001b[0m\u001b[0;36m1\u001b[0m\u001b[0;34m,\u001b[0m \u001b[0;36m0\u001b[0m\u001b[0;34m}\u001b[0m\u001b[0;34m:\u001b[0m\u001b[0;34m\u001b[0m\u001b[0;34m\u001b[0m\u001b[0m\n\u001b[1;32m    413\u001b[0m                     \u001b[0mloss_length\u001b[0m \u001b[0;34m=\u001b[0m \u001b[0mself\u001b[0m\u001b[0;34m.\u001b[0m\u001b[0mtloss\u001b[0m\u001b[0;34m.\u001b[0m\u001b[0mshape\u001b[0m\u001b[0;34m[\u001b[0m\u001b[0;36m0\u001b[0m\u001b[0;34m]\u001b[0m \u001b[0;32mif\u001b[0m \u001b[0mlen\u001b[0m\u001b[0;34m(\u001b[0m\u001b[0mself\u001b[0m\u001b[0;34m.\u001b[0m\u001b[0mtloss\u001b[0m\u001b[0;34m.\u001b[0m\u001b[0mshape\u001b[0m\u001b[0;34m)\u001b[0m \u001b[0;32melse\u001b[0m \u001b[0;36m1\u001b[0m\u001b[0;34m\u001b[0m\u001b[0;34m\u001b[0m\u001b[0m\n\u001b[0;32m--> 414\u001b[0;31m                     pbar.set_description(\n\u001b[0m\u001b[1;32m    415\u001b[0m                         \u001b[0;34m(\u001b[0m\u001b[0;34m\"%11s\"\u001b[0m \u001b[0;34m*\u001b[0m \u001b[0;36m2\u001b[0m \u001b[0;34m+\u001b[0m \u001b[0;34m\"%11.4g\"\u001b[0m \u001b[0;34m*\u001b[0m \u001b[0;34m(\u001b[0m\u001b[0;36m2\u001b[0m \u001b[0;34m+\u001b[0m \u001b[0mloss_length\u001b[0m\u001b[0;34m)\u001b[0m\u001b[0;34m)\u001b[0m\u001b[0;34m\u001b[0m\u001b[0;34m\u001b[0m\u001b[0m\n\u001b[1;32m    416\u001b[0m                         % (\n",
            "\u001b[0;32m/usr/local/lib/python3.11/dist-packages/tqdm/std.py\u001b[0m in \u001b[0;36mset_description\u001b[0;34m(self, desc, refresh)\u001b[0m\n\u001b[1;32m   1380\u001b[0m         \u001b[0mself\u001b[0m\u001b[0;34m.\u001b[0m\u001b[0mrefresh\u001b[0m\u001b[0;34m(\u001b[0m\u001b[0;34m)\u001b[0m\u001b[0;34m\u001b[0m\u001b[0;34m\u001b[0m\u001b[0m\n\u001b[1;32m   1381\u001b[0m \u001b[0;34m\u001b[0m\u001b[0m\n\u001b[0;32m-> 1382\u001b[0;31m     \u001b[0;32mdef\u001b[0m \u001b[0mset_description\u001b[0m\u001b[0;34m(\u001b[0m\u001b[0mself\u001b[0m\u001b[0;34m,\u001b[0m \u001b[0mdesc\u001b[0m\u001b[0;34m=\u001b[0m\u001b[0;32mNone\u001b[0m\u001b[0;34m,\u001b[0m \u001b[0mrefresh\u001b[0m\u001b[0;34m=\u001b[0m\u001b[0;32mTrue\u001b[0m\u001b[0;34m)\u001b[0m\u001b[0;34m:\u001b[0m\u001b[0;34m\u001b[0m\u001b[0;34m\u001b[0m\u001b[0m\n\u001b[0m\u001b[1;32m   1383\u001b[0m         \"\"\"\n\u001b[1;32m   1384\u001b[0m         \u001b[0mSet\u001b[0m\u001b[0;34m/\u001b[0m\u001b[0mmodify\u001b[0m \u001b[0mdescription\u001b[0m \u001b[0mof\u001b[0m \u001b[0mthe\u001b[0m \u001b[0mprogress\u001b[0m \u001b[0mbar\u001b[0m\u001b[0;34m.\u001b[0m\u001b[0;34m\u001b[0m\u001b[0;34m\u001b[0m\u001b[0m\n",
            "\u001b[0;31mKeyboardInterrupt\u001b[0m: "
          ]
        }
      ],
      "source": [
        "model = YOLO('yolov8m.pt')\n",
        "model.train(\n",
        "    data=paths['data'],\n",
        "    epochs=100,\n",
        "    patience=10,\n",
        "    batch=25,\n",
        "    imgsz=896,\n",
        "    save_period=5,\n",
        "    cache=True,\n",
        "    device=0,\n",
        "    workers=16,\n",
        "    project=paths['yolo_output_dir'],\n",
        "    name='v8m_batch25_imgsz896_',)"
      ]
    },
    {
      "cell_type": "markdown",
      "source": [
        "## Resume Train"
      ],
      "metadata": {
        "id": "X5cMRgcy0Bed"
      }
    },
    {
      "cell_type": "code",
      "source": [
        "model = YOLO('/content/drive/MyDrive/fiber_optic_box_inspection/runs_yolo/v8m_batch25_imgsz896_/weights/last.pt')\n",
        "results = model.train(resume=True)"
      ],
      "metadata": {
        "colab": {
          "base_uri": "https://localhost:8080/"
        },
        "id": "1ESZu6mK0AzO",
        "outputId": "f068cfa1-6db1-4af1-ac92-12e68822a061"
      },
      "execution_count": null,
      "outputs": [
        {
          "output_type": "stream",
          "name": "stdout",
          "text": [
            "Ultralytics 8.3.111 🚀 Python-3.11.12 torch-2.6.0+cu124 CUDA:0 (NVIDIA L4, 22693MiB)\n",
            "\u001b[34m\u001b[1mengine/trainer: \u001b[0mtask=detect, mode=train, model=/content/drive/MyDrive/fiber_optic_box_inspection/runs_yolo/v8m_batch25_imgsz896_/weights/last.pt, data=/content/drive/MyDrive/fiber_optic_box_inspection/dataset/data.yaml, epochs=100, time=None, patience=10, batch=25, imgsz=896, save=True, save_period=5, cache=True, device=0, workers=16, project=/content/drive/MyDrive/fiber_optic_box_inspection/runs_yolo, name=v8m_batch25_imgsz896_, exist_ok=False, pretrained=True, optimizer=auto, verbose=True, seed=0, deterministic=True, single_cls=False, rect=False, cos_lr=False, close_mosaic=10, resume=/content/drive/MyDrive/fiber_optic_box_inspection/runs_yolo/v8m_batch25_imgsz896_/weights/last.pt, amp=True, fraction=1.0, profile=False, freeze=None, multi_scale=False, overlap_mask=True, mask_ratio=4, dropout=0.0, val=True, split=val, save_json=False, conf=None, iou=0.7, max_det=300, half=False, dnn=False, plots=True, source=None, vid_stride=1, stream_buffer=False, visualize=False, augment=False, agnostic_nms=False, classes=None, retina_masks=False, embed=None, show=False, save_frames=False, save_txt=False, save_conf=False, save_crop=False, show_labels=True, show_conf=True, show_boxes=True, line_width=None, format=torchscript, keras=False, optimize=False, int8=False, dynamic=False, simplify=True, opset=None, workspace=None, nms=False, lr0=0.01, lrf=0.01, momentum=0.937, weight_decay=0.0005, warmup_epochs=3.0, warmup_momentum=0.8, warmup_bias_lr=0.0, box=7.5, cls=0.5, dfl=1.5, pose=12.0, kobj=1.0, nbs=64, hsv_h=0.015, hsv_s=0.7, hsv_v=0.4, degrees=0.0, translate=0.1, scale=0.5, shear=0.0, perspective=0.0, flipud=0.0, fliplr=0.5, bgr=0.0, mosaic=1.0, mixup=0.0, copy_paste=0.0, copy_paste_mode=flip, auto_augment=randaugment, erasing=0.4, cfg=None, tracker=botsort.yaml, save_dir=/content/drive/MyDrive/fiber_optic_box_inspection/runs_yolo/v8m_batch25_imgsz896_\n",
            "Downloading https://ultralytics.com/assets/Arial.ttf to '/root/.config/Ultralytics/Arial.ttf'...\n"
          ]
        },
        {
          "output_type": "stream",
          "name": "stderr",
          "text": [
            "100%|██████████| 755k/755k [00:00<00:00, 126MB/s]\n"
          ]
        },
        {
          "output_type": "stream",
          "name": "stdout",
          "text": [
            "\n",
            "                   from  n    params  module                                       arguments                     \n",
            "  0                  -1  1      1392  ultralytics.nn.modules.conv.Conv             [3, 48, 3, 2]                 \n",
            "  1                  -1  1     41664  ultralytics.nn.modules.conv.Conv             [48, 96, 3, 2]                \n",
            "  2                  -1  2    111360  ultralytics.nn.modules.block.C2f             [96, 96, 2, True]             \n",
            "  3                  -1  1    166272  ultralytics.nn.modules.conv.Conv             [96, 192, 3, 2]               \n",
            "  4                  -1  4    813312  ultralytics.nn.modules.block.C2f             [192, 192, 4, True]           \n",
            "  5                  -1  1    664320  ultralytics.nn.modules.conv.Conv             [192, 384, 3, 2]              \n",
            "  6                  -1  4   3248640  ultralytics.nn.modules.block.C2f             [384, 384, 4, True]           \n",
            "  7                  -1  1   1991808  ultralytics.nn.modules.conv.Conv             [384, 576, 3, 2]              \n",
            "  8                  -1  2   3985920  ultralytics.nn.modules.block.C2f             [576, 576, 2, True]           \n",
            "  9                  -1  1    831168  ultralytics.nn.modules.block.SPPF            [576, 576, 5]                 \n",
            " 10                  -1  1         0  torch.nn.modules.upsampling.Upsample         [None, 2, 'nearest']          \n",
            " 11             [-1, 6]  1         0  ultralytics.nn.modules.conv.Concat           [1]                           \n",
            " 12                  -1  2   1993728  ultralytics.nn.modules.block.C2f             [960, 384, 2]                 \n",
            " 13                  -1  1         0  torch.nn.modules.upsampling.Upsample         [None, 2, 'nearest']          \n",
            " 14             [-1, 4]  1         0  ultralytics.nn.modules.conv.Concat           [1]                           \n",
            " 15                  -1  2    517632  ultralytics.nn.modules.block.C2f             [576, 192, 2]                 \n",
            " 16                  -1  1    332160  ultralytics.nn.modules.conv.Conv             [192, 192, 3, 2]              \n",
            " 17            [-1, 12]  1         0  ultralytics.nn.modules.conv.Concat           [1]                           \n",
            " 18                  -1  2   1846272  ultralytics.nn.modules.block.C2f             [576, 384, 2]                 \n",
            " 19                  -1  1   1327872  ultralytics.nn.modules.conv.Conv             [384, 384, 3, 2]              \n",
            " 20             [-1, 9]  1         0  ultralytics.nn.modules.conv.Concat           [1]                           \n",
            " 21                  -1  2   4207104  ultralytics.nn.modules.block.C2f             [960, 576, 2]                 \n",
            " 22        [15, 18, 21]  1   3875863  ultralytics.nn.modules.head.Detect           [173, [192, 384, 576]]        \n",
            "Model summary: 169 layers, 25,956,487 parameters, 25,956,471 gradients, 79.6 GFLOPs\n",
            "\n",
            "Transferred 475/475 items from pretrained weights\n",
            "Freezing layer 'model.22.dfl.conv.weight'\n",
            "\u001b[34m\u001b[1mAMP: \u001b[0mrunning Automatic Mixed Precision (AMP) checks...\n",
            "Downloading https://github.com/ultralytics/assets/releases/download/v8.3.0/yolo11n.pt to 'yolo11n.pt'...\n"
          ]
        },
        {
          "output_type": "stream",
          "name": "stderr",
          "text": [
            "100%|██████████| 5.35M/5.35M [00:00<00:00, 327MB/s]\n"
          ]
        },
        {
          "output_type": "stream",
          "name": "stdout",
          "text": [
            "\u001b[34m\u001b[1mAMP: \u001b[0mchecks passed ✅\n",
            "\u001b[34m\u001b[1mtrain: \u001b[0mFast image access ✅ (ping: 0.3±0.1 ms, read: 0.2±0.1 MB/s, size: 122.3 KB)\n"
          ]
        },
        {
          "output_type": "stream",
          "name": "stderr",
          "text": [
            "\u001b[34m\u001b[1mtrain: \u001b[0mScanning /content/drive/MyDrive/fiber_optic_box_inspection/dataset/data_label_v2_ALL... 7858 images, 501 backgrounds, 0 corrupt: 100%|██████████| 7858/7858 [22:59<00:00,  5.70it/s]"
          ]
        },
        {
          "output_type": "stream",
          "name": "stdout",
          "text": [
            "\u001b[34m\u001b[1mtrain: \u001b[0mWARNING ⚠️ /content/drive/MyDrive/fiber_optic_box_inspection/dataset/data_label_v2_ALL/2022_11_03_15_29_32-HNIP456107HO.jpg: 1 duplicate labels removed\n",
            "\u001b[34m\u001b[1mtrain: \u001b[0mWARNING ⚠️ /content/drive/MyDrive/fiber_optic_box_inspection/dataset/data_label_v2_ALL/2022_11_10_14_59_59-HNIP120595HO.jpg: 1 duplicate labels removed\n",
            "\u001b[34m\u001b[1mtrain: \u001b[0mWARNING ⚠️ /content/drive/MyDrive/fiber_optic_box_inspection/dataset/data_label_v2_ALL/2022_11_11_09_10_09-PYNP016064HO.jpg: 1 duplicate labels removed\n",
            "\u001b[34m\u001b[1mtrain: \u001b[0mWARNING ⚠️ /content/drive/MyDrive/fiber_optic_box_inspection/dataset/data_label_v2_ALL/2022_11_14_16_04_38-HNIP548102HO.jpg: 1 duplicate labels removed\n",
            "\u001b[34m\u001b[1mtrain: \u001b[0mWARNING ⚠️ /content/drive/MyDrive/fiber_optic_box_inspection/dataset/data_label_v2_ALL/2022_11_16_08_43_48-HDGP141064HO.jpg: 1 duplicate labels removed\n",
            "\u001b[34m\u001b[1mtrain: \u001b[0mWARNING ⚠️ /content/drive/MyDrive/fiber_optic_box_inspection/dataset/data_label_v2_ALL/2022_11_16_10_35_33-GLIP038152HO.jpg: 1 duplicate labels removed\n",
            "\u001b[34m\u001b[1mtrain: \u001b[0mWARNING ⚠️ /content/drive/MyDrive/fiber_optic_box_inspection/dataset/data_label_v2_ALL/2022_11_16_15_40_51-HBHP012080HO.jpg: 1 duplicate labels removed\n",
            "\u001b[34m\u001b[1mtrain: \u001b[0mWARNING ⚠️ /content/drive/MyDrive/fiber_optic_box_inspection/dataset/data_label_v2_ALL/2022_11_21_09_08_32-TNNP069058HO.jpg: 1 duplicate labels removed\n",
            "\u001b[34m\u001b[1mtrain: \u001b[0mWARNING ⚠️ /content/drive/MyDrive/fiber_optic_box_inspection/dataset/data_label_v2_ALL/2022_11_21_16_32_02-HBHP012062HO.jpg: 1 duplicate labels removed\n",
            "\u001b[34m\u001b[1mtrain: \u001b[0mWARNING ⚠️ /content/drive/MyDrive/fiber_optic_box_inspection/dataset/data_label_v2_ALL/2022_12_06_15_18_24-TBHP019033HO.jpg: 1 duplicate labels removed\n",
            "\u001b[34m\u001b[1mtrain: \u001b[0mWARNING ⚠️ /content/drive/MyDrive/fiber_optic_box_inspection/dataset/data_label_v2_ALL/2022_12_07_16_39_07-QNHP088205HO.jpg: 1 duplicate labels removed\n",
            "\u001b[34m\u001b[1mtrain: \u001b[0mWARNING ⚠️ /content/drive/MyDrive/fiber_optic_box_inspection/dataset/data_label_v2_ALL/2022_12_08_10_14_33-HYNP074125HO.jpg: 1 duplicate labels removed\n",
            "\u001b[34m\u001b[1mtrain: \u001b[0mWARNING ⚠️ /content/drive/MyDrive/fiber_optic_box_inspection/dataset/data_label_v2_ALL/2022_12_09_10_16_40-TBHP044214HO.jpg: 1 duplicate labels removed\n"
          ]
        },
        {
          "output_type": "stream",
          "name": "stderr",
          "text": [
            "\n"
          ]
        },
        {
          "output_type": "stream",
          "name": "stdout",
          "text": [
            "\u001b[34m\u001b[1mtrain: \u001b[0mNew cache created: /content/drive/MyDrive/fiber_optic_box_inspection/dataset/data_label_v2_ALL.cache\n",
            "WARNING ⚠️ cache='ram' may produce non-deterministic training results. Consider cache='disk' as a deterministic alternative if your disk space allows.\n"
          ]
        },
        {
          "output_type": "stream",
          "name": "stderr",
          "text": [
            "\u001b[34m\u001b[1mtrain: \u001b[0mCaching images (12.4GB RAM): 100%|██████████| 7858/7858 [00:24<00:00, 323.11it/s]\n"
          ]
        },
        {
          "output_type": "stream",
          "name": "stdout",
          "text": [
            "\u001b[34m\u001b[1malbumentations: \u001b[0mBlur(p=0.01, blur_limit=(3, 7)), MedianBlur(p=0.01, blur_limit=(3, 7)), ToGray(p=0.01, num_output_channels=3, method='weighted_average'), CLAHE(p=0.01, clip_limit=(1.0, 4.0), tile_grid_size=(8, 8))\n",
            "\u001b[34m\u001b[1mval: \u001b[0mFast image access ✅ (ping: 0.4±0.1 ms, read: 0.2±0.1 MB/s, size: 149.4 KB)\n"
          ]
        },
        {
          "output_type": "stream",
          "name": "stderr",
          "text": [
            "\u001b[34m\u001b[1mval: \u001b[0mScanning /content/drive/MyDrive/fiber_optic_box_inspection/dataset/data_label_v2_ALL... 1684 images, 95 backgrounds, 0 corrupt: 100%|██████████| 1684/1684 [04:59<00:00,  5.63it/s]"
          ]
        },
        {
          "output_type": "stream",
          "name": "stdout",
          "text": [
            "\u001b[34m\u001b[1mval: \u001b[0mWARNING ⚠️ /content/drive/MyDrive/fiber_optic_box_inspection/dataset/data_label_v2_ALL/2022_11_11_09_59_56-BGGP089061HO.jpg: 1 duplicate labels removed\n",
            "\u001b[34m\u001b[1mval: \u001b[0mWARNING ⚠️ /content/drive/MyDrive/fiber_optic_box_inspection/dataset/data_label_v2_ALL/2022_11_17_15_10_14-TNNP063261HO.jpg: 1 duplicate labels removed\n",
            "\u001b[34m\u001b[1mval: \u001b[0mWARNING ⚠️ /content/drive/MyDrive/fiber_optic_box_inspection/dataset/data_label_v2_ALL/2022_12_29_09_46_47-HDGP048174HO.jpg: 1 duplicate labels removed\n"
          ]
        },
        {
          "output_type": "stream",
          "name": "stderr",
          "text": [
            "\n"
          ]
        },
        {
          "output_type": "stream",
          "name": "stdout",
          "text": [
            "\u001b[34m\u001b[1mval: \u001b[0mNew cache created: /content/drive/MyDrive/fiber_optic_box_inspection/dataset/data_label_v2_ALL.cache\n",
            "WARNING ⚠️ cache='ram' may produce non-deterministic training results. Consider cache='disk' as a deterministic alternative if your disk space allows.\n"
          ]
        },
        {
          "output_type": "stream",
          "name": "stderr",
          "text": [
            "\u001b[34m\u001b[1mval: \u001b[0mCaching images (2.6GB RAM): 100%|██████████| 1684/1684 [00:05<00:00, 326.33it/s]\n"
          ]
        },
        {
          "output_type": "stream",
          "name": "stdout",
          "text": [
            "Plotting labels to /content/drive/MyDrive/fiber_optic_box_inspection/runs_yolo/v8m_batch25_imgsz896_/labels.jpg... \n",
            "\u001b[34m\u001b[1moptimizer:\u001b[0m 'optimizer=auto' found, ignoring 'lr0=0.01' and 'momentum=0.937' and determining best 'optimizer', 'lr0' and 'momentum' automatically... \n",
            "\u001b[34m\u001b[1moptimizer:\u001b[0m SGD(lr=0.01, momentum=0.9) with parameter groups 77 weight(decay=0.0), 84 weight(decay=0.0005859375000000001), 83 bias(decay=0.0)\n",
            "Resuming training /content/drive/MyDrive/fiber_optic_box_inspection/runs_yolo/v8m_batch25_imgsz896_/weights/last.pt from epoch 87 to 100 total epochs\n",
            "Image sizes 896 train, 896 val\n",
            "Using 12 dataloader workers\n",
            "Logging results to \u001b[1m/content/drive/MyDrive/fiber_optic_box_inspection/runs_yolo/v8m_batch25_imgsz896_\u001b[0m\n",
            "Starting training for 100 epochs...\n",
            "\n",
            "      Epoch    GPU_mem   box_loss   cls_loss   dfl_loss  Instances       Size\n"
          ]
        },
        {
          "output_type": "stream",
          "name": "stderr",
          "text": [
            "     87/100      20.2G     0.2906     0.2169     0.8661        162        896: 100%|██████████| 315/315 [05:37<00:00,  1.07s/it]\n",
            "                 Class     Images  Instances      Box(P          R      mAP50  mAP50-95): 100%|██████████| 34/34 [00:23<00:00,  1.43it/s]\n"
          ]
        },
        {
          "output_type": "stream",
          "name": "stdout",
          "text": [
            "                   all       1684      17744      0.596      0.563      0.546      0.363\n",
            "\n",
            "      Epoch    GPU_mem   box_loss   cls_loss   dfl_loss  Instances       Size\n"
          ]
        },
        {
          "output_type": "stream",
          "name": "stderr",
          "text": [
            "     88/100      19.3G     0.2918     0.2147     0.8659        206        896: 100%|██████████| 315/315 [05:36<00:00,  1.07s/it]\n",
            "                 Class     Images  Instances      Box(P          R      mAP50  mAP50-95): 100%|██████████| 34/34 [00:22<00:00,  1.49it/s]\n"
          ]
        },
        {
          "output_type": "stream",
          "name": "stdout",
          "text": [
            "                   all       1684      17744      0.594      0.565      0.538       0.36\n",
            "\n",
            "      Epoch    GPU_mem   box_loss   cls_loss   dfl_loss  Instances       Size\n"
          ]
        },
        {
          "output_type": "stream",
          "name": "stderr",
          "text": [
            "     89/100      19.8G     0.2915     0.2143     0.8664        208        896: 100%|██████████| 315/315 [05:36<00:00,  1.07s/it]\n",
            "                 Class     Images  Instances      Box(P          R      mAP50  mAP50-95): 100%|██████████| 34/34 [00:23<00:00,  1.47it/s]\n"
          ]
        },
        {
          "output_type": "stream",
          "name": "stdout",
          "text": [
            "                   all       1684      17744      0.576      0.554      0.537      0.359\n",
            "\n",
            "      Epoch    GPU_mem   box_loss   cls_loss   dfl_loss  Instances       Size\n"
          ]
        },
        {
          "output_type": "stream",
          "name": "stderr",
          "text": [
            "     90/100      19.1G     0.2864     0.2118     0.8643        242        896: 100%|██████████| 315/315 [05:37<00:00,  1.07s/it]\n",
            "                 Class     Images  Instances      Box(P          R      mAP50  mAP50-95): 100%|██████████| 34/34 [00:22<00:00,  1.48it/s]\n"
          ]
        },
        {
          "output_type": "stream",
          "name": "stdout",
          "text": [
            "                   all       1684      17744      0.575      0.563      0.537      0.357\n",
            "Closing dataloader mosaic\n",
            "\u001b[34m\u001b[1malbumentations: \u001b[0mBlur(p=0.01, blur_limit=(3, 7)), MedianBlur(p=0.01, blur_limit=(3, 7)), ToGray(p=0.01, num_output_channels=3, method='weighted_average'), CLAHE(p=0.01, clip_limit=(1.0, 4.0), tile_grid_size=(8, 8))\n",
            "\n",
            "      Epoch    GPU_mem   box_loss   cls_loss   dfl_loss  Instances       Size\n"
          ]
        },
        {
          "output_type": "stream",
          "name": "stderr",
          "text": [
            "     91/100      19.3G     0.8797     0.5235      1.213        100        896: 100%|██████████| 315/315 [05:32<00:00,  1.05s/it]\n",
            "                 Class     Images  Instances      Box(P          R      mAP50  mAP50-95): 100%|██████████| 34/34 [00:23<00:00,  1.46it/s]\n"
          ]
        },
        {
          "output_type": "stream",
          "name": "stdout",
          "text": [
            "                   all       1684      17744      0.623      0.534      0.538      0.359\n",
            "\n",
            "      Epoch    GPU_mem   box_loss   cls_loss   dfl_loss  Instances       Size\n"
          ]
        },
        {
          "output_type": "stream",
          "name": "stderr",
          "text": [
            "     92/100      18.6G     0.8558     0.4993      1.191        117        896: 100%|██████████| 315/315 [05:30<00:00,  1.05s/it]\n",
            "                 Class     Images  Instances      Box(P          R      mAP50  mAP50-95): 100%|██████████| 34/34 [00:22<00:00,  1.49it/s]\n"
          ]
        },
        {
          "output_type": "stream",
          "name": "stdout",
          "text": [
            "                   all       1684      17744      0.628      0.532      0.538      0.361\n",
            "\n",
            "      Epoch    GPU_mem   box_loss   cls_loss   dfl_loss  Instances       Size\n"
          ]
        },
        {
          "output_type": "stream",
          "name": "stderr",
          "text": [
            "     93/100      19.3G     0.8437     0.4902      1.184         86        896: 100%|██████████| 315/315 [05:28<00:00,  1.04s/it]\n",
            "                 Class     Images  Instances      Box(P          R      mAP50  mAP50-95): 100%|██████████| 34/34 [00:23<00:00,  1.47it/s]\n"
          ]
        },
        {
          "output_type": "stream",
          "name": "stdout",
          "text": [
            "                   all       1684      17744      0.626      0.533       0.54      0.361\n",
            "\n",
            "      Epoch    GPU_mem   box_loss   cls_loss   dfl_loss  Instances       Size\n"
          ]
        },
        {
          "output_type": "stream",
          "name": "stderr",
          "text": [
            "     94/100      18.6G     0.8343      0.481      1.177         46        896: 100%|██████████| 315/315 [05:29<00:00,  1.05s/it]\n",
            "                 Class     Images  Instances      Box(P          R      mAP50  mAP50-95): 100%|██████████| 34/34 [00:22<00:00,  1.48it/s]\n"
          ]
        },
        {
          "output_type": "stream",
          "name": "stdout",
          "text": [
            "                   all       1684      17744      0.622      0.538       0.54      0.361\n",
            "\n",
            "      Epoch    GPU_mem   box_loss   cls_loss   dfl_loss  Instances       Size\n"
          ]
        },
        {
          "output_type": "stream",
          "name": "stderr",
          "text": [
            "     95/100      19.3G     0.8264      0.474      1.172         65        896: 100%|██████████| 315/315 [05:31<00:00,  1.05s/it]\n",
            "                 Class     Images  Instances      Box(P          R      mAP50  mAP50-95): 100%|██████████| 34/34 [00:23<00:00,  1.47it/s]\n"
          ]
        },
        {
          "output_type": "stream",
          "name": "stdout",
          "text": [
            "                   all       1684      17744      0.614      0.539       0.54      0.361\n",
            "\n",
            "      Epoch    GPU_mem   box_loss   cls_loss   dfl_loss  Instances       Size\n"
          ]
        },
        {
          "output_type": "stream",
          "name": "stderr",
          "text": [
            "     96/100      18.6G     0.8155     0.4657      1.159         66        896: 100%|██████████| 315/315 [05:29<00:00,  1.04s/it]\n",
            "                 Class     Images  Instances      Box(P          R      mAP50  mAP50-95): 100%|██████████| 34/34 [00:22<00:00,  1.49it/s]\n"
          ]
        },
        {
          "output_type": "stream",
          "name": "stdout",
          "text": [
            "                   all       1684      17744      0.637      0.533      0.541      0.362\n",
            "\n",
            "      Epoch    GPU_mem   box_loss   cls_loss   dfl_loss  Instances       Size\n"
          ]
        },
        {
          "output_type": "stream",
          "name": "stderr",
          "text": [
            "     97/100      19.3G     0.8101     0.4601      1.157         73        896: 100%|██████████| 315/315 [05:28<00:00,  1.04s/it]\n",
            "                 Class     Images  Instances      Box(P          R      mAP50  mAP50-95): 100%|██████████| 34/34 [00:23<00:00,  1.47it/s]\n"
          ]
        },
        {
          "output_type": "stream",
          "name": "stdout",
          "text": [
            "                   all       1684      17744      0.589      0.562       0.54      0.362\n",
            "\u001b[34m\u001b[1mEarlyStopping: \u001b[0mTraining stopped early as no improvement observed in last 10 epochs. Best results observed at epoch 87, best model saved as best.pt.\n",
            "To update EarlyStopping(patience=10) pass a new patience value, i.e. `patience=300` or use `patience=0` to disable EarlyStopping.\n",
            "\n",
            "11 epochs completed in 1.094 hours.\n",
            "Optimizer stripped from /content/drive/MyDrive/fiber_optic_box_inspection/runs_yolo/v8m_batch25_imgsz896_/weights/last.pt, 52.2MB\n",
            "Optimizer stripped from /content/drive/MyDrive/fiber_optic_box_inspection/runs_yolo/v8m_batch25_imgsz896_/weights/best.pt, 52.2MB\n",
            "\n",
            "Validating /content/drive/MyDrive/fiber_optic_box_inspection/runs_yolo/v8m_batch25_imgsz896_/weights/best.pt...\n",
            "Ultralytics 8.3.111 🚀 Python-3.11.12 torch-2.6.0+cu124 CUDA:0 (NVIDIA L4, 22693MiB)\n",
            "Model summary (fused): 92 layers, 25,939,927 parameters, 0 gradients, 79.2 GFLOPs\n"
          ]
        },
        {
          "output_type": "stream",
          "name": "stderr",
          "text": [
            "                 Class     Images  Instances      Box(P          R      mAP50  mAP50-95): 100%|██████████| 34/34 [00:22<00:00,  1.48it/s]\n"
          ]
        },
        {
          "output_type": "stream",
          "name": "stdout",
          "text": [
            "                   all       1684      17744      0.596      0.563      0.546      0.364\n",
            "                   1.0        136        136      0.725      0.904      0.855       0.73\n",
            "                   1.1         61         61      0.516      0.734       0.68      0.533\n",
            "                   1.2         35         35       0.41      0.543      0.544      0.356\n",
            "                   1.7         20         21      0.342      0.524      0.376      0.246\n",
            "                   2.0        260        262      0.922      0.954      0.968      0.868\n",
            "                   2.3          1          1          0          0          0          0\n",
            "                   3.0        248        248      0.933      0.956      0.985      0.648\n",
            "                   3.1          2          2          1      0.955      0.995      0.423\n",
            "                   5.0        249        490      0.918      0.984      0.977      0.691\n",
            "                   5.1          6          6       0.45      0.833      0.644      0.211\n",
            "                   6.0        245        246      0.875      0.955      0.936      0.739\n",
            "                   7.0        220        220      0.738      0.932      0.877      0.595\n",
            "                   7.1         15         15      0.102        0.2     0.0878     0.0545\n",
            "                   7.2          1          1          1          0      0.995       0.31\n",
            "                   7.3          1          1          0          0          0          0\n",
            "                   7.7          1          1          1          0     0.0524     0.0262\n",
            "                   8.0        234        671      0.708      0.841      0.828      0.495\n",
            "                   8.3         16         25     0.0902       0.12     0.0857     0.0493\n",
            "                   9.0        174        319      0.612      0.757      0.737       0.39\n",
            "                   9.4         55         74       0.62       0.77      0.676      0.342\n",
            "                  10.0         86         88      0.354      0.841      0.523      0.392\n",
            "                  10.1          3          3          0          0          0          0\n",
            "                  11.0        259        671      0.668      0.939      0.828      0.478\n",
            "                  11.1         27         38      0.503      0.184      0.202     0.0572\n",
            "                  13.0        166        166      0.571      0.831      0.752      0.549\n",
            "                  13.1         13         13      0.168      0.172     0.0901     0.0695\n",
            "                  13.2          1          1          1          0          0          0\n",
            "                  14.0        135        137      0.693      0.905      0.843      0.738\n",
            "                  14.1         22         22      0.435      0.773      0.648      0.504\n",
            "                  14.2         89         91      0.675      0.725      0.771      0.601\n",
            "                  19.0         94         94      0.468      0.638      0.559      0.393\n",
            "                  19.1          6          6          0          0     0.0405     0.0198\n",
            "                  19.2          1          1          1          0          0          0\n",
            "                  19.3         65         65       0.47      0.662       0.55       0.32\n",
            "                  20.0         81         82      0.595      0.768      0.651      0.468\n",
            "                  20.1         53         59      0.358      0.593      0.532       0.36\n",
            "                  20.2         73         95      0.503      0.638      0.586       0.31\n",
            "                  20.3          2          2          1          0    0.00968    0.00871\n",
            "                  23.0        274        285      0.663      0.867      0.757      0.527\n",
            "                  23.1        185        212      0.582      0.594      0.576      0.285\n",
            "                  23.2         10         11          1          0    0.00526    0.00232\n",
            "                  24.0         42         66      0.664      0.718      0.666      0.297\n",
            "                  24.1         84        142      0.492      0.373      0.395      0.159\n",
            "                  24.3          3          6          1          0     0.0268    0.00611\n",
            "                  26.0        486        487      0.879      0.996      0.932      0.815\n",
            "                  26.1          2          2          0          0     0.0093    0.00866\n",
            "                  27.0        163        163      0.803      0.945      0.896      0.619\n",
            "                  28.0        248        249      0.875      0.988      0.955      0.822\n",
            "                  29.0        255        260      0.912      0.977      0.946      0.865\n",
            "                  29.1         19         19      0.283      0.368        0.2      0.165\n",
            "                  29.2          1          1          0          0          0          0\n",
            "                  29.4          3          3          1          0     0.0447     0.0334\n",
            "                  30.0        203        388      0.908      0.948      0.939      0.585\n",
            "                  30.1         17         18      0.193      0.111      0.169     0.0902\n",
            "                  32.0         67        131       0.89      0.962      0.958      0.695\n",
            "                  32.1          7         11       0.65      0.636      0.722      0.407\n",
            "                  32.2         50         98      0.781      0.729      0.812        0.5\n",
            "                  35.0        173        183      0.692       0.82      0.813      0.365\n",
            "                  35.1         46         50      0.356       0.44       0.35      0.114\n",
            "                  37.0        230        542      0.706      0.932      0.865      0.574\n",
            "                  37.1          3          3          1          0      0.123     0.0663\n",
            "                  37.3          2          3          1          0     0.0481     0.0248\n",
            "                  37.4         53        149       0.78      0.966      0.956      0.665\n",
            "                  38.0        211        751      0.716        0.9      0.893      0.558\n",
            "                  38.1          4          6          0          0    0.00701     0.0038\n",
            "                  39.0        163        277      0.849      0.933      0.929       0.61\n",
            "                  39.1          5          8      0.505      0.125      0.188      0.111\n",
            "                  40.0        168        168      0.746      0.976      0.899      0.787\n",
            "                  40.1         30         30      0.716      0.733      0.782      0.601\n",
            "                  41.0        116        119      0.925      0.966      0.925      0.801\n",
            "                  41.1          4          4      0.127      0.368      0.299      0.281\n",
            "                  41.2          2          2          0          0          0          0\n",
            "                  42.0        116        116      0.932      0.966      0.981       0.72\n",
            "                  42.1          7          7      0.502      0.571       0.58      0.341\n",
            "                  43.0        288       1125      0.959      0.987      0.978      0.825\n",
            "                  43.1         32         41      0.674      0.854      0.847      0.509\n",
            "                  44.0        233        235      0.922      0.974      0.943      0.721\n",
            "                  44.1          3          3          0          0     0.0733     0.0242\n",
            "                  45.0        231        233      0.884      0.953      0.958      0.742\n",
            "                  45.1         45         46      0.317      0.652      0.419      0.191\n",
            "                  45.2          5          5      0.224      0.135      0.102     0.0353\n",
            "                  46.0        131        332      0.716      0.877      0.773      0.361\n",
            "                  46.1         74        130      0.337      0.292       0.21     0.0653\n",
            "                  46.3          5          8      0.768      0.125      0.148     0.0424\n",
            "                  47.0        240        675      0.806      0.926      0.906      0.537\n",
            "                  47.1         80         84       0.52       0.75      0.642      0.272\n",
            "                  47.3          3          4          0          0          0          0\n",
            "                  48.0        227        257      0.656      0.875      0.779      0.433\n",
            "                  48.2          4          4          1          0    0.00794    0.00635\n",
            "                  49.0        166        170      0.631      0.924      0.744      0.529\n",
            "                  49.3         23         23      0.242      0.522      0.299      0.135\n",
            "                  49.4         51         52      0.417      0.462      0.405      0.251\n",
            "                  50.0        106        106      0.849      0.953      0.923      0.726\n",
            "                  50.1         31         32       0.56      0.875      0.731       0.51\n",
            "                  50.2          7          7          0          0     0.0244    0.00713\n",
            "                  51.0        372        372      0.851      0.984      0.922      0.824\n",
            "                  51.2         40         54      0.291      0.352      0.294       0.15\n",
            "                  51.3          8          8      0.213      0.125       0.21      0.131\n",
            "                  52.0        196        206      0.818      0.917      0.849      0.499\n",
            "                  52.3         20         22          0          0      0.102     0.0744\n",
            "                  52.5         31         32      0.576      0.812      0.716      0.279\n",
            "                  53.0        200        211      0.749      0.889      0.845      0.542\n",
            "                  53.4         29         30      0.413        0.5       0.43      0.122\n",
            "                  53.5         26         29      0.201      0.276      0.199      0.136\n",
            "                  54.0        181        320      0.835      0.928       0.91      0.602\n",
            "                  54.4         82        118      0.389      0.424      0.317     0.0931\n",
            "                  54.5         18         26      0.233      0.115      0.119     0.0722\n",
            "                  55.0        203        371      0.799      0.919      0.867      0.507\n",
            "                  55.4         65         91      0.585       0.78      0.654       0.23\n",
            "                  55.5         14         17      0.234     0.0413      0.111     0.0716\n",
            "                  56.0        274        809      0.933      0.977       0.97      0.838\n",
            "                  56.1          1          1      0.897          1      0.995      0.597\n",
            "                  56.2          2          3      0.675          1      0.913      0.706\n",
            "                  56.4          5          7          1      0.721      0.866      0.743\n",
            "                  57.0        285        836      0.943      0.961      0.965      0.762\n",
            "                  57.1          4          4      0.516       0.75      0.766      0.343\n",
            "                  57.2          3          4          0          0          0          0\n",
            "                  58.0        275        276      0.948      0.987      0.976      0.806\n",
            "                  58.1          6          7      0.876      0.714       0.77      0.502\n",
            "                  58.2          2          2      0.586        0.5       0.62      0.503\n",
            "                  59.0        276        276      0.951          1      0.985      0.852\n",
            "                  59.2          3          3          1          0     0.0448     0.0367\n",
            "                  59.3          5          7          1      0.263      0.794      0.534\n",
            "                  60.0        208        208      0.779      0.976      0.907      0.718\n",
            "                  60.1         26         29      0.323      0.448      0.395      0.166\n",
            "                  60.3         52         64      0.311      0.547      0.474      0.215\n",
            "                  61.0        284        284      0.966      0.993      0.981      0.824\n",
            "                  61.1          1          1          0          0          0          0\n",
            "                  61.4          5          5          1          0     0.0129     0.0113\n",
            "Speed: 0.2ms preprocess, 8.1ms inference, 0.0ms loss, 0.9ms postprocess per image\n",
            "Results saved to \u001b[1m/content/drive/MyDrive/fiber_optic_box_inspection/runs_yolo/v8m_batch25_imgsz896_\u001b[0m\n"
          ]
        }
      ]
    },
    {
      "cell_type": "markdown",
      "source": [
        "# what"
      ],
      "metadata": {
        "id": "lpPgFnEn0VjV"
      }
    },
    {
      "cell_type": "code",
      "source": [
        "import torch\n",
        "torch.cuda.empty_cache()"
      ],
      "metadata": {
        "id": "ACvtImIHLmI9"
      },
      "execution_count": null,
      "outputs": []
    },
    {
      "cell_type": "code",
      "source": [],
      "metadata": {
        "id": "C8gTtBBo9iU3"
      },
      "execution_count": null,
      "outputs": []
    }
  ],
  "metadata": {
    "colab": {
      "provenance": [],
      "authorship_tag": "ABX9TyMKl6sPbsPO8WKo3HIYs8CV",
      "include_colab_link": true
    },
    "kernelspec": {
      "display_name": "Python 3",
      "name": "python3"
    },
    "language_info": {
      "name": "python"
    }
  },
  "nbformat": 4,
  "nbformat_minor": 0
}