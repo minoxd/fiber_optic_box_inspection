{
  "cells": [
    {
      "cell_type": "markdown",
      "metadata": {
        "id": "view-in-github",
        "colab_type": "text"
      },
      "source": [
        "<a href=\"https://colab.research.google.com/github/minoxd/fiber_optic_box_inspection/blob/main/hehe.ipynb\" target=\"_parent\"><img src=\"https://colab.research.google.com/assets/colab-badge.svg\" alt=\"Open In Colab\"/></a>"
      ]
    },
    {
      "cell_type": "markdown",
      "source": [
        "# Environmental Setup"
      ],
      "metadata": {
        "id": "KLRShjFGX7M_"
      }
    },
    {
      "cell_type": "markdown",
      "source": [
        "## mount gdrive, import libraries, specify paths"
      ],
      "metadata": {
        "id": "vYwdbnAWAAdX"
      }
    },
    {
      "cell_type": "code",
      "execution_count": 2,
      "metadata": {
        "colab": {
          "base_uri": "https://localhost:8080/"
        },
        "id": "cESaTvhCEaJ6",
        "outputId": "f3ecef15-d1b6-487a-81e2-56c247c2f33c"
      },
      "outputs": [
        {
          "output_type": "stream",
          "name": "stdout",
          "text": [
            "Mounted at /content/drive\n"
          ]
        }
      ],
      "source": [
        "from google.colab import drive\n",
        "drive.mount('/content/drive', force_remount=True)"
      ]
    },
    {
      "cell_type": "code",
      "execution_count": 5,
      "metadata": {
        "id": "jUL8WlxoDP8V"
      },
      "outputs": [],
      "source": [
        "import os\n",
        "import shutil\n",
        "import zipfile\n",
        "import tarfile\n",
        "import json\n",
        "from sklearn.model_selection import train_test_split\n",
        "import yaml\n",
        "import torch\n",
        "from multiprocessing import Pool\n",
        "import pandas as pd\n",
        "import albumentations as A\n",
        "import cv2\n",
        "from pathlib import Path\n",
        "\n",
        "if os.path.exists('/content/sample_data'):\n",
        "    shutil.rmtree('/content/sample_data')"
      ]
    },
    {
      "cell_type": "markdown",
      "source": [
        "These files are required in the `Data_INF` folder:\n",
        "- data_label_All.tar.gz\n",
        "- inf_raw_classes_v1.0.json\n",
        "- matching_name_id_v1.0.xlsx"
      ],
      "metadata": {
        "id": "TMen5sA6LtLZ"
      }
    },
    {
      "cell_type": "code",
      "source": [
        "BASE_DIR = '/content/drive/MyDrive/fiber_optic_box_inspection'\n",
        "if not os.path.exists(BASE_DIR):\n",
        "    raise FileNotFoundError(f\"Base directory {BASE_DIR} not found. Check Google Drive mount.\")\n",
        "\n",
        "LOCAL_BASE_DIR = '/content'\n",
        "\n",
        "paths = {\n",
        "    'base_dir':                                   BASE_DIR,\n",
        "    'Data_INF':                                   os.path.join(BASE_DIR, 'Data_INF'),\n",
        "    'dataset_dir':                                os.path.join(BASE_DIR, 'dataset'),\n",
        "    'yolo_output_dir':                            os.path.join(BASE_DIR, 'runs_yolo'),\n",
        "}\n",
        "\n",
        "if not os.path.exists(paths['dataset_dir']):\n",
        "    os.makedirs(paths['dataset_dir'], exist_ok=True)\n",
        "\n",
        "paths['raw_classes'] =                            os.path.join(paths['Data_INF'], 'inf_raw_classes_v1.0.json')\n",
        "paths['new_raw_classes'] =                        os.path.join(paths['Data_INF'], 'inf_raw_classes_v1.0_new.json')\n",
        "paths['matching_name_id'] =                       os.path.join(paths['Data_INF'], 'matching_name_id_v1.0.xlsx')\n",
        "paths['data_label_compressed'] =                  os.path.join(paths['Data_INF'], 'data_label_ALL.tar.gz')\n",
        "\n",
        "paths['processed_data_label_compressed'] =        os.path.join(paths['dataset_dir'], 'data_label_ALL_processed.tar.gz')\n",
        "\n",
        "local_paths = {\n",
        "    'base_dir':                                   LOCAL_BASE_DIR,\n",
        "    'dataset_dir':                                os.path.join(LOCAL_BASE_DIR, 'dataset'),\n",
        "}\n",
        "\n",
        "if not os.path.exists(local_paths['dataset_dir']):\n",
        "    os.makedirs(local_paths['dataset_dir'], exist_ok=True)\n",
        "\n",
        "local_paths['data_label_dir'] =                   os.path.join(local_paths['dataset_dir'], 'data_label_v2_ALL')\n",
        "local_paths['label_files_backup_dir'] =           os.path.join(local_paths['dataset_dir'], 'label_files_backup') #todo labels_backup\n",
        "local_paths['processed_data_label_compressed'] =  os.path.join(local_paths['dataset_dir'], 'data_label_ALL_processed.tar.gz')\n",
        "\n",
        "local_paths['yolo_data_cfg'] =                    os.path.join(local_paths['dataset_dir'], 'yolo_data_cfg.yaml')\n",
        "local_paths['all_paths'] =                        os.path.join(local_paths['dataset_dir'], 'all.txt')\n",
        "local_paths['train_paths'] =                      os.path.join(local_paths['dataset_dir'], 'train.txt')\n",
        "local_paths['val_paths'] =                        os.path.join(local_paths['dataset_dir'], 'val.txt')\n",
        "local_paths['test_paths'] =                       os.path.join(local_paths['dataset_dir'], 'test.txt')\n",
        "local_paths['ids_from_label_files'] =             os.path.join(local_paths['dataset_dir'], 'ids_from_label_files_backup_dir.txt')\n",
        "\n",
        "local_paths['yolo_train_cfg_mosaic'] \\\n",
        "                                               =  os.path.join(local_paths['dataset_dir'], 'yolo_train_cfg_mosaic.yaml')\n",
        "\n",
        "local_paths['yolo_val_cfg_default_augmentations'] \\\n",
        "                                               =  os.path.join(local_paths['dataset_dir'], 'yolo_val_cfg_default_augmentations.yaml')"
      ],
      "metadata": {
        "id": "dTk0xkiZGWt2"
      },
      "execution_count": 3,
      "outputs": []
    },
    {
      "cell_type": "code",
      "source": [
        "# local_paths['images'] = os.path.join(local_paths['dataset_dir'], 'images')\n",
        "# local_paths['labels'] = os.path.join(local_paths['dataset_dir'], 'labels')\n",
        "\n",
        "# if not os.path.exists(local_paths['images']):\n",
        "#     os.makedirs(local_paths['images'], exist_ok=True)\n",
        "# if not os.path.exists(local_paths['labels']):\n",
        "#     os.makedirs(local_paths['labels'], exist_ok=True)"
      ],
      "metadata": {
        "id": "QRPOqCjYh8og"
      },
      "execution_count": 7,
      "outputs": []
    },
    {
      "cell_type": "code",
      "source": [
        "# # todo this needed where?\n",
        "# def read_image_paths(file_path):\n",
        "#     if os.path.exists(file_path):\n",
        "#         with open(file_path, \"r\") as f:\n",
        "#             return [line.strip() for line in f if line.strip()]\n",
        "#     return []\n",
        "\n",
        "# all_images = read_image_paths(paths['all_paths'])\n",
        "# train_images = read_image_paths(paths['train_paths'])\n",
        "# val_images = read_image_paths(paths['val_paths'])\n",
        "# test_images = read_image_paths(paths['test_paths'])"
      ],
      "metadata": {
        "id": "qPKCemwVeyF4",
        "collapsed": true
      },
      "execution_count": 8,
      "outputs": []
    },
    {
      "cell_type": "markdown",
      "source": [
        "## install yolo"
      ],
      "metadata": {
        "id": "9LTZiG6o_7j_"
      }
    },
    {
      "cell_type": "code",
      "execution_count": 2,
      "metadata": {
        "colab": {
          "base_uri": "https://localhost:8080/"
        },
        "collapsed": true,
        "id": "6dHbcvTwDZzJ",
        "outputId": "e98f603c-8514-4ad0-b51f-402689085550"
      },
      "outputs": [
        {
          "output_type": "stream",
          "name": "stdout",
          "text": [
            "Requirement already satisfied: ultralytics in /usr/local/lib/python3.11/dist-packages (8.3.159)\n",
            "Requirement already satisfied: numpy>=1.23.0 in /usr/local/lib/python3.11/dist-packages (from ultralytics) (2.0.2)\n",
            "Requirement already satisfied: matplotlib>=3.3.0 in /usr/local/lib/python3.11/dist-packages (from ultralytics) (3.10.0)\n",
            "Requirement already satisfied: opencv-python>=4.6.0 in /usr/local/lib/python3.11/dist-packages (from ultralytics) (4.11.0.86)\n",
            "Requirement already satisfied: pillow>=7.1.2 in /usr/local/lib/python3.11/dist-packages (from ultralytics) (11.2.1)\n",
            "Requirement already satisfied: pyyaml>=5.3.1 in /usr/local/lib/python3.11/dist-packages (from ultralytics) (6.0.2)\n",
            "Requirement already satisfied: requests>=2.23.0 in /usr/local/lib/python3.11/dist-packages (from ultralytics) (2.32.3)\n",
            "Requirement already satisfied: scipy>=1.4.1 in /usr/local/lib/python3.11/dist-packages (from ultralytics) (1.15.3)\n",
            "Requirement already satisfied: torch>=1.8.0 in /usr/local/lib/python3.11/dist-packages (from ultralytics) (2.6.0+cu124)\n",
            "Requirement already satisfied: torchvision>=0.9.0 in /usr/local/lib/python3.11/dist-packages (from ultralytics) (0.21.0+cu124)\n",
            "Requirement already satisfied: tqdm>=4.64.0 in /usr/local/lib/python3.11/dist-packages (from ultralytics) (4.67.1)\n",
            "Requirement already satisfied: psutil in /usr/local/lib/python3.11/dist-packages (from ultralytics) (5.9.5)\n",
            "Requirement already satisfied: py-cpuinfo in /usr/local/lib/python3.11/dist-packages (from ultralytics) (9.0.0)\n",
            "Requirement already satisfied: pandas>=1.1.4 in /usr/local/lib/python3.11/dist-packages (from ultralytics) (2.2.2)\n",
            "Requirement already satisfied: ultralytics-thop>=2.0.0 in /usr/local/lib/python3.11/dist-packages (from ultralytics) (2.0.14)\n",
            "Requirement already satisfied: contourpy>=1.0.1 in /usr/local/lib/python3.11/dist-packages (from matplotlib>=3.3.0->ultralytics) (1.3.2)\n",
            "Requirement already satisfied: cycler>=0.10 in /usr/local/lib/python3.11/dist-packages (from matplotlib>=3.3.0->ultralytics) (0.12.1)\n",
            "Requirement already satisfied: fonttools>=4.22.0 in /usr/local/lib/python3.11/dist-packages (from matplotlib>=3.3.0->ultralytics) (4.58.4)\n",
            "Requirement already satisfied: kiwisolver>=1.3.1 in /usr/local/lib/python3.11/dist-packages (from matplotlib>=3.3.0->ultralytics) (1.4.8)\n",
            "Requirement already satisfied: packaging>=20.0 in /usr/local/lib/python3.11/dist-packages (from matplotlib>=3.3.0->ultralytics) (24.2)\n",
            "Requirement already satisfied: pyparsing>=2.3.1 in /usr/local/lib/python3.11/dist-packages (from matplotlib>=3.3.0->ultralytics) (3.2.3)\n",
            "Requirement already satisfied: python-dateutil>=2.7 in /usr/local/lib/python3.11/dist-packages (from matplotlib>=3.3.0->ultralytics) (2.9.0.post0)\n",
            "Requirement already satisfied: pytz>=2020.1 in /usr/local/lib/python3.11/dist-packages (from pandas>=1.1.4->ultralytics) (2025.2)\n",
            "Requirement already satisfied: tzdata>=2022.7 in /usr/local/lib/python3.11/dist-packages (from pandas>=1.1.4->ultralytics) (2025.2)\n",
            "Requirement already satisfied: charset-normalizer<4,>=2 in /usr/local/lib/python3.11/dist-packages (from requests>=2.23.0->ultralytics) (3.4.2)\n",
            "Requirement already satisfied: idna<4,>=2.5 in /usr/local/lib/python3.11/dist-packages (from requests>=2.23.0->ultralytics) (3.10)\n",
            "Requirement already satisfied: urllib3<3,>=1.21.1 in /usr/local/lib/python3.11/dist-packages (from requests>=2.23.0->ultralytics) (2.4.0)\n",
            "Requirement already satisfied: certifi>=2017.4.17 in /usr/local/lib/python3.11/dist-packages (from requests>=2.23.0->ultralytics) (2025.6.15)\n",
            "Requirement already satisfied: filelock in /usr/local/lib/python3.11/dist-packages (from torch>=1.8.0->ultralytics) (3.18.0)\n",
            "Requirement already satisfied: typing-extensions>=4.10.0 in /usr/local/lib/python3.11/dist-packages (from torch>=1.8.0->ultralytics) (4.14.0)\n",
            "Requirement already satisfied: networkx in /usr/local/lib/python3.11/dist-packages (from torch>=1.8.0->ultralytics) (3.5)\n",
            "Requirement already satisfied: jinja2 in /usr/local/lib/python3.11/dist-packages (from torch>=1.8.0->ultralytics) (3.1.6)\n",
            "Requirement already satisfied: fsspec in /usr/local/lib/python3.11/dist-packages (from torch>=1.8.0->ultralytics) (2025.3.2)\n",
            "Requirement already satisfied: nvidia-cuda-nvrtc-cu12==12.4.127 in /usr/local/lib/python3.11/dist-packages (from torch>=1.8.0->ultralytics) (12.4.127)\n",
            "Requirement already satisfied: nvidia-cuda-runtime-cu12==12.4.127 in /usr/local/lib/python3.11/dist-packages (from torch>=1.8.0->ultralytics) (12.4.127)\n",
            "Requirement already satisfied: nvidia-cuda-cupti-cu12==12.4.127 in /usr/local/lib/python3.11/dist-packages (from torch>=1.8.0->ultralytics) (12.4.127)\n",
            "Requirement already satisfied: nvidia-cudnn-cu12==9.1.0.70 in /usr/local/lib/python3.11/dist-packages (from torch>=1.8.0->ultralytics) (9.1.0.70)\n",
            "Requirement already satisfied: nvidia-cublas-cu12==12.4.5.8 in /usr/local/lib/python3.11/dist-packages (from torch>=1.8.0->ultralytics) (12.4.5.8)\n",
            "Requirement already satisfied: nvidia-cufft-cu12==11.2.1.3 in /usr/local/lib/python3.11/dist-packages (from torch>=1.8.0->ultralytics) (11.2.1.3)\n",
            "Requirement already satisfied: nvidia-curand-cu12==10.3.5.147 in /usr/local/lib/python3.11/dist-packages (from torch>=1.8.0->ultralytics) (10.3.5.147)\n",
            "Requirement already satisfied: nvidia-cusolver-cu12==11.6.1.9 in /usr/local/lib/python3.11/dist-packages (from torch>=1.8.0->ultralytics) (11.6.1.9)\n",
            "Requirement already satisfied: nvidia-cusparse-cu12==12.3.1.170 in /usr/local/lib/python3.11/dist-packages (from torch>=1.8.0->ultralytics) (12.3.1.170)\n",
            "Requirement already satisfied: nvidia-cusparselt-cu12==0.6.2 in /usr/local/lib/python3.11/dist-packages (from torch>=1.8.0->ultralytics) (0.6.2)\n",
            "Requirement already satisfied: nvidia-nccl-cu12==2.21.5 in /usr/local/lib/python3.11/dist-packages (from torch>=1.8.0->ultralytics) (2.21.5)\n",
            "Requirement already satisfied: nvidia-nvtx-cu12==12.4.127 in /usr/local/lib/python3.11/dist-packages (from torch>=1.8.0->ultralytics) (12.4.127)\n",
            "Requirement already satisfied: nvidia-nvjitlink-cu12==12.4.127 in /usr/local/lib/python3.11/dist-packages (from torch>=1.8.0->ultralytics) (12.4.127)\n",
            "Requirement already satisfied: triton==3.2.0 in /usr/local/lib/python3.11/dist-packages (from torch>=1.8.0->ultralytics) (3.2.0)\n",
            "Requirement already satisfied: sympy==1.13.1 in /usr/local/lib/python3.11/dist-packages (from torch>=1.8.0->ultralytics) (1.13.1)\n",
            "Requirement already satisfied: mpmath<1.4,>=1.1.0 in /usr/local/lib/python3.11/dist-packages (from sympy==1.13.1->torch>=1.8.0->ultralytics) (1.3.0)\n",
            "Requirement already satisfied: six>=1.5 in /usr/local/lib/python3.11/dist-packages (from python-dateutil>=2.7->matplotlib>=3.3.0->ultralytics) (1.17.0)\n",
            "Requirement already satisfied: MarkupSafe>=2.0 in /usr/local/lib/python3.11/dist-packages (from jinja2->torch>=1.8.0->ultralytics) (3.0.2)\n"
          ]
        }
      ],
      "source": [
        "!pip install ultralytics\n",
        "from ultralytics import YOLO"
      ]
    },
    {
      "cell_type": "markdown",
      "source": [
        "## Get processed dataset"
      ],
      "metadata": {
        "id": "zExyX0dlWtXI"
      }
    },
    {
      "cell_type": "code",
      "source": [
        "shutil.copytree(paths['dataset_dir'], local_paths['dataset_dir'], dirs_exist_ok=True)"
      ],
      "metadata": {
        "colab": {
          "base_uri": "https://localhost:8080/",
          "height": 0
        },
        "id": "bCsUKNGDWvQc",
        "outputId": "09f31d77-ff3f-4dea-bfbd-398cfe0e5edf"
      },
      "execution_count": 6,
      "outputs": [
        {
          "output_type": "execute_result",
          "data": {
            "text/plain": [
              "'/content/dataset'"
            ],
            "application/vnd.google.colaboratory.intrinsic+json": {
              "type": "string"
            }
          },
          "metadata": {},
          "execution_count": 6
        }
      ]
    },
    {
      "cell_type": "code",
      "source": [
        "with tarfile.open(paths['processed_data_label_compressed'], 'r:gz') as tar_file:\n",
        "    tar_file.extractall(local_paths['dataset_dir'])\n",
        "    print(f\"Extracted {paths['processed_data_label_compressed']} to {local_paths['dataset_dir']}\")"
      ],
      "metadata": {
        "colab": {
          "base_uri": "https://localhost:8080/"
        },
        "id": "SxeSPEq0Xgly",
        "outputId": "9b52cb3f-b1d5-4ffb-82cb-da7060bc2cd7"
      },
      "execution_count": 7,
      "outputs": [
        {
          "output_type": "stream",
          "name": "stdout",
          "text": [
            "Extracted /content/drive/MyDrive/fiber_optic_box_inspection/dataset/data_label_ALL_processed.tar.gz to /content/dataset\n"
          ]
        }
      ]
    },
    {
      "cell_type": "markdown",
      "source": [
        "## learn custom class names todo"
      ],
      "metadata": {
        "id": "JP6b4jrsFuRX"
      }
    },
    {
      "cell_type": "code",
      "source": [
        "# matching_name_id_df"
      ],
      "metadata": {
        "id": "UrHb_bZgYtql"
      },
      "execution_count": null,
      "outputs": []
    },
    {
      "cell_type": "code",
      "source": [
        "# matching_name_id_df = pd.read_excel(paths['matching_name_id'], sheet_name=0)\n",
        "# matching_name_id = dict(zip(matching_name_id_df['Label ID'], matching_name_id_df['Tên Label']))\n",
        "# print(matching_name_id[1.0])"
      ],
      "metadata": {
        "id": "8dwaY8lHXt8l"
      },
      "execution_count": null,
      "outputs": []
    },
    {
      "cell_type": "code",
      "source": [
        "# id_to_names = matching_name_id_df.groupby(matching_name_id_df['Label ID'].astype(int))['Tên Label'].apply(list).to_dict()\n",
        "\n",
        "# def find_names_by_id(integer_part):\n",
        "#     return id_to_names.get(int(integer_part), [\"ID not found\"])\n",
        "\n",
        "# integer_part = 0\n",
        "# names = find_names_by_id(integer_part)\n",
        "# print(f\"Names for IDs with integer part {integer_part}: {names}\")"
      ],
      "metadata": {
        "id": "qZ-ADDpwjtjw"
      },
      "execution_count": null,
      "outputs": []
    },
    {
      "cell_type": "code",
      "source": [
        "# id_to_names"
      ],
      "metadata": {
        "id": "1SjD70UaxZno",
        "collapsed": true
      },
      "execution_count": null,
      "outputs": []
    },
    {
      "cell_type": "markdown",
      "source": [
        "## utils"
      ],
      "metadata": {
        "id": "yURCyl-060m7"
      }
    },
    {
      "cell_type": "code",
      "source": [
        "class Run():\n",
        "    def __init__(self, run_name):\n",
        "        self.train_run_name = f'train_{run_name}'\n",
        "        self.val_run_name = f'val_{run_name}'\n",
        "        self.run_path = Path(paths['yolo_output_dir'], self.train_run_name)\n",
        "        self.__best_weight_path = Path(self.run_path, 'weights', 'best.pt')\n",
        "        self.__last_weight_path = Path(self.run_path, 'weights', 'last.pt')\n",
        "\n",
        "    def get_best_weight_path(self):\n",
        "        if self.run_path.is_dir():\n",
        "            return self.__best_weight_path\n",
        "        else:\n",
        "            raise FileNotFoundError(f'The run {self.train_run_name} does not exist.')\n",
        "\n",
        "    def get_last_weight_path(self):\n",
        "        if self.run_path.is_dir():\n",
        "            return self.__last_weight_path\n",
        "        else:\n",
        "            raise FileNotFoundError(f'The run {self.train_run_name} does not exist.')\n"
      ],
      "metadata": {
        "id": "W-iXnHmwAeql"
      },
      "execution_count": 12,
      "outputs": []
    },
    {
      "cell_type": "markdown",
      "source": [
        "## define runs"
      ],
      "metadata": {
        "id": "eAoVhSKBPZsA"
      }
    },
    {
      "cell_type": "code",
      "source": [
        "yolo_default_augmentations = Run('default_augmentations_')\n",
        "yolo_no_augmentations = Run('no_augmentations_')"
      ],
      "metadata": {
        "id": "oGVxyS9sPcVB"
      },
      "execution_count": 17,
      "outputs": []
    },
    {
      "cell_type": "markdown",
      "source": [
        "# Test Augmentation"
      ],
      "metadata": {
        "id": "EPf0zwTKOdxZ"
      }
    },
    {
      "cell_type": "code",
      "source": [
        "transform = A.Compose([\n",
        "    A.Blur(blur_limit=(60, 70), p=1)\n",
        "])"
      ],
      "metadata": {
        "id": "ZbjJv-qVOi6U"
      },
      "execution_count": null,
      "outputs": []
    },
    {
      "cell_type": "markdown",
      "source": [
        "# Data Preparation (Run once per lifetime)"
      ],
      "metadata": {
        "id": "nOLYLV50YB0u"
      }
    },
    {
      "cell_type": "markdown",
      "source": [
        "## Extract compressed dataset to VM"
      ],
      "metadata": {
        "id": "UFOgOFF7YWfQ"
      }
    },
    {
      "cell_type": "markdown",
      "source": [
        "The compressed dataset is located on GDrive. We extract the file directly from GDrive to VM's storage"
      ],
      "metadata": {
        "id": "0T501u29Qefh"
      }
    },
    {
      "cell_type": "code",
      "source": [
        "shutil.rmtree(local_paths['data_label_dir'])"
      ],
      "metadata": {
        "id": "uhK1jhConzK4"
      },
      "execution_count": 9,
      "outputs": []
    },
    {
      "cell_type": "code",
      "source": [
        "with tarfile.open(paths['data_label_compressed'], 'r:gz') as tar_file:\n",
        "    tar_file.extractall(local_paths['dataset_dir'])\n",
        "    print(f\"Extracted {paths['data_label_compressed']} to {local_paths['dataset_dir']}\")"
      ],
      "metadata": {
        "colab": {
          "base_uri": "https://localhost:8080/"
        },
        "id": "FcKKRx8M8LAi",
        "outputId": "0d4e2f02-354d-44ba-9069-1285ea37a960"
      },
      "execution_count": 10,
      "outputs": [
        {
          "output_type": "stream",
          "name": "stdout",
          "text": [
            "Extracted /content/drive/MyDrive/fiber_optic_box_inspection/Data_INF/data_label_ALL.tar.gz to /content/dataset\n"
          ]
        }
      ]
    },
    {
      "cell_type": "code",
      "source": [
        "for root, dirs, files in os.walk(local_paths['data_label_dir']):\n",
        "    print(len(files))"
      ],
      "metadata": {
        "colab": {
          "base_uri": "https://localhost:8080/"
        },
        "id": "sazMQlxtefiY",
        "outputId": "4807ca5b-a49b-4da7-9e1f-725088bc4f0c"
      },
      "execution_count": 11,
      "outputs": [
        {
          "output_type": "stream",
          "name": "stdout",
          "text": [
            "22452\n"
          ]
        }
      ]
    },
    {
      "cell_type": "markdown",
      "source": [
        "## Split dataset & save dataset division"
      ],
      "metadata": {
        "id": "ExZDAV-LYa5Q"
      }
    },
    {
      "cell_type": "code",
      "execution_count": null,
      "metadata": {
        "id": "8v0sSNCiZjmD"
      },
      "outputs": [],
      "source": [
        "train_ratio = 0.7\n",
        "val_ratio = 0.15\n",
        "test_ratio = 0.15\n",
        "\n",
        "all_images = [os.path.join(local_paths['data_label_dir'], f) for f in os.listdir(local_paths['data_label_dir']) if f.endswith('.jpg')]\n",
        "\n",
        "train_images, temp_images = train_test_split(all_images, train_size=train_ratio, random_state=42)\n",
        "val_images, test_images = train_test_split(temp_images, train_size=(val_ratio / (val_ratio + test_ratio)), random_state=42)"
      ]
    },
    {
      "cell_type": "code",
      "source": [
        "with open(local_paths['all_paths'], 'w') as f:\n",
        "    for img in all_images:\n",
        "        f.write(f\"{img}\\n\")\n",
        "\n",
        "with open(local_paths['train_paths'], 'w') as f:\n",
        "    for img in train_images:\n",
        "        f.write(f\"{img}\\n\")\n",
        "\n",
        "with open(local_paths['val_paths'], 'w') as f:\n",
        "    for img in val_images:\n",
        "        f.write(f\"{img}\\n\")\n",
        "\n",
        "with open(local_paths['test_paths'], 'w') as f:\n",
        "    for img in test_images:\n",
        "        f.write(f\"{img}\\n\")"
      ],
      "metadata": {
        "id": "PIMyq_6BbLwA"
      },
      "execution_count": null,
      "outputs": []
    },
    {
      "cell_type": "markdown",
      "source": [
        "## Inspect class ids from label files and json"
      ],
      "metadata": {
        "id": "MqykX7ncdZgT"
      }
    },
    {
      "cell_type": "markdown",
      "source": [
        "### Get class ids from json"
      ],
      "metadata": {
        "id": "sm7ZkBG8WSW3"
      }
    },
    {
      "cell_type": "code",
      "source": [
        "with open(paths['raw_classes'], 'r') as f:\n",
        "    class_dict = json.load(f)\n",
        "print(\"Class dictionary from JSON:\", class_dict)\n",
        "\n",
        "class_ids_from_json = set(sorted([int(k) for k in class_dict.keys()]))"
      ],
      "metadata": {
        "colab": {
          "base_uri": "https://localhost:8080/"
        },
        "id": "hgHpJ7khWSrE",
        "outputId": "18770735-c6cb-43e8-ff2f-faff5bbd8804"
      },
      "execution_count": 12,
      "outputs": [
        {
          "output_type": "stream",
          "name": "stdout",
          "text": [
            "Class dictionary from JSON: {'0': '1.0', '1': '1.1', '2': '1.2', '4': '1.7', '7': '2.0', '8': '2.1', '9': '2.3', '10': '3.0', '11': '3.1', '12': '4.0', '13': '4.1', '14': '5.0', '15': '5.1', '16': '6.0', '17': '6.1', '18': '7.0', '19': '7.1', '20': '7.2', '21': '7.3', '23': '7.7', '24': '8.0', '25': '8.3', '27': '8.5', '28': '9.0', '30': '9.4', '32': '10.0', '33': '10.1', '34': '11.0', '35': '11.1', '36': '13.0', '37': '13.1', '38': '13.2', '41': '14.0', '42': '14.1', '43': '14.2', '44': '14.3', '45': '15.0', '46': '15.1', '47': '15.4', '50': '17.0', '51': '17.1', '52': '18.0', '53': '18.1', '54': '19.0', '55': '19.1', '56': '19.2', '57': '19.3', '58': '19.4', '59': '19.5', '60': '20.0', '61': '20.1', '62': '20.2', '63': '20.3', '67': '23.0', '68': '23.1', '69': '23.2', '70': '24.0', '71': '24.1', '72': '24.3', '73': '26.0', '74': '26.1', '75': '27.0', '76': '27.1', '77': '28.0', '78': '28.3', '80': '29.0', '81': '29.1', '82': '29.2', '83': '29.4', '84': '30.0', '85': '30.1', '86': '32.0', '87': '32.1', '88': '32.2', '93': '35.0', '94': '35.1', '97': '37.0', '98': '37.1', '99': '37.3', '100': '37.4', '101': '38.0', '102': '38.1', '103': '39.0', '104': '39.1', '105': '40.0', '106': '40.1', '107': '40.2', '108': '41.0', '109': '41.1', '110': '41.2', '111': '42.0', '112': '42.1', '113': '43.0', '114': '43.1', '115': '44.0', '116': '44.1', '117': '44.2', '118': '45.0', '119': '45.1', '120': '45.2', '122': '46.0', '123': '46.1', '124': '46.3', '125': '46.4', '126': '47.0', '127': '47.1', '128': '47.3', '129': '48.0', '130': '48.2', '131': '49.0', '132': '49.3', '133': '49.4', '134': '50.0', '135': '50.1', '136': '50.2', '137': '51.0', '138': '51.2', '139': '51.3', '140': '52.0', '141': '52.3', '142': '52.5', '143': '53.0', '144': '53.4', '145': '53.5', '146': '54.0', '147': '54.4', '148': '54.5', '149': '55.0', '150': '55.4', '151': '55.5', '152': '56.0', '153': '56.1', '154': '56.2', '155': '56.4', '156': '57.0', '157': '57.1', '158': '57.2', '159': '58.0', '160': '58.1', '161': '58.2', '162': '59.0', '163': '59.1', '164': '59.2', '165': '59.3', '166': '60.0', '167': '60.1', '168': '60.3', '169': '61.0', '170': '61.1', '171': '61.2', '172': '61.4'}\n"
          ]
        }
      ]
    },
    {
      "cell_type": "markdown",
      "source": [
        "### Backup ids from label files before removal"
      ],
      "metadata": {
        "id": "UUsdV2gVvGQ5"
      }
    },
    {
      "cell_type": "code",
      "source": [
        "def get_class_ids_from_label_file(label_file):\n",
        "    class_ids = set()\n",
        "    msg = None\n",
        "    try:\n",
        "        ids = set()\n",
        "        with open(label_file, 'r') as f:\n",
        "            for line in f:\n",
        "                if line.strip():\n",
        "                    id = line.strip().split()[0]\n",
        "                    ids.add(id)\n",
        "        msg = f'Ids in {label_file}: {ids}'\n",
        "        class_ids.update(ids)\n",
        "    except Exception as e:\n",
        "        msg = f'Error processing {label_file}: {e}'\n",
        "    return class_ids, msg\n",
        "\n",
        "def get_class_ids_from_label_files(label_dir):\n",
        "    label_files = [os.path.join(label_dir, f) for f in os.listdir(label_dir) if f.endswith('.txt')]\n",
        "    with Pool() as pool:\n",
        "        results = pool.map(get_class_ids_from_label_file, label_files)\n",
        "    class_ids, msgs = zip(*results)\n",
        "    class_ids = set().union(*class_ids)\n",
        "\n",
        "    with open(local_paths['ids_from_label_files'], 'w') as f:\n",
        "        f.write(str(len(msgs)) + '\\n')\n",
        "        for msg in msgs:\n",
        "            f.write(f'{msg}\\n')\n",
        "\n",
        "    return set(sorted([int(id) for id in class_ids]))"
      ],
      "metadata": {
        "id": "Bgay89efgJfj"
      },
      "execution_count": 13,
      "outputs": []
    },
    {
      "cell_type": "code",
      "source": [
        "class_ids_from_label_files = get_class_ids_from_label_files(local_paths['data_label_dir'])"
      ],
      "metadata": {
        "id": "99v5vQ00kY4V",
        "collapsed": true
      },
      "execution_count": 14,
      "outputs": []
    },
    {
      "cell_type": "markdown",
      "source": [
        "### Get class ids differences"
      ],
      "metadata": {
        "id": "T5zUzImvv8Py"
      }
    },
    {
      "cell_type": "code",
      "source": [
        "class_ids = class_ids_from_json & class_ids_from_label_files\n",
        "class_ids_from_label_files_not_in_json = class_ids_from_label_files - class_ids\n",
        "class_ids_from_json_not_in_label_files = class_ids_from_json - class_ids"
      ],
      "metadata": {
        "id": "k_Ys1Whd7JaT"
      },
      "execution_count": 15,
      "outputs": []
    },
    {
      "cell_type": "code",
      "source": [
        "print(f'Class IDs from json (count: {len(class_ids_from_json)}):                                          \\n\\t {class_ids_from_json}')\n",
        "print(f'Class IDs from label files (count: {len(class_ids_from_label_files)}):                            \\n\\t {class_ids_from_label_files}')\n",
        "print(f'Class Ids from label files but not in json (count: {len(class_ids_from_label_files_not_in_json)}):\\n\\t {class_ids_from_label_files_not_in_json}')\n",
        "print(f'Class Ids from json but not in label files (count: {len(class_ids_from_json_not_in_label_files)}):\\n\\t {class_ids_from_json_not_in_label_files}')"
      ],
      "metadata": {
        "colab": {
          "base_uri": "https://localhost:8080/"
        },
        "id": "GrHlAEZ27JUw",
        "outputId": "d995c151-9acb-4599-ab3d-aab887515435"
      },
      "execution_count": 16,
      "outputs": [
        {
          "output_type": "stream",
          "name": "stdout",
          "text": [
            "Class IDs from json (count: 151):                                          \n",
            "\t {0, 1, 2, 4, 7, 8, 9, 10, 11, 12, 13, 14, 15, 16, 17, 18, 19, 20, 21, 23, 24, 25, 27, 28, 30, 32, 33, 34, 35, 36, 37, 38, 41, 42, 43, 44, 45, 46, 47, 50, 51, 52, 53, 54, 55, 56, 57, 58, 59, 60, 61, 62, 63, 67, 68, 69, 70, 71, 72, 73, 74, 75, 76, 77, 78, 80, 81, 82, 83, 84, 85, 86, 87, 88, 93, 94, 97, 98, 99, 100, 101, 102, 103, 104, 105, 106, 107, 108, 109, 110, 111, 112, 113, 114, 115, 116, 117, 118, 119, 120, 122, 123, 124, 125, 126, 127, 128, 129, 130, 131, 132, 133, 134, 135, 136, 137, 138, 139, 140, 141, 142, 143, 144, 145, 146, 147, 148, 149, 150, 151, 152, 153, 154, 155, 156, 157, 158, 159, 160, 161, 162, 163, 164, 165, 166, 167, 168, 169, 170, 171, 172}\n",
            "Class IDs from label files (count: 150):                            \n",
            "\t {0, 1, 2, 3, 4, 7, 9, 10, 11, 14, 15, 16, 17, 18, 19, 20, 21, 22, 23, 24, 25, 26, 27, 28, 29, 30, 32, 33, 34, 35, 36, 37, 38, 39, 41, 42, 43, 44, 54, 55, 56, 57, 58, 60, 61, 62, 63, 67, 68, 69, 70, 71, 72, 73, 74, 75, 76, 77, 80, 81, 82, 83, 84, 85, 86, 87, 88, 89, 90, 91, 92, 93, 94, 95, 97, 98, 99, 100, 101, 102, 103, 104, 105, 106, 107, 108, 109, 110, 111, 112, 113, 114, 115, 116, 117, 118, 119, 120, 121, 122, 123, 124, 125, 126, 127, 128, 129, 130, 131, 132, 133, 134, 135, 136, 137, 138, 139, 140, 141, 142, 143, 144, 145, 146, 147, 148, 149, 150, 151, 152, 153, 154, 155, 156, 157, 158, 159, 160, 161, 162, 163, 164, 165, 166, 167, 168, 169, 170, 171, 172}\n",
            "Class Ids from label files but not in json (count: 11):\n",
            "\t {121, 3, 90, 39, 22, 89, 26, 91, 92, 29, 95}\n",
            "Class Ids from json but not in label files (count: 12):\n",
            "\t {8, 12, 45, 13, 46, 47, 78, 50, 51, 52, 53, 59}\n"
          ]
        }
      ]
    },
    {
      "cell_type": "markdown",
      "source": [
        "### From label files, remove labels that their ids does not appear in json"
      ],
      "metadata": {
        "id": "ITmhQRtkt0pO"
      }
    },
    {
      "cell_type": "code",
      "source": [
        "def process_label_file(args):\n",
        "    label_file, label_dir, backup_dir, class_ids_to_remove = args\n",
        "    filename = os.path.basename(label_file)\n",
        "    try:\n",
        "        with open(label_file, 'r') as f:\n",
        "            lines = f.readlines()\n",
        "\n",
        "        lines_kept = [\n",
        "            line for line in lines\n",
        "            if line.strip() and line.strip().split()[0] not in class_ids_to_remove\n",
        "        ]\n",
        "\n",
        "        lines_removed = len(lines) - len(lines_kept)\n",
        "\n",
        "        if lines_removed <= 0:\n",
        "            return\n",
        "\n",
        "        backup_file = os.path.join(backup_dir, filename)\n",
        "        shutil.copy(label_file, backup_file)\n",
        "        with open(label_file, 'w') as f:\n",
        "            f.writelines(lines_kept)\n",
        "\n",
        "        return f\"Processed {filename}: {lines_removed} lines removed, original backed up\"\n",
        "    except Exception as e:\n",
        "        return f\"Error processing {filename}: {e}\"\n",
        "\n",
        "def process_label_files(label_dir, backup_dir, class_ids_to_remove):\n",
        "    class_ids_to_remove = [str(id) for id in class_ids_to_remove]\n",
        "\n",
        "    all_labels = [\n",
        "        os.path.join(label_dir, f) for f in os.listdir(label_dir)\n",
        "        if f.endswith('.txt')\n",
        "    ]\n",
        "\n",
        "    args = [(f, label_dir, backup_dir, class_ids_to_remove) for f in all_labels]\n",
        "\n",
        "    with Pool() as pool:\n",
        "        results = pool.map(process_label_file, args)\n",
        "\n",
        "    for result in results:\n",
        "        if result:\n",
        "            print(result)\n",
        "\n",
        "    return len(all_labels)"
      ],
      "metadata": {
        "id": "znrN5ksi1PX9"
      },
      "execution_count": 17,
      "outputs": []
    },
    {
      "cell_type": "code",
      "source": [
        "if not os.path.exists(local_paths['label_files_backup_dir']):\n",
        "    os.makedirs(local_paths['label_files_backup_dir'])\n",
        "\n",
        "num_files_processed = process_label_files(\n",
        "    label_dir=local_paths['data_label_dir'],\n",
        "    backup_dir=local_paths['label_files_backup_dir'],\n",
        "    class_ids_to_remove=class_ids_from_label_files_not_in_json\n",
        ")\n",
        "print(f\"Total files processed: {num_files_processed}\")"
      ],
      "metadata": {
        "colab": {
          "base_uri": "https://localhost:8080/"
        },
        "collapsed": true,
        "id": "2hfKjXiMmrZY",
        "outputId": "920e3af1-ee8f-44aa-e0cc-ae1337c721b2"
      },
      "execution_count": 18,
      "outputs": [
        {
          "output_type": "stream",
          "name": "stdout",
          "text": [
            "Processed 2022_11_09_11_21_04-AGGP054196HO.txt: 1 lines removed, original backed up\n",
            "Processed 2022_11_02_16_10_07-DTPP007225HO.txt: 1 lines removed, original backed up\n",
            "Processed 2022_11_04_09_53_00-GLIP025202HO.txt: 1 lines removed, original backed up\n",
            "Processed 2022_11_09_10_20_26-STGP030062HO.txt: 1 lines removed, original backed up\n",
            "Processed 2022_11_01_10_45_55-LANP012469HO.txt: 1 lines removed, original backed up\n",
            "Processed 2022_11_25_14_49_06-HDGP004021HO.txt: 1 lines removed, original backed up\n",
            "Processed 2022_11_12_11_26_51-LDGP029007HO.txt: 1 lines removed, original backed up\n",
            "Processed 2022_11_04_09_35_45-DLKP035126HO.txt: 1 lines removed, original backed up\n",
            "Processed 2022_11_09_17_01_29-KTMP007310HO.txt: 1 lines removed, original backed up\n",
            "Processed 2022_11_03_10_01_14-DLKP035065HO.txt: 1 lines removed, original backed up\n",
            "Processed 2022_11_07_11_02_48-LANP026128HO.txt: 1 lines removed, original backed up\n",
            "Processed 2022_10_31_09_47_27-AGGP045015HO.txt: 1 lines removed, original backed up\n",
            "Processed 2022_11_02_16_36_21-STGP030042HO.txt: 1 lines removed, original backed up\n",
            "Processed 2022_11_17_08_57_05-GLIP038198HO.txt: 1 lines removed, original backed up\n",
            "Processed 2022_11_08_15_56_10-STGP028308HO.txt: 1 lines removed, original backed up\n",
            "Processed 2022_11_17_11_20_22-DNGP052023HO.txt: 1 lines removed, original backed up\n",
            "Processed 2022_11_09_11_01_01-TNHP036130HO.txt: 3 lines removed, original backed up\n",
            "Processed 2022_10_28_16_40_16-QNMP001083HO.txt: 1 lines removed, original backed up\n",
            "Processed 2022_11_17_16_25_59-LDGP039084HO.txt: 1 lines removed, original backed up\n",
            "Processed 2022_11_19_10_57_56-BPCP008014HO.txt: 1 lines removed, original backed up\n",
            "Processed 2022_11_18_15_32_37-HGGP020074HO.txt: 1 lines removed, original backed up\n",
            "Processed 2022_11_14_16_24_20-CTOP036439HO.txt: 1 lines removed, original backed up\n",
            "Processed 2022_11_17_16_03_47-HGGP004233HO.txt: 1 lines removed, original backed up\n",
            "Processed 2022_11_08_09_48_24-AGGP016166HO.txt: 1 lines removed, original backed up\n",
            "Processed 2022_11_15_13_49_41-BTEP019110HO.txt: 1 lines removed, original backed up\n",
            "Processed 2022_11_17_10_35_33-LDGP039070HO.txt: 1 lines removed, original backed up\n",
            "Processed 2022_11_03_15_58_07-DLKP035081HO.txt: 1 lines removed, original backed up\n",
            "Processed 2022_11_15_11_53_26-AGGP053177HO.txt: 1 lines removed, original backed up\n",
            "Processed 2022_11_01_15_19_39-DLKP035003HO.txt: 1 lines removed, original backed up\n",
            "Processed 2022_10_28_11_26_37-AGGP045339HO.txt: 1 lines removed, original backed up\n",
            "Processed 2022_11_05_08_58_48-LANP024185HO.txt: 1 lines removed, original backed up\n",
            "Processed 2022_11_09_16_44_31-KTMP007325HO.txt: 1 lines removed, original backed up\n",
            "Processed 2022_10_31_15_36_47-AGGP018270HO.txt: 1 lines removed, original backed up\n",
            "Processed 2022_11_09_10_43_31-STGP030095HO.txt: 1 lines removed, original backed up\n",
            "Processed 2022_11_07_14_29_11-BDGP061321HO.txt: 1 lines removed, original backed up\n",
            "Processed 2022_11_15_07_32_03-LANP012403HO.txt: 1 lines removed, original backed up\n",
            "Processed 2022_11_12_16_36_30-HGGP016263HO.txt: 1 lines removed, original backed up\n",
            "Processed 2022_11_14_09_49_42-LANP020049HO.txt: 1 lines removed, original backed up\n",
            "Processed 2022_11_02_17_31_40-GLIP032277HO.txt: 1 lines removed, original backed up\n",
            "Processed 2022_11_07_10_58_09-AGGP018171HO.txt: 1 lines removed, original backed up\n",
            "Processed 2022_11_16_11_48_12-HGGP004210HO.txt: 1 lines removed, original backed up\n",
            "Processed 2022_11_02_09_53_07-QNIP022103HO.txt: 1 lines removed, original backed up\n",
            "Processed 2022_11_12_15_53_59-GLIP015218HO.txt: 1 lines removed, original backed up\n",
            "Processed 2022_11_07_11_29_26-AGGP018269HO.txt: 1 lines removed, original backed up\n",
            "Processed 2022_11_15_10_20_59-BPCP001520HO.txt: 1 lines removed, original backed up\n",
            "Processed 2022_11_14_09_26_25-LANP020052HO.txt: 1 lines removed, original backed up\n",
            "Processed 2022_11_04_10_28_38-KTMP021165HO.txt: 1 lines removed, original backed up\n",
            "Processed 2022_11_09_07_55_41-TNHP007376HO.txt: 2 lines removed, original backed up\n",
            "Processed 2022_11_14_13_42_13-BLUP009251HO.txt: 1 lines removed, original backed up\n",
            "Processed 2022_11_14_12_10_07-LDGP029048HO.txt: 1 lines removed, original backed up\n",
            "Processed 2022_11_02_16_59_35-GLIP032273HO.txt: 1 lines removed, original backed up\n",
            "Processed 2022_11_02_09_20_19-GLIP035003HO.txt: 1 lines removed, original backed up\n",
            "Processed 2022_11_23_09_48_23-QNHP052294HO.txt: 1 lines removed, original backed up\n",
            "Processed 2022_11_18_09_19_42-DNGP005103HO.txt: 1 lines removed, original backed up\n",
            "Processed 2022_11_02_14_43_12-GLIP032281HO.txt: 1 lines removed, original backed up\n",
            "Processed 2022_11_04_11_18_24-QNIP028098HO.txt: 1 lines removed, original backed up\n",
            "Processed 2022_11_08_14_22_58-HNIP726069HO.txt: 2 lines removed, original backed up\n",
            "Processed 2022_11_04_14_06_42-NTGP066277HO.txt: 1 lines removed, original backed up\n",
            "Processed 2022_11_10_11_17_43-DNIP094148HO.txt: 1 lines removed, original backed up\n",
            "Processed 2022_11_16_15_16_02-BPCP002389HO.txt: 1 lines removed, original backed up\n",
            "Processed 2022_11_09_11_22_27-AGGP053194HO.txt: 1 lines removed, original backed up\n",
            "Processed 2022_11_03_15_13_42-GLIP025204HO.txt: 1 lines removed, original backed up\n",
            "Processed 2022_11_08_09_33_45-AGGP016167HO.txt: 1 lines removed, original backed up\n",
            "Processed 2022_11_15_10_49_47-HNIP163139HO.txt: 1 lines removed, original backed up\n",
            "Processed 2022_11_09_10_36_36-STGP030050HO.txt: 1 lines removed, original backed up\n",
            "Processed 2022_11_03_14_40_08-DLKP035107HO.txt: 1 lines removed, original backed up\n",
            "Processed 2022_11_07_11_12_13-STGP019208HO.txt: 1 lines removed, original backed up\n",
            "Processed 2022_11_11_15_27_35-HNIP475422HO.txt: 1 lines removed, original backed up\n",
            "Processed 2022_11_17_15_48_08-HGGP017475HO.txt: 1 lines removed, original backed up\n",
            "Processed 2022_11_07_10_39_43-AGGP018273HO.txt: 1 lines removed, original backed up\n",
            "Processed 2022_11_16_10_56_26-GLIP038182HO.txt: 1 lines removed, original backed up\n",
            "Processed 2022_11_07_09_56_09-STGP028302HO.txt: 1 lines removed, original backed up\n",
            "Processed 2022_11_04_10_10_23-KTMP021164HO.txt: 1 lines removed, original backed up\n",
            "Processed 2022_11_07_09_44_54-LANP029274HU.txt: 1 lines removed, original backed up\n",
            "Processed 2022_11_10_16_46_46-BRUP034236HO.txt: 1 lines removed, original backed up\n",
            "Processed 2022_11_11_10_06_38-AGGP052204HO.txt: 1 lines removed, original backed up\n",
            "Processed 2022_11_14_09_33_01-LANP020052HO.txt: 1 lines removed, original backed up\n",
            "Processed 2022_11_07_10_40_43-AGGP018273HO.txt: 1 lines removed, original backed up\n",
            "Processed 2022_11_18_11_07_41-HGGP008076HO.txt: 1 lines removed, original backed up\n",
            "Processed 2022_11_15_15_51_53-BRUP075016HO.txt: 1 lines removed, original backed up\n",
            "Processed 2022_11_09_13_57_18-AGGP054269HO.txt: 1 lines removed, original backed up\n",
            "Processed 2022_11_16_10_03_56-TBHP012022HO.txt: 1 lines removed, original backed up\n",
            "Processed 2022_11_18_11_36_22-BPCP008021HO.txt: 3 lines removed, original backed up\n",
            "Processed 2022_11_06_09_25_14-STGP019290HO.txt: 1 lines removed, original backed up\n",
            "Processed 2022_11_04_15_46_16-DLKP035073HO.txt: 1 lines removed, original backed up\n",
            "Processed 2022_11_02_15_33_21-GLIP032276HO.txt: 1 lines removed, original backed up\n",
            "Processed 2022_11_10_16_54_19-BLUP012019HO.txt: 1 lines removed, original backed up\n",
            "Processed 2022_10_28_09_20_59-QNIP027002HO.txt: 1 lines removed, original backed up\n",
            "Processed 2022_11_07_13_02_42-STGP029059HO.txt: 1 lines removed, original backed up\n",
            "Processed 2022_11_01_14_58_52-QNIP028005HO.txt: 1 lines removed, original backed up\n",
            "Processed 2022_11_07_10_43_23-AGGP018273HO.txt: 1 lines removed, original backed up\n",
            "Processed 2022_10_27_11_13_21-STGP030005HO.txt: 1 lines removed, original backed up\n",
            "Processed 2022_11_03_16_50_20-GLIP025206HO.txt: 1 lines removed, original backed up\n",
            "Processed 2022_11_17_10_27_26-HGGP004113HO.txt: 1 lines removed, original backed up\n",
            "Processed 2022_11_11_15_18_39-KGGP003345HO.txt: 1 lines removed, original backed up\n",
            "Processed 2022_11_17_16_33_04-LDGP039083HO.txt: 1 lines removed, original backed up\n",
            "Processed 2022_10_27_14_54_44-AGGP018102HO.txt: 1 lines removed, original backed up\n",
            "Processed 2022_11_07_10_02_34-KTMP021169HO.txt: 1 lines removed, original backed up\n",
            "Processed 2022_11_04_10_49_44-DLKP035120HO.txt: 1 lines removed, original backed up\n",
            "Processed 2022_12_09_14_32_32-TBHP025068HO.txt: 2 lines removed, original backed up\n",
            "Processed 2022_11_03_16_46_20-GLIP025206HO.txt: 1 lines removed, original backed up\n",
            "Processed 2022_12_30_16_14_42-HYNP038054HO.txt: 1 lines removed, original backed up\n",
            "Processed 2022_10_27_11_45_38-STGP030006HO.txt: 1 lines removed, original backed up\n",
            "Processed 2022_11_17_11_01_06-GLIP038272HO.txt: 1 lines removed, original backed up\n",
            "Processed 2022_11_09_12_28_50-AGGP054268HO.txt: 1 lines removed, original backed up\n",
            "Processed 2022_11_10_09_36_02-AGGP054262HO.txt: 1 lines removed, original backed up\n",
            "Processed 2022_11_03_13_46_20-DLKP035114HO.txt: 1 lines removed, original backed up\n",
            "Processed 2022_11_16_15_14_09-GLIP038159HO.txt: 1 lines removed, original backed up\n",
            "Processed 2022_11_10_11_24_02-QNIP019223HO.txt: 1 lines removed, original backed up\n",
            "Processed 2022_10_28_10_51_49-AGGP045009HO.txt: 1 lines removed, original backed up\n",
            "Processed 2022_11_02_10_50_12-KTMP019286HO.txt: 1 lines removed, original backed up\n",
            "Processed 2022_11_18_11_31_55-HGGP017492HO.txt: 1 lines removed, original backed up\n",
            "Processed 2022_11_07_15_24_22-DTPP007173HO.txt: 1 lines removed, original backed up\n",
            "Processed 2022_11_05_07_12_19-STGP030041HO.txt: 1 lines removed, original backed up\n",
            "Processed 2022_11_14_08_53_27-KTMP021131HO.txt: 1 lines removed, original backed up\n",
            "Processed 2022_11_02_10_07_32-QNIP027096HO.txt: 1 lines removed, original backed up\n",
            "Processed 2022_11_15_14_13_07-AGGP018094HO.txt: 1 lines removed, original backed up\n",
            "Processed 2022_11_15_16_48_38-HNIP297056HO.txt: 1 lines removed, original backed up\n",
            "Processed 2022_11_15_10_17_34-BPCP002373HO.txt: 1 lines removed, original backed up\n",
            "Processed 2022_11_04_07_05_10-LANP029270HU.txt: 1 lines removed, original backed up\n",
            "Processed 2022_11_07_09_35_14-KTMP007349HO.txt: 1 lines removed, original backed up\n",
            "Processed 2022_11_08_10_53_15-KTMP021157HO.txt: 1 lines removed, original backed up\n",
            "Processed 2022_11_24_11_17_19-YBIP008171HO.txt: 2 lines removed, original backed up\n",
            "Processed 2022_11_10_11_02_48-DNIP094148HO.txt: 1 lines removed, original backed up\n",
            "Processed 2022_11_07_11_23_26-HNIP614032HO.txt: 1 lines removed, original backed up\n",
            "Processed 2022_11_29_16_29_45-QNHP118150HO.txt: 2 lines removed, original backed up\n",
            "Processed 2022_11_17_08_04_49-LDGP039032HO.txt: 1 lines removed, original backed up\n",
            "Processed 2022_10_28_10_57_35-AGGP045009HO.txt: 1 lines removed, original backed up\n",
            "Processed 2022_11_17_16_51_24-HGGP017472HO.txt: 1 lines removed, original backed up\n",
            "Processed 2022_11_01_15_11_35-DLKP035003HO.txt: 1 lines removed, original backed up\n",
            "Processed 2022_11_14_09_57_29-LANP032100HO.txt: 1 lines removed, original backed up\n",
            "Processed 2022_11_09_14_52_41-GLIP025116HO.txt: 1 lines removed, original backed up\n",
            "Processed 2022_11_09_09_30_16-GLIP025107HO.txt: 1 lines removed, original backed up\n",
            "Processed 2022_10_27_10_51_13-AGGP045231HO.txt: 1 lines removed, original backed up\n",
            "Processed 2022_11_16_11_57_38-HGGP014205HO.txt: 1 lines removed, original backed up\n",
            "Processed 2022_11_10_09_54_28-AGGP054258HO.txt: 1 lines removed, original backed up\n",
            "Processed 2022_11_02_17_27_50-GLIP032277HO.txt: 1 lines removed, original backed up\n",
            "Processed 2022_11_14_10_05_41-LANP020120HO.txt: 1 lines removed, original backed up\n",
            "Processed 2022_11_09_11_26_48-AGGP053194HO.txt: 1 lines removed, original backed up\n",
            "Processed 2022_11_06_14_57_11-STGP030008HO.txt: 1 lines removed, original backed up\n",
            "Processed 2022_11_15_09_26_44-LANP029286HO.txt: 1 lines removed, original backed up\n",
            "Processed 2022_11_19_11_19_42-BPCP008009HO.txt: 1 lines removed, original backed up\n",
            "Processed 2022_11_18_10_24_51-DNGP052251HO.txt: 1 lines removed, original backed up\n",
            "Processed 2022_11_09_10_56_36-AGGP053202HO.txt: 1 lines removed, original backed up\n",
            "Processed 2022_11_15_14_03_00-AGGP018094HO.txt: 1 lines removed, original backed up\n",
            "Processed 2022_11_19_12_55_52-DTPP007238HO.txt: 1 lines removed, original backed up\n",
            "Processed 2022_11_18_14_35_50-STGP031071HO.txt: 1 lines removed, original backed up\n",
            "Processed 2022_11_11_16_09_03-BRUP046356HO.txt: 1 lines removed, original backed up\n",
            "Processed 2022_11_04_10_18_48-GLIP041213HO.txt: 1 lines removed, original backed up\n",
            "Processed 2022_11_16_15_55_16-LANP029180HO.txt: 1 lines removed, original backed up\n",
            "Processed 2022_11_18_09_11_09-DNGP052255HO.txt: 1 lines removed, original backed up\n",
            "Processed 2022_11_15_14_38_20-AGGP018094HO.txt: 1 lines removed, original backed up\n",
            "Processed 2022_11_11_09_49_01-AGGP052205HO.txt: 1 lines removed, original backed up\n",
            "Processed 2022_11_09_11_28_54-AGGP053194HO.txt: 1 lines removed, original backed up\n",
            "Processed 2022_11_01_14_43_46-DLKP035002HO.txt: 1 lines removed, original backed up\n",
            "Processed 2022_11_15_15_58_06-GLIP036077HO.txt: 1 lines removed, original backed up\n",
            "Processed 2022_11_18_10_38_10-KTMP021137HO.txt: 1 lines removed, original backed up\n",
            "Processed 2022_11_05_08_28_30-QNIP028010HO.txt: 1 lines removed, original backed up\n",
            "Processed 2022_11_15_15_25_08-HGGP020245HO.txt: 1 lines removed, original backed up\n",
            "Processed 2022_10_28_10_33_59-KTMP007341HO.txt: 1 lines removed, original backed up\n",
            "Processed 2022_11_02_10_41_23-AGGP045003HO.txt: 1 lines removed, original backed up\n",
            "Processed 2022_11_17_14_14_54-HGGP004161HO.txt: 1 lines removed, original backed up\n",
            "Processed 2022_11_15_11_08_20-LANP030348HU.txt: 1 lines removed, original backed up\n",
            "Processed 2022_11_07_09_33_04-KTMP021168HO.txt: 1 lines removed, original backed up\n",
            "Processed 2022_11_07_09_50_45-KTMP021169HO.txt: 1 lines removed, original backed up\n",
            "Processed 2022_11_14_10_01_50-KTMP021120HO.txt: 1 lines removed, original backed up\n",
            "Processed 2022_11_29_15_34_07-TNNP069099HO.txt: 2 lines removed, original backed up\n",
            "Processed 2022_11_15_11_54_58-AGGP053177HO.txt: 1 lines removed, original backed up\n",
            "Processed 2022_11_04_12_05_53-GLIP041215HO.txt: 1 lines removed, original backed up\n",
            "Processed 2022_11_09_13_15_52-AGGP054267HO.txt: 1 lines removed, original backed up\n",
            "Processed 2022_11_13_10_30_08-CTOP036426HO.txt: 1 lines removed, original backed up\n",
            "Processed 2022_11_02_17_05_48-STGP030018HO.txt: 1 lines removed, original backed up\n",
            "Processed 2022_11_10_09_20_40-AGGP054264HO.txt: 1 lines removed, original backed up\n",
            "Processed 2022_11_06_14_12_38-STGP030016HO.txt: 1 lines removed, original backed up\n",
            "Processed 2022_11_17_08_55_13-GLIP038198HO.txt: 1 lines removed, original backed up\n",
            "Processed 2022_11_11_09_15_42-AGGP052230HO.txt: 1 lines removed, original backed up\n",
            "Processed 2022_12_09_08_28_58-TBHP014190HO.txt: 1 lines removed, original backed up\n",
            "Processed 2022_11_07_11_23_04-STGP019206HO.txt: 1 lines removed, original backed up\n",
            "Processed 2022_10_28_10_11_14-AGGP045230HO.txt: 1 lines removed, original backed up\n",
            "Processed 2022_11_09_16_22_25-HNIP386031HO.txt: 1 lines removed, original backed up\n",
            "Processed 2022_11_02_09_15_31-GLIP035003HO.txt: 1 lines removed, original backed up\n",
            "Processed 2022_11_16_15_37_43-GLIP038158HO.txt: 1 lines removed, original backed up\n",
            "Processed 2022_11_16_11_13_19-HGGP004212HO.txt: 1 lines removed, original backed up\n",
            "Processed 2022_11_09_10_46_01-GLIP025244HO.txt: 1 lines removed, original backed up\n",
            "Processed 2022_11_17_15_35_56-HGGP017481HO.txt: 1 lines removed, original backed up\n",
            "Processed 2022_10_31_14_53_14-QNIP003014HO.txt: 1 lines removed, original backed up\n",
            "Processed 2022_11_03_10_18_25-DLKP035064HO.txt: 1 lines removed, original backed up\n",
            "Processed 2022_11_12_15_26_17-HNIP234754HO.txt: 2 lines removed, original backed up\n",
            "Processed 2022_10_27_11_37_56-STGP030006HO.txt: 1 lines removed, original backed up\n",
            "Processed 2022_11_16_11_22_10-GLIP038183HO.txt: 1 lines removed, original backed up\n",
            "Processed 2022_11_07_11_37_01-STGP019232HO.txt: 1 lines removed, original backed up\n",
            "Processed 2022_10_28_10_38_17-AGGP045016HO.txt: 1 lines removed, original backed up\n",
            "Processed 2022_11_07_10_24_37-AGGP018113HO.txt: 1 lines removed, original backed up\n",
            "Processed 2022_11_19_15_25_54-DNGP128207HO.txt: 1 lines removed, original backed up\n",
            "Processed 2022_11_19_10_42_11-DNGP128193HO.txt: 1 lines removed, original backed up\n",
            "Processed 2022_11_14_15_01_26-BRUP051087HO.txt: 1 lines removed, original backed up\n",
            "Processed 2022_11_01_15_05_38-QNIP028005HO.txt: 1 lines removed, original backed up\n",
            "Processed 2022_11_08_16_00_40-HNIP456026HO.txt: 2 lines removed, original backed up\n",
            "Processed 2022_11_03_09_51_22-DLKP035069HO.txt: 1 lines removed, original backed up\n",
            "Processed 2022_11_14_16_22_42-HNIP206574HO.txt: 2 lines removed, original backed up\n",
            "Processed 2022_11_07_11_41_28-AGGP018272HO.txt: 1 lines removed, original backed up\n",
            "Processed 2022_11_19_10_41_12-DNGP128193HO.txt: 1 lines removed, original backed up\n",
            "Processed 2022_11_15_11_10_30-BPCP001518HO.txt: 1 lines removed, original backed up\n",
            "Processed 2022_11_15_14_06_46-AGGP018094HO.txt: 1 lines removed, original backed up\n",
            "Processed 2022_11_14_09_10_37-LANP012184HO.txt: 1 lines removed, original backed up\n",
            "Processed 2022_10_27_14_51_45-AGGP018102HO.txt: 1 lines removed, original backed up\n",
            "Processed 2022_11_09_11_07_34-STGP030092HO.txt: 1 lines removed, original backed up\n",
            "Processed 2022_11_16_15_11_04-GLIP038159HO.txt: 1 lines removed, original backed up\n",
            "Processed 2022_11_14_11_20_39-LANP012405HO.txt: 1 lines removed, original backed up\n",
            "Processed 2022_11_01_15_50_58-DTPP001013HO.txt: 1 lines removed, original backed up\n",
            "Processed 2022_11_07_10_26_18-KTMP021163HO.txt: 1 lines removed, original backed up\n",
            "Processed 2022_12_12_11_09_47-NBHP014033HO.txt: 2 lines removed, original backed up\n",
            "Processed 2022_11_02_14_35_01-DLKP035042HO.txt: 1 lines removed, original backed up\n",
            "Processed 2022_11_02_09_17_12-YBIP012112HO.txt: 1 lines removed, original backed up\n",
            "Processed 2022_11_08_14_33_23-TNHP007376HO.txt: 2 lines removed, original backed up\n",
            "Processed 2022_11_19_11_13_47-DNGP128199HO.txt: 1 lines removed, original backed up\n",
            "Processed 2022_11_08_15_36_36-BRUP040352HO.txt: 2 lines removed, original backed up\n",
            "Processed 2022_11_08_10_36_37-KTMP021158HO.txt: 1 lines removed, original backed up\n",
            "Processed 2022_11_10_09_03_18-BGGP040241HO.txt: 1 lines removed, original backed up\n",
            "Processed 2022_11_02_14_39_28-GLIP032281HO.txt: 1 lines removed, original backed up\n",
            "Processed 2022_11_07_13_34_15-BDGP059486HO.txt: 1 lines removed, original backed up\n",
            "Processed 2022_10_27_10_32_07-AGGP045231HO.txt: 1 lines removed, original backed up\n",
            "Processed 2022_11_08_11_21_23-STGP029100HO.txt: 1 lines removed, original backed up\n",
            "Processed 2022_11_02_09_51_51-QNIP022103HO.txt: 1 lines removed, original backed up\n",
            "Processed 2022_11_09_15_30_48-QTIP020048HO.txt: 1 lines removed, original backed up\n",
            "Processed 2022_11_10_09_53_00-AGGP054258HO.txt: 1 lines removed, original backed up\n",
            "Processed 2022_11_07_08_18_01-STGP019268HO.txt: 1 lines removed, original backed up\n",
            "Processed 2022_11_01_10_30_26-LANP012470HO.txt: 1 lines removed, original backed up\n",
            "Processed 2022_11_02_14_52_10-GLIP032281HO.txt: 1 lines removed, original backed up\n",
            "Processed 2022_11_14_08_33_39-LANP012432HO.txt: 1 lines removed, original backed up\n",
            "Processed 2022_11_02_16_38_25-KTMP007315HO.txt: 1 lines removed, original backed up\n",
            "Processed 2022_11_02_15_43_58-KTMP007312HO.txt: 1 lines removed, original backed up\n",
            "Processed 2022_10_31_09_49_23-AGGP045015HO.txt: 1 lines removed, original backed up\n",
            "Processed 2022_11_24_11_32_08-YBIP008171HO.txt: 2 lines removed, original backed up\n",
            "Processed 2022_11_14_13_38_23-BLUP009251HO.txt: 1 lines removed, original backed up\n",
            "Processed 2022_11_07_12_03_37-AGGP018204HO.txt: 1 lines removed, original backed up\n",
            "Processed 2022_11_15_16_13_30-HNIP297028HO.txt: 2 lines removed, original backed up\n",
            "Processed 2022_11_17_11_06_34-GLIP038272HO.txt: 1 lines removed, original backed up\n",
            "Processed 2022_11_07_11_56_28-AGGP018204HO.txt: 1 lines removed, original backed up\n",
            "Processed 2022_11_18_14_22_54-STGP031069HO.txt: 1 lines removed, original backed up\n",
            "Processed 2022_11_15_11_02_58-LANP030349HU.txt: 1 lines removed, original backed up\n",
            "Processed 2022_11_04_09_02_19-GLIP025199HO.txt: 1 lines removed, original backed up\n",
            "Processed 2022_11_09_14_11_02-AGGP054270HO.txt: 1 lines removed, original backed up\n",
            "Processed 2022_11_07_14_15_17-GLIP015215HO.txt: 1 lines removed, original backed up\n",
            "Processed 2022_11_14_14_06_10-HDGP008093HO.txt: 1 lines removed, original backed up\n",
            "Processed 2022_11_02_09_58_19-DLKP035047HO.txt: 1 lines removed, original backed up\n",
            "Processed 2022_11_03_08_42_50-DNIP106463HO.txt: 1 lines removed, original backed up\n",
            "Processed 2022_11_05_10_55_01-KGGP002208HO.txt: 1 lines removed, original backed up\n",
            "Processed 2022_11_07_12_01_08-AGGP018204HO.txt: 1 lines removed, original backed up\n",
            "Processed 2022_11_01_14_08_02-DLKP035001HO.txt: 1 lines removed, original backed up\n",
            "Processed 2022_11_14_10_23_55-KTMP021124HO.txt: 1 lines removed, original backed up\n",
            "Processed 2022_11_03_09_40_05-DLKP035019HO.txt: 1 lines removed, original backed up\n",
            "Processed 2022_10_29_09_32_25-QNMP001162HO.txt: 3 lines removed, original backed up\n",
            "Processed 2022_11_19_16_47_34-TGGP031212HO.txt: 1 lines removed, original backed up\n",
            "Processed 2022_11_03_14_45_23-GLIP025205HO.txt: 1 lines removed, original backed up\n",
            "Processed 2022_11_17_14_53_59-NBHP013149HO.txt: 2 lines removed, original backed up\n",
            "Processed 2022_10_28_10_56_14-QNIP027007HO.txt: 1 lines removed, original backed up\n",
            "Processed 2022_11_15_10_50_52-AGGP052178HO.txt: 1 lines removed, original backed up\n",
            "Processed 2022_11_09_14_12_54-AGGP054270HO.txt: 1 lines removed, original backed up\n",
            "Processed 2022_11_14_14_05_51-GLIP025143HO.txt: 1 lines removed, original backed up\n",
            "Processed 2022_11_10_10_33_34-AGGP052224HO.txt: 1 lines removed, original backed up\n",
            "Processed 2022_11_04_10_08_55-KTMP021164HO.txt: 1 lines removed, original backed up\n",
            "Processed 2022_11_01_10_08_08-LANP012473HO.txt: 2 lines removed, original backed up\n",
            "Processed 2022_11_09_09_38_25-HNIP204131HO.txt: 2 lines removed, original backed up\n",
            "Processed 2022_10_28_09_06_58-KTMP007346HO.txt: 1 lines removed, original backed up\n",
            "Processed 2022_10_27_11_04_52-AGGP018101HO.txt: 1 lines removed, original backed up\n",
            "Processed 2022_11_07_11_07_11-AGGP023299HO.txt: 1 lines removed, original backed up\n",
            "Processed 2022_11_14_11_11_00-CTOP036437HO.txt: 1 lines removed, original backed up\n",
            "Processed 2022_11_03_10_07_44-DLKP035066HO.txt: 1 lines removed, original backed up\n",
            "Processed 2022_11_19_08_53_38-DNIP106460HO.txt: 1 lines removed, original backed up\n",
            "Processed 2022_11_15_09_42_56-LANP029340HO.txt: 1 lines removed, original backed up\n",
            "Processed 2022_11_09_14_18_34-AGGP054270HO.txt: 1 lines removed, original backed up\n",
            "Processed 2022_11_17_16_44_37-DNGP052032HO.txt: 1 lines removed, original backed up\n",
            "Processed 2022_11_05_08_39_39-QNIP028100HO.txt: 1 lines removed, original backed up\n",
            "Processed 2022_11_04_10_40_45-DNIP090228HO.txt: 1 lines removed, original backed up\n",
            "Processed 2022_11_11_14_38_35-LDGP029038HO.txt: 1 lines removed, original backed up\n",
            "Processed 2022_11_14_17_07_11-GLIP025146HO.txt: 1 lines removed, original backed up\n",
            "Processed 2022_11_07_10_00_42-KTMP021169HO.txt: 1 lines removed, original backed up\n",
            "Processed 2022_11_10_11_14_50-DNIP094148HO.txt: 1 lines removed, original backed up\n",
            "Processed 2022_11_26_14_49_03-QNHP056146HO.txt: 1 lines removed, original backed up\n",
            "Processed 2022_11_01_08_36_13-LANP012463HO.txt: 1 lines removed, original backed up\n",
            "Processed 2022_11_07_10_28_42-STGP019038HO.txt: 1 lines removed, original backed up\n",
            "Processed 2022_12_09_09_57_17-HDGP004064HO.txt: 1 lines removed, original backed up\n",
            "Processed 2022_11_07_08_58_06-KTMP021167HO.txt: 1 lines removed, original backed up\n",
            "Processed 2022_11_05_08_49_47-QNIP028101HO.txt: 1 lines removed, original backed up\n",
            "Processed 2022_11_15_11_25_43-AGGP053177HO.txt: 1 lines removed, original backed up\n",
            "Processed 2022_11_19_10_49_49-DTPP025112HO.txt: 1 lines removed, original backed up\n",
            "Processed 2023_01_04_11_02_25-LSNP021123HO.txt: 1 lines removed, original backed up\n",
            "Processed 2022_11_16_16_16_32-BPCP002364HO.txt: 1 lines removed, original backed up\n",
            "Processed 2022_11_08_14_19_52-TNHP007376HO.txt: 1 lines removed, original backed up\n",
            "Processed 2022_11_08_11_54_59-STGP029101HO.txt: 1 lines removed, original backed up\n",
            "Processed 2022_11_01_09_23_02-LANP012192HO.txt: 1 lines removed, original backed up\n",
            "Processed 2022_10_27_10_35_27-AGGP044199HO.txt: 1 lines removed, original backed up\n",
            "Processed 2022_11_08_16_03_43-STGP028303HO.txt: 1 lines removed, original backed up\n",
            "Processed 2022_11_24_10_48_38-CBGP005131HO.txt: 1 lines removed, original backed up\n",
            "Processed 2022_11_12_09_25_48-LANP029285HU.txt: 1 lines removed, original backed up\n",
            "Processed 2022_10_31_15_56_41-AGGP018272HO.txt: 1 lines removed, original backed up\n",
            "Processed 2022_11_15_10_51_56-BPCP001506HO.txt: 1 lines removed, original backed up\n",
            "Processed 2022_11_14_10_16_49-CTOP036433HO.txt: 1 lines removed, original backed up\n",
            "Processed 2022_11_16_14_57_18-BPCP002390HO.txt: 1 lines removed, original backed up\n",
            "Processed 2022_11_16_15_44_11-BPCP002370HO.txt: 1 lines removed, original backed up\n",
            "Processed 2022_11_15_16_47_47-LDGP029058HO.txt: 1 lines removed, original backed up\n",
            "Processed 2022_10_28_14_34_48-QNIP027006HO.txt: 1 lines removed, original backed up\n",
            "Processed 2022_11_11_11_06_05-DNIP109300HO.txt: 1 lines removed, original backed up\n",
            "Processed 2022_11_16_09_55_10-HGGP004222HO.txt: 1 lines removed, original backed up\n",
            "Processed 2022_11_19_11_52_17-HGGP020108HO.txt: 1 lines removed, original backed up\n",
            "Processed 2022_11_02_16_31_45-GLIP032274HO.txt: 1 lines removed, original backed up\n",
            "Processed 2022_11_01_13_58_32-QTIP021003HO.txt: 1 lines removed, original backed up\n",
            "Processed 2022_11_01_15_44_24-DTPP001013HO.txt: 1 lines removed, original backed up\n",
            "Processed 2022_11_02_17_35_04-GLIP032277HO.txt: 1 lines removed, original backed up\n",
            "Processed 2022_11_15_10_24_47-LANP012412HO.txt: 1 lines removed, original backed up\n",
            "Processed 2022_11_19_15_16_19-DNGP128206HO.txt: 1 lines removed, original backed up\n",
            "Processed 2022_11_04_08_35_30-QNIP028100HO.txt: 1 lines removed, original backed up\n",
            "Processed 2022_11_02_14_48_45-GLIP032281HO.txt: 1 lines removed, original backed up\n",
            "Processed 2022_11_07_14_22_03-GLIP015215HO.txt: 1 lines removed, original backed up\n",
            "Processed 2022_11_16_16_10_33-LANP029176HO.txt: 1 lines removed, original backed up\n",
            "Processed 2022_11_19_11_30_04-BPCP008011HO.txt: 1 lines removed, original backed up\n",
            "Processed 2022_11_04_09_48_45-QNIP028102HO.txt: 1 lines removed, original backed up\n",
            "Processed 2022_11_07_11_45_23-LANP026137HO.txt: 1 lines removed, original backed up\n",
            "Processed 2022_11_18_09_57_09-HPGP061140HO.txt: 2 lines removed, original backed up\n",
            "Processed 2022_11_01_15_36_53-CTOP020125HO.txt: 1 lines removed, original backed up\n",
            "Total files processed: 11226\n"
          ]
        }
      ]
    },
    {
      "cell_type": "markdown",
      "source": [
        "### From json, remove ids that are not in label files, then save to a new json"
      ],
      "metadata": {
        "id": "blz7ltl1xJu1"
      }
    },
    {
      "cell_type": "code",
      "source": [
        "with open(paths['raw_classes'], 'r') as f:\n",
        "    new_class_dict = json.load(f)\n",
        "\n",
        "for id in class_ids_from_json_not_in_label_files:\n",
        "    new_class_dict.pop(str(id))\n",
        "try:\n",
        "    with open(paths['new_raw_classes'], 'w') as f:\n",
        "        json.dump(new_class_dict, f, indent=2)\n",
        "    print(f\"JSON file created: {paths['new_raw_classes']}\")\n",
        "except Exception as e:\n",
        "    print(f\"Error writing JSON file: {e}\")"
      ],
      "metadata": {
        "colab": {
          "base_uri": "https://localhost:8080/"
        },
        "id": "JCvRoF1DxRZ3",
        "outputId": "f157a73e-fece-4746-d80f-1d8675ca6057"
      },
      "execution_count": 19,
      "outputs": [
        {
          "output_type": "stream",
          "name": "stdout",
          "text": [
            "JSON file created: /content/drive/MyDrive/fiber_optic_box_inspection/Data_INF/inf_raw_classes_v1.0_new.json\n"
          ]
        }
      ]
    },
    {
      "cell_type": "markdown",
      "source": [
        "## Write dataset configuration"
      ],
      "metadata": {
        "id": "mrv3Kb5Ryssw"
      }
    },
    {
      "cell_type": "code",
      "source": [
        "class_names = [new_class_dict[str(id)] if id in class_ids else '' for id in range(list(class_ids)[-1] + 1)]\n",
        "print(\"Class names in order:\", class_names)"
      ],
      "metadata": {
        "colab": {
          "base_uri": "https://localhost:8080/"
        },
        "id": "vIih8Lxb6q5x",
        "outputId": "c2a62364-53ee-425e-ab23-1e51a48647ee"
      },
      "execution_count": 20,
      "outputs": [
        {
          "output_type": "stream",
          "name": "stdout",
          "text": [
            "Class names in order: ['1.0', '1.1', '1.2', '', '1.7', '', '', '2.0', '', '2.3', '3.0', '3.1', '', '', '5.0', '5.1', '6.0', '6.1', '7.0', '7.1', '7.2', '7.3', '', '7.7', '8.0', '8.3', '', '8.5', '9.0', '', '9.4', '', '10.0', '10.1', '11.0', '11.1', '13.0', '13.1', '13.2', '', '', '14.0', '14.1', '14.2', '14.3', '', '', '', '', '', '', '', '', '', '19.0', '19.1', '19.2', '19.3', '19.4', '', '20.0', '20.1', '20.2', '20.3', '', '', '', '23.0', '23.1', '23.2', '24.0', '24.1', '24.3', '26.0', '26.1', '27.0', '27.1', '28.0', '', '', '29.0', '29.1', '29.2', '29.4', '30.0', '30.1', '32.0', '32.1', '32.2', '', '', '', '', '35.0', '35.1', '', '', '37.0', '37.1', '37.3', '37.4', '38.0', '38.1', '39.0', '39.1', '40.0', '40.1', '40.2', '41.0', '41.1', '41.2', '42.0', '42.1', '43.0', '43.1', '44.0', '44.1', '44.2', '45.0', '45.1', '45.2', '', '46.0', '46.1', '46.3', '46.4', '47.0', '47.1', '47.3', '48.0', '48.2', '49.0', '49.3', '49.4', '50.0', '50.1', '50.2', '51.0', '51.2', '51.3', '52.0', '52.3', '52.5', '53.0', '53.4', '53.5', '54.0', '54.4', '54.5', '55.0', '55.4', '55.5', '56.0', '56.1', '56.2', '56.4', '57.0', '57.1', '57.2', '58.0', '58.1', '58.2', '59.0', '59.1', '59.2', '59.3', '60.0', '60.1', '60.3', '61.0', '61.1', '61.2', '61.4']\n"
          ]
        }
      ]
    },
    {
      "cell_type": "code",
      "execution_count": 21,
      "metadata": {
        "id": "o5lE2SJyTls0"
      },
      "outputs": [],
      "source": [
        "yolo_data_cfg = {\n",
        "    \"train\": local_paths['train_paths'],\n",
        "    \"val\": local_paths['val_paths'],\n",
        "    \"test\": local_paths['test_paths'],\n",
        "    \"nc\": len(class_names),\n",
        "    \"names\": class_names\n",
        "}\n",
        "\n",
        "with open(local_paths['yolo_data_cfg'], \"w\") as f:\n",
        "    yaml.dump(yolo_data_cfg, f, default_flow_style=False, sort_keys=False)"
      ]
    },
    {
      "cell_type": "markdown",
      "source": [
        "## Backup processed files and configurations"
      ],
      "metadata": {
        "id": "VSOA9vQqEeRb"
      }
    },
    {
      "cell_type": "code",
      "source": [
        "def compress_folders_to_tar_gz(folders, output_tar_gz):\n",
        "    try:\n",
        "        with tarfile.open(output_tar_gz, \"w:gz\") as tar:\n",
        "            for folder in folders:\n",
        "                if not os.path.isdir(folder):\n",
        "                    print(f\"Error: '{folder}' is not a directory or does not exist.\")\n",
        "                    continue\n",
        "                folder_name = os.path.basename(folder)\n",
        "                tar.add(folder, arcname=folder_name)\n",
        "                print(f\"Added folder: {folder}\")\n",
        "        print(f\"Created archive: {output_tar_gz}\")\n",
        "        return True\n",
        "    except Exception as e:\n",
        "        print(f\"Error creating archive: {e}\")\n",
        "        return False"
      ],
      "metadata": {
        "id": "X695jTWXEjnq"
      },
      "execution_count": null,
      "outputs": []
    },
    {
      "cell_type": "code",
      "source": [
        "folders_to_compress = [local_paths['data_label_dir'], local_paths['label_files_backup_dir']]\n",
        "compress_folders_to_tar_gz(folders_to_compress, local_paths['processed_data_label_compressed'])"
      ],
      "metadata": {
        "colab": {
          "base_uri": "https://localhost:8080/"
        },
        "id": "WUeYZFknElSb",
        "outputId": "e4cd6bfd-685e-49df-d365-f8c37ffe4479"
      },
      "execution_count": null,
      "outputs": [
        {
          "output_type": "stream",
          "name": "stdout",
          "text": [
            "Added folder: /content/dataset/data_label_v2_ALL\n",
            "Added folder: /content/dataset/label_files_backup\n",
            "Created archive: /content/dataset/data_label_ALL_processed.tar.gz\n"
          ]
        },
        {
          "output_type": "execute_result",
          "data": {
            "text/plain": [
              "True"
            ]
          },
          "metadata": {},
          "execution_count": 173
        }
      ]
    },
    {
      "cell_type": "code",
      "source": [
        "def copy_folder_exclude(src_dir, dst_dir, exclude_entries=None):\n",
        "    if exclude_entries is None:\n",
        "        exclude_entries = set()\n",
        "\n",
        "    try:\n",
        "        def ignore_func(directory, contents):\n",
        "            return [entry for entry in contents if entry in exclude_entries]\n",
        "\n",
        "        shutil.copytree(src_dir, dst_dir, ignore=ignore_func, dirs_exist_ok=True)\n",
        "        print(f\"Folder copied to: {dst_dir}\")\n",
        "        return True\n",
        "    except FileNotFoundError:\n",
        "        print(f\"Error: Source directory '{src_dir}' not found.\")\n",
        "        return False\n",
        "    except FileExistsError:\n",
        "        print(f\"Error: Destination directory '{dst_dir}' already exists and cannot be overwritten.\")\n",
        "        return False\n",
        "    except Exception as e:\n",
        "        print(f\"Error copying folder: {e}\")\n",
        "        return False"
      ],
      "metadata": {
        "id": "n4ycd00kKIzR"
      },
      "execution_count": null,
      "outputs": []
    },
    {
      "cell_type": "code",
      "source": [
        "exclude = {\n",
        "    os.path.splitext(os.path.basename(local_paths['data_label_dir']))[0],\n",
        "    os.path.splitext(os.path.basename(local_paths['label_files_backup_dir']))[0]}\n",
        "copy_folder_exclude(local_paths['dataset_dir'], paths['dataset_dir'], exclude)"
      ],
      "metadata": {
        "colab": {
          "base_uri": "https://localhost:8080/"
        },
        "id": "v4BfyuviKfj3",
        "outputId": "7bd1b5e8-2dd6-49ae-da17-fb4f244d05cb"
      },
      "execution_count": null,
      "outputs": [
        {
          "output_type": "stream",
          "name": "stdout",
          "text": [
            "Folder copied to: /content/drive/MyDrive/fiber_optic_box_inspection/dataset\n"
          ]
        },
        {
          "output_type": "execute_result",
          "data": {
            "text/plain": [
              "True"
            ]
          },
          "metadata": {},
          "execution_count": 199
        }
      ]
    },
    {
      "cell_type": "markdown",
      "source": [
        "## something else"
      ],
      "metadata": {
        "id": "QILTQrAmeB8H"
      }
    },
    {
      "cell_type": "code",
      "source": [
        "def get_distinct_filenames(directory):\n",
        "    unique_names = set()\n",
        "    try:\n",
        "        for root, _, files in os.walk(directory):\n",
        "            for f in files:\n",
        "                name, _ = os.path.splitext(f)\n",
        "                unique_names.add(name)\n",
        "\n",
        "        return unique_names\n",
        "    except Exception as e:\n",
        "        print(f\"Error scanning directory {directory}: {e}\")\n",
        "        return set()\n",
        "\n",
        "distinct_names = get_distinct_filenames(local_paths['data_label_dir'])"
      ],
      "metadata": {
        "id": "jKeKOh66HptW"
      },
      "execution_count": null,
      "outputs": []
    },
    {
      "cell_type": "code",
      "source": [
        "for name in distinct_names:\n",
        "    image = f'{name}.jpg'\n",
        "    label = f'{name}.txt'\n",
        "    shutil.move(os.path.join(local_paths['data_label_dir'], image), local_paths['images'])\n",
        "    shutil.move(os.path.join(local_paths['data_label_dir'], label), local_paths['labels'])"
      ],
      "metadata": {
        "id": "VP12LgpHIEAv"
      },
      "execution_count": null,
      "outputs": []
    },
    {
      "cell_type": "code",
      "source": [
        "with open(local_paths['all_paths'], 'r') as f:\n",
        "    content = f.read()\n",
        "new_content = content.replace('data_label_v2_ALL', 'images')\n",
        "with open(local_paths['all_paths'], 'w') as f:\n",
        "    f.write(new_content)\n",
        "del content, new_content\n",
        "\n",
        "with open(local_paths['train_paths'], 'r') as f:\n",
        "    content = f.read()\n",
        "new_content = content.replace('data_label_v2_ALL', 'images')\n",
        "with open(local_paths['train_paths'], 'w') as f:\n",
        "    f.write(new_content)\n",
        "del content, new_content\n",
        "\n",
        "with open(local_paths['val_paths'], 'r') as f:\n",
        "    content = f.read()\n",
        "new_content = content.replace('data_label_v2_ALL', 'images')\n",
        "with open(local_paths['val_paths'], 'w') as f:\n",
        "    f.write(new_content)\n",
        "del content, new_content\n",
        "\n",
        "with open(local_paths['test_paths'], 'r') as f:\n",
        "    content = f.read()\n",
        "new_content = content.replace('data_label_v2_ALL', 'images')\n",
        "with open(local_paths['test_paths'], 'w') as f:\n",
        "    f.write(new_content)\n",
        "del content, new_content"
      ],
      "metadata": {
        "id": "1S__W0LRI65B"
      },
      "execution_count": null,
      "outputs": []
    },
    {
      "cell_type": "markdown",
      "source": [
        "# Model Training"
      ],
      "metadata": {
        "id": "05mhf3nfzBjS"
      }
    },
    {
      "cell_type": "markdown",
      "source": [
        "## GPU check"
      ],
      "metadata": {
        "id": "-m71MKuxzDHJ"
      }
    },
    {
      "cell_type": "code",
      "source": [
        "!nvidia-smi"
      ],
      "metadata": {
        "colab": {
          "base_uri": "https://localhost:8080/"
        },
        "id": "igA3CYns5JxG",
        "outputId": "9457cd34-b2c1-4c4b-e745-d1b7bc09fdf2"
      },
      "execution_count": null,
      "outputs": [
        {
          "output_type": "stream",
          "name": "stdout",
          "text": [
            "Mon Jun 23 11:38:33 2025       \n",
            "+-----------------------------------------------------------------------------------------+\n",
            "| NVIDIA-SMI 550.54.15              Driver Version: 550.54.15      CUDA Version: 12.4     |\n",
            "|-----------------------------------------+------------------------+----------------------+\n",
            "| GPU  Name                 Persistence-M | Bus-Id          Disp.A | Volatile Uncorr. ECC |\n",
            "| Fan  Temp   Perf          Pwr:Usage/Cap |           Memory-Usage | GPU-Util  Compute M. |\n",
            "|                                         |                        |               MIG M. |\n",
            "|=========================================+========================+======================|\n",
            "|   0  NVIDIA L4                      Off |   00000000:00:03.0 Off |                    0 |\n",
            "| N/A   41C    P8             12W /   72W |       0MiB /  23034MiB |      0%      Default |\n",
            "|                                         |                        |                  N/A |\n",
            "+-----------------------------------------+------------------------+----------------------+\n",
            "                                                                                         \n",
            "+-----------------------------------------------------------------------------------------+\n",
            "| Processes:                                                                              |\n",
            "|  GPU   GI   CI        PID   Type   Process name                              GPU Memory |\n",
            "|        ID   ID                                                               Usage      |\n",
            "|=========================================================================================|\n",
            "|  No running processes found                                                             |\n",
            "+-----------------------------------------------------------------------------------------+\n"
          ]
        }
      ]
    },
    {
      "cell_type": "code",
      "source": [
        "if torch.cuda.is_available():\n",
        "    device = torch.device(\"cuda\")\n",
        "    print(f\"GPU is available! Using device: {device}\")\n",
        "    print(f\"GPU Name: {torch.cuda.get_device_name(0)}\")\n",
        "    print(f\"Number of GPUs: {torch.cuda.device_count()}\")\n",
        "    print(f\"Total Memory: {torch.cuda.get_device_properties(0).total_memory / 1e9:.2f} GB\")\n",
        "else:\n",
        "    device = torch.device(\"cpu\")\n",
        "    print(\"No GPU available, using CPU.\")\n"
      ],
      "metadata": {
        "colab": {
          "base_uri": "https://localhost:8080/"
        },
        "id": "2xvCTl2j5XIE",
        "outputId": "4177b49d-d630-4026-ec9e-9c1168819013"
      },
      "execution_count": null,
      "outputs": [
        {
          "output_type": "stream",
          "name": "stdout",
          "text": [
            "GPU is available! Using device: cuda\n",
            "GPU Name: NVIDIA L4\n",
            "Number of GPUs: 1\n",
            "Total Memory: 23.80 GB\n"
          ]
        }
      ]
    },
    {
      "cell_type": "markdown",
      "source": [
        "## YOLO"
      ],
      "metadata": {
        "id": "95Ae3oNlGoFl"
      }
    },
    {
      "cell_type": "markdown",
      "source": [
        "### YOLO default augmentations"
      ],
      "metadata": {
        "id": "SHF0-EOWzIq1"
      }
    },
    {
      "cell_type": "markdown",
      "source": [
        "#### train"
      ],
      "metadata": {
        "id": "InXvz-ItDBeb"
      }
    },
    {
      "cell_type": "code",
      "execution_count": null,
      "metadata": {
        "colab": {
          "base_uri": "https://localhost:8080/"
        },
        "id": "4r5uG6Q65yE1",
        "outputId": "63aa4dd7-38a7-41ca-c5c3-8bbfb2f4524d",
        "collapsed": true
      },
      "outputs": [
        {
          "output_type": "stream",
          "name": "stdout",
          "text": [
            "Downloading https://github.com/ultralytics/assets/releases/download/v8.3.0/yolov8m.pt to 'yolov8m.pt'...\n"
          ]
        },
        {
          "output_type": "stream",
          "name": "stderr",
          "text": [
            "100%|██████████| 49.7M/49.7M [00:01<00:00, 39.1MB/s]\n"
          ]
        },
        {
          "output_type": "stream",
          "name": "stdout",
          "text": [
            "Ultralytics 8.3.158 🚀 Python-3.11.13 torch-2.6.0+cu124 CUDA:0 (NVIDIA L4, 22693MiB)\n",
            "\u001b[34m\u001b[1mengine/trainer: \u001b[0magnostic_nms=False, amp=True, augment=False, auto_augment=randaugment, batch=25, bgr=0.0, box=7.5, cache=disk, cfg=None, classes=None, close_mosaic=10, cls=0.5, conf=None, copy_paste=0.0, copy_paste_mode=flip, cos_lr=False, cutmix=0.0, data=/content/dataset/data.yaml, degrees=0.0, deterministic=True, device=0, dfl=1.5, dnn=False, dropout=0.0, dynamic=False, embed=None, epochs=300, erasing=0.4, exist_ok=False, fliplr=0.5, flipud=0.0, format=torchscript, fraction=1.0, freeze=None, half=False, hsv_h=0.015, hsv_s=0.7, hsv_v=0.4, imgsz=896, int8=False, iou=0.7, keras=False, kobj=1.0, line_width=None, lr0=0.01, lrf=0.01, mask_ratio=4, max_det=300, mixup=0.0, mode=train, model=yolov8m.pt, momentum=0.937, mosaic=1.0, multi_scale=False, name=v8m_mni1.0_batch25_imgsz896_2, nbs=64, nms=False, opset=None, optimize=False, optimizer=auto, overlap_mask=True, patience=10, perspective=0.0, plots=True, pose=12.0, pretrained=True, profile=False, project=/content/drive/MyDrive/fiber_optic_box_inspection/runs_yolo, rect=False, resume=False, retina_masks=False, save=True, save_conf=True, save_crop=False, save_dir=/content/drive/MyDrive/fiber_optic_box_inspection/runs_yolo/v8m_mni1.0_batch25_imgsz896_2, save_frames=False, save_json=False, save_period=5, save_txt=False, scale=0.5, seed=0, shear=0.0, show=False, show_boxes=True, show_conf=True, show_labels=True, simplify=True, single_cls=False, source=None, split=val, stream_buffer=False, task=detect, time=None, tracker=botsort.yaml, translate=0.1, val=True, verbose=True, vid_stride=1, visualize=False, warmup_bias_lr=0.1, warmup_epochs=3.0, warmup_momentum=0.8, weight_decay=0.0005, workers=16, workspace=None\n",
            "Downloading https://ultralytics.com/assets/Arial.ttf to '/root/.config/Ultralytics/Arial.ttf'...\n"
          ]
        },
        {
          "output_type": "stream",
          "name": "stderr",
          "text": [
            "100%|██████████| 755k/755k [00:00<00:00, 93.8MB/s]"
          ]
        },
        {
          "output_type": "stream",
          "name": "stdout",
          "text": [
            "Overriding model.yaml nc=80 with nc=173\n",
            "\n",
            "                   from  n    params  module                                       arguments                     \n",
            "  0                  -1  1      1392  ultralytics.nn.modules.conv.Conv             [3, 48, 3, 2]                 \n",
            "  1                  -1  1     41664  ultralytics.nn.modules.conv.Conv             [48, 96, 3, 2]                \n",
            "  2                  -1  2    111360  ultralytics.nn.modules.block.C2f             [96, 96, 2, True]             \n",
            "  3                  -1  1    166272  ultralytics.nn.modules.conv.Conv             [96, 192, 3, 2]               \n",
            "  4                  -1  4    813312  ultralytics.nn.modules.block.C2f             [192, 192, 4, True]           \n",
            "  5                  -1  1    664320  ultralytics.nn.modules.conv.Conv             [192, 384, 3, 2]              \n",
            "  6                  -1  4   3248640  ultralytics.nn.modules.block.C2f             [384, 384, 4, True]           \n",
            "  7                  -1  1   1991808  ultralytics.nn.modules.conv.Conv             [384, 576, 3, 2]              \n",
            "  8                  -1  2   3985920  ultralytics.nn.modules.block.C2f             [576, 576, 2, True]           \n",
            "  9                  -1  1    831168  ultralytics.nn.modules.block.SPPF            [576, 576, 5]                 \n",
            " 10                  -1  1         0  torch.nn.modules.upsampling.Upsample         [None, 2, 'nearest']          \n",
            " 11             [-1, 6]  1         0  ultralytics.nn.modules.conv.Concat           [1]                           \n",
            " 12                  -1  2   1993728  ultralytics.nn.modules.block.C2f             [960, 384, 2]                 \n",
            " 13                  -1  1         0  torch.nn.modules.upsampling.Upsample         [None, 2, 'nearest']          \n",
            " 14             [-1, 4]  1         0  ultralytics.nn.modules.conv.Concat           [1]                           \n",
            " 15                  -1  2    517632  ultralytics.nn.modules.block.C2f             [576, 192, 2]                 \n",
            " 16                  -1  1    332160  ultralytics.nn.modules.conv.Conv             [192, 192, 3, 2]              \n",
            " 17            [-1, 12]  1         0  ultralytics.nn.modules.conv.Concat           [1]                           \n",
            " 18                  -1  2   1846272  ultralytics.nn.modules.block.C2f             [576, 384, 2]                 \n",
            " 19                  -1  1   1327872  ultralytics.nn.modules.conv.Conv             [384, 384, 3, 2]              \n"
          ]
        },
        {
          "output_type": "stream",
          "name": "stderr",
          "text": [
            "\n"
          ]
        },
        {
          "output_type": "stream",
          "name": "stdout",
          "text": [
            " 20             [-1, 9]  1         0  ultralytics.nn.modules.conv.Concat           [1]                           \n",
            " 21                  -1  2   4207104  ultralytics.nn.modules.block.C2f             [960, 576, 2]                 \n",
            " 22        [15, 18, 21]  1   3875863  ultralytics.nn.modules.head.Detect           [173, [192, 384, 576]]        \n",
            "Model summary: 169 layers, 25,956,487 parameters, 25,956,471 gradients, 79.6 GFLOPs\n",
            "\n",
            "Transferred 469/475 items from pretrained weights\n",
            "Freezing layer 'model.22.dfl.conv.weight'\n",
            "\u001b[34m\u001b[1mAMP: \u001b[0mrunning Automatic Mixed Precision (AMP) checks...\n",
            "Downloading https://github.com/ultralytics/assets/releases/download/v8.3.0/yolo11n.pt to 'yolo11n.pt'...\n"
          ]
        },
        {
          "output_type": "stream",
          "name": "stderr",
          "text": [
            "100%|██████████| 5.35M/5.35M [00:00<00:00, 214MB/s]\n"
          ]
        },
        {
          "output_type": "stream",
          "name": "stdout",
          "text": [
            "\u001b[34m\u001b[1mAMP: \u001b[0mchecks passed ✅\n",
            "\u001b[34m\u001b[1mtrain: \u001b[0mFast image access ✅ (ping: 0.0±0.0 ms, read: 2644.4±933.2 MB/s, size: 101.7 KB)\n"
          ]
        },
        {
          "output_type": "stream",
          "name": "stderr",
          "text": [
            "\u001b[34m\u001b[1mtrain: \u001b[0mScanning /content/dataset/data_label_v2_ALL... 7858 images, 462 backgrounds, 0 corrupt: 100%|██████████| 7858/7858 [00:05<00:00, 1452.84it/s]"
          ]
        },
        {
          "output_type": "stream",
          "name": "stdout",
          "text": [
            "\u001b[34m\u001b[1mtrain: \u001b[0m/content/dataset/data_label_v2_ALL/2022_11_03_15_29_32-HNIP456107HO.jpg: 1 duplicate labels removed\n",
            "\u001b[34m\u001b[1mtrain: \u001b[0m/content/dataset/data_label_v2_ALL/2022_11_10_14_59_59-HNIP120595HO.jpg: 1 duplicate labels removed\n",
            "\u001b[34m\u001b[1mtrain: \u001b[0m/content/dataset/data_label_v2_ALL/2022_11_11_09_10_09-PYNP016064HO.jpg: 1 duplicate labels removed\n",
            "\u001b[34m\u001b[1mtrain: \u001b[0m/content/dataset/data_label_v2_ALL/2022_11_11_09_59_56-BGGP089061HO.jpg: 1 duplicate labels removed\n",
            "\u001b[34m\u001b[1mtrain: \u001b[0m/content/dataset/data_label_v2_ALL/2022_11_14_16_04_38-HNIP548102HO.jpg: 1 duplicate labels removed\n",
            "\u001b[34m\u001b[1mtrain: \u001b[0m/content/dataset/data_label_v2_ALL/2022_11_16_08_43_48-HDGP141064HO.jpg: 1 duplicate labels removed\n",
            "\u001b[34m\u001b[1mtrain: \u001b[0m/content/dataset/data_label_v2_ALL/2022_11_16_15_40_51-HBHP012080HO.jpg: 1 duplicate labels removed\n",
            "\u001b[34m\u001b[1mtrain: \u001b[0m/content/dataset/data_label_v2_ALL/2022_12_06_15_18_24-TBHP019033HO.jpg: 1 duplicate labels removed\n",
            "\u001b[34m\u001b[1mtrain: \u001b[0m/content/dataset/data_label_v2_ALL/2022_12_07_16_39_07-QNHP088205HO.jpg: 1 duplicate labels removed\n",
            "\u001b[34m\u001b[1mtrain: \u001b[0m/content/dataset/data_label_v2_ALL/2022_12_08_10_14_33-HYNP074125HO.jpg: 1 duplicate labels removed\n",
            "\u001b[34m\u001b[1mtrain: \u001b[0m/content/dataset/data_label_v2_ALL/2022_12_09_10_16_40-TBHP044214HO.jpg: 1 duplicate labels removed\n",
            "\u001b[34m\u001b[1mtrain: \u001b[0m/content/dataset/data_label_v2_ALL/2022_12_29_09_46_47-HDGP048174HO.jpg: 1 duplicate labels removed\n"
          ]
        },
        {
          "output_type": "stream",
          "name": "stderr",
          "text": [
            "\n"
          ]
        },
        {
          "output_type": "stream",
          "name": "stdout",
          "text": [
            "\u001b[34m\u001b[1mtrain: \u001b[0mNew cache created: /content/dataset/data_label_v2_ALL.cache\n"
          ]
        },
        {
          "output_type": "stream",
          "name": "stderr",
          "text": [
            "\u001b[34m\u001b[1mtrain: \u001b[0mCaching images (17.9GB Disk): 100%|██████████| 7858/7858 [01:09<00:00, 113.27it/s]\n"
          ]
        },
        {
          "output_type": "stream",
          "name": "stdout",
          "text": [
            "\u001b[34m\u001b[1malbumentations: \u001b[0mBlur(p=0.01, blur_limit=(3, 7)), MedianBlur(p=0.01, blur_limit=(3, 7)), ToGray(p=0.01, method='weighted_average', num_output_channels=3), CLAHE(p=0.01, clip_limit=(1.0, 4.0), tile_grid_size=(8, 8))\n",
            "\u001b[34m\u001b[1mval: \u001b[0mFast image access ✅ (ping: 0.0±0.0 ms, read: 648.4±41.5 MB/s, size: 107.9 KB)\n"
          ]
        },
        {
          "output_type": "stream",
          "name": "stderr",
          "text": [
            "\u001b[34m\u001b[1mval: \u001b[0mScanning /content/dataset/data_label_v2_ALL... 1684 images, 100 backgrounds, 0 corrupt: 100%|██████████| 1684/1684 [00:01<00:00, 970.23it/s]"
          ]
        },
        {
          "output_type": "stream",
          "name": "stdout",
          "text": [
            "\u001b[34m\u001b[1mval: \u001b[0m/content/dataset/data_label_v2_ALL/2022_11_21_09_08_32-TNNP069058HO.jpg: 1 duplicate labels removed\n",
            "\u001b[34m\u001b[1mval: \u001b[0m/content/dataset/data_label_v2_ALL/2022_11_21_16_32_02-HBHP012062HO.jpg: 1 duplicate labels removed\n",
            "\u001b[34m\u001b[1mval: \u001b[0mNew cache created: /content/dataset/data_label_v2_ALL.cache\n"
          ]
        },
        {
          "output_type": "stream",
          "name": "stderr",
          "text": [
            "\n",
            "\u001b[34m\u001b[1mval: \u001b[0mCaching images (3.9GB Disk): 100%|██████████| 1684/1684 [00:11<00:00, 148.49it/s]\n"
          ]
        },
        {
          "output_type": "stream",
          "name": "stdout",
          "text": [
            "Plotting labels to /content/drive/MyDrive/fiber_optic_box_inspection/runs_yolo/v8m_mni1.0_batch25_imgsz896_2/labels.jpg... \n",
            "\u001b[34m\u001b[1moptimizer:\u001b[0m 'optimizer=auto' found, ignoring 'lr0=0.01' and 'momentum=0.937' and determining best 'optimizer', 'lr0' and 'momentum' automatically... \n",
            "\u001b[34m\u001b[1moptimizer:\u001b[0m SGD(lr=0.01, momentum=0.9) with parameter groups 77 weight(decay=0.0), 84 weight(decay=0.0005859375000000001), 83 bias(decay=0.0)\n",
            "Image sizes 896 train, 896 val\n",
            "Using 12 dataloader workers\n",
            "Logging results to \u001b[1m/content/drive/MyDrive/fiber_optic_box_inspection/runs_yolo/v8m_mni1.0_batch25_imgsz896_2\u001b[0m\n",
            "Starting training for 300 epochs...\n",
            "\n",
            "      Epoch    GPU_mem   box_loss   cls_loss   dfl_loss  Instances       Size\n"
          ]
        },
        {
          "output_type": "stream",
          "name": "stderr",
          "text": [
            "      1/300      20.2G      1.531       2.63      1.605        153        896: 100%|██████████| 315/315 [05:48<00:00,  1.10s/it]\n",
            "                 Class     Images  Instances      Box(P          R      mAP50  mAP50-95): 100%|██████████| 34/34 [00:28<00:00,  1.21it/s]\n"
          ]
        },
        {
          "output_type": "stream",
          "name": "stdout",
          "text": [
            "                   all       1684      17375      0.703      0.405      0.366      0.233\n",
            "\n",
            "      Epoch    GPU_mem   box_loss   cls_loss   dfl_loss  Instances       Size\n"
          ]
        },
        {
          "output_type": "stream",
          "name": "stderr",
          "text": [
            "      2/300      19.2G      1.169      1.162      1.312        157        896: 100%|██████████| 315/315 [05:54<00:00,  1.13s/it]\n",
            "                 Class     Images  Instances      Box(P          R      mAP50  mAP50-95): 100%|██████████| 34/34 [00:25<00:00,  1.35it/s]\n"
          ]
        },
        {
          "output_type": "stream",
          "name": "stdout",
          "text": [
            "                   all       1684      17375      0.668       0.43      0.415       0.27\n",
            "\n",
            "      Epoch    GPU_mem   box_loss   cls_loss   dfl_loss  Instances       Size\n"
          ]
        },
        {
          "output_type": "stream",
          "name": "stderr",
          "text": [
            "      3/300      19.2G      1.189      1.082      1.326        191        896: 100%|██████████| 315/315 [05:39<00:00,  1.08s/it]\n",
            "                 Class     Images  Instances      Box(P          R      mAP50  mAP50-95): 100%|██████████| 34/34 [00:24<00:00,  1.38it/s]\n"
          ]
        },
        {
          "output_type": "stream",
          "name": "stdout",
          "text": [
            "                   all       1684      17375      0.618      0.442      0.407      0.258\n",
            "\n",
            "      Epoch    GPU_mem   box_loss   cls_loss   dfl_loss  Instances       Size\n"
          ]
        },
        {
          "output_type": "stream",
          "name": "stderr",
          "text": [
            "      4/300      19.1G      1.175      1.007      1.318         94        896: 100%|██████████| 315/315 [05:38<00:00,  1.07s/it]\n",
            "                 Class     Images  Instances      Box(P          R      mAP50  mAP50-95): 100%|██████████| 34/34 [00:23<00:00,  1.43it/s]\n"
          ]
        },
        {
          "output_type": "stream",
          "name": "stdout",
          "text": [
            "                   all       1684      17375      0.678       0.45      0.423      0.261\n",
            "\n",
            "      Epoch    GPU_mem   box_loss   cls_loss   dfl_loss  Instances       Size\n"
          ]
        },
        {
          "output_type": "stream",
          "name": "stderr",
          "text": [
            "      5/300        19G       1.15      0.947      1.308        202        896: 100%|██████████| 315/315 [05:38<00:00,  1.07s/it]\n",
            "                 Class     Images  Instances      Box(P          R      mAP50  mAP50-95): 100%|██████████| 34/34 [00:24<00:00,  1.37it/s]\n"
          ]
        },
        {
          "output_type": "stream",
          "name": "stdout",
          "text": [
            "                   all       1684      17375      0.719      0.454      0.441      0.286\n",
            "\n",
            "      Epoch    GPU_mem   box_loss   cls_loss   dfl_loss  Instances       Size\n"
          ]
        },
        {
          "output_type": "stream",
          "name": "stderr",
          "text": [
            "      6/300      19.1G      1.127     0.9061      1.291        189        896: 100%|██████████| 315/315 [05:39<00:00,  1.08s/it]\n",
            "                 Class     Images  Instances      Box(P          R      mAP50  mAP50-95): 100%|██████████| 34/34 [00:24<00:00,  1.36it/s]\n"
          ]
        },
        {
          "output_type": "stream",
          "name": "stdout",
          "text": [
            "                   all       1684      17375      0.693      0.478      0.462      0.298\n",
            "\n",
            "      Epoch    GPU_mem   box_loss   cls_loss   dfl_loss  Instances       Size\n"
          ]
        },
        {
          "output_type": "stream",
          "name": "stderr",
          "text": [
            "      7/300        19G      1.113     0.8792      1.283        150        896: 100%|██████████| 315/315 [05:38<00:00,  1.07s/it]\n",
            "                 Class     Images  Instances      Box(P          R      mAP50  mAP50-95): 100%|██████████| 34/34 [00:24<00:00,  1.39it/s]\n"
          ]
        },
        {
          "output_type": "stream",
          "name": "stdout",
          "text": [
            "                   all       1684      17375      0.698      0.469      0.464      0.296\n",
            "\n",
            "      Epoch    GPU_mem   box_loss   cls_loss   dfl_loss  Instances       Size\n"
          ]
        },
        {
          "output_type": "stream",
          "name": "stderr",
          "text": [
            "      8/300      19.1G      1.098     0.8514      1.274        208        896: 100%|██████████| 315/315 [05:38<00:00,  1.07s/it]\n",
            "                 Class     Images  Instances      Box(P          R      mAP50  mAP50-95): 100%|██████████| 34/34 [00:24<00:00,  1.37it/s]\n"
          ]
        },
        {
          "output_type": "stream",
          "name": "stdout",
          "text": [
            "                   all       1684      17375      0.692       0.48      0.478      0.305\n",
            "\n",
            "      Epoch    GPU_mem   box_loss   cls_loss   dfl_loss  Instances       Size\n"
          ]
        },
        {
          "output_type": "stream",
          "name": "stderr",
          "text": [
            "      9/300      19.2G      1.087      0.831      1.266        203        896: 100%|██████████| 315/315 [05:38<00:00,  1.07s/it]\n",
            "                 Class     Images  Instances      Box(P          R      mAP50  mAP50-95): 100%|██████████| 34/34 [00:23<00:00,  1.44it/s]\n"
          ]
        },
        {
          "output_type": "stream",
          "name": "stdout",
          "text": [
            "                   all       1684      17375       0.68        0.5      0.477      0.312\n",
            "\n",
            "      Epoch    GPU_mem   box_loss   cls_loss   dfl_loss  Instances       Size\n"
          ]
        },
        {
          "output_type": "stream",
          "name": "stderr",
          "text": [
            "     10/300      19.2G      1.074     0.8179      1.265        183        896: 100%|██████████| 315/315 [05:38<00:00,  1.07s/it]\n",
            "                 Class     Images  Instances      Box(P          R      mAP50  mAP50-95): 100%|██████████| 34/34 [00:24<00:00,  1.38it/s]\n"
          ]
        },
        {
          "output_type": "stream",
          "name": "stdout",
          "text": [
            "                   all       1684      17375      0.644      0.503      0.492      0.324\n",
            "\n",
            "      Epoch    GPU_mem   box_loss   cls_loss   dfl_loss  Instances       Size\n"
          ]
        },
        {
          "output_type": "stream",
          "name": "stderr",
          "text": [
            "     11/300      19.2G      1.075     0.8022      1.263        142        896: 100%|██████████| 315/315 [05:38<00:00,  1.07s/it]\n",
            "                 Class     Images  Instances      Box(P          R      mAP50  mAP50-95): 100%|██████████| 34/34 [00:24<00:00,  1.38it/s]\n"
          ]
        },
        {
          "output_type": "stream",
          "name": "stdout",
          "text": [
            "                   all       1684      17375      0.696      0.512      0.499      0.331\n",
            "\n",
            "      Epoch    GPU_mem   box_loss   cls_loss   dfl_loss  Instances       Size\n"
          ]
        },
        {
          "output_type": "stream",
          "name": "stderr",
          "text": [
            "     12/300      19.2G      1.058     0.7894      1.257        103        896: 100%|██████████| 315/315 [05:38<00:00,  1.07s/it]\n",
            "                 Class     Images  Instances      Box(P          R      mAP50  mAP50-95): 100%|██████████| 34/34 [00:23<00:00,  1.44it/s]\n"
          ]
        },
        {
          "output_type": "stream",
          "name": "stdout",
          "text": [
            "                   all       1684      17375      0.698      0.524      0.509      0.334\n",
            "\n",
            "      Epoch    GPU_mem   box_loss   cls_loss   dfl_loss  Instances       Size\n"
          ]
        },
        {
          "output_type": "stream",
          "name": "stderr",
          "text": [
            "     13/300      19.2G      1.056     0.7844      1.255        222        896: 100%|██████████| 315/315 [05:38<00:00,  1.07s/it]\n",
            "                 Class     Images  Instances      Box(P          R      mAP50  mAP50-95): 100%|██████████| 34/34 [00:24<00:00,  1.39it/s]\n"
          ]
        },
        {
          "output_type": "stream",
          "name": "stdout",
          "text": [
            "                   all       1684      17375      0.677      0.516      0.507      0.334\n",
            "\n",
            "      Epoch    GPU_mem   box_loss   cls_loss   dfl_loss  Instances       Size\n"
          ]
        },
        {
          "output_type": "stream",
          "name": "stderr",
          "text": [
            "     14/300      19.1G      1.046      0.767      1.255        111        896: 100%|██████████| 315/315 [05:38<00:00,  1.07s/it]\n",
            "                 Class     Images  Instances      Box(P          R      mAP50  mAP50-95): 100%|██████████| 34/34 [00:24<00:00,  1.39it/s]\n"
          ]
        },
        {
          "output_type": "stream",
          "name": "stdout",
          "text": [
            "                   all       1684      17375      0.722      0.521      0.517       0.34\n",
            "\n",
            "      Epoch    GPU_mem   box_loss   cls_loss   dfl_loss  Instances       Size\n"
          ]
        },
        {
          "output_type": "stream",
          "name": "stderr",
          "text": [
            "     15/300      19.1G      1.037     0.7527      1.243        170        896: 100%|██████████| 315/315 [05:38<00:00,  1.07s/it]\n",
            "                 Class     Images  Instances      Box(P          R      mAP50  mAP50-95): 100%|██████████| 34/34 [00:23<00:00,  1.44it/s]\n"
          ]
        },
        {
          "output_type": "stream",
          "name": "stdout",
          "text": [
            "                   all       1684      17375       0.68      0.529      0.519      0.338\n",
            "\n",
            "      Epoch    GPU_mem   box_loss   cls_loss   dfl_loss  Instances       Size\n"
          ]
        },
        {
          "output_type": "stream",
          "name": "stderr",
          "text": [
            "     16/300      19.1G      1.032     0.7481      1.243        194        896: 100%|██████████| 315/315 [05:38<00:00,  1.07s/it]\n",
            "                 Class     Images  Instances      Box(P          R      mAP50  mAP50-95): 100%|██████████| 34/34 [00:24<00:00,  1.38it/s]\n"
          ]
        },
        {
          "output_type": "stream",
          "name": "stdout",
          "text": [
            "                   all       1684      17375       0.66      0.546      0.524      0.342\n",
            "\n",
            "      Epoch    GPU_mem   box_loss   cls_loss   dfl_loss  Instances       Size\n"
          ]
        },
        {
          "output_type": "stream",
          "name": "stderr",
          "text": [
            "     17/300      19.3G       1.03     0.7396      1.243        201        896: 100%|██████████| 315/315 [05:38<00:00,  1.08s/it]\n",
            "                 Class     Images  Instances      Box(P          R      mAP50  mAP50-95): 100%|██████████| 34/34 [00:24<00:00,  1.38it/s]\n"
          ]
        },
        {
          "output_type": "stream",
          "name": "stdout",
          "text": [
            "                   all       1684      17375      0.652      0.547      0.533      0.352\n",
            "\n",
            "      Epoch    GPU_mem   box_loss   cls_loss   dfl_loss  Instances       Size\n"
          ]
        },
        {
          "output_type": "stream",
          "name": "stderr",
          "text": [
            "     18/300      19.1G      1.023     0.7375      1.234        154        896: 100%|██████████| 315/315 [05:38<00:00,  1.08s/it]\n",
            "                 Class     Images  Instances      Box(P          R      mAP50  mAP50-95): 100%|██████████| 34/34 [00:24<00:00,  1.38it/s]\n"
          ]
        },
        {
          "output_type": "stream",
          "name": "stdout",
          "text": [
            "                   all       1684      17375      0.718      0.529      0.531      0.351\n",
            "\n",
            "      Epoch    GPU_mem   box_loss   cls_loss   dfl_loss  Instances       Size\n"
          ]
        },
        {
          "output_type": "stream",
          "name": "stderr",
          "text": [
            "     19/300      19.1G      1.012     0.7262       1.23        206        896: 100%|██████████| 315/315 [05:38<00:00,  1.07s/it]\n",
            "                 Class     Images  Instances      Box(P          R      mAP50  mAP50-95): 100%|██████████| 34/34 [00:25<00:00,  1.31it/s]\n"
          ]
        },
        {
          "output_type": "stream",
          "name": "stdout",
          "text": [
            "                   all       1684      17375      0.686      0.549      0.539      0.356\n",
            "\n",
            "      Epoch    GPU_mem   box_loss   cls_loss   dfl_loss  Instances       Size\n"
          ]
        },
        {
          "output_type": "stream",
          "name": "stderr",
          "text": [
            "     20/300      19.2G      1.012     0.7228      1.232        153        896: 100%|██████████| 315/315 [05:39<00:00,  1.08s/it]\n",
            "                 Class     Images  Instances      Box(P          R      mAP50  mAP50-95): 100%|██████████| 34/34 [00:23<00:00,  1.43it/s]\n"
          ]
        },
        {
          "output_type": "stream",
          "name": "stdout",
          "text": [
            "                   all       1684      17375      0.712      0.538      0.541      0.353\n",
            "\n",
            "      Epoch    GPU_mem   box_loss   cls_loss   dfl_loss  Instances       Size\n"
          ]
        },
        {
          "output_type": "stream",
          "name": "stderr",
          "text": [
            "     21/300        19G       1.01     0.7163      1.232        121        896: 100%|██████████| 315/315 [05:38<00:00,  1.07s/it]\n",
            "                 Class     Images  Instances      Box(P          R      mAP50  mAP50-95): 100%|██████████| 34/34 [00:24<00:00,  1.38it/s]\n"
          ]
        },
        {
          "output_type": "stream",
          "name": "stdout",
          "text": [
            "                   all       1684      17375      0.675      0.552      0.539      0.359\n",
            "\n",
            "      Epoch    GPU_mem   box_loss   cls_loss   dfl_loss  Instances       Size\n"
          ]
        },
        {
          "output_type": "stream",
          "name": "stderr",
          "text": [
            "     22/300        19G      1.001     0.7092      1.224        190        896: 100%|██████████| 315/315 [05:38<00:00,  1.07s/it]\n",
            "                 Class     Images  Instances      Box(P          R      mAP50  mAP50-95): 100%|██████████| 34/34 [00:24<00:00,  1.37it/s]\n"
          ]
        },
        {
          "output_type": "stream",
          "name": "stdout",
          "text": [
            "                   all       1684      17375      0.723      0.522      0.531      0.351\n",
            "\n",
            "      Epoch    GPU_mem   box_loss   cls_loss   dfl_loss  Instances       Size\n"
          ]
        },
        {
          "output_type": "stream",
          "name": "stderr",
          "text": [
            "     23/300        19G      1.001      0.706      1.225        205        896: 100%|██████████| 315/315 [05:38<00:00,  1.08s/it]\n",
            "                 Class     Images  Instances      Box(P          R      mAP50  mAP50-95): 100%|██████████| 34/34 [00:24<00:00,  1.37it/s]\n"
          ]
        },
        {
          "output_type": "stream",
          "name": "stdout",
          "text": [
            "                   all       1684      17375      0.647      0.547      0.545      0.362\n",
            "\n",
            "      Epoch    GPU_mem   box_loss   cls_loss   dfl_loss  Instances       Size\n"
          ]
        },
        {
          "output_type": "stream",
          "name": "stderr",
          "text": [
            "     24/300        19G     0.9968     0.6981      1.221        157        896: 100%|██████████| 315/315 [05:39<00:00,  1.08s/it]\n",
            "                 Class     Images  Instances      Box(P          R      mAP50  mAP50-95): 100%|██████████| 34/34 [00:24<00:00,  1.37it/s]\n"
          ]
        },
        {
          "output_type": "stream",
          "name": "stdout",
          "text": [
            "                   all       1684      17375      0.696      0.548      0.547      0.361\n",
            "\n",
            "      Epoch    GPU_mem   box_loss   cls_loss   dfl_loss  Instances       Size\n"
          ]
        },
        {
          "output_type": "stream",
          "name": "stderr",
          "text": [
            "     25/300        19G     0.9888     0.6898      1.219        171        896: 100%|██████████| 315/315 [05:39<00:00,  1.08s/it]\n",
            "                 Class     Images  Instances      Box(P          R      mAP50  mAP50-95): 100%|██████████| 34/34 [00:25<00:00,  1.32it/s]\n"
          ]
        },
        {
          "output_type": "stream",
          "name": "stdout",
          "text": [
            "                   all       1684      17375        0.7      0.554      0.555      0.365\n",
            "\n",
            "      Epoch    GPU_mem   box_loss   cls_loss   dfl_loss  Instances       Size\n"
          ]
        },
        {
          "output_type": "stream",
          "name": "stderr",
          "text": [
            "     26/300      19.2G     0.9863     0.6894      1.219        139        896: 100%|██████████| 315/315 [05:39<00:00,  1.08s/it]\n",
            "                 Class     Images  Instances      Box(P          R      mAP50  mAP50-95): 100%|██████████| 34/34 [00:23<00:00,  1.44it/s]\n"
          ]
        },
        {
          "output_type": "stream",
          "name": "stdout",
          "text": [
            "                   all       1684      17375      0.693      0.545      0.546       0.36\n",
            "\n",
            "      Epoch    GPU_mem   box_loss   cls_loss   dfl_loss  Instances       Size\n"
          ]
        },
        {
          "output_type": "stream",
          "name": "stderr",
          "text": [
            "     27/300        19G     0.9792     0.6786      1.211        161        896: 100%|██████████| 315/315 [05:39<00:00,  1.08s/it]\n",
            "                 Class     Images  Instances      Box(P          R      mAP50  mAP50-95): 100%|██████████| 34/34 [00:24<00:00,  1.37it/s]\n"
          ]
        },
        {
          "output_type": "stream",
          "name": "stdout",
          "text": [
            "                   all       1684      17375      0.643      0.565      0.547      0.366\n",
            "\n",
            "      Epoch    GPU_mem   box_loss   cls_loss   dfl_loss  Instances       Size\n"
          ]
        },
        {
          "output_type": "stream",
          "name": "stderr",
          "text": [
            "     28/300      19.1G     0.9769     0.6764      1.213        167        896: 100%|██████████| 315/315 [05:40<00:00,  1.08s/it]\n",
            "                 Class     Images  Instances      Box(P          R      mAP50  mAP50-95): 100%|██████████| 34/34 [00:25<00:00,  1.36it/s]\n"
          ]
        },
        {
          "output_type": "stream",
          "name": "stdout",
          "text": [
            "                   all       1684      17375       0.64      0.569      0.543       0.36\n",
            "\n",
            "      Epoch    GPU_mem   box_loss   cls_loss   dfl_loss  Instances       Size\n"
          ]
        },
        {
          "output_type": "stream",
          "name": "stderr",
          "text": [
            "     29/300      19.1G      0.971      0.669      1.209        185        896: 100%|██████████| 315/315 [05:39<00:00,  1.08s/it]\n",
            "                 Class     Images  Instances      Box(P          R      mAP50  mAP50-95): 100%|██████████| 34/34 [00:23<00:00,  1.44it/s]\n"
          ]
        },
        {
          "output_type": "stream",
          "name": "stdout",
          "text": [
            "                   all       1684      17375      0.666      0.558      0.553       0.37\n",
            "\n",
            "      Epoch    GPU_mem   box_loss   cls_loss   dfl_loss  Instances       Size\n"
          ]
        },
        {
          "output_type": "stream",
          "name": "stderr",
          "text": [
            "     30/300      19.1G     0.9677     0.6639      1.206        206        896: 100%|██████████| 315/315 [05:39<00:00,  1.08s/it]\n",
            "                 Class     Images  Instances      Box(P          R      mAP50  mAP50-95): 100%|██████████| 34/34 [00:24<00:00,  1.36it/s]\n"
          ]
        },
        {
          "output_type": "stream",
          "name": "stdout",
          "text": [
            "                   all       1684      17375      0.678      0.567      0.557      0.371\n",
            "\n",
            "      Epoch    GPU_mem   box_loss   cls_loss   dfl_loss  Instances       Size\n"
          ]
        },
        {
          "output_type": "stream",
          "name": "stderr",
          "text": [
            "     31/300      19.1G     0.9634     0.6572      1.201        149        896: 100%|██████████| 315/315 [05:39<00:00,  1.08s/it]\n",
            "                 Class     Images  Instances      Box(P          R      mAP50  mAP50-95): 100%|██████████| 34/34 [00:24<00:00,  1.37it/s]\n"
          ]
        },
        {
          "output_type": "stream",
          "name": "stdout",
          "text": [
            "                   all       1684      17375      0.703      0.557      0.557       0.37\n",
            "\n",
            "      Epoch    GPU_mem   box_loss   cls_loss   dfl_loss  Instances       Size\n"
          ]
        },
        {
          "output_type": "stream",
          "name": "stderr",
          "text": [
            "     32/300      19.2G     0.9596     0.6585      1.199        207        896: 100%|██████████| 315/315 [05:40<00:00,  1.08s/it]\n",
            "                 Class     Images  Instances      Box(P          R      mAP50  mAP50-95): 100%|██████████| 34/34 [00:24<00:00,  1.36it/s]\n"
          ]
        },
        {
          "output_type": "stream",
          "name": "stdout",
          "text": [
            "                   all       1684      17375      0.635      0.559      0.553      0.368\n",
            "\n",
            "      Epoch    GPU_mem   box_loss   cls_loss   dfl_loss  Instances       Size\n"
          ]
        },
        {
          "output_type": "stream",
          "name": "stderr",
          "text": [
            "     33/300      19.1G     0.9574     0.6471      1.203        171        896: 100%|██████████| 315/315 [05:39<00:00,  1.08s/it]\n",
            "                 Class     Images  Instances      Box(P          R      mAP50  mAP50-95): 100%|██████████| 34/34 [00:24<00:00,  1.36it/s]\n"
          ]
        },
        {
          "output_type": "stream",
          "name": "stdout",
          "text": [
            "                   all       1684      17375       0.66      0.576      0.563      0.374\n",
            "\n",
            "      Epoch    GPU_mem   box_loss   cls_loss   dfl_loss  Instances       Size\n"
          ]
        },
        {
          "output_type": "stream",
          "name": "stderr",
          "text": [
            "     34/300      19.3G     0.9534     0.6471      1.199        261        896: 100%|██████████| 315/315 [05:39<00:00,  1.08s/it]\n",
            "                 Class     Images  Instances      Box(P          R      mAP50  mAP50-95): 100%|██████████| 34/34 [00:24<00:00,  1.37it/s]\n"
          ]
        },
        {
          "output_type": "stream",
          "name": "stdout",
          "text": [
            "                   all       1684      17375      0.699      0.563      0.559      0.369\n",
            "\n",
            "      Epoch    GPU_mem   box_loss   cls_loss   dfl_loss  Instances       Size\n"
          ]
        },
        {
          "output_type": "stream",
          "name": "stderr",
          "text": [
            "     35/300      19.2G     0.9526     0.6482        1.2        245        896: 100%|██████████| 315/315 [05:39<00:00,  1.08s/it]\n",
            "                 Class     Images  Instances      Box(P          R      mAP50  mAP50-95): 100%|██████████| 34/34 [00:25<00:00,  1.35it/s]\n"
          ]
        },
        {
          "output_type": "stream",
          "name": "stdout",
          "text": [
            "                   all       1684      17375      0.662      0.549      0.556      0.369\n",
            "\n",
            "      Epoch    GPU_mem   box_loss   cls_loss   dfl_loss  Instances       Size\n"
          ]
        },
        {
          "output_type": "stream",
          "name": "stderr",
          "text": [
            "     36/300      19.2G     0.9469     0.6415      1.197        216        896: 100%|██████████| 315/315 [05:40<00:00,  1.08s/it]\n",
            "                 Class     Images  Instances      Box(P          R      mAP50  mAP50-95): 100%|██████████| 34/34 [00:23<00:00,  1.44it/s]\n"
          ]
        },
        {
          "output_type": "stream",
          "name": "stdout",
          "text": [
            "                   all       1684      17375      0.703      0.547      0.567      0.377\n",
            "\n",
            "      Epoch    GPU_mem   box_loss   cls_loss   dfl_loss  Instances       Size\n"
          ]
        },
        {
          "output_type": "stream",
          "name": "stderr",
          "text": [
            "     37/300      19.2G     0.9421      0.637      1.192        165        896: 100%|██████████| 315/315 [05:39<00:00,  1.08s/it]\n",
            "                 Class     Images  Instances      Box(P          R      mAP50  mAP50-95): 100%|██████████| 34/34 [00:23<00:00,  1.44it/s]\n"
          ]
        },
        {
          "output_type": "stream",
          "name": "stdout",
          "text": [
            "                   all       1684      17375       0.64      0.579      0.559      0.372\n",
            "\n",
            "      Epoch    GPU_mem   box_loss   cls_loss   dfl_loss  Instances       Size\n"
          ]
        },
        {
          "output_type": "stream",
          "name": "stderr",
          "text": [
            "     38/300        19G     0.9377     0.6334      1.189        164        896: 100%|██████████| 315/315 [05:39<00:00,  1.08s/it]\n",
            "                 Class     Images  Instances      Box(P          R      mAP50  mAP50-95): 100%|██████████| 34/34 [00:24<00:00,  1.37it/s]\n"
          ]
        },
        {
          "output_type": "stream",
          "name": "stdout",
          "text": [
            "                   all       1684      17375      0.663      0.562       0.56      0.375\n",
            "\n",
            "      Epoch    GPU_mem   box_loss   cls_loss   dfl_loss  Instances       Size\n"
          ]
        },
        {
          "output_type": "stream",
          "name": "stderr",
          "text": [
            "     39/300        19G     0.9386     0.6314      1.187        144        896: 100%|██████████| 315/315 [05:39<00:00,  1.08s/it]\n",
            "                 Class     Images  Instances      Box(P          R      mAP50  mAP50-95): 100%|██████████| 34/34 [00:25<00:00,  1.36it/s]\n"
          ]
        },
        {
          "output_type": "stream",
          "name": "stdout",
          "text": [
            "                   all       1684      17375       0.65      0.582      0.566      0.378\n",
            "\n",
            "      Epoch    GPU_mem   box_loss   cls_loss   dfl_loss  Instances       Size\n"
          ]
        },
        {
          "output_type": "stream",
          "name": "stderr",
          "text": [
            "     40/300      19.1G     0.9268     0.6169      1.177        514        896:  23%|██▎       | 71/315 [01:16<04:19,  1.06s/it]"
          ]
        }
      ],
      "source": [
        "model = YOLO('yolov8m.pt')\n",
        "results = model.train(\n",
        "    data=local_paths['yolo_data_cfg'],\n",
        "    epochs=300,\n",
        "    patience=10, #switch to 5\n",
        "    batch=25,\n",
        "    imgsz=896,\n",
        "    save_period=5, #switch to 10\n",
        "    cache='disk',\n",
        "    device=0,\n",
        "    workers=16,\n",
        "    project=paths['yolo_output_dir'],\n",
        "    name=yolo_default_augmentations.train_run_name,\n",
        "    save_conf=True,)"
      ]
    },
    {
      "cell_type": "code",
      "source": [
        "# check path\n",
        "model = YOLO(yolo_default_augmentations.get_last_weight_path())\n",
        "results = model.train(resume=True)"
      ],
      "metadata": {
        "colab": {
          "base_uri": "https://localhost:8080/"
        },
        "id": "1ESZu6mK0AzO",
        "outputId": "ddb6f135-d4c9-4ba4-d942-71f473abe547",
        "collapsed": true
      },
      "execution_count": null,
      "outputs": [
        {
          "output_type": "stream",
          "name": "stdout",
          "text": [
            "Ultralytics 8.3.158 🚀 Python-3.11.13 torch-2.6.0+cu124 CUDA:0 (NVIDIA L4, 22693MiB)\n",
            "\u001b[34m\u001b[1mengine/trainer: \u001b[0magnostic_nms=False, amp=True, augment=False, auto_augment=randaugment, batch=25, bgr=0.0, box=7.5, cache=disk, cfg=None, classes=None, close_mosaic=10, cls=0.5, conf=None, copy_paste=0.0, copy_paste_mode=flip, cos_lr=False, cutmix=0.0, data=/content/dataset/data.yaml, degrees=0.0, deterministic=True, device=0, dfl=1.5, dnn=False, dropout=0.0, dynamic=False, embed=None, epochs=300, erasing=0.4, exist_ok=False, fliplr=0.5, flipud=0.0, format=torchscript, fraction=1.0, freeze=None, half=False, hsv_h=0.015, hsv_s=0.7, hsv_v=0.4, imgsz=896, int8=False, iou=0.7, keras=False, kobj=1.0, line_width=None, lr0=0.01, lrf=0.01, mask_ratio=4, max_det=300, mixup=0.0, mode=train, model=/content/drive/MyDrive/fiber_optic_box_inspection/runs_yolo/v8m_mni1.0_batch25_imgsz896_2/weights/last.pt, momentum=0.937, mosaic=1.0, multi_scale=False, name=v8m_mni1.0_batch25_imgsz896_2, nbs=64, nms=False, opset=None, optimize=False, optimizer=auto, overlap_mask=True, patience=10, perspective=0.0, plots=True, pose=12.0, pretrained=True, profile=False, project=/content/drive/MyDrive/fiber_optic_box_inspection/runs_yolo, rect=False, resume=/content/drive/MyDrive/fiber_optic_box_inspection/runs_yolo/v8m_mni1.0_batch25_imgsz896_2/weights/last.pt, retina_masks=False, save=True, save_conf=True, save_crop=False, save_dir=/content/drive/MyDrive/fiber_optic_box_inspection/runs_yolo/v8m_mni1.0_batch25_imgsz896_2, save_frames=False, save_json=False, save_period=5, save_txt=False, scale=0.5, seed=0, shear=0.0, show=False, show_boxes=True, show_conf=True, show_labels=True, simplify=True, single_cls=False, source=None, split=val, stream_buffer=False, task=detect, time=None, tracker=botsort.yaml, translate=0.1, val=True, verbose=True, vid_stride=1, visualize=False, warmup_bias_lr=0.0, warmup_epochs=3.0, warmup_momentum=0.8, weight_decay=0.0005, workers=16, workspace=None\n",
            "Downloading https://ultralytics.com/assets/Arial.ttf to '/root/.config/Ultralytics/Arial.ttf'...\n"
          ]
        },
        {
          "output_type": "stream",
          "name": "stderr",
          "text": [
            "100%|██████████| 755k/755k [00:00<00:00, 109MB/s]\n"
          ]
        },
        {
          "output_type": "stream",
          "name": "stdout",
          "text": [
            "\n",
            "                   from  n    params  module                                       arguments                     \n",
            "  0                  -1  1      1392  ultralytics.nn.modules.conv.Conv             [3, 48, 3, 2]                 \n",
            "  1                  -1  1     41664  ultralytics.nn.modules.conv.Conv             [48, 96, 3, 2]                \n",
            "  2                  -1  2    111360  ultralytics.nn.modules.block.C2f             [96, 96, 2, True]             \n",
            "  3                  -1  1    166272  ultralytics.nn.modules.conv.Conv             [96, 192, 3, 2]               \n",
            "  4                  -1  4    813312  ultralytics.nn.modules.block.C2f             [192, 192, 4, True]           \n",
            "  5                  -1  1    664320  ultralytics.nn.modules.conv.Conv             [192, 384, 3, 2]              \n",
            "  6                  -1  4   3248640  ultralytics.nn.modules.block.C2f             [384, 384, 4, True]           \n",
            "  7                  -1  1   1991808  ultralytics.nn.modules.conv.Conv             [384, 576, 3, 2]              \n",
            "  8                  -1  2   3985920  ultralytics.nn.modules.block.C2f             [576, 576, 2, True]           \n",
            "  9                  -1  1    831168  ultralytics.nn.modules.block.SPPF            [576, 576, 5]                 \n",
            " 10                  -1  1         0  torch.nn.modules.upsampling.Upsample         [None, 2, 'nearest']          \n",
            " 11             [-1, 6]  1         0  ultralytics.nn.modules.conv.Concat           [1]                           \n",
            " 12                  -1  2   1993728  ultralytics.nn.modules.block.C2f             [960, 384, 2]                 \n",
            " 13                  -1  1         0  torch.nn.modules.upsampling.Upsample         [None, 2, 'nearest']          \n",
            " 14             [-1, 4]  1         0  ultralytics.nn.modules.conv.Concat           [1]                           \n",
            " 15                  -1  2    517632  ultralytics.nn.modules.block.C2f             [576, 192, 2]                 \n",
            " 16                  -1  1    332160  ultralytics.nn.modules.conv.Conv             [192, 192, 3, 2]              \n",
            " 17            [-1, 12]  1         0  ultralytics.nn.modules.conv.Concat           [1]                           \n",
            " 18                  -1  2   1846272  ultralytics.nn.modules.block.C2f             [576, 384, 2]                 \n",
            " 19                  -1  1   1327872  ultralytics.nn.modules.conv.Conv             [384, 384, 3, 2]              \n",
            " 20             [-1, 9]  1         0  ultralytics.nn.modules.conv.Concat           [1]                           \n",
            " 21                  -1  2   4207104  ultralytics.nn.modules.block.C2f             [960, 576, 2]                 \n",
            " 22        [15, 18, 21]  1   3875863  ultralytics.nn.modules.head.Detect           [173, [192, 384, 576]]        \n",
            "Model summary: 169 layers, 25,956,487 parameters, 25,956,471 gradients, 79.6 GFLOPs\n",
            "\n",
            "Transferred 475/475 items from pretrained weights\n",
            "Freezing layer 'model.22.dfl.conv.weight'\n",
            "\u001b[34m\u001b[1mAMP: \u001b[0mrunning Automatic Mixed Precision (AMP) checks...\n",
            "Downloading https://github.com/ultralytics/assets/releases/download/v8.3.0/yolo11n.pt to 'yolo11n.pt'...\n"
          ]
        },
        {
          "output_type": "stream",
          "name": "stderr",
          "text": [
            "100%|██████████| 5.35M/5.35M [00:00<00:00, 306MB/s]\n"
          ]
        },
        {
          "output_type": "stream",
          "name": "stdout",
          "text": [
            "\u001b[34m\u001b[1mAMP: \u001b[0mchecks passed ✅\n",
            "\u001b[34m\u001b[1mtrain: \u001b[0mFast image access ✅ (ping: 0.0±0.0 ms, read: 2618.2±972.5 MB/s, size: 101.7 KB)\n"
          ]
        },
        {
          "output_type": "stream",
          "name": "stderr",
          "text": [
            "\u001b[34m\u001b[1mtrain: \u001b[0mScanning /content/dataset/data_label_v2_ALL... 7858 images, 462 backgrounds, 0 corrupt: 100%|██████████| 7858/7858 [00:05<00:00, 1460.69it/s]"
          ]
        },
        {
          "output_type": "stream",
          "name": "stdout",
          "text": [
            "\u001b[34m\u001b[1mtrain: \u001b[0m/content/dataset/data_label_v2_ALL/2022_11_03_15_29_32-HNIP456107HO.jpg: 1 duplicate labels removed\n",
            "\u001b[34m\u001b[1mtrain: \u001b[0m/content/dataset/data_label_v2_ALL/2022_11_10_14_59_59-HNIP120595HO.jpg: 1 duplicate labels removed\n",
            "\u001b[34m\u001b[1mtrain: \u001b[0m/content/dataset/data_label_v2_ALL/2022_11_11_09_10_09-PYNP016064HO.jpg: 1 duplicate labels removed\n",
            "\u001b[34m\u001b[1mtrain: \u001b[0m/content/dataset/data_label_v2_ALL/2022_11_11_09_59_56-BGGP089061HO.jpg: 1 duplicate labels removed\n",
            "\u001b[34m\u001b[1mtrain: \u001b[0m/content/dataset/data_label_v2_ALL/2022_11_14_16_04_38-HNIP548102HO.jpg: 1 duplicate labels removed\n",
            "\u001b[34m\u001b[1mtrain: \u001b[0m/content/dataset/data_label_v2_ALL/2022_11_16_08_43_48-HDGP141064HO.jpg: 1 duplicate labels removed\n",
            "\u001b[34m\u001b[1mtrain: \u001b[0m/content/dataset/data_label_v2_ALL/2022_11_16_15_40_51-HBHP012080HO.jpg: 1 duplicate labels removed\n",
            "\u001b[34m\u001b[1mtrain: \u001b[0m/content/dataset/data_label_v2_ALL/2022_12_06_15_18_24-TBHP019033HO.jpg: 1 duplicate labels removed\n",
            "\u001b[34m\u001b[1mtrain: \u001b[0m/content/dataset/data_label_v2_ALL/2022_12_07_16_39_07-QNHP088205HO.jpg: 1 duplicate labels removed\n",
            "\u001b[34m\u001b[1mtrain: \u001b[0m/content/dataset/data_label_v2_ALL/2022_12_08_10_14_33-HYNP074125HO.jpg: 1 duplicate labels removed\n",
            "\u001b[34m\u001b[1mtrain: \u001b[0m/content/dataset/data_label_v2_ALL/2022_12_09_10_16_40-TBHP044214HO.jpg: 1 duplicate labels removed\n",
            "\u001b[34m\u001b[1mtrain: \u001b[0m/content/dataset/data_label_v2_ALL/2022_12_29_09_46_47-HDGP048174HO.jpg: 1 duplicate labels removed\n"
          ]
        },
        {
          "output_type": "stream",
          "name": "stderr",
          "text": [
            "\n"
          ]
        },
        {
          "output_type": "stream",
          "name": "stdout",
          "text": [
            "\u001b[34m\u001b[1mtrain: \u001b[0mNew cache created: /content/dataset/data_label_v2_ALL.cache\n"
          ]
        },
        {
          "output_type": "stream",
          "name": "stderr",
          "text": [
            "\u001b[34m\u001b[1mtrain: \u001b[0mCaching images (17.9GB Disk): 100%|██████████| 7858/7858 [06:35<00:00, 19.88it/s]\n"
          ]
        },
        {
          "output_type": "stream",
          "name": "stdout",
          "text": [
            "\u001b[34m\u001b[1malbumentations: \u001b[0mBlur(p=0.01, blur_limit=(3, 7)), MedianBlur(p=0.01, blur_limit=(3, 7)), ToGray(p=0.01, method='weighted_average', num_output_channels=3), CLAHE(p=0.01, clip_limit=(1.0, 4.0), tile_grid_size=(8, 8))\n",
            "\u001b[34m\u001b[1mval: \u001b[0mFast image access ✅ (ping: 0.0±0.0 ms, read: 704.0±83.5 MB/s, size: 107.9 KB)\n"
          ]
        },
        {
          "output_type": "stream",
          "name": "stderr",
          "text": [
            "\u001b[34m\u001b[1mval: \u001b[0mScanning /content/dataset/data_label_v2_ALL... 1684 images, 100 backgrounds, 0 corrupt: 100%|██████████| 1684/1684 [00:01<00:00, 1260.98it/s]"
          ]
        },
        {
          "output_type": "stream",
          "name": "stdout",
          "text": [
            "\u001b[34m\u001b[1mval: \u001b[0m/content/dataset/data_label_v2_ALL/2022_11_21_09_08_32-TNNP069058HO.jpg: 1 duplicate labels removed\n",
            "\u001b[34m\u001b[1mval: \u001b[0m/content/dataset/data_label_v2_ALL/2022_11_21_16_32_02-HBHP012062HO.jpg: 1 duplicate labels removed\n"
          ]
        },
        {
          "output_type": "stream",
          "name": "stderr",
          "text": [
            "\n"
          ]
        },
        {
          "output_type": "stream",
          "name": "stdout",
          "text": [
            "\u001b[34m\u001b[1mval: \u001b[0mNew cache created: /content/dataset/data_label_v2_ALL.cache\n"
          ]
        },
        {
          "output_type": "stream",
          "name": "stderr",
          "text": [
            "\u001b[34m\u001b[1mval: \u001b[0mCaching images (3.9GB Disk): 100%|██████████| 1684/1684 [00:12<00:00, 135.00it/s]\n"
          ]
        },
        {
          "output_type": "stream",
          "name": "stdout",
          "text": [
            "Plotting labels to /content/drive/MyDrive/fiber_optic_box_inspection/runs_yolo/v8m_mni1.0_batch25_imgsz896_2/labels.jpg... \n",
            "\u001b[34m\u001b[1moptimizer:\u001b[0m 'optimizer=auto' found, ignoring 'lr0=0.01' and 'momentum=0.937' and determining best 'optimizer', 'lr0' and 'momentum' automatically... \n",
            "\u001b[34m\u001b[1moptimizer:\u001b[0m SGD(lr=0.01, momentum=0.9) with parameter groups 77 weight(decay=0.0), 84 weight(decay=0.0005859375000000001), 83 bias(decay=0.0)\n",
            "Resuming training /content/drive/MyDrive/fiber_optic_box_inspection/runs_yolo/v8m_mni1.0_batch25_imgsz896_2/weights/last.pt from epoch 49 to 300 total epochs\n",
            "Image sizes 896 train, 896 val\n",
            "Using 12 dataloader workers\n",
            "Logging results to \u001b[1m/content/drive/MyDrive/fiber_optic_box_inspection/runs_yolo/v8m_mni1.0_batch25_imgsz896_2\u001b[0m\n",
            "Starting training for 300 epochs...\n",
            "\n",
            "      Epoch    GPU_mem   box_loss   cls_loss   dfl_loss  Instances       Size\n"
          ]
        },
        {
          "output_type": "stream",
          "name": "stderr",
          "text": [
            "     49/300      20.3G     0.9023      0.592      1.162        153        896: 100%|██████████| 315/315 [05:45<00:00,  1.10s/it]\n",
            "                 Class     Images  Instances      Box(P          R      mAP50  mAP50-95): 100%|██████████| 34/34 [00:26<00:00,  1.28it/s]\n"
          ]
        },
        {
          "output_type": "stream",
          "name": "stdout",
          "text": [
            "                   all       1684      17375      0.672      0.574      0.571      0.382\n",
            "\n",
            "      Epoch    GPU_mem   box_loss   cls_loss   dfl_loss  Instances       Size\n"
          ]
        },
        {
          "output_type": "stream",
          "name": "stderr",
          "text": [
            "     50/300      19.1G     0.8986      0.591      1.163        157        896: 100%|██████████| 315/315 [05:59<00:00,  1.14s/it]\n",
            "                 Class     Images  Instances      Box(P          R      mAP50  mAP50-95): 100%|██████████| 34/34 [00:24<00:00,  1.37it/s]\n"
          ]
        },
        {
          "output_type": "stream",
          "name": "stdout",
          "text": [
            "                   all       1684      17375      0.641      0.557      0.581      0.385\n",
            "\n",
            "      Epoch    GPU_mem   box_loss   cls_loss   dfl_loss  Instances       Size\n"
          ]
        },
        {
          "output_type": "stream",
          "name": "stderr",
          "text": [
            "     51/300      19.1G     0.8993     0.5906      1.168        191        896: 100%|██████████| 315/315 [05:42<00:00,  1.09s/it]\n",
            "                 Class     Images  Instances      Box(P          R      mAP50  mAP50-95): 100%|██████████| 34/34 [00:25<00:00,  1.35it/s]\n"
          ]
        },
        {
          "output_type": "stream",
          "name": "stdout",
          "text": [
            "                   all       1684      17375       0.66      0.566      0.564      0.376\n",
            "\n",
            "      Epoch    GPU_mem   box_loss   cls_loss   dfl_loss  Instances       Size\n"
          ]
        },
        {
          "output_type": "stream",
          "name": "stderr",
          "text": [
            "     52/300        19G     0.8935     0.5838      1.162         94        896: 100%|██████████| 315/315 [05:42<00:00,  1.09s/it]\n",
            "                 Class     Images  Instances      Box(P          R      mAP50  mAP50-95): 100%|██████████| 34/34 [00:23<00:00,  1.43it/s]\n"
          ]
        },
        {
          "output_type": "stream",
          "name": "stdout",
          "text": [
            "                   all       1684      17375      0.623      0.579      0.577      0.382\n",
            "\n",
            "      Epoch    GPU_mem   box_loss   cls_loss   dfl_loss  Instances       Size\n"
          ]
        },
        {
          "output_type": "stream",
          "name": "stderr",
          "text": [
            "     53/300      18.9G     0.8921     0.5805      1.163        202        896: 100%|██████████| 315/315 [05:41<00:00,  1.08s/it]\n",
            "                 Class     Images  Instances      Box(P          R      mAP50  mAP50-95): 100%|██████████| 34/34 [00:23<00:00,  1.42it/s]"
          ]
        },
        {
          "output_type": "stream",
          "name": "stdout",
          "text": [
            "                   all       1684      17375      0.632      0.583      0.573      0.383\n"
          ]
        },
        {
          "output_type": "stream",
          "name": "stderr",
          "text": [
            "\n"
          ]
        },
        {
          "output_type": "stream",
          "name": "stdout",
          "text": [
            "\n",
            "      Epoch    GPU_mem   box_loss   cls_loss   dfl_loss  Instances       Size\n"
          ]
        },
        {
          "output_type": "stream",
          "name": "stderr",
          "text": [
            "     54/300        19G     0.8885      0.576      1.156        189        896: 100%|██████████| 315/315 [05:42<00:00,  1.09s/it]\n",
            "                 Class     Images  Instances      Box(P          R      mAP50  mAP50-95): 100%|██████████| 34/34 [00:25<00:00,  1.35it/s]"
          ]
        },
        {
          "output_type": "stream",
          "name": "stdout",
          "text": [
            "                   all       1684      17375       0.65      0.569      0.568      0.378\n"
          ]
        },
        {
          "output_type": "stream",
          "name": "stderr",
          "text": [
            "\n"
          ]
        },
        {
          "output_type": "stream",
          "name": "stdout",
          "text": [
            "\n",
            "      Epoch    GPU_mem   box_loss   cls_loss   dfl_loss  Instances       Size\n"
          ]
        },
        {
          "output_type": "stream",
          "name": "stderr",
          "text": [
            "     55/300      18.9G     0.8855     0.5748      1.155        150        896: 100%|██████████| 315/315 [05:42<00:00,  1.09s/it]\n",
            "                 Class     Images  Instances      Box(P          R      mAP50  mAP50-95): 100%|██████████| 34/34 [00:24<00:00,  1.38it/s]\n"
          ]
        },
        {
          "output_type": "stream",
          "name": "stdout",
          "text": [
            "                   all       1684      17375      0.656      0.569      0.564      0.378\n",
            "\n",
            "      Epoch    GPU_mem   box_loss   cls_loss   dfl_loss  Instances       Size\n"
          ]
        },
        {
          "output_type": "stream",
          "name": "stderr",
          "text": [
            "     56/300        19G     0.8806     0.5714      1.151        208        896: 100%|██████████| 315/315 [05:42<00:00,  1.09s/it]\n",
            "                 Class     Images  Instances      Box(P          R      mAP50  mAP50-95): 100%|██████████| 34/34 [00:24<00:00,  1.41it/s]"
          ]
        },
        {
          "output_type": "stream",
          "name": "stdout",
          "text": [
            "                   all       1684      17375      0.688      0.564      0.566      0.379\n"
          ]
        },
        {
          "output_type": "stream",
          "name": "stderr",
          "text": [
            "\n"
          ]
        },
        {
          "output_type": "stream",
          "name": "stdout",
          "text": [
            "\n",
            "      Epoch    GPU_mem   box_loss   cls_loss   dfl_loss  Instances       Size\n"
          ]
        },
        {
          "output_type": "stream",
          "name": "stderr",
          "text": [
            "     57/300      19.1G     0.8777     0.5678      1.149        203        896: 100%|██████████| 315/315 [05:42<00:00,  1.09s/it]\n",
            "                 Class     Images  Instances      Box(P          R      mAP50  mAP50-95): 100%|██████████| 34/34 [00:24<00:00,  1.41it/s]\n"
          ]
        },
        {
          "output_type": "stream",
          "name": "stdout",
          "text": [
            "                   all       1684      17375      0.656      0.569      0.563      0.377\n",
            "\n",
            "      Epoch    GPU_mem   box_loss   cls_loss   dfl_loss  Instances       Size\n"
          ]
        },
        {
          "output_type": "stream",
          "name": "stderr",
          "text": [
            "     58/300      19.1G     0.8758     0.5665      1.154        183        896: 100%|██████████| 315/315 [05:41<00:00,  1.09s/it]\n",
            "                 Class     Images  Instances      Box(P          R      mAP50  mAP50-95): 100%|██████████| 34/34 [00:24<00:00,  1.42it/s]\n"
          ]
        },
        {
          "output_type": "stream",
          "name": "stdout",
          "text": [
            "                   all       1684      17375      0.671       0.56      0.563      0.377\n",
            "\n",
            "      Epoch    GPU_mem   box_loss   cls_loss   dfl_loss  Instances       Size\n"
          ]
        },
        {
          "output_type": "stream",
          "name": "stderr",
          "text": [
            "     59/300      19.1G     0.8782     0.5635       1.15        142        896: 100%|██████████| 315/315 [05:42<00:00,  1.09s/it]\n",
            "                 Class     Images  Instances      Box(P          R      mAP50  mAP50-95): 100%|██████████| 34/34 [00:24<00:00,  1.39it/s]"
          ]
        },
        {
          "output_type": "stream",
          "name": "stdout",
          "text": [
            "                   all       1684      17375      0.645      0.572      0.574      0.384\n"
          ]
        },
        {
          "output_type": "stream",
          "name": "stderr",
          "text": [
            "\n"
          ]
        },
        {
          "output_type": "stream",
          "name": "stdout",
          "text": [
            "\n",
            "      Epoch    GPU_mem   box_loss   cls_loss   dfl_loss  Instances       Size\n"
          ]
        },
        {
          "output_type": "stream",
          "name": "stderr",
          "text": [
            "     60/300      19.1G     0.8681     0.5612      1.146        103        896: 100%|██████████| 315/315 [05:42<00:00,  1.09s/it]\n",
            "                 Class     Images  Instances      Box(P          R      mAP50  mAP50-95): 100%|██████████| 34/34 [00:25<00:00,  1.36it/s]"
          ]
        },
        {
          "output_type": "stream",
          "name": "stdout",
          "text": [
            "                   all       1684      17375      0.668      0.575      0.579      0.384\n"
          ]
        },
        {
          "output_type": "stream",
          "name": "stderr",
          "text": [
            "\n"
          ]
        },
        {
          "output_type": "stream",
          "name": "stdout",
          "text": [
            "\u001b[34m\u001b[1mEarlyStopping: \u001b[0mTraining stopped early as no improvement observed in last 10 epochs. Best results observed at epoch 50, best model saved as best.pt.\n",
            "To update EarlyStopping(patience=10) pass a new patience value, i.e. `patience=300` or use `patience=0` to disable EarlyStopping.\n",
            "\n",
            "12 epochs completed in 1.234 hours.\n",
            "Optimizer stripped from /content/drive/MyDrive/fiber_optic_box_inspection/runs_yolo/v8m_mni1.0_batch25_imgsz896_2/weights/last.pt, 52.2MB\n",
            "Optimizer stripped from /content/drive/MyDrive/fiber_optic_box_inspection/runs_yolo/v8m_mni1.0_batch25_imgsz896_2/weights/best.pt, 52.2MB\n",
            "\n",
            "Validating /content/drive/MyDrive/fiber_optic_box_inspection/runs_yolo/v8m_mni1.0_batch25_imgsz896_2/weights/best.pt...\n",
            "Ultralytics 8.3.158 🚀 Python-3.11.13 torch-2.6.0+cu124 CUDA:0 (NVIDIA L4, 22693MiB)\n",
            "Model summary (fused): 92 layers, 25,939,927 parameters, 0 gradients, 79.2 GFLOPs\n"
          ]
        },
        {
          "output_type": "stream",
          "name": "stderr",
          "text": [
            "                 Class     Images  Instances      Box(P          R      mAP50  mAP50-95): 100%|██████████| 34/34 [00:24<00:00,  1.40it/s]\n"
          ]
        },
        {
          "output_type": "stream",
          "name": "stdout",
          "text": [
            "                   all       1684      17375       0.64      0.557      0.581      0.385\n",
            "                   1.0        163        164      0.816      0.866        0.9      0.781\n",
            "                   1.1         67         67      0.679      0.694      0.745      0.595\n",
            "                   1.2         16         16      0.267      0.438      0.334      0.187\n",
            "                   1.7         20         20      0.381        0.5      0.518      0.414\n",
            "                   2.0        270        272      0.931      0.926      0.971      0.862\n",
            "                   2.3          1          1          1          0          0          0\n",
            "                   3.0        251        251      0.891      0.932      0.946      0.607\n",
            "                   3.1          4          5      0.551        0.2      0.223      0.126\n",
            "                   5.0        267        527      0.923      0.991      0.981      0.693\n",
            "                   5.1         10         10      0.824      0.472      0.539      0.261\n",
            "                   6.0        231        231      0.879      0.945      0.948       0.73\n",
            "                   6.1          2          2       0.38        0.5      0.538       0.11\n",
            "                   7.0        211        211      0.833      0.924      0.943      0.662\n",
            "                   7.1         11         11          0          0     0.0867     0.0554\n",
            "                   7.2          2          2      0.159        0.5      0.557      0.217\n",
            "                   7.7          2          2          1          0    0.00554    0.00444\n",
            "                   8.0        253        705      0.771      0.814      0.832      0.475\n",
            "                   8.3         17         22      0.392      0.318      0.336      0.222\n",
            "                   9.0        177        296      0.645      0.733      0.721      0.391\n",
            "                   9.4         54         78      0.805      0.808      0.847      0.435\n",
            "                  10.0         86         86      0.445      0.728      0.573      0.433\n",
            "                  11.0        252        652      0.725      0.913      0.807      0.481\n",
            "                  11.1         12         15      0.267       0.34      0.361      0.186\n",
            "                  13.0        165        165      0.621      0.825      0.815       0.61\n",
            "                  13.1         17         17          0          0      0.164      0.113\n",
            "                  13.2          1          1          1          0      0.995      0.895\n",
            "                  14.0        148        149        0.8      0.885       0.85      0.724\n",
            "                  14.1         18         18      0.634      0.667      0.666      0.547\n",
            "                  14.2         92         94      0.749      0.698      0.798      0.597\n",
            "                  19.0         97         98      0.559      0.755      0.661      0.449\n",
            "                  19.1         11         11          0          0     0.0823     0.0488\n",
            "                  19.3         59         60      0.438       0.65      0.572      0.303\n",
            "                  20.0         88         88      0.661       0.75      0.735      0.522\n",
            "                  20.1         49         52      0.431      0.452      0.474      0.296\n",
            "                  20.2         79        102      0.612      0.557      0.561       0.29\n",
            "                  20.3          2          2          1          0          0          0\n",
            "                  23.0        258        262       0.72       0.87      0.815      0.575\n",
            "                  23.1        169        191      0.685      0.592      0.614      0.314\n",
            "                  23.2          4          4          0          0    0.00104    0.00052\n",
            "                  24.0         51         80      0.739       0.65      0.704      0.283\n",
            "                  24.1         82        143      0.565      0.445      0.471      0.166\n",
            "                  24.3          1          1          0          0          0          0\n",
            "                  26.0        468        472      0.873      0.987      0.935       0.81\n",
            "                  26.1          3          3          0          0     0.0227     0.0196\n",
            "                  27.0        147        147      0.813      0.973      0.924      0.639\n",
            "                  28.0        249        249      0.873      0.996      0.958      0.824\n",
            "                  29.0        264        268      0.926      0.983      0.952      0.869\n",
            "                  29.1         15         15      0.533        0.4       0.35       0.28\n",
            "                  29.4          3          3      0.615      0.333      0.385      0.348\n",
            "                  30.0        203        391      0.926       0.93      0.951      0.588\n",
            "                  30.1         20         25      0.258     0.0983      0.173      0.121\n",
            "                  32.0         68        136       0.94          1      0.972      0.701\n",
            "                  32.1          5         10      0.532        0.7      0.602      0.427\n",
            "                  32.2         49         98      0.942      0.684      0.906      0.583\n",
            "                  35.0        146        155      0.763      0.845      0.826      0.381\n",
            "                  35.1         39         41       0.44      0.463      0.397      0.177\n",
            "                  37.0        236        558      0.766      0.919      0.876      0.563\n",
            "                  37.1          2          4          1          0      0.531      0.228\n",
            "                  37.3          3          5          1          0       0.38      0.116\n",
            "                  37.4         54        144      0.767      0.965      0.922      0.624\n",
            "                  38.0        216        744      0.751      0.855      0.886      0.539\n",
            "                  38.1          5         17          0          0     0.0218    0.00645\n",
            "                  39.0        171        293      0.842      0.901      0.896      0.607\n",
            "                  39.1          7         11      0.406      0.182      0.224     0.0986\n",
            "                  40.0        171        171       0.84      0.953      0.946      0.828\n",
            "                  40.1         18         18       0.42      0.556      0.616      0.466\n",
            "                  41.0        104        107      0.956      0.953      0.969      0.839\n",
            "                  41.1          2          2          0          0     0.0362     0.0301\n",
            "                  41.2          1          1          1          0     0.0284     0.0256\n",
            "                  42.0        118        118      0.875          1      0.943      0.701\n",
            "                  42.1         15         15      0.646        0.4      0.402      0.196\n",
            "                  43.0        285       1126      0.955      0.985      0.986      0.831\n",
            "                  43.1         29         33      0.713      0.636      0.789      0.444\n",
            "                  44.0        202        202      0.933       0.99       0.97       0.74\n",
            "                  44.1          4          4      0.468       0.25      0.516      0.272\n",
            "                  45.0        214        215      0.905      0.973      0.954      0.704\n",
            "                  45.1         63         63      0.652      0.619      0.587      0.249\n",
            "                  45.2          7          7      0.363      0.286      0.326      0.182\n",
            "                  46.0        122        335       0.75      0.831      0.827      0.378\n",
            "                  46.1         69        119      0.344      0.143      0.216     0.0569\n",
            "                  46.3          3          8      0.581      0.186      0.232      0.058\n",
            "                  47.0        218        643      0.837      0.935      0.922      0.568\n",
            "                  47.1         65         74       0.72      0.763      0.748       0.35\n",
            "                  48.0        206        239      0.771      0.904      0.875      0.484\n",
            "                  48.2          1          1          1          0     0.0415     0.0173\n",
            "                  49.0        143        145       0.73      0.878      0.828      0.572\n",
            "                  49.3         20         22      0.372      0.682      0.398      0.135\n",
            "                  49.4         52         59      0.516      0.433      0.489      0.293\n",
            "                  50.0        102        103      0.849       0.99      0.934      0.732\n",
            "                  50.1         33         33      0.733      0.909      0.927       0.67\n",
            "                  50.2          9          9          1          0      0.181     0.0494\n",
            "                  51.0        372        372      0.867      0.981      0.929      0.844\n",
            "                  51.2         31         40      0.419      0.379      0.302       0.19\n",
            "                  51.3          9         10      0.308      0.358      0.327      0.119\n",
            "                  52.0        184        190      0.886      0.941      0.889      0.565\n",
            "                  52.3          9          9          0          0     0.0734     0.0389\n",
            "                  52.5         24         25      0.726       0.72      0.762      0.204\n",
            "                  53.0        195        207       0.82      0.903      0.849      0.533\n",
            "                  53.4         18         20      0.522        0.4      0.345      0.122\n",
            "                  53.5         17         17      0.201      0.235      0.167       0.12\n",
            "                  54.0        166        307      0.863      0.922      0.878      0.569\n",
            "                  54.4         55         80      0.481      0.312      0.328     0.0951\n",
            "                  54.5         12         13          0          0     0.0178      0.011\n",
            "                  55.0        197        359      0.868      0.944      0.929      0.554\n",
            "                  55.4         54         72      0.692      0.688       0.65      0.269\n",
            "                  55.5          3          4          0          0     0.0529      0.038\n",
            "                  56.0        271        807      0.938      0.976      0.986      0.843\n",
            "                  56.2          4          5       0.57        0.2      0.448      0.289\n",
            "                  56.4          1          4      0.641       0.75      0.752      0.569\n",
            "                  57.0        283        840      0.943      0.964      0.981       0.76\n",
            "                  57.1          1          1          0          0     0.0765     0.0306\n",
            "                  58.0        270        272      0.965      0.993       0.99      0.801\n",
            "                  58.1          8          8          1      0.609      0.872      0.533\n",
            "                  59.0        274        275      0.966      0.996      0.982      0.848\n",
            "                  59.2          1          1          1          0     0.0107    0.00749\n",
            "                  59.3          1          1          0          0          0          0\n",
            "                  60.0        204        205      0.799      0.971      0.939       0.74\n",
            "                  60.1         29         36      0.424      0.583      0.473      0.208\n",
            "                  60.3         56         65      0.492      0.369      0.378      0.175\n",
            "                  61.0        280        280      0.966          1      0.986      0.826\n",
            "                  61.1          1          1          1          0          0          0\n",
            "                  61.4          4          4          1          0    0.00783    0.00704\n",
            "Speed: 0.2ms preprocess, 8.4ms inference, 0.0ms loss, 2.1ms postprocess per image\n",
            "Results saved to \u001b[1m/content/drive/MyDrive/fiber_optic_box_inspection/runs_yolo/v8m_mni1.0_batch25_imgsz896_2\u001b[0m\n"
          ]
        }
      ]
    },
    {
      "cell_type": "markdown",
      "source": [
        "#### val"
      ],
      "metadata": {
        "id": "uuv3OfyOMXoP"
      }
    },
    {
      "cell_type": "code",
      "source": [
        "model = YOLO(yolo_default_augmentations.get_best_weight_path())\n",
        "metrics = model.val(\n",
        "    data=local_paths['yolo_data_cfg'],\n",
        "    batch=25,\n",
        "    imgsz=896,\n",
        "    save_json=True,\n",
        "    device=0,\n",
        "    plots=True,\n",
        "    project=paths['yolo_output_dir'],\n",
        "    name=yolo_default_augmentations.val_run_name,\n",
        "    verbose=True,\n",
        "    save_txt=True,\n",
        "    save_conf=True,\n",
        "    workers=16,)"
      ],
      "metadata": {
        "colab": {
          "base_uri": "https://localhost:8080/"
        },
        "collapsed": true,
        "id": "2iP9LaVyMZqG",
        "outputId": "61c0afff-9945-40cb-cb75-667c84cef34e"
      },
      "execution_count": 16,
      "outputs": [
        {
          "output_type": "stream",
          "name": "stdout",
          "text": [
            "Ultralytics 8.3.159 🚀 Python-3.11.13 torch-2.6.0+cu124 CUDA:0 (NVIDIA L4, 22693MiB)\n",
            "Model summary (fused): 92 layers, 25,939,927 parameters, 0 gradients, 79.2 GFLOPs\n",
            "\u001b[34m\u001b[1mval: \u001b[0mFast image access ✅ (ping: 0.0±0.0 ms, read: 2468.8±526.7 MB/s, size: 139.4 KB)\n"
          ]
        },
        {
          "output_type": "stream",
          "name": "stderr",
          "text": [
            "\u001b[34m\u001b[1mval: \u001b[0mScanning /content/dataset/data_label_v2_ALL.cache... 1684 images, 100 backgrounds, 0 corrupt: 100%|██████████| 1684/1684 [00:00<?, ?it/s]"
          ]
        },
        {
          "output_type": "stream",
          "name": "stdout",
          "text": [
            "\u001b[34m\u001b[1mval: \u001b[0m/content/dataset/data_label_v2_ALL/2022_11_21_09_08_32-TNNP069058HO.jpg: 1 duplicate labels removed\n",
            "\u001b[34m\u001b[1mval: \u001b[0m/content/dataset/data_label_v2_ALL/2022_11_21_16_32_02-HBHP012062HO.jpg: 1 duplicate labels removed\n"
          ]
        },
        {
          "output_type": "stream",
          "name": "stderr",
          "text": [
            "\n",
            "                 Class     Images  Instances      Box(P          R      mAP50  mAP50-95): 100%|██████████| 68/68 [01:36<00:00,  1.42s/it]\n"
          ]
        },
        {
          "output_type": "stream",
          "name": "stdout",
          "text": [
            "                   all       1684      17375       0.64      0.558      0.581      0.385\n",
            "                   1.0        163        164      0.818      0.866      0.899      0.781\n",
            "                   1.1         67         67      0.679      0.694      0.747      0.598\n",
            "                   1.2         16         16      0.266      0.438      0.334      0.187\n",
            "                   1.7         20         20      0.381        0.5      0.521      0.415\n",
            "                   2.0        270        272      0.931      0.926       0.97      0.861\n",
            "                   2.3          1          1          1          0          0          0\n",
            "                   3.0        251        251      0.891      0.932      0.946      0.607\n",
            "                   3.1          4          5       0.55        0.2      0.223      0.126\n",
            "                   5.0        267        527      0.923      0.991      0.981      0.694\n",
            "                   5.1         10         10      0.825      0.474      0.538       0.26\n",
            "                   6.0        231        231      0.878      0.944      0.948      0.731\n",
            "                   6.1          2          2      0.379        0.5      0.538       0.11\n",
            "                   7.0        211        211      0.837      0.924      0.943      0.661\n",
            "                   7.1         11         11          0          0     0.0868     0.0555\n",
            "                   7.2          2          2      0.158        0.5      0.557      0.217\n",
            "                   7.7          2          2          1          0    0.00555    0.00444\n",
            "                   8.0        253        705      0.771      0.815      0.832      0.475\n",
            "                   8.3         17         22      0.391      0.318      0.335      0.222\n",
            "                   9.0        177        296      0.642       0.73       0.72      0.392\n",
            "                   9.4         54         78      0.821      0.825      0.852      0.437\n",
            "                  10.0         86         86      0.445      0.729      0.573      0.433\n",
            "                  11.0        252        652      0.725      0.913      0.806      0.481\n",
            "                  11.1         12         15      0.267      0.341       0.36      0.186\n",
            "                  13.0        165        165      0.622      0.827      0.815      0.609\n",
            "                  13.1         17         17          0          0      0.162      0.113\n",
            "                  13.2          1          1          1          0      0.995      0.895\n",
            "                  14.0        148        149      0.799      0.886       0.85      0.724\n",
            "                  14.1         18         18      0.633      0.667      0.671      0.551\n",
            "                  14.2         92         94       0.75      0.701      0.797      0.596\n",
            "                  19.0         97         98      0.558      0.755      0.662      0.446\n",
            "                  19.1         11         11          0          0     0.0824     0.0503\n",
            "                  19.3         59         60      0.437       0.65      0.573      0.303\n",
            "                  20.0         88         88      0.654       0.75      0.737      0.523\n",
            "                  20.1         49         52      0.431      0.452      0.478      0.297\n",
            "                  20.2         79        102      0.608      0.559       0.56      0.287\n",
            "                  20.3          2          2          1          0          0          0\n",
            "                  23.0        258        262       0.72       0.87      0.814      0.574\n",
            "                  23.1        169        191      0.675      0.586      0.612      0.313\n",
            "                  23.2          4          4          0          0    0.00103   0.000516\n",
            "                  24.0         51         80      0.738       0.65      0.707      0.283\n",
            "                  24.1         82        143      0.566      0.447      0.467      0.166\n",
            "                  24.3          1          1          0          0          0          0\n",
            "                  26.0        468        472      0.874      0.987      0.935       0.81\n",
            "                  26.1          3          3          0          0     0.0229     0.0198\n",
            "                  27.0        147        147      0.813      0.973      0.925      0.641\n",
            "                  28.0        249        249      0.873      0.996      0.957      0.822\n",
            "                  29.0        264        268      0.926      0.983      0.951      0.868\n",
            "                  29.1         15         15      0.509        0.4      0.341      0.284\n",
            "                  29.4          3          3      0.614      0.333      0.385      0.349\n",
            "                  30.0        203        391      0.926       0.93      0.951      0.589\n",
            "                  30.1         20         25      0.258     0.0985      0.173      0.122\n",
            "                  32.0         68        136      0.939          1      0.972        0.7\n",
            "                  32.1          5         10      0.531        0.7      0.601      0.427\n",
            "                  32.2         49         98       0.94      0.684      0.907      0.583\n",
            "                  35.0        146        155      0.754      0.845      0.826      0.383\n",
            "                  35.1         39         41      0.447      0.463      0.398      0.179\n",
            "                  37.0        236        558      0.767      0.921      0.876      0.563\n",
            "                  37.1          2          4          1          0      0.531      0.189\n",
            "                  37.3          3          5          1          0      0.378      0.115\n",
            "                  37.4         54        144      0.769      0.965      0.922      0.627\n",
            "                  38.0        216        744      0.752      0.856      0.887      0.539\n",
            "                  38.1          5         17          0          0     0.0185    0.00612\n",
            "                  39.0        171        293      0.842      0.901      0.896      0.607\n",
            "                  39.1          7         11      0.406      0.182      0.224     0.0972\n",
            "                  40.0        171        171       0.84      0.953      0.947      0.829\n",
            "                  40.1         18         18      0.421      0.556      0.613      0.462\n",
            "                  41.0        104        107      0.956      0.953       0.97      0.839\n",
            "                  41.1          2          2          0          0     0.0355     0.0296\n",
            "                  41.2          1          1          1          0     0.0284     0.0256\n",
            "                  42.0        118        118      0.875          1      0.943      0.697\n",
            "                  42.1         15         15      0.647        0.4      0.401      0.189\n",
            "                  43.0        285       1126      0.955      0.985      0.986      0.832\n",
            "                  43.1         29         33      0.713      0.636      0.787      0.447\n",
            "                  44.0        202        202      0.933       0.99       0.97      0.739\n",
            "                  44.1          4          4      0.466       0.25      0.523      0.276\n",
            "                  45.0        214        215      0.904      0.972      0.954      0.705\n",
            "                  45.1         63         63      0.635      0.606      0.581       0.25\n",
            "                  45.2          7          7      0.366      0.286      0.326      0.183\n",
            "                  46.0        122        335       0.75      0.832      0.826      0.377\n",
            "                  46.1         69        119      0.385      0.158      0.228     0.0585\n",
            "                  46.3          3          8      0.585      0.189      0.236     0.0584\n",
            "                  47.0        218        643      0.838      0.935      0.923       0.57\n",
            "                  47.1         65         74      0.729      0.763       0.75      0.352\n",
            "                  48.0        206        239       0.77      0.904      0.876      0.485\n",
            "                  48.2          1          1          1          0     0.0415     0.0173\n",
            "                  49.0        143        145       0.73      0.876      0.827      0.572\n",
            "                  49.3         20         22      0.372      0.682      0.398      0.136\n",
            "                  49.4         52         59      0.505      0.424      0.489      0.293\n",
            "                  50.0        102        103      0.848       0.99      0.934      0.733\n",
            "                  50.1         33         33      0.733      0.909      0.927      0.671\n",
            "                  50.2          9          9          1          0       0.18     0.0484\n",
            "                  51.0        372        372      0.867      0.981       0.93      0.844\n",
            "                  51.2         31         40      0.421      0.382      0.305      0.191\n",
            "                  51.3          9         10      0.309      0.359      0.327      0.119\n",
            "                  52.0        184        190      0.886      0.941       0.89      0.564\n",
            "                  52.3          9          9          0          0     0.0786     0.0408\n",
            "                  52.5         24         25      0.769       0.76      0.797      0.208\n",
            "                  53.0        195        207      0.818      0.903      0.849      0.533\n",
            "                  53.4         18         20       0.52        0.4      0.351      0.118\n",
            "                  53.5         17         17        0.2      0.235       0.18      0.128\n",
            "                  54.0        166        307      0.861      0.922      0.879      0.572\n",
            "                  54.4         55         80      0.486      0.312      0.331      0.096\n",
            "                  54.5         12         13          0          0     0.0178     0.0111\n",
            "                  55.0        197        359      0.868      0.944      0.929      0.553\n",
            "                  55.4         54         72      0.694      0.694      0.649      0.273\n",
            "                  55.5          3          4          0          0     0.0528     0.0379\n",
            "                  56.0        271        807      0.938      0.976      0.986      0.844\n",
            "                  56.2          4          5       0.57        0.2      0.448      0.289\n",
            "                  56.4          1          4      0.638       0.75      0.752      0.594\n",
            "                  57.0        283        840      0.943      0.965       0.98      0.761\n",
            "                  57.1          1          1          0          0     0.0765     0.0306\n",
            "                  58.0        270        272      0.964      0.993       0.99      0.802\n",
            "                  58.1          8          8          1      0.609      0.872      0.532\n",
            "                  59.0        274        275      0.966      0.996      0.982      0.848\n",
            "                  59.2          1          1          1          0     0.0107    0.00856\n",
            "                  59.3          1          1          0          0          0          0\n",
            "                  60.0        204        205      0.799      0.972      0.938      0.742\n",
            "                  60.1         29         36      0.424      0.583      0.472      0.207\n",
            "                  60.3         56         65      0.492      0.369      0.378      0.175\n",
            "                  61.0        280        280      0.966          1      0.986      0.827\n",
            "                  61.1          1          1          1          0          0          0\n",
            "                  61.4          4          4          1          0    0.00781    0.00651\n",
            "Speed: 0.6ms preprocess, 14.5ms inference, 0.0ms loss, 0.9ms postprocess per image\n",
            "Saving /content/drive/MyDrive/fiber_optic_box_inspection/runs_yolo/val_default_augmentations_/predictions.json...\n",
            "Results saved to \u001b[1m/content/drive/MyDrive/fiber_optic_box_inspection/runs_yolo/val_default_augmentations_\u001b[0m\n"
          ]
        }
      ]
    },
    {
      "cell_type": "code",
      "source": [
        "metrics"
      ],
      "metadata": {
        "colab": {
          "base_uri": "https://localhost:8080/"
        },
        "collapsed": true,
        "id": "NvHe6ag6UgR4",
        "outputId": "63cdb126-654b-4cd9-d476-a570abc32ec2"
      },
      "execution_count": 17,
      "outputs": [
        {
          "output_type": "execute_result",
          "data": {
            "text/plain": [
              "ultralytics.utils.metrics.DetMetrics object with attributes:\n",
              "\n",
              "ap_class_index: array([  0,   1,   2,   4,   7,   9,  10,  11,  14,  15,  16,  17,  18,  19,  20,  23,  24,  25,  28,  30,  32,  34,  35,  36,  37,  38,  41,  42,  43,  54,  55,  57,  60,  61,  62,  63,  67,  68,  69,  70,  71,  72,  73,  74,  75,  77,  80,  81,  83,  84,  85,  86,  87,  88,  93,  94,  97,  98,  99, 100, 101, 102,\n",
              "       103, 104, 105, 106, 108, 109, 110, 111, 112, 113, 114, 115, 116, 118, 119, 120, 122, 123, 124, 126, 127, 129, 130, 131, 132, 133, 134, 135, 136, 137, 138, 139, 140, 141, 142, 143, 144, 145, 146, 147, 148, 149, 150, 151, 152, 154, 155, 156, 157, 159, 160, 162, 164, 165, 166, 167, 168, 169, 170, 172])\n",
              "box: ultralytics.utils.metrics.Metric object\n",
              "confusion_matrix: <ultralytics.utils.metrics.ConfusionMatrix object at 0x7f651014a5d0>\n",
              "curves: ['Precision-Recall(B)', 'F1-Confidence(B)', 'Precision-Confidence(B)', 'Recall-Confidence(B)']\n",
              "curves_results: [[array([          0,    0.001001,    0.002002,    0.003003,    0.004004,    0.005005,    0.006006,    0.007007,    0.008008,    0.009009,     0.01001,    0.011011,    0.012012,    0.013013,    0.014014,    0.015015,    0.016016,    0.017017,    0.018018,    0.019019,     0.02002,    0.021021,    0.022022,    0.023023,\n",
              "          0.024024,    0.025025,    0.026026,    0.027027,    0.028028,    0.029029,     0.03003,    0.031031,    0.032032,    0.033033,    0.034034,    0.035035,    0.036036,    0.037037,    0.038038,    0.039039,     0.04004,    0.041041,    0.042042,    0.043043,    0.044044,    0.045045,    0.046046,    0.047047,\n",
              "          0.048048,    0.049049,     0.05005,    0.051051,    0.052052,    0.053053,    0.054054,    0.055055,    0.056056,    0.057057,    0.058058,    0.059059,     0.06006,    0.061061,    0.062062,    0.063063,    0.064064,    0.065065,    0.066066,    0.067067,    0.068068,    0.069069,     0.07007,    0.071071,\n",
              "          0.072072,    0.073073,    0.074074,    0.075075,    0.076076,    0.077077,    0.078078,    0.079079,     0.08008,    0.081081,    0.082082,    0.083083,    0.084084,    0.085085,    0.086086,    0.087087,    0.088088,    0.089089,     0.09009,    0.091091,    0.092092,    0.093093,    0.094094,    0.095095,\n",
              "          0.096096,    0.097097,    0.098098,    0.099099,      0.1001,      0.1011,      0.1021,      0.1031,      0.1041,     0.10511,     0.10611,     0.10711,     0.10811,     0.10911,     0.11011,     0.11111,     0.11211,     0.11311,     0.11411,     0.11512,     0.11612,     0.11712,     0.11812,     0.11912,\n",
              "           0.12012,     0.12112,     0.12212,     0.12312,     0.12412,     0.12513,     0.12613,     0.12713,     0.12813,     0.12913,     0.13013,     0.13113,     0.13213,     0.13313,     0.13413,     0.13514,     0.13614,     0.13714,     0.13814,     0.13914,     0.14014,     0.14114,     0.14214,     0.14314,\n",
              "           0.14414,     0.14515,     0.14615,     0.14715,     0.14815,     0.14915,     0.15015,     0.15115,     0.15215,     0.15315,     0.15415,     0.15516,     0.15616,     0.15716,     0.15816,     0.15916,     0.16016,     0.16116,     0.16216,     0.16316,     0.16416,     0.16517,     0.16617,     0.16717,\n",
              "           0.16817,     0.16917,     0.17017,     0.17117,     0.17217,     0.17317,     0.17417,     0.17518,     0.17618,     0.17718,     0.17818,     0.17918,     0.18018,     0.18118,     0.18218,     0.18318,     0.18418,     0.18519,     0.18619,     0.18719,     0.18819,     0.18919,     0.19019,     0.19119,\n",
              "           0.19219,     0.19319,     0.19419,      0.1952,      0.1962,      0.1972,      0.1982,      0.1992,      0.2002,      0.2012,      0.2022,      0.2032,      0.2042,     0.20521,     0.20621,     0.20721,     0.20821,     0.20921,     0.21021,     0.21121,     0.21221,     0.21321,     0.21421,     0.21522,\n",
              "           0.21622,     0.21722,     0.21822,     0.21922,     0.22022,     0.22122,     0.22222,     0.22322,     0.22422,     0.22523,     0.22623,     0.22723,     0.22823,     0.22923,     0.23023,     0.23123,     0.23223,     0.23323,     0.23423,     0.23524,     0.23624,     0.23724,     0.23824,     0.23924,\n",
              "           0.24024,     0.24124,     0.24224,     0.24324,     0.24424,     0.24525,     0.24625,     0.24725,     0.24825,     0.24925,     0.25025,     0.25125,     0.25225,     0.25325,     0.25425,     0.25526,     0.25626,     0.25726,     0.25826,     0.25926,     0.26026,     0.26126,     0.26226,     0.26326,\n",
              "           0.26426,     0.26527,     0.26627,     0.26727,     0.26827,     0.26927,     0.27027,     0.27127,     0.27227,     0.27327,     0.27427,     0.27528,     0.27628,     0.27728,     0.27828,     0.27928,     0.28028,     0.28128,     0.28228,     0.28328,     0.28428,     0.28529,     0.28629,     0.28729,\n",
              "           0.28829,     0.28929,     0.29029,     0.29129,     0.29229,     0.29329,     0.29429,      0.2953,      0.2963,      0.2973,      0.2983,      0.2993,      0.3003,      0.3013,      0.3023,      0.3033,      0.3043,     0.30531,     0.30631,     0.30731,     0.30831,     0.30931,     0.31031,     0.31131,\n",
              "           0.31231,     0.31331,     0.31431,     0.31532,     0.31632,     0.31732,     0.31832,     0.31932,     0.32032,     0.32132,     0.32232,     0.32332,     0.32432,     0.32533,     0.32633,     0.32733,     0.32833,     0.32933,     0.33033,     0.33133,     0.33233,     0.33333,     0.33433,     0.33534,\n",
              "           0.33634,     0.33734,     0.33834,     0.33934,     0.34034,     0.34134,     0.34234,     0.34334,     0.34434,     0.34535,     0.34635,     0.34735,     0.34835,     0.34935,     0.35035,     0.35135,     0.35235,     0.35335,     0.35435,     0.35536,     0.35636,     0.35736,     0.35836,     0.35936,\n",
              "           0.36036,     0.36136,     0.36236,     0.36336,     0.36436,     0.36537,     0.36637,     0.36737,     0.36837,     0.36937,     0.37037,     0.37137,     0.37237,     0.37337,     0.37437,     0.37538,     0.37638,     0.37738,     0.37838,     0.37938,     0.38038,     0.38138,     0.38238,     0.38338,\n",
              "           0.38438,     0.38539,     0.38639,     0.38739,     0.38839,     0.38939,     0.39039,     0.39139,     0.39239,     0.39339,     0.39439,      0.3954,      0.3964,      0.3974,      0.3984,      0.3994,      0.4004,      0.4014,      0.4024,      0.4034,      0.4044,     0.40541,     0.40641,     0.40741,\n",
              "           0.40841,     0.40941,     0.41041,     0.41141,     0.41241,     0.41341,     0.41441,     0.41542,     0.41642,     0.41742,     0.41842,     0.41942,     0.42042,     0.42142,     0.42242,     0.42342,     0.42442,     0.42543,     0.42643,     0.42743,     0.42843,     0.42943,     0.43043,     0.43143,\n",
              "           0.43243,     0.43343,     0.43443,     0.43544,     0.43644,     0.43744,     0.43844,     0.43944,     0.44044,     0.44144,     0.44244,     0.44344,     0.44444,     0.44545,     0.44645,     0.44745,     0.44845,     0.44945,     0.45045,     0.45145,     0.45245,     0.45345,     0.45445,     0.45546,\n",
              "           0.45646,     0.45746,     0.45846,     0.45946,     0.46046,     0.46146,     0.46246,     0.46346,     0.46446,     0.46547,     0.46647,     0.46747,     0.46847,     0.46947,     0.47047,     0.47147,     0.47247,     0.47347,     0.47447,     0.47548,     0.47648,     0.47748,     0.47848,     0.47948,\n",
              "           0.48048,     0.48148,     0.48248,     0.48348,     0.48448,     0.48549,     0.48649,     0.48749,     0.48849,     0.48949,     0.49049,     0.49149,     0.49249,     0.49349,     0.49449,      0.4955,      0.4965,      0.4975,      0.4985,      0.4995,      0.5005,      0.5015,      0.5025,      0.5035,\n",
              "            0.5045,     0.50551,     0.50651,     0.50751,     0.50851,     0.50951,     0.51051,     0.51151,     0.51251,     0.51351,     0.51451,     0.51552,     0.51652,     0.51752,     0.51852,     0.51952,     0.52052,     0.52152,     0.52252,     0.52352,     0.52452,     0.52553,     0.52653,     0.52753,\n",
              "           0.52853,     0.52953,     0.53053,     0.53153,     0.53253,     0.53353,     0.53453,     0.53554,     0.53654,     0.53754,     0.53854,     0.53954,     0.54054,     0.54154,     0.54254,     0.54354,     0.54454,     0.54555,     0.54655,     0.54755,     0.54855,     0.54955,     0.55055,     0.55155,\n",
              "           0.55255,     0.55355,     0.55455,     0.55556,     0.55656,     0.55756,     0.55856,     0.55956,     0.56056,     0.56156,     0.56256,     0.56356,     0.56456,     0.56557,     0.56657,     0.56757,     0.56857,     0.56957,     0.57057,     0.57157,     0.57257,     0.57357,     0.57457,     0.57558,\n",
              "           0.57658,     0.57758,     0.57858,     0.57958,     0.58058,     0.58158,     0.58258,     0.58358,     0.58458,     0.58559,     0.58659,     0.58759,     0.58859,     0.58959,     0.59059,     0.59159,     0.59259,     0.59359,     0.59459,      0.5956,      0.5966,      0.5976,      0.5986,      0.5996,\n",
              "            0.6006,      0.6016,      0.6026,      0.6036,      0.6046,     0.60561,     0.60661,     0.60761,     0.60861,     0.60961,     0.61061,     0.61161,     0.61261,     0.61361,     0.61461,     0.61562,     0.61662,     0.61762,     0.61862,     0.61962,     0.62062,     0.62162,     0.62262,     0.62362,\n",
              "           0.62462,     0.62563,     0.62663,     0.62763,     0.62863,     0.62963,     0.63063,     0.63163,     0.63263,     0.63363,     0.63463,     0.63564,     0.63664,     0.63764,     0.63864,     0.63964,     0.64064,     0.64164,     0.64264,     0.64364,     0.64464,     0.64565,     0.64665,     0.64765,\n",
              "           0.64865,     0.64965,     0.65065,     0.65165,     0.65265,     0.65365,     0.65465,     0.65566,     0.65666,     0.65766,     0.65866,     0.65966,     0.66066,     0.66166,     0.66266,     0.66366,     0.66466,     0.66567,     0.66667,     0.66767,     0.66867,     0.66967,     0.67067,     0.67167,\n",
              "           0.67267,     0.67367,     0.67467,     0.67568,     0.67668,     0.67768,     0.67868,     0.67968,     0.68068,     0.68168,     0.68268,     0.68368,     0.68468,     0.68569,     0.68669,     0.68769,     0.68869,     0.68969,     0.69069,     0.69169,     0.69269,     0.69369,     0.69469,      0.6957,\n",
              "            0.6967,      0.6977,      0.6987,      0.6997,      0.7007,      0.7017,      0.7027,      0.7037,      0.7047,     0.70571,     0.70671,     0.70771,     0.70871,     0.70971,     0.71071,     0.71171,     0.71271,     0.71371,     0.71471,     0.71572,     0.71672,     0.71772,     0.71872,     0.71972,\n",
              "           0.72072,     0.72172,     0.72272,     0.72372,     0.72472,     0.72573,     0.72673,     0.72773,     0.72873,     0.72973,     0.73073,     0.73173,     0.73273,     0.73373,     0.73473,     0.73574,     0.73674,     0.73774,     0.73874,     0.73974,     0.74074,     0.74174,     0.74274,     0.74374,\n",
              "           0.74474,     0.74575,     0.74675,     0.74775,     0.74875,     0.74975,     0.75075,     0.75175,     0.75275,     0.75375,     0.75475,     0.75576,     0.75676,     0.75776,     0.75876,     0.75976,     0.76076,     0.76176,     0.76276,     0.76376,     0.76476,     0.76577,     0.76677,     0.76777,\n",
              "           0.76877,     0.76977,     0.77077,     0.77177,     0.77277,     0.77377,     0.77477,     0.77578,     0.77678,     0.77778,     0.77878,     0.77978,     0.78078,     0.78178,     0.78278,     0.78378,     0.78478,     0.78579,     0.78679,     0.78779,     0.78879,     0.78979,     0.79079,     0.79179,\n",
              "           0.79279,     0.79379,     0.79479,      0.7958,      0.7968,      0.7978,      0.7988,      0.7998,      0.8008,      0.8018,      0.8028,      0.8038,      0.8048,     0.80581,     0.80681,     0.80781,     0.80881,     0.80981,     0.81081,     0.81181,     0.81281,     0.81381,     0.81481,     0.81582,\n",
              "           0.81682,     0.81782,     0.81882,     0.81982,     0.82082,     0.82182,     0.82282,     0.82382,     0.82482,     0.82583,     0.82683,     0.82783,     0.82883,     0.82983,     0.83083,     0.83183,     0.83283,     0.83383,     0.83483,     0.83584,     0.83684,     0.83784,     0.83884,     0.83984,\n",
              "           0.84084,     0.84184,     0.84284,     0.84384,     0.84484,     0.84585,     0.84685,     0.84785,     0.84885,     0.84985,     0.85085,     0.85185,     0.85285,     0.85385,     0.85485,     0.85586,     0.85686,     0.85786,     0.85886,     0.85986,     0.86086,     0.86186,     0.86286,     0.86386,\n",
              "           0.86486,     0.86587,     0.86687,     0.86787,     0.86887,     0.86987,     0.87087,     0.87187,     0.87287,     0.87387,     0.87487,     0.87588,     0.87688,     0.87788,     0.87888,     0.87988,     0.88088,     0.88188,     0.88288,     0.88388,     0.88488,     0.88589,     0.88689,     0.88789,\n",
              "           0.88889,     0.88989,     0.89089,     0.89189,     0.89289,     0.89389,     0.89489,      0.8959,      0.8969,      0.8979,      0.8989,      0.8999,      0.9009,      0.9019,      0.9029,      0.9039,      0.9049,     0.90591,     0.90691,     0.90791,     0.90891,     0.90991,     0.91091,     0.91191,\n",
              "           0.91291,     0.91391,     0.91491,     0.91592,     0.91692,     0.91792,     0.91892,     0.91992,     0.92092,     0.92192,     0.92292,     0.92392,     0.92492,     0.92593,     0.92693,     0.92793,     0.92893,     0.92993,     0.93093,     0.93193,     0.93293,     0.93393,     0.93493,     0.93594,\n",
              "           0.93694,     0.93794,     0.93894,     0.93994,     0.94094,     0.94194,     0.94294,     0.94394,     0.94494,     0.94595,     0.94695,     0.94795,     0.94895,     0.94995,     0.95095,     0.95195,     0.95295,     0.95395,     0.95495,     0.95596,     0.95696,     0.95796,     0.95896,     0.95996,\n",
              "           0.96096,     0.96196,     0.96296,     0.96396,     0.96496,     0.96597,     0.96697,     0.96797,     0.96897,     0.96997,     0.97097,     0.97197,     0.97297,     0.97397,     0.97497,     0.97598,     0.97698,     0.97798,     0.97898,     0.97998,     0.98098,     0.98198,     0.98298,     0.98398,\n",
              "           0.98498,     0.98599,     0.98699,     0.98799,     0.98899,     0.98999,     0.99099,     0.99199,     0.99299,     0.99399,     0.99499,       0.996,       0.997,       0.998,       0.999,           1]), array([[          1,           1,           1, ...,     0.05372,     0.02686,           0],\n",
              "       [          1,           1,           1, ...,    0.022077,    0.011038,           0],\n",
              "       [    0.66667,     0.66667,     0.66667, ...,  0.00052183,  0.00026091,           0],\n",
              "       ...,\n",
              "       [          1,           1,           1, ...,     0.97222,     0.97222,           0],\n",
              "       [          0,           0,           0, ...,           0,           0,           0],\n",
              "       [   0.013333,    0.013333,    0.013333, ...,  2.5667e-05,  1.2833e-05,           0]]), 'Recall', 'Precision'], [array([          0,    0.001001,    0.002002,    0.003003,    0.004004,    0.005005,    0.006006,    0.007007,    0.008008,    0.009009,     0.01001,    0.011011,    0.012012,    0.013013,    0.014014,    0.015015,    0.016016,    0.017017,    0.018018,    0.019019,     0.02002,    0.021021,    0.022022,    0.023023,\n",
              "          0.024024,    0.025025,    0.026026,    0.027027,    0.028028,    0.029029,     0.03003,    0.031031,    0.032032,    0.033033,    0.034034,    0.035035,    0.036036,    0.037037,    0.038038,    0.039039,     0.04004,    0.041041,    0.042042,    0.043043,    0.044044,    0.045045,    0.046046,    0.047047,\n",
              "          0.048048,    0.049049,     0.05005,    0.051051,    0.052052,    0.053053,    0.054054,    0.055055,    0.056056,    0.057057,    0.058058,    0.059059,     0.06006,    0.061061,    0.062062,    0.063063,    0.064064,    0.065065,    0.066066,    0.067067,    0.068068,    0.069069,     0.07007,    0.071071,\n",
              "          0.072072,    0.073073,    0.074074,    0.075075,    0.076076,    0.077077,    0.078078,    0.079079,     0.08008,    0.081081,    0.082082,    0.083083,    0.084084,    0.085085,    0.086086,    0.087087,    0.088088,    0.089089,     0.09009,    0.091091,    0.092092,    0.093093,    0.094094,    0.095095,\n",
              "          0.096096,    0.097097,    0.098098,    0.099099,      0.1001,      0.1011,      0.1021,      0.1031,      0.1041,     0.10511,     0.10611,     0.10711,     0.10811,     0.10911,     0.11011,     0.11111,     0.11211,     0.11311,     0.11411,     0.11512,     0.11612,     0.11712,     0.11812,     0.11912,\n",
              "           0.12012,     0.12112,     0.12212,     0.12312,     0.12412,     0.12513,     0.12613,     0.12713,     0.12813,     0.12913,     0.13013,     0.13113,     0.13213,     0.13313,     0.13413,     0.13514,     0.13614,     0.13714,     0.13814,     0.13914,     0.14014,     0.14114,     0.14214,     0.14314,\n",
              "           0.14414,     0.14515,     0.14615,     0.14715,     0.14815,     0.14915,     0.15015,     0.15115,     0.15215,     0.15315,     0.15415,     0.15516,     0.15616,     0.15716,     0.15816,     0.15916,     0.16016,     0.16116,     0.16216,     0.16316,     0.16416,     0.16517,     0.16617,     0.16717,\n",
              "           0.16817,     0.16917,     0.17017,     0.17117,     0.17217,     0.17317,     0.17417,     0.17518,     0.17618,     0.17718,     0.17818,     0.17918,     0.18018,     0.18118,     0.18218,     0.18318,     0.18418,     0.18519,     0.18619,     0.18719,     0.18819,     0.18919,     0.19019,     0.19119,\n",
              "           0.19219,     0.19319,     0.19419,      0.1952,      0.1962,      0.1972,      0.1982,      0.1992,      0.2002,      0.2012,      0.2022,      0.2032,      0.2042,     0.20521,     0.20621,     0.20721,     0.20821,     0.20921,     0.21021,     0.21121,     0.21221,     0.21321,     0.21421,     0.21522,\n",
              "           0.21622,     0.21722,     0.21822,     0.21922,     0.22022,     0.22122,     0.22222,     0.22322,     0.22422,     0.22523,     0.22623,     0.22723,     0.22823,     0.22923,     0.23023,     0.23123,     0.23223,     0.23323,     0.23423,     0.23524,     0.23624,     0.23724,     0.23824,     0.23924,\n",
              "           0.24024,     0.24124,     0.24224,     0.24324,     0.24424,     0.24525,     0.24625,     0.24725,     0.24825,     0.24925,     0.25025,     0.25125,     0.25225,     0.25325,     0.25425,     0.25526,     0.25626,     0.25726,     0.25826,     0.25926,     0.26026,     0.26126,     0.26226,     0.26326,\n",
              "           0.26426,     0.26527,     0.26627,     0.26727,     0.26827,     0.26927,     0.27027,     0.27127,     0.27227,     0.27327,     0.27427,     0.27528,     0.27628,     0.27728,     0.27828,     0.27928,     0.28028,     0.28128,     0.28228,     0.28328,     0.28428,     0.28529,     0.28629,     0.28729,\n",
              "           0.28829,     0.28929,     0.29029,     0.29129,     0.29229,     0.29329,     0.29429,      0.2953,      0.2963,      0.2973,      0.2983,      0.2993,      0.3003,      0.3013,      0.3023,      0.3033,      0.3043,     0.30531,     0.30631,     0.30731,     0.30831,     0.30931,     0.31031,     0.31131,\n",
              "           0.31231,     0.31331,     0.31431,     0.31532,     0.31632,     0.31732,     0.31832,     0.31932,     0.32032,     0.32132,     0.32232,     0.32332,     0.32432,     0.32533,     0.32633,     0.32733,     0.32833,     0.32933,     0.33033,     0.33133,     0.33233,     0.33333,     0.33433,     0.33534,\n",
              "           0.33634,     0.33734,     0.33834,     0.33934,     0.34034,     0.34134,     0.34234,     0.34334,     0.34434,     0.34535,     0.34635,     0.34735,     0.34835,     0.34935,     0.35035,     0.35135,     0.35235,     0.35335,     0.35435,     0.35536,     0.35636,     0.35736,     0.35836,     0.35936,\n",
              "           0.36036,     0.36136,     0.36236,     0.36336,     0.36436,     0.36537,     0.36637,     0.36737,     0.36837,     0.36937,     0.37037,     0.37137,     0.37237,     0.37337,     0.37437,     0.37538,     0.37638,     0.37738,     0.37838,     0.37938,     0.38038,     0.38138,     0.38238,     0.38338,\n",
              "           0.38438,     0.38539,     0.38639,     0.38739,     0.38839,     0.38939,     0.39039,     0.39139,     0.39239,     0.39339,     0.39439,      0.3954,      0.3964,      0.3974,      0.3984,      0.3994,      0.4004,      0.4014,      0.4024,      0.4034,      0.4044,     0.40541,     0.40641,     0.40741,\n",
              "           0.40841,     0.40941,     0.41041,     0.41141,     0.41241,     0.41341,     0.41441,     0.41542,     0.41642,     0.41742,     0.41842,     0.41942,     0.42042,     0.42142,     0.42242,     0.42342,     0.42442,     0.42543,     0.42643,     0.42743,     0.42843,     0.42943,     0.43043,     0.43143,\n",
              "           0.43243,     0.43343,     0.43443,     0.43544,     0.43644,     0.43744,     0.43844,     0.43944,     0.44044,     0.44144,     0.44244,     0.44344,     0.44444,     0.44545,     0.44645,     0.44745,     0.44845,     0.44945,     0.45045,     0.45145,     0.45245,     0.45345,     0.45445,     0.45546,\n",
              "           0.45646,     0.45746,     0.45846,     0.45946,     0.46046,     0.46146,     0.46246,     0.46346,     0.46446,     0.46547,     0.46647,     0.46747,     0.46847,     0.46947,     0.47047,     0.47147,     0.47247,     0.47347,     0.47447,     0.47548,     0.47648,     0.47748,     0.47848,     0.47948,\n",
              "           0.48048,     0.48148,     0.48248,     0.48348,     0.48448,     0.48549,     0.48649,     0.48749,     0.48849,     0.48949,     0.49049,     0.49149,     0.49249,     0.49349,     0.49449,      0.4955,      0.4965,      0.4975,      0.4985,      0.4995,      0.5005,      0.5015,      0.5025,      0.5035,\n",
              "            0.5045,     0.50551,     0.50651,     0.50751,     0.50851,     0.50951,     0.51051,     0.51151,     0.51251,     0.51351,     0.51451,     0.51552,     0.51652,     0.51752,     0.51852,     0.51952,     0.52052,     0.52152,     0.52252,     0.52352,     0.52452,     0.52553,     0.52653,     0.52753,\n",
              "           0.52853,     0.52953,     0.53053,     0.53153,     0.53253,     0.53353,     0.53453,     0.53554,     0.53654,     0.53754,     0.53854,     0.53954,     0.54054,     0.54154,     0.54254,     0.54354,     0.54454,     0.54555,     0.54655,     0.54755,     0.54855,     0.54955,     0.55055,     0.55155,\n",
              "           0.55255,     0.55355,     0.55455,     0.55556,     0.55656,     0.55756,     0.55856,     0.55956,     0.56056,     0.56156,     0.56256,     0.56356,     0.56456,     0.56557,     0.56657,     0.56757,     0.56857,     0.56957,     0.57057,     0.57157,     0.57257,     0.57357,     0.57457,     0.57558,\n",
              "           0.57658,     0.57758,     0.57858,     0.57958,     0.58058,     0.58158,     0.58258,     0.58358,     0.58458,     0.58559,     0.58659,     0.58759,     0.58859,     0.58959,     0.59059,     0.59159,     0.59259,     0.59359,     0.59459,      0.5956,      0.5966,      0.5976,      0.5986,      0.5996,\n",
              "            0.6006,      0.6016,      0.6026,      0.6036,      0.6046,     0.60561,     0.60661,     0.60761,     0.60861,     0.60961,     0.61061,     0.61161,     0.61261,     0.61361,     0.61461,     0.61562,     0.61662,     0.61762,     0.61862,     0.61962,     0.62062,     0.62162,     0.62262,     0.62362,\n",
              "           0.62462,     0.62563,     0.62663,     0.62763,     0.62863,     0.62963,     0.63063,     0.63163,     0.63263,     0.63363,     0.63463,     0.63564,     0.63664,     0.63764,     0.63864,     0.63964,     0.64064,     0.64164,     0.64264,     0.64364,     0.64464,     0.64565,     0.64665,     0.64765,\n",
              "           0.64865,     0.64965,     0.65065,     0.65165,     0.65265,     0.65365,     0.65465,     0.65566,     0.65666,     0.65766,     0.65866,     0.65966,     0.66066,     0.66166,     0.66266,     0.66366,     0.66466,     0.66567,     0.66667,     0.66767,     0.66867,     0.66967,     0.67067,     0.67167,\n",
              "           0.67267,     0.67367,     0.67467,     0.67568,     0.67668,     0.67768,     0.67868,     0.67968,     0.68068,     0.68168,     0.68268,     0.68368,     0.68468,     0.68569,     0.68669,     0.68769,     0.68869,     0.68969,     0.69069,     0.69169,     0.69269,     0.69369,     0.69469,      0.6957,\n",
              "            0.6967,      0.6977,      0.6987,      0.6997,      0.7007,      0.7017,      0.7027,      0.7037,      0.7047,     0.70571,     0.70671,     0.70771,     0.70871,     0.70971,     0.71071,     0.71171,     0.71271,     0.71371,     0.71471,     0.71572,     0.71672,     0.71772,     0.71872,     0.71972,\n",
              "           0.72072,     0.72172,     0.72272,     0.72372,     0.72472,     0.72573,     0.72673,     0.72773,     0.72873,     0.72973,     0.73073,     0.73173,     0.73273,     0.73373,     0.73473,     0.73574,     0.73674,     0.73774,     0.73874,     0.73974,     0.74074,     0.74174,     0.74274,     0.74374,\n",
              "           0.74474,     0.74575,     0.74675,     0.74775,     0.74875,     0.74975,     0.75075,     0.75175,     0.75275,     0.75375,     0.75475,     0.75576,     0.75676,     0.75776,     0.75876,     0.75976,     0.76076,     0.76176,     0.76276,     0.76376,     0.76476,     0.76577,     0.76677,     0.76777,\n",
              "           0.76877,     0.76977,     0.77077,     0.77177,     0.77277,     0.77377,     0.77477,     0.77578,     0.77678,     0.77778,     0.77878,     0.77978,     0.78078,     0.78178,     0.78278,     0.78378,     0.78478,     0.78579,     0.78679,     0.78779,     0.78879,     0.78979,     0.79079,     0.79179,\n",
              "           0.79279,     0.79379,     0.79479,      0.7958,      0.7968,      0.7978,      0.7988,      0.7998,      0.8008,      0.8018,      0.8028,      0.8038,      0.8048,     0.80581,     0.80681,     0.80781,     0.80881,     0.80981,     0.81081,     0.81181,     0.81281,     0.81381,     0.81481,     0.81582,\n",
              "           0.81682,     0.81782,     0.81882,     0.81982,     0.82082,     0.82182,     0.82282,     0.82382,     0.82482,     0.82583,     0.82683,     0.82783,     0.82883,     0.82983,     0.83083,     0.83183,     0.83283,     0.83383,     0.83483,     0.83584,     0.83684,     0.83784,     0.83884,     0.83984,\n",
              "           0.84084,     0.84184,     0.84284,     0.84384,     0.84484,     0.84585,     0.84685,     0.84785,     0.84885,     0.84985,     0.85085,     0.85185,     0.85285,     0.85385,     0.85485,     0.85586,     0.85686,     0.85786,     0.85886,     0.85986,     0.86086,     0.86186,     0.86286,     0.86386,\n",
              "           0.86486,     0.86587,     0.86687,     0.86787,     0.86887,     0.86987,     0.87087,     0.87187,     0.87287,     0.87387,     0.87487,     0.87588,     0.87688,     0.87788,     0.87888,     0.87988,     0.88088,     0.88188,     0.88288,     0.88388,     0.88488,     0.88589,     0.88689,     0.88789,\n",
              "           0.88889,     0.88989,     0.89089,     0.89189,     0.89289,     0.89389,     0.89489,      0.8959,      0.8969,      0.8979,      0.8989,      0.8999,      0.9009,      0.9019,      0.9029,      0.9039,      0.9049,     0.90591,     0.90691,     0.90791,     0.90891,     0.90991,     0.91091,     0.91191,\n",
              "           0.91291,     0.91391,     0.91491,     0.91592,     0.91692,     0.91792,     0.91892,     0.91992,     0.92092,     0.92192,     0.92292,     0.92392,     0.92492,     0.92593,     0.92693,     0.92793,     0.92893,     0.92993,     0.93093,     0.93193,     0.93293,     0.93393,     0.93493,     0.93594,\n",
              "           0.93694,     0.93794,     0.93894,     0.93994,     0.94094,     0.94194,     0.94294,     0.94394,     0.94494,     0.94595,     0.94695,     0.94795,     0.94895,     0.94995,     0.95095,     0.95195,     0.95295,     0.95395,     0.95495,     0.95596,     0.95696,     0.95796,     0.95896,     0.95996,\n",
              "           0.96096,     0.96196,     0.96296,     0.96396,     0.96496,     0.96597,     0.96697,     0.96797,     0.96897,     0.96997,     0.97097,     0.97197,     0.97297,     0.97397,     0.97497,     0.97598,     0.97698,     0.97798,     0.97898,     0.97998,     0.98098,     0.98198,     0.98298,     0.98398,\n",
              "           0.98498,     0.98599,     0.98699,     0.98799,     0.98899,     0.98999,     0.99099,     0.99199,     0.99299,     0.99399,     0.99499,       0.996,       0.997,       0.998,       0.999,           1]), array([[    0.65447,     0.65447,     0.70383, ...,           0,           0,           0],\n",
              "       [    0.28205,     0.28268,     0.34023, ...,           0,           0,           0],\n",
              "       [   0.092199,    0.092199,     0.12593, ...,           0,           0,           0],\n",
              "       ...,\n",
              "       [    0.90762,     0.90762,     0.93947, ...,           0,           0,           0],\n",
              "       [          0,           0,           0, ...,           0,           0,           0],\n",
              "       [   0.012658,    0.012658,    0.013661, ...,           0,           0,           0]]), 'Confidence', 'F1'], [array([          0,    0.001001,    0.002002,    0.003003,    0.004004,    0.005005,    0.006006,    0.007007,    0.008008,    0.009009,     0.01001,    0.011011,    0.012012,    0.013013,    0.014014,    0.015015,    0.016016,    0.017017,    0.018018,    0.019019,     0.02002,    0.021021,    0.022022,    0.023023,\n",
              "          0.024024,    0.025025,    0.026026,    0.027027,    0.028028,    0.029029,     0.03003,    0.031031,    0.032032,    0.033033,    0.034034,    0.035035,    0.036036,    0.037037,    0.038038,    0.039039,     0.04004,    0.041041,    0.042042,    0.043043,    0.044044,    0.045045,    0.046046,    0.047047,\n",
              "          0.048048,    0.049049,     0.05005,    0.051051,    0.052052,    0.053053,    0.054054,    0.055055,    0.056056,    0.057057,    0.058058,    0.059059,     0.06006,    0.061061,    0.062062,    0.063063,    0.064064,    0.065065,    0.066066,    0.067067,    0.068068,    0.069069,     0.07007,    0.071071,\n",
              "          0.072072,    0.073073,    0.074074,    0.075075,    0.076076,    0.077077,    0.078078,    0.079079,     0.08008,    0.081081,    0.082082,    0.083083,    0.084084,    0.085085,    0.086086,    0.087087,    0.088088,    0.089089,     0.09009,    0.091091,    0.092092,    0.093093,    0.094094,    0.095095,\n",
              "          0.096096,    0.097097,    0.098098,    0.099099,      0.1001,      0.1011,      0.1021,      0.1031,      0.1041,     0.10511,     0.10611,     0.10711,     0.10811,     0.10911,     0.11011,     0.11111,     0.11211,     0.11311,     0.11411,     0.11512,     0.11612,     0.11712,     0.11812,     0.11912,\n",
              "           0.12012,     0.12112,     0.12212,     0.12312,     0.12412,     0.12513,     0.12613,     0.12713,     0.12813,     0.12913,     0.13013,     0.13113,     0.13213,     0.13313,     0.13413,     0.13514,     0.13614,     0.13714,     0.13814,     0.13914,     0.14014,     0.14114,     0.14214,     0.14314,\n",
              "           0.14414,     0.14515,     0.14615,     0.14715,     0.14815,     0.14915,     0.15015,     0.15115,     0.15215,     0.15315,     0.15415,     0.15516,     0.15616,     0.15716,     0.15816,     0.15916,     0.16016,     0.16116,     0.16216,     0.16316,     0.16416,     0.16517,     0.16617,     0.16717,\n",
              "           0.16817,     0.16917,     0.17017,     0.17117,     0.17217,     0.17317,     0.17417,     0.17518,     0.17618,     0.17718,     0.17818,     0.17918,     0.18018,     0.18118,     0.18218,     0.18318,     0.18418,     0.18519,     0.18619,     0.18719,     0.18819,     0.18919,     0.19019,     0.19119,\n",
              "           0.19219,     0.19319,     0.19419,      0.1952,      0.1962,      0.1972,      0.1982,      0.1992,      0.2002,      0.2012,      0.2022,      0.2032,      0.2042,     0.20521,     0.20621,     0.20721,     0.20821,     0.20921,     0.21021,     0.21121,     0.21221,     0.21321,     0.21421,     0.21522,\n",
              "           0.21622,     0.21722,     0.21822,     0.21922,     0.22022,     0.22122,     0.22222,     0.22322,     0.22422,     0.22523,     0.22623,     0.22723,     0.22823,     0.22923,     0.23023,     0.23123,     0.23223,     0.23323,     0.23423,     0.23524,     0.23624,     0.23724,     0.23824,     0.23924,\n",
              "           0.24024,     0.24124,     0.24224,     0.24324,     0.24424,     0.24525,     0.24625,     0.24725,     0.24825,     0.24925,     0.25025,     0.25125,     0.25225,     0.25325,     0.25425,     0.25526,     0.25626,     0.25726,     0.25826,     0.25926,     0.26026,     0.26126,     0.26226,     0.26326,\n",
              "           0.26426,     0.26527,     0.26627,     0.26727,     0.26827,     0.26927,     0.27027,     0.27127,     0.27227,     0.27327,     0.27427,     0.27528,     0.27628,     0.27728,     0.27828,     0.27928,     0.28028,     0.28128,     0.28228,     0.28328,     0.28428,     0.28529,     0.28629,     0.28729,\n",
              "           0.28829,     0.28929,     0.29029,     0.29129,     0.29229,     0.29329,     0.29429,      0.2953,      0.2963,      0.2973,      0.2983,      0.2993,      0.3003,      0.3013,      0.3023,      0.3033,      0.3043,     0.30531,     0.30631,     0.30731,     0.30831,     0.30931,     0.31031,     0.31131,\n",
              "           0.31231,     0.31331,     0.31431,     0.31532,     0.31632,     0.31732,     0.31832,     0.31932,     0.32032,     0.32132,     0.32232,     0.32332,     0.32432,     0.32533,     0.32633,     0.32733,     0.32833,     0.32933,     0.33033,     0.33133,     0.33233,     0.33333,     0.33433,     0.33534,\n",
              "           0.33634,     0.33734,     0.33834,     0.33934,     0.34034,     0.34134,     0.34234,     0.34334,     0.34434,     0.34535,     0.34635,     0.34735,     0.34835,     0.34935,     0.35035,     0.35135,     0.35235,     0.35335,     0.35435,     0.35536,     0.35636,     0.35736,     0.35836,     0.35936,\n",
              "           0.36036,     0.36136,     0.36236,     0.36336,     0.36436,     0.36537,     0.36637,     0.36737,     0.36837,     0.36937,     0.37037,     0.37137,     0.37237,     0.37337,     0.37437,     0.37538,     0.37638,     0.37738,     0.37838,     0.37938,     0.38038,     0.38138,     0.38238,     0.38338,\n",
              "           0.38438,     0.38539,     0.38639,     0.38739,     0.38839,     0.38939,     0.39039,     0.39139,     0.39239,     0.39339,     0.39439,      0.3954,      0.3964,      0.3974,      0.3984,      0.3994,      0.4004,      0.4014,      0.4024,      0.4034,      0.4044,     0.40541,     0.40641,     0.40741,\n",
              "           0.40841,     0.40941,     0.41041,     0.41141,     0.41241,     0.41341,     0.41441,     0.41542,     0.41642,     0.41742,     0.41842,     0.41942,     0.42042,     0.42142,     0.42242,     0.42342,     0.42442,     0.42543,     0.42643,     0.42743,     0.42843,     0.42943,     0.43043,     0.43143,\n",
              "           0.43243,     0.43343,     0.43443,     0.43544,     0.43644,     0.43744,     0.43844,     0.43944,     0.44044,     0.44144,     0.44244,     0.44344,     0.44444,     0.44545,     0.44645,     0.44745,     0.44845,     0.44945,     0.45045,     0.45145,     0.45245,     0.45345,     0.45445,     0.45546,\n",
              "           0.45646,     0.45746,     0.45846,     0.45946,     0.46046,     0.46146,     0.46246,     0.46346,     0.46446,     0.46547,     0.46647,     0.46747,     0.46847,     0.46947,     0.47047,     0.47147,     0.47247,     0.47347,     0.47447,     0.47548,     0.47648,     0.47748,     0.47848,     0.47948,\n",
              "           0.48048,     0.48148,     0.48248,     0.48348,     0.48448,     0.48549,     0.48649,     0.48749,     0.48849,     0.48949,     0.49049,     0.49149,     0.49249,     0.49349,     0.49449,      0.4955,      0.4965,      0.4975,      0.4985,      0.4995,      0.5005,      0.5015,      0.5025,      0.5035,\n",
              "            0.5045,     0.50551,     0.50651,     0.50751,     0.50851,     0.50951,     0.51051,     0.51151,     0.51251,     0.51351,     0.51451,     0.51552,     0.51652,     0.51752,     0.51852,     0.51952,     0.52052,     0.52152,     0.52252,     0.52352,     0.52452,     0.52553,     0.52653,     0.52753,\n",
              "           0.52853,     0.52953,     0.53053,     0.53153,     0.53253,     0.53353,     0.53453,     0.53554,     0.53654,     0.53754,     0.53854,     0.53954,     0.54054,     0.54154,     0.54254,     0.54354,     0.54454,     0.54555,     0.54655,     0.54755,     0.54855,     0.54955,     0.55055,     0.55155,\n",
              "           0.55255,     0.55355,     0.55455,     0.55556,     0.55656,     0.55756,     0.55856,     0.55956,     0.56056,     0.56156,     0.56256,     0.56356,     0.56456,     0.56557,     0.56657,     0.56757,     0.56857,     0.56957,     0.57057,     0.57157,     0.57257,     0.57357,     0.57457,     0.57558,\n",
              "           0.57658,     0.57758,     0.57858,     0.57958,     0.58058,     0.58158,     0.58258,     0.58358,     0.58458,     0.58559,     0.58659,     0.58759,     0.58859,     0.58959,     0.59059,     0.59159,     0.59259,     0.59359,     0.59459,      0.5956,      0.5966,      0.5976,      0.5986,      0.5996,\n",
              "            0.6006,      0.6016,      0.6026,      0.6036,      0.6046,     0.60561,     0.60661,     0.60761,     0.60861,     0.60961,     0.61061,     0.61161,     0.61261,     0.61361,     0.61461,     0.61562,     0.61662,     0.61762,     0.61862,     0.61962,     0.62062,     0.62162,     0.62262,     0.62362,\n",
              "           0.62462,     0.62563,     0.62663,     0.62763,     0.62863,     0.62963,     0.63063,     0.63163,     0.63263,     0.63363,     0.63463,     0.63564,     0.63664,     0.63764,     0.63864,     0.63964,     0.64064,     0.64164,     0.64264,     0.64364,     0.64464,     0.64565,     0.64665,     0.64765,\n",
              "           0.64865,     0.64965,     0.65065,     0.65165,     0.65265,     0.65365,     0.65465,     0.65566,     0.65666,     0.65766,     0.65866,     0.65966,     0.66066,     0.66166,     0.66266,     0.66366,     0.66466,     0.66567,     0.66667,     0.66767,     0.66867,     0.66967,     0.67067,     0.67167,\n",
              "           0.67267,     0.67367,     0.67467,     0.67568,     0.67668,     0.67768,     0.67868,     0.67968,     0.68068,     0.68168,     0.68268,     0.68368,     0.68468,     0.68569,     0.68669,     0.68769,     0.68869,     0.68969,     0.69069,     0.69169,     0.69269,     0.69369,     0.69469,      0.6957,\n",
              "            0.6967,      0.6977,      0.6987,      0.6997,      0.7007,      0.7017,      0.7027,      0.7037,      0.7047,     0.70571,     0.70671,     0.70771,     0.70871,     0.70971,     0.71071,     0.71171,     0.71271,     0.71371,     0.71471,     0.71572,     0.71672,     0.71772,     0.71872,     0.71972,\n",
              "           0.72072,     0.72172,     0.72272,     0.72372,     0.72472,     0.72573,     0.72673,     0.72773,     0.72873,     0.72973,     0.73073,     0.73173,     0.73273,     0.73373,     0.73473,     0.73574,     0.73674,     0.73774,     0.73874,     0.73974,     0.74074,     0.74174,     0.74274,     0.74374,\n",
              "           0.74474,     0.74575,     0.74675,     0.74775,     0.74875,     0.74975,     0.75075,     0.75175,     0.75275,     0.75375,     0.75475,     0.75576,     0.75676,     0.75776,     0.75876,     0.75976,     0.76076,     0.76176,     0.76276,     0.76376,     0.76476,     0.76577,     0.76677,     0.76777,\n",
              "           0.76877,     0.76977,     0.77077,     0.77177,     0.77277,     0.77377,     0.77477,     0.77578,     0.77678,     0.77778,     0.77878,     0.77978,     0.78078,     0.78178,     0.78278,     0.78378,     0.78478,     0.78579,     0.78679,     0.78779,     0.78879,     0.78979,     0.79079,     0.79179,\n",
              "           0.79279,     0.79379,     0.79479,      0.7958,      0.7968,      0.7978,      0.7988,      0.7998,      0.8008,      0.8018,      0.8028,      0.8038,      0.8048,     0.80581,     0.80681,     0.80781,     0.80881,     0.80981,     0.81081,     0.81181,     0.81281,     0.81381,     0.81481,     0.81582,\n",
              "           0.81682,     0.81782,     0.81882,     0.81982,     0.82082,     0.82182,     0.82282,     0.82382,     0.82482,     0.82583,     0.82683,     0.82783,     0.82883,     0.82983,     0.83083,     0.83183,     0.83283,     0.83383,     0.83483,     0.83584,     0.83684,     0.83784,     0.83884,     0.83984,\n",
              "           0.84084,     0.84184,     0.84284,     0.84384,     0.84484,     0.84585,     0.84685,     0.84785,     0.84885,     0.84985,     0.85085,     0.85185,     0.85285,     0.85385,     0.85485,     0.85586,     0.85686,     0.85786,     0.85886,     0.85986,     0.86086,     0.86186,     0.86286,     0.86386,\n",
              "           0.86486,     0.86587,     0.86687,     0.86787,     0.86887,     0.86987,     0.87087,     0.87187,     0.87287,     0.87387,     0.87487,     0.87588,     0.87688,     0.87788,     0.87888,     0.87988,     0.88088,     0.88188,     0.88288,     0.88388,     0.88488,     0.88589,     0.88689,     0.88789,\n",
              "           0.88889,     0.88989,     0.89089,     0.89189,     0.89289,     0.89389,     0.89489,      0.8959,      0.8969,      0.8979,      0.8989,      0.8999,      0.9009,      0.9019,      0.9029,      0.9039,      0.9049,     0.90591,     0.90691,     0.90791,     0.90891,     0.90991,     0.91091,     0.91191,\n",
              "           0.91291,     0.91391,     0.91491,     0.91592,     0.91692,     0.91792,     0.91892,     0.91992,     0.92092,     0.92192,     0.92292,     0.92392,     0.92492,     0.92593,     0.92693,     0.92793,     0.92893,     0.92993,     0.93093,     0.93193,     0.93293,     0.93393,     0.93493,     0.93594,\n",
              "           0.93694,     0.93794,     0.93894,     0.93994,     0.94094,     0.94194,     0.94294,     0.94394,     0.94494,     0.94595,     0.94695,     0.94795,     0.94895,     0.94995,     0.95095,     0.95195,     0.95295,     0.95395,     0.95495,     0.95596,     0.95696,     0.95796,     0.95896,     0.95996,\n",
              "           0.96096,     0.96196,     0.96296,     0.96396,     0.96496,     0.96597,     0.96697,     0.96797,     0.96897,     0.96997,     0.97097,     0.97197,     0.97297,     0.97397,     0.97497,     0.97598,     0.97698,     0.97798,     0.97898,     0.97998,     0.98098,     0.98198,     0.98298,     0.98398,\n",
              "           0.98498,     0.98599,     0.98699,     0.98799,     0.98899,     0.98999,     0.99099,     0.99199,     0.99299,     0.99399,     0.99499,       0.996,       0.997,       0.998,       0.999,           1]), array([[    0.49085,     0.49085,     0.54855, ...,           1,           1,           1],\n",
              "       [    0.16459,     0.16501,     0.20629, ...,           1,           1,           1],\n",
              "       [   0.048872,    0.048872,    0.068256, ...,           1,           1,           1],\n",
              "       ...,\n",
              "       [    0.83086,     0.83086,     0.88586, ...,           1,           1,           1],\n",
              "       [          0,           0,           0, ...,           1,           1,           1],\n",
              "       [  0.0064103,   0.0064103,   0.0069249, ...,           1,           1,           1]]), 'Confidence', 'Precision'], [array([          0,    0.001001,    0.002002,    0.003003,    0.004004,    0.005005,    0.006006,    0.007007,    0.008008,    0.009009,     0.01001,    0.011011,    0.012012,    0.013013,    0.014014,    0.015015,    0.016016,    0.017017,    0.018018,    0.019019,     0.02002,    0.021021,    0.022022,    0.023023,\n",
              "          0.024024,    0.025025,    0.026026,    0.027027,    0.028028,    0.029029,     0.03003,    0.031031,    0.032032,    0.033033,    0.034034,    0.035035,    0.036036,    0.037037,    0.038038,    0.039039,     0.04004,    0.041041,    0.042042,    0.043043,    0.044044,    0.045045,    0.046046,    0.047047,\n",
              "          0.048048,    0.049049,     0.05005,    0.051051,    0.052052,    0.053053,    0.054054,    0.055055,    0.056056,    0.057057,    0.058058,    0.059059,     0.06006,    0.061061,    0.062062,    0.063063,    0.064064,    0.065065,    0.066066,    0.067067,    0.068068,    0.069069,     0.07007,    0.071071,\n",
              "          0.072072,    0.073073,    0.074074,    0.075075,    0.076076,    0.077077,    0.078078,    0.079079,     0.08008,    0.081081,    0.082082,    0.083083,    0.084084,    0.085085,    0.086086,    0.087087,    0.088088,    0.089089,     0.09009,    0.091091,    0.092092,    0.093093,    0.094094,    0.095095,\n",
              "          0.096096,    0.097097,    0.098098,    0.099099,      0.1001,      0.1011,      0.1021,      0.1031,      0.1041,     0.10511,     0.10611,     0.10711,     0.10811,     0.10911,     0.11011,     0.11111,     0.11211,     0.11311,     0.11411,     0.11512,     0.11612,     0.11712,     0.11812,     0.11912,\n",
              "           0.12012,     0.12112,     0.12212,     0.12312,     0.12412,     0.12513,     0.12613,     0.12713,     0.12813,     0.12913,     0.13013,     0.13113,     0.13213,     0.13313,     0.13413,     0.13514,     0.13614,     0.13714,     0.13814,     0.13914,     0.14014,     0.14114,     0.14214,     0.14314,\n",
              "           0.14414,     0.14515,     0.14615,     0.14715,     0.14815,     0.14915,     0.15015,     0.15115,     0.15215,     0.15315,     0.15415,     0.15516,     0.15616,     0.15716,     0.15816,     0.15916,     0.16016,     0.16116,     0.16216,     0.16316,     0.16416,     0.16517,     0.16617,     0.16717,\n",
              "           0.16817,     0.16917,     0.17017,     0.17117,     0.17217,     0.17317,     0.17417,     0.17518,     0.17618,     0.17718,     0.17818,     0.17918,     0.18018,     0.18118,     0.18218,     0.18318,     0.18418,     0.18519,     0.18619,     0.18719,     0.18819,     0.18919,     0.19019,     0.19119,\n",
              "           0.19219,     0.19319,     0.19419,      0.1952,      0.1962,      0.1972,      0.1982,      0.1992,      0.2002,      0.2012,      0.2022,      0.2032,      0.2042,     0.20521,     0.20621,     0.20721,     0.20821,     0.20921,     0.21021,     0.21121,     0.21221,     0.21321,     0.21421,     0.21522,\n",
              "           0.21622,     0.21722,     0.21822,     0.21922,     0.22022,     0.22122,     0.22222,     0.22322,     0.22422,     0.22523,     0.22623,     0.22723,     0.22823,     0.22923,     0.23023,     0.23123,     0.23223,     0.23323,     0.23423,     0.23524,     0.23624,     0.23724,     0.23824,     0.23924,\n",
              "           0.24024,     0.24124,     0.24224,     0.24324,     0.24424,     0.24525,     0.24625,     0.24725,     0.24825,     0.24925,     0.25025,     0.25125,     0.25225,     0.25325,     0.25425,     0.25526,     0.25626,     0.25726,     0.25826,     0.25926,     0.26026,     0.26126,     0.26226,     0.26326,\n",
              "           0.26426,     0.26527,     0.26627,     0.26727,     0.26827,     0.26927,     0.27027,     0.27127,     0.27227,     0.27327,     0.27427,     0.27528,     0.27628,     0.27728,     0.27828,     0.27928,     0.28028,     0.28128,     0.28228,     0.28328,     0.28428,     0.28529,     0.28629,     0.28729,\n",
              "           0.28829,     0.28929,     0.29029,     0.29129,     0.29229,     0.29329,     0.29429,      0.2953,      0.2963,      0.2973,      0.2983,      0.2993,      0.3003,      0.3013,      0.3023,      0.3033,      0.3043,     0.30531,     0.30631,     0.30731,     0.30831,     0.30931,     0.31031,     0.31131,\n",
              "           0.31231,     0.31331,     0.31431,     0.31532,     0.31632,     0.31732,     0.31832,     0.31932,     0.32032,     0.32132,     0.32232,     0.32332,     0.32432,     0.32533,     0.32633,     0.32733,     0.32833,     0.32933,     0.33033,     0.33133,     0.33233,     0.33333,     0.33433,     0.33534,\n",
              "           0.33634,     0.33734,     0.33834,     0.33934,     0.34034,     0.34134,     0.34234,     0.34334,     0.34434,     0.34535,     0.34635,     0.34735,     0.34835,     0.34935,     0.35035,     0.35135,     0.35235,     0.35335,     0.35435,     0.35536,     0.35636,     0.35736,     0.35836,     0.35936,\n",
              "           0.36036,     0.36136,     0.36236,     0.36336,     0.36436,     0.36537,     0.36637,     0.36737,     0.36837,     0.36937,     0.37037,     0.37137,     0.37237,     0.37337,     0.37437,     0.37538,     0.37638,     0.37738,     0.37838,     0.37938,     0.38038,     0.38138,     0.38238,     0.38338,\n",
              "           0.38438,     0.38539,     0.38639,     0.38739,     0.38839,     0.38939,     0.39039,     0.39139,     0.39239,     0.39339,     0.39439,      0.3954,      0.3964,      0.3974,      0.3984,      0.3994,      0.4004,      0.4014,      0.4024,      0.4034,      0.4044,     0.40541,     0.40641,     0.40741,\n",
              "           0.40841,     0.40941,     0.41041,     0.41141,     0.41241,     0.41341,     0.41441,     0.41542,     0.41642,     0.41742,     0.41842,     0.41942,     0.42042,     0.42142,     0.42242,     0.42342,     0.42442,     0.42543,     0.42643,     0.42743,     0.42843,     0.42943,     0.43043,     0.43143,\n",
              "           0.43243,     0.43343,     0.43443,     0.43544,     0.43644,     0.43744,     0.43844,     0.43944,     0.44044,     0.44144,     0.44244,     0.44344,     0.44444,     0.44545,     0.44645,     0.44745,     0.44845,     0.44945,     0.45045,     0.45145,     0.45245,     0.45345,     0.45445,     0.45546,\n",
              "           0.45646,     0.45746,     0.45846,     0.45946,     0.46046,     0.46146,     0.46246,     0.46346,     0.46446,     0.46547,     0.46647,     0.46747,     0.46847,     0.46947,     0.47047,     0.47147,     0.47247,     0.47347,     0.47447,     0.47548,     0.47648,     0.47748,     0.47848,     0.47948,\n",
              "           0.48048,     0.48148,     0.48248,     0.48348,     0.48448,     0.48549,     0.48649,     0.48749,     0.48849,     0.48949,     0.49049,     0.49149,     0.49249,     0.49349,     0.49449,      0.4955,      0.4965,      0.4975,      0.4985,      0.4995,      0.5005,      0.5015,      0.5025,      0.5035,\n",
              "            0.5045,     0.50551,     0.50651,     0.50751,     0.50851,     0.50951,     0.51051,     0.51151,     0.51251,     0.51351,     0.51451,     0.51552,     0.51652,     0.51752,     0.51852,     0.51952,     0.52052,     0.52152,     0.52252,     0.52352,     0.52452,     0.52553,     0.52653,     0.52753,\n",
              "           0.52853,     0.52953,     0.53053,     0.53153,     0.53253,     0.53353,     0.53453,     0.53554,     0.53654,     0.53754,     0.53854,     0.53954,     0.54054,     0.54154,     0.54254,     0.54354,     0.54454,     0.54555,     0.54655,     0.54755,     0.54855,     0.54955,     0.55055,     0.55155,\n",
              "           0.55255,     0.55355,     0.55455,     0.55556,     0.55656,     0.55756,     0.55856,     0.55956,     0.56056,     0.56156,     0.56256,     0.56356,     0.56456,     0.56557,     0.56657,     0.56757,     0.56857,     0.56957,     0.57057,     0.57157,     0.57257,     0.57357,     0.57457,     0.57558,\n",
              "           0.57658,     0.57758,     0.57858,     0.57958,     0.58058,     0.58158,     0.58258,     0.58358,     0.58458,     0.58559,     0.58659,     0.58759,     0.58859,     0.58959,     0.59059,     0.59159,     0.59259,     0.59359,     0.59459,      0.5956,      0.5966,      0.5976,      0.5986,      0.5996,\n",
              "            0.6006,      0.6016,      0.6026,      0.6036,      0.6046,     0.60561,     0.60661,     0.60761,     0.60861,     0.60961,     0.61061,     0.61161,     0.61261,     0.61361,     0.61461,     0.61562,     0.61662,     0.61762,     0.61862,     0.61962,     0.62062,     0.62162,     0.62262,     0.62362,\n",
              "           0.62462,     0.62563,     0.62663,     0.62763,     0.62863,     0.62963,     0.63063,     0.63163,     0.63263,     0.63363,     0.63463,     0.63564,     0.63664,     0.63764,     0.63864,     0.63964,     0.64064,     0.64164,     0.64264,     0.64364,     0.64464,     0.64565,     0.64665,     0.64765,\n",
              "           0.64865,     0.64965,     0.65065,     0.65165,     0.65265,     0.65365,     0.65465,     0.65566,     0.65666,     0.65766,     0.65866,     0.65966,     0.66066,     0.66166,     0.66266,     0.66366,     0.66466,     0.66567,     0.66667,     0.66767,     0.66867,     0.66967,     0.67067,     0.67167,\n",
              "           0.67267,     0.67367,     0.67467,     0.67568,     0.67668,     0.67768,     0.67868,     0.67968,     0.68068,     0.68168,     0.68268,     0.68368,     0.68468,     0.68569,     0.68669,     0.68769,     0.68869,     0.68969,     0.69069,     0.69169,     0.69269,     0.69369,     0.69469,      0.6957,\n",
              "            0.6967,      0.6977,      0.6987,      0.6997,      0.7007,      0.7017,      0.7027,      0.7037,      0.7047,     0.70571,     0.70671,     0.70771,     0.70871,     0.70971,     0.71071,     0.71171,     0.71271,     0.71371,     0.71471,     0.71572,     0.71672,     0.71772,     0.71872,     0.71972,\n",
              "           0.72072,     0.72172,     0.72272,     0.72372,     0.72472,     0.72573,     0.72673,     0.72773,     0.72873,     0.72973,     0.73073,     0.73173,     0.73273,     0.73373,     0.73473,     0.73574,     0.73674,     0.73774,     0.73874,     0.73974,     0.74074,     0.74174,     0.74274,     0.74374,\n",
              "           0.74474,     0.74575,     0.74675,     0.74775,     0.74875,     0.74975,     0.75075,     0.75175,     0.75275,     0.75375,     0.75475,     0.75576,     0.75676,     0.75776,     0.75876,     0.75976,     0.76076,     0.76176,     0.76276,     0.76376,     0.76476,     0.76577,     0.76677,     0.76777,\n",
              "           0.76877,     0.76977,     0.77077,     0.77177,     0.77277,     0.77377,     0.77477,     0.77578,     0.77678,     0.77778,     0.77878,     0.77978,     0.78078,     0.78178,     0.78278,     0.78378,     0.78478,     0.78579,     0.78679,     0.78779,     0.78879,     0.78979,     0.79079,     0.79179,\n",
              "           0.79279,     0.79379,     0.79479,      0.7958,      0.7968,      0.7978,      0.7988,      0.7998,      0.8008,      0.8018,      0.8028,      0.8038,      0.8048,     0.80581,     0.80681,     0.80781,     0.80881,     0.80981,     0.81081,     0.81181,     0.81281,     0.81381,     0.81481,     0.81582,\n",
              "           0.81682,     0.81782,     0.81882,     0.81982,     0.82082,     0.82182,     0.82282,     0.82382,     0.82482,     0.82583,     0.82683,     0.82783,     0.82883,     0.82983,     0.83083,     0.83183,     0.83283,     0.83383,     0.83483,     0.83584,     0.83684,     0.83784,     0.83884,     0.83984,\n",
              "           0.84084,     0.84184,     0.84284,     0.84384,     0.84484,     0.84585,     0.84685,     0.84785,     0.84885,     0.84985,     0.85085,     0.85185,     0.85285,     0.85385,     0.85485,     0.85586,     0.85686,     0.85786,     0.85886,     0.85986,     0.86086,     0.86186,     0.86286,     0.86386,\n",
              "           0.86486,     0.86587,     0.86687,     0.86787,     0.86887,     0.86987,     0.87087,     0.87187,     0.87287,     0.87387,     0.87487,     0.87588,     0.87688,     0.87788,     0.87888,     0.87988,     0.88088,     0.88188,     0.88288,     0.88388,     0.88488,     0.88589,     0.88689,     0.88789,\n",
              "           0.88889,     0.88989,     0.89089,     0.89189,     0.89289,     0.89389,     0.89489,      0.8959,      0.8969,      0.8979,      0.8989,      0.8999,      0.9009,      0.9019,      0.9029,      0.9039,      0.9049,     0.90591,     0.90691,     0.90791,     0.90891,     0.90991,     0.91091,     0.91191,\n",
              "           0.91291,     0.91391,     0.91491,     0.91592,     0.91692,     0.91792,     0.91892,     0.91992,     0.92092,     0.92192,     0.92292,     0.92392,     0.92492,     0.92593,     0.92693,     0.92793,     0.92893,     0.92993,     0.93093,     0.93193,     0.93293,     0.93393,     0.93493,     0.93594,\n",
              "           0.93694,     0.93794,     0.93894,     0.93994,     0.94094,     0.94194,     0.94294,     0.94394,     0.94494,     0.94595,     0.94695,     0.94795,     0.94895,     0.94995,     0.95095,     0.95195,     0.95295,     0.95395,     0.95495,     0.95596,     0.95696,     0.95796,     0.95896,     0.95996,\n",
              "           0.96096,     0.96196,     0.96296,     0.96396,     0.96496,     0.96597,     0.96697,     0.96797,     0.96897,     0.96997,     0.97097,     0.97197,     0.97297,     0.97397,     0.97497,     0.97598,     0.97698,     0.97798,     0.97898,     0.97998,     0.98098,     0.98198,     0.98298,     0.98398,\n",
              "           0.98498,     0.98599,     0.98699,     0.98799,     0.98899,     0.98999,     0.99099,     0.99199,     0.99299,     0.99399,     0.99499,       0.996,       0.997,       0.998,       0.999,           1]), array([[    0.98171,     0.98171,     0.98171, ...,           0,           0,           0],\n",
              "       [    0.98507,     0.98507,     0.97015, ...,           0,           0,           0],\n",
              "       [     0.8125,      0.8125,      0.8125, ...,           0,           0,           0],\n",
              "       ...,\n",
              "       [          1,           1,           1, ...,           0,           0,           0],\n",
              "       [          0,           0,           0, ...,           0,           0,           0],\n",
              "       [        0.5,         0.5,         0.5, ...,           0,           0,           0]]), 'Confidence', 'Recall']]\n",
              "fitness: np.float64(0.4049929293824064)\n",
              "keys: ['metrics/precision(B)', 'metrics/recall(B)', 'metrics/mAP50(B)', 'metrics/mAP50-95(B)']\n",
              "maps: array([    0.78127,     0.59812,     0.18713,      0.3854,     0.41465,      0.3854,      0.3854,     0.86137,      0.3854,           0,     0.60733,     0.12612,      0.3854,      0.3854,       0.694,     0.26047,     0.73051,     0.10993,     0.66149,    0.055459,     0.21738,      0.3854,      0.3854,   0.0044377,\n",
              "           0.47531,     0.22206,      0.3854,      0.3854,     0.39179,      0.3854,     0.43665,      0.3854,     0.43302,      0.3854,     0.48133,     0.18585,     0.60875,     0.11284,      0.8955,      0.3854,      0.3854,     0.72448,     0.55136,      0.5961,      0.3854,      0.3854,      0.3854,      0.3854,\n",
              "            0.3854,      0.3854,      0.3854,      0.3854,      0.3854,      0.3854,      0.4457,    0.050315,      0.3854,     0.30277,      0.3854,      0.3854,     0.52349,     0.29721,     0.28718,           0,      0.3854,      0.3854,      0.3854,     0.57433,     0.31271,  0.00051595,     0.28308,     0.16571,\n",
              "                 0,     0.80987,    0.019776,     0.64101,      0.3854,     0.82189,      0.3854,      0.3854,     0.86791,     0.28396,      0.3854,     0.34853,     0.58878,     0.12242,     0.69995,     0.42658,     0.58303,      0.3854,      0.3854,      0.3854,      0.3854,     0.38349,     0.17859,      0.3854,\n",
              "            0.3854,     0.56263,     0.18936,     0.11535,     0.62709,     0.53893,   0.0061238,     0.60695,    0.097173,     0.82853,     0.46249,      0.3854,     0.83924,    0.029609,    0.025586,     0.69688,     0.18923,     0.83222,     0.44728,     0.73945,     0.27606,      0.3854,     0.70479,     0.24965,\n",
              "           0.18304,      0.3854,     0.37713,    0.058461,    0.058449,      0.3854,      0.5702,     0.35234,      0.3854,     0.48527,    0.017349,     0.57152,      0.1357,     0.29317,     0.73273,     0.67118,    0.048449,     0.84378,     0.19103,     0.11854,     0.56384,    0.040822,     0.20807,     0.53287,\n",
              "           0.11836,     0.12824,     0.57186,    0.095978,    0.011057,     0.55347,     0.27297,    0.037896,      0.8436,      0.3854,     0.28936,     0.59397,     0.76122,    0.030615,      0.3854,     0.80238,      0.5318,      0.3854,     0.84754,      0.3854,   0.0085591,           0,     0.74173,     0.20673,\n",
              "           0.17536,     0.82749,           0,      0.3854,   0.0065108])\n",
              "names: {0: '1.0', 1: '1.1', 2: '1.2', 3: '', 4: '1.7', 5: '', 6: '', 7: '2.0', 8: '', 9: '2.3', 10: '3.0', 11: '3.1', 12: '', 13: '', 14: '5.0', 15: '5.1', 16: '6.0', 17: '6.1', 18: '7.0', 19: '7.1', 20: '7.2', 21: '7.3', 22: '', 23: '7.7', 24: '8.0', 25: '8.3', 26: '', 27: '8.5', 28: '9.0', 29: '', 30: '9.4', 31: '', 32: '10.0', 33: '10.1', 34: '11.0', 35: '11.1', 36: '13.0', 37: '13.1', 38: '13.2', 39: '', 40: '', 41: '14.0', 42: '14.1', 43: '14.2', 44: '14.3', 45: '', 46: '', 47: '', 48: '', 49: '', 50: '', 51: '', 52: '', 53: '', 54: '19.0', 55: '19.1', 56: '19.2', 57: '19.3', 58: '19.4', 59: '', 60: '20.0', 61: '20.1', 62: '20.2', 63: '20.3', 64: '', 65: '', 66: '', 67: '23.0', 68: '23.1', 69: '23.2', 70: '24.0', 71: '24.1', 72: '24.3', 73: '26.0', 74: '26.1', 75: '27.0', 76: '27.1', 77: '28.0', 78: '', 79: '', 80: '29.0', 81: '29.1', 82: '29.2', 83: '29.4', 84: '30.0', 85: '30.1', 86: '32.0', 87: '32.1', 88: '32.2', 89: '', 90: '', 91: '', 92: '', 93: '35.0', 94: '35.1', 95: '', 96: '', 97: '37.0', 98: '37.1', 99: '37.3', 100: '37.4', 101: '38.0', 102: '38.1', 103: '39.0', 104: '39.1', 105: '40.0', 106: '40.1', 107: '40.2', 108: '41.0', 109: '41.1', 110: '41.2', 111: '42.0', 112: '42.1', 113: '43.0', 114: '43.1', 115: '44.0', 116: '44.1', 117: '44.2', 118: '45.0', 119: '45.1', 120: '45.2', 121: '', 122: '46.0', 123: '46.1', 124: '46.3', 125: '46.4', 126: '47.0', 127: '47.1', 128: '47.3', 129: '48.0', 130: '48.2', 131: '49.0', 132: '49.3', 133: '49.4', 134: '50.0', 135: '50.1', 136: '50.2', 137: '51.0', 138: '51.2', 139: '51.3', 140: '52.0', 141: '52.3', 142: '52.5', 143: '53.0', 144: '53.4', 145: '53.5', 146: '54.0', 147: '54.4', 148: '54.5', 149: '55.0', 150: '55.4', 151: '55.5', 152: '56.0', 153: '56.1', 154: '56.2', 155: '56.4', 156: '57.0', 157: '57.1', 158: '57.2', 159: '58.0', 160: '58.1', 161: '58.2', 162: '59.0', 163: '59.1', 164: '59.2', 165: '59.3', 166: '60.0', 167: '60.1', 168: '60.3', 169: '61.0', 170: '61.1', 171: '61.2', 172: '61.4'}\n",
              "nt_per_class: array([ 164,   67,   16,    0,   20,    0,    0,  272,    0,    1,  251,    5,    0,    0,  527,   10,  231,    2,  211,   11,    2,    0,    0,    2,  705,   22,    0,    0,  296,    0,   78,    0,   86,    0,  652,   15,  165,   17,    1,    0,    0,  149,   18,   94,    0,    0,    0,    0,    0,    0,    0,    0,\n",
              "          0,    0,   98,   11,    0,   60,    0,    0,   88,   52,  102,    2,    0,    0,    0,  262,  191,    4,   80,  143,    1,  472,    3,  147,    0,  249,    0,    0,  268,   15,    0,    3,  391,   25,  136,   10,   98,    0,    0,    0,    0,  155,   41,    0,    0,  558,    4,    5,  144,  744,   17,  293,\n",
              "         11,  171,   18,    0,  107,    2,    1,  118,   15, 1126,   33,  202,    4,    0,  215,   63,    7,    0,  335,  119,    8,    0,  643,   74,    0,  239,    1,  145,   22,   59,  103,   33,    9,  372,   40,   10,  190,    9,   25,  207,   20,   17,  307,   80,   13,  359,   72,    4,  807,    0,    5,    4,\n",
              "        840,    1,    0,  272,    8,    0,  275,    0,    1,    1,  205,   36,   65,  280,    1,    0,    4])\n",
              "nt_per_image: array([163,  67,  16,   0,  20,   0,   0, 270,   0,   1, 251,   4,   0,   0, 267,  10, 231,   2, 211,  11,   2,   0,   0,   2, 253,  17,   0,   0, 177,   0,  54,   0,  86,   0, 252,  12, 165,  17,   1,   0,   0, 148,  18,  92,   0,   0,   0,   0,   0,   0,   0,   0,   0,   0,  97,  11,   0,  59,   0,   0,  88,  49,\n",
              "        79,   2,   0,   0,   0, 258, 169,   4,  51,  82,   1, 468,   3, 147,   0, 249,   0,   0, 264,  15,   0,   3, 203,  20,  68,   5,  49,   0,   0,   0,   0, 146,  39,   0,   0, 236,   2,   3,  54, 216,   5, 171,   7, 171,  18,   0, 104,   2,   1, 118,  15, 285,  29, 202,   4,   0, 214,  63,   7,   0, 122,  69,\n",
              "         3,   0, 218,  65,   0, 206,   1, 143,  20,  52, 102,  33,   9, 372,  31,   9, 184,   9,  24, 195,  18,  17, 166,  55,  12, 197,  54,   3, 271,   0,   4,   1, 283,   1,   0, 270,   8,   0, 274,   0,   1,   1, 204,  29,  56, 280,   1,   0,   4])\n",
              "results_dict: {'metrics/precision(B)': np.float64(0.6398731577376153), 'metrics/recall(B)': np.float64(0.5579733495645541), 'metrics/mAP50(B)': np.float64(0.5813300495889134), 'metrics/mAP50-95(B)': np.float64(0.38539991602612783), 'fitness': np.float64(0.4049929293824064)}\n",
              "save_dir: PosixPath('/content/drive/MyDrive/fiber_optic_box_inspection/runs_yolo/val_default_augmentations_')\n",
              "speed: {'preprocess': 0.5648737250597787, 'inference': 14.49908414014238, 'loss': 0.0003838414491652406, 'postprocess': 0.867527972090679}\n",
              "stats: {'tp': [], 'conf': [], 'pred_cls': [], 'target_cls': [], 'target_img': []}\n",
              "task: 'detect'"
            ]
          },
          "metadata": {},
          "execution_count": 17
        }
      ]
    },
    {
      "cell_type": "markdown",
      "source": [
        "### YOLO no augmentations"
      ],
      "metadata": {
        "id": "mFaiC6SuI4b6"
      }
    },
    {
      "cell_type": "markdown",
      "source": [
        "#### train"
      ],
      "metadata": {
        "id": "f2u8F_MFNhTe"
      }
    },
    {
      "cell_type": "code",
      "execution_count": null,
      "metadata": {
        "colab": {
          "base_uri": "https://localhost:8080/"
        },
        "outputId": "40326fc7-a814-468a-9a7b-d46ff9f8e45d",
        "collapsed": true,
        "id": "CIJxeJkbNhTf"
      },
      "outputs": [
        {
          "output_type": "stream",
          "name": "stdout",
          "text": [
            "Downloading https://github.com/ultralytics/assets/releases/download/v8.3.0/yolov8m.pt to 'yolov8m.pt'...\n"
          ]
        },
        {
          "output_type": "stream",
          "name": "stderr",
          "text": [
            "100%|██████████| 49.7M/49.7M [00:00<00:00, 126MB/s]\n"
          ]
        },
        {
          "output_type": "stream",
          "name": "stdout",
          "text": [
            "Ultralytics 8.3.158 🚀 Python-3.11.13 torch-2.6.0+cu124 CUDA:0 (NVIDIA L4, 22693MiB)\n",
            "\u001b[34m\u001b[1mengine/trainer: \u001b[0magnostic_nms=False, amp=True, augment=False, auto_augment=randaugment, batch=25, bgr=0.0, box=7.5, cache=disk, cfg=/content/dataset/yolo_train_config_default_augmentation_disabled.yaml, classes=None, close_mosaic=10, cls=0.5, conf=None, copy_paste=0.0, copy_paste_mode=flip, cos_lr=False, cutmix=0.0, data=/content/dataset/data.yaml, degrees=0.0, deterministic=True, device=0, dfl=1.5, dnn=False, dropout=0.0, dynamic=False, embed=None, epochs=300, erasing=0.4, exist_ok=False, fliplr=0.0, flipud=0.0, format=torchscript, fraction=1.0, freeze=None, half=False, hsv_h=0.0, hsv_s=0.0, hsv_v=0.0, imgsz=896, int8=False, iou=0.7, keras=False, kobj=1.0, line_width=None, lr0=0.01, lrf=0.01, mask_ratio=4, max_det=300, mixup=0.0, mode=train, model=yolov8m.pt, momentum=0.937, mosaic=0.0, multi_scale=False, name=v8m_mni1.0_batch25_imgsz896_default_augmentation_disabled_, nbs=64, nms=False, opset=None, optimize=False, optimizer=auto, overlap_mask=True, patience=5, perspective=0.0, plots=True, pose=12.0, pretrained=True, profile=False, project=/content/drive/MyDrive/fiber_optic_box_inspection/runs_yolo, rect=False, resume=False, retina_masks=False, save=True, save_conf=True, save_crop=False, save_dir=/content/drive/MyDrive/fiber_optic_box_inspection/runs_yolo/v8m_mni1.0_batch25_imgsz896_default_augmentation_disabled_, save_frames=False, save_json=False, save_period=10, save_txt=False, scale=0.0, seed=0, shear=0.0, show=False, show_boxes=True, show_conf=True, show_labels=True, simplify=True, single_cls=False, source=None, split=val, stream_buffer=False, task=detect, time=None, tracker=botsort.yaml, translate=0.0, val=True, verbose=True, vid_stride=1, visualize=False, warmup_bias_lr=0.1, warmup_epochs=3.0, warmup_momentum=0.8, weight_decay=0.0005, workers=16, workspace=None\n",
            "Downloading https://ultralytics.com/assets/Arial.ttf to '/root/.config/Ultralytics/Arial.ttf'...\n"
          ]
        },
        {
          "output_type": "stream",
          "name": "stderr",
          "text": [
            "100%|██████████| 755k/755k [00:00<00:00, 21.6MB/s]"
          ]
        },
        {
          "output_type": "stream",
          "name": "stdout",
          "text": [
            "Overriding model.yaml nc=80 with nc=173\n",
            "\n",
            "                   from  n    params  module                                       arguments                     \n",
            "  0                  -1  1      1392  ultralytics.nn.modules.conv.Conv             [3, 48, 3, 2]                 \n",
            "  1                  -1  1     41664  ultralytics.nn.modules.conv.Conv             [48, 96, 3, 2]                \n",
            "  2                  -1  2    111360  ultralytics.nn.modules.block.C2f             [96, 96, 2, True]             \n",
            "  3                  -1  1    166272  ultralytics.nn.modules.conv.Conv             [96, 192, 3, 2]               \n",
            "  4                  -1  4    813312  ultralytics.nn.modules.block.C2f             [192, 192, 4, True]           \n",
            "  5                  -1  1    664320  ultralytics.nn.modules.conv.Conv             [192, 384, 3, 2]              \n",
            "  6                  -1  4   3248640  ultralytics.nn.modules.block.C2f             [384, 384, 4, True]           \n",
            "  7                  -1  1   1991808  ultralytics.nn.modules.conv.Conv             [384, 576, 3, 2]              \n",
            "  8                  -1  2   3985920  ultralytics.nn.modules.block.C2f             [576, 576, 2, True]           \n",
            "  9                  -1  1    831168  ultralytics.nn.modules.block.SPPF            [576, 576, 5]                 \n",
            " 10                  -1  1         0  torch.nn.modules.upsampling.Upsample         [None, 2, 'nearest']          \n",
            " 11             [-1, 6]  1         0  ultralytics.nn.modules.conv.Concat           [1]                           \n",
            " 12                  -1  2   1993728  ultralytics.nn.modules.block.C2f             [960, 384, 2]                 \n",
            " 13                  -1  1         0  torch.nn.modules.upsampling.Upsample         [None, 2, 'nearest']          \n",
            " 14             [-1, 4]  1         0  ultralytics.nn.modules.conv.Concat           [1]                           \n",
            " 15                  -1  2    517632  ultralytics.nn.modules.block.C2f             [576, 192, 2]                 \n",
            " 16                  -1  1    332160  ultralytics.nn.modules.conv.Conv             [192, 192, 3, 2]              \n",
            " 17            [-1, 12]  1         0  ultralytics.nn.modules.conv.Concat           [1]                           \n"
          ]
        },
        {
          "output_type": "stream",
          "name": "stderr",
          "text": [
            "\n"
          ]
        },
        {
          "output_type": "stream",
          "name": "stdout",
          "text": [
            " 18                  -1  2   1846272  ultralytics.nn.modules.block.C2f             [576, 384, 2]                 \n",
            " 19                  -1  1   1327872  ultralytics.nn.modules.conv.Conv             [384, 384, 3, 2]              \n",
            " 20             [-1, 9]  1         0  ultralytics.nn.modules.conv.Concat           [1]                           \n",
            " 21                  -1  2   4207104  ultralytics.nn.modules.block.C2f             [960, 576, 2]                 \n",
            " 22        [15, 18, 21]  1   3875863  ultralytics.nn.modules.head.Detect           [173, [192, 384, 576]]        \n",
            "Model summary: 169 layers, 25,956,487 parameters, 25,956,471 gradients, 79.6 GFLOPs\n",
            "\n",
            "Transferred 469/475 items from pretrained weights\n",
            "Freezing layer 'model.22.dfl.conv.weight'\n",
            "\u001b[34m\u001b[1mAMP: \u001b[0mrunning Automatic Mixed Precision (AMP) checks...\n",
            "Downloading https://github.com/ultralytics/assets/releases/download/v8.3.0/yolo11n.pt to 'yolo11n.pt'...\n"
          ]
        },
        {
          "output_type": "stream",
          "name": "stderr",
          "text": [
            "100%|██████████| 5.35M/5.35M [00:00<00:00, 92.2MB/s]\n"
          ]
        },
        {
          "output_type": "stream",
          "name": "stdout",
          "text": [
            "\u001b[34m\u001b[1mAMP: \u001b[0mchecks passed ✅\n",
            "\u001b[34m\u001b[1mtrain: \u001b[0mFast image access ✅ (ping: 0.0±0.0 ms, read: 2851.1±950.9 MB/s, size: 101.7 KB)\n"
          ]
        },
        {
          "output_type": "stream",
          "name": "stderr",
          "text": [
            "\u001b[34m\u001b[1mtrain: \u001b[0mScanning /content/dataset/data_label_v2_ALL... 7858 images, 462 backgrounds, 0 corrupt: 100%|██████████| 7858/7858 [00:05<00:00, 1488.84it/s]"
          ]
        },
        {
          "output_type": "stream",
          "name": "stdout",
          "text": [
            "\u001b[34m\u001b[1mtrain: \u001b[0m/content/dataset/data_label_v2_ALL/2022_11_03_15_29_32-HNIP456107HO.jpg: 1 duplicate labels removed\n",
            "\u001b[34m\u001b[1mtrain: \u001b[0m/content/dataset/data_label_v2_ALL/2022_11_10_14_59_59-HNIP120595HO.jpg: 1 duplicate labels removed\n",
            "\u001b[34m\u001b[1mtrain: \u001b[0m/content/dataset/data_label_v2_ALL/2022_11_11_09_10_09-PYNP016064HO.jpg: 1 duplicate labels removed\n",
            "\u001b[34m\u001b[1mtrain: \u001b[0m/content/dataset/data_label_v2_ALL/2022_11_11_09_59_56-BGGP089061HO.jpg: 1 duplicate labels removed\n",
            "\u001b[34m\u001b[1mtrain: \u001b[0m/content/dataset/data_label_v2_ALL/2022_11_14_16_04_38-HNIP548102HO.jpg: 1 duplicate labels removed\n",
            "\u001b[34m\u001b[1mtrain: \u001b[0m/content/dataset/data_label_v2_ALL/2022_11_16_08_43_48-HDGP141064HO.jpg: 1 duplicate labels removed\n",
            "\u001b[34m\u001b[1mtrain: \u001b[0m/content/dataset/data_label_v2_ALL/2022_11_16_15_40_51-HBHP012080HO.jpg: 1 duplicate labels removed\n",
            "\u001b[34m\u001b[1mtrain: \u001b[0m/content/dataset/data_label_v2_ALL/2022_12_06_15_18_24-TBHP019033HO.jpg: 1 duplicate labels removed\n",
            "\u001b[34m\u001b[1mtrain: \u001b[0m/content/dataset/data_label_v2_ALL/2022_12_07_16_39_07-QNHP088205HO.jpg: 1 duplicate labels removed\n",
            "\u001b[34m\u001b[1mtrain: \u001b[0m/content/dataset/data_label_v2_ALL/2022_12_08_10_14_33-HYNP074125HO.jpg: 1 duplicate labels removed\n",
            "\u001b[34m\u001b[1mtrain: \u001b[0m/content/dataset/data_label_v2_ALL/2022_12_09_10_16_40-TBHP044214HO.jpg: 1 duplicate labels removed\n",
            "\u001b[34m\u001b[1mtrain: \u001b[0m/content/dataset/data_label_v2_ALL/2022_12_29_09_46_47-HDGP048174HO.jpg: 1 duplicate labels removed\n"
          ]
        },
        {
          "output_type": "stream",
          "name": "stderr",
          "text": [
            "\n"
          ]
        },
        {
          "output_type": "stream",
          "name": "stdout",
          "text": [
            "\u001b[34m\u001b[1mtrain: \u001b[0mNew cache created: /content/dataset/data_label_v2_ALL.cache\n"
          ]
        },
        {
          "output_type": "stream",
          "name": "stderr",
          "text": [
            "\u001b[34m\u001b[1mtrain: \u001b[0mCaching images (17.9GB Disk): 100%|██████████| 7858/7858 [01:00<00:00, 130.19it/s]\n"
          ]
        },
        {
          "output_type": "stream",
          "name": "stdout",
          "text": [
            "\u001b[34m\u001b[1malbumentations: \u001b[0mBlur(p=0.01, blur_limit=(3, 7)), MedianBlur(p=0.01, blur_limit=(3, 7)), ToGray(p=0.01, method='weighted_average', num_output_channels=3), CLAHE(p=0.01, clip_limit=(1.0, 4.0), tile_grid_size=(8, 8))\n",
            "\u001b[34m\u001b[1mval: \u001b[0mFast image access ✅ (ping: 0.0±0.0 ms, read: 684.2±87.9 MB/s, size: 107.9 KB)\n"
          ]
        },
        {
          "output_type": "stream",
          "name": "stderr",
          "text": [
            "\u001b[34m\u001b[1mval: \u001b[0mScanning /content/dataset/data_label_v2_ALL... 1684 images, 100 backgrounds, 0 corrupt: 100%|██████████| 1684/1684 [00:01<00:00, 1316.32it/s]"
          ]
        },
        {
          "output_type": "stream",
          "name": "stdout",
          "text": [
            "\u001b[34m\u001b[1mval: \u001b[0m/content/dataset/data_label_v2_ALL/2022_11_21_09_08_32-TNNP069058HO.jpg: 1 duplicate labels removed\n",
            "\u001b[34m\u001b[1mval: \u001b[0m/content/dataset/data_label_v2_ALL/2022_11_21_16_32_02-HBHP012062HO.jpg: 1 duplicate labels removed\n"
          ]
        },
        {
          "output_type": "stream",
          "name": "stderr",
          "text": [
            "\n"
          ]
        },
        {
          "output_type": "stream",
          "name": "stdout",
          "text": [
            "\u001b[34m\u001b[1mval: \u001b[0mNew cache created: /content/dataset/data_label_v2_ALL.cache\n"
          ]
        },
        {
          "output_type": "stream",
          "name": "stderr",
          "text": [
            "\u001b[34m\u001b[1mval: \u001b[0mCaching images (3.9GB Disk): 100%|██████████| 1684/1684 [00:10<00:00, 159.60it/s]\n"
          ]
        },
        {
          "output_type": "stream",
          "name": "stdout",
          "text": [
            "Plotting labels to /content/drive/MyDrive/fiber_optic_box_inspection/runs_yolo/v8m_mni1.0_batch25_imgsz896_default_augmentation_disabled_/labels.jpg... \n",
            "\u001b[34m\u001b[1moptimizer:\u001b[0m 'optimizer=auto' found, ignoring 'lr0=0.01' and 'momentum=0.937' and determining best 'optimizer', 'lr0' and 'momentum' automatically... \n",
            "\u001b[34m\u001b[1moptimizer:\u001b[0m SGD(lr=0.01, momentum=0.9) with parameter groups 77 weight(decay=0.0), 84 weight(decay=0.0005859375000000001), 83 bias(decay=0.0)\n",
            "Image sizes 896 train, 896 val\n",
            "Using 12 dataloader workers\n",
            "Logging results to \u001b[1m/content/drive/MyDrive/fiber_optic_box_inspection/runs_yolo/v8m_mni1.0_batch25_imgsz896_default_augmentation_disabled_\u001b[0m\n",
            "Starting training for 300 epochs...\n",
            "\n",
            "      Epoch    GPU_mem   box_loss   cls_loss   dfl_loss  Instances       Size\n"
          ]
        },
        {
          "output_type": "stream",
          "name": "stderr",
          "text": [
            "      1/300      19.8G      1.521      2.601      1.661         73        896: 100%|██████████| 315/315 [05:38<00:00,  1.07s/it]\n",
            "                 Class     Images  Instances      Box(P          R      mAP50  mAP50-95): 100%|██████████| 34/34 [00:25<00:00,  1.32it/s]\n"
          ]
        },
        {
          "output_type": "stream",
          "name": "stdout",
          "text": [
            "                   all       1684      17375      0.716      0.409      0.386      0.254\n",
            "\n",
            "      Epoch    GPU_mem   box_loss   cls_loss   dfl_loss  Instances       Size\n"
          ]
        },
        {
          "output_type": "stream",
          "name": "stderr",
          "text": [
            "      2/300      18.7G      1.115      1.063      1.313         67        896: 100%|██████████| 315/315 [05:48<00:00,  1.11s/it]\n",
            "                 Class     Images  Instances      Box(P          R      mAP50  mAP50-95): 100%|██████████| 34/34 [00:23<00:00,  1.42it/s]\n"
          ]
        },
        {
          "output_type": "stream",
          "name": "stdout",
          "text": [
            "                   all       1684      17375      0.667      0.442      0.426      0.276\n",
            "\n",
            "      Epoch    GPU_mem   box_loss   cls_loss   dfl_loss  Instances       Size\n"
          ]
        },
        {
          "output_type": "stream",
          "name": "stderr",
          "text": [
            "      3/300      18.7G      1.124     0.9597      1.319         91        896: 100%|██████████| 315/315 [05:34<00:00,  1.06s/it]\n",
            "                 Class     Images  Instances      Box(P          R      mAP50  mAP50-95): 100%|██████████| 34/34 [00:24<00:00,  1.37it/s]\n"
          ]
        },
        {
          "output_type": "stream",
          "name": "stdout",
          "text": [
            "                   all       1684      17375      0.616      0.462      0.434       0.28\n",
            "\n",
            "      Epoch    GPU_mem   box_loss   cls_loss   dfl_loss  Instances       Size\n"
          ]
        },
        {
          "output_type": "stream",
          "name": "stderr",
          "text": [
            "      4/300      18.7G      1.098     0.8609      1.302         75        896: 100%|██████████| 315/315 [05:33<00:00,  1.06s/it]\n",
            "                 Class     Images  Instances      Box(P          R      mAP50  mAP50-95): 100%|██████████| 34/34 [00:25<00:00,  1.34it/s]\n"
          ]
        },
        {
          "output_type": "stream",
          "name": "stdout",
          "text": [
            "                   all       1684      17375      0.676      0.468      0.456      0.294\n",
            "\n",
            "      Epoch    GPU_mem   box_loss   cls_loss   dfl_loss  Instances       Size\n"
          ]
        },
        {
          "output_type": "stream",
          "name": "stderr",
          "text": [
            "      5/300      18.7G      1.054     0.7879      1.271         79        896: 100%|██████████| 315/315 [05:33<00:00,  1.06s/it]\n",
            "                 Class     Images  Instances      Box(P          R      mAP50  mAP50-95): 100%|██████████| 34/34 [00:25<00:00,  1.35it/s]\n"
          ]
        },
        {
          "output_type": "stream",
          "name": "stdout",
          "text": [
            "                   all       1684      17375        0.7      0.452      0.457      0.299\n",
            "\n",
            "      Epoch    GPU_mem   box_loss   cls_loss   dfl_loss  Instances       Size\n"
          ]
        },
        {
          "output_type": "stream",
          "name": "stderr",
          "text": [
            "      6/300      18.7G      1.013     0.7359      1.242         77        896: 100%|██████████| 315/315 [05:32<00:00,  1.06s/it]\n",
            "                 Class     Images  Instances      Box(P          R      mAP50  mAP50-95): 100%|██████████| 34/34 [00:24<00:00,  1.40it/s]\n"
          ]
        },
        {
          "output_type": "stream",
          "name": "stdout",
          "text": [
            "                   all       1684      17375      0.698      0.476      0.482      0.311\n",
            "\n",
            "      Epoch    GPU_mem   box_loss   cls_loss   dfl_loss  Instances       Size\n"
          ]
        },
        {
          "output_type": "stream",
          "name": "stderr",
          "text": [
            "      7/300      18.7G     0.9754     0.6896      1.216         75        896: 100%|██████████| 315/315 [05:33<00:00,  1.06s/it]\n",
            "                 Class     Images  Instances      Box(P          R      mAP50  mAP50-95): 100%|██████████| 34/34 [00:24<00:00,  1.40it/s]\n"
          ]
        },
        {
          "output_type": "stream",
          "name": "stdout",
          "text": [
            "                   all       1684      17375      0.667      0.484      0.486      0.318\n",
            "\n",
            "      Epoch    GPU_mem   box_loss   cls_loss   dfl_loss  Instances       Size\n"
          ]
        },
        {
          "output_type": "stream",
          "name": "stderr",
          "text": [
            "      8/300      18.7G     0.9374     0.6534       1.19         55        896: 100%|██████████| 315/315 [05:33<00:00,  1.06s/it]\n",
            "                 Class     Images  Instances      Box(P          R      mAP50  mAP50-95): 100%|██████████| 34/34 [00:23<00:00,  1.44it/s]\n"
          ]
        },
        {
          "output_type": "stream",
          "name": "stdout",
          "text": [
            "                   all       1684      17375      0.685      0.511      0.491       0.32\n",
            "\n",
            "      Epoch    GPU_mem   box_loss   cls_loss   dfl_loss  Instances       Size\n"
          ]
        },
        {
          "output_type": "stream",
          "name": "stderr",
          "text": [
            "      9/300      18.7G     0.9015     0.6168      1.165        102        896: 100%|██████████| 315/315 [05:33<00:00,  1.06s/it]\n",
            "                 Class     Images  Instances      Box(P          R      mAP50  mAP50-95): 100%|██████████| 34/34 [00:23<00:00,  1.45it/s]\n"
          ]
        },
        {
          "output_type": "stream",
          "name": "stdout",
          "text": [
            "                   all       1684      17375      0.664      0.506      0.497      0.324\n",
            "\n",
            "      Epoch    GPU_mem   box_loss   cls_loss   dfl_loss  Instances       Size\n"
          ]
        },
        {
          "output_type": "stream",
          "name": "stderr",
          "text": [
            "     10/300      18.8G     0.8639     0.5848      1.139         84        896: 100%|██████████| 315/315 [05:34<00:00,  1.06s/it]\n",
            "                 Class     Images  Instances      Box(P          R      mAP50  mAP50-95): 100%|██████████| 34/34 [00:24<00:00,  1.40it/s]\n"
          ]
        },
        {
          "output_type": "stream",
          "name": "stdout",
          "text": [
            "                   all       1684      17375      0.633      0.518      0.499      0.324\n",
            "\n",
            "      Epoch    GPU_mem   box_loss   cls_loss   dfl_loss  Instances       Size\n"
          ]
        },
        {
          "output_type": "stream",
          "name": "stderr",
          "text": [
            "     11/300      18.7G     0.8316     0.5562      1.117         48        896: 100%|██████████| 315/315 [05:34<00:00,  1.06s/it]\n",
            "                 Class     Images  Instances      Box(P          R      mAP50  mAP50-95): 100%|██████████| 34/34 [00:23<00:00,  1.45it/s]\n"
          ]
        },
        {
          "output_type": "stream",
          "name": "stdout",
          "text": [
            "                   all       1684      17375      0.652      0.532      0.504      0.328\n",
            "\n",
            "      Epoch    GPU_mem   box_loss   cls_loss   dfl_loss  Instances       Size\n"
          ]
        },
        {
          "output_type": "stream",
          "name": "stderr",
          "text": [
            "     12/300      18.7G     0.7963     0.5291      1.093         81        896: 100%|██████████| 315/315 [05:35<00:00,  1.06s/it]\n",
            "                 Class     Images  Instances      Box(P          R      mAP50  mAP50-95): 100%|██████████| 34/34 [00:25<00:00,  1.36it/s]\n"
          ]
        },
        {
          "output_type": "stream",
          "name": "stdout",
          "text": [
            "                   all       1684      17375      0.675      0.519      0.507      0.331\n",
            "\n",
            "      Epoch    GPU_mem   box_loss   cls_loss   dfl_loss  Instances       Size\n"
          ]
        },
        {
          "output_type": "stream",
          "name": "stderr",
          "text": [
            "     13/300      18.7G     0.7632     0.5053      1.071         65        896: 100%|██████████| 315/315 [05:34<00:00,  1.06s/it]\n",
            "                 Class     Images  Instances      Box(P          R      mAP50  mAP50-95): 100%|██████████| 34/34 [00:25<00:00,  1.34it/s]\n"
          ]
        },
        {
          "output_type": "stream",
          "name": "stdout",
          "text": [
            "                   all       1684      17375      0.677      0.502      0.505      0.329\n",
            "\n",
            "      Epoch    GPU_mem   box_loss   cls_loss   dfl_loss  Instances       Size\n"
          ]
        },
        {
          "output_type": "stream",
          "name": "stderr",
          "text": [
            "     14/300      18.7G       0.73     0.4761      1.048         80        896: 100%|██████████| 315/315 [05:34<00:00,  1.06s/it]\n",
            "                 Class     Images  Instances      Box(P          R      mAP50  mAP50-95): 100%|██████████| 34/34 [00:24<00:00,  1.41it/s]"
          ]
        },
        {
          "output_type": "stream",
          "name": "stdout",
          "text": [
            "                   all       1684      17375      0.601      0.526      0.501      0.325\n"
          ]
        },
        {
          "output_type": "stream",
          "name": "stderr",
          "text": [
            "\n"
          ]
        },
        {
          "output_type": "stream",
          "name": "stdout",
          "text": [
            "\n",
            "      Epoch    GPU_mem   box_loss   cls_loss   dfl_loss  Instances       Size\n"
          ]
        },
        {
          "output_type": "stream",
          "name": "stderr",
          "text": [
            "     15/300      18.7G     0.7029     0.4566       1.03        114        896: 100%|██████████| 315/315 [05:33<00:00,  1.06s/it]\n",
            "                 Class     Images  Instances      Box(P          R      mAP50  mAP50-95): 100%|██████████| 34/34 [00:23<00:00,  1.44it/s]"
          ]
        },
        {
          "output_type": "stream",
          "name": "stdout",
          "text": [
            "                   all       1684      17375      0.633      0.506       0.51      0.331\n"
          ]
        },
        {
          "output_type": "stream",
          "name": "stderr",
          "text": [
            "\n"
          ]
        },
        {
          "output_type": "stream",
          "name": "stdout",
          "text": [
            "\n",
            "      Epoch    GPU_mem   box_loss   cls_loss   dfl_loss  Instances       Size\n"
          ]
        },
        {
          "output_type": "stream",
          "name": "stderr",
          "text": [
            "     16/300      18.7G     0.6762      0.437      1.011         64        896: 100%|██████████| 315/315 [05:33<00:00,  1.06s/it]\n",
            "                 Class     Images  Instances      Box(P          R      mAP50  mAP50-95): 100%|██████████| 34/34 [00:23<00:00,  1.45it/s]"
          ]
        },
        {
          "output_type": "stream",
          "name": "stdout",
          "text": [
            "                   all       1684      17375      0.603      0.542      0.512      0.334\n"
          ]
        },
        {
          "output_type": "stream",
          "name": "stderr",
          "text": [
            "\n"
          ]
        },
        {
          "output_type": "stream",
          "name": "stdout",
          "text": [
            "\n",
            "      Epoch    GPU_mem   box_loss   cls_loss   dfl_loss  Instances       Size\n"
          ]
        },
        {
          "output_type": "stream",
          "name": "stderr",
          "text": [
            "     17/300      18.7G     0.6498     0.4162     0.9931         49        896: 100%|██████████| 315/315 [05:33<00:00,  1.06s/it]\n",
            "                 Class     Images  Instances      Box(P          R      mAP50  mAP50-95): 100%|██████████| 34/34 [00:24<00:00,  1.39it/s]"
          ]
        },
        {
          "output_type": "stream",
          "name": "stdout",
          "text": [
            "                   all       1684      17375       0.64      0.507      0.503      0.331\n"
          ]
        },
        {
          "output_type": "stream",
          "name": "stderr",
          "text": [
            "\n"
          ]
        },
        {
          "output_type": "stream",
          "name": "stdout",
          "text": [
            "\n",
            "      Epoch    GPU_mem   box_loss   cls_loss   dfl_loss  Instances       Size\n"
          ]
        },
        {
          "output_type": "stream",
          "name": "stderr",
          "text": [
            "     18/300      18.7G      0.628     0.3994     0.9797        121        896: 100%|██████████| 315/315 [05:33<00:00,  1.06s/it]\n",
            "                 Class     Images  Instances      Box(P          R      mAP50  mAP50-95): 100%|██████████| 34/34 [00:24<00:00,  1.41it/s]"
          ]
        },
        {
          "output_type": "stream",
          "name": "stdout",
          "text": [
            "                   all       1684      17375      0.636        0.5        0.5      0.328\n"
          ]
        },
        {
          "output_type": "stream",
          "name": "stderr",
          "text": [
            "\n"
          ]
        },
        {
          "output_type": "stream",
          "name": "stdout",
          "text": [
            "\n",
            "      Epoch    GPU_mem   box_loss   cls_loss   dfl_loss  Instances       Size\n"
          ]
        },
        {
          "output_type": "stream",
          "name": "stderr",
          "text": [
            "     19/300      18.7G     0.6031     0.3821     0.9634         79        896: 100%|██████████| 315/315 [05:33<00:00,  1.06s/it]\n",
            "                 Class     Images  Instances      Box(P          R      mAP50  mAP50-95): 100%|██████████| 34/34 [00:23<00:00,  1.45it/s]"
          ]
        },
        {
          "output_type": "stream",
          "name": "stdout",
          "text": [
            "                   all       1684      17375      0.588      0.535      0.499      0.327\n"
          ]
        },
        {
          "output_type": "stream",
          "name": "stderr",
          "text": [
            "\n"
          ]
        },
        {
          "output_type": "stream",
          "name": "stdout",
          "text": [
            "\n",
            "      Epoch    GPU_mem   box_loss   cls_loss   dfl_loss  Instances       Size\n"
          ]
        },
        {
          "output_type": "stream",
          "name": "stderr",
          "text": [
            "     20/300      18.7G     0.5825      0.369     0.9494         94        896: 100%|██████████| 315/315 [05:33<00:00,  1.06s/it]\n",
            "                 Class     Images  Instances      Box(P          R      mAP50  mAP50-95): 100%|██████████| 34/34 [00:24<00:00,  1.37it/s]"
          ]
        },
        {
          "output_type": "stream",
          "name": "stdout",
          "text": [
            "                   all       1684      17375      0.652      0.507      0.503      0.328\n"
          ]
        },
        {
          "output_type": "stream",
          "name": "stderr",
          "text": [
            "\n"
          ]
        },
        {
          "output_type": "stream",
          "name": "stdout",
          "text": [
            "\n",
            "      Epoch    GPU_mem   box_loss   cls_loss   dfl_loss  Instances       Size\n"
          ]
        },
        {
          "output_type": "stream",
          "name": "stderr",
          "text": [
            "     21/300      18.7G     0.5669     0.3584     0.9408         77        896: 100%|██████████| 315/315 [05:33<00:00,  1.06s/it]\n",
            "                 Class     Images  Instances      Box(P          R      mAP50  mAP50-95): 100%|██████████| 34/34 [00:24<00:00,  1.40it/s]"
          ]
        },
        {
          "output_type": "stream",
          "name": "stdout",
          "text": [
            "                   all       1684      17375      0.631      0.505      0.498      0.325\n",
            "\u001b[34m\u001b[1mEarlyStopping: \u001b[0mTraining stopped early as no improvement observed in last 5 epochs. Best results observed at epoch 16, best model saved as best.pt.\n",
            "To update EarlyStopping(patience=5) pass a new patience value, i.e. `patience=300` or use `patience=0` to disable EarlyStopping.\n"
          ]
        },
        {
          "output_type": "stream",
          "name": "stderr",
          "text": [
            "\n"
          ]
        },
        {
          "output_type": "stream",
          "name": "stdout",
          "text": [
            "\n",
            "21 epochs completed in 2.104 hours.\n",
            "Optimizer stripped from /content/drive/MyDrive/fiber_optic_box_inspection/runs_yolo/v8m_mni1.0_batch25_imgsz896_default_augmentation_disabled_/weights/last.pt, 52.2MB\n",
            "Optimizer stripped from /content/drive/MyDrive/fiber_optic_box_inspection/runs_yolo/v8m_mni1.0_batch25_imgsz896_default_augmentation_disabled_/weights/best.pt, 52.2MB\n",
            "\n",
            "Validating /content/drive/MyDrive/fiber_optic_box_inspection/runs_yolo/v8m_mni1.0_batch25_imgsz896_default_augmentation_disabled_/weights/best.pt...\n",
            "Ultralytics 8.3.158 🚀 Python-3.11.13 torch-2.6.0+cu124 CUDA:0 (NVIDIA L4, 22693MiB)\n",
            "Model summary (fused): 92 layers, 25,939,927 parameters, 0 gradients, 79.2 GFLOPs\n"
          ]
        },
        {
          "output_type": "stream",
          "name": "stderr",
          "text": [
            "                 Class     Images  Instances      Box(P          R      mAP50  mAP50-95): 100%|██████████| 34/34 [00:22<00:00,  1.52it/s]\n"
          ]
        },
        {
          "output_type": "stream",
          "name": "stdout",
          "text": [
            "                   all       1684      17375      0.603      0.542      0.512      0.333\n",
            "                   1.0        163        164      0.725      0.851      0.821      0.692\n",
            "                   1.1         67         67      0.489      0.757      0.652      0.505\n",
            "                   1.2         16         16      0.126      0.375      0.177      0.135\n",
            "                   1.7         20         20      0.155        0.3      0.199       0.15\n",
            "                   2.0        270        272      0.891      0.938       0.95      0.827\n",
            "                   2.3          1          1          1          0          0          0\n",
            "                   3.0        251        251      0.891      0.928      0.929      0.583\n",
            "                   3.1          4          5      0.541        0.2      0.326      0.178\n",
            "                   5.0        267        527      0.932      0.977      0.959      0.671\n",
            "                   5.1         10         10      0.298        0.3       0.33      0.199\n",
            "                   6.0        231        231      0.816      0.939      0.889      0.667\n",
            "                   6.1          2          2          1          0          0          0\n",
            "                   7.0        211        211      0.743      0.934      0.922      0.618\n",
            "                   7.1         11         11          0          0     0.0795      0.046\n",
            "                   7.2          2          2      0.286      0.824      0.332     0.0915\n",
            "                   7.7          2          2          1          0     0.0045    0.00405\n",
            "                   8.0        253        705      0.676      0.826      0.771      0.419\n",
            "                   8.3         17         22      0.209      0.227      0.177      0.121\n",
            "                   9.0        177        296      0.549      0.703       0.64      0.337\n",
            "                   9.4         54         78      0.726      0.746      0.772      0.352\n",
            "                  10.0         86         86      0.408      0.667      0.463       0.35\n",
            "                  11.0        252        652      0.677      0.903      0.794      0.439\n",
            "                  11.1         12         15      0.676       0.28      0.296       0.11\n",
            "                  13.0        165        165      0.624       0.77      0.727      0.521\n",
            "                  13.1         17         17      0.441      0.279      0.252      0.187\n",
            "                  13.2          1          1          1          0          0          0\n",
            "                  14.0        148        149      0.724      0.879      0.839      0.706\n",
            "                  14.1         18         18      0.408      0.722      0.605      0.488\n",
            "                  14.2         92         94      0.604      0.734      0.687      0.509\n",
            "                  19.0         97         98      0.524      0.696      0.645      0.406\n",
            "                  19.1         11         11          0          0     0.0631     0.0366\n",
            "                  19.3         59         60       0.36      0.483      0.391      0.214\n",
            "                  20.0         88         88      0.547      0.645      0.596      0.402\n",
            "                  20.1         49         52      0.438      0.404      0.395      0.241\n",
            "                  20.2         79        102       0.47      0.441      0.395      0.183\n",
            "                  20.3          2          2          1          0     0.0366    0.00366\n",
            "                  23.0        258        262      0.638      0.885      0.763      0.518\n",
            "                  23.1        169        191      0.454      0.592      0.557      0.271\n",
            "                  23.2          4          4          1          0    0.00133   0.000663\n",
            "                  24.0         51         80      0.526      0.575      0.505      0.177\n",
            "                  24.1         82        143      0.413      0.413       0.39      0.116\n",
            "                  24.3          1          1          1          0          0          0\n",
            "                  26.0        468        472      0.877      0.981      0.937      0.798\n",
            "                  26.1          3          3      0.115      0.333      0.115     0.0926\n",
            "                  27.0        147        147      0.771      0.959       0.91       0.57\n",
            "                  28.0        249        249      0.875      0.988       0.94      0.806\n",
            "                  29.0        264        268      0.926      0.978      0.959      0.861\n",
            "                  29.1         15         15      0.284     0.0816      0.182      0.152\n",
            "                  29.4          3          3      0.735      0.333      0.383      0.346\n",
            "                  30.0        203        391       0.87      0.962      0.935      0.593\n",
            "                  30.1         20         25       0.46       0.08      0.125     0.0842\n",
            "                  32.0         68        136      0.889      0.993      0.966      0.669\n",
            "                  32.1          5         10      0.272      0.709      0.389       0.21\n",
            "                  32.2         49         98      0.642      0.786      0.784      0.487\n",
            "                  35.0        146        155      0.528      0.866      0.762      0.326\n",
            "                  35.1         39         41      0.472      0.634      0.507      0.183\n",
            "                  37.0        236        558      0.727      0.913      0.862      0.536\n",
            "                  37.1          2          4          0          0        0.1     0.0786\n",
            "                  37.3          3          5          0          0     0.0554     0.0191\n",
            "                  37.4         54        144       0.72      0.924      0.843      0.498\n",
            "                  38.0        216        744      0.749      0.805      0.837      0.504\n",
            "                  38.1          5         17          1          0     0.0912     0.0325\n",
            "                  39.0        171        293      0.745      0.908      0.886      0.568\n",
            "                  39.1          7         11      0.616      0.364      0.402      0.171\n",
            "                  40.0        171        171      0.786      0.988      0.892      0.757\n",
            "                  40.1         18         18      0.375      0.444      0.474      0.371\n",
            "                  41.0        104        107      0.945      0.963       0.98      0.836\n",
            "                  41.1          2          2          0          0    0.00633     0.0038\n",
            "                  41.2          1          1          1          0          0          0\n",
            "                  42.0        118        118      0.887      0.994      0.935      0.655\n",
            "                  42.1         15         15      0.475      0.133      0.298      0.159\n",
            "                  43.0        285       1126      0.944      0.984      0.971      0.799\n",
            "                  43.1         29         33      0.839      0.667      0.773      0.377\n",
            "                  44.0        202        202      0.895       0.97      0.948      0.726\n",
            "                  44.1          4          4      0.963       0.75       0.79      0.507\n",
            "                  45.0        214        215      0.885      0.967      0.959      0.693\n",
            "                  45.1         63         63       0.37      0.762      0.621       0.26\n",
            "                  45.2          7          7      0.653      0.143      0.387      0.168\n",
            "                  46.0        122        335      0.681      0.815      0.752       0.33\n",
            "                  46.1         69        119      0.205       0.21      0.117      0.033\n",
            "                  46.3          3          8      0.636      0.125      0.161      0.037\n",
            "                  47.0        218        643      0.809      0.918      0.898      0.524\n",
            "                  47.1         65         74      0.551      0.689      0.661      0.297\n",
            "                  48.0        206        239      0.565      0.841      0.703      0.383\n",
            "                  48.2          1          1          1          0     0.0134    0.00672\n",
            "                  49.0        143        145      0.664      0.821      0.712      0.472\n",
            "                  49.3         20         22      0.275      0.591      0.335      0.132\n",
            "                  49.4         52         59      0.427      0.378      0.343      0.202\n",
            "                  50.0        102        103      0.825      0.981      0.931      0.726\n",
            "                  50.1         33         33      0.532      0.879      0.832      0.576\n",
            "                  50.2          9          9      0.443      0.111     0.0807     0.0316\n",
            "                  51.0        372        372      0.833      0.981      0.925      0.825\n",
            "                  51.2         31         40      0.273        0.4      0.305       0.13\n",
            "                  51.3          9         10      0.131        0.1      0.166     0.0837\n",
            "                  52.0        184        190      0.815      0.927      0.868       0.52\n",
            "                  52.3          9          9     0.0751      0.111      0.147      0.124\n",
            "                  52.5         24         25      0.579       0.76      0.675      0.203\n",
            "                  53.0        195        207      0.768      0.903      0.851      0.529\n",
            "                  53.4         18         20      0.528       0.25      0.286      0.131\n",
            "                  53.5         17         17          0          0      0.104     0.0756\n",
            "                  54.0        166        307      0.835      0.902      0.881      0.557\n",
            "                  54.4         55         80      0.344        0.4      0.277     0.0536\n",
            "                  54.5         12         13      0.145      0.132     0.0348     0.0197\n",
            "                  55.0        197        359      0.813      0.939      0.897      0.508\n",
            "                  55.4         54         72       0.51      0.667       0.57       0.21\n",
            "                  55.5          3          4          0          0     0.0422     0.0336\n",
            "                  56.0        271        807       0.91      0.981      0.952      0.795\n",
            "                  56.2          4          5          1          0       0.02      0.012\n",
            "                  56.4          1          4      0.127      0.127       0.19      0.149\n",
            "                  57.0        283        840      0.902      0.971      0.961      0.724\n",
            "                  57.1          1          1          0          0          0          0\n",
            "                  58.0        270        272      0.949      0.996      0.982      0.791\n",
            "                  58.1          8          8      0.535      0.875      0.826       0.45\n",
            "                  59.0        274        275      0.959      0.993      0.981       0.83\n",
            "                  59.2          1          1          1          0     0.0111    0.00884\n",
            "                  59.3          1          1          1          0          0          0\n",
            "                  60.0        204        205      0.773      0.978      0.899      0.679\n",
            "                  60.1         29         36      0.479      0.361      0.347      0.131\n",
            "                  60.3         56         65      0.402      0.435      0.367      0.172\n",
            "                  61.0        280        280      0.949          1      0.982      0.808\n",
            "                  61.1          1          1          1          0          0          0\n",
            "                  61.4          4          4          0          0    0.00953    0.00858\n",
            "Speed: 0.2ms preprocess, 8.3ms inference, 0.0ms loss, 1.2ms postprocess per image\n",
            "Results saved to \u001b[1m/content/drive/MyDrive/fiber_optic_box_inspection/runs_yolo/v8m_mni1.0_batch25_imgsz896_default_augmentation_disabled_\u001b[0m\n"
          ]
        }
      ],
      "source": [
        "model = YOLO('yolov8m.pt')\n",
        "results = model.train(\n",
        "    data=local_paths['yolo_data_cfg'],\n",
        "    epochs=300,\n",
        "    patience=5,\n",
        "    batch=25,\n",
        "    imgsz=896,\n",
        "    save_period=10,\n",
        "    cache='disk',\n",
        "    device=0,\n",
        "    workers=16,\n",
        "    project=paths['yolo_output_dir'],\n",
        "    name=yolo_no_augmentations.train_run_name,\n",
        "    save_conf=True,\n",
        "    # augmentation\n",
        "    hsv_h=0.0,           # default 0.015\n",
        "    hsv_s=0.0,           # default 0.7\n",
        "    hsv_v=0.0,           # default 0.4\n",
        "    degrees=0.0,         # default 0.0\n",
        "    translate=0.0,       # default 0.1\n",
        "    scale=0.0,           # default 0.5\n",
        "    shear=0.0,           # default 0.0\n",
        "    perspective=0.0,     # default 0.0\n",
        "    flipud=0.0,          # default 0.0\n",
        "    fliplr=0.0,          # default 0.5\n",
        "    bgr=0.0,             # default 0.0\n",
        "    mosaic=0.0,          # default 1.0\n",
        "    mixup=0.0,           # default 0.0\n",
        "    cutmix=0.0,          # default 0.0\n",
        "    )"
      ]
    },
    {
      "cell_type": "code",
      "source": [
        "# check path\n",
        "model = YOLO(yolo_no_augmentations.get_last_weight_path())\n",
        "results = model.train(resume=True)"
      ],
      "metadata": {
        "colab": {
          "base_uri": "https://localhost:8080/"
        },
        "outputId": "ddb6f135-d4c9-4ba4-d942-71f473abe547",
        "collapsed": true,
        "id": "-CMcBwPKNhTf"
      },
      "execution_count": null,
      "outputs": [
        {
          "output_type": "stream",
          "name": "stdout",
          "text": [
            "Ultralytics 8.3.158 🚀 Python-3.11.13 torch-2.6.0+cu124 CUDA:0 (NVIDIA L4, 22693MiB)\n",
            "\u001b[34m\u001b[1mengine/trainer: \u001b[0magnostic_nms=False, amp=True, augment=False, auto_augment=randaugment, batch=25, bgr=0.0, box=7.5, cache=disk, cfg=None, classes=None, close_mosaic=10, cls=0.5, conf=None, copy_paste=0.0, copy_paste_mode=flip, cos_lr=False, cutmix=0.0, data=/content/dataset/data.yaml, degrees=0.0, deterministic=True, device=0, dfl=1.5, dnn=False, dropout=0.0, dynamic=False, embed=None, epochs=300, erasing=0.4, exist_ok=False, fliplr=0.5, flipud=0.0, format=torchscript, fraction=1.0, freeze=None, half=False, hsv_h=0.015, hsv_s=0.7, hsv_v=0.4, imgsz=896, int8=False, iou=0.7, keras=False, kobj=1.0, line_width=None, lr0=0.01, lrf=0.01, mask_ratio=4, max_det=300, mixup=0.0, mode=train, model=/content/drive/MyDrive/fiber_optic_box_inspection/runs_yolo/v8m_mni1.0_batch25_imgsz896_2/weights/last.pt, momentum=0.937, mosaic=1.0, multi_scale=False, name=v8m_mni1.0_batch25_imgsz896_2, nbs=64, nms=False, opset=None, optimize=False, optimizer=auto, overlap_mask=True, patience=10, perspective=0.0, plots=True, pose=12.0, pretrained=True, profile=False, project=/content/drive/MyDrive/fiber_optic_box_inspection/runs_yolo, rect=False, resume=/content/drive/MyDrive/fiber_optic_box_inspection/runs_yolo/v8m_mni1.0_batch25_imgsz896_2/weights/last.pt, retina_masks=False, save=True, save_conf=True, save_crop=False, save_dir=/content/drive/MyDrive/fiber_optic_box_inspection/runs_yolo/v8m_mni1.0_batch25_imgsz896_2, save_frames=False, save_json=False, save_period=5, save_txt=False, scale=0.5, seed=0, shear=0.0, show=False, show_boxes=True, show_conf=True, show_labels=True, simplify=True, single_cls=False, source=None, split=val, stream_buffer=False, task=detect, time=None, tracker=botsort.yaml, translate=0.1, val=True, verbose=True, vid_stride=1, visualize=False, warmup_bias_lr=0.0, warmup_epochs=3.0, warmup_momentum=0.8, weight_decay=0.0005, workers=16, workspace=None\n",
            "Downloading https://ultralytics.com/assets/Arial.ttf to '/root/.config/Ultralytics/Arial.ttf'...\n"
          ]
        },
        {
          "output_type": "stream",
          "name": "stderr",
          "text": [
            "100%|██████████| 755k/755k [00:00<00:00, 109MB/s]\n"
          ]
        },
        {
          "output_type": "stream",
          "name": "stdout",
          "text": [
            "\n",
            "                   from  n    params  module                                       arguments                     \n",
            "  0                  -1  1      1392  ultralytics.nn.modules.conv.Conv             [3, 48, 3, 2]                 \n",
            "  1                  -1  1     41664  ultralytics.nn.modules.conv.Conv             [48, 96, 3, 2]                \n",
            "  2                  -1  2    111360  ultralytics.nn.modules.block.C2f             [96, 96, 2, True]             \n",
            "  3                  -1  1    166272  ultralytics.nn.modules.conv.Conv             [96, 192, 3, 2]               \n",
            "  4                  -1  4    813312  ultralytics.nn.modules.block.C2f             [192, 192, 4, True]           \n",
            "  5                  -1  1    664320  ultralytics.nn.modules.conv.Conv             [192, 384, 3, 2]              \n",
            "  6                  -1  4   3248640  ultralytics.nn.modules.block.C2f             [384, 384, 4, True]           \n",
            "  7                  -1  1   1991808  ultralytics.nn.modules.conv.Conv             [384, 576, 3, 2]              \n",
            "  8                  -1  2   3985920  ultralytics.nn.modules.block.C2f             [576, 576, 2, True]           \n",
            "  9                  -1  1    831168  ultralytics.nn.modules.block.SPPF            [576, 576, 5]                 \n",
            " 10                  -1  1         0  torch.nn.modules.upsampling.Upsample         [None, 2, 'nearest']          \n",
            " 11             [-1, 6]  1         0  ultralytics.nn.modules.conv.Concat           [1]                           \n",
            " 12                  -1  2   1993728  ultralytics.nn.modules.block.C2f             [960, 384, 2]                 \n",
            " 13                  -1  1         0  torch.nn.modules.upsampling.Upsample         [None, 2, 'nearest']          \n",
            " 14             [-1, 4]  1         0  ultralytics.nn.modules.conv.Concat           [1]                           \n",
            " 15                  -1  2    517632  ultralytics.nn.modules.block.C2f             [576, 192, 2]                 \n",
            " 16                  -1  1    332160  ultralytics.nn.modules.conv.Conv             [192, 192, 3, 2]              \n",
            " 17            [-1, 12]  1         0  ultralytics.nn.modules.conv.Concat           [1]                           \n",
            " 18                  -1  2   1846272  ultralytics.nn.modules.block.C2f             [576, 384, 2]                 \n",
            " 19                  -1  1   1327872  ultralytics.nn.modules.conv.Conv             [384, 384, 3, 2]              \n",
            " 20             [-1, 9]  1         0  ultralytics.nn.modules.conv.Concat           [1]                           \n",
            " 21                  -1  2   4207104  ultralytics.nn.modules.block.C2f             [960, 576, 2]                 \n",
            " 22        [15, 18, 21]  1   3875863  ultralytics.nn.modules.head.Detect           [173, [192, 384, 576]]        \n",
            "Model summary: 169 layers, 25,956,487 parameters, 25,956,471 gradients, 79.6 GFLOPs\n",
            "\n",
            "Transferred 475/475 items from pretrained weights\n",
            "Freezing layer 'model.22.dfl.conv.weight'\n",
            "\u001b[34m\u001b[1mAMP: \u001b[0mrunning Automatic Mixed Precision (AMP) checks...\n",
            "Downloading https://github.com/ultralytics/assets/releases/download/v8.3.0/yolo11n.pt to 'yolo11n.pt'...\n"
          ]
        },
        {
          "output_type": "stream",
          "name": "stderr",
          "text": [
            "100%|██████████| 5.35M/5.35M [00:00<00:00, 306MB/s]\n"
          ]
        },
        {
          "output_type": "stream",
          "name": "stdout",
          "text": [
            "\u001b[34m\u001b[1mAMP: \u001b[0mchecks passed ✅\n",
            "\u001b[34m\u001b[1mtrain: \u001b[0mFast image access ✅ (ping: 0.0±0.0 ms, read: 2618.2±972.5 MB/s, size: 101.7 KB)\n"
          ]
        },
        {
          "output_type": "stream",
          "name": "stderr",
          "text": [
            "\u001b[34m\u001b[1mtrain: \u001b[0mScanning /content/dataset/data_label_v2_ALL... 7858 images, 462 backgrounds, 0 corrupt: 100%|██████████| 7858/7858 [00:05<00:00, 1460.69it/s]"
          ]
        },
        {
          "output_type": "stream",
          "name": "stdout",
          "text": [
            "\u001b[34m\u001b[1mtrain: \u001b[0m/content/dataset/data_label_v2_ALL/2022_11_03_15_29_32-HNIP456107HO.jpg: 1 duplicate labels removed\n",
            "\u001b[34m\u001b[1mtrain: \u001b[0m/content/dataset/data_label_v2_ALL/2022_11_10_14_59_59-HNIP120595HO.jpg: 1 duplicate labels removed\n",
            "\u001b[34m\u001b[1mtrain: \u001b[0m/content/dataset/data_label_v2_ALL/2022_11_11_09_10_09-PYNP016064HO.jpg: 1 duplicate labels removed\n",
            "\u001b[34m\u001b[1mtrain: \u001b[0m/content/dataset/data_label_v2_ALL/2022_11_11_09_59_56-BGGP089061HO.jpg: 1 duplicate labels removed\n",
            "\u001b[34m\u001b[1mtrain: \u001b[0m/content/dataset/data_label_v2_ALL/2022_11_14_16_04_38-HNIP548102HO.jpg: 1 duplicate labels removed\n",
            "\u001b[34m\u001b[1mtrain: \u001b[0m/content/dataset/data_label_v2_ALL/2022_11_16_08_43_48-HDGP141064HO.jpg: 1 duplicate labels removed\n",
            "\u001b[34m\u001b[1mtrain: \u001b[0m/content/dataset/data_label_v2_ALL/2022_11_16_15_40_51-HBHP012080HO.jpg: 1 duplicate labels removed\n",
            "\u001b[34m\u001b[1mtrain: \u001b[0m/content/dataset/data_label_v2_ALL/2022_12_06_15_18_24-TBHP019033HO.jpg: 1 duplicate labels removed\n",
            "\u001b[34m\u001b[1mtrain: \u001b[0m/content/dataset/data_label_v2_ALL/2022_12_07_16_39_07-QNHP088205HO.jpg: 1 duplicate labels removed\n",
            "\u001b[34m\u001b[1mtrain: \u001b[0m/content/dataset/data_label_v2_ALL/2022_12_08_10_14_33-HYNP074125HO.jpg: 1 duplicate labels removed\n",
            "\u001b[34m\u001b[1mtrain: \u001b[0m/content/dataset/data_label_v2_ALL/2022_12_09_10_16_40-TBHP044214HO.jpg: 1 duplicate labels removed\n",
            "\u001b[34m\u001b[1mtrain: \u001b[0m/content/dataset/data_label_v2_ALL/2022_12_29_09_46_47-HDGP048174HO.jpg: 1 duplicate labels removed\n"
          ]
        },
        {
          "output_type": "stream",
          "name": "stderr",
          "text": [
            "\n"
          ]
        },
        {
          "output_type": "stream",
          "name": "stdout",
          "text": [
            "\u001b[34m\u001b[1mtrain: \u001b[0mNew cache created: /content/dataset/data_label_v2_ALL.cache\n"
          ]
        },
        {
          "output_type": "stream",
          "name": "stderr",
          "text": [
            "\u001b[34m\u001b[1mtrain: \u001b[0mCaching images (17.9GB Disk): 100%|██████████| 7858/7858 [06:35<00:00, 19.88it/s]\n"
          ]
        },
        {
          "output_type": "stream",
          "name": "stdout",
          "text": [
            "\u001b[34m\u001b[1malbumentations: \u001b[0mBlur(p=0.01, blur_limit=(3, 7)), MedianBlur(p=0.01, blur_limit=(3, 7)), ToGray(p=0.01, method='weighted_average', num_output_channels=3), CLAHE(p=0.01, clip_limit=(1.0, 4.0), tile_grid_size=(8, 8))\n",
            "\u001b[34m\u001b[1mval: \u001b[0mFast image access ✅ (ping: 0.0±0.0 ms, read: 704.0±83.5 MB/s, size: 107.9 KB)\n"
          ]
        },
        {
          "output_type": "stream",
          "name": "stderr",
          "text": [
            "\u001b[34m\u001b[1mval: \u001b[0mScanning /content/dataset/data_label_v2_ALL... 1684 images, 100 backgrounds, 0 corrupt: 100%|██████████| 1684/1684 [00:01<00:00, 1260.98it/s]"
          ]
        },
        {
          "output_type": "stream",
          "name": "stdout",
          "text": [
            "\u001b[34m\u001b[1mval: \u001b[0m/content/dataset/data_label_v2_ALL/2022_11_21_09_08_32-TNNP069058HO.jpg: 1 duplicate labels removed\n",
            "\u001b[34m\u001b[1mval: \u001b[0m/content/dataset/data_label_v2_ALL/2022_11_21_16_32_02-HBHP012062HO.jpg: 1 duplicate labels removed\n"
          ]
        },
        {
          "output_type": "stream",
          "name": "stderr",
          "text": [
            "\n"
          ]
        },
        {
          "output_type": "stream",
          "name": "stdout",
          "text": [
            "\u001b[34m\u001b[1mval: \u001b[0mNew cache created: /content/dataset/data_label_v2_ALL.cache\n"
          ]
        },
        {
          "output_type": "stream",
          "name": "stderr",
          "text": [
            "\u001b[34m\u001b[1mval: \u001b[0mCaching images (3.9GB Disk): 100%|██████████| 1684/1684 [00:12<00:00, 135.00it/s]\n"
          ]
        },
        {
          "output_type": "stream",
          "name": "stdout",
          "text": [
            "Plotting labels to /content/drive/MyDrive/fiber_optic_box_inspection/runs_yolo/v8m_mni1.0_batch25_imgsz896_2/labels.jpg... \n",
            "\u001b[34m\u001b[1moptimizer:\u001b[0m 'optimizer=auto' found, ignoring 'lr0=0.01' and 'momentum=0.937' and determining best 'optimizer', 'lr0' and 'momentum' automatically... \n",
            "\u001b[34m\u001b[1moptimizer:\u001b[0m SGD(lr=0.01, momentum=0.9) with parameter groups 77 weight(decay=0.0), 84 weight(decay=0.0005859375000000001), 83 bias(decay=0.0)\n",
            "Resuming training /content/drive/MyDrive/fiber_optic_box_inspection/runs_yolo/v8m_mni1.0_batch25_imgsz896_2/weights/last.pt from epoch 49 to 300 total epochs\n",
            "Image sizes 896 train, 896 val\n",
            "Using 12 dataloader workers\n",
            "Logging results to \u001b[1m/content/drive/MyDrive/fiber_optic_box_inspection/runs_yolo/v8m_mni1.0_batch25_imgsz896_2\u001b[0m\n",
            "Starting training for 300 epochs...\n",
            "\n",
            "      Epoch    GPU_mem   box_loss   cls_loss   dfl_loss  Instances       Size\n"
          ]
        },
        {
          "output_type": "stream",
          "name": "stderr",
          "text": [
            "     49/300      20.3G     0.9023      0.592      1.162        153        896: 100%|██████████| 315/315 [05:45<00:00,  1.10s/it]\n",
            "                 Class     Images  Instances      Box(P          R      mAP50  mAP50-95): 100%|██████████| 34/34 [00:26<00:00,  1.28it/s]\n"
          ]
        },
        {
          "output_type": "stream",
          "name": "stdout",
          "text": [
            "                   all       1684      17375      0.672      0.574      0.571      0.382\n",
            "\n",
            "      Epoch    GPU_mem   box_loss   cls_loss   dfl_loss  Instances       Size\n"
          ]
        },
        {
          "output_type": "stream",
          "name": "stderr",
          "text": [
            "     50/300      19.1G     0.8986      0.591      1.163        157        896: 100%|██████████| 315/315 [05:59<00:00,  1.14s/it]\n",
            "                 Class     Images  Instances      Box(P          R      mAP50  mAP50-95): 100%|██████████| 34/34 [00:24<00:00,  1.37it/s]\n"
          ]
        },
        {
          "output_type": "stream",
          "name": "stdout",
          "text": [
            "                   all       1684      17375      0.641      0.557      0.581      0.385\n",
            "\n",
            "      Epoch    GPU_mem   box_loss   cls_loss   dfl_loss  Instances       Size\n"
          ]
        },
        {
          "output_type": "stream",
          "name": "stderr",
          "text": [
            "     51/300      19.1G     0.8993     0.5906      1.168        191        896: 100%|██████████| 315/315 [05:42<00:00,  1.09s/it]\n",
            "                 Class     Images  Instances      Box(P          R      mAP50  mAP50-95): 100%|██████████| 34/34 [00:25<00:00,  1.35it/s]\n"
          ]
        },
        {
          "output_type": "stream",
          "name": "stdout",
          "text": [
            "                   all       1684      17375       0.66      0.566      0.564      0.376\n",
            "\n",
            "      Epoch    GPU_mem   box_loss   cls_loss   dfl_loss  Instances       Size\n"
          ]
        },
        {
          "output_type": "stream",
          "name": "stderr",
          "text": [
            "     52/300        19G     0.8935     0.5838      1.162         94        896: 100%|██████████| 315/315 [05:42<00:00,  1.09s/it]\n",
            "                 Class     Images  Instances      Box(P          R      mAP50  mAP50-95): 100%|██████████| 34/34 [00:23<00:00,  1.43it/s]\n"
          ]
        },
        {
          "output_type": "stream",
          "name": "stdout",
          "text": [
            "                   all       1684      17375      0.623      0.579      0.577      0.382\n",
            "\n",
            "      Epoch    GPU_mem   box_loss   cls_loss   dfl_loss  Instances       Size\n"
          ]
        },
        {
          "output_type": "stream",
          "name": "stderr",
          "text": [
            "     53/300      18.9G     0.8921     0.5805      1.163        202        896: 100%|██████████| 315/315 [05:41<00:00,  1.08s/it]\n",
            "                 Class     Images  Instances      Box(P          R      mAP50  mAP50-95): 100%|██████████| 34/34 [00:23<00:00,  1.42it/s]"
          ]
        },
        {
          "output_type": "stream",
          "name": "stdout",
          "text": [
            "                   all       1684      17375      0.632      0.583      0.573      0.383\n"
          ]
        },
        {
          "output_type": "stream",
          "name": "stderr",
          "text": [
            "\n"
          ]
        },
        {
          "output_type": "stream",
          "name": "stdout",
          "text": [
            "\n",
            "      Epoch    GPU_mem   box_loss   cls_loss   dfl_loss  Instances       Size\n"
          ]
        },
        {
          "output_type": "stream",
          "name": "stderr",
          "text": [
            "     54/300        19G     0.8885      0.576      1.156        189        896: 100%|██████████| 315/315 [05:42<00:00,  1.09s/it]\n",
            "                 Class     Images  Instances      Box(P          R      mAP50  mAP50-95): 100%|██████████| 34/34 [00:25<00:00,  1.35it/s]"
          ]
        },
        {
          "output_type": "stream",
          "name": "stdout",
          "text": [
            "                   all       1684      17375       0.65      0.569      0.568      0.378\n"
          ]
        },
        {
          "output_type": "stream",
          "name": "stderr",
          "text": [
            "\n"
          ]
        },
        {
          "output_type": "stream",
          "name": "stdout",
          "text": [
            "\n",
            "      Epoch    GPU_mem   box_loss   cls_loss   dfl_loss  Instances       Size\n"
          ]
        },
        {
          "output_type": "stream",
          "name": "stderr",
          "text": [
            "     55/300      18.9G     0.8855     0.5748      1.155        150        896: 100%|██████████| 315/315 [05:42<00:00,  1.09s/it]\n",
            "                 Class     Images  Instances      Box(P          R      mAP50  mAP50-95): 100%|██████████| 34/34 [00:24<00:00,  1.38it/s]\n"
          ]
        },
        {
          "output_type": "stream",
          "name": "stdout",
          "text": [
            "                   all       1684      17375      0.656      0.569      0.564      0.378\n",
            "\n",
            "      Epoch    GPU_mem   box_loss   cls_loss   dfl_loss  Instances       Size\n"
          ]
        },
        {
          "output_type": "stream",
          "name": "stderr",
          "text": [
            "     56/300        19G     0.8806     0.5714      1.151        208        896: 100%|██████████| 315/315 [05:42<00:00,  1.09s/it]\n",
            "                 Class     Images  Instances      Box(P          R      mAP50  mAP50-95): 100%|██████████| 34/34 [00:24<00:00,  1.41it/s]"
          ]
        },
        {
          "output_type": "stream",
          "name": "stdout",
          "text": [
            "                   all       1684      17375      0.688      0.564      0.566      0.379\n"
          ]
        },
        {
          "output_type": "stream",
          "name": "stderr",
          "text": [
            "\n"
          ]
        },
        {
          "output_type": "stream",
          "name": "stdout",
          "text": [
            "\n",
            "      Epoch    GPU_mem   box_loss   cls_loss   dfl_loss  Instances       Size\n"
          ]
        },
        {
          "output_type": "stream",
          "name": "stderr",
          "text": [
            "     57/300      19.1G     0.8777     0.5678      1.149        203        896: 100%|██████████| 315/315 [05:42<00:00,  1.09s/it]\n",
            "                 Class     Images  Instances      Box(P          R      mAP50  mAP50-95): 100%|██████████| 34/34 [00:24<00:00,  1.41it/s]\n"
          ]
        },
        {
          "output_type": "stream",
          "name": "stdout",
          "text": [
            "                   all       1684      17375      0.656      0.569      0.563      0.377\n",
            "\n",
            "      Epoch    GPU_mem   box_loss   cls_loss   dfl_loss  Instances       Size\n"
          ]
        },
        {
          "output_type": "stream",
          "name": "stderr",
          "text": [
            "     58/300      19.1G     0.8758     0.5665      1.154        183        896: 100%|██████████| 315/315 [05:41<00:00,  1.09s/it]\n",
            "                 Class     Images  Instances      Box(P          R      mAP50  mAP50-95): 100%|██████████| 34/34 [00:24<00:00,  1.42it/s]\n"
          ]
        },
        {
          "output_type": "stream",
          "name": "stdout",
          "text": [
            "                   all       1684      17375      0.671       0.56      0.563      0.377\n",
            "\n",
            "      Epoch    GPU_mem   box_loss   cls_loss   dfl_loss  Instances       Size\n"
          ]
        },
        {
          "output_type": "stream",
          "name": "stderr",
          "text": [
            "     59/300      19.1G     0.8782     0.5635       1.15        142        896: 100%|██████████| 315/315 [05:42<00:00,  1.09s/it]\n",
            "                 Class     Images  Instances      Box(P          R      mAP50  mAP50-95): 100%|██████████| 34/34 [00:24<00:00,  1.39it/s]"
          ]
        },
        {
          "output_type": "stream",
          "name": "stdout",
          "text": [
            "                   all       1684      17375      0.645      0.572      0.574      0.384\n"
          ]
        },
        {
          "output_type": "stream",
          "name": "stderr",
          "text": [
            "\n"
          ]
        },
        {
          "output_type": "stream",
          "name": "stdout",
          "text": [
            "\n",
            "      Epoch    GPU_mem   box_loss   cls_loss   dfl_loss  Instances       Size\n"
          ]
        },
        {
          "output_type": "stream",
          "name": "stderr",
          "text": [
            "     60/300      19.1G     0.8681     0.5612      1.146        103        896: 100%|██████████| 315/315 [05:42<00:00,  1.09s/it]\n",
            "                 Class     Images  Instances      Box(P          R      mAP50  mAP50-95): 100%|██████████| 34/34 [00:25<00:00,  1.36it/s]"
          ]
        },
        {
          "output_type": "stream",
          "name": "stdout",
          "text": [
            "                   all       1684      17375      0.668      0.575      0.579      0.384\n"
          ]
        },
        {
          "output_type": "stream",
          "name": "stderr",
          "text": [
            "\n"
          ]
        },
        {
          "output_type": "stream",
          "name": "stdout",
          "text": [
            "\u001b[34m\u001b[1mEarlyStopping: \u001b[0mTraining stopped early as no improvement observed in last 10 epochs. Best results observed at epoch 50, best model saved as best.pt.\n",
            "To update EarlyStopping(patience=10) pass a new patience value, i.e. `patience=300` or use `patience=0` to disable EarlyStopping.\n",
            "\n",
            "12 epochs completed in 1.234 hours.\n",
            "Optimizer stripped from /content/drive/MyDrive/fiber_optic_box_inspection/runs_yolo/v8m_mni1.0_batch25_imgsz896_2/weights/last.pt, 52.2MB\n",
            "Optimizer stripped from /content/drive/MyDrive/fiber_optic_box_inspection/runs_yolo/v8m_mni1.0_batch25_imgsz896_2/weights/best.pt, 52.2MB\n",
            "\n",
            "Validating /content/drive/MyDrive/fiber_optic_box_inspection/runs_yolo/v8m_mni1.0_batch25_imgsz896_2/weights/best.pt...\n",
            "Ultralytics 8.3.158 🚀 Python-3.11.13 torch-2.6.0+cu124 CUDA:0 (NVIDIA L4, 22693MiB)\n",
            "Model summary (fused): 92 layers, 25,939,927 parameters, 0 gradients, 79.2 GFLOPs\n"
          ]
        },
        {
          "output_type": "stream",
          "name": "stderr",
          "text": [
            "                 Class     Images  Instances      Box(P          R      mAP50  mAP50-95): 100%|██████████| 34/34 [00:24<00:00,  1.40it/s]\n"
          ]
        },
        {
          "output_type": "stream",
          "name": "stdout",
          "text": [
            "                   all       1684      17375       0.64      0.557      0.581      0.385\n",
            "                   1.0        163        164      0.816      0.866        0.9      0.781\n",
            "                   1.1         67         67      0.679      0.694      0.745      0.595\n",
            "                   1.2         16         16      0.267      0.438      0.334      0.187\n",
            "                   1.7         20         20      0.381        0.5      0.518      0.414\n",
            "                   2.0        270        272      0.931      0.926      0.971      0.862\n",
            "                   2.3          1          1          1          0          0          0\n",
            "                   3.0        251        251      0.891      0.932      0.946      0.607\n",
            "                   3.1          4          5      0.551        0.2      0.223      0.126\n",
            "                   5.0        267        527      0.923      0.991      0.981      0.693\n",
            "                   5.1         10         10      0.824      0.472      0.539      0.261\n",
            "                   6.0        231        231      0.879      0.945      0.948       0.73\n",
            "                   6.1          2          2       0.38        0.5      0.538       0.11\n",
            "                   7.0        211        211      0.833      0.924      0.943      0.662\n",
            "                   7.1         11         11          0          0     0.0867     0.0554\n",
            "                   7.2          2          2      0.159        0.5      0.557      0.217\n",
            "                   7.7          2          2          1          0    0.00554    0.00444\n",
            "                   8.0        253        705      0.771      0.814      0.832      0.475\n",
            "                   8.3         17         22      0.392      0.318      0.336      0.222\n",
            "                   9.0        177        296      0.645      0.733      0.721      0.391\n",
            "                   9.4         54         78      0.805      0.808      0.847      0.435\n",
            "                  10.0         86         86      0.445      0.728      0.573      0.433\n",
            "                  11.0        252        652      0.725      0.913      0.807      0.481\n",
            "                  11.1         12         15      0.267       0.34      0.361      0.186\n",
            "                  13.0        165        165      0.621      0.825      0.815       0.61\n",
            "                  13.1         17         17          0          0      0.164      0.113\n",
            "                  13.2          1          1          1          0      0.995      0.895\n",
            "                  14.0        148        149        0.8      0.885       0.85      0.724\n",
            "                  14.1         18         18      0.634      0.667      0.666      0.547\n",
            "                  14.2         92         94      0.749      0.698      0.798      0.597\n",
            "                  19.0         97         98      0.559      0.755      0.661      0.449\n",
            "                  19.1         11         11          0          0     0.0823     0.0488\n",
            "                  19.3         59         60      0.438       0.65      0.572      0.303\n",
            "                  20.0         88         88      0.661       0.75      0.735      0.522\n",
            "                  20.1         49         52      0.431      0.452      0.474      0.296\n",
            "                  20.2         79        102      0.612      0.557      0.561       0.29\n",
            "                  20.3          2          2          1          0          0          0\n",
            "                  23.0        258        262       0.72       0.87      0.815      0.575\n",
            "                  23.1        169        191      0.685      0.592      0.614      0.314\n",
            "                  23.2          4          4          0          0    0.00104    0.00052\n",
            "                  24.0         51         80      0.739       0.65      0.704      0.283\n",
            "                  24.1         82        143      0.565      0.445      0.471      0.166\n",
            "                  24.3          1          1          0          0          0          0\n",
            "                  26.0        468        472      0.873      0.987      0.935       0.81\n",
            "                  26.1          3          3          0          0     0.0227     0.0196\n",
            "                  27.0        147        147      0.813      0.973      0.924      0.639\n",
            "                  28.0        249        249      0.873      0.996      0.958      0.824\n",
            "                  29.0        264        268      0.926      0.983      0.952      0.869\n",
            "                  29.1         15         15      0.533        0.4       0.35       0.28\n",
            "                  29.4          3          3      0.615      0.333      0.385      0.348\n",
            "                  30.0        203        391      0.926       0.93      0.951      0.588\n",
            "                  30.1         20         25      0.258     0.0983      0.173      0.121\n",
            "                  32.0         68        136       0.94          1      0.972      0.701\n",
            "                  32.1          5         10      0.532        0.7      0.602      0.427\n",
            "                  32.2         49         98      0.942      0.684      0.906      0.583\n",
            "                  35.0        146        155      0.763      0.845      0.826      0.381\n",
            "                  35.1         39         41       0.44      0.463      0.397      0.177\n",
            "                  37.0        236        558      0.766      0.919      0.876      0.563\n",
            "                  37.1          2          4          1          0      0.531      0.228\n",
            "                  37.3          3          5          1          0       0.38      0.116\n",
            "                  37.4         54        144      0.767      0.965      0.922      0.624\n",
            "                  38.0        216        744      0.751      0.855      0.886      0.539\n",
            "                  38.1          5         17          0          0     0.0218    0.00645\n",
            "                  39.0        171        293      0.842      0.901      0.896      0.607\n",
            "                  39.1          7         11      0.406      0.182      0.224     0.0986\n",
            "                  40.0        171        171       0.84      0.953      0.946      0.828\n",
            "                  40.1         18         18       0.42      0.556      0.616      0.466\n",
            "                  41.0        104        107      0.956      0.953      0.969      0.839\n",
            "                  41.1          2          2          0          0     0.0362     0.0301\n",
            "                  41.2          1          1          1          0     0.0284     0.0256\n",
            "                  42.0        118        118      0.875          1      0.943      0.701\n",
            "                  42.1         15         15      0.646        0.4      0.402      0.196\n",
            "                  43.0        285       1126      0.955      0.985      0.986      0.831\n",
            "                  43.1         29         33      0.713      0.636      0.789      0.444\n",
            "                  44.0        202        202      0.933       0.99       0.97       0.74\n",
            "                  44.1          4          4      0.468       0.25      0.516      0.272\n",
            "                  45.0        214        215      0.905      0.973      0.954      0.704\n",
            "                  45.1         63         63      0.652      0.619      0.587      0.249\n",
            "                  45.2          7          7      0.363      0.286      0.326      0.182\n",
            "                  46.0        122        335       0.75      0.831      0.827      0.378\n",
            "                  46.1         69        119      0.344      0.143      0.216     0.0569\n",
            "                  46.3          3          8      0.581      0.186      0.232      0.058\n",
            "                  47.0        218        643      0.837      0.935      0.922      0.568\n",
            "                  47.1         65         74       0.72      0.763      0.748       0.35\n",
            "                  48.0        206        239      0.771      0.904      0.875      0.484\n",
            "                  48.2          1          1          1          0     0.0415     0.0173\n",
            "                  49.0        143        145       0.73      0.878      0.828      0.572\n",
            "                  49.3         20         22      0.372      0.682      0.398      0.135\n",
            "                  49.4         52         59      0.516      0.433      0.489      0.293\n",
            "                  50.0        102        103      0.849       0.99      0.934      0.732\n",
            "                  50.1         33         33      0.733      0.909      0.927       0.67\n",
            "                  50.2          9          9          1          0      0.181     0.0494\n",
            "                  51.0        372        372      0.867      0.981      0.929      0.844\n",
            "                  51.2         31         40      0.419      0.379      0.302       0.19\n",
            "                  51.3          9         10      0.308      0.358      0.327      0.119\n",
            "                  52.0        184        190      0.886      0.941      0.889      0.565\n",
            "                  52.3          9          9          0          0     0.0734     0.0389\n",
            "                  52.5         24         25      0.726       0.72      0.762      0.204\n",
            "                  53.0        195        207       0.82      0.903      0.849      0.533\n",
            "                  53.4         18         20      0.522        0.4      0.345      0.122\n",
            "                  53.5         17         17      0.201      0.235      0.167       0.12\n",
            "                  54.0        166        307      0.863      0.922      0.878      0.569\n",
            "                  54.4         55         80      0.481      0.312      0.328     0.0951\n",
            "                  54.5         12         13          0          0     0.0178      0.011\n",
            "                  55.0        197        359      0.868      0.944      0.929      0.554\n",
            "                  55.4         54         72      0.692      0.688       0.65      0.269\n",
            "                  55.5          3          4          0          0     0.0529      0.038\n",
            "                  56.0        271        807      0.938      0.976      0.986      0.843\n",
            "                  56.2          4          5       0.57        0.2      0.448      0.289\n",
            "                  56.4          1          4      0.641       0.75      0.752      0.569\n",
            "                  57.0        283        840      0.943      0.964      0.981       0.76\n",
            "                  57.1          1          1          0          0     0.0765     0.0306\n",
            "                  58.0        270        272      0.965      0.993       0.99      0.801\n",
            "                  58.1          8          8          1      0.609      0.872      0.533\n",
            "                  59.0        274        275      0.966      0.996      0.982      0.848\n",
            "                  59.2          1          1          1          0     0.0107    0.00749\n",
            "                  59.3          1          1          0          0          0          0\n",
            "                  60.0        204        205      0.799      0.971      0.939       0.74\n",
            "                  60.1         29         36      0.424      0.583      0.473      0.208\n",
            "                  60.3         56         65      0.492      0.369      0.378      0.175\n",
            "                  61.0        280        280      0.966          1      0.986      0.826\n",
            "                  61.1          1          1          1          0          0          0\n",
            "                  61.4          4          4          1          0    0.00783    0.00704\n",
            "Speed: 0.2ms preprocess, 8.4ms inference, 0.0ms loss, 2.1ms postprocess per image\n",
            "Results saved to \u001b[1m/content/drive/MyDrive/fiber_optic_box_inspection/runs_yolo/v8m_mni1.0_batch25_imgsz896_2\u001b[0m\n"
          ]
        }
      ]
    },
    {
      "cell_type": "markdown",
      "source": [
        "#### val"
      ],
      "metadata": {
        "id": "d9VErmCZW_N_"
      }
    },
    {
      "cell_type": "code",
      "source": [
        "model = YOLO(yolo_no_augmentations.get_best_weight_path)\n",
        "metrics = model.val(\n",
        "    data=local_paths['yolo_data_cfg'],\n",
        "    batch=25,\n",
        "    imgsz=896,\n",
        "    save_json=True,\n",
        "    device=0,\n",
        "    plots=True,\n",
        "    project=paths['yolo_output_dir'],\n",
        "    name=yolo_no_augmentations.val_run_name,\n",
        "    verbose=True,\n",
        "    save_txt=True,\n",
        "    save_conf=True,\n",
        "    workers=16,\n",
        "    )"
      ],
      "metadata": {
        "colab": {
          "base_uri": "https://localhost:8080/"
        },
        "outputId": "625a8e62-47dc-4051-f046-608f908970e1",
        "collapsed": true,
        "id": "WHYayPPYW_OB"
      },
      "execution_count": 18,
      "outputs": [
        {
          "output_type": "stream",
          "name": "stdout",
          "text": [
            "Ultralytics 8.3.159 🚀 Python-3.11.13 torch-2.6.0+cu124 CUDA:0 (NVIDIA L4, 22693MiB)\n",
            "Model summary (fused): 92 layers, 25,939,927 parameters, 0 gradients, 79.2 GFLOPs\n",
            "\u001b[34m\u001b[1mval: \u001b[0mFast image access ✅ (ping: 0.0±0.0 ms, read: 2835.7±638.1 MB/s, size: 130.4 KB)\n"
          ]
        },
        {
          "output_type": "stream",
          "name": "stderr",
          "text": [
            "\u001b[34m\u001b[1mval: \u001b[0mScanning /content/dataset/data_label_v2_ALL.cache... 1684 images, 100 backgrounds, 0 corrupt: 100%|██████████| 1684/1684 [00:00<?, ?it/s]"
          ]
        },
        {
          "output_type": "stream",
          "name": "stdout",
          "text": [
            "\u001b[34m\u001b[1mval: \u001b[0m/content/dataset/data_label_v2_ALL/2022_11_21_09_08_32-TNNP069058HO.jpg: 1 duplicate labels removed\n",
            "\u001b[34m\u001b[1mval: \u001b[0m/content/dataset/data_label_v2_ALL/2022_11_21_16_32_02-HBHP012062HO.jpg: 1 duplicate labels removed\n"
          ]
        },
        {
          "output_type": "stream",
          "name": "stderr",
          "text": [
            "\n",
            "                 Class     Images  Instances      Box(P          R      mAP50  mAP50-95): 100%|██████████| 68/68 [01:33<00:00,  1.38s/it]\n"
          ]
        },
        {
          "output_type": "stream",
          "name": "stdout",
          "text": [
            "                   all       1684      17375      0.607      0.544      0.513      0.335\n",
            "                   1.0        163        164      0.729      0.852      0.821      0.692\n",
            "                   1.1         67         67      0.489      0.756      0.649      0.503\n",
            "                   1.2         16         16      0.126      0.375      0.177      0.136\n",
            "                   1.7         20         20      0.154        0.3      0.194      0.142\n",
            "                   2.0        270        272       0.89      0.938      0.949      0.828\n",
            "                   2.3          1          1          1          0          0          0\n",
            "                   3.0        251        251      0.891      0.928      0.926       0.58\n",
            "                   3.1          4          5      0.541        0.2      0.326      0.173\n",
            "                   5.0        267        527      0.933      0.977      0.959      0.673\n",
            "                   5.1         10         10      0.299        0.3       0.33      0.201\n",
            "                   6.0        231        231      0.816      0.939      0.889      0.669\n",
            "                   6.1          2          2          1          0          0          0\n",
            "                   7.0        211        211      0.743      0.934      0.922      0.617\n",
            "                   7.1         11         11          0          0     0.0808     0.0465\n",
            "                   7.2          2          2      0.286      0.821      0.332     0.0915\n",
            "                   7.7          2          2          1          0    0.00448    0.00403\n",
            "                   8.0        253        705      0.676      0.827      0.771       0.42\n",
            "                   8.3         17         22      0.207      0.227      0.168      0.115\n",
            "                   9.0        177        296       0.55      0.706       0.64      0.336\n",
            "                   9.4         54         78      0.725      0.745      0.771       0.35\n",
            "                  10.0         86         86      0.407      0.664      0.467      0.351\n",
            "                  11.0        252        652      0.676      0.905      0.796       0.44\n",
            "                  11.1         12         15      0.676      0.279      0.298      0.114\n",
            "                  13.0        165        165      0.629      0.776       0.73      0.523\n",
            "                  13.1         17         17      0.438      0.277      0.253      0.189\n",
            "                  13.2          1          1          1          0          0          0\n",
            "                  14.0        148        149      0.724      0.878      0.836      0.706\n",
            "                  14.1         18         18      0.421      0.722       0.61      0.492\n",
            "                  14.2         92         94      0.599      0.734      0.685       0.51\n",
            "                  19.0         97         98      0.515      0.694      0.643      0.406\n",
            "                  19.1         11         11          0          0     0.0633      0.036\n",
            "                  19.3         59         60      0.359      0.483      0.389      0.213\n",
            "                  20.0         88         88      0.547      0.644      0.596      0.402\n",
            "                  20.1         49         52      0.429      0.404      0.413      0.253\n",
            "                  20.2         79        102      0.475      0.441      0.396      0.184\n",
            "                  20.3          2          2          1          0     0.0345    0.00345\n",
            "                  23.0        258        262      0.633      0.885      0.763       0.52\n",
            "                  23.1        169        191      0.456      0.597      0.556       0.27\n",
            "                  23.2          4          4          1          0    0.00133   0.000664\n",
            "                  24.0         51         80      0.521      0.575        0.5      0.172\n",
            "                  24.1         82        143      0.412      0.417       0.39      0.115\n",
            "                  24.3          1          1          1          0          0          0\n",
            "                  26.0        468        472      0.877      0.981      0.937      0.798\n",
            "                  26.1          3          3      0.115      0.333      0.115     0.0926\n",
            "                  27.0        147        147      0.771      0.959       0.91      0.571\n",
            "                  28.0        249        249      0.872      0.988      0.939      0.805\n",
            "                  29.0        264        268      0.923      0.978      0.965      0.866\n",
            "                  29.1         15         15      0.422      0.148      0.252      0.217\n",
            "                  29.4          3          3      0.732      0.333      0.383      0.345\n",
            "                  30.0        203        391      0.868      0.962      0.935      0.591\n",
            "                  30.1         20         25       0.46       0.08      0.128     0.0822\n",
            "                  32.0         68        136      0.888      0.993      0.966      0.674\n",
            "                  32.1          5         10      0.271        0.7      0.392      0.212\n",
            "                  32.2         49         98      0.653      0.786      0.785      0.487\n",
            "                  35.0        146        155      0.528      0.866      0.764      0.326\n",
            "                  35.1         39         41      0.473      0.634      0.501       0.18\n",
            "                  37.0        236        558      0.728      0.912      0.862      0.535\n",
            "                  37.1          2          4          0          0     0.0998     0.0708\n",
            "                  37.3          3          5          0          0     0.0558     0.0191\n",
            "                  37.4         54        144      0.724      0.924      0.843        0.5\n",
            "                  38.0        216        744      0.752      0.809      0.841      0.507\n",
            "                  38.1          5         17          1          0      0.093     0.0348\n",
            "                  39.0        171        293      0.747      0.908      0.886      0.572\n",
            "                  39.1          7         11      0.618      0.364      0.401      0.171\n",
            "                  40.0        171        171      0.785      0.983      0.893       0.76\n",
            "                  40.1         18         18      0.376      0.444      0.474      0.371\n",
            "                  41.0        104        107      0.945      0.963       0.98      0.833\n",
            "                  41.1          2          2          0          0    0.00639    0.00384\n",
            "                  41.2          1          1          1          0          0          0\n",
            "                  42.0        118        118      0.887      0.994      0.935      0.654\n",
            "                  42.1         15         15      0.472      0.133      0.313      0.165\n",
            "                  43.0        285       1126      0.944      0.984      0.971      0.799\n",
            "                  43.1         29         33      0.838      0.667      0.772      0.376\n",
            "                  44.0        202        202      0.895       0.97      0.947      0.724\n",
            "                  44.1          4          4      0.962       0.75      0.798      0.513\n",
            "                  45.0        214        215      0.887      0.967      0.959      0.693\n",
            "                  45.1         63         63      0.366      0.762      0.621       0.26\n",
            "                  45.2          7          7          1       0.24      0.428      0.179\n",
            "                  46.0        122        335      0.684      0.818      0.757      0.332\n",
            "                  46.1         69        119      0.204       0.21      0.118     0.0331\n",
            "                  46.3          3          8      0.638      0.125      0.161     0.0342\n",
            "                  47.0        218        643      0.809      0.918      0.899      0.524\n",
            "                  47.1         65         74      0.551      0.689       0.66      0.292\n",
            "                  48.0        206        239      0.566      0.841      0.704      0.383\n",
            "                  48.2          1          1          1          0     0.0138    0.00691\n",
            "                  49.0        143        145      0.664       0.83      0.713      0.473\n",
            "                  49.3         20         22      0.275      0.591      0.334      0.132\n",
            "                  49.4         52         59      0.428      0.381      0.342      0.201\n",
            "                  50.0        102        103      0.825      0.981      0.931      0.727\n",
            "                  50.1         33         33      0.531      0.879      0.832       0.58\n",
            "                  50.2          9          9      0.443      0.111     0.0807     0.0316\n",
            "                  51.0        372        372      0.834      0.984      0.925      0.824\n",
            "                  51.2         31         40      0.283        0.4      0.333      0.142\n",
            "                  51.3          9         10      0.131        0.1      0.167     0.0837\n",
            "                  52.0        184        190      0.815      0.927      0.868      0.521\n",
            "                  52.3          9          9     0.0699      0.111      0.145      0.123\n",
            "                  52.5         24         25      0.579       0.76      0.653      0.199\n",
            "                  53.0        195        207      0.768      0.903      0.852      0.532\n",
            "                  53.4         18         20      0.531       0.25      0.284      0.128\n",
            "                  53.5         17         17          0          0      0.109     0.0781\n",
            "                  54.0        166        307      0.835      0.902      0.882      0.557\n",
            "                  54.4         55         80      0.356        0.4      0.278     0.0549\n",
            "                  54.5         12         13      0.135      0.134     0.0327     0.0186\n",
            "                  55.0        197        359      0.817      0.939      0.895      0.507\n",
            "                  55.4         54         72       0.51      0.667      0.571      0.212\n",
            "                  55.5          3          4          0          0     0.0421     0.0336\n",
            "                  56.0        271        807       0.91      0.981      0.952      0.797\n",
            "                  56.2          4          5          1          0       0.02     0.0107\n",
            "                  56.4          1          4       0.16       0.16       0.19       0.15\n",
            "                  57.0        283        840      0.901      0.971       0.96      0.727\n",
            "                  57.1          1          1          0          0          0          0\n",
            "                  58.0        270        272      0.949      0.996      0.982      0.794\n",
            "                  58.1          8          8      0.536      0.875      0.826      0.474\n",
            "                  59.0        274        275      0.959      0.993      0.981       0.83\n",
            "                  59.2          1          1          1          0     0.0111    0.00884\n",
            "                  59.3          1          1          1          0          0          0\n",
            "                  60.0        204        205      0.773      0.978      0.899       0.68\n",
            "                  60.1         29         36       0.48      0.361      0.347      0.138\n",
            "                  60.3         56         65      0.408      0.434      0.372      0.174\n",
            "                  61.0        280        280      0.949          1      0.982      0.812\n",
            "                  61.1          1          1          1          0          0          0\n",
            "                  61.4          4          4          0          0    0.00953    0.00858\n",
            "Speed: 0.6ms preprocess, 14.5ms inference, 0.0ms loss, 0.8ms postprocess per image\n",
            "Saving /content/drive/MyDrive/fiber_optic_box_inspection/runs_yolo/val_default_augmentations_2/predictions.json...\n",
            "Results saved to \u001b[1m/content/drive/MyDrive/fiber_optic_box_inspection/runs_yolo/val_default_augmentations_2\u001b[0m\n"
          ]
        }
      ]
    },
    {
      "cell_type": "markdown",
      "source": [
        "# what"
      ],
      "metadata": {
        "id": "lpPgFnEn0VjV"
      }
    },
    {
      "cell_type": "code",
      "source": [
        "import torch\n",
        "torch.cuda.empty_cache()"
      ],
      "metadata": {
        "id": "ACvtImIHLmI9"
      },
      "execution_count": null,
      "outputs": []
    }
  ],
  "metadata": {
    "colab": {
      "provenance": [],
      "collapsed_sections": [
        "KLRShjFGX7M_",
        "nOLYLV50YB0u",
        "UFOgOFF7YWfQ",
        "ExZDAV-LYa5Q",
        "MqykX7ncdZgT",
        "sm7ZkBG8WSW3",
        "UUsdV2gVvGQ5",
        "mrv3Kb5Ryssw",
        "VSOA9vQqEeRb",
        "QILTQrAmeB8H",
        "-m71MKuxzDHJ"
      ],
      "authorship_tag": "ABX9TyOK47xoUPdWyjs0VdL5sf9V",
      "include_colab_link": true
    },
    "kernelspec": {
      "display_name": "Python 3",
      "name": "python3"
    },
    "language_info": {
      "name": "python"
    }
  },
  "nbformat": 4,
  "nbformat_minor": 0
}