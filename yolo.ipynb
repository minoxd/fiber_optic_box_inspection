{
  "nbformat": 4,
  "nbformat_minor": 0,
  "metadata": {
    "colab": {
      "provenance": [],
      "machine_shape": "hm",
      "gpuType": "A100",
      "authorship_tag": "ABX9TyMpG5aAcVILkDvs9/kTLSEM",
      "include_colab_link": true
    },
    "kernelspec": {
      "name": "python3",
      "display_name": "Python 3"
    },
    "language_info": {
      "name": "python"
    },
    "accelerator": "GPU"
  },
  "cells": [
    {
      "cell_type": "markdown",
      "metadata": {
        "id": "view-in-github",
        "colab_type": "text"
      },
      "source": [
        "<a href=\"https://colab.research.google.com/github/minoxd/fiber_optic_box_inspection/blob/main/yolo.ipynb\" target=\"_parent\"><img src=\"https://colab.research.google.com/assets/colab-badge.svg\" alt=\"Open In Colab\"/></a>"
      ]
    },
    {
      "cell_type": "markdown",
      "source": [
        "# Environmental Setup"
      ],
      "metadata": {
        "id": "mcmwRb5X7APS"
      }
    },
    {
      "cell_type": "markdown",
      "source": [
        "## mount gdrive, import libraries, declare constants, specify paths"
      ],
      "metadata": {
        "id": "vYwdbnAWAAdX"
      }
    },
    {
      "cell_type": "code",
      "execution_count": null,
      "metadata": {
        "colab": {
          "base_uri": "https://localhost:8080/"
        },
        "id": "cESaTvhCEaJ6",
        "outputId": "e3c36954-f24a-4535-8090-0cc6f3add69e"
      },
      "outputs": [
        {
          "output_type": "stream",
          "name": "stdout",
          "text": [
            "Mounted at /content/drive\n"
          ]
        }
      ],
      "source": [
        "from google.colab import drive\n",
        "drive.mount('/content/drive', force_remount=True)"
      ]
    },
    {
      "cell_type": "code",
      "execution_count": null,
      "metadata": {
        "id": "jUL8WlxoDP8V"
      },
      "outputs": [],
      "source": [
        "from pathlib import Path\n",
        "import shutil\n",
        "import tarfile\n",
        "import torch\n",
        "\n",
        "if Path('/content/sample_data').exists():\n",
        "    shutil.rmtree('/content/sample_data')"
      ]
    },
    {
      "cell_type": "code",
      "source": [
        "IMGSZ = 960"
      ],
      "metadata": {
        "id": "G7jc2AHLBxc3"
      },
      "execution_count": null,
      "outputs": []
    },
    {
      "cell_type": "markdown",
      "source": [
        "These files are required in the `Data_INF` folder:\n",
        "- data_label_All.tar.gz\n",
        "- inf_raw_classes_v1.0.json\n",
        "- matching_name_id_v1.0.xlsx"
      ],
      "metadata": {
        "id": "TMen5sA6LtLZ"
      }
    },
    {
      "cell_type": "code",
      "source": [
        "BASE_DIR = '/content/drive/MyDrive/fiber_optic_box_inspection'\n",
        "if not Path(BASE_DIR).exists():\n",
        "    raise FileNotFoundError(f'Base directory {BASE_DIR} not found. Check Google Drive mount.')\n",
        "\n",
        "LOCAL_BASE_DIR = '/content'\n",
        "\n",
        "paths = {\n",
        "    'base_dir':                                   Path(BASE_DIR),\n",
        "#     'Data_INF':                                   Path(BASE_DIR, 'Data_INF'),\n",
        "    'dataset_dir':                                Path(BASE_DIR, 'dataset_v2_ALL'),\n",
        "    'yolo_output_dir':                            Path(BASE_DIR, 'runs_yolo'),\n",
        "}\n",
        "\n",
        "# if not paths['dataset_dir'].exists():\n",
        "#     Path.mkdir(paths['dataset_dir'])\n",
        "\n",
        "# paths['raw_classes'] =                            Path(paths['Data_INF'], 'inf_raw_classes_v1.0.json')\n",
        "# paths['new_raw_classes'] =                        Path(paths['Data_INF'], 'inf_raw_classes_v1.0_new.json')\n",
        "# paths['matching_name_id'] =                       Path(paths['Data_INF'], 'matching_name_id_v1.0.xlsx')\n",
        "# paths['dataset_compressed'] =                     Path(paths['Data_INF'], 'data_label_ALL.tar.gz')\n",
        "\n",
        "paths['processed_dataset_compressed'] =           Path(paths['dataset_dir'], 'processed_dataset.tar.gz')\n",
        "\n",
        "local_paths = {\n",
        "    'base_dir':                                   Path(LOCAL_BASE_DIR),\n",
        "    'dataset_dir':                                Path(LOCAL_BASE_DIR, 'dataset_v2_ALL'),\n",
        "}\n",
        "\n",
        "if not local_paths['dataset_dir'].exists():\n",
        "    Path.mkdir(local_paths['dataset_dir'])\n",
        "\n",
        "# local_paths['image_label_dir'] =                  Path(local_paths['dataset_dir'], 'image_label')\n",
        "# local_paths['label_bbox_backup_dir'] =            Path(local_paths['dataset_dir'], 'label_bbox_backup')\n",
        "# local_paths['label_id_backup_dir'] =              Path(local_paths['dataset_dir'], 'label_id_backup')\n",
        "# local_paths['processed_dataset_compressed'] =     Path(local_paths['dataset_dir'], 'processed_dataset.tar.gz')\n",
        "# local_paths['ids_from_label_files'] =             Path(local_paths['dataset_dir'], 'ids_from_label_files_backup_dir.txt')\n",
        "\n",
        "local_paths['yolo_data_cfg'] =                    Path(local_paths['dataset_dir'], 'yolo_data_cfg.yaml')\n",
        "# local_paths['all_paths'] =                        Path(local_paths['dataset_dir'], 'all.txt')\n",
        "# local_paths['train_paths'] =                      Path(local_paths['dataset_dir'], 'train.txt')\n",
        "# local_paths['val_paths'] =                        Path(local_paths['dataset_dir'], 'val.txt')\n",
        "# local_paths['test_paths'] =                       Path(local_paths['dataset_dir'], 'test.txt')\n",
        "\n",
        "# local_paths['image_label_dir_crop'] =             Path(local_paths['dataset_dir'], 'image_label_1_crop')\n",
        "local_paths['yolo_data_cfg_crop'] =               Path(local_paths['dataset_dir'], 'yolo_data_cfg_1_crop.yaml')\n",
        "# local_paths['train_paths_crop'] =                 Path(local_paths['dataset_dir'], 'train_1_crop.txt')"
      ],
      "metadata": {
        "id": "dTk0xkiZGWt2"
      },
      "execution_count": null,
      "outputs": []
    },
    {
      "cell_type": "markdown",
      "source": [
        "## install ultralytics"
      ],
      "metadata": {
        "id": "9LTZiG6o_7j_"
      }
    },
    {
      "cell_type": "code",
      "execution_count": null,
      "metadata": {
        "colab": {
          "base_uri": "https://localhost:8080/"
        },
        "collapsed": true,
        "id": "6dHbcvTwDZzJ",
        "outputId": "c8de60aa-774f-4f12-b1a6-8b23e24c8381"
      },
      "outputs": [
        {
          "output_type": "stream",
          "name": "stdout",
          "text": [
            "Requirement already satisfied: ultralytics in /usr/local/lib/python3.11/dist-packages (8.3.160)\n",
            "Requirement already satisfied: numpy>=1.23.0 in /usr/local/lib/python3.11/dist-packages (from ultralytics) (2.0.2)\n",
            "Requirement already satisfied: matplotlib>=3.3.0 in /usr/local/lib/python3.11/dist-packages (from ultralytics) (3.10.0)\n",
            "Requirement already satisfied: opencv-python>=4.6.0 in /usr/local/lib/python3.11/dist-packages (from ultralytics) (4.11.0.86)\n",
            "Requirement already satisfied: pillow>=7.1.2 in /usr/local/lib/python3.11/dist-packages (from ultralytics) (11.2.1)\n",
            "Requirement already satisfied: pyyaml>=5.3.1 in /usr/local/lib/python3.11/dist-packages (from ultralytics) (6.0.2)\n",
            "Requirement already satisfied: requests>=2.23.0 in /usr/local/lib/python3.11/dist-packages (from ultralytics) (2.32.3)\n",
            "Requirement already satisfied: scipy>=1.4.1 in /usr/local/lib/python3.11/dist-packages (from ultralytics) (1.15.3)\n",
            "Requirement already satisfied: torch>=1.8.0 in /usr/local/lib/python3.11/dist-packages (from ultralytics) (2.6.0+cu124)\n",
            "Requirement already satisfied: torchvision>=0.9.0 in /usr/local/lib/python3.11/dist-packages (from ultralytics) (0.21.0+cu124)\n",
            "Requirement already satisfied: tqdm>=4.64.0 in /usr/local/lib/python3.11/dist-packages (from ultralytics) (4.67.1)\n",
            "Requirement already satisfied: psutil in /usr/local/lib/python3.11/dist-packages (from ultralytics) (5.9.5)\n",
            "Requirement already satisfied: py-cpuinfo in /usr/local/lib/python3.11/dist-packages (from ultralytics) (9.0.0)\n",
            "Requirement already satisfied: pandas>=1.1.4 in /usr/local/lib/python3.11/dist-packages (from ultralytics) (2.2.2)\n",
            "Requirement already satisfied: ultralytics-thop>=2.0.0 in /usr/local/lib/python3.11/dist-packages (from ultralytics) (2.0.14)\n",
            "Requirement already satisfied: contourpy>=1.0.1 in /usr/local/lib/python3.11/dist-packages (from matplotlib>=3.3.0->ultralytics) (1.3.2)\n",
            "Requirement already satisfied: cycler>=0.10 in /usr/local/lib/python3.11/dist-packages (from matplotlib>=3.3.0->ultralytics) (0.12.1)\n",
            "Requirement already satisfied: fonttools>=4.22.0 in /usr/local/lib/python3.11/dist-packages (from matplotlib>=3.3.0->ultralytics) (4.58.4)\n",
            "Requirement already satisfied: kiwisolver>=1.3.1 in /usr/local/lib/python3.11/dist-packages (from matplotlib>=3.3.0->ultralytics) (1.4.8)\n",
            "Requirement already satisfied: packaging>=20.0 in /usr/local/lib/python3.11/dist-packages (from matplotlib>=3.3.0->ultralytics) (24.2)\n",
            "Requirement already satisfied: pyparsing>=2.3.1 in /usr/local/lib/python3.11/dist-packages (from matplotlib>=3.3.0->ultralytics) (3.2.3)\n",
            "Requirement already satisfied: python-dateutil>=2.7 in /usr/local/lib/python3.11/dist-packages (from matplotlib>=3.3.0->ultralytics) (2.9.0.post0)\n",
            "Requirement already satisfied: pytz>=2020.1 in /usr/local/lib/python3.11/dist-packages (from pandas>=1.1.4->ultralytics) (2025.2)\n",
            "Requirement already satisfied: tzdata>=2022.7 in /usr/local/lib/python3.11/dist-packages (from pandas>=1.1.4->ultralytics) (2025.2)\n",
            "Requirement already satisfied: charset-normalizer<4,>=2 in /usr/local/lib/python3.11/dist-packages (from requests>=2.23.0->ultralytics) (3.4.2)\n",
            "Requirement already satisfied: idna<4,>=2.5 in /usr/local/lib/python3.11/dist-packages (from requests>=2.23.0->ultralytics) (3.10)\n",
            "Requirement already satisfied: urllib3<3,>=1.21.1 in /usr/local/lib/python3.11/dist-packages (from requests>=2.23.0->ultralytics) (2.4.0)\n",
            "Requirement already satisfied: certifi>=2017.4.17 in /usr/local/lib/python3.11/dist-packages (from requests>=2.23.0->ultralytics) (2025.6.15)\n",
            "Requirement already satisfied: filelock in /usr/local/lib/python3.11/dist-packages (from torch>=1.8.0->ultralytics) (3.18.0)\n",
            "Requirement already satisfied: typing-extensions>=4.10.0 in /usr/local/lib/python3.11/dist-packages (from torch>=1.8.0->ultralytics) (4.14.0)\n",
            "Requirement already satisfied: networkx in /usr/local/lib/python3.11/dist-packages (from torch>=1.8.0->ultralytics) (3.5)\n",
            "Requirement already satisfied: jinja2 in /usr/local/lib/python3.11/dist-packages (from torch>=1.8.0->ultralytics) (3.1.6)\n",
            "Requirement already satisfied: fsspec in /usr/local/lib/python3.11/dist-packages (from torch>=1.8.0->ultralytics) (2025.3.2)\n",
            "Requirement already satisfied: nvidia-cuda-nvrtc-cu12==12.4.127 in /usr/local/lib/python3.11/dist-packages (from torch>=1.8.0->ultralytics) (12.4.127)\n",
            "Requirement already satisfied: nvidia-cuda-runtime-cu12==12.4.127 in /usr/local/lib/python3.11/dist-packages (from torch>=1.8.0->ultralytics) (12.4.127)\n",
            "Requirement already satisfied: nvidia-cuda-cupti-cu12==12.4.127 in /usr/local/lib/python3.11/dist-packages (from torch>=1.8.0->ultralytics) (12.4.127)\n",
            "Requirement already satisfied: nvidia-cudnn-cu12==9.1.0.70 in /usr/local/lib/python3.11/dist-packages (from torch>=1.8.0->ultralytics) (9.1.0.70)\n",
            "Requirement already satisfied: nvidia-cublas-cu12==12.4.5.8 in /usr/local/lib/python3.11/dist-packages (from torch>=1.8.0->ultralytics) (12.4.5.8)\n",
            "Requirement already satisfied: nvidia-cufft-cu12==11.2.1.3 in /usr/local/lib/python3.11/dist-packages (from torch>=1.8.0->ultralytics) (11.2.1.3)\n",
            "Requirement already satisfied: nvidia-curand-cu12==10.3.5.147 in /usr/local/lib/python3.11/dist-packages (from torch>=1.8.0->ultralytics) (10.3.5.147)\n",
            "Requirement already satisfied: nvidia-cusolver-cu12==11.6.1.9 in /usr/local/lib/python3.11/dist-packages (from torch>=1.8.0->ultralytics) (11.6.1.9)\n",
            "Requirement already satisfied: nvidia-cusparse-cu12==12.3.1.170 in /usr/local/lib/python3.11/dist-packages (from torch>=1.8.0->ultralytics) (12.3.1.170)\n",
            "Requirement already satisfied: nvidia-cusparselt-cu12==0.6.2 in /usr/local/lib/python3.11/dist-packages (from torch>=1.8.0->ultralytics) (0.6.2)\n",
            "Requirement already satisfied: nvidia-nccl-cu12==2.21.5 in /usr/local/lib/python3.11/dist-packages (from torch>=1.8.0->ultralytics) (2.21.5)\n",
            "Requirement already satisfied: nvidia-nvtx-cu12==12.4.127 in /usr/local/lib/python3.11/dist-packages (from torch>=1.8.0->ultralytics) (12.4.127)\n",
            "Requirement already satisfied: nvidia-nvjitlink-cu12==12.4.127 in /usr/local/lib/python3.11/dist-packages (from torch>=1.8.0->ultralytics) (12.4.127)\n",
            "Requirement already satisfied: triton==3.2.0 in /usr/local/lib/python3.11/dist-packages (from torch>=1.8.0->ultralytics) (3.2.0)\n",
            "Requirement already satisfied: sympy==1.13.1 in /usr/local/lib/python3.11/dist-packages (from torch>=1.8.0->ultralytics) (1.13.1)\n",
            "Requirement already satisfied: mpmath<1.4,>=1.1.0 in /usr/local/lib/python3.11/dist-packages (from sympy==1.13.1->torch>=1.8.0->ultralytics) (1.3.0)\n",
            "Requirement already satisfied: six>=1.5 in /usr/local/lib/python3.11/dist-packages (from python-dateutil>=2.7->matplotlib>=3.3.0->ultralytics) (1.17.0)\n",
            "Requirement already satisfied: MarkupSafe>=2.0 in /usr/local/lib/python3.11/dist-packages (from jinja2->torch>=1.8.0->ultralytics) (3.0.2)\n"
          ]
        }
      ],
      "source": [
        "!pip install ultralytics\n",
        "from ultralytics import YOLO"
      ]
    },
    {
      "cell_type": "markdown",
      "source": [
        "## utils"
      ],
      "metadata": {
        "id": "0ok2XQFz9ody"
      }
    },
    {
      "cell_type": "code",
      "source": [
        "class Run():\n",
        "    def __init__(self, run_name, project):\n",
        "        self.train_run_name = f'train_{run_name}'\n",
        "        self.val_run_name = f'val_{run_name}'\n",
        "        self.run_path = Path(project, self.train_run_name)\n",
        "        self.__best_weight_path = Path(self.run_path, 'weights', 'best.pt')\n",
        "        self.__last_weight_path = Path(self.run_path, 'weights', 'last.pt')\n",
        "\n",
        "    def get_best_weight_path(self):\n",
        "        if self.run_path.is_dir():\n",
        "            return self.__best_weight_path\n",
        "        else:\n",
        "            raise FileNotFoundError(f'The run {self.train_run_name} does not exist.')\n",
        "\n",
        "    def get_last_weight_path(self):\n",
        "        if self.run_path.is_dir():\n",
        "            return self.__last_weight_path\n",
        "        else:\n",
        "            raise FileNotFoundError(f'The run {self.train_run_name} does not exist.')"
      ],
      "metadata": {
        "id": "W-iXnHmwAeql"
      },
      "execution_count": null,
      "outputs": []
    },
    {
      "cell_type": "markdown",
      "source": [
        "## define runs"
      ],
      "metadata": {
        "id": "eAoVhSKBPZsA"
      }
    },
    {
      "cell_type": "code",
      "source": [
        "yolo_default_augmentations = Run('default_augmentations_', paths['yolo_output_dir'])\n",
        "yolo_no_augmentations = Run('no_augmentations_', paths['yolo_output_dir'])\n",
        "yolo_1_crop = Run('1_crop_', paths['yolo_output_dir'])"
      ],
      "metadata": {
        "id": "oGVxyS9sPcVB"
      },
      "execution_count": null,
      "outputs": []
    },
    {
      "cell_type": "markdown",
      "source": [
        "# Get dataset"
      ],
      "metadata": {
        "id": "zExyX0dlWtXI"
      }
    },
    {
      "cell_type": "code",
      "source": [
        "shutil.copytree(paths['dataset_dir'], local_paths['dataset_dir'], dirs_exist_ok=True)"
      ],
      "metadata": {
        "id": "bCsUKNGDWvQc",
        "colab": {
          "base_uri": "https://localhost:8080/"
        },
        "outputId": "dd18feb8-6368-45ac-8568-06a97c4c0906"
      },
      "execution_count": null,
      "outputs": [
        {
          "output_type": "execute_result",
          "data": {
            "text/plain": [
              "PosixPath('/content/dataset_v2_ALL')"
            ]
          },
          "metadata": {},
          "execution_count": 8
        }
      ]
    },
    {
      "cell_type": "code",
      "source": [
        "with tarfile.open(paths['processed_dataset_compressed'], 'r:gz') as tar_file:\n",
        "    tar_file.extractall(local_paths['dataset_dir'])\n",
        "    print(f\"Extracted {paths['processed_dataset_compressed']} to {local_paths['dataset_dir']}\")"
      ],
      "metadata": {
        "id": "SxeSPEq0Xgly",
        "colab": {
          "base_uri": "https://localhost:8080/"
        },
        "outputId": "490407ab-7682-4206-b119-bc9d33b65968"
      },
      "execution_count": null,
      "outputs": [
        {
          "output_type": "stream",
          "name": "stdout",
          "text": [
            "Extracted /content/drive/MyDrive/fiber_optic_box_inspection/dataset_v2_ALL/processed_dataset.tar.gz to /content/dataset_v2_ALL\n"
          ]
        }
      ]
    },
    {
      "cell_type": "markdown",
      "source": [
        "# GPU check"
      ],
      "metadata": {
        "id": "-m71MKuxzDHJ"
      }
    },
    {
      "cell_type": "code",
      "source": [
        "!nvidia-smi"
      ],
      "metadata": {
        "id": "igA3CYns5JxG",
        "colab": {
          "base_uri": "https://localhost:8080/"
        },
        "outputId": "58b43938-1acd-4462-ab03-68c192908eba"
      },
      "execution_count": null,
      "outputs": [
        {
          "output_type": "stream",
          "name": "stdout",
          "text": [
            "Sun Jun 29 15:23:01 2025       \n",
            "+-----------------------------------------------------------------------------------------+\n",
            "| NVIDIA-SMI 550.54.15              Driver Version: 550.54.15      CUDA Version: 12.4     |\n",
            "|-----------------------------------------+------------------------+----------------------+\n",
            "| GPU  Name                 Persistence-M | Bus-Id          Disp.A | Volatile Uncorr. ECC |\n",
            "| Fan  Temp   Perf          Pwr:Usage/Cap |           Memory-Usage | GPU-Util  Compute M. |\n",
            "|                                         |                        |               MIG M. |\n",
            "|=========================================+========================+======================|\n",
            "|   0  NVIDIA A100-SXM4-40GB          Off |   00000000:00:04.0 Off |                    0 |\n",
            "| N/A   31C    P0             43W /  400W |       0MiB /  40960MiB |      0%      Default |\n",
            "|                                         |                        |             Disabled |\n",
            "+-----------------------------------------+------------------------+----------------------+\n",
            "                                                                                         \n",
            "+-----------------------------------------------------------------------------------------+\n",
            "| Processes:                                                                              |\n",
            "|  GPU   GI   CI        PID   Type   Process name                              GPU Memory |\n",
            "|        ID   ID                                                               Usage      |\n",
            "|=========================================================================================|\n",
            "|  No running processes found                                                             |\n",
            "+-----------------------------------------------------------------------------------------+\n"
          ]
        }
      ]
    },
    {
      "cell_type": "code",
      "source": [
        "if torch.cuda.is_available():\n",
        "    device = torch.device('cuda')\n",
        "    print(f'GPU is available! Using device: {device}')\n",
        "    print(f'GPU Name: {torch.cuda.get_device_name(0)}')\n",
        "    print(f'Number of GPUs: {torch.cuda.device_count()}')\n",
        "    print(f'Total Memory: {torch.cuda.get_device_properties(0).total_memory / 1e9:.2f} GB')\n",
        "else:\n",
        "    device = torch.device('cpu')\n",
        "    print('No GPU available, using CPU.')\n"
      ],
      "metadata": {
        "id": "2xvCTl2j5XIE",
        "colab": {
          "base_uri": "https://localhost:8080/"
        },
        "outputId": "dbb79a35-bf54-475a-eb79-d19950b5f812"
      },
      "execution_count": null,
      "outputs": [
        {
          "output_type": "stream",
          "name": "stdout",
          "text": [
            "GPU is available! Using device: cuda\n",
            "GPU Name: NVIDIA A100-SXM4-40GB\n",
            "Number of GPUs: 1\n",
            "Total Memory: 42.47 GB\n"
          ]
        }
      ]
    },
    {
      "cell_type": "markdown",
      "source": [
        "# runs"
      ],
      "metadata": {
        "id": "95Ae3oNlGoFl"
      }
    },
    {
      "cell_type": "markdown",
      "source": [
        "## default augmentations"
      ],
      "metadata": {
        "id": "SHF0-EOWzIq1"
      }
    },
    {
      "cell_type": "markdown",
      "source": [
        "### train"
      ],
      "metadata": {
        "id": "InXvz-ItDBeb"
      }
    },
    {
      "cell_type": "code",
      "source": [
        "model = YOLO('yolov8m.pt')\n",
        "results = model.train(\n",
        "    data=local_paths['yolo_data_cfg'], # todo\n",
        "    epochs=300,\n",
        "    patience=5,\n",
        "    batch=32,\n",
        "    imgsz=IMGSZ,\n",
        "    save_period=10,\n",
        "    cache='disk',\n",
        "    device=0,\n",
        "    workers=16,\n",
        "    project=paths['yolo_output_dir'],\n",
        "    name=yolo_default_augmentations.train_run_name, # todo\n",
        "    save_conf=True,\n",
        "    # augmentation\n",
        "    hsv_h=0.015,         # default 0.015\n",
        "    hsv_s=0.7,           # default 0.7\n",
        "    hsv_v=0.4,           # default 0.4\n",
        "    degrees=0.0,         # default 0.0\n",
        "    translate=0.1,       # default 0.1\n",
        "    scale=0.5,           # default 0.5\n",
        "    shear=0.0,           # default 0.0\n",
        "    perspective=0.0,     # default 0.0\n",
        "    flipud=0.0,          # default 0.0\n",
        "    fliplr=0.5,          # default 0.5\n",
        "    bgr=0.0,             # default 0.0\n",
        "    mosaic=1.0,          # default 1.0\n",
        "    mixup=0.0,           # default 0.0\n",
        "    cutmix=0.0,          # default 0.0\n",
        ")"
      ],
      "metadata": {
        "colab": {
          "base_uri": "https://localhost:8080/"
        },
        "id": "5RC-7b7cLnyz",
        "outputId": "d63cb64d-c770-4d4d-c64e-d62d0f040ade"
      },
      "execution_count": null,
      "outputs": [
        {
          "output_type": "stream",
          "name": "stdout",
          "text": [
            "Ultralytics 8.3.160 🚀 Python-3.11.13 torch-2.6.0+cu124 CUDA:0 (NVIDIA A100-SXM4-40GB, 40507MiB)\n",
            "\u001b[34m\u001b[1mengine/trainer: \u001b[0magnostic_nms=False, amp=True, augment=False, auto_augment=randaugment, batch=32, bgr=0.0, box=7.5, cache=disk, cfg=None, classes=None, close_mosaic=10, cls=0.5, conf=None, copy_paste=0.0, copy_paste_mode=flip, cos_lr=False, cutmix=0.0, data=/content/dataset_v2_ALL/yolo_data_cfg.yaml, degrees=0.0, deterministic=True, device=0, dfl=1.5, dnn=False, dropout=0.0, dynamic=False, embed=None, epochs=300, erasing=0.4, exist_ok=False, fliplr=0.5, flipud=0.0, format=torchscript, fraction=1.0, freeze=None, half=False, hsv_h=0.015, hsv_s=0.7, hsv_v=0.4, imgsz=960, int8=False, iou=0.7, keras=False, kobj=1.0, line_width=None, lr0=0.01, lrf=0.01, mask_ratio=4, max_det=300, mixup=0.0, mode=train, model=yolov8m.pt, momentum=0.937, mosaic=1.0, multi_scale=False, name=train_default_augmentations_, nbs=64, nms=False, opset=None, optimize=False, optimizer=auto, overlap_mask=True, patience=5, perspective=0.0, plots=True, pose=12.0, pretrained=True, profile=False, project=/content/drive/MyDrive/fiber_optic_box_inspection/runs_yolo, rect=False, resume=False, retina_masks=False, save=True, save_conf=True, save_crop=False, save_dir=/content/drive/MyDrive/fiber_optic_box_inspection/runs_yolo/train_default_augmentations_, save_frames=False, save_json=False, save_period=10, save_txt=False, scale=0.5, seed=0, shear=0.0, show=False, show_boxes=True, show_conf=True, show_labels=True, simplify=True, single_cls=False, source=None, split=val, stream_buffer=False, task=detect, time=None, tracker=botsort.yaml, translate=0.1, val=True, verbose=True, vid_stride=1, visualize=False, warmup_bias_lr=0.1, warmup_epochs=3.0, warmup_momentum=0.8, weight_decay=0.0005, workers=16, workspace=None\n",
            "Overriding model.yaml nc=80 with nc=173\n",
            "\n",
            "                   from  n    params  module                                       arguments                     \n",
            "  0                  -1  1      1392  ultralytics.nn.modules.conv.Conv             [3, 48, 3, 2]                 \n",
            "  1                  -1  1     41664  ultralytics.nn.modules.conv.Conv             [48, 96, 3, 2]                \n",
            "  2                  -1  2    111360  ultralytics.nn.modules.block.C2f             [96, 96, 2, True]             \n",
            "  3                  -1  1    166272  ultralytics.nn.modules.conv.Conv             [96, 192, 3, 2]               \n",
            "  4                  -1  4    813312  ultralytics.nn.modules.block.C2f             [192, 192, 4, True]           \n",
            "  5                  -1  1    664320  ultralytics.nn.modules.conv.Conv             [192, 384, 3, 2]              \n",
            "  6                  -1  4   3248640  ultralytics.nn.modules.block.C2f             [384, 384, 4, True]           \n",
            "  7                  -1  1   1991808  ultralytics.nn.modules.conv.Conv             [384, 576, 3, 2]              \n",
            "  8                  -1  2   3985920  ultralytics.nn.modules.block.C2f             [576, 576, 2, True]           \n",
            "  9                  -1  1    831168  ultralytics.nn.modules.block.SPPF            [576, 576, 5]                 \n",
            " 10                  -1  1         0  torch.nn.modules.upsampling.Upsample         [None, 2, 'nearest']          \n",
            " 11             [-1, 6]  1         0  ultralytics.nn.modules.conv.Concat           [1]                           \n",
            " 12                  -1  2   1993728  ultralytics.nn.modules.block.C2f             [960, 384, 2]                 \n",
            " 13                  -1  1         0  torch.nn.modules.upsampling.Upsample         [None, 2, 'nearest']          \n",
            " 14             [-1, 4]  1         0  ultralytics.nn.modules.conv.Concat           [1]                           \n",
            " 15                  -1  2    517632  ultralytics.nn.modules.block.C2f             [576, 192, 2]                 \n",
            " 16                  -1  1    332160  ultralytics.nn.modules.conv.Conv             [192, 192, 3, 2]              \n",
            " 17            [-1, 12]  1         0  ultralytics.nn.modules.conv.Concat           [1]                           \n",
            " 18                  -1  2   1846272  ultralytics.nn.modules.block.C2f             [576, 384, 2]                 \n",
            " 19                  -1  1   1327872  ultralytics.nn.modules.conv.Conv             [384, 384, 3, 2]              \n",
            " 20             [-1, 9]  1         0  ultralytics.nn.modules.conv.Concat           [1]                           \n",
            " 21                  -1  2   4207104  ultralytics.nn.modules.block.C2f             [960, 576, 2]                 \n",
            " 22        [15, 18, 21]  1   3875863  ultralytics.nn.modules.head.Detect           [173, [192, 384, 576]]        \n",
            "Model summary: 169 layers, 25,956,487 parameters, 25,956,471 gradients, 79.6 GFLOPs\n",
            "\n",
            "Transferred 469/475 items from pretrained weights\n",
            "Freezing layer 'model.22.dfl.conv.weight'\n",
            "\u001b[34m\u001b[1mAMP: \u001b[0mrunning Automatic Mixed Precision (AMP) checks...\n",
            "\u001b[34m\u001b[1mAMP: \u001b[0mchecks passed ✅\n",
            "\u001b[34m\u001b[1mtrain: \u001b[0mFast image access ✅ (ping: 0.0±0.0 ms, read: 2198.9±623.5 MB/s, size: 100.8 KB)\n"
          ]
        },
        {
          "output_type": "stream",
          "name": "stderr",
          "text": [
            "\u001b[34m\u001b[1mtrain: \u001b[0mScanning /content/dataset_v2_ALL/image_label... 7858 images, 466 backgrounds, 0 corrupt: 100%|██████████| 7858/7858 [00:05<00:00, 1494.88it/s]"
          ]
        },
        {
          "output_type": "stream",
          "name": "stdout",
          "text": [
            "\u001b[34m\u001b[1mtrain: \u001b[0m/content/dataset_v2_ALL/image_label/2022_11_03_15_29_32-HNIP456107HO.jpg: 1 duplicate labels removed\n",
            "\u001b[34m\u001b[1mtrain: \u001b[0m/content/dataset_v2_ALL/image_label/2022_11_10_14_59_59-HNIP120595HO.jpg: 1 duplicate labels removed\n",
            "\u001b[34m\u001b[1mtrain: \u001b[0m/content/dataset_v2_ALL/image_label/2022_11_11_09_10_09-PYNP016064HO.jpg: 1 duplicate labels removed\n",
            "\u001b[34m\u001b[1mtrain: \u001b[0m/content/dataset_v2_ALL/image_label/2022_11_11_09_59_56-BGGP089061HO.jpg: 1 duplicate labels removed\n",
            "\u001b[34m\u001b[1mtrain: \u001b[0m/content/dataset_v2_ALL/image_label/2022_11_14_16_04_38-HNIP548102HO.jpg: 1 duplicate labels removed\n",
            "\u001b[34m\u001b[1mtrain: \u001b[0m/content/dataset_v2_ALL/image_label/2022_11_16_08_43_48-HDGP141064HO.jpg: 1 duplicate labels removed\n",
            "\u001b[34m\u001b[1mtrain: \u001b[0m/content/dataset_v2_ALL/image_label/2022_11_16_10_35_33-GLIP038152HO.jpg: 1 duplicate labels removed\n",
            "\u001b[34m\u001b[1mtrain: \u001b[0m/content/dataset_v2_ALL/image_label/2022_11_16_15_40_51-HBHP012080HO.jpg: 1 duplicate labels removed\n",
            "\u001b[34m\u001b[1mtrain: \u001b[0m/content/dataset_v2_ALL/image_label/2022_11_17_15_10_14-TNNP063261HO.jpg: 1 duplicate labels removed\n",
            "\u001b[34m\u001b[1mtrain: \u001b[0m/content/dataset_v2_ALL/image_label/2022_12_06_15_18_24-TBHP019033HO.jpg: 1 duplicate labels removed\n",
            "\u001b[34m\u001b[1mtrain: \u001b[0m/content/dataset_v2_ALL/image_label/2022_12_08_10_14_33-HYNP074125HO.jpg: 1 duplicate labels removed\n"
          ]
        },
        {
          "output_type": "stream",
          "name": "stderr",
          "text": [
            "\n"
          ]
        },
        {
          "output_type": "stream",
          "name": "stdout",
          "text": [
            "\u001b[34m\u001b[1mtrain: \u001b[0mNew cache created: /content/dataset_v2_ALL/image_label.cache\n"
          ]
        },
        {
          "output_type": "stream",
          "name": "stderr",
          "text": [
            "\u001b[34m\u001b[1mtrain: \u001b[0mCaching images (18.0GB Disk): 100%|██████████| 7858/7858 [00:51<00:00, 153.68it/s]\n"
          ]
        },
        {
          "output_type": "stream",
          "name": "stdout",
          "text": [
            "\u001b[34m\u001b[1malbumentations: \u001b[0mBlur(p=0.01, blur_limit=(3, 7)), MedianBlur(p=0.01, blur_limit=(3, 7)), ToGray(p=0.01, method='weighted_average', num_output_channels=3), CLAHE(p=0.01, clip_limit=(1.0, 4.0), tile_grid_size=(8, 8))\n",
            "\u001b[34m\u001b[1mval: \u001b[0mFast image access ✅ (ping: 0.0±0.0 ms, read: 1140.3±643.6 MB/s, size: 139.4 KB)\n"
          ]
        },
        {
          "output_type": "stream",
          "name": "stderr",
          "text": [
            "\u001b[34m\u001b[1mval: \u001b[0mScanning /content/dataset_v2_ALL/image_label... 1684 images, 101 backgrounds, 0 corrupt: 100%|██████████| 1684/1684 [00:01<00:00, 1338.27it/s]"
          ]
        },
        {
          "output_type": "stream",
          "name": "stdout",
          "text": [
            "\u001b[34m\u001b[1mval: \u001b[0m/content/dataset_v2_ALL/image_label/2022_11_21_09_08_32-TNNP069058HO.jpg: 1 duplicate labels removed\n",
            "\u001b[34m\u001b[1mval: \u001b[0m/content/dataset_v2_ALL/image_label/2022_11_21_16_32_02-HBHP012062HO.jpg: 1 duplicate labels removed\n",
            "\u001b[34m\u001b[1mval: \u001b[0m/content/dataset_v2_ALL/image_label/2022_12_07_16_39_07-QNHP088205HO.jpg: 1 duplicate labels removed\n",
            "\u001b[34m\u001b[1mval: \u001b[0m/content/dataset_v2_ALL/image_label/2022_12_09_10_16_40-TBHP044214HO.jpg: 1 duplicate labels removed\n"
          ]
        },
        {
          "output_type": "stream",
          "name": "stderr",
          "text": [
            "\n"
          ]
        },
        {
          "output_type": "stream",
          "name": "stdout",
          "text": [
            "\u001b[34m\u001b[1mval: \u001b[0mNew cache created: /content/dataset_v2_ALL/image_label.cache\n"
          ]
        },
        {
          "output_type": "stream",
          "name": "stderr",
          "text": [
            "\u001b[34m\u001b[1mval: \u001b[0mCaching images (3.8GB Disk): 100%|██████████| 1684/1684 [00:08<00:00, 200.93it/s]\n"
          ]
        },
        {
          "output_type": "stream",
          "name": "stdout",
          "text": [
            "Plotting labels to /content/drive/MyDrive/fiber_optic_box_inspection/runs_yolo/train_default_augmentations_/labels.jpg... \n",
            "\u001b[34m\u001b[1moptimizer:\u001b[0m 'optimizer=auto' found, ignoring 'lr0=0.01' and 'momentum=0.937' and determining best 'optimizer', 'lr0' and 'momentum' automatically... \n",
            "\u001b[34m\u001b[1moptimizer:\u001b[0m SGD(lr=0.01, momentum=0.9) with parameter groups 77 weight(decay=0.0), 84 weight(decay=0.0005), 83 bias(decay=0.0)\n",
            "Image sizes 960 train, 960 val\n",
            "Using 12 dataloader workers\n",
            "Logging results to \u001b[1m/content/drive/MyDrive/fiber_optic_box_inspection/runs_yolo/train_default_augmentations_\u001b[0m\n",
            "Starting training for 300 epochs...\n",
            "\n",
            "      Epoch    GPU_mem   box_loss   cls_loss   dfl_loss  Instances       Size\n"
          ]
        },
        {
          "output_type": "stream",
          "name": "stderr",
          "text": [
            "      1/300      29.9G      1.554      2.744      1.644        447        960: 100%|██████████| 246/246 [01:54<00:00,  2.14it/s]\n",
            "                 Class     Images  Instances      Box(P          R      mAP50  mAP50-95): 100%|██████████| 27/27 [00:12<00:00,  2.11it/s]\n"
          ]
        },
        {
          "output_type": "stream",
          "name": "stdout",
          "text": [
            "                   all       1684      17728      0.703      0.382      0.356      0.228\n",
            "\n",
            "      Epoch    GPU_mem   box_loss   cls_loss   dfl_loss  Instances       Size\n"
          ]
        },
        {
          "output_type": "stream",
          "name": "stderr",
          "text": [
            "      2/300      27.3G      1.179      1.182      1.339        401        960: 100%|██████████| 246/246 [01:52<00:00,  2.19it/s]\n",
            "                 Class     Images  Instances      Box(P          R      mAP50  mAP50-95): 100%|██████████| 27/27 [00:10<00:00,  2.47it/s]\n"
          ]
        },
        {
          "output_type": "stream",
          "name": "stdout",
          "text": [
            "                   all       1684      17728       0.66      0.436      0.414      0.268\n",
            "\n",
            "      Epoch    GPU_mem   box_loss   cls_loss   dfl_loss  Instances       Size\n"
          ]
        },
        {
          "output_type": "stream",
          "name": "stderr",
          "text": [
            "      3/300      27.4G      1.174      1.064      1.336        230        960: 100%|██████████| 246/246 [01:50<00:00,  2.22it/s]\n",
            "                 Class     Images  Instances      Box(P          R      mAP50  mAP50-95): 100%|██████████| 27/27 [00:11<00:00,  2.36it/s]\n"
          ]
        },
        {
          "output_type": "stream",
          "name": "stdout",
          "text": [
            "                   all       1684      17728      0.655      0.414        0.4      0.252\n",
            "\n",
            "      Epoch    GPU_mem   box_loss   cls_loss   dfl_loss  Instances       Size\n"
          ]
        },
        {
          "output_type": "stream",
          "name": "stderr",
          "text": [
            "      4/300      27.9G      1.185      1.026      1.349        296        960: 100%|██████████| 246/246 [01:51<00:00,  2.21it/s]\n",
            "                 Class     Images  Instances      Box(P          R      mAP50  mAP50-95): 100%|██████████| 27/27 [00:10<00:00,  2.47it/s]\n"
          ]
        },
        {
          "output_type": "stream",
          "name": "stdout",
          "text": [
            "                   all       1684      17728      0.647      0.446      0.415      0.256\n",
            "\n",
            "      Epoch    GPU_mem   box_loss   cls_loss   dfl_loss  Instances       Size\n"
          ]
        },
        {
          "output_type": "stream",
          "name": "stderr",
          "text": [
            "      5/300      27.7G      1.162     0.9693      1.338        321        960: 100%|██████████| 246/246 [01:51<00:00,  2.22it/s]\n",
            "                 Class     Images  Instances      Box(P          R      mAP50  mAP50-95): 100%|██████████| 27/27 [00:10<00:00,  2.47it/s]\n"
          ]
        },
        {
          "output_type": "stream",
          "name": "stdout",
          "text": [
            "                   all       1684      17728      0.723      0.456      0.454      0.295\n",
            "\n",
            "      Epoch    GPU_mem   box_loss   cls_loss   dfl_loss  Instances       Size\n"
          ]
        },
        {
          "output_type": "stream",
          "name": "stderr",
          "text": [
            "      6/300      27.6G       1.14     0.9251      1.327        437        960: 100%|██████████| 246/246 [01:50<00:00,  2.22it/s]\n",
            "                 Class     Images  Instances      Box(P          R      mAP50  mAP50-95): 100%|██████████| 27/27 [00:11<00:00,  2.41it/s]\n"
          ]
        },
        {
          "output_type": "stream",
          "name": "stdout",
          "text": [
            "                   all       1684      17728      0.706      0.451      0.457      0.298\n",
            "\n",
            "      Epoch    GPU_mem   box_loss   cls_loss   dfl_loss  Instances       Size\n"
          ]
        },
        {
          "output_type": "stream",
          "name": "stderr",
          "text": [
            "      7/300      27.6G      1.123     0.8928      1.311        358        960: 100%|██████████| 246/246 [01:51<00:00,  2.20it/s]\n",
            "                 Class     Images  Instances      Box(P          R      mAP50  mAP50-95): 100%|██████████| 27/27 [00:10<00:00,  2.50it/s]\n"
          ]
        },
        {
          "output_type": "stream",
          "name": "stdout",
          "text": [
            "                   all       1684      17728      0.667      0.475      0.465      0.298\n",
            "\n",
            "      Epoch    GPU_mem   box_loss   cls_loss   dfl_loss  Instances       Size\n"
          ]
        },
        {
          "output_type": "stream",
          "name": "stderr",
          "text": [
            "      8/300      28.1G      1.105     0.8605      1.303        390        960: 100%|██████████| 246/246 [01:51<00:00,  2.21it/s]\n",
            "                 Class     Images  Instances      Box(P          R      mAP50  mAP50-95): 100%|██████████| 27/27 [00:10<00:00,  2.50it/s]\n"
          ]
        },
        {
          "output_type": "stream",
          "name": "stdout",
          "text": [
            "                   all       1684      17728      0.726      0.467      0.485      0.316\n",
            "\n",
            "      Epoch    GPU_mem   box_loss   cls_loss   dfl_loss  Instances       Size\n"
          ]
        },
        {
          "output_type": "stream",
          "name": "stderr",
          "text": [
            "      9/300        28G      1.098     0.8469      1.294        423        960: 100%|██████████| 246/246 [01:51<00:00,  2.20it/s]\n",
            "                 Class     Images  Instances      Box(P          R      mAP50  mAP50-95): 100%|██████████| 27/27 [00:11<00:00,  2.40it/s]\n"
          ]
        },
        {
          "output_type": "stream",
          "name": "stdout",
          "text": [
            "                   all       1684      17728      0.691       0.49      0.493      0.319\n",
            "\n",
            "      Epoch    GPU_mem   box_loss   cls_loss   dfl_loss  Instances       Size\n"
          ]
        },
        {
          "output_type": "stream",
          "name": "stderr",
          "text": [
            "     10/300      28.2G      1.086     0.8285      1.293        324        960: 100%|██████████| 246/246 [01:50<00:00,  2.22it/s]\n",
            "                 Class     Images  Instances      Box(P          R      mAP50  mAP50-95): 100%|██████████| 27/27 [00:10<00:00,  2.50it/s]\n"
          ]
        },
        {
          "output_type": "stream",
          "name": "stdout",
          "text": [
            "                   all       1684      17728      0.652      0.525      0.508      0.337\n",
            "\n",
            "      Epoch    GPU_mem   box_loss   cls_loss   dfl_loss  Instances       Size\n"
          ]
        },
        {
          "output_type": "stream",
          "name": "stderr",
          "text": [
            "     11/300      28.1G      1.073     0.8121      1.283        419        960: 100%|██████████| 246/246 [01:50<00:00,  2.22it/s]\n",
            "                 Class     Images  Instances      Box(P          R      mAP50  mAP50-95): 100%|██████████| 27/27 [00:10<00:00,  2.47it/s]\n"
          ]
        },
        {
          "output_type": "stream",
          "name": "stdout",
          "text": [
            "                   all       1684      17728      0.698      0.511      0.505      0.332\n",
            "\n",
            "      Epoch    GPU_mem   box_loss   cls_loss   dfl_loss  Instances       Size\n"
          ]
        },
        {
          "output_type": "stream",
          "name": "stderr",
          "text": [
            "     12/300      28.1G      1.064      0.801      1.279        455        960: 100%|██████████| 246/246 [01:50<00:00,  2.22it/s]\n",
            "                 Class     Images  Instances      Box(P          R      mAP50  mAP50-95): 100%|██████████| 27/27 [00:11<00:00,  2.44it/s]\n"
          ]
        },
        {
          "output_type": "stream",
          "name": "stdout",
          "text": [
            "                   all       1684      17728      0.664      0.517       0.51      0.339\n",
            "\n",
            "      Epoch    GPU_mem   box_loss   cls_loss   dfl_loss  Instances       Size\n"
          ]
        },
        {
          "output_type": "stream",
          "name": "stderr",
          "text": [
            "     13/300      28.1G      1.062     0.7906      1.281        335        960: 100%|██████████| 246/246 [01:50<00:00,  2.22it/s]\n",
            "                 Class     Images  Instances      Box(P          R      mAP50  mAP50-95): 100%|██████████| 27/27 [00:10<00:00,  2.47it/s]\n"
          ]
        },
        {
          "output_type": "stream",
          "name": "stdout",
          "text": [
            "                   all       1684      17728       0.64      0.531      0.509      0.339\n",
            "\n",
            "      Epoch    GPU_mem   box_loss   cls_loss   dfl_loss  Instances       Size\n"
          ]
        },
        {
          "output_type": "stream",
          "name": "stderr",
          "text": [
            "     14/300      28.1G      1.049     0.7743      1.272        427        960: 100%|██████████| 246/246 [01:53<00:00,  2.17it/s]\n",
            "                 Class     Images  Instances      Box(P          R      mAP50  mAP50-95): 100%|██████████| 27/27 [00:10<00:00,  2.50it/s]\n"
          ]
        },
        {
          "output_type": "stream",
          "name": "stdout",
          "text": [
            "                   all       1684      17728       0.65      0.515      0.506      0.333\n",
            "\n",
            "      Epoch    GPU_mem   box_loss   cls_loss   dfl_loss  Instances       Size\n"
          ]
        },
        {
          "output_type": "stream",
          "name": "stderr",
          "text": [
            "     15/300      28.2G      1.044     0.7682      1.266        389        960: 100%|██████████| 246/246 [01:51<00:00,  2.20it/s]\n",
            "                 Class     Images  Instances      Box(P          R      mAP50  mAP50-95): 100%|██████████| 27/27 [00:10<00:00,  2.51it/s]\n"
          ]
        },
        {
          "output_type": "stream",
          "name": "stdout",
          "text": [
            "                   all       1684      17728      0.693      0.532      0.527      0.349\n",
            "\n",
            "      Epoch    GPU_mem   box_loss   cls_loss   dfl_loss  Instances       Size\n"
          ]
        },
        {
          "output_type": "stream",
          "name": "stderr",
          "text": [
            "     16/300      28.3G      1.045     0.7576      1.268        406        960: 100%|██████████| 246/246 [01:51<00:00,  2.20it/s]\n",
            "                 Class     Images  Instances      Box(P          R      mAP50  mAP50-95): 100%|██████████| 27/27 [00:10<00:00,  2.53it/s]\n"
          ]
        },
        {
          "output_type": "stream",
          "name": "stdout",
          "text": [
            "                   all       1684      17728      0.704      0.535      0.535      0.355\n",
            "\n",
            "      Epoch    GPU_mem   box_loss   cls_loss   dfl_loss  Instances       Size\n"
          ]
        },
        {
          "output_type": "stream",
          "name": "stderr",
          "text": [
            "     17/300      27.9G      1.029     0.7483      1.261        342        960: 100%|██████████| 246/246 [01:51<00:00,  2.20it/s]\n",
            "                 Class     Images  Instances      Box(P          R      mAP50  mAP50-95): 100%|██████████| 27/27 [00:11<00:00,  2.36it/s]\n"
          ]
        },
        {
          "output_type": "stream",
          "name": "stdout",
          "text": [
            "                   all       1684      17728      0.693      0.543      0.535      0.358\n",
            "\n",
            "      Epoch    GPU_mem   box_loss   cls_loss   dfl_loss  Instances       Size\n"
          ]
        },
        {
          "output_type": "stream",
          "name": "stderr",
          "text": [
            "     18/300      27.7G      1.028     0.7385      1.259        329        960: 100%|██████████| 246/246 [01:51<00:00,  2.21it/s]\n",
            "                 Class     Images  Instances      Box(P          R      mAP50  mAP50-95): 100%|██████████| 27/27 [00:10<00:00,  2.52it/s]\n"
          ]
        },
        {
          "output_type": "stream",
          "name": "stdout",
          "text": [
            "                   all       1684      17728       0.69      0.525      0.524      0.349\n",
            "\n",
            "      Epoch    GPU_mem   box_loss   cls_loss   dfl_loss  Instances       Size\n"
          ]
        },
        {
          "output_type": "stream",
          "name": "stderr",
          "text": [
            "     19/300        28G      1.021     0.7383      1.256        340        960: 100%|██████████| 246/246 [01:51<00:00,  2.21it/s]\n",
            "                 Class     Images  Instances      Box(P          R      mAP50  mAP50-95): 100%|██████████| 27/27 [00:10<00:00,  2.52it/s]\n"
          ]
        },
        {
          "output_type": "stream",
          "name": "stdout",
          "text": [
            "                   all       1684      17728       0.69      0.548       0.54      0.361\n",
            "\n",
            "      Epoch    GPU_mem   box_loss   cls_loss   dfl_loss  Instances       Size\n"
          ]
        },
        {
          "output_type": "stream",
          "name": "stderr",
          "text": [
            "     20/300      27.6G      1.016     0.7237      1.254        450        960: 100%|██████████| 246/246 [01:52<00:00,  2.19it/s]\n",
            "                 Class     Images  Instances      Box(P          R      mAP50  mAP50-95): 100%|██████████| 27/27 [00:13<00:00,  2.02it/s]\n"
          ]
        },
        {
          "output_type": "stream",
          "name": "stdout",
          "text": [
            "                   all       1684      17728      0.691      0.532       0.54      0.359\n",
            "\n",
            "      Epoch    GPU_mem   box_loss   cls_loss   dfl_loss  Instances       Size\n"
          ]
        },
        {
          "output_type": "stream",
          "name": "stderr",
          "text": [
            "     21/300      27.7G      1.015     0.7226      1.259        420        960: 100%|██████████| 246/246 [01:52<00:00,  2.18it/s]\n",
            "                 Class     Images  Instances      Box(P          R      mAP50  mAP50-95): 100%|██████████| 27/27 [00:10<00:00,  2.52it/s]\n"
          ]
        },
        {
          "output_type": "stream",
          "name": "stdout",
          "text": [
            "                   all       1684      17728      0.653      0.545      0.539       0.36\n",
            "\n",
            "      Epoch    GPU_mem   box_loss   cls_loss   dfl_loss  Instances       Size\n"
          ]
        },
        {
          "output_type": "stream",
          "name": "stderr",
          "text": [
            "     22/300      28.2G      1.005     0.7184      1.247        467        960: 100%|██████████| 246/246 [01:52<00:00,  2.19it/s]\n",
            "                 Class     Images  Instances      Box(P          R      mAP50  mAP50-95): 100%|██████████| 27/27 [00:11<00:00,  2.31it/s]\n"
          ]
        },
        {
          "output_type": "stream",
          "name": "stdout",
          "text": [
            "                   all       1684      17728      0.676      0.527      0.533      0.354\n",
            "\n",
            "      Epoch    GPU_mem   box_loss   cls_loss   dfl_loss  Instances       Size\n"
          ]
        },
        {
          "output_type": "stream",
          "name": "stderr",
          "text": [
            "     23/300      28.3G      1.002     0.7074      1.246        456        960: 100%|██████████| 246/246 [01:52<00:00,  2.19it/s]\n",
            "                 Class     Images  Instances      Box(P          R      mAP50  mAP50-95): 100%|██████████| 27/27 [00:10<00:00,  2.53it/s]\n"
          ]
        },
        {
          "output_type": "stream",
          "name": "stdout",
          "text": [
            "                   all       1684      17728      0.669      0.534      0.542       0.36\n",
            "\n",
            "      Epoch    GPU_mem   box_loss   cls_loss   dfl_loss  Instances       Size\n"
          ]
        },
        {
          "output_type": "stream",
          "name": "stderr",
          "text": [
            "     24/300      28.3G     0.9956      0.706      1.239        376        960: 100%|██████████| 246/246 [01:53<00:00,  2.18it/s]\n",
            "                 Class     Images  Instances      Box(P          R      mAP50  mAP50-95): 100%|██████████| 27/27 [00:10<00:00,  2.52it/s]\n"
          ]
        },
        {
          "output_type": "stream",
          "name": "stdout",
          "text": [
            "                   all       1684      17728      0.705      0.534      0.543      0.364\n",
            "\n",
            "      Epoch    GPU_mem   box_loss   cls_loss   dfl_loss  Instances       Size\n"
          ]
        },
        {
          "output_type": "stream",
          "name": "stderr",
          "text": [
            "     25/300      28.5G     0.9935     0.6948      1.239        307        960: 100%|██████████| 246/246 [01:52<00:00,  2.18it/s]\n",
            "                 Class     Images  Instances      Box(P          R      mAP50  mAP50-95): 100%|██████████| 27/27 [00:11<00:00,  2.27it/s]\n"
          ]
        },
        {
          "output_type": "stream",
          "name": "stdout",
          "text": [
            "                   all       1684      17728      0.667      0.547      0.548      0.368\n",
            "\n",
            "      Epoch    GPU_mem   box_loss   cls_loss   dfl_loss  Instances       Size\n"
          ]
        },
        {
          "output_type": "stream",
          "name": "stderr",
          "text": [
            "     26/300      28.2G     0.9855     0.6931      1.239        360        960: 100%|██████████| 246/246 [01:52<00:00,  2.19it/s]\n",
            "                 Class     Images  Instances      Box(P          R      mAP50  mAP50-95): 100%|██████████| 27/27 [00:10<00:00,  2.52it/s]\n"
          ]
        },
        {
          "output_type": "stream",
          "name": "stdout",
          "text": [
            "                   all       1684      17728      0.668      0.533      0.541      0.364\n",
            "\n",
            "      Epoch    GPU_mem   box_loss   cls_loss   dfl_loss  Instances       Size\n"
          ]
        },
        {
          "output_type": "stream",
          "name": "stderr",
          "text": [
            "     27/300      28.5G     0.9796     0.6849      1.233        361        960: 100%|██████████| 246/246 [01:53<00:00,  2.17it/s]\n",
            "                 Class     Images  Instances      Box(P          R      mAP50  mAP50-95): 100%|██████████| 27/27 [00:11<00:00,  2.26it/s]\n"
          ]
        },
        {
          "output_type": "stream",
          "name": "stdout",
          "text": [
            "                   all       1684      17728      0.631      0.567      0.544      0.366\n",
            "\n",
            "      Epoch    GPU_mem   box_loss   cls_loss   dfl_loss  Instances       Size\n"
          ]
        },
        {
          "output_type": "stream",
          "name": "stderr",
          "text": [
            "     28/300      28.5G     0.9783     0.6763      1.232        271        960: 100%|██████████| 246/246 [01:53<00:00,  2.16it/s]\n",
            "                 Class     Images  Instances      Box(P          R      mAP50  mAP50-95): 100%|██████████| 27/27 [00:10<00:00,  2.52it/s]\n"
          ]
        },
        {
          "output_type": "stream",
          "name": "stdout",
          "text": [
            "                   all       1684      17728      0.712      0.536       0.55      0.368\n",
            "\n",
            "      Epoch    GPU_mem   box_loss   cls_loss   dfl_loss  Instances       Size\n"
          ]
        },
        {
          "output_type": "stream",
          "name": "stderr",
          "text": [
            "     29/300      28.3G     0.9736     0.6742      1.227        274        960: 100%|██████████| 246/246 [01:53<00:00,  2.17it/s]\n",
            "                 Class     Images  Instances      Box(P          R      mAP50  mAP50-95): 100%|██████████| 27/27 [00:11<00:00,  2.27it/s]\n"
          ]
        },
        {
          "output_type": "stream",
          "name": "stdout",
          "text": [
            "                   all       1684      17728      0.738      0.532      0.557      0.376\n",
            "\n",
            "      Epoch    GPU_mem   box_loss   cls_loss   dfl_loss  Instances       Size\n"
          ]
        },
        {
          "output_type": "stream",
          "name": "stderr",
          "text": [
            "     30/300      27.8G     0.9708     0.6709       1.23        362        960: 100%|██████████| 246/246 [01:52<00:00,  2.18it/s]\n",
            "                 Class     Images  Instances      Box(P          R      mAP50  mAP50-95): 100%|██████████| 27/27 [00:10<00:00,  2.54it/s]\n"
          ]
        },
        {
          "output_type": "stream",
          "name": "stdout",
          "text": [
            "                   all       1684      17728      0.675       0.54      0.538      0.365\n",
            "\n",
            "      Epoch    GPU_mem   box_loss   cls_loss   dfl_loss  Instances       Size\n"
          ]
        },
        {
          "output_type": "stream",
          "name": "stderr",
          "text": [
            "     31/300        28G      0.965     0.6589      1.225        288        960: 100%|██████████| 246/246 [01:53<00:00,  2.17it/s]\n",
            "                 Class     Images  Instances      Box(P          R      mAP50  mAP50-95): 100%|██████████| 27/27 [00:12<00:00,  2.23it/s]\n"
          ]
        },
        {
          "output_type": "stream",
          "name": "stdout",
          "text": [
            "                   all       1684      17728      0.684      0.555       0.55      0.371\n",
            "\n",
            "      Epoch    GPU_mem   box_loss   cls_loss   dfl_loss  Instances       Size\n"
          ]
        },
        {
          "output_type": "stream",
          "name": "stderr",
          "text": [
            "     32/300      28.2G      0.963     0.6649      1.226        357        960: 100%|██████████| 246/246 [01:53<00:00,  2.17it/s]\n",
            "                 Class     Images  Instances      Box(P          R      mAP50  mAP50-95): 100%|██████████| 27/27 [00:10<00:00,  2.53it/s]\n"
          ]
        },
        {
          "output_type": "stream",
          "name": "stdout",
          "text": [
            "                   all       1684      17728      0.629      0.561      0.546      0.369\n",
            "\n",
            "      Epoch    GPU_mem   box_loss   cls_loss   dfl_loss  Instances       Size\n"
          ]
        },
        {
          "output_type": "stream",
          "name": "stderr",
          "text": [
            "     33/300      27.9G     0.9553     0.6541      1.219        371        960: 100%|██████████| 246/246 [01:54<00:00,  2.15it/s]\n",
            "                 Class     Images  Instances      Box(P          R      mAP50  mAP50-95): 100%|██████████| 27/27 [00:11<00:00,  2.29it/s]\n"
          ]
        },
        {
          "output_type": "stream",
          "name": "stdout",
          "text": [
            "                   all       1684      17728      0.708      0.533      0.538      0.361\n",
            "\n",
            "      Epoch    GPU_mem   box_loss   cls_loss   dfl_loss  Instances       Size\n"
          ]
        },
        {
          "output_type": "stream",
          "name": "stderr",
          "text": [
            "     34/300      28.2G     0.9588     0.6567      1.221        384        960: 100%|██████████| 246/246 [01:53<00:00,  2.16it/s]\n",
            "                 Class     Images  Instances      Box(P          R      mAP50  mAP50-95): 100%|██████████| 27/27 [00:10<00:00,  2.52it/s]\n"
          ]
        },
        {
          "output_type": "stream",
          "name": "stdout",
          "text": [
            "                   all       1684      17728      0.653      0.558      0.548      0.368\n",
            "\u001b[34m\u001b[1mEarlyStopping: \u001b[0mTraining stopped early as no improvement observed in last 5 epochs. Best results observed at epoch 29, best model saved as best.pt.\n",
            "To update EarlyStopping(patience=5) pass a new patience value, i.e. `patience=300` or use `patience=0` to disable EarlyStopping.\n",
            "\n",
            "34 epochs completed in 1.178 hours.\n",
            "Optimizer stripped from /content/drive/MyDrive/fiber_optic_box_inspection/runs_yolo/train_default_augmentations_/weights/last.pt, 52.2MB\n",
            "Optimizer stripped from /content/drive/MyDrive/fiber_optic_box_inspection/runs_yolo/train_default_augmentations_/weights/best.pt, 52.2MB\n",
            "\n",
            "Validating /content/drive/MyDrive/fiber_optic_box_inspection/runs_yolo/train_default_augmentations_/weights/best.pt...\n",
            "Ultralytics 8.3.160 🚀 Python-3.11.13 torch-2.6.0+cu124 CUDA:0 (NVIDIA A100-SXM4-40GB, 40507MiB)\n",
            "Model summary (fused): 92 layers, 25,939,927 parameters, 0 gradients, 79.2 GFLOPs\n"
          ]
        },
        {
          "output_type": "stream",
          "name": "stderr",
          "text": [
            "                 Class     Images  Instances      Box(P          R      mAP50  mAP50-95): 100%|██████████| 27/27 [00:14<00:00,  1.85it/s]\n"
          ]
        },
        {
          "output_type": "stream",
          "name": "stdout",
          "text": [
            "                   all       1684      17728      0.738      0.531      0.557      0.377\n",
            "                   1.0        146        146      0.722      0.918      0.898      0.787\n",
            "                   1.1         67         67      0.636       0.73      0.759      0.578\n",
            "                   1.2         27         27      0.381      0.778      0.456      0.345\n",
            "                   1.7         15         15      0.259      0.374      0.385      0.319\n",
            "                   2.0        255        256      0.915      0.953      0.967      0.854\n",
            "                   2.3          2          2          1          0          0          0\n",
            "                   3.0        245        245      0.921      0.935      0.958      0.627\n",
            "                   3.1          1          1          0          0     0.0765     0.0612\n",
            "                   5.0        240        478      0.947      0.969      0.975       0.67\n",
            "                   5.1          3          3          0          0     0.0679     0.0225\n",
            "                   6.0        235        235      0.816      0.966      0.932      0.729\n",
            "                   7.0        208        208      0.733      0.957      0.901      0.605\n",
            "                   7.1         13         13          1          0     0.0827     0.0531\n",
            "                   7.2          5          5          1          0     0.0727     0.0236\n",
            "                   7.3          2          2          1          0          0          0\n",
            "                   7.7          3          3          1          0     0.0118     0.0106\n",
            "                   8.0        217        626      0.763      0.864      0.855      0.528\n",
            "                   8.3         18         28      0.377      0.286      0.297      0.205\n",
            "                   9.0        169        292       0.63       0.76       0.74      0.402\n",
            "                   9.4         42         62      0.646       0.79      0.712      0.358\n",
            "                  10.0         76         78      0.358      0.654      0.382      0.285\n",
            "                  10.1          1          1          1          0          0          0\n",
            "                  11.0        263        669      0.692       0.91       0.78      0.455\n",
            "                  11.1         15         22          0          0     0.0777     0.0262\n",
            "                  13.0        167        168      0.622      0.786      0.763      0.575\n",
            "                  13.1         11         11          1          0     0.0968     0.0759\n",
            "                  13.2          2          2          1          0       0.02    0.00601\n",
            "                  14.0        128        129      0.725      0.915      0.868      0.745\n",
            "                  14.1         21         21      0.542      0.381      0.555      0.446\n",
            "                  14.2         93         95      0.774       0.72      0.828      0.648\n",
            "                  19.0         94         94       0.52      0.532      0.569      0.415\n",
            "                  19.1          7          7          1          0      0.101     0.0547\n",
            "                  19.2          1          1          1          0          0          0\n",
            "                  19.3         65         65       0.58      0.508      0.535      0.278\n",
            "                  20.0         78         78      0.579      0.635      0.673      0.492\n",
            "                  20.1         48         49      0.537      0.469      0.559       0.37\n",
            "                  20.2         73         95      0.542      0.597      0.582      0.306\n",
            "                  20.3          3          3          1          0    0.00303    0.00212\n",
            "                  23.0        261        269      0.659        0.9      0.758      0.524\n",
            "                  23.1        173        205      0.696      0.535      0.575      0.288\n",
            "                  23.2          4          4          1          0     0.0168    0.00725\n",
            "                  24.0         42         64       0.78      0.781      0.779      0.325\n",
            "                  24.1         74        123      0.715      0.341      0.477      0.182\n",
            "                  26.0        494        495      0.882      0.994      0.943      0.826\n",
            "                  26.1          5          5          1          0     0.0383     0.0277\n",
            "                  27.0        177        178      0.834      0.955      0.938      0.621\n",
            "                  28.0        244        244      0.887          1      0.959      0.825\n",
            "                  29.0        251        252      0.914      0.996      0.954      0.869\n",
            "                  29.1         16         16       0.26       0.25      0.233       0.21\n",
            "                  29.4          9          9      0.346      0.237      0.347      0.307\n",
            "                  30.0        194        373      0.918       0.93      0.922      0.589\n",
            "                  30.1         15         15      0.493        0.2      0.285      0.148\n",
            "                  32.0         72        142      0.895      0.972      0.965      0.681\n",
            "                  32.1          8         14      0.754      0.643      0.779      0.582\n",
            "                  32.2         45         85      0.861      0.655      0.812      0.509\n",
            "                  35.0        168        180      0.775      0.767      0.753      0.331\n",
            "                  35.1         49         56      0.762      0.343      0.478      0.181\n",
            "                  37.0        228        556      0.793      0.899       0.89      0.589\n",
            "                  37.1          1          1          0          0          0          0\n",
            "                  37.3          1          1          1          0     0.0085     0.0051\n",
            "                  37.4         41        117      0.825      0.927      0.941      0.634\n",
            "                  38.0        210        715      0.797       0.84      0.883      0.539\n",
            "                  38.1          4          5          0          0      0.031      0.012\n",
            "                  39.0        159        278      0.825      0.928      0.884      0.562\n",
            "                  39.1          6          6      0.668      0.333      0.346      0.158\n",
            "                  40.0        174        174      0.726      0.971      0.881      0.759\n",
            "                  40.1         29         29      0.591       0.69      0.691      0.535\n",
            "                  41.0        123        126      0.912      0.968      0.948      0.824\n",
            "                  41.1          8          8      0.596      0.625      0.624       0.52\n",
            "                  41.2          1          1          1          0    0.00985    0.00887\n",
            "                  42.0        109        109      0.895      0.982      0.951      0.668\n",
            "                  42.1         12         12      0.586      0.238      0.401      0.241\n",
            "                  43.0        297       1166      0.948      0.977      0.981      0.824\n",
            "                  43.1         40         46      0.892      0.718       0.88      0.547\n",
            "                  44.0        242        243      0.942      0.975      0.962       0.73\n",
            "                  45.0        219        221      0.836      0.928       0.93      0.722\n",
            "                  45.1         69         70       0.63      0.543      0.602      0.235\n",
            "                  45.2          3          3          1          0      0.354      0.178\n",
            "                  46.0        138        362      0.743      0.876      0.879      0.415\n",
            "                  46.1         74        131          1          0      0.187      0.059\n",
            "                  47.0        257        730      0.832      0.908      0.893      0.546\n",
            "                  47.1         79         87      0.594      0.851      0.739      0.287\n",
            "                  47.3          1          1          1          0          0          0\n",
            "                  48.0        226        263      0.649      0.901      0.819      0.452\n",
            "                  48.2          2          2          1          0          0          0\n",
            "                  49.0        179        186      0.761      0.892      0.867      0.601\n",
            "                  49.3         27         27      0.354      0.481      0.413      0.211\n",
            "                  49.4         40         41      0.544       0.61      0.612      0.387\n",
            "                  50.0         96         96      0.839      0.979      0.919      0.712\n",
            "                  50.1         44         46      0.712      0.804      0.809      0.527\n",
            "                  50.2          7          8          1          0      0.032     0.0094\n",
            "                  51.0        367        367      0.837      0.965      0.915      0.822\n",
            "                  51.2         40         48      0.494      0.427      0.406      0.215\n",
            "                  51.3          5          7          1          0     0.0121     0.0018\n",
            "                  52.0        218        231      0.855      0.909      0.866      0.551\n",
            "                  52.3         18         18      0.267      0.111      0.126     0.0698\n",
            "                  52.5         21         21      0.663      0.762      0.753      0.277\n",
            "                  53.0        216        239      0.818      0.904      0.835       0.52\n",
            "                  53.4         20         22      0.567      0.591      0.476       0.14\n",
            "                  53.5         29         30          1          0       0.18      0.127\n",
            "                  54.0        198        354      0.835       0.89      0.888      0.581\n",
            "                  54.4         67         91      0.461      0.374      0.369      0.141\n",
            "                  54.5         19         24          1          0     0.0922     0.0489\n",
            "                  55.0        227        414      0.853       0.92      0.899      0.538\n",
            "                  55.4         54         73      0.621      0.726      0.659       0.24\n",
            "                  55.5         12         15          1          0      0.118     0.0791\n",
            "                  56.0        269        801       0.91      0.961      0.972      0.823\n",
            "                  56.1          1          1          1          0      0.995      0.697\n",
            "                  56.2          5          5      0.519        0.4      0.463       0.37\n",
            "                  56.4          3          3       0.68      0.333      0.572      0.391\n",
            "                  57.0        294        852      0.927      0.955      0.975      0.753\n",
            "                  57.1          6          6      0.732      0.333      0.592      0.409\n",
            "                  57.2          2          3          0          0          0          0\n",
            "                  58.0        277        278      0.958      0.989      0.984      0.795\n",
            "                  58.1          8          8      0.951      0.875      0.878      0.561\n",
            "                  58.2          2          2          1          0      0.256      0.168\n",
            "                  59.0        284        284      0.954      0.989      0.988      0.849\n",
            "                  59.2          3          3          1          0          0          0\n",
            "                  59.3          3          3      0.697      0.788      0.913      0.649\n",
            "                  60.0        199        202      0.722       0.96      0.906      0.708\n",
            "                  60.1         29         36      0.532      0.379      0.483      0.192\n",
            "                  60.3         74         97      0.558      0.608      0.529      0.249\n",
            "                  61.0        291        291       0.96      0.995      0.989       0.83\n",
            "                  61.4          1          1          1          0    0.00881    0.00616\n",
            "Speed: 0.2ms preprocess, 2.5ms inference, 0.0ms loss, 1.8ms postprocess per image\n",
            "Results saved to \u001b[1m/content/drive/MyDrive/fiber_optic_box_inspection/runs_yolo/train_default_augmentations_\u001b[0m\n"
          ]
        }
      ]
    },
    {
      "cell_type": "markdown",
      "source": [
        "### resume train"
      ],
      "metadata": {
        "id": "C1ZLczWLO4SA"
      }
    },
    {
      "cell_type": "code",
      "source": [
        "model = YOLO(yolo_default_augmentations.get_last_weight_path()) # todo\n",
        "results = model.train(resume=True)"
      ],
      "metadata": {
        "id": "cSJWq35votzb"
      },
      "execution_count": null,
      "outputs": []
    },
    {
      "cell_type": "markdown",
      "source": [
        "### val"
      ],
      "metadata": {
        "id": "uuv3OfyOMXoP"
      }
    },
    {
      "cell_type": "code",
      "source": [
        "model = YOLO(yolo_default_augmentations.get_best_weight_path()) # todo\n",
        "metrics = model.val(\n",
        "    data=local_paths['yolo_data_cfg'],\n",
        "    batch=32,\n",
        "    imgsz=IMGSZ,\n",
        "    save_json=True,\n",
        "    device=0,\n",
        "    plots=True,\n",
        "    project=paths['yolo_output_dir'],\n",
        "    name=yolo_default_augmentations.val_run_name, #todo\n",
        "    verbose=True,\n",
        "    save_txt=True,\n",
        "    save_conf=True,\n",
        "    workers=16,\n",
        ")"
      ],
      "metadata": {
        "colab": {
          "base_uri": "https://localhost:8080/"
        },
        "collapsed": true,
        "id": "2iP9LaVyMZqG",
        "outputId": "af5883cc-32d9-4c1e-d3a5-c5674674a83d"
      },
      "execution_count": null,
      "outputs": [
        {
          "output_type": "stream",
          "name": "stdout",
          "text": [
            "Ultralytics 8.3.160 🚀 Python-3.11.13 torch-2.6.0+cu124 CUDA:0 (NVIDIA A100-SXM4-40GB, 40507MiB)\n",
            "Model summary (fused): 92 layers, 25,939,927 parameters, 0 gradients, 79.2 GFLOPs\n",
            "Downloading https://ultralytics.com/assets/Arial.ttf to '/root/.config/Ultralytics/Arial.ttf'...\n"
          ]
        },
        {
          "output_type": "stream",
          "name": "stderr",
          "text": [
            "100%|██████████| 755k/755k [00:00<00:00, 14.0MB/s]"
          ]
        },
        {
          "output_type": "stream",
          "name": "stdout",
          "text": [
            "\u001b[34m\u001b[1mval: \u001b[0mFast image access ✅ (ping: 0.0±0.0 ms, read: 3006.8±842.5 MB/s, size: 115.4 KB)\n"
          ]
        },
        {
          "output_type": "stream",
          "name": "stderr",
          "text": [
            "\n",
            "\u001b[34m\u001b[1mval: \u001b[0mScanning /content/dataset_v2_ALL/image_label... 1684 images, 101 backgrounds, 0 corrupt: 100%|██████████| 1684/1684 [00:01<00:00, 1352.46it/s]"
          ]
        },
        {
          "output_type": "stream",
          "name": "stdout",
          "text": [
            "\u001b[34m\u001b[1mval: \u001b[0m/content/dataset_v2_ALL/image_label/2022_11_21_09_08_32-TNNP069058HO.jpg: 1 duplicate labels removed\n",
            "\u001b[34m\u001b[1mval: \u001b[0m/content/dataset_v2_ALL/image_label/2022_11_21_16_32_02-HBHP012062HO.jpg: 1 duplicate labels removed\n",
            "\u001b[34m\u001b[1mval: \u001b[0m/content/dataset_v2_ALL/image_label/2022_12_07_16_39_07-QNHP088205HO.jpg: 1 duplicate labels removed\n",
            "\u001b[34m\u001b[1mval: \u001b[0m/content/dataset_v2_ALL/image_label/2022_12_09_10_16_40-TBHP044214HO.jpg: 1 duplicate labels removed\n",
            "\u001b[34m\u001b[1mval: \u001b[0mNew cache created: /content/dataset_v2_ALL/image_label.cache\n"
          ]
        },
        {
          "output_type": "stream",
          "name": "stderr",
          "text": [
            "\n",
            "                 Class     Images  Instances      Box(P          R      mAP50  mAP50-95): 100%|██████████| 53/53 [01:40<00:00,  1.90s/it]\n"
          ]
        },
        {
          "output_type": "stream",
          "name": "stdout",
          "text": [
            "                   all       1684      17728      0.737      0.532      0.556      0.376\n",
            "                   1.0        146        146       0.72      0.904      0.898      0.788\n",
            "                   1.1         67         67      0.636      0.729      0.757      0.581\n",
            "                   1.2         27         27      0.382      0.778      0.469      0.355\n",
            "                   1.7         15         15      0.257      0.369      0.383       0.32\n",
            "                   2.0        255        256      0.915      0.953      0.966      0.854\n",
            "                   2.3          2          2          1          0          0          0\n",
            "                   3.0        245        245      0.917      0.935      0.952      0.629\n",
            "                   3.1          1          1          0          0     0.0765     0.0612\n",
            "                   5.0        240        478      0.947      0.966      0.974      0.669\n",
            "                   5.1          3          3          0          0     0.0678     0.0224\n",
            "                   6.0        235        235      0.816      0.966       0.93      0.727\n",
            "                   7.0        208        208      0.737      0.958      0.902      0.602\n",
            "                   7.1         13         13          1          0      0.144      0.095\n",
            "                   7.2          5          5          1          0     0.0735     0.0245\n",
            "                   7.3          2          2          1          0          0          0\n",
            "                   7.7          3          3          1          0     0.0112     0.0101\n",
            "                   8.0        217        626      0.765      0.866      0.855      0.528\n",
            "                   8.3         18         28      0.393      0.286      0.308      0.212\n",
            "                   9.0        169        292       0.63       0.76      0.739      0.401\n",
            "                   9.4         42         62      0.647       0.79      0.712      0.361\n",
            "                  10.0         76         78      0.361      0.654      0.381      0.285\n",
            "                  10.1          1          1          1          0          0          0\n",
            "                  11.0        263        669      0.696      0.913       0.78      0.455\n",
            "                  11.1         15         22          0          0     0.0774     0.0258\n",
            "                  13.0        167        168      0.628      0.786      0.759      0.571\n",
            "                  13.1         11         11          1          0     0.0799     0.0599\n",
            "                  13.2          2          2          1          0     0.0199    0.00598\n",
            "                  14.0        128        129      0.725      0.915      0.868      0.746\n",
            "                  14.1         21         21      0.542      0.381      0.542      0.438\n",
            "                  14.2         93         95      0.785      0.732      0.829      0.647\n",
            "                  19.0         94         94      0.521      0.532      0.567      0.411\n",
            "                  19.1          7          7          1          0      0.111     0.0606\n",
            "                  19.2          1          1          1          0          0          0\n",
            "                  19.3         65         65      0.582      0.508      0.538      0.277\n",
            "                  20.0         78         78      0.579      0.635      0.672      0.491\n",
            "                  20.1         48         49      0.539      0.469      0.552       0.36\n",
            "                  20.2         73         95      0.547      0.597      0.575      0.307\n",
            "                  20.3          3          3          1          0    0.00301     0.0021\n",
            "                  23.0        261        269      0.659      0.898      0.757      0.523\n",
            "                  23.1        173        205      0.695      0.534      0.576      0.289\n",
            "                  23.2          4          4          1          0     0.0159    0.00688\n",
            "                  24.0         42         64      0.781      0.781      0.782      0.325\n",
            "                  24.1         74        123       0.72      0.341      0.476      0.182\n",
            "                  26.0        494        495      0.882      0.994      0.942      0.825\n",
            "                  26.1          5          5          1          0     0.0411     0.0299\n",
            "                  27.0        177        178       0.83      0.955      0.936      0.622\n",
            "                  28.0        244        244      0.888          1      0.958      0.823\n",
            "                  29.0        251        252      0.914      0.996      0.953      0.871\n",
            "                  29.1         16         16      0.257       0.25      0.228      0.204\n",
            "                  29.4          9          9      0.344      0.234      0.348      0.308\n",
            "                  30.0        194        373      0.921      0.935      0.927      0.592\n",
            "                  30.1         15         15      0.495        0.2      0.285      0.148\n",
            "                  32.0         72        142      0.907      0.972      0.965      0.681\n",
            "                  32.1          8         14      0.755      0.643      0.779       0.57\n",
            "                  32.2         45         85      0.875      0.656      0.809      0.509\n",
            "                  35.0        168        180      0.772      0.767      0.754       0.33\n",
            "                  35.1         49         56      0.761      0.341      0.478      0.185\n",
            "                  37.0        228        556      0.795      0.899       0.89       0.59\n",
            "                  37.1          1          1          0          0          0          0\n",
            "                  37.3          1          1          1          0    0.00858    0.00515\n",
            "                  37.4         41        117      0.824      0.922      0.941      0.632\n",
            "                  38.0        210        715      0.797      0.838      0.881      0.542\n",
            "                  38.1          4          5          0          0     0.0305     0.0107\n",
            "                  39.0        159        278      0.826      0.928      0.884      0.566\n",
            "                  39.1          6          6      0.502      0.333      0.345      0.157\n",
            "                  40.0        174        174      0.725      0.971      0.882       0.76\n",
            "                  40.1         29         29      0.591       0.69      0.693      0.537\n",
            "                  41.0        123        126      0.912      0.968      0.948      0.823\n",
            "                  41.1          8          8      0.596      0.625      0.617      0.515\n",
            "                  41.2          1          1          1          0    0.00975    0.00878\n",
            "                  42.0        109        109      0.895      0.982      0.951      0.676\n",
            "                  42.1         12         12      0.657      0.321      0.409      0.235\n",
            "                  43.0        297       1166      0.948      0.977      0.981      0.825\n",
            "                  43.1         40         46      0.869       0.72      0.878      0.545\n",
            "                  44.0        242        243      0.942      0.975      0.962      0.728\n",
            "                  45.0        219        221      0.841      0.937      0.931      0.722\n",
            "                  45.1         69         70      0.627      0.543      0.603      0.236\n",
            "                  45.2          3          3          1          0      0.354      0.177\n",
            "                  46.0        138        362      0.742      0.876      0.878      0.416\n",
            "                  46.1         74        131          1          0       0.19     0.0598\n",
            "                  47.0        257        730      0.832      0.909      0.894      0.547\n",
            "                  47.1         79         87      0.595      0.851      0.739       0.29\n",
            "                  47.3          1          1          1          0          0          0\n",
            "                  48.0        226        263      0.649      0.901       0.82      0.452\n",
            "                  48.2          2          2          1          0          0          0\n",
            "                  49.0        179        186      0.758      0.892      0.864      0.598\n",
            "                  49.3         27         27      0.356      0.481      0.415      0.212\n",
            "                  49.4         40         41      0.547       0.61      0.612      0.386\n",
            "                  50.0         96         96      0.839      0.978      0.914      0.712\n",
            "                  50.1         44         46      0.707      0.783      0.807      0.523\n",
            "                  50.2          7          8          1          0     0.0335    0.00943\n",
            "                  51.0        367        367      0.837      0.965      0.914      0.821\n",
            "                  51.2         40         48      0.459      0.396      0.385      0.211\n",
            "                  51.3          5          7          1          0     0.0121    0.00181\n",
            "                  52.0        218        231      0.853      0.909      0.867      0.554\n",
            "                  52.3         18         18       0.27      0.111      0.113     0.0664\n",
            "                  52.5         21         21      0.653      0.762      0.747      0.274\n",
            "                  53.0        216        239      0.818      0.904      0.836      0.522\n",
            "                  53.4         20         22      0.567      0.591      0.476      0.147\n",
            "                  53.5         29         30          1          0      0.179      0.127\n",
            "                  54.0        198        354      0.835      0.887      0.888       0.58\n",
            "                  54.4         67         91      0.484      0.381      0.375      0.136\n",
            "                  54.5         19         24          1          0     0.0939     0.0513\n",
            "                  55.0        227        414      0.853       0.92      0.899      0.538\n",
            "                  55.4         54         73      0.623      0.726      0.658      0.242\n",
            "                  55.5         12         15          1          0      0.118     0.0791\n",
            "                  56.0        269        801      0.908      0.964      0.972      0.824\n",
            "                  56.1          1          1          1          0      0.995      0.697\n",
            "                  56.2          5          5      0.521        0.4      0.463       0.37\n",
            "                  56.4          3          3      0.684      0.333      0.568      0.389\n",
            "                  57.0        294        852      0.927      0.955      0.975      0.753\n",
            "                  57.1          6          6      0.733      0.333      0.592      0.404\n",
            "                  57.2          2          3          0          0          0          0\n",
            "                  58.0        277        278      0.958      0.989      0.984      0.798\n",
            "                  58.1          8          8      0.951      0.875      0.878      0.561\n",
            "                  58.2          2          2          1          0      0.256      0.168\n",
            "                  59.0        284        284      0.954      0.989      0.988      0.847\n",
            "                  59.2          3          3          1          0          0          0\n",
            "                  59.3          3          3      0.697      0.788      0.913      0.616\n",
            "                  60.0        199        202      0.723       0.96      0.906      0.713\n",
            "                  60.1         29         36      0.511      0.377      0.474       0.19\n",
            "                  60.3         74         97      0.559      0.615      0.529       0.25\n",
            "                  61.0        291        291       0.96      0.995       0.99      0.831\n",
            "                  61.4          1          1          1          0    0.00888    0.00622\n",
            "Speed: 0.6ms preprocess, 3.7ms inference, 0.0ms loss, 1.1ms postprocess per image\n",
            "Saving /content/drive/MyDrive/fiber_optic_box_inspection/runs_yolo/val_default_augmentations_2/predictions.json...\n",
            "Results saved to \u001b[1m/content/drive/MyDrive/fiber_optic_box_inspection/runs_yolo/val_default_augmentations_2\u001b[0m\n"
          ]
        }
      ]
    },
    {
      "cell_type": "markdown",
      "source": [
        "## no augmentations"
      ],
      "metadata": {
        "id": "mFaiC6SuI4b6"
      }
    },
    {
      "cell_type": "markdown",
      "source": [
        "### train"
      ],
      "metadata": {
        "id": "f2u8F_MFNhTe"
      }
    },
    {
      "cell_type": "code",
      "source": [
        "model = YOLO('yolov8m.pt')\n",
        "results = model.train(\n",
        "    data=local_paths['yolo_data_cfg'], # todo\n",
        "    epochs=300,\n",
        "    patience=5,\n",
        "    batch=32,\n",
        "    imgsz=IMGSZ,\n",
        "    save_period=10,\n",
        "    cache='disk',\n",
        "    device=0,\n",
        "    workers=16,\n",
        "    project=paths['yolo_output_dir'],\n",
        "    name=yolo_no_augmentations.train_run_name, # todo\n",
        "    save_conf=True,\n",
        "    # augmentation\n",
        "    hsv_h=0.0,           # default 0.015\n",
        "    hsv_s=0.0,           # default 0.7\n",
        "    hsv_v=0.0,           # default 0.4\n",
        "    degrees=0.0,         # default 0.0\n",
        "    translate=0.0,       # default 0.1\n",
        "    scale=0.0,           # default 0.5\n",
        "    shear=0.0,           # default 0.0\n",
        "    perspective=0.0,     # default 0.0\n",
        "    flipud=0.0,          # default 0.0\n",
        "    fliplr=0.0,          # default 0.5\n",
        "    bgr=0.0,             # default 0.0\n",
        "    mosaic=0.0,          # default 1.0\n",
        "    mixup=0.0,           # default 0.0\n",
        "    cutmix=0.0,          # default 0.0\n",
        ")"
      ],
      "metadata": {
        "colab": {
          "base_uri": "https://localhost:8080/"
        },
        "collapsed": true,
        "id": "8ns9PC0OM2N7",
        "outputId": "7d4f1664-7983-44e5-afde-16b23cd2ff75"
      },
      "execution_count": null,
      "outputs": [
        {
          "output_type": "stream",
          "name": "stdout",
          "text": [
            "Downloading https://github.com/ultralytics/assets/releases/download/v8.3.0/yolov8m.pt to 'yolov8m.pt'...\n"
          ]
        },
        {
          "output_type": "stream",
          "name": "stderr",
          "text": [
            "100%|██████████| 49.7M/49.7M [00:00<00:00, 200MB/s]\n"
          ]
        },
        {
          "output_type": "stream",
          "name": "stdout",
          "text": [
            "Ultralytics 8.3.160 🚀 Python-3.11.13 torch-2.6.0+cu124 CUDA:0 (NVIDIA A100-SXM4-40GB, 40507MiB)\n",
            "\u001b[34m\u001b[1mengine/trainer: \u001b[0magnostic_nms=False, amp=True, augment=False, auto_augment=randaugment, batch=32, bgr=0.0, box=7.5, cache=disk, cfg=None, classes=None, close_mosaic=10, cls=0.5, conf=None, copy_paste=0.0, copy_paste_mode=flip, cos_lr=False, cutmix=0.0, data=/content/dataset_v2_ALL/yolo_data_cfg.yaml, degrees=0.0, deterministic=True, device=0, dfl=1.5, dnn=False, dropout=0.0, dynamic=False, embed=None, epochs=300, erasing=0.4, exist_ok=False, fliplr=0.0, flipud=0.0, format=torchscript, fraction=1.0, freeze=None, half=False, hsv_h=0.0, hsv_s=0.0, hsv_v=0.0, imgsz=960, int8=False, iou=0.7, keras=False, kobj=1.0, line_width=None, lr0=0.01, lrf=0.01, mask_ratio=4, max_det=300, mixup=0.0, mode=train, model=yolov8m.pt, momentum=0.937, mosaic=0.0, multi_scale=False, name=train_no_augmentations_, nbs=64, nms=False, opset=None, optimize=False, optimizer=auto, overlap_mask=True, patience=5, perspective=0.0, plots=True, pose=12.0, pretrained=True, profile=False, project=/content/drive/MyDrive/fiber_optic_box_inspection/runs_yolo, rect=False, resume=False, retina_masks=False, save=True, save_conf=True, save_crop=False, save_dir=/content/drive/MyDrive/fiber_optic_box_inspection/runs_yolo/train_no_augmentations_, save_frames=False, save_json=False, save_period=10, save_txt=False, scale=0.0, seed=0, shear=0.0, show=False, show_boxes=True, show_conf=True, show_labels=True, simplify=True, single_cls=False, source=None, split=val, stream_buffer=False, task=detect, time=None, tracker=botsort.yaml, translate=0.0, val=True, verbose=True, vid_stride=1, visualize=False, warmup_bias_lr=0.1, warmup_epochs=3.0, warmup_momentum=0.8, weight_decay=0.0005, workers=16, workspace=None\n",
            "Overriding model.yaml nc=80 with nc=173\n",
            "\n",
            "                   from  n    params  module                                       arguments                     \n",
            "  0                  -1  1      1392  ultralytics.nn.modules.conv.Conv             [3, 48, 3, 2]                 \n",
            "  1                  -1  1     41664  ultralytics.nn.modules.conv.Conv             [48, 96, 3, 2]                \n",
            "  2                  -1  2    111360  ultralytics.nn.modules.block.C2f             [96, 96, 2, True]             \n",
            "  3                  -1  1    166272  ultralytics.nn.modules.conv.Conv             [96, 192, 3, 2]               \n",
            "  4                  -1  4    813312  ultralytics.nn.modules.block.C2f             [192, 192, 4, True]           \n",
            "  5                  -1  1    664320  ultralytics.nn.modules.conv.Conv             [192, 384, 3, 2]              \n",
            "  6                  -1  4   3248640  ultralytics.nn.modules.block.C2f             [384, 384, 4, True]           \n",
            "  7                  -1  1   1991808  ultralytics.nn.modules.conv.Conv             [384, 576, 3, 2]              \n",
            "  8                  -1  2   3985920  ultralytics.nn.modules.block.C2f             [576, 576, 2, True]           \n",
            "  9                  -1  1    831168  ultralytics.nn.modules.block.SPPF            [576, 576, 5]                 \n",
            " 10                  -1  1         0  torch.nn.modules.upsampling.Upsample         [None, 2, 'nearest']          \n",
            " 11             [-1, 6]  1         0  ultralytics.nn.modules.conv.Concat           [1]                           \n",
            " 12                  -1  2   1993728  ultralytics.nn.modules.block.C2f             [960, 384, 2]                 \n",
            " 13                  -1  1         0  torch.nn.modules.upsampling.Upsample         [None, 2, 'nearest']          \n",
            " 14             [-1, 4]  1         0  ultralytics.nn.modules.conv.Concat           [1]                           \n",
            " 15                  -1  2    517632  ultralytics.nn.modules.block.C2f             [576, 192, 2]                 \n",
            " 16                  -1  1    332160  ultralytics.nn.modules.conv.Conv             [192, 192, 3, 2]              \n",
            " 17            [-1, 12]  1         0  ultralytics.nn.modules.conv.Concat           [1]                           \n",
            " 18                  -1  2   1846272  ultralytics.nn.modules.block.C2f             [576, 384, 2]                 \n",
            " 19                  -1  1   1327872  ultralytics.nn.modules.conv.Conv             [384, 384, 3, 2]              \n",
            " 20             [-1, 9]  1         0  ultralytics.nn.modules.conv.Concat           [1]                           \n",
            " 21                  -1  2   4207104  ultralytics.nn.modules.block.C2f             [960, 576, 2]                 \n",
            " 22        [15, 18, 21]  1   3875863  ultralytics.nn.modules.head.Detect           [173, [192, 384, 576]]        \n",
            "Model summary: 169 layers, 25,956,487 parameters, 25,956,471 gradients, 79.6 GFLOPs\n",
            "\n",
            "Transferred 469/475 items from pretrained weights\n",
            "Freezing layer 'model.22.dfl.conv.weight'\n",
            "\u001b[34m\u001b[1mAMP: \u001b[0mrunning Automatic Mixed Precision (AMP) checks...\n",
            "Downloading https://github.com/ultralytics/assets/releases/download/v8.3.0/yolo11n.pt to 'yolo11n.pt'...\n"
          ]
        },
        {
          "output_type": "stream",
          "name": "stderr",
          "text": [
            "100%|██████████| 5.35M/5.35M [00:00<00:00, 67.5MB/s]\n"
          ]
        },
        {
          "output_type": "stream",
          "name": "stdout",
          "text": [
            "\u001b[34m\u001b[1mAMP: \u001b[0mchecks passed ✅\n",
            "\u001b[34m\u001b[1mtrain: \u001b[0mFast image access ✅ (ping: 0.0±0.0 ms, read: 2452.1±674.4 MB/s, size: 100.8 KB)\n"
          ]
        },
        {
          "output_type": "stream",
          "name": "stderr",
          "text": [
            "\u001b[34m\u001b[1mtrain: \u001b[0mScanning /content/dataset_v2_ALL/image_label... 7858 images, 466 backgrounds, 0 corrupt: 100%|██████████| 7858/7858 [00:05<00:00, 1456.14it/s]"
          ]
        },
        {
          "output_type": "stream",
          "name": "stdout",
          "text": [
            "\u001b[34m\u001b[1mtrain: \u001b[0m/content/dataset_v2_ALL/image_label/2022_11_03_15_29_32-HNIP456107HO.jpg: 1 duplicate labels removed\n",
            "\u001b[34m\u001b[1mtrain: \u001b[0m/content/dataset_v2_ALL/image_label/2022_11_10_14_59_59-HNIP120595HO.jpg: 1 duplicate labels removed\n",
            "\u001b[34m\u001b[1mtrain: \u001b[0m/content/dataset_v2_ALL/image_label/2022_11_11_09_10_09-PYNP016064HO.jpg: 1 duplicate labels removed\n",
            "\u001b[34m\u001b[1mtrain: \u001b[0m/content/dataset_v2_ALL/image_label/2022_11_11_09_59_56-BGGP089061HO.jpg: 1 duplicate labels removed\n",
            "\u001b[34m\u001b[1mtrain: \u001b[0m/content/dataset_v2_ALL/image_label/2022_11_14_16_04_38-HNIP548102HO.jpg: 1 duplicate labels removed\n",
            "\u001b[34m\u001b[1mtrain: \u001b[0m/content/dataset_v2_ALL/image_label/2022_11_16_08_43_48-HDGP141064HO.jpg: 1 duplicate labels removed\n",
            "\u001b[34m\u001b[1mtrain: \u001b[0m/content/dataset_v2_ALL/image_label/2022_11_16_10_35_33-GLIP038152HO.jpg: 1 duplicate labels removed\n",
            "\u001b[34m\u001b[1mtrain: \u001b[0m/content/dataset_v2_ALL/image_label/2022_11_16_15_40_51-HBHP012080HO.jpg: 1 duplicate labels removed\n",
            "\u001b[34m\u001b[1mtrain: \u001b[0m/content/dataset_v2_ALL/image_label/2022_11_17_15_10_14-TNNP063261HO.jpg: 1 duplicate labels removed\n",
            "\u001b[34m\u001b[1mtrain: \u001b[0m/content/dataset_v2_ALL/image_label/2022_12_06_15_18_24-TBHP019033HO.jpg: 1 duplicate labels removed\n",
            "\u001b[34m\u001b[1mtrain: \u001b[0m/content/dataset_v2_ALL/image_label/2022_12_08_10_14_33-HYNP074125HO.jpg: 1 duplicate labels removed\n"
          ]
        },
        {
          "output_type": "stream",
          "name": "stderr",
          "text": [
            "\n"
          ]
        },
        {
          "output_type": "stream",
          "name": "stdout",
          "text": [
            "\u001b[34m\u001b[1mtrain: \u001b[0mNew cache created: /content/dataset_v2_ALL/image_label.cache\n"
          ]
        },
        {
          "output_type": "stream",
          "name": "stderr",
          "text": [
            "\u001b[34m\u001b[1mtrain: \u001b[0mCaching images (18.0GB Disk): 100%|██████████| 7858/7858 [00:50<00:00, 154.67it/s]\n"
          ]
        },
        {
          "output_type": "stream",
          "name": "stdout",
          "text": [
            "\u001b[34m\u001b[1malbumentations: \u001b[0mBlur(p=0.01, blur_limit=(3, 7)), MedianBlur(p=0.01, blur_limit=(3, 7)), ToGray(p=0.01, method='weighted_average', num_output_channels=3), CLAHE(p=0.01, clip_limit=(1.0, 4.0), tile_grid_size=(8, 8))\n",
            "\u001b[34m\u001b[1mval: \u001b[0mFast image access ✅ (ping: 0.0±0.0 ms, read: 1509.9±595.0 MB/s, size: 139.4 KB)\n"
          ]
        },
        {
          "output_type": "stream",
          "name": "stderr",
          "text": [
            "\u001b[34m\u001b[1mval: \u001b[0mScanning /content/dataset_v2_ALL/image_label... 1684 images, 101 backgrounds, 0 corrupt: 100%|██████████| 1684/1684 [00:01<00:00, 1208.99it/s]"
          ]
        },
        {
          "output_type": "stream",
          "name": "stdout",
          "text": [
            "\u001b[34m\u001b[1mval: \u001b[0m/content/dataset_v2_ALL/image_label/2022_11_21_09_08_32-TNNP069058HO.jpg: 1 duplicate labels removed\n",
            "\u001b[34m\u001b[1mval: \u001b[0m/content/dataset_v2_ALL/image_label/2022_11_21_16_32_02-HBHP012062HO.jpg: 1 duplicate labels removed\n",
            "\u001b[34m\u001b[1mval: \u001b[0m/content/dataset_v2_ALL/image_label/2022_12_07_16_39_07-QNHP088205HO.jpg: 1 duplicate labels removed\n",
            "\u001b[34m\u001b[1mval: \u001b[0m/content/dataset_v2_ALL/image_label/2022_12_09_10_16_40-TBHP044214HO.jpg: 1 duplicate labels removed\n",
            "\u001b[34m\u001b[1mval: \u001b[0mNew cache created: /content/dataset_v2_ALL/image_label.cache\n"
          ]
        },
        {
          "output_type": "stream",
          "name": "stderr",
          "text": [
            "\n",
            "\u001b[34m\u001b[1mval: \u001b[0mCaching images (3.8GB Disk): 100%|██████████| 1684/1684 [00:10<00:00, 163.86it/s]\n"
          ]
        },
        {
          "output_type": "stream",
          "name": "stdout",
          "text": [
            "Plotting labels to /content/drive/MyDrive/fiber_optic_box_inspection/runs_yolo/train_no_augmentations_/labels.jpg... \n",
            "\u001b[34m\u001b[1moptimizer:\u001b[0m 'optimizer=auto' found, ignoring 'lr0=0.01' and 'momentum=0.937' and determining best 'optimizer', 'lr0' and 'momentum' automatically... \n",
            "\u001b[34m\u001b[1moptimizer:\u001b[0m SGD(lr=0.01, momentum=0.9) with parameter groups 77 weight(decay=0.0), 84 weight(decay=0.0005), 83 bias(decay=0.0)\n",
            "Image sizes 960 train, 960 val\n",
            "Using 12 dataloader workers\n",
            "Logging results to \u001b[1m/content/drive/MyDrive/fiber_optic_box_inspection/runs_yolo/train_no_augmentations_\u001b[0m\n",
            "Starting training for 300 epochs...\n",
            "\n",
            "      Epoch    GPU_mem   box_loss   cls_loss   dfl_loss  Instances       Size\n"
          ]
        },
        {
          "output_type": "stream",
          "name": "stderr",
          "text": [
            "      1/300        27G      1.557      2.785      1.727        204        960: 100%|██████████| 246/246 [01:53<00:00,  2.17it/s]\n",
            "                 Class     Images  Instances      Box(P          R      mAP50  mAP50-95): 100%|██████████| 27/27 [00:11<00:00,  2.38it/s]\n"
          ]
        },
        {
          "output_type": "stream",
          "name": "stdout",
          "text": [
            "                   all       1684      17728      0.743       0.39      0.372      0.241\n",
            "\n",
            "      Epoch    GPU_mem   box_loss   cls_loss   dfl_loss  Instances       Size\n"
          ]
        },
        {
          "output_type": "stream",
          "name": "stderr",
          "text": [
            "      2/300      26.9G      1.132      1.096      1.355        206        960: 100%|██████████| 246/246 [01:49<00:00,  2.24it/s]\n",
            "                 Class     Images  Instances      Box(P          R      mAP50  mAP50-95): 100%|██████████| 27/27 [00:11<00:00,  2.44it/s]\n"
          ]
        },
        {
          "output_type": "stream",
          "name": "stdout",
          "text": [
            "                   all       1684      17728      0.648      0.443      0.431      0.279\n",
            "\n",
            "      Epoch    GPU_mem   box_loss   cls_loss   dfl_loss  Instances       Size\n"
          ]
        },
        {
          "output_type": "stream",
          "name": "stderr",
          "text": [
            "      3/300      27.2G      1.109     0.9469       1.34        146        960: 100%|██████████| 246/246 [01:48<00:00,  2.27it/s]\n",
            "                 Class     Images  Instances      Box(P          R      mAP50  mAP50-95): 100%|██████████| 27/27 [00:11<00:00,  2.44it/s]\n"
          ]
        },
        {
          "output_type": "stream",
          "name": "stdout",
          "text": [
            "                   all       1684      17728      0.621      0.413      0.405       0.26\n",
            "\n",
            "      Epoch    GPU_mem   box_loss   cls_loss   dfl_loss  Instances       Size\n"
          ]
        },
        {
          "output_type": "stream",
          "name": "stderr",
          "text": [
            "      4/300      27.2G      1.122     0.8928      1.351        179        960: 100%|██████████| 246/246 [01:48<00:00,  2.27it/s]\n",
            "                 Class     Images  Instances      Box(P          R      mAP50  mAP50-95): 100%|██████████| 27/27 [00:11<00:00,  2.44it/s]\n"
          ]
        },
        {
          "output_type": "stream",
          "name": "stdout",
          "text": [
            "                   all       1684      17728      0.726      0.417      0.434      0.276\n",
            "\n",
            "      Epoch    GPU_mem   box_loss   cls_loss   dfl_loss  Instances       Size\n"
          ]
        },
        {
          "output_type": "stream",
          "name": "stderr",
          "text": [
            "      5/300      27.2G       1.08     0.8172      1.322        137        960: 100%|██████████| 246/246 [01:48<00:00,  2.26it/s]\n",
            "                 Class     Images  Instances      Box(P          R      mAP50  mAP50-95): 100%|██████████| 27/27 [00:10<00:00,  2.48it/s]\n"
          ]
        },
        {
          "output_type": "stream",
          "name": "stdout",
          "text": [
            "                   all       1684      17728      0.661      0.474       0.46      0.299\n",
            "\n",
            "      Epoch    GPU_mem   box_loss   cls_loss   dfl_loss  Instances       Size\n"
          ]
        },
        {
          "output_type": "stream",
          "name": "stderr",
          "text": [
            "      6/300      27.2G      1.038     0.7583      1.293        225        960: 100%|██████████| 246/246 [01:48<00:00,  2.27it/s]\n",
            "                 Class     Images  Instances      Box(P          R      mAP50  mAP50-95): 100%|██████████| 27/27 [00:10<00:00,  2.51it/s]\n"
          ]
        },
        {
          "output_type": "stream",
          "name": "stdout",
          "text": [
            "                   all       1684      17728      0.692      0.481      0.477      0.311\n",
            "\n",
            "      Epoch    GPU_mem   box_loss   cls_loss   dfl_loss  Instances       Size\n"
          ]
        },
        {
          "output_type": "stream",
          "name": "stderr",
          "text": [
            "      7/300      27.2G     0.9958     0.7136      1.261        168        960: 100%|██████████| 246/246 [01:48<00:00,  2.27it/s]\n",
            "                 Class     Images  Instances      Box(P          R      mAP50  mAP50-95): 100%|██████████| 27/27 [00:10<00:00,  2.48it/s]\n"
          ]
        },
        {
          "output_type": "stream",
          "name": "stdout",
          "text": [
            "                   all       1684      17728      0.699      0.475      0.478      0.318\n",
            "\n",
            "      Epoch    GPU_mem   box_loss   cls_loss   dfl_loss  Instances       Size\n"
          ]
        },
        {
          "output_type": "stream",
          "name": "stderr",
          "text": [
            "      8/300      27.2G     0.9621     0.6727      1.237        204        960: 100%|██████████| 246/246 [01:48<00:00,  2.26it/s]\n",
            "                 Class     Images  Instances      Box(P          R      mAP50  mAP50-95): 100%|██████████| 27/27 [00:10<00:00,  2.50it/s]\n"
          ]
        },
        {
          "output_type": "stream",
          "name": "stdout",
          "text": [
            "                   all       1684      17728      0.685      0.494      0.495      0.322\n",
            "\n",
            "      Epoch    GPU_mem   box_loss   cls_loss   dfl_loss  Instances       Size\n"
          ]
        },
        {
          "output_type": "stream",
          "name": "stderr",
          "text": [
            "      9/300      27.2G     0.9246     0.6375      1.211        168        960: 100%|██████████| 246/246 [01:48<00:00,  2.27it/s]\n",
            "                 Class     Images  Instances      Box(P          R      mAP50  mAP50-95): 100%|██████████| 27/27 [00:10<00:00,  2.49it/s]\n"
          ]
        },
        {
          "output_type": "stream",
          "name": "stdout",
          "text": [
            "                   all       1684      17728      0.681      0.499      0.492      0.325\n",
            "\n",
            "      Epoch    GPU_mem   box_loss   cls_loss   dfl_loss  Instances       Size\n"
          ]
        },
        {
          "output_type": "stream",
          "name": "stderr",
          "text": [
            "     10/300      27.3G     0.8881     0.6043      1.184        164        960: 100%|██████████| 246/246 [01:48<00:00,  2.26it/s]\n",
            "                 Class     Images  Instances      Box(P          R      mAP50  mAP50-95): 100%|██████████| 27/27 [00:10<00:00,  2.47it/s]\n"
          ]
        },
        {
          "output_type": "stream",
          "name": "stdout",
          "text": [
            "                   all       1684      17728      0.677      0.501      0.496       0.33\n",
            "\n",
            "      Epoch    GPU_mem   box_loss   cls_loss   dfl_loss  Instances       Size\n"
          ]
        },
        {
          "output_type": "stream",
          "name": "stderr",
          "text": [
            "     11/300      27.2G     0.8511     0.5747      1.157        171        960: 100%|██████████| 246/246 [01:48<00:00,  2.26it/s]\n",
            "                 Class     Images  Instances      Box(P          R      mAP50  mAP50-95): 100%|██████████| 27/27 [00:10<00:00,  2.53it/s]\n"
          ]
        },
        {
          "output_type": "stream",
          "name": "stdout",
          "text": [
            "                   all       1684      17728      0.621      0.514      0.497       0.33\n",
            "\n",
            "      Epoch    GPU_mem   box_loss   cls_loss   dfl_loss  Instances       Size\n"
          ]
        },
        {
          "output_type": "stream",
          "name": "stderr",
          "text": [
            "     12/300      27.3G     0.8138     0.5448       1.13        255        960: 100%|██████████| 246/246 [01:48<00:00,  2.27it/s]\n",
            "                 Class     Images  Instances      Box(P          R      mAP50  mAP50-95): 100%|██████████| 27/27 [00:10<00:00,  2.54it/s]\n"
          ]
        },
        {
          "output_type": "stream",
          "name": "stdout",
          "text": [
            "                   all       1684      17728      0.667       0.52      0.496      0.327\n",
            "\n",
            "      Epoch    GPU_mem   box_loss   cls_loss   dfl_loss  Instances       Size\n"
          ]
        },
        {
          "output_type": "stream",
          "name": "stderr",
          "text": [
            "     13/300      27.3G     0.7843     0.5202      1.109        157        960: 100%|██████████| 246/246 [01:48<00:00,  2.26it/s]\n",
            "                 Class     Images  Instances      Box(P          R      mAP50  mAP50-95): 100%|██████████| 27/27 [00:10<00:00,  2.53it/s]\n"
          ]
        },
        {
          "output_type": "stream",
          "name": "stdout",
          "text": [
            "                   all       1684      17728       0.62      0.509      0.493       0.33\n",
            "\n",
            "      Epoch    GPU_mem   box_loss   cls_loss   dfl_loss  Instances       Size\n"
          ]
        },
        {
          "output_type": "stream",
          "name": "stderr",
          "text": [
            "     14/300      27.2G     0.7476      0.492      1.084        219        960: 100%|██████████| 246/246 [01:48<00:00,  2.27it/s]\n",
            "                 Class     Images  Instances      Box(P          R      mAP50  mAP50-95): 100%|██████████| 27/27 [00:10<00:00,  2.54it/s]\n"
          ]
        },
        {
          "output_type": "stream",
          "name": "stdout",
          "text": [
            "                   all       1684      17728      0.619       0.52        0.5      0.331\n",
            "\n",
            "      Epoch    GPU_mem   box_loss   cls_loss   dfl_loss  Instances       Size\n"
          ]
        },
        {
          "output_type": "stream",
          "name": "stderr",
          "text": [
            "     15/300      27.2G     0.7202     0.4695      1.063        212        960: 100%|██████████| 246/246 [01:48<00:00,  2.27it/s]\n",
            "                 Class     Images  Instances      Box(P          R      mAP50  mAP50-95): 100%|██████████| 27/27 [00:10<00:00,  2.52it/s]\n"
          ]
        },
        {
          "output_type": "stream",
          "name": "stdout",
          "text": [
            "                   all       1684      17728      0.569       0.52      0.489      0.322\n",
            "\n",
            "      Epoch    GPU_mem   box_loss   cls_loss   dfl_loss  Instances       Size\n"
          ]
        },
        {
          "output_type": "stream",
          "name": "stderr",
          "text": [
            "     16/300      27.2G     0.6906     0.4477      1.043        215        960: 100%|██████████| 246/246 [01:48<00:00,  2.27it/s]\n",
            "                 Class     Images  Instances      Box(P          R      mAP50  mAP50-95): 100%|██████████| 27/27 [00:10<00:00,  2.54it/s]\n"
          ]
        },
        {
          "output_type": "stream",
          "name": "stdout",
          "text": [
            "                   all       1684      17728      0.595      0.525      0.495      0.328\n",
            "\n",
            "      Epoch    GPU_mem   box_loss   cls_loss   dfl_loss  Instances       Size\n"
          ]
        },
        {
          "output_type": "stream",
          "name": "stderr",
          "text": [
            "     17/300      27.2G     0.6629     0.4258      1.024        152        960: 100%|██████████| 246/246 [01:48<00:00,  2.27it/s]\n",
            "                 Class     Images  Instances      Box(P          R      mAP50  mAP50-95): 100%|██████████| 27/27 [00:10<00:00,  2.55it/s]\n"
          ]
        },
        {
          "output_type": "stream",
          "name": "stdout",
          "text": [
            "                   all       1684      17728      0.536      0.531      0.488      0.323\n",
            "\n",
            "      Epoch    GPU_mem   box_loss   cls_loss   dfl_loss  Instances       Size\n"
          ]
        },
        {
          "output_type": "stream",
          "name": "stderr",
          "text": [
            "     18/300      27.3G     0.6398     0.4093      1.008        208        960: 100%|██████████| 246/246 [01:48<00:00,  2.27it/s]\n",
            "                 Class     Images  Instances      Box(P          R      mAP50  mAP50-95): 100%|██████████| 27/27 [00:10<00:00,  2.55it/s]\n"
          ]
        },
        {
          "output_type": "stream",
          "name": "stdout",
          "text": [
            "                   all       1684      17728      0.652      0.497      0.494      0.328\n",
            "\n",
            "      Epoch    GPU_mem   box_loss   cls_loss   dfl_loss  Instances       Size\n"
          ]
        },
        {
          "output_type": "stream",
          "name": "stderr",
          "text": [
            "     19/300      27.2G     0.6131     0.3901     0.9895        175        960: 100%|██████████| 246/246 [01:48<00:00,  2.27it/s]\n",
            "                 Class     Images  Instances      Box(P          R      mAP50  mAP50-95): 100%|██████████| 27/27 [00:10<00:00,  2.55it/s]\n"
          ]
        },
        {
          "output_type": "stream",
          "name": "stdout",
          "text": [
            "                   all       1684      17728      0.562      0.532      0.496      0.331\n",
            "\u001b[34m\u001b[1mEarlyStopping: \u001b[0mTraining stopped early as no improvement observed in last 5 epochs. Best results observed at epoch 14, best model saved as best.pt.\n",
            "To update EarlyStopping(patience=5) pass a new patience value, i.e. `patience=300` or use `patience=0` to disable EarlyStopping.\n",
            "\n",
            "19 epochs completed in 0.638 hours.\n",
            "Optimizer stripped from /content/drive/MyDrive/fiber_optic_box_inspection/runs_yolo/train_no_augmentations_/weights/last.pt, 52.2MB\n",
            "Optimizer stripped from /content/drive/MyDrive/fiber_optic_box_inspection/runs_yolo/train_no_augmentations_/weights/best.pt, 52.2MB\n",
            "\n",
            "Validating /content/drive/MyDrive/fiber_optic_box_inspection/runs_yolo/train_no_augmentations_/weights/best.pt...\n",
            "Ultralytics 8.3.160 🚀 Python-3.11.13 torch-2.6.0+cu124 CUDA:0 (NVIDIA A100-SXM4-40GB, 40507MiB)\n",
            "Model summary (fused): 92 layers, 25,939,927 parameters, 0 gradients, 79.2 GFLOPs\n"
          ]
        },
        {
          "output_type": "stream",
          "name": "stderr",
          "text": [
            "                 Class     Images  Instances      Box(P          R      mAP50  mAP50-95): 100%|██████████| 27/27 [00:13<00:00,  2.05it/s]\n"
          ]
        },
        {
          "output_type": "stream",
          "name": "stdout",
          "text": [
            "                   all       1684      17728       0.62      0.521      0.501      0.332\n",
            "                   1.0        146        146      0.671      0.945        0.8      0.683\n",
            "                   1.1         67         67      0.746      0.483      0.653      0.495\n",
            "                   1.2         27         27       0.33      0.556      0.404      0.297\n",
            "                   1.7         15         15      0.279      0.285      0.318      0.239\n",
            "                   2.0        255        256      0.917      0.961      0.955      0.825\n",
            "                   2.3          2          2          0          0          0          0\n",
            "                   3.0        245        245      0.916      0.922      0.925      0.584\n",
            "                   3.1          1          1          1          0     0.0829      0.058\n",
            "                   5.0        240        478      0.946      0.955      0.963      0.657\n",
            "                   5.1          3          3          0          0       0.02     0.0116\n",
            "                   6.0        235        235      0.845      0.902      0.914        0.7\n",
            "                   7.0        208        208      0.768       0.88      0.868      0.574\n",
            "                   7.1         13         13      0.107      0.154      0.178      0.115\n",
            "                   7.2          5          5          1          0     0.0158     0.0044\n",
            "                   7.3          2          2          0          0          0          0\n",
            "                   7.7          3          3          1          0          0          0\n",
            "                   8.0        217        626      0.744      0.838      0.818      0.479\n",
            "                   8.3         18         28       0.16      0.214      0.158     0.0974\n",
            "                   9.0        169        292      0.579      0.722      0.636      0.335\n",
            "                   9.4         42         62      0.604      0.758      0.625      0.295\n",
            "                  10.0         76         78      0.336      0.769      0.362      0.262\n",
            "                  10.1          1          1          1          0          0          0\n",
            "                  11.0        263        669      0.632      0.924      0.746      0.399\n",
            "                  11.1         15         22      0.294     0.0909       0.13     0.0501\n",
            "                  13.0        167        168      0.589      0.804      0.735      0.552\n",
            "                  13.1         11         11          0          0     0.0641     0.0502\n",
            "                  13.2          2          2          1          0          0          0\n",
            "                  14.0        128        129      0.723       0.85      0.821      0.703\n",
            "                  14.1         21         21      0.371      0.524      0.473      0.389\n",
            "                  14.2         93         95        0.6      0.821      0.731      0.563\n",
            "                  19.0         94         94      0.523      0.574      0.548      0.379\n",
            "                  19.1          7          7          0          0      0.113     0.0661\n",
            "                  19.2          1          1          0          0          0          0\n",
            "                  19.3         65         65      0.618      0.462      0.548      0.286\n",
            "                  20.0         78         78      0.605      0.667      0.639      0.461\n",
            "                  20.1         48         49      0.419      0.531      0.493      0.307\n",
            "                  20.2         73         95      0.335      0.695      0.541      0.269\n",
            "                  20.3          3          3          1          0    0.00326   0.000326\n",
            "                  23.0        261        269      0.672      0.911      0.765      0.524\n",
            "                  23.1        173        205      0.491       0.61      0.534      0.273\n",
            "                  23.2          4          4      0.929       0.25      0.249     0.0354\n",
            "                  24.0         42         64      0.702      0.719      0.628      0.251\n",
            "                  24.1         74        123      0.409      0.344      0.288      0.102\n",
            "                  26.0        494        495      0.884      0.994      0.943      0.809\n",
            "                  26.1          5          5      0.149        0.2     0.0827     0.0643\n",
            "                  27.0        177        178       0.82      0.961      0.919      0.605\n",
            "                  28.0        244        244      0.888          1      0.959      0.814\n",
            "                  29.0        251        252      0.909      0.996      0.956      0.858\n",
            "                  29.1         16         16      0.163       0.25      0.169       0.14\n",
            "                  29.4          9          9          1          0      0.408      0.356\n",
            "                  30.0        194        373      0.881      0.954      0.929      0.577\n",
            "                  30.1         15         15      0.601      0.201      0.278      0.161\n",
            "                  32.0         72        142      0.938       0.93      0.959      0.653\n",
            "                  32.1          8         14      0.539      0.585      0.704      0.472\n",
            "                  32.2         45         85      0.643      0.671      0.717       0.47\n",
            "                  35.0        168        180      0.581      0.856      0.663       0.28\n",
            "                  35.1         49         56        0.4      0.476      0.397      0.133\n",
            "                  37.0        228        556      0.685      0.912      0.853       0.54\n",
            "                  37.1          1          1          1          0          0          0\n",
            "                  37.3          1          1          0          0     0.0355     0.0213\n",
            "                  37.4         41        117      0.718      0.957      0.917      0.591\n",
            "                  38.0        210        715      0.775      0.811      0.858      0.518\n",
            "                  38.1          4          5      0.391        0.4      0.296      0.166\n",
            "                  39.0        159        278      0.833      0.916      0.863      0.531\n",
            "                  39.1          6          6      0.303      0.333      0.336      0.148\n",
            "                  40.0        174        174      0.671      0.966      0.879      0.746\n",
            "                  40.1         29         29      0.375       0.62      0.498      0.381\n",
            "                  41.0        123        126      0.904      0.944      0.938        0.8\n",
            "                  41.1          8          8      0.375       0.25      0.314      0.244\n",
            "                  41.2          1          1          1          0          0          0\n",
            "                  42.0        109        109      0.928      0.949      0.957      0.666\n",
            "                  42.1         12         12      0.224      0.167       0.17     0.0591\n",
            "                  43.0        297       1166      0.931      0.972      0.969      0.797\n",
            "                  43.1         40         46      0.807      0.739      0.807      0.428\n",
            "                  44.0        242        243      0.904      0.963      0.954      0.712\n",
            "                  45.0        219        221      0.811      0.968       0.94      0.728\n",
            "                  45.1         69         70      0.398      0.757      0.555      0.223\n",
            "                  45.2          3          3      0.225      0.333      0.345      0.206\n",
            "                  46.0        138        362      0.683      0.837      0.794      0.364\n",
            "                  46.1         74        131      0.272       0.26      0.163     0.0399\n",
            "                  47.0        257        730      0.829      0.885      0.882      0.528\n",
            "                  47.1         79         87      0.638      0.736      0.595      0.224\n",
            "                  47.3          1          1          1          0          0          0\n",
            "                  48.0        226        263      0.581      0.825      0.751      0.383\n",
            "                  48.2          2          2          1          0          0          0\n",
            "                  49.0        179        186      0.721      0.855      0.813      0.533\n",
            "                  49.3         27         27      0.525      0.259      0.392      0.195\n",
            "                  49.4         40         41      0.256      0.634      0.561      0.325\n",
            "                  50.0         96         96      0.741      0.981      0.918        0.7\n",
            "                  50.1         44         46      0.692      0.804      0.804      0.527\n",
            "                  50.2          7          8          1          0     0.0306    0.00834\n",
            "                  51.0        367        367      0.793      0.965       0.92      0.821\n",
            "                  51.2         40         48      0.259      0.312      0.208      0.105\n",
            "                  51.3          5          7          0          0    0.00229    0.00138\n",
            "                  52.0        218        231       0.83      0.874      0.807      0.497\n",
            "                  52.3         18         18          0          0     0.0709      0.045\n",
            "                  52.5         21         21      0.502      0.625      0.598      0.189\n",
            "                  53.0        216        239      0.767      0.883      0.832      0.541\n",
            "                  53.4         20         22      0.469      0.409      0.303     0.0821\n",
            "                  53.5         29         30      0.173      0.396      0.183      0.131\n",
            "                  54.0        198        354      0.779      0.876      0.854       0.55\n",
            "                  54.4         67         91      0.355      0.297      0.269     0.0763\n",
            "                  54.5         19         24      0.192     0.0417     0.0604     0.0331\n",
            "                  55.0        227        414      0.821      0.894      0.856      0.493\n",
            "                  55.4         54         73      0.418      0.589       0.46      0.153\n",
            "                  55.5         12         15          1          0     0.0597      0.041\n",
            "                  56.0        269        801      0.882      0.973      0.946      0.794\n",
            "                  56.1          1          1          1          0          0          0\n",
            "                  56.2          5          5          0          0    0.00936    0.00527\n",
            "                  56.4          3          3          1          0      0.142      0.128\n",
            "                  57.0        294        852      0.911      0.956      0.951      0.708\n",
            "                  57.1          6          6          1          0      0.054     0.0378\n",
            "                  57.2          2          3          0          0          0          0\n",
            "                  58.0        277        278      0.941      0.989      0.964      0.761\n",
            "                  58.1          8          8      0.972      0.625      0.751      0.425\n",
            "                  58.2          2          2          1          0      0.033     0.0199\n",
            "                  59.0        284        284      0.949      0.986       0.98      0.821\n",
            "                  59.2          3          3          1          0     0.0206     0.0171\n",
            "                  59.3          3          3      0.717      0.869      0.913      0.649\n",
            "                  60.0        199        202      0.701      0.941      0.875      0.668\n",
            "                  60.1         29         36      0.652      0.365      0.452      0.177\n",
            "                  60.3         74         97      0.457      0.546      0.474      0.229\n",
            "                  61.0        291        291      0.943       0.99      0.985      0.814\n",
            "                  61.4          1          1          1          0     0.0112    0.00783\n",
            "Speed: 0.2ms preprocess, 2.5ms inference, 0.0ms loss, 1.5ms postprocess per image\n",
            "Results saved to \u001b[1m/content/drive/MyDrive/fiber_optic_box_inspection/runs_yolo/train_no_augmentations_\u001b[0m\n"
          ]
        }
      ]
    },
    {
      "cell_type": "markdown",
      "source": [
        "### resume train"
      ],
      "metadata": {
        "id": "UBlHGOVzO7yU"
      }
    },
    {
      "cell_type": "code",
      "source": [
        "model = YOLO(yolo_no_augmentations.get_last_weight_path()) # todo\n",
        "results = model.train(resume=True)"
      ],
      "metadata": {
        "id": "dW0XuGZQ0tsi"
      },
      "execution_count": null,
      "outputs": []
    },
    {
      "cell_type": "markdown",
      "source": [
        "### val"
      ],
      "metadata": {
        "id": "d9VErmCZW_N_"
      }
    },
    {
      "cell_type": "code",
      "source": [
        "model = YOLO(yolo_no_augmentations.get_best_weight_path()) # todo\n",
        "metrics = model.val(\n",
        "    data=local_paths['yolo_data_cfg'],\n",
        "    batch=32,\n",
        "    imgsz=IMGSZ,\n",
        "    save_json=True,\n",
        "    device=0,\n",
        "    plots=True,\n",
        "    project=paths['yolo_output_dir'],\n",
        "    name=yolo_no_augmentations.val_run_name, #todo\n",
        "    verbose=True,\n",
        "    save_txt=True,\n",
        "    save_conf=True,\n",
        "    workers=16,\n",
        ")"
      ],
      "metadata": {
        "colab": {
          "base_uri": "https://localhost:8080/"
        },
        "id": "EAeMoigKNMfe",
        "outputId": "6eeedaed-def5-4e20-a986-74135b2bf603"
      },
      "execution_count": null,
      "outputs": [
        {
          "output_type": "stream",
          "name": "stdout",
          "text": [
            "Ultralytics 8.3.160 🚀 Python-3.11.13 torch-2.6.0+cu124 CUDA:0 (NVIDIA A100-SXM4-40GB, 40507MiB)\n",
            "Model summary (fused): 92 layers, 25,939,927 parameters, 0 gradients, 79.2 GFLOPs\n",
            "Downloading https://ultralytics.com/assets/Arial.ttf to '/root/.config/Ultralytics/Arial.ttf'...\n"
          ]
        },
        {
          "output_type": "stream",
          "name": "stderr",
          "text": [
            "100%|██████████| 755k/755k [00:00<00:00, 124MB/s]"
          ]
        },
        {
          "output_type": "stream",
          "name": "stdout",
          "text": [
            "\u001b[34m\u001b[1mval: \u001b[0mFast image access ✅ (ping: 0.0±0.0 ms, read: 3034.8±660.4 MB/s, size: 120.3 KB)\n"
          ]
        },
        {
          "output_type": "stream",
          "name": "stderr",
          "text": [
            "\n",
            "\u001b[34m\u001b[1mval: \u001b[0mScanning /content/dataset_v2_ALL/image_label... 1684 images, 101 backgrounds, 0 corrupt: 100%|██████████| 1684/1684 [00:01<00:00, 1461.66it/s]"
          ]
        },
        {
          "output_type": "stream",
          "name": "stdout",
          "text": [
            "\u001b[34m\u001b[1mval: \u001b[0m/content/dataset_v2_ALL/image_label/2022_11_21_09_08_32-TNNP069058HO.jpg: 1 duplicate labels removed\n",
            "\u001b[34m\u001b[1mval: \u001b[0m/content/dataset_v2_ALL/image_label/2022_11_21_16_32_02-HBHP012062HO.jpg: 1 duplicate labels removed\n",
            "\u001b[34m\u001b[1mval: \u001b[0m/content/dataset_v2_ALL/image_label/2022_12_07_16_39_07-QNHP088205HO.jpg: 1 duplicate labels removed\n",
            "\u001b[34m\u001b[1mval: \u001b[0m/content/dataset_v2_ALL/image_label/2022_12_09_10_16_40-TBHP044214HO.jpg: 1 duplicate labels removed\n",
            "\u001b[34m\u001b[1mval: \u001b[0mNew cache created: /content/dataset_v2_ALL/image_label.cache\n"
          ]
        },
        {
          "output_type": "stream",
          "name": "stderr",
          "text": [
            "\n",
            "                 Class     Images  Instances      Box(P          R      mAP50  mAP50-95): 100%|██████████| 53/53 [01:23<00:00,  1.58s/it]\n"
          ]
        },
        {
          "output_type": "stream",
          "name": "stdout",
          "text": [
            "                   all       1684      17728       0.62       0.52      0.501      0.332\n",
            "                   1.0        146        146      0.676      0.942        0.8      0.681\n",
            "                   1.1         67         67      0.746      0.481      0.656      0.496\n",
            "                   1.2         27         27      0.352      0.563      0.418      0.302\n",
            "                   1.7         15         15      0.281      0.267      0.326      0.243\n",
            "                   2.0        255        256      0.917      0.955      0.955      0.826\n",
            "                   2.3          2          2          0          0          0          0\n",
            "                   3.0        245        245      0.924      0.927      0.933      0.588\n",
            "                   3.1          1          1          1          0     0.0905     0.0633\n",
            "                   5.0        240        478      0.944      0.955      0.962      0.656\n",
            "                   5.1          3          3          0          0       0.02     0.0116\n",
            "                   6.0        235        235      0.849      0.906      0.917      0.704\n",
            "                   7.0        208        208      0.778      0.885      0.864      0.567\n",
            "                   7.1         13         13      0.133      0.231      0.199      0.112\n",
            "                   7.2          5          5          1          0     0.0147    0.00411\n",
            "                   7.3          2          2          0          0          0          0\n",
            "                   7.7          3          3          1          0          0          0\n",
            "                   8.0        217        626      0.745      0.836      0.816      0.478\n",
            "                   8.3         18         28      0.137      0.179      0.157      0.102\n",
            "                   9.0        169        292      0.584      0.721      0.637      0.338\n",
            "                   9.4         42         62      0.605      0.774      0.625      0.298\n",
            "                  10.0         76         78      0.342      0.782       0.37      0.265\n",
            "                  10.1          1          1          1          0          0          0\n",
            "                  11.0        263        669      0.629      0.925      0.746      0.399\n",
            "                  11.1         15         22      0.296     0.0909      0.124     0.0552\n",
            "                  13.0        167        168      0.587      0.804      0.734      0.549\n",
            "                  13.1         11         11          0          0     0.0591     0.0441\n",
            "                  13.2          2          2          1          0          0          0\n",
            "                  14.0        128        129      0.732      0.849       0.82      0.701\n",
            "                  14.1         21         21      0.387      0.524      0.469      0.385\n",
            "                  14.2         93         95      0.598      0.832      0.732      0.562\n",
            "                  19.0         94         94      0.503      0.574      0.555      0.385\n",
            "                  19.1          7          7          0          0        0.1      0.065\n",
            "                  19.2          1          1          0          0          0          0\n",
            "                  19.3         65         65      0.614      0.477      0.539      0.279\n",
            "                  20.0         78         78      0.609      0.679      0.643      0.464\n",
            "                  20.1         48         49      0.419      0.531      0.498      0.315\n",
            "                  20.2         73         95      0.337      0.695      0.541      0.266\n",
            "                  20.3          3          3          1          0    0.00323   0.000323\n",
            "                  23.0        261        269      0.672      0.911      0.758      0.517\n",
            "                  23.1        173        205      0.484      0.599      0.523      0.268\n",
            "                  23.2          4          4      0.933       0.25      0.249     0.0293\n",
            "                  24.0         42         64      0.698      0.719      0.623      0.247\n",
            "                  24.1         74        123      0.408      0.341      0.285      0.101\n",
            "                  26.0        494        495      0.884      0.994      0.947      0.813\n",
            "                  26.1          5          5      0.179        0.2     0.0829     0.0645\n",
            "                  27.0        177        178      0.816      0.961      0.914      0.594\n",
            "                  28.0        244        244      0.888          1      0.961      0.813\n",
            "                  29.0        251        252      0.909      0.995      0.962      0.866\n",
            "                  29.1         16         16      0.176      0.312      0.206      0.171\n",
            "                  29.4          9          9          1          0      0.404      0.353\n",
            "                  30.0        194        373      0.881      0.952      0.927      0.574\n",
            "                  30.1         15         15        0.6        0.2      0.281      0.162\n",
            "                  32.0         72        142      0.939      0.937       0.96      0.653\n",
            "                  32.1          8         14      0.538      0.583      0.707      0.484\n",
            "                  32.2         45         85      0.674      0.671      0.719      0.474\n",
            "                  35.0        168        180      0.578       0.85      0.658      0.279\n",
            "                  35.1         49         56      0.394      0.476       0.41      0.133\n",
            "                  37.0        228        556      0.684      0.914      0.855      0.541\n",
            "                  37.1          1          1          1          0          0          0\n",
            "                  37.3          1          1          0          0     0.0343     0.0206\n",
            "                  37.4         41        117       0.72      0.957      0.917      0.591\n",
            "                  38.0        210        715      0.773      0.808      0.858       0.52\n",
            "                  38.1          4          5      0.393        0.4      0.296      0.166\n",
            "                  39.0        159        278      0.833      0.916      0.864      0.532\n",
            "                  39.1          6          6      0.305      0.333      0.337      0.149\n",
            "                  40.0        174        174      0.671      0.966      0.882      0.745\n",
            "                  40.1         29         29      0.365      0.615      0.495      0.378\n",
            "                  41.0        123        126      0.903      0.937      0.939      0.799\n",
            "                  41.1          8          8       0.32       0.25      0.304      0.235\n",
            "                  41.2          1          1          1          0          0          0\n",
            "                  42.0        109        109      0.928      0.949      0.957      0.666\n",
            "                  42.1         12         12      0.223      0.167      0.171     0.0592\n",
            "                  43.0        297       1166      0.932      0.971      0.969      0.797\n",
            "                  43.1         40         46      0.807      0.739      0.804      0.427\n",
            "                  44.0        242        243      0.906      0.963      0.954       0.71\n",
            "                  45.0        219        221      0.811      0.964      0.939      0.729\n",
            "                  45.1         69         70        0.4      0.751      0.556      0.224\n",
            "                  45.2          3          3      0.227      0.333      0.346      0.206\n",
            "                  46.0        138        362      0.683      0.831      0.795      0.365\n",
            "                  46.1         74        131      0.275       0.26      0.171     0.0411\n",
            "                  47.0        257        730      0.825       0.88       0.88      0.526\n",
            "                  47.1         79         87      0.632      0.736      0.596      0.224\n",
            "                  47.3          1          1          1          0          0          0\n",
            "                  48.0        226        263      0.579      0.822      0.749      0.382\n",
            "                  48.2          2          2          1          0          0          0\n",
            "                  49.0        179        186      0.725      0.855      0.814      0.535\n",
            "                  49.3         27         27      0.528      0.259      0.394      0.193\n",
            "                  49.4         40         41      0.259      0.634      0.561      0.326\n",
            "                  50.0         96         96      0.729      0.981      0.915      0.702\n",
            "                  50.1         44         46       0.68      0.804      0.804      0.525\n",
            "                  50.2          7          8          1          0     0.0307    0.00836\n",
            "                  51.0        367        367      0.793      0.967      0.917      0.819\n",
            "                  51.2         40         48      0.278      0.333      0.212      0.106\n",
            "                  51.3          5          7          0          0    0.00239    0.00143\n",
            "                  52.0        218        231      0.833       0.87      0.807      0.493\n",
            "                  52.3         18         18          0          0     0.0786     0.0471\n",
            "                  52.5         21         21      0.492      0.601      0.598      0.185\n",
            "                  53.0        216        239       0.77      0.883      0.832      0.542\n",
            "                  53.4         20         22      0.469      0.409      0.303     0.0798\n",
            "                  53.5         29         30      0.166      0.385      0.184      0.131\n",
            "                  54.0        198        354       0.78      0.876      0.856      0.548\n",
            "                  54.4         67         91      0.347      0.286      0.271     0.0807\n",
            "                  54.5         19         24      0.189     0.0417     0.0539     0.0302\n",
            "                  55.0        227        414      0.822      0.895      0.853      0.488\n",
            "                  55.4         54         73       0.41      0.575      0.454      0.149\n",
            "                  55.5         12         15          1          0     0.0602     0.0413\n",
            "                  56.0        269        801      0.879      0.973       0.94      0.787\n",
            "                  56.1          1          1          1          0          0          0\n",
            "                  56.2          5          5          0          0    0.00954    0.00449\n",
            "                  56.4          3          3          1          0      0.142      0.128\n",
            "                  57.0        294        852      0.909      0.956      0.951       0.71\n",
            "                  57.1          6          6          1          0     0.0539     0.0377\n",
            "                  57.2          2          3          0          0          0          0\n",
            "                  58.0        277        278      0.941      0.989      0.967      0.764\n",
            "                  58.1          8          8      0.973      0.625      0.752      0.443\n",
            "                  58.2          2          2          1          0      0.034     0.0231\n",
            "                  59.0        284        284      0.949      0.986       0.98      0.819\n",
            "                  59.2          3          3          1          0     0.0206     0.0171\n",
            "                  59.3          3          3      0.566      0.667      0.863      0.652\n",
            "                  60.0        199        202      0.707      0.941      0.875      0.665\n",
            "                  60.1         29         36      0.651      0.362      0.452      0.171\n",
            "                  60.3         74         97      0.467      0.536      0.478      0.231\n",
            "                  61.0        291        291      0.947      0.993      0.985      0.814\n",
            "                  61.4          1          1          1          0     0.0113    0.00791\n",
            "Speed: 0.6ms preprocess, 3.6ms inference, 0.0ms loss, 1.0ms postprocess per image\n",
            "Saving /content/drive/MyDrive/fiber_optic_box_inspection/runs_yolo/val_no_augmentations_3/predictions.json...\n",
            "Results saved to \u001b[1m/content/drive/MyDrive/fiber_optic_box_inspection/runs_yolo/val_no_augmentations_3\u001b[0m\n"
          ]
        }
      ]
    },
    {
      "cell_type": "markdown",
      "source": [
        "## 1 crop"
      ],
      "metadata": {
        "id": "wSAbkoDyIXXb"
      }
    },
    {
      "cell_type": "markdown",
      "source": [
        "### train"
      ],
      "metadata": {
        "id": "a4mcGpDdIXXc"
      }
    },
    {
      "cell_type": "code",
      "source": [
        "model = YOLO('yolov8m.pt')\n",
        "results = model.train(\n",
        "    data=local_paths['yolo_data_cfg_crop'], # todo\n",
        "    epochs=300,\n",
        "    patience=5,\n",
        "    batch=32,\n",
        "    imgsz=IMGSZ,\n",
        "    save_period=10,\n",
        "    cache='disk',\n",
        "    device=0,\n",
        "    workers=16,\n",
        "    project=paths['yolo_output_dir'],\n",
        "    name=yolo_1_crop.train_run_name, # todo\n",
        "    save_conf=True,\n",
        "    # augmentation\n",
        "    hsv_h=0.0,           # default 0.015\n",
        "    hsv_s=0.0,           # default 0.7\n",
        "    hsv_v=0.0,           # default 0.4\n",
        "    degrees=0.0,         # default 0.0\n",
        "    translate=0.0,       # default 0.1\n",
        "    scale=0.0,           # default 0.5\n",
        "    shear=0.0,           # default 0.0\n",
        "    perspective=0.0,     # default 0.0\n",
        "    flipud=0.0,          # default 0.0\n",
        "    fliplr=0.0,          # default 0.5\n",
        "    bgr=0.0,             # default 0.0\n",
        "    mosaic=0.0,          # default 1.0\n",
        "    mixup=0.0,           # default 0.0\n",
        "    cutmix=0.0,          # default 0.0\n",
        ")"
      ],
      "metadata": {
        "colab": {
          "base_uri": "https://localhost:8080/"
        },
        "collapsed": true,
        "id": "Cy96pp1VNd1Q",
        "outputId": "d09039e8-c838-40f7-e401-769c915c3bd7"
      },
      "execution_count": null,
      "outputs": [
        {
          "metadata": {
            "tags": null
          },
          "name": "stdout",
          "output_type": "stream",
          "text": [
            "Ultralytics 8.3.160 🚀 Python-3.11.13 torch-2.6.0+cu124 CUDA:0 (NVIDIA A100-SXM4-40GB, 40507MiB)\n",
            "\u001b[34m\u001b[1mengine/trainer: \u001b[0magnostic_nms=False, amp=True, augment=False, auto_augment=randaugment, batch=32, bgr=0.0, box=7.5, cache=disk, cfg=None, classes=None, close_mosaic=10, cls=0.5, conf=None, copy_paste=0.0, copy_paste_mode=flip, cos_lr=False, cutmix=0.0, data=/content/dataset_v2_ALL/yolo_data_cfg_1_crop.yaml, degrees=0.0, deterministic=True, device=0, dfl=1.5, dnn=False, dropout=0.0, dynamic=False, embed=None, epochs=300, erasing=0.4, exist_ok=False, fliplr=0.0, flipud=0.0, format=torchscript, fraction=1.0, freeze=None, half=False, hsv_h=0.0, hsv_s=0.0, hsv_v=0.0, imgsz=960, int8=False, iou=0.7, keras=False, kobj=1.0, line_width=None, lr0=0.01, lrf=0.01, mask_ratio=4, max_det=300, mixup=0.0, mode=train, model=yolov8m.pt, momentum=0.937, mosaic=0.0, multi_scale=False, name=train_1_crop_, nbs=64, nms=False, opset=None, optimize=False, optimizer=auto, overlap_mask=True, patience=5, perspective=0.0, plots=True, pose=12.0, pretrained=True, profile=False, project=/content/drive/MyDrive/fiber_optic_box_inspection/runs_yolo, rect=False, resume=False, retina_masks=False, save=True, save_conf=True, save_crop=False, save_dir=/content/drive/MyDrive/fiber_optic_box_inspection/runs_yolo/train_1_crop_, save_frames=False, save_json=False, save_period=10, save_txt=False, scale=0.0, seed=0, shear=0.0, show=False, show_boxes=True, show_conf=True, show_labels=True, simplify=True, single_cls=False, source=None, split=val, stream_buffer=False, task=detect, time=None, tracker=botsort.yaml, translate=0.0, val=True, verbose=True, vid_stride=1, visualize=False, warmup_bias_lr=0.1, warmup_epochs=3.0, warmup_momentum=0.8, weight_decay=0.0005, workers=16, workspace=None\n",
            "Overriding model.yaml nc=80 with nc=173\n",
            "\n",
            "                   from  n    params  module                                       arguments                     \n",
            "  0                  -1  1      1392  ultralytics.nn.modules.conv.Conv             [3, 48, 3, 2]                 \n",
            "  1                  -1  1     41664  ultralytics.nn.modules.conv.Conv             [48, 96, 3, 2]                \n",
            "  2                  -1  2    111360  ultralytics.nn.modules.block.C2f             [96, 96, 2, True]             \n",
            "  3                  -1  1    166272  ultralytics.nn.modules.conv.Conv             [96, 192, 3, 2]               \n",
            "  4                  -1  4    813312  ultralytics.nn.modules.block.C2f             [192, 192, 4, True]           \n",
            "  5                  -1  1    664320  ultralytics.nn.modules.conv.Conv             [192, 384, 3, 2]              \n",
            "  6                  -1  4   3248640  ultralytics.nn.modules.block.C2f             [384, 384, 4, True]           \n",
            "  7                  -1  1   1991808  ultralytics.nn.modules.conv.Conv             [384, 576, 3, 2]              \n",
            "  8                  -1  2   3985920  ultralytics.nn.modules.block.C2f             [576, 576, 2, True]           \n",
            "  9                  -1  1    831168  ultralytics.nn.modules.block.SPPF            [576, 576, 5]                 \n",
            " 10                  -1  1         0  torch.nn.modules.upsampling.Upsample         [None, 2, 'nearest']          \n",
            " 11             [-1, 6]  1         0  ultralytics.nn.modules.conv.Concat           [1]                           \n",
            " 12                  -1  2   1993728  ultralytics.nn.modules.block.C2f             [960, 384, 2]                 \n",
            " 13                  -1  1         0  torch.nn.modules.upsampling.Upsample         [None, 2, 'nearest']          \n",
            " 14             [-1, 4]  1         0  ultralytics.nn.modules.conv.Concat           [1]                           \n",
            " 15                  -1  2    517632  ultralytics.nn.modules.block.C2f             [576, 192, 2]                 \n",
            " 16                  -1  1    332160  ultralytics.nn.modules.conv.Conv             [192, 192, 3, 2]              \n",
            " 17            [-1, 12]  1         0  ultralytics.nn.modules.conv.Concat           [1]                           \n",
            " 18                  -1  2   1846272  ultralytics.nn.modules.block.C2f             [576, 384, 2]                 \n",
            " 19                  -1  1   1327872  ultralytics.nn.modules.conv.Conv             [384, 384, 3, 2]              \n",
            " 20             [-1, 9]  1         0  ultralytics.nn.modules.conv.Concat           [1]                           \n",
            " 21                  -1  2   4207104  ultralytics.nn.modules.block.C2f             [960, 576, 2]                 \n",
            " 22        [15, 18, 21]  1   3875863  ultralytics.nn.modules.head.Detect           [173, [192, 384, 576]]        \n",
            "Model summary: 169 layers, 25,956,487 parameters, 25,956,471 gradients, 79.6 GFLOPs\n",
            "\n",
            "Transferred 469/475 items from pretrained weights\n",
            "Freezing layer 'model.22.dfl.conv.weight'\n",
            "\u001b[34m\u001b[1mAMP: \u001b[0mrunning Automatic Mixed Precision (AMP) checks...\n",
            "\u001b[34m\u001b[1mAMP: \u001b[0mchecks passed ✅\n",
            "\u001b[34m\u001b[1mtrain: \u001b[0mFast image access ✅ (ping: 0.0±0.0 ms, read: 22.5±9.5 MB/s, size: 148.5 KB)\n"
          ]
        },
        {
          "metadata": {
            "tags": null
          },
          "name": "stderr",
          "output_type": "stream",
          "text": [
            "\u001b[34m\u001b[1mtrain: \u001b[0mScanning /content/dataset_v2_ALL/image_label... 11787 images, 704 backgrounds, 0 corrupt: 100%|██████████| 11787/11787 [00:11<00:00, 1037.59it/s]"
          ]
        },
        {
          "metadata": {
            "tags": null
          },
          "name": "stdout",
          "output_type": "stream",
          "text": [
            "\u001b[34m\u001b[1mtrain: \u001b[0m/content/dataset_v2_ALL/image_label/2022_11_03_15_29_32-HNIP456107HO.jpg: 1 duplicate labels removed\n",
            "\u001b[34m\u001b[1mtrain: \u001b[0m/content/dataset_v2_ALL/image_label/2022_11_10_14_59_59-HNIP120595HO.jpg: 1 duplicate labels removed\n",
            "\u001b[34m\u001b[1mtrain: \u001b[0m/content/dataset_v2_ALL/image_label/2022_11_11_09_10_09-PYNP016064HO.jpg: 1 duplicate labels removed\n",
            "\u001b[34m\u001b[1mtrain: \u001b[0m/content/dataset_v2_ALL/image_label/2022_11_11_09_59_56-BGGP089061HO.jpg: 1 duplicate labels removed\n",
            "\u001b[34m\u001b[1mtrain: \u001b[0m/content/dataset_v2_ALL/image_label/2022_11_14_16_04_38-HNIP548102HO.jpg: 1 duplicate labels removed\n",
            "\u001b[34m\u001b[1mtrain: \u001b[0m/content/dataset_v2_ALL/image_label/2022_11_16_08_43_48-HDGP141064HO.jpg: 1 duplicate labels removed\n",
            "\u001b[34m\u001b[1mtrain: \u001b[0m/content/dataset_v2_ALL/image_label/2022_11_16_10_35_33-GLIP038152HO.jpg: 1 duplicate labels removed\n",
            "\u001b[34m\u001b[1mtrain: \u001b[0m/content/dataset_v2_ALL/image_label/2022_11_16_15_40_51-HBHP012080HO.jpg: 1 duplicate labels removed\n",
            "\u001b[34m\u001b[1mtrain: \u001b[0m/content/dataset_v2_ALL/image_label/2022_11_17_15_10_14-TNNP063261HO.jpg: 1 duplicate labels removed\n",
            "\u001b[34m\u001b[1mtrain: \u001b[0m/content/dataset_v2_ALL/image_label/2022_12_06_15_18_24-TBHP019033HO.jpg: 1 duplicate labels removed\n",
            "\u001b[34m\u001b[1mtrain: \u001b[0m/content/dataset_v2_ALL/image_label/2022_12_08_10_14_33-HYNP074125HO.jpg: 1 duplicate labels removed\n",
            "\u001b[34m\u001b[1mtrain: \u001b[0m/content/dataset_v2_ALL/image_label_1_crop/2022_11_03_15_29_32-HNIP456107HO.jpg: 1 duplicate labels removed\n",
            "\u001b[34m\u001b[1mtrain: \u001b[0m/content/dataset_v2_ALL/image_label_1_crop/2022_11_10_14_59_59-HNIP120595HO.jpg: 1 duplicate labels removed\n",
            "\u001b[34m\u001b[1mtrain: \u001b[0m/content/dataset_v2_ALL/image_label_1_crop/2022_11_16_08_43_48-HDGP141064HO.jpg: 1 duplicate labels removed\n",
            "\u001b[34m\u001b[1mtrain: \u001b[0m/content/dataset_v2_ALL/image_label_1_crop/2022_11_16_15_40_51-HBHP012080HO.jpg: 1 duplicate labels removed\n",
            "\u001b[34m\u001b[1mtrain: \u001b[0m/content/dataset_v2_ALL/image_label_1_crop/2022_12_06_15_18_24-TBHP019033HO.jpg: 1 duplicate labels removed\n"
          ]
        },
        {
          "metadata": {
            "tags": null
          },
          "name": "stderr",
          "output_type": "stream",
          "text": [
            "\n"
          ]
        },
        {
          "metadata": {
            "tags": null
          },
          "name": "stdout",
          "output_type": "stream",
          "text": [
            "\u001b[34m\u001b[1mtrain: \u001b[0mNew cache created: /content/dataset_v2_ALL/image_label.cache\n"
          ]
        },
        {
          "metadata": {
            "tags": null
          },
          "name": "stderr",
          "output_type": "stream",
          "text": [
            "\u001b[34m\u001b[1mtrain: \u001b[0mCaching images (28.1GB Disk): 100%|██████████| 11787/11787 [00:28<00:00, 413.30it/s]"
          ]
        },
        {
          "metadata": {
            "tags": null
          },
          "name": "stdout",
          "output_type": "stream",
          "text": [
            "\u001b[34m\u001b[1malbumentations: \u001b[0mBlur(p=0.01, blur_limit=(3, 7)), MedianBlur(p=0.01, blur_limit=(3, 7)), ToGray(p=0.01, method='weighted_average', num_output_channels=3), CLAHE(p=0.01, clip_limit=(1.0, 4.0), tile_grid_size=(8, 8))\n"
          ]
        },
        {
          "metadata": {
            "tags": null
          },
          "name": "stderr",
          "output_type": "stream",
          "text": [
            "\n"
          ]
        },
        {
          "metadata": {
            "tags": null
          },
          "name": "stdout",
          "output_type": "stream",
          "text": [
            "\u001b[34m\u001b[1mval: \u001b[0mFast image access ✅ (ping: 0.0±0.1 ms, read: 975.5±548.4 MB/s, size: 128.9 KB)\n"
          ]
        },
        {
          "metadata": {
            "tags": null
          },
          "name": "stderr",
          "output_type": "stream",
          "text": [
            "\u001b[34m\u001b[1mval: \u001b[0mScanning /content/dataset_v2_ALL/image_label... 1684 images, 101 backgrounds, 0 corrupt: 100%|██████████| 1684/1684 [00:01<00:00, 1200.70it/s]"
          ]
        },
        {
          "metadata": {
            "tags": null
          },
          "name": "stdout",
          "output_type": "stream",
          "text": [
            "\u001b[34m\u001b[1mval: \u001b[0m/content/dataset_v2_ALL/image_label/2022_11_21_09_08_32-TNNP069058HO.jpg: 1 duplicate labels removed\n",
            "\u001b[34m\u001b[1mval: \u001b[0m/content/dataset_v2_ALL/image_label/2022_11_21_16_32_02-HBHP012062HO.jpg: 1 duplicate labels removed\n",
            "\u001b[34m\u001b[1mval: \u001b[0m/content/dataset_v2_ALL/image_label/2022_12_07_16_39_07-QNHP088205HO.jpg: 1 duplicate labels removed\n",
            "\u001b[34m\u001b[1mval: \u001b[0m/content/dataset_v2_ALL/image_label/2022_12_09_10_16_40-TBHP044214HO.jpg: 1 duplicate labels removed\n",
            "\u001b[34m\u001b[1mval: \u001b[0mNew cache created: /content/dataset_v2_ALL/image_label.cache\n"
          ]
        },
        {
          "metadata": {
            "tags": null
          },
          "name": "stderr",
          "output_type": "stream",
          "text": [
            "\n",
            "\u001b[34m\u001b[1mval: \u001b[0mCaching images (3.8GB Disk): 100%|██████████| 1684/1684 [00:00<00:00, 39831.99it/s]\n"
          ]
        },
        {
          "metadata": {
            "tags": null
          },
          "name": "stdout",
          "output_type": "stream",
          "text": [
            "Plotting labels to /content/drive/MyDrive/fiber_optic_box_inspection/runs_yolo/train_1_crop_/labels.jpg... \n",
            "\u001b[34m\u001b[1moptimizer:\u001b[0m 'optimizer=auto' found, ignoring 'lr0=0.01' and 'momentum=0.937' and determining best 'optimizer', 'lr0' and 'momentum' automatically... \n",
            "\u001b[34m\u001b[1moptimizer:\u001b[0m SGD(lr=0.01, momentum=0.9) with parameter groups 77 weight(decay=0.0), 84 weight(decay=0.0005), 83 bias(decay=0.0)\n",
            "Image sizes 960 train, 960 val\n",
            "Using 12 dataloader workers\n",
            "Logging results to \u001b[1m/content/drive/MyDrive/fiber_optic_box_inspection/runs_yolo/train_1_crop_\u001b[0m\n",
            "Starting training for 300 epochs...\n",
            "\n",
            "      Epoch    GPU_mem   box_loss   cls_loss   dfl_loss  Instances       Size\n"
          ]
        },
        {
          "metadata": {
            "tags": null
          },
          "name": "stderr",
          "output_type": "stream",
          "text": [
            "      1/300        27G      1.532      2.533      1.718        117        960: 100%|██████████| 369/369 [02:50<00:00,  2.17it/s]\n",
            "                 Class     Images  Instances      Box(P          R      mAP50  mAP50-95): 100%|██████████| 27/27 [00:11<00:00,  2.35it/s]\n"
          ]
        },
        {
          "metadata": {
            "tags": null
          },
          "name": "stdout",
          "output_type": "stream",
          "text": [
            "                   all       1684      17728      0.724      0.411      0.389      0.251\n",
            "\n",
            "      Epoch    GPU_mem   box_loss   cls_loss   dfl_loss  Instances       Size\n"
          ]
        },
        {
          "metadata": {
            "tags": null
          },
          "name": "stderr",
          "output_type": "stream",
          "text": [
            "      2/300      27.2G      1.145      1.017      1.375        101        960: 100%|██████████| 369/369 [02:45<00:00,  2.23it/s]\n",
            "                 Class     Images  Instances      Box(P          R      mAP50  mAP50-95): 100%|██████████| 27/27 [00:10<00:00,  2.49it/s]\n"
          ]
        },
        {
          "metadata": {
            "tags": null
          },
          "name": "stdout",
          "output_type": "stream",
          "text": [
            "                   all       1684      17728      0.647      0.474      0.458      0.299\n",
            "\n",
            "      Epoch    GPU_mem   box_loss   cls_loss   dfl_loss  Instances       Size\n"
          ]
        },
        {
          "metadata": {
            "tags": null
          },
          "name": "stderr",
          "output_type": "stream",
          "text": [
            "      3/300      27.2G      1.125     0.8965       1.36         80        960: 100%|██████████| 369/369 [02:43<00:00,  2.25it/s]\n",
            "                 Class     Images  Instances      Box(P          R      mAP50  mAP50-95): 100%|██████████| 27/27 [00:10<00:00,  2.46it/s]\n"
          ]
        },
        {
          "metadata": {
            "tags": null
          },
          "name": "stdout",
          "output_type": "stream",
          "text": [
            "                   all       1684      17728       0.65      0.435      0.413      0.262\n",
            "\n",
            "      Epoch    GPU_mem   box_loss   cls_loss   dfl_loss  Instances       Size\n"
          ]
        },
        {
          "metadata": {
            "tags": null
          },
          "name": "stderr",
          "output_type": "stream",
          "text": [
            "      4/300      27.3G      1.138     0.8685      1.373        165        960: 100%|██████████| 369/369 [02:44<00:00,  2.25it/s]\n",
            "                 Class     Images  Instances      Box(P          R      mAP50  mAP50-95): 100%|██████████| 27/27 [00:10<00:00,  2.52it/s]\n"
          ]
        },
        {
          "metadata": {
            "tags": null
          },
          "name": "stdout",
          "output_type": "stream",
          "text": [
            "                   all       1684      17728      0.636      0.459      0.441      0.284\n",
            "\n",
            "      Epoch    GPU_mem   box_loss   cls_loss   dfl_loss  Instances       Size\n"
          ]
        },
        {
          "metadata": {
            "tags": null
          },
          "name": "stderr",
          "output_type": "stream",
          "text": [
            "      5/300        27G      1.089     0.7906      1.336        142        960: 100%|██████████| 369/369 [02:43<00:00,  2.26it/s]\n",
            "                 Class     Images  Instances      Box(P          R      mAP50  mAP50-95): 100%|██████████| 27/27 [00:10<00:00,  2.49it/s]\n"
          ]
        },
        {
          "metadata": {
            "tags": null
          },
          "name": "stdout",
          "output_type": "stream",
          "text": [
            "                   all       1684      17728      0.668      0.462       0.45      0.289\n",
            "\n",
            "      Epoch    GPU_mem   box_loss   cls_loss   dfl_loss  Instances       Size\n"
          ]
        },
        {
          "metadata": {
            "tags": null
          },
          "name": "stderr",
          "output_type": "stream",
          "text": [
            "      6/300      27.3G      1.045     0.7392      1.306        112        960: 100%|██████████| 369/369 [02:42<00:00,  2.26it/s]\n",
            "                 Class     Images  Instances      Box(P          R      mAP50  mAP50-95): 100%|██████████| 27/27 [00:10<00:00,  2.51it/s]\n"
          ]
        },
        {
          "metadata": {
            "tags": null
          },
          "name": "stdout",
          "output_type": "stream",
          "text": [
            "                   all       1684      17728       0.69       0.49       0.48      0.312\n",
            "\n",
            "      Epoch    GPU_mem   box_loss   cls_loss   dfl_loss  Instances       Size\n"
          ]
        },
        {
          "metadata": {
            "tags": null
          },
          "name": "stderr",
          "output_type": "stream",
          "text": [
            "      7/300      27.2G      1.006     0.6953      1.276        111        960: 100%|██████████| 369/369 [02:42<00:00,  2.26it/s]\n",
            "                 Class     Images  Instances      Box(P          R      mAP50  mAP50-95): 100%|██████████| 27/27 [00:11<00:00,  2.35it/s]\n"
          ]
        },
        {
          "metadata": {
            "tags": null
          },
          "name": "stdout",
          "output_type": "stream",
          "text": [
            "                   all       1684      17728      0.689       0.49      0.491      0.321\n",
            "\n",
            "      Epoch    GPU_mem   box_loss   cls_loss   dfl_loss  Instances       Size\n"
          ]
        },
        {
          "metadata": {
            "tags": null
          },
          "name": "stderr",
          "output_type": "stream",
          "text": [
            "      8/300      27.3G     0.9686     0.6558      1.249        147        960: 100%|██████████| 369/369 [02:43<00:00,  2.25it/s]\n",
            "                 Class     Images  Instances      Box(P          R      mAP50  mAP50-95): 100%|██████████| 27/27 [00:10<00:00,  2.54it/s]\n"
          ]
        },
        {
          "metadata": {
            "tags": null
          },
          "name": "stdout",
          "output_type": "stream",
          "text": [
            "                   all       1684      17728      0.624      0.519      0.496      0.328\n",
            "\n",
            "      Epoch    GPU_mem   box_loss   cls_loss   dfl_loss  Instances       Size\n"
          ]
        },
        {
          "metadata": {
            "tags": null
          },
          "name": "stderr",
          "output_type": "stream",
          "text": [
            "      9/300        27G     0.9308     0.6204      1.221         82        960: 100%|██████████| 369/369 [02:44<00:00,  2.25it/s]\n",
            "                 Class     Images  Instances      Box(P          R      mAP50  mAP50-95): 100%|██████████| 27/27 [00:10<00:00,  2.55it/s]\n"
          ]
        },
        {
          "metadata": {
            "tags": null
          },
          "name": "stdout",
          "output_type": "stream",
          "text": [
            "                   all       1684      17728      0.631      0.498      0.488      0.322\n",
            "\n",
            "      Epoch    GPU_mem   box_loss   cls_loss   dfl_loss  Instances       Size\n"
          ]
        },
        {
          "metadata": {
            "tags": null
          },
          "name": "stderr",
          "output_type": "stream",
          "text": [
            "     10/300      27.3G     0.8938     0.5919      1.195        128        960: 100%|██████████| 369/369 [02:43<00:00,  2.26it/s]\n",
            "                 Class     Images  Instances      Box(P          R      mAP50  mAP50-95): 100%|██████████| 27/27 [00:13<00:00,  2.05it/s]\n"
          ]
        },
        {
          "metadata": {
            "tags": null
          },
          "name": "stdout",
          "output_type": "stream",
          "text": [
            "                   all       1684      17728      0.651      0.517      0.502      0.335\n",
            "\n",
            "      Epoch    GPU_mem   box_loss   cls_loss   dfl_loss  Instances       Size\n"
          ]
        },
        {
          "metadata": {
            "tags": null
          },
          "name": "stderr",
          "output_type": "stream",
          "text": [
            "     11/300      27.2G     0.8604      0.562      1.171        135        960: 100%|██████████| 369/369 [02:42<00:00,  2.26it/s]\n",
            "                 Class     Images  Instances      Box(P          R      mAP50  mAP50-95): 100%|██████████| 27/27 [00:10<00:00,  2.54it/s]\n"
          ]
        },
        {
          "metadata": {
            "tags": null
          },
          "name": "stdout",
          "output_type": "stream",
          "text": [
            "                   all       1684      17728      0.694      0.497      0.496       0.33\n",
            "\n",
            "      Epoch    GPU_mem   box_loss   cls_loss   dfl_loss  Instances       Size\n"
          ]
        },
        {
          "metadata": {
            "tags": null
          },
          "name": "stderr",
          "output_type": "stream",
          "text": [
            "     12/300      27.4G     0.8251     0.5349      1.145         97        960: 100%|██████████| 369/369 [02:43<00:00,  2.25it/s]\n",
            "                 Class     Images  Instances      Box(P          R      mAP50  mAP50-95): 100%|██████████| 27/27 [00:11<00:00,  2.35it/s]\n"
          ]
        },
        {
          "metadata": {
            "tags": null
          },
          "name": "stdout",
          "output_type": "stream",
          "text": [
            "                   all       1684      17728      0.614      0.508      0.511      0.339\n",
            "\n",
            "      Epoch    GPU_mem   box_loss   cls_loss   dfl_loss  Instances       Size\n"
          ]
        },
        {
          "metadata": {
            "tags": null
          },
          "name": "stderr",
          "output_type": "stream",
          "text": [
            "     13/300        27G     0.7896     0.5054       1.12         87        960: 100%|██████████| 369/369 [02:42<00:00,  2.27it/s]\n",
            "                 Class     Images  Instances      Box(P          R      mAP50  mAP50-95): 100%|██████████| 27/27 [00:10<00:00,  2.56it/s]\n"
          ]
        },
        {
          "metadata": {
            "tags": null
          },
          "name": "stdout",
          "output_type": "stream",
          "text": [
            "                   all       1684      17728      0.593       0.52      0.498      0.331\n",
            "\n",
            "      Epoch    GPU_mem   box_loss   cls_loss   dfl_loss  Instances       Size\n"
          ]
        },
        {
          "metadata": {
            "tags": null
          },
          "name": "stderr",
          "output_type": "stream",
          "text": [
            "     14/300      27.3G     0.7622     0.4837        1.1        131        960: 100%|██████████| 369/369 [02:43<00:00,  2.26it/s]\n",
            "                 Class     Images  Instances      Box(P          R      mAP50  mAP50-95): 100%|██████████| 27/27 [00:11<00:00,  2.39it/s]\n"
          ]
        },
        {
          "metadata": {
            "tags": null
          },
          "name": "stdout",
          "output_type": "stream",
          "text": [
            "                   all       1684      17728      0.604      0.544      0.512      0.336\n",
            "\n",
            "      Epoch    GPU_mem   box_loss   cls_loss   dfl_loss  Instances       Size\n"
          ]
        },
        {
          "metadata": {
            "tags": null
          },
          "name": "stderr",
          "output_type": "stream",
          "text": [
            "     15/300        27G     0.7332     0.4614      1.079         84        960: 100%|██████████| 369/369 [02:42<00:00,  2.26it/s]\n",
            "                 Class     Images  Instances      Box(P          R      mAP50  mAP50-95): 100%|██████████| 27/27 [00:10<00:00,  2.57it/s]\n"
          ]
        },
        {
          "metadata": {
            "tags": null
          },
          "name": "stdout",
          "output_type": "stream",
          "text": [
            "                   all       1684      17728      0.604      0.534      0.509      0.341\n",
            "\n",
            "      Epoch    GPU_mem   box_loss   cls_loss   dfl_loss  Instances       Size\n"
          ]
        },
        {
          "metadata": {
            "tags": null
          },
          "name": "stderr",
          "output_type": "stream",
          "text": [
            "     16/300      27.4G     0.7033     0.4407      1.058        112        960: 100%|██████████| 369/369 [02:43<00:00,  2.26it/s]\n",
            "                 Class     Images  Instances      Box(P          R      mAP50  mAP50-95): 100%|██████████| 27/27 [00:10<00:00,  2.56it/s]\n"
          ]
        },
        {
          "metadata": {
            "tags": null
          },
          "name": "stdout",
          "output_type": "stream",
          "text": [
            "                   all       1684      17728      0.637      0.519      0.499       0.33\n",
            "\n",
            "      Epoch    GPU_mem   box_loss   cls_loss   dfl_loss  Instances       Size\n"
          ]
        },
        {
          "metadata": {
            "tags": null
          },
          "name": "stderr",
          "output_type": "stream",
          "text": [
            "     17/300      27.2G      0.679     0.4208       1.04         94        960: 100%|██████████| 369/369 [02:42<00:00,  2.27it/s]\n",
            "                 Class     Images  Instances      Box(P          R      mAP50  mAP50-95): 100%|██████████| 27/27 [00:11<00:00,  2.45it/s]\n"
          ]
        },
        {
          "metadata": {
            "tags": null
          },
          "name": "stdout",
          "output_type": "stream",
          "text": [
            "                   all       1684      17728       0.57       0.54      0.516      0.343\n",
            "\n",
            "      Epoch    GPU_mem   box_loss   cls_loss   dfl_loss  Instances       Size\n"
          ]
        },
        {
          "metadata": {
            "tags": null
          },
          "name": "stderr",
          "output_type": "stream",
          "text": [
            "     18/300      27.4G     0.6544     0.4063      1.023        117        960: 100%|██████████| 369/369 [02:43<00:00,  2.25it/s]\n",
            "                 Class     Images  Instances      Box(P          R      mAP50  mAP50-95): 100%|██████████| 27/27 [00:11<00:00,  2.35it/s]\n"
          ]
        },
        {
          "metadata": {
            "tags": null
          },
          "name": "stdout",
          "output_type": "stream",
          "text": [
            "                   all       1684      17728      0.653      0.509      0.504      0.334\n",
            "\n",
            "      Epoch    GPU_mem   box_loss   cls_loss   dfl_loss  Instances       Size\n"
          ]
        },
        {
          "metadata": {
            "tags": null
          },
          "name": "stderr",
          "output_type": "stream",
          "text": [
            "     19/300      27.2G     0.6327     0.3891      1.007         81        960: 100%|██████████| 369/369 [02:44<00:00,  2.24it/s]\n",
            "                 Class     Images  Instances      Box(P          R      mAP50  mAP50-95): 100%|██████████| 27/27 [00:10<00:00,  2.57it/s]\n"
          ]
        },
        {
          "metadata": {
            "tags": null
          },
          "name": "stdout",
          "output_type": "stream",
          "text": [
            "                   all       1684      17728       0.59      0.521      0.509      0.341\n",
            "\n",
            "      Epoch    GPU_mem   box_loss   cls_loss   dfl_loss  Instances       Size\n"
          ]
        },
        {
          "metadata": {
            "tags": null
          },
          "name": "stderr",
          "output_type": "stream",
          "text": [
            "     20/300      27.4G     0.6107     0.3754     0.9922         81        960: 100%|██████████| 369/369 [02:45<00:00,  2.23it/s]\n",
            "                 Class     Images  Instances      Box(P          R      mAP50  mAP50-95): 100%|██████████| 27/27 [00:10<00:00,  2.56it/s]\n"
          ]
        },
        {
          "metadata": {
            "tags": null
          },
          "name": "stdout",
          "output_type": "stream",
          "text": [
            "                   all       1684      17728      0.633       0.51      0.504      0.337\n",
            "\n",
            "      Epoch    GPU_mem   box_loss   cls_loss   dfl_loss  Instances       Size\n"
          ]
        },
        {
          "metadata": {
            "tags": null
          },
          "name": "stderr",
          "output_type": "stream",
          "text": [
            "     21/300      26.9G     0.5914     0.3625     0.9794         82        960: 100%|██████████| 369/369 [02:46<00:00,  2.21it/s]\n",
            "                 Class     Images  Instances      Box(P          R      mAP50  mAP50-95): 100%|██████████| 27/27 [00:10<00:00,  2.55it/s]\n"
          ]
        },
        {
          "metadata": {
            "tags": null
          },
          "name": "stdout",
          "output_type": "stream",
          "text": [
            "                   all       1684      17728      0.595      0.531       0.51      0.339\n",
            "\n",
            "      Epoch    GPU_mem   box_loss   cls_loss   dfl_loss  Instances       Size\n"
          ]
        },
        {
          "output_type": "stream",
          "name": "stderr",
          "text": [
            "     22/300      27.3G     0.5736     0.3505     0.9667        117        960: 100%|██████████| 369/369 [02:44<00:00,  2.24it/s]\n",
            "                 Class     Images  Instances      Box(P          R      mAP50  mAP50-95): 100%|██████████| 27/27 [00:10<00:00,  2.51it/s]\n"
          ]
        },
        {
          "output_type": "stream",
          "name": "stdout",
          "text": [
            "                   all       1684      17728      0.609      0.495        0.5      0.335\n",
            "\u001b[34m\u001b[1mEarlyStopping: \u001b[0mTraining stopped early as no improvement observed in last 5 epochs. Best results observed at epoch 17, best model saved as best.pt.\n",
            "To update EarlyStopping(patience=5) pass a new patience value, i.e. `patience=300` or use `patience=0` to disable EarlyStopping.\n",
            "\n",
            "22 epochs completed in 1.077 hours.\n",
            "Optimizer stripped from /content/drive/MyDrive/fiber_optic_box_inspection/runs_yolo/train_1_crop_/weights/last.pt, 52.2MB\n",
            "Optimizer stripped from /content/drive/MyDrive/fiber_optic_box_inspection/runs_yolo/train_1_crop_/weights/best.pt, 52.2MB\n",
            "\n",
            "Validating /content/drive/MyDrive/fiber_optic_box_inspection/runs_yolo/train_1_crop_/weights/best.pt...\n",
            "Ultralytics 8.3.160 🚀 Python-3.11.13 torch-2.6.0+cu124 CUDA:0 (NVIDIA A100-SXM4-40GB, 40507MiB)\n",
            "Model summary (fused): 92 layers, 25,939,927 parameters, 0 gradients, 79.2 GFLOPs\n"
          ]
        },
        {
          "output_type": "stream",
          "name": "stderr",
          "text": [
            "                 Class     Images  Instances      Box(P          R      mAP50  mAP50-95): 100%|██████████| 27/27 [00:24<00:00,  1.11it/s]\n"
          ]
        },
        {
          "output_type": "stream",
          "name": "stdout",
          "text": [
            "                   all       1684      17728       0.57      0.541      0.516      0.342\n",
            "                   1.0        146        146      0.685      0.894      0.827      0.704\n",
            "                   1.1         67         67      0.636      0.731      0.679       0.51\n",
            "                   1.2         27         27      0.421      0.592      0.437      0.302\n",
            "                   1.7         15         15      0.125      0.267      0.172      0.141\n",
            "                   2.0        255        256      0.914      0.945       0.93      0.812\n",
            "                   2.3          2          2          0          0          0          0\n",
            "                   3.0        245        245      0.898      0.914      0.914      0.584\n",
            "                   3.1          1          1          0          0          0          0\n",
            "                   5.0        240        478      0.943      0.946       0.96      0.667\n",
            "                   5.1          3          3          0          0     0.0415     0.0271\n",
            "                   6.0        235        235      0.855      0.902        0.9      0.653\n",
            "                   7.0        208        208      0.782      0.844      0.862      0.557\n",
            "                   7.1         13         13      0.185      0.385      0.235      0.113\n",
            "                   7.2          5          5          0          0     0.0272    0.00808\n",
            "                   7.3          2          2          1          0          0          0\n",
            "                   7.7          3          3          0          0          0          0\n",
            "                   8.0        217        626      0.743       0.83      0.813      0.482\n",
            "                   8.3         18         28      0.201      0.286      0.252      0.154\n",
            "                   9.0        169        292      0.667      0.678      0.687      0.364\n",
            "                   9.4         42         62      0.633      0.667      0.645      0.281\n",
            "                  10.0         76         78      0.345      0.705      0.397      0.289\n",
            "                  10.1          1          1          1          0          0          0\n",
            "                  11.0        263        669      0.695       0.88      0.791      0.435\n",
            "                  11.1         15         22      0.347      0.182      0.181     0.0746\n",
            "                  13.0        167        168      0.593      0.732      0.706      0.526\n",
            "                  13.1         11         11      0.239     0.0869      0.102      0.085\n",
            "                  13.2          2          2          1          0          0          0\n",
            "                  14.0        128        129      0.586       0.93      0.845      0.709\n",
            "                  14.1         21         21      0.381      0.714      0.497      0.401\n",
            "                  14.2         93         95       0.74      0.842      0.829        0.6\n",
            "                  19.0         94         94      0.502      0.553      0.513      0.361\n",
            "                  19.1          7          7      0.214      0.143      0.211      0.146\n",
            "                  19.2          1          1          1          0          0          0\n",
            "                  19.3         65         65      0.453      0.431      0.447      0.236\n",
            "                  20.0         78         78      0.536      0.705      0.607      0.416\n",
            "                  20.1         48         49      0.439      0.592       0.53      0.345\n",
            "                  20.2         73         95      0.529      0.632      0.569      0.302\n",
            "                  20.3          3          3          0          0          0          0\n",
            "                  23.0        261        269      0.662        0.9      0.779      0.522\n",
            "                  23.1        173        205      0.423      0.624      0.524      0.269\n",
            "                  23.2          4          4          0          0     0.0259    0.00892\n",
            "                  24.0         42         64      0.673      0.719      0.655      0.295\n",
            "                  24.1         74        123      0.399      0.415      0.366      0.124\n",
            "                  26.0        494        495      0.893      0.982      0.938      0.816\n",
            "                  26.1          5          5          1          0       0.24      0.168\n",
            "                  27.0        177        178      0.822      0.927      0.901      0.555\n",
            "                  28.0        244        244      0.879      0.983      0.964      0.822\n",
            "                  29.0        251        252      0.913      0.993      0.959      0.857\n",
            "                  29.1         16         16      0.181       0.29      0.147      0.113\n",
            "                  29.4          9          9      0.212     0.0706      0.331      0.291\n",
            "                  30.0        194        373      0.883      0.952      0.935      0.577\n",
            "                  30.1         15         15      0.433        0.4      0.384      0.222\n",
            "                  32.0         72        142      0.866      0.972      0.961      0.645\n",
            "                  32.1          8         14      0.747      0.786      0.796      0.487\n",
            "                  32.2         45         85      0.631      0.835      0.748      0.453\n",
            "                  35.0        168        180      0.633      0.828      0.744      0.315\n",
            "                  35.1         49         56      0.489      0.411      0.419      0.145\n",
            "                  37.0        228        556      0.731      0.897      0.851      0.543\n",
            "                  37.1          1          1          0          0          0          0\n",
            "                  37.3          1          1          0          0     0.0415     0.0249\n",
            "                  37.4         41        117      0.825      0.897      0.909      0.586\n",
            "                  38.0        210        715      0.726      0.845      0.855      0.503\n",
            "                  38.1          4          5      0.133        0.4      0.232      0.137\n",
            "                  39.0        159        278      0.776      0.903      0.891       0.56\n",
            "                  39.1          6          6      0.206      0.333      0.336      0.185\n",
            "                  40.0        174        174      0.723      0.954      0.856      0.733\n",
            "                  40.1         29         29       0.63      0.528      0.629      0.475\n",
            "                  41.0        123        126      0.898      0.937      0.932      0.805\n",
            "                  41.1          8          8          1          0      0.485      0.447\n",
            "                  41.2          1          1          1          0      0.016     0.0144\n",
            "                  42.0        109        109      0.901      0.972      0.972      0.644\n",
            "                  42.1         12         12      0.163      0.167      0.186      0.047\n",
            "                  43.0        297       1166      0.947      0.958      0.971      0.804\n",
            "                  43.1         40         46       0.71      0.826      0.874      0.491\n",
            "                  44.0        242        243      0.928      0.959      0.958      0.679\n",
            "                  45.0        219        221       0.84      0.941      0.943       0.72\n",
            "                  45.1         69         70      0.422      0.614      0.499      0.211\n",
            "                  45.2          3          3          1          0       0.22       0.12\n",
            "                  46.0        138        362       0.73      0.765      0.771       0.36\n",
            "                  46.1         74        131      0.244      0.252      0.146     0.0377\n",
            "                  47.0        257        730       0.83       0.89      0.873      0.496\n",
            "                  47.1         79         87      0.587       0.69      0.636      0.269\n",
            "                  47.3          1          1          1          0          0          0\n",
            "                  48.0        226        263      0.578      0.865      0.758      0.395\n",
            "                  48.2          2          2          1          0          0          0\n",
            "                  49.0        179        186      0.701       0.86      0.776      0.504\n",
            "                  49.3         27         27      0.433      0.444      0.351       0.16\n",
            "                  49.4         40         41      0.556      0.488      0.526      0.303\n",
            "                  50.0         96         96      0.816      0.938      0.869      0.692\n",
            "                  50.1         44         46      0.794      0.804      0.844      0.556\n",
            "                  50.2          7          8       0.57      0.125      0.129     0.0134\n",
            "                  51.0        367        367       0.82      0.954      0.898      0.804\n",
            "                  51.2         40         48      0.232      0.417      0.309      0.126\n",
            "                  51.3          5          7          0          0    0.00345    0.00104\n",
            "                  52.0        218        231      0.851      0.864      0.821      0.499\n",
            "                  52.3         18         18     0.0861      0.167     0.0747     0.0504\n",
            "                  52.5         21         21      0.513      0.714      0.568      0.165\n",
            "                  53.0        216        239      0.803      0.879      0.828      0.525\n",
            "                  53.4         20         22      0.305      0.273      0.223     0.0666\n",
            "                  53.5         29         30      0.123        0.3      0.181      0.129\n",
            "                  54.0        198        354       0.84      0.859      0.878      0.547\n",
            "                  54.4         67         91      0.316      0.275      0.225     0.0624\n",
            "                  54.5         19         24      0.051      0.125     0.0316     0.0138\n",
            "                  55.0        227        414      0.834      0.901      0.883      0.497\n",
            "                  55.4         54         73      0.466      0.563      0.476      0.174\n",
            "                  55.5         12         15      0.108        0.2      0.117     0.0873\n",
            "                  56.0        269        801      0.898      0.971      0.939      0.788\n",
            "                  56.1          1          1          1          0      0.166     0.0498\n",
            "                  56.2          5          5          0          0     0.0398     0.0264\n",
            "                  56.4          3          3      0.677      0.333        0.5      0.431\n",
            "                  57.0        294        852      0.887      0.961       0.96      0.726\n",
            "                  57.1          6          6      0.382      0.313      0.246      0.178\n",
            "                  57.2          2          3          0          0          0          0\n",
            "                  58.0        277        278      0.964      0.971      0.972      0.771\n",
            "                  58.1          8          8      0.203       0.75      0.722      0.476\n",
            "                  58.2          2          2      0.382          1      0.497      0.312\n",
            "                  59.0        284        284      0.956      0.983      0.974      0.821\n",
            "                  59.2          3          3          1          0     0.0158     0.0142\n",
            "                  59.3          3          3          1      0.986      0.995      0.813\n",
            "                  60.0        199        202      0.746      0.936       0.88      0.661\n",
            "                  60.1         29         36      0.439      0.417      0.416      0.167\n",
            "                  60.3         74         97      0.404      0.567      0.427      0.196\n",
            "                  61.0        291        291      0.952          1       0.98      0.798\n",
            "                  61.4          1          1          0          0    0.00535    0.00374\n",
            "Speed: 0.2ms preprocess, 2.4ms inference, 0.0ms loss, 3.2ms postprocess per image\n",
            "Results saved to \u001b[1m/content/drive/MyDrive/fiber_optic_box_inspection/runs_yolo/train_1_crop_\u001b[0m\n"
          ]
        }
      ]
    },
    {
      "cell_type": "markdown",
      "source": [
        "### resume train"
      ],
      "metadata": {
        "id": "11j2o3IgO8jh"
      }
    },
    {
      "cell_type": "code",
      "source": [
        "model = YOLO(yolo_1_crop.get_last_weight_path()) # todo\n",
        "results = model.train(resume=True)"
      ],
      "metadata": {
        "id": "fCq6CwYtGoBK"
      },
      "execution_count": null,
      "outputs": []
    },
    {
      "cell_type": "markdown",
      "source": [
        "### val"
      ],
      "metadata": {
        "id": "D2yE8r0YIXXc"
      }
    },
    {
      "cell_type": "code",
      "source": [
        "model = YOLO(yolo_1_crop.get_best_weight_path()) # todo\n",
        "metrics = model.val(\n",
        "    data=local_paths['yolo_data_cfg_crop'],\n",
        "    batch=32,\n",
        "    imgsz=IMGSZ,\n",
        "    save_json=True,\n",
        "    device=0,\n",
        "    plots=True,\n",
        "    project=paths['yolo_output_dir'],\n",
        "    name=yolo_1_crop.val_run_name, # todo\n",
        "    verbose=True,\n",
        "    save_txt=True,\n",
        "    save_conf=True,\n",
        "    workers=16,\n",
        ")"
      ],
      "metadata": {
        "colab": {
          "base_uri": "https://localhost:8080/"
        },
        "outputId": "b7bf8b7e-9741-4361-97be-dc3f2f3cb106",
        "collapsed": true,
        "id": "tdgDjG_7IXXd"
      },
      "execution_count": null,
      "outputs": [
        {
          "output_type": "stream",
          "name": "stdout",
          "text": [
            "Ultralytics 8.3.160 🚀 Python-3.11.13 torch-2.6.0+cu124 CUDA:0 (NVIDIA A100-SXM4-40GB, 40507MiB)\n",
            "Model summary (fused): 92 layers, 25,939,927 parameters, 0 gradients, 79.2 GFLOPs\n",
            "\u001b[34m\u001b[1mval: \u001b[0mFast image access ✅ (ping: 0.0±0.0 ms, read: 3081.6±609.4 MB/s, size: 119.6 KB)\n"
          ]
        },
        {
          "output_type": "stream",
          "name": "stderr",
          "text": [
            "\u001b[34m\u001b[1mval: \u001b[0mScanning /content/dataset_v2_ALL/image_label.cache... 1684 images, 101 backgrounds, 0 corrupt: 100%|██████████| 1684/1684 [00:00<?, ?it/s]"
          ]
        },
        {
          "output_type": "stream",
          "name": "stdout",
          "text": [
            "\u001b[34m\u001b[1mval: \u001b[0m/content/dataset_v2_ALL/image_label/2022_11_21_09_08_32-TNNP069058HO.jpg: 1 duplicate labels removed\n",
            "\u001b[34m\u001b[1mval: \u001b[0m/content/dataset_v2_ALL/image_label/2022_11_21_16_32_02-HBHP012062HO.jpg: 1 duplicate labels removed\n",
            "\u001b[34m\u001b[1mval: \u001b[0m/content/dataset_v2_ALL/image_label/2022_12_07_16_39_07-QNHP088205HO.jpg: 1 duplicate labels removed\n",
            "\u001b[34m\u001b[1mval: \u001b[0m/content/dataset_v2_ALL/image_label/2022_12_09_10_16_40-TBHP044214HO.jpg: 1 duplicate labels removed\n"
          ]
        },
        {
          "output_type": "stream",
          "name": "stderr",
          "text": [
            "\n",
            "                 Class     Images  Instances      Box(P          R      mAP50  mAP50-95): 100%|██████████| 53/53 [01:04<00:00,  1.22s/it]\n"
          ]
        },
        {
          "output_type": "stream",
          "name": "stdout",
          "text": [
            "                   all       1684      17728      0.568      0.537      0.515       0.34\n",
            "                   1.0        146        146      0.678      0.884      0.826      0.704\n",
            "                   1.1         67         67      0.658      0.746      0.684      0.518\n",
            "                   1.2         27         27      0.387      0.514      0.411      0.272\n",
            "                   1.7         15         15      0.134      0.267      0.192      0.161\n",
            "                   2.0        255        256      0.914      0.945      0.932      0.814\n",
            "                   2.3          2          2          0          0          0          0\n",
            "                   3.0        245        245      0.899      0.911      0.913      0.582\n",
            "                   3.1          1          1          0          0          0          0\n",
            "                   5.0        240        478       0.94      0.946      0.957      0.663\n",
            "                   5.1          3          3          0          0     0.0392     0.0256\n",
            "                   6.0        235        235      0.857      0.889      0.898      0.646\n",
            "                   7.0        208        208      0.797      0.841      0.877      0.565\n",
            "                   7.1         13         13      0.203      0.385      0.223      0.101\n",
            "                   7.2          5          5          0          0     0.0287    0.00699\n",
            "                   7.3          2          2          1          0          0          0\n",
            "                   7.7          3          3          0          0          0          0\n",
            "                   8.0        217        626      0.745      0.825      0.816       0.48\n",
            "                   8.3         18         28      0.201      0.286      0.249      0.151\n",
            "                   9.0        169        292      0.667      0.672       0.69      0.364\n",
            "                   9.4         42         62      0.632      0.665      0.647      0.287\n",
            "                  10.0         76         78      0.347      0.679      0.387      0.284\n",
            "                  10.1          1          1          1          0          0          0\n",
            "                  11.0        263        669      0.698      0.874      0.787      0.433\n",
            "                  11.1         15         22      0.348      0.182      0.183     0.0741\n",
            "                  13.0        167        168      0.585      0.732      0.702      0.526\n",
            "                  13.1         11         11      0.205     0.0744      0.069      0.055\n",
            "                  13.2          2          2          1          0          0          0\n",
            "                  14.0        128        129      0.589       0.93      0.843      0.707\n",
            "                  14.1         21         21      0.382      0.714      0.496      0.399\n",
            "                  14.2         93         95       0.74       0.84      0.829        0.6\n",
            "                  19.0         94         94      0.494      0.543        0.5      0.352\n",
            "                  19.1          7          7      0.179      0.143      0.111     0.0668\n",
            "                  19.2          1          1          1          0          0          0\n",
            "                  19.3         65         65      0.453      0.446      0.436      0.231\n",
            "                  20.0         78         78       0.54      0.731      0.602      0.408\n",
            "                  20.1         48         49      0.462      0.596      0.531      0.345\n",
            "                  20.2         73         95       0.53      0.632      0.571        0.3\n",
            "                  20.3          3          3          0          0          0          0\n",
            "                  23.0        261        269      0.658      0.892      0.772      0.513\n",
            "                  23.1        173        205      0.425       0.62      0.525       0.27\n",
            "                  23.2          4          4          0          0     0.0229    0.00822\n",
            "                  24.0         42         64      0.684      0.719      0.655      0.298\n",
            "                  24.1         74        123      0.392      0.415      0.359      0.122\n",
            "                  26.0        494        495      0.893       0.98      0.939      0.815\n",
            "                  26.1          5          5          1          0       0.24      0.169\n",
            "                  27.0        177        178      0.822      0.927      0.897      0.555\n",
            "                  28.0        244        244      0.879      0.978      0.965      0.824\n",
            "                  29.0        251        252      0.912      0.993      0.961      0.859\n",
            "                  29.1         16         16      0.137      0.199      0.136      0.106\n",
            "                  29.4          9          9      0.149     0.0662      0.301      0.264\n",
            "                  30.0        194        373      0.886      0.952      0.935      0.574\n",
            "                  30.1         15         15        0.4        0.4      0.381      0.221\n",
            "                  32.0         72        142      0.867      0.979      0.959      0.641\n",
            "                  32.1          8         14       0.75      0.786      0.796      0.483\n",
            "                  32.2         45         85       0.64      0.835       0.75      0.452\n",
            "                  35.0        168        180      0.628      0.828      0.744      0.314\n",
            "                  35.1         49         56      0.485      0.404      0.416      0.145\n",
            "                  37.0        228        556      0.732      0.897      0.852      0.544\n",
            "                  37.1          1          1          0          0          0          0\n",
            "                  37.3          1          1          0          0     0.0398     0.0239\n",
            "                  37.4         41        117       0.82      0.906      0.909      0.586\n",
            "                  38.0        210        715      0.729      0.843      0.855      0.504\n",
            "                  38.1          4          5      0.144        0.4      0.286      0.143\n",
            "                  39.0        159        278      0.785      0.903       0.89      0.559\n",
            "                  39.1          6          6      0.213      0.333      0.336      0.185\n",
            "                  40.0        174        174      0.723      0.948      0.858      0.733\n",
            "                  40.1         29         29      0.665      0.517      0.639      0.485\n",
            "                  41.0        123        126      0.899      0.937      0.933      0.804\n",
            "                  41.1          8          8          1          0      0.485      0.446\n",
            "                  41.2          1          1          1          0      0.016     0.0144\n",
            "                  42.0        109        109      0.901      0.972      0.972      0.639\n",
            "                  42.1         12         12      0.152      0.167      0.178     0.0448\n",
            "                  43.0        297       1166      0.948      0.958      0.972      0.803\n",
            "                  43.1         40         46      0.711      0.826      0.877      0.485\n",
            "                  44.0        242        243      0.928      0.959      0.958      0.679\n",
            "                  45.0        219        221      0.842      0.941       0.94       0.72\n",
            "                  45.1         69         70      0.425      0.603      0.503      0.207\n",
            "                  45.2          3          3          1          0      0.222      0.121\n",
            "                  46.0        138        362      0.728      0.754      0.763       0.36\n",
            "                  46.1         74        131      0.256      0.252       0.15     0.0383\n",
            "                  47.0        257        730      0.831       0.89      0.879      0.496\n",
            "                  47.1         79         87      0.582       0.69      0.635      0.267\n",
            "                  47.3          1          1          1          0          0          0\n",
            "                  48.0        226        263      0.572      0.856       0.76      0.395\n",
            "                  48.2          2          2          1          0          0          0\n",
            "                  49.0        179        186      0.699       0.86      0.771      0.497\n",
            "                  49.3         27         27      0.433      0.444      0.349      0.159\n",
            "                  49.4         40         41      0.539      0.485      0.524      0.301\n",
            "                  50.0         96         96      0.819      0.948      0.869      0.687\n",
            "                  50.1         44         46       0.78      0.804      0.835      0.548\n",
            "                  50.2          7          8       0.58      0.125      0.129     0.0134\n",
            "                  51.0        367        367      0.822      0.956      0.898      0.803\n",
            "                  51.2         40         48      0.249      0.417      0.317      0.129\n",
            "                  51.3          5          7          0          0    0.00342    0.00103\n",
            "                  52.0        218        231      0.855      0.868      0.822        0.5\n",
            "                  52.3         18         18       0.09      0.167     0.0805     0.0523\n",
            "                  52.5         21         21      0.498      0.714      0.565      0.164\n",
            "                  53.0        216        239      0.806      0.879      0.829      0.523\n",
            "                  53.4         20         22      0.292      0.273      0.224     0.0659\n",
            "                  53.5         29         30      0.133      0.323      0.182       0.13\n",
            "                  54.0        198        354      0.846      0.864       0.88       0.55\n",
            "                  54.4         67         91      0.314      0.275      0.219     0.0637\n",
            "                  54.5         19         24     0.0489      0.125      0.032     0.0147\n",
            "                  55.0        227        414      0.834      0.896      0.882      0.494\n",
            "                  55.4         54         73      0.465       0.56      0.477      0.171\n",
            "                  55.5         12         15      0.111        0.2      0.119     0.0884\n",
            "                  56.0        269        801      0.897      0.971      0.942      0.793\n",
            "                  56.1          1          1          1          0      0.166     0.0498\n",
            "                  56.2          5          5          0          0       0.04     0.0264\n",
            "                  56.4          3          3      0.698      0.333        0.5      0.431\n",
            "                  57.0        294        852      0.888       0.96      0.959      0.726\n",
            "                  57.1          6          6      0.205      0.167      0.235      0.175\n",
            "                  57.2          2          3          0          0          0          0\n",
            "                  58.0        277        278      0.964      0.971      0.968      0.771\n",
            "                  58.1          8          8      0.204       0.75      0.722       0.48\n",
            "                  58.2          2          2      0.386          1      0.497      0.312\n",
            "                  59.0        284        284      0.956      0.983      0.973      0.823\n",
            "                  59.2          3          3          1          0     0.0164     0.0147\n",
            "                  59.3          3          3          1      0.983      0.995      0.781\n",
            "                  60.0        199        202      0.744      0.936      0.878      0.664\n",
            "                  60.1         29         36       0.44      0.417      0.417       0.17\n",
            "                  60.3         74         97      0.405      0.562      0.435      0.199\n",
            "                  61.0        291        291      0.952          1       0.98      0.801\n",
            "                  61.4          1          1          0          0    0.00544    0.00381\n",
            "Speed: 0.6ms preprocess, 3.5ms inference, 0.0ms loss, 0.8ms postprocess per image\n",
            "Saving /content/drive/MyDrive/fiber_optic_box_inspection/runs_yolo/val_1_crop_2/predictions.json...\n",
            "Results saved to \u001b[1m/content/drive/MyDrive/fiber_optic_box_inspection/runs_yolo/val_1_crop_2\u001b[0m\n"
          ]
        }
      ]
    }
  ]
}