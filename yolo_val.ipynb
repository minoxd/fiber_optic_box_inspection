{
  "nbformat": 4,
  "nbformat_minor": 0,
  "metadata": {
    "colab": {
      "provenance": [],
      "authorship_tag": "ABX9TyNiFLz2ii+AjLO4uOsa30Tn",
      "include_colab_link": true
    },
    "kernelspec": {
      "name": "python3",
      "display_name": "Python 3"
    },
    "language_info": {
      "name": "python"
    }
  },
  "cells": [
    {
      "cell_type": "markdown",
      "metadata": {
        "id": "view-in-github",
        "colab_type": "text"
      },
      "source": [
        "<a href=\"https://colab.research.google.com/github/minoxd/fiber_optic_box_inspection/blob/main/yolo_val.ipynb\" target=\"_parent\"><img src=\"https://colab.research.google.com/assets/colab-badge.svg\" alt=\"Open In Colab\"/></a>"
      ]
    },
    {
      "cell_type": "code",
      "source": [
        "from pathlib import Path\n",
        "print(Path('/content/drive/MyDrive/fiber_optic_box_inspection/dataset_v2_ALL/processed_dataset.tar.gz').exists())\n",
        "!ls /content/drive/MyDrive/fiber_optic_box_inspection/dataset_v2_ALL"
      ],
      "metadata": {
        "id": "bBQ1voAFJJE4",
        "collapsed": true,
        "colab": {
          "base_uri": "https://localhost:8080/"
        },
        "outputId": "7e3ed251-5ce4-4361-dffd-c7208d8cb91a"
      },
      "execution_count": null,
      "outputs": [
        {
          "output_type": "stream",
          "name": "stdout",
          "text": [
            "True\n",
            "all_P00.txt\t\t\t     test_P35.txt\n",
            "all_P25.txt\t\t\t     test_P40.txt\n",
            "all_P30.txt\t\t\t     train_P00.txt\n",
            "all_P35.txt\t\t\t     train_P25.txt\n",
            "all_P40.txt\t\t\t     train_P30.txt\n",
            "class_names_P00.txt\t\t     train_P35.txt\n",
            "class_names_P25.txt\t\t     train_P40_aug_1.txt\n",
            "class_names_P30.txt\t\t     train_P40_aug_2.txt\n",
            "class_names_P35.txt\t\t     train_P40_aug_3.txt\n",
            "class_names_P40.txt\t\t     train_P40_aug_4.txt\n",
            "ids_from_label_files_backup_dir.txt  train_P40.txt\n",
            "investigate_all_P00.csv\t\t     val_P00.txt\n",
            "investigate_all_P25.csv\t\t     val_P25.txt\n",
            "investigate_all_P30.csv\t\t     val_P30.txt\n",
            "investigate_all_P35.csv\t\t     val_P35.txt\n",
            "investigate_all_P40.csv\t\t     val_P40.txt\n",
            "processed_dataset.tar.gz\t     yolo_data_cfg_P00.yaml\n",
            "split_P00.csv\t\t\t     yolo_data_cfg_P25.yaml\n",
            "split_P25.csv\t\t\t     yolo_data_cfg_P30.yaml\n",
            "split_P30.csv\t\t\t     yolo_data_cfg_P35.yaml\n",
            "split_P35.csv\t\t\t     yolo_data_cfg_P40_aug_1.yaml\n",
            "split_P40.csv\t\t\t     yolo_data_cfg_P40_aug_2.yaml\n",
            "test_P00.txt\t\t\t     yolo_data_cfg_P40_aug_3.yaml\n",
            "test_P25.txt\t\t\t     yolo_data_cfg_P40_aug_4.yaml\n",
            "test_P30.txt\t\t\t     yolo_data_cfg_P40.yaml\n"
          ]
        }
      ]
    },
    {
      "cell_type": "markdown",
      "source": [
        "# Environmental Setup"
      ],
      "metadata": {
        "id": "mcmwRb5X7APS"
      }
    },
    {
      "cell_type": "markdown",
      "source": [
        "## mount gdrive, import libraries, declare constants, specify paths"
      ],
      "metadata": {
        "id": "vYwdbnAWAAdX"
      }
    },
    {
      "cell_type": "code",
      "execution_count": null,
      "metadata": {
        "colab": {
          "base_uri": "https://localhost:8080/"
        },
        "id": "cESaTvhCEaJ6",
        "outputId": "0a09f609-a424-4ad9-8541-8396c5ed84f8"
      },
      "outputs": [
        {
          "output_type": "stream",
          "name": "stdout",
          "text": [
            "Mounted at /content/drive\n"
          ]
        }
      ],
      "source": [
        "from google.colab import drive\n",
        "drive.mount('/content/drive', force_remount=True)"
      ]
    },
    {
      "cell_type": "code",
      "execution_count": null,
      "metadata": {
        "id": "jUL8WlxoDP8V"
      },
      "outputs": [],
      "source": [
        "from pathlib import Path\n",
        "import shutil\n",
        "import tarfile\n",
        "import torch\n",
        "import pickle\n",
        "import pandas as pd\n",
        "import matplotlib.pyplot as plt\n",
        "import seaborn as sns\n",
        "\n",
        "if Path('/content/sample_data').exists():\n",
        "    shutil.rmtree('/content/sample_data')"
      ]
    },
    {
      "cell_type": "code",
      "source": [
        "IMGSZ = 960"
      ],
      "metadata": {
        "id": "G7jc2AHLBxc3"
      },
      "execution_count": null,
      "outputs": []
    },
    {
      "cell_type": "markdown",
      "source": [
        "These files are required in the `Data_INF` folder:\n",
        "- data_label_All.tar.gz\n",
        "- inf_raw_classes_v1.0.json\n",
        "- matching_name_id_v1.0.xlsx"
      ],
      "metadata": {
        "id": "TMen5sA6LtLZ"
      }
    },
    {
      "cell_type": "code",
      "source": [
        "BASE_DIR = '/content/drive/MyDrive/fiber_optic_box_inspection'\n",
        "if not Path(BASE_DIR).exists():\n",
        "    raise FileNotFoundError(f'Base directory {BASE_DIR} not found. Check Google Drive mount.')\n",
        "\n",
        "LOCAL_BASE_DIR = '/content'\n",
        "\n",
        "paths = {\n",
        "    'base_dir':                                   Path(BASE_DIR),\n",
        "    'dataset_dir':                                Path(BASE_DIR, 'dataset_v2_ALL'),\n",
        "    'yolo_output_dir':                            Path(BASE_DIR, 'runs_yolo'),\n",
        "}\n",
        "\n",
        "paths['processed_dataset_compressed'] =           Path(paths['dataset_dir'], 'processed_dataset.tar.gz')\n",
        "\n",
        "local_paths = {\n",
        "    'base_dir':                                   Path(LOCAL_BASE_DIR),\n",
        "    'dataset_dir':                                Path(LOCAL_BASE_DIR, 'dataset_v2_ALL'),\n",
        "}\n",
        "\n",
        "if not local_paths['dataset_dir'].exists():\n",
        "    Path.mkdir(local_paths['dataset_dir'])\n",
        "\n",
        "local_paths['yolo_data_cfg_P00'] =                Path(local_paths['dataset_dir'], 'yolo_data_cfg_P00.yaml')\n",
        "local_paths['yolo_data_cfg_P25'] =                Path(local_paths['dataset_dir'], 'yolo_data_cfg_P25.yaml')\n",
        "local_paths['yolo_data_cfg_P30'] =                Path(local_paths['dataset_dir'], 'yolo_data_cfg_P30.yaml')\n",
        "local_paths['yolo_data_cfg_P35'] =                Path(local_paths['dataset_dir'], 'yolo_data_cfg_P35.yaml')\n",
        "local_paths['yolo_data_cfg_P40'] =                Path(local_paths['dataset_dir'], 'yolo_data_cfg_P40.yaml')\n",
        "\n",
        "local_paths['yolo_data_cfg_P40_aug_1'] =          Path(local_paths['dataset_dir'], 'yolo_data_cfg_P40_aug_1.yaml')\n",
        "local_paths['yolo_data_cfg_P40_aug_2'] =          Path(local_paths['dataset_dir'], 'yolo_data_cfg_P40_aug_2.yaml')"
      ],
      "metadata": {
        "id": "dTk0xkiZGWt2"
      },
      "execution_count": null,
      "outputs": []
    },
    {
      "cell_type": "markdown",
      "source": [
        "## utils"
      ],
      "metadata": {
        "id": "0ok2XQFz9ody"
      }
    },
    {
      "cell_type": "code",
      "source": [
        "class Run():\n",
        "    def __init__(self, run_name, project):\n",
        "        self.train_run_name = f'train_{run_name}'\n",
        "        self.val_run_name = f'val_{run_name}'\n",
        "        self.train_path = Path(project, self.train_run_name)\n",
        "        self.val_path = Path(project, self.val_run_name)\n",
        "        self.__best_weight_path = Path(self.train_path, 'weights', 'best.pt')\n",
        "        self.__last_weight_path = Path(self.train_path, 'weights', 'last.pt')\n",
        "\n",
        "    def get_best_weight_path(self):\n",
        "        if self.train_path.is_dir():\n",
        "            return self.__best_weight_path\n",
        "        else:\n",
        "            raise FileNotFoundError(f'The run {self.train_run_name} does not exist.')\n",
        "\n",
        "    def get_last_weight_path(self):\n",
        "        if self.train_path.is_dir():\n",
        "            return self.__last_weight_path\n",
        "        else:\n",
        "            raise FileNotFoundError(f'The run {self.train_run_name} does not exist.')"
      ],
      "metadata": {
        "id": "W-iXnHmwAeql"
      },
      "execution_count": null,
      "outputs": []
    },
    {
      "cell_type": "markdown",
      "source": [
        "# Get dataset"
      ],
      "metadata": {
        "id": "zExyX0dlWtXI"
      }
    },
    {
      "cell_type": "code",
      "source": [
        "!rm -rf /content/dataset_v2_ALL/"
      ],
      "metadata": {
        "id": "JkkmXG5ncd_s"
      },
      "execution_count": null,
      "outputs": []
    },
    {
      "cell_type": "code",
      "source": [
        "shutil.copytree(paths['dataset_dir'], local_paths['dataset_dir'], dirs_exist_ok=True)"
      ],
      "metadata": {
        "id": "bCsUKNGDWvQc",
        "colab": {
          "base_uri": "https://localhost:8080/"
        },
        "outputId": "d21699c3-0fd7-477e-9409-6963d3e3529f"
      },
      "execution_count": null,
      "outputs": [
        {
          "output_type": "execute_result",
          "data": {
            "text/plain": [
              "PosixPath('/content/dataset_v2_ALL')"
            ]
          },
          "metadata": {},
          "execution_count": 8
        }
      ]
    },
    {
      "cell_type": "code",
      "source": [
        "with tarfile.open(paths['processed_dataset_compressed'], 'r:gz') as tar_file:\n",
        "    tar_file.extractall(local_paths['dataset_dir'])\n",
        "    print(f\"Extracted {paths['processed_dataset_compressed']} to {local_paths['dataset_dir']}\")"
      ],
      "metadata": {
        "id": "SxeSPEq0Xgly",
        "colab": {
          "base_uri": "https://localhost:8080/"
        },
        "outputId": "285a86eb-ac89-4d86-dd84-c10a00c615b1"
      },
      "execution_count": null,
      "outputs": [
        {
          "output_type": "stream",
          "name": "stdout",
          "text": [
            "Extracted /content/drive/MyDrive/fiber_optic_box_inspection/dataset_v2_ALL/processed_dataset.tar.gz to /content/dataset_v2_ALL\n"
          ]
        }
      ]
    },
    {
      "cell_type": "markdown",
      "source": [
        "# install ultralytics"
      ],
      "metadata": {
        "id": "9LTZiG6o_7j_"
      }
    },
    {
      "cell_type": "code",
      "execution_count": null,
      "metadata": {
        "collapsed": true,
        "id": "6dHbcvTwDZzJ",
        "colab": {
          "base_uri": "https://localhost:8080/"
        },
        "outputId": "440cb18f-ba34-446e-9c33-cf84aa2496c5"
      },
      "outputs": [
        {
          "output_type": "stream",
          "name": "stdout",
          "text": [
            "Collecting ultralytics\n",
            "  Downloading ultralytics-8.3.165-py3-none-any.whl.metadata (37 kB)\n",
            "Requirement already satisfied: numpy>=1.23.0 in /usr/local/lib/python3.11/dist-packages (from ultralytics) (2.0.2)\n",
            "Requirement already satisfied: matplotlib>=3.3.0 in /usr/local/lib/python3.11/dist-packages (from ultralytics) (3.10.0)\n",
            "Requirement already satisfied: opencv-python>=4.6.0 in /usr/local/lib/python3.11/dist-packages (from ultralytics) (4.11.0.86)\n",
            "Requirement already satisfied: pillow>=7.1.2 in /usr/local/lib/python3.11/dist-packages (from ultralytics) (11.2.1)\n",
            "Requirement already satisfied: pyyaml>=5.3.1 in /usr/local/lib/python3.11/dist-packages (from ultralytics) (6.0.2)\n",
            "Requirement already satisfied: requests>=2.23.0 in /usr/local/lib/python3.11/dist-packages (from ultralytics) (2.32.3)\n",
            "Requirement already satisfied: scipy>=1.4.1 in /usr/local/lib/python3.11/dist-packages (from ultralytics) (1.15.3)\n",
            "Requirement already satisfied: torch>=1.8.0 in /usr/local/lib/python3.11/dist-packages (from ultralytics) (2.6.0+cu124)\n",
            "Requirement already satisfied: torchvision>=0.9.0 in /usr/local/lib/python3.11/dist-packages (from ultralytics) (0.21.0+cu124)\n",
            "Requirement already satisfied: tqdm>=4.64.0 in /usr/local/lib/python3.11/dist-packages (from ultralytics) (4.67.1)\n",
            "Requirement already satisfied: psutil in /usr/local/lib/python3.11/dist-packages (from ultralytics) (5.9.5)\n",
            "Requirement already satisfied: py-cpuinfo in /usr/local/lib/python3.11/dist-packages (from ultralytics) (9.0.0)\n",
            "Requirement already satisfied: pandas>=1.1.4 in /usr/local/lib/python3.11/dist-packages (from ultralytics) (2.2.2)\n",
            "Collecting ultralytics-thop>=2.0.0 (from ultralytics)\n",
            "  Downloading ultralytics_thop-2.0.14-py3-none-any.whl.metadata (9.4 kB)\n",
            "Requirement already satisfied: contourpy>=1.0.1 in /usr/local/lib/python3.11/dist-packages (from matplotlib>=3.3.0->ultralytics) (1.3.2)\n",
            "Requirement already satisfied: cycler>=0.10 in /usr/local/lib/python3.11/dist-packages (from matplotlib>=3.3.0->ultralytics) (0.12.1)\n",
            "Requirement already satisfied: fonttools>=4.22.0 in /usr/local/lib/python3.11/dist-packages (from matplotlib>=3.3.0->ultralytics) (4.58.5)\n",
            "Requirement already satisfied: kiwisolver>=1.3.1 in /usr/local/lib/python3.11/dist-packages (from matplotlib>=3.3.0->ultralytics) (1.4.8)\n",
            "Requirement already satisfied: packaging>=20.0 in /usr/local/lib/python3.11/dist-packages (from matplotlib>=3.3.0->ultralytics) (24.2)\n",
            "Requirement already satisfied: pyparsing>=2.3.1 in /usr/local/lib/python3.11/dist-packages (from matplotlib>=3.3.0->ultralytics) (3.2.3)\n",
            "Requirement already satisfied: python-dateutil>=2.7 in /usr/local/lib/python3.11/dist-packages (from matplotlib>=3.3.0->ultralytics) (2.9.0.post0)\n",
            "Requirement already satisfied: pytz>=2020.1 in /usr/local/lib/python3.11/dist-packages (from pandas>=1.1.4->ultralytics) (2025.2)\n",
            "Requirement already satisfied: tzdata>=2022.7 in /usr/local/lib/python3.11/dist-packages (from pandas>=1.1.4->ultralytics) (2025.2)\n",
            "Requirement already satisfied: charset-normalizer<4,>=2 in /usr/local/lib/python3.11/dist-packages (from requests>=2.23.0->ultralytics) (3.4.2)\n",
            "Requirement already satisfied: idna<4,>=2.5 in /usr/local/lib/python3.11/dist-packages (from requests>=2.23.0->ultralytics) (3.10)\n",
            "Requirement already satisfied: urllib3<3,>=1.21.1 in /usr/local/lib/python3.11/dist-packages (from requests>=2.23.0->ultralytics) (2.4.0)\n",
            "Requirement already satisfied: certifi>=2017.4.17 in /usr/local/lib/python3.11/dist-packages (from requests>=2.23.0->ultralytics) (2025.7.9)\n",
            "Requirement already satisfied: filelock in /usr/local/lib/python3.11/dist-packages (from torch>=1.8.0->ultralytics) (3.18.0)\n",
            "Requirement already satisfied: typing-extensions>=4.10.0 in /usr/local/lib/python3.11/dist-packages (from torch>=1.8.0->ultralytics) (4.14.1)\n",
            "Requirement already satisfied: networkx in /usr/local/lib/python3.11/dist-packages (from torch>=1.8.0->ultralytics) (3.5)\n",
            "Requirement already satisfied: jinja2 in /usr/local/lib/python3.11/dist-packages (from torch>=1.8.0->ultralytics) (3.1.6)\n",
            "Requirement already satisfied: fsspec in /usr/local/lib/python3.11/dist-packages (from torch>=1.8.0->ultralytics) (2025.3.2)\n",
            "Collecting nvidia-cuda-nvrtc-cu12==12.4.127 (from torch>=1.8.0->ultralytics)\n",
            "  Downloading nvidia_cuda_nvrtc_cu12-12.4.127-py3-none-manylinux2014_x86_64.whl.metadata (1.5 kB)\n",
            "Collecting nvidia-cuda-runtime-cu12==12.4.127 (from torch>=1.8.0->ultralytics)\n",
            "  Downloading nvidia_cuda_runtime_cu12-12.4.127-py3-none-manylinux2014_x86_64.whl.metadata (1.5 kB)\n",
            "Collecting nvidia-cuda-cupti-cu12==12.4.127 (from torch>=1.8.0->ultralytics)\n",
            "  Downloading nvidia_cuda_cupti_cu12-12.4.127-py3-none-manylinux2014_x86_64.whl.metadata (1.6 kB)\n",
            "Collecting nvidia-cudnn-cu12==9.1.0.70 (from torch>=1.8.0->ultralytics)\n",
            "  Downloading nvidia_cudnn_cu12-9.1.0.70-py3-none-manylinux2014_x86_64.whl.metadata (1.6 kB)\n",
            "Collecting nvidia-cublas-cu12==12.4.5.8 (from torch>=1.8.0->ultralytics)\n",
            "  Downloading nvidia_cublas_cu12-12.4.5.8-py3-none-manylinux2014_x86_64.whl.metadata (1.5 kB)\n",
            "Collecting nvidia-cufft-cu12==11.2.1.3 (from torch>=1.8.0->ultralytics)\n",
            "  Downloading nvidia_cufft_cu12-11.2.1.3-py3-none-manylinux2014_x86_64.whl.metadata (1.5 kB)\n",
            "Collecting nvidia-curand-cu12==10.3.5.147 (from torch>=1.8.0->ultralytics)\n",
            "  Downloading nvidia_curand_cu12-10.3.5.147-py3-none-manylinux2014_x86_64.whl.metadata (1.5 kB)\n",
            "Collecting nvidia-cusolver-cu12==11.6.1.9 (from torch>=1.8.0->ultralytics)\n",
            "  Downloading nvidia_cusolver_cu12-11.6.1.9-py3-none-manylinux2014_x86_64.whl.metadata (1.6 kB)\n",
            "Collecting nvidia-cusparse-cu12==12.3.1.170 (from torch>=1.8.0->ultralytics)\n",
            "  Downloading nvidia_cusparse_cu12-12.3.1.170-py3-none-manylinux2014_x86_64.whl.metadata (1.6 kB)\n",
            "Requirement already satisfied: nvidia-cusparselt-cu12==0.6.2 in /usr/local/lib/python3.11/dist-packages (from torch>=1.8.0->ultralytics) (0.6.2)\n",
            "Requirement already satisfied: nvidia-nccl-cu12==2.21.5 in /usr/local/lib/python3.11/dist-packages (from torch>=1.8.0->ultralytics) (2.21.5)\n",
            "Requirement already satisfied: nvidia-nvtx-cu12==12.4.127 in /usr/local/lib/python3.11/dist-packages (from torch>=1.8.0->ultralytics) (12.4.127)\n",
            "Collecting nvidia-nvjitlink-cu12==12.4.127 (from torch>=1.8.0->ultralytics)\n",
            "  Downloading nvidia_nvjitlink_cu12-12.4.127-py3-none-manylinux2014_x86_64.whl.metadata (1.5 kB)\n",
            "Requirement already satisfied: triton==3.2.0 in /usr/local/lib/python3.11/dist-packages (from torch>=1.8.0->ultralytics) (3.2.0)\n",
            "Requirement already satisfied: sympy==1.13.1 in /usr/local/lib/python3.11/dist-packages (from torch>=1.8.0->ultralytics) (1.13.1)\n",
            "Requirement already satisfied: mpmath<1.4,>=1.1.0 in /usr/local/lib/python3.11/dist-packages (from sympy==1.13.1->torch>=1.8.0->ultralytics) (1.3.0)\n",
            "Requirement already satisfied: six>=1.5 in /usr/local/lib/python3.11/dist-packages (from python-dateutil>=2.7->matplotlib>=3.3.0->ultralytics) (1.17.0)\n",
            "Requirement already satisfied: MarkupSafe>=2.0 in /usr/local/lib/python3.11/dist-packages (from jinja2->torch>=1.8.0->ultralytics) (3.0.2)\n",
            "Downloading ultralytics-8.3.165-py3-none-any.whl (1.0 MB)\n",
            "\u001b[2K   \u001b[90m━━━━━━━━━━━━━━━━━━━━━━━━━━━━━━━━━━━━━━━━\u001b[0m \u001b[32m1.0/1.0 MB\u001b[0m \u001b[31m56.9 MB/s\u001b[0m eta \u001b[36m0:00:00\u001b[0m\n",
            "\u001b[?25hDownloading nvidia_cublas_cu12-12.4.5.8-py3-none-manylinux2014_x86_64.whl (363.4 MB)\n",
            "\u001b[2K   \u001b[90m━━━━━━━━━━━━━━━━━━━━━━━━━━━━━━━━━━━━━━━━\u001b[0m \u001b[32m363.4/363.4 MB\u001b[0m \u001b[31m4.1 MB/s\u001b[0m eta \u001b[36m0:00:00\u001b[0m\n",
            "\u001b[?25hDownloading nvidia_cuda_cupti_cu12-12.4.127-py3-none-manylinux2014_x86_64.whl (13.8 MB)\n",
            "\u001b[2K   \u001b[90m━━━━━━━━━━━━━━━━━━━━━━━━━━━━━━━━━━━━━━━━\u001b[0m \u001b[32m13.8/13.8 MB\u001b[0m \u001b[31m45.8 MB/s\u001b[0m eta \u001b[36m0:00:00\u001b[0m\n",
            "\u001b[?25hDownloading nvidia_cuda_nvrtc_cu12-12.4.127-py3-none-manylinux2014_x86_64.whl (24.6 MB)\n",
            "\u001b[2K   \u001b[90m━━━━━━━━━━━━━━━━━━━━━━━━━━━━━━━━━━━━━━━━\u001b[0m \u001b[32m24.6/24.6 MB\u001b[0m \u001b[31m33.1 MB/s\u001b[0m eta \u001b[36m0:00:00\u001b[0m\n",
            "\u001b[?25hDownloading nvidia_cuda_runtime_cu12-12.4.127-py3-none-manylinux2014_x86_64.whl (883 kB)\n",
            "\u001b[2K   \u001b[90m━━━━━━━━━━━━━━━━━━━━━━━━━━━━━━━━━━━━━━━━\u001b[0m \u001b[32m883.7/883.7 kB\u001b[0m \u001b[31m33.8 MB/s\u001b[0m eta \u001b[36m0:00:00\u001b[0m\n",
            "\u001b[?25hDownloading nvidia_cudnn_cu12-9.1.0.70-py3-none-manylinux2014_x86_64.whl (664.8 MB)\n",
            "\u001b[2K   \u001b[90m━━━━━━━━━━━━━━━━━━━━━━━━━━━━━━━━━━━━━━━━\u001b[0m \u001b[32m664.8/664.8 MB\u001b[0m \u001b[31m2.7 MB/s\u001b[0m eta \u001b[36m0:00:00\u001b[0m\n",
            "\u001b[?25hDownloading nvidia_cufft_cu12-11.2.1.3-py3-none-manylinux2014_x86_64.whl (211.5 MB)\n",
            "\u001b[2K   \u001b[90m━━━━━━━━━━━━━━━━━━━━━━━━━━━━━━━━━━━━━━━━\u001b[0m \u001b[32m211.5/211.5 MB\u001b[0m \u001b[31m5.8 MB/s\u001b[0m eta \u001b[36m0:00:00\u001b[0m\n",
            "\u001b[?25hDownloading nvidia_curand_cu12-10.3.5.147-py3-none-manylinux2014_x86_64.whl (56.3 MB)\n",
            "\u001b[2K   \u001b[90m━━━━━━━━━━━━━━━━━━━━━━━━━━━━━━━━━━━━━━━━\u001b[0m \u001b[32m56.3/56.3 MB\u001b[0m \u001b[31m12.1 MB/s\u001b[0m eta \u001b[36m0:00:00\u001b[0m\n",
            "\u001b[?25hDownloading nvidia_cusolver_cu12-11.6.1.9-py3-none-manylinux2014_x86_64.whl (127.9 MB)\n",
            "\u001b[2K   \u001b[90m━━━━━━━━━━━━━━━━━━━━━━━━━━━━━━━━━━━━━━━━\u001b[0m \u001b[32m127.9/127.9 MB\u001b[0m \u001b[31m8.0 MB/s\u001b[0m eta \u001b[36m0:00:00\u001b[0m\n",
            "\u001b[?25hDownloading nvidia_cusparse_cu12-12.3.1.170-py3-none-manylinux2014_x86_64.whl (207.5 MB)\n",
            "\u001b[2K   \u001b[90m━━━━━━━━━━━━━━━━━━━━━━━━━━━━━━━━━━━━━━━━\u001b[0m \u001b[32m207.5/207.5 MB\u001b[0m \u001b[31m6.1 MB/s\u001b[0m eta \u001b[36m0:00:00\u001b[0m\n",
            "\u001b[?25hDownloading nvidia_nvjitlink_cu12-12.4.127-py3-none-manylinux2014_x86_64.whl (21.1 MB)\n",
            "\u001b[2K   \u001b[90m━━━━━━━━━━━━━━━━━━━━━━━━━━━━━━━━━━━━━━━━\u001b[0m \u001b[32m21.1/21.1 MB\u001b[0m \u001b[31m91.3 MB/s\u001b[0m eta \u001b[36m0:00:00\u001b[0m\n",
            "\u001b[?25hDownloading ultralytics_thop-2.0.14-py3-none-any.whl (26 kB)\n",
            "Installing collected packages: nvidia-nvjitlink-cu12, nvidia-curand-cu12, nvidia-cufft-cu12, nvidia-cuda-runtime-cu12, nvidia-cuda-nvrtc-cu12, nvidia-cuda-cupti-cu12, nvidia-cublas-cu12, nvidia-cusparse-cu12, nvidia-cudnn-cu12, nvidia-cusolver-cu12, ultralytics-thop, ultralytics\n",
            "  Attempting uninstall: nvidia-nvjitlink-cu12\n",
            "    Found existing installation: nvidia-nvjitlink-cu12 12.5.82\n",
            "    Uninstalling nvidia-nvjitlink-cu12-12.5.82:\n",
            "      Successfully uninstalled nvidia-nvjitlink-cu12-12.5.82\n",
            "  Attempting uninstall: nvidia-curand-cu12\n",
            "    Found existing installation: nvidia-curand-cu12 10.3.6.82\n",
            "    Uninstalling nvidia-curand-cu12-10.3.6.82:\n",
            "      Successfully uninstalled nvidia-curand-cu12-10.3.6.82\n",
            "  Attempting uninstall: nvidia-cufft-cu12\n",
            "    Found existing installation: nvidia-cufft-cu12 11.2.3.61\n",
            "    Uninstalling nvidia-cufft-cu12-11.2.3.61:\n",
            "      Successfully uninstalled nvidia-cufft-cu12-11.2.3.61\n",
            "  Attempting uninstall: nvidia-cuda-runtime-cu12\n",
            "    Found existing installation: nvidia-cuda-runtime-cu12 12.5.82\n",
            "    Uninstalling nvidia-cuda-runtime-cu12-12.5.82:\n",
            "      Successfully uninstalled nvidia-cuda-runtime-cu12-12.5.82\n",
            "  Attempting uninstall: nvidia-cuda-nvrtc-cu12\n",
            "    Found existing installation: nvidia-cuda-nvrtc-cu12 12.5.82\n",
            "    Uninstalling nvidia-cuda-nvrtc-cu12-12.5.82:\n",
            "      Successfully uninstalled nvidia-cuda-nvrtc-cu12-12.5.82\n",
            "  Attempting uninstall: nvidia-cuda-cupti-cu12\n",
            "    Found existing installation: nvidia-cuda-cupti-cu12 12.5.82\n",
            "    Uninstalling nvidia-cuda-cupti-cu12-12.5.82:\n",
            "      Successfully uninstalled nvidia-cuda-cupti-cu12-12.5.82\n",
            "  Attempting uninstall: nvidia-cublas-cu12\n",
            "    Found existing installation: nvidia-cublas-cu12 12.5.3.2\n",
            "    Uninstalling nvidia-cublas-cu12-12.5.3.2:\n",
            "      Successfully uninstalled nvidia-cublas-cu12-12.5.3.2\n",
            "  Attempting uninstall: nvidia-cusparse-cu12\n",
            "    Found existing installation: nvidia-cusparse-cu12 12.5.1.3\n",
            "    Uninstalling nvidia-cusparse-cu12-12.5.1.3:\n",
            "      Successfully uninstalled nvidia-cusparse-cu12-12.5.1.3\n",
            "  Attempting uninstall: nvidia-cudnn-cu12\n",
            "    Found existing installation: nvidia-cudnn-cu12 9.3.0.75\n",
            "    Uninstalling nvidia-cudnn-cu12-9.3.0.75:\n",
            "      Successfully uninstalled nvidia-cudnn-cu12-9.3.0.75\n",
            "  Attempting uninstall: nvidia-cusolver-cu12\n",
            "    Found existing installation: nvidia-cusolver-cu12 11.6.3.83\n",
            "    Uninstalling nvidia-cusolver-cu12-11.6.3.83:\n",
            "      Successfully uninstalled nvidia-cusolver-cu12-11.6.3.83\n",
            "Successfully installed nvidia-cublas-cu12-12.4.5.8 nvidia-cuda-cupti-cu12-12.4.127 nvidia-cuda-nvrtc-cu12-12.4.127 nvidia-cuda-runtime-cu12-12.4.127 nvidia-cudnn-cu12-9.1.0.70 nvidia-cufft-cu12-11.2.1.3 nvidia-curand-cu12-10.3.5.147 nvidia-cusolver-cu12-11.6.1.9 nvidia-cusparse-cu12-12.3.1.170 nvidia-nvjitlink-cu12-12.4.127 ultralytics-8.3.165 ultralytics-thop-2.0.14\n",
            "Creating new Ultralytics Settings v0.0.6 file ✅ \n",
            "View Ultralytics Settings with 'yolo settings' or at '/root/.config/Ultralytics/settings.json'\n",
            "Update Settings with 'yolo settings key=value', i.e. 'yolo settings runs_dir=path/to/dir'. For help see https://docs.ultralytics.com/quickstart/#ultralytics-settings.\n"
          ]
        }
      ],
      "source": [
        "!pip install ultralytics\n",
        "from ultralytics import YOLO"
      ]
    },
    {
      "cell_type": "markdown",
      "source": [
        "# define runs"
      ],
      "metadata": {
        "id": "eAoVhSKBPZsA"
      }
    },
    {
      "cell_type": "code",
      "source": [
        "yolo_default_augmentations_P00 = Run('default_augmentations_P00_', paths['yolo_output_dir'])\n",
        "yolo_default_augmentations_P25 = Run('default_augmentations_P25_', paths['yolo_output_dir'])\n",
        "yolo_default_augmentations_P30 = Run('default_augmentations_P30_', paths['yolo_output_dir'])\n",
        "yolo_default_augmentations_P35 = Run('default_augmentations_P35_', paths['yolo_output_dir'])\n",
        "yolo_default_augmentations_P40 = Run('default_augmentations_P40_', paths['yolo_output_dir'])\n",
        "yolo_no_augmentations_P40 = Run('no_augmentations_P40_', paths['yolo_output_dir'])\n",
        "yolo_aug_1_P40 = Run('aug_1_P40_', paths['yolo_output_dir'])\n",
        "yolo_aug_2_P40 = Run('aug_2_P40_', paths['yolo_output_dir'])\n",
        "yolo_aug_3_P40 = Run('aug_3_P40_', paths['yolo_output_dir'])\n",
        "yolo_aug_4_P40 = Run('aug_4_P40_', paths['yolo_output_dir'])"
      ],
      "metadata": {
        "id": "oGVxyS9sPcVB"
      },
      "execution_count": null,
      "outputs": []
    },
    {
      "cell_type": "markdown",
      "source": [
        "# GPU check"
      ],
      "metadata": {
        "id": "-m71MKuxzDHJ"
      }
    },
    {
      "cell_type": "code",
      "source": [
        "!nvidia-smi"
      ],
      "metadata": {
        "id": "igA3CYns5JxG",
        "colab": {
          "base_uri": "https://localhost:8080/"
        },
        "outputId": "0bfb9263-693d-467b-8c41-9758b635dae2"
      },
      "execution_count": null,
      "outputs": [
        {
          "output_type": "stream",
          "name": "stdout",
          "text": [
            "Thu Jul  3 16:48:42 2025       \n",
            "+-----------------------------------------------------------------------------------------+\n",
            "| NVIDIA-SMI 550.54.15              Driver Version: 550.54.15      CUDA Version: 12.4     |\n",
            "|-----------------------------------------+------------------------+----------------------+\n",
            "| GPU  Name                 Persistence-M | Bus-Id          Disp.A | Volatile Uncorr. ECC |\n",
            "| Fan  Temp   Perf          Pwr:Usage/Cap |           Memory-Usage | GPU-Util  Compute M. |\n",
            "|                                         |                        |               MIG M. |\n",
            "|=========================================+========================+======================|\n",
            "|   0  NVIDIA A100-SXM4-40GB          Off |   00000000:00:04.0 Off |                    0 |\n",
            "| N/A   30C    P0             45W /  400W |       0MiB /  40960MiB |      0%      Default |\n",
            "|                                         |                        |             Disabled |\n",
            "+-----------------------------------------+------------------------+----------------------+\n",
            "                                                                                         \n",
            "+-----------------------------------------------------------------------------------------+\n",
            "| Processes:                                                                              |\n",
            "|  GPU   GI   CI        PID   Type   Process name                              GPU Memory |\n",
            "|        ID   ID                                                               Usage      |\n",
            "|=========================================================================================|\n",
            "|  No running processes found                                                             |\n",
            "+-----------------------------------------------------------------------------------------+\n"
          ]
        }
      ]
    },
    {
      "cell_type": "code",
      "source": [
        "if torch.cuda.is_available():\n",
        "    device = torch.device('cuda')\n",
        "    print(f'GPU is available! Using device: {device}')\n",
        "    print(f'GPU Name: {torch.cuda.get_device_name(0)}')\n",
        "    print(f'Number of GPUs: {torch.cuda.device_count()}')\n",
        "    print(f'Total Memory: {torch.cuda.get_device_properties(0).total_memory / 1e9:.2f} GB')\n",
        "else:\n",
        "    device = torch.device('cpu')\n",
        "    print('No GPU available, using CPU.')\n"
      ],
      "metadata": {
        "id": "2xvCTl2j5XIE",
        "colab": {
          "base_uri": "https://localhost:8080/"
        },
        "outputId": "c125400d-41bf-4c77-d5aa-e7f7d6b2d002"
      },
      "execution_count": null,
      "outputs": [
        {
          "output_type": "stream",
          "name": "stdout",
          "text": [
            "GPU is available! Using device: cuda\n",
            "GPU Name: NVIDIA A100-SXM4-40GB\n",
            "Number of GPUs: 1\n",
            "Total Memory: 42.47 GB\n"
          ]
        }
      ]
    },
    {
      "cell_type": "markdown",
      "source": [
        "# runs"
      ],
      "metadata": {
        "id": "95Ae3oNlGoFl"
      }
    },
    {
      "cell_type": "markdown",
      "source": [
        "## default augmentations"
      ],
      "metadata": {
        "id": "SHF0-EOWzIq1"
      }
    },
    {
      "cell_type": "markdown",
      "source": [
        "### P00"
      ],
      "metadata": {
        "id": "FLjubNBR7vzL"
      }
    },
    {
      "cell_type": "code",
      "source": [
        "model_P00 = YOLO(yolo_default_augmentations_P00.get_best_weight_path()) # todo\n",
        "metrics_P00 = model_P00.val(\n",
        "    data=local_paths['yolo_data_cfg_P00'],\n",
        "    batch=32,\n",
        "    imgsz=IMGSZ,\n",
        "    save_json=True,\n",
        "    device=0,\n",
        "    plots=True,\n",
        "    project=paths['yolo_output_dir'],\n",
        "    name=yolo_default_augmentations_P00.val_run_name, #todo\n",
        "    verbose=True,\n",
        "    save_txt=True,\n",
        "    save_conf=True,\n",
        "    workers=16,\n",
        ")"
      ],
      "metadata": {
        "id": "2iP9LaVyMZqG",
        "colab": {
          "base_uri": "https://localhost:8080/"
        },
        "outputId": "bd64af2c-4721-4710-f66d-50f4cd65b717",
        "collapsed": true
      },
      "execution_count": null,
      "outputs": [
        {
          "output_type": "stream",
          "name": "stdout",
          "text": [
            "Ultralytics 8.3.161 🚀 Python-3.11.13 torch-2.6.0+cu124 CUDA:0 (NVIDIA A100-SXM4-40GB, 40507MiB)\n",
            "Model summary (fused): 92 layers, 25,939,927 parameters, 0 gradients, 79.2 GFLOPs\n",
            "Downloading https://ultralytics.com/assets/Arial.ttf to '/root/.config/Ultralytics/Arial.ttf'...\n"
          ]
        },
        {
          "output_type": "stream",
          "name": "stderr",
          "text": [
            "100%|██████████| 755k/755k [00:00<00:00, 66.0MB/s]"
          ]
        },
        {
          "output_type": "stream",
          "name": "stdout",
          "text": [
            "\u001b[34m\u001b[1mval: \u001b[0mFast image access ✅ (ping: 0.0±0.0 ms, read: 2704.9±942.0 MB/s, size: 123.5 KB)\n"
          ]
        },
        {
          "output_type": "stream",
          "name": "stderr",
          "text": [
            "\n",
            "\u001b[34m\u001b[1mval: \u001b[0mScanning /content/dataset_v2_ALL/image_label_P00... 2100 images, 0 backgrounds, 0 corrupt: 100%|██████████| 2100/2100 [00:01<00:00, 1380.77it/s]"
          ]
        },
        {
          "output_type": "stream",
          "name": "stdout",
          "text": [
            "\u001b[34m\u001b[1mval: \u001b[0m/content/dataset_v2_ALL/image_label_P00/2022_11_14_16_04_38-HNIP548102HO.jpg: 1 duplicate labels removed\n",
            "\u001b[34m\u001b[1mval: \u001b[0m/content/dataset_v2_ALL/image_label_P00/2022_11_16_10_35_33-GLIP038152HO.jpg: 1 duplicate labels removed\n",
            "\u001b[34m\u001b[1mval: \u001b[0m/content/dataset_v2_ALL/image_label_P00/2022_11_16_15_40_51-HBHP012080HO.jpg: 1 duplicate labels removed\n",
            "\u001b[34m\u001b[1mval: \u001b[0m/content/dataset_v2_ALL/image_label_P00/2022_11_17_15_10_14-TNNP063261HO.jpg: 1 duplicate labels removed\n",
            "\u001b[34m\u001b[1mval: \u001b[0m/content/dataset_v2_ALL/image_label_P00/2022_11_21_09_08_32-TNNP069058HO.jpg: 1 duplicate labels removed\n",
            "\u001b[34m\u001b[1mval: \u001b[0m/content/dataset_v2_ALL/image_label_P00/2022_12_08_10_14_33-HYNP074125HO.jpg: 1 duplicate labels removed\n"
          ]
        },
        {
          "output_type": "stream",
          "name": "stderr",
          "text": [
            "\n"
          ]
        },
        {
          "output_type": "stream",
          "name": "stdout",
          "text": [
            "\u001b[34m\u001b[1mval: \u001b[0mNew cache created: /content/dataset_v2_ALL/image_label_P00.cache\n"
          ]
        },
        {
          "output_type": "stream",
          "name": "stderr",
          "text": [
            "                 Class     Images  Instances      Box(P          R      mAP50  mAP50-95): 100%|██████████| 66/66 [01:52<00:00,  1.71s/it]\n"
          ]
        },
        {
          "output_type": "stream",
          "name": "stdout",
          "text": [
            "                   all       2100      23468      0.721      0.518      0.571      0.382\n",
            "                   1.0        209        210      0.762      0.919      0.896      0.759\n",
            "                   1.1         90         90      0.587      0.773      0.704       0.54\n",
            "                   1.2         41         42      0.434      0.524      0.552      0.404\n",
            "                   1.7         29         29      0.242      0.724       0.54      0.417\n",
            "                   2.0        370        371      0.907       0.97      0.978      0.862\n",
            "                   2.3          1          1          0          0          0          0\n",
            "                   3.0        356        356       0.93      0.963       0.98      0.667\n",
            "                   3.1          4          4      0.864        0.5      0.694      0.379\n",
            "                   5.0        316        616       0.94      0.987      0.987      0.693\n",
            "                   5.1         17         18      0.765      0.363      0.543      0.306\n",
            "                   6.0        314        315      0.946      0.954      0.971      0.762\n",
            "                   6.1          1          1          1          0          0          0\n",
            "                   7.0        279        279      0.831      0.918      0.898      0.633\n",
            "                   7.1         16         16      0.402       0.25      0.231      0.124\n",
            "                   7.2          7          7          1          0      0.353     0.0911\n",
            "                   7.7          4          5          1          0    0.00257    0.00206\n",
            "                   8.0        300        860      0.785      0.866      0.863      0.509\n",
            "                   8.3         17         23      0.197      0.174      0.207      0.114\n",
            "                   8.5          1          1          1          0          0          0\n",
            "                   9.0        219        395      0.666      0.803      0.757      0.402\n",
            "                   9.4         70         95      0.728      0.737      0.712      0.389\n",
            "                  10.0        127        128      0.433      0.344      0.444      0.302\n",
            "                  11.0        376        971       0.71      0.915      0.794      0.466\n",
            "                  11.1         28         42      0.138     0.0476     0.0786     0.0333\n",
            "                  13.0        230        232      0.687      0.797      0.811      0.618\n",
            "                  13.1         14         14          1          0     0.0727     0.0379\n",
            "                  14.0        205        207      0.685      0.903      0.845      0.715\n",
            "                  14.1         28         28      0.485      0.536      0.502      0.422\n",
            "                  14.2        124        130      0.684      0.785      0.816      0.612\n",
            "                  19.0        127        127      0.551      0.646      0.581      0.408\n",
            "                  19.1          8          8          1          0     0.0374     0.0258\n",
            "                  19.3         92         92      0.593      0.674       0.65      0.368\n",
            "                  20.0        109        110      0.551      0.745      0.661      0.472\n",
            "                  20.1         78         86       0.39      0.674      0.611      0.391\n",
            "                  20.2        110        153        0.6      0.579      0.557       0.27\n",
            "                  20.3          3          3          1          0    0.00847    0.00216\n",
            "                  23.0        349        359      0.698      0.886      0.837       0.58\n",
            "                  23.1        222        270      0.743      0.541      0.638      0.354\n",
            "                  23.2          8          8          1          0     0.0453      0.011\n",
            "                  24.0         63         97      0.671       0.68      0.652        0.3\n",
            "                  24.1         93        158      0.631      0.455      0.542      0.229\n",
            "                  24.3          2          3          1          0      0.168     0.0721\n",
            "                  26.0        599        600      0.873      0.995      0.955      0.833\n",
            "                  26.1          5          6          1          0     0.0606     0.0499\n",
            "                  27.0        204        205      0.773      0.951      0.928      0.624\n",
            "                  27.1          1          1          1          0     0.0524     0.0262\n",
            "                  28.0        303        303      0.898          1       0.96      0.825\n",
            "                  29.0        318        319       0.95      0.997      0.986      0.901\n",
            "                  29.1         25         25      0.337      0.448      0.316      0.249\n",
            "                  29.4          1          1          0          0     0.0433     0.0389\n",
            "                  30.0        240        454       0.94      0.943      0.959      0.618\n",
            "                  30.1         15         15      0.556     0.0667       0.17      0.116\n",
            "                  32.0         99        190      0.974      0.969       0.99      0.685\n",
            "                  32.1         11         15      0.514      0.733      0.715      0.545\n",
            "                  32.2         53        101      0.814      0.842      0.901      0.566\n",
            "                  35.0        212        226      0.703      0.754      0.798      0.368\n",
            "                  35.1         62         64      0.384      0.438      0.407      0.166\n",
            "                  37.0        269        630      0.781      0.924      0.895      0.584\n",
            "                  37.3          2          3          1          0     0.0964     0.0771\n",
            "                  37.4         75        220      0.759      0.973      0.937      0.626\n",
            "                  38.0        260        931      0.745      0.869      0.895      0.584\n",
            "                  38.1          5          7      0.133      0.286      0.106     0.0448\n",
            "                  39.0        205        347       0.89      0.931      0.938        0.6\n",
            "                  39.1         13         18      0.523     0.0556       0.22      0.105\n",
            "                  40.0        227        227      0.759          1      0.941      0.817\n",
            "                  40.1         31         31      0.727      0.516      0.724       0.54\n",
            "                  41.0        141        144       0.94      0.965      0.971      0.845\n",
            "                  41.1          1          1          1          0      0.995      0.995\n",
            "                  41.2          1          1          1          0      0.995      0.895\n",
            "                  42.0        150        150      0.904      0.987      0.972      0.711\n",
            "                  42.1          9          9      0.456      0.111      0.343      0.176\n",
            "                  43.0        402       1584      0.981      0.981       0.99      0.836\n",
            "                  43.1         39         47      0.802      0.702      0.861      0.532\n",
            "                  44.0        300        301      0.961      0.973      0.985       0.76\n",
            "                  44.1          3          3          1          0      0.683       0.24\n",
            "                  45.0        306        307      0.876      0.971      0.963      0.757\n",
            "                  45.1         79         82      0.583      0.622      0.565      0.251\n",
            "                  45.2          9          9          1          0      0.325      0.145\n",
            "                  46.0        190        486      0.715      0.796      0.815        0.4\n",
            "                  46.1         99        166      0.403     0.0488      0.229     0.0663\n",
            "                  46.3          8         10          1          0      0.437      0.148\n",
            "                  46.4          1          2          1          0      0.058     0.0174\n",
            "                  47.0        308        917      0.881      0.917      0.949      0.579\n",
            "                  47.1         99        104      0.714      0.808      0.796      0.399\n",
            "                  47.3          1          1          1          0          0          0\n",
            "                  48.0        288        341      0.732      0.848      0.839       0.45\n",
            "                  48.2          3          3          1          0      0.031     0.0093\n",
            "                  49.0        220        233       0.75      0.876      0.825      0.566\n",
            "                  49.3         29         29      0.346      0.414      0.333      0.137\n",
            "                  49.4         64         67      0.668      0.373      0.496      0.302\n",
            "                  50.0        145        149      0.865       0.96      0.939      0.721\n",
            "                  50.1         39         39      0.601      0.949      0.867      0.558\n",
            "                  50.2          6          7          1          0      0.255     0.0864\n",
            "                  51.0        493        494      0.884      0.986      0.941      0.847\n",
            "                  51.2         47         60      0.384        0.2      0.271      0.128\n",
            "                  51.3         11         13      0.186      0.154      0.117     0.0739\n",
            "                  52.0        274        289      0.892       0.92      0.907      0.564\n",
            "                  52.3         21         21      0.195      0.333      0.169      0.113\n",
            "                  52.5         21         21      0.527      0.714      0.724      0.266\n",
            "                  53.0        277        302      0.851      0.904      0.885      0.563\n",
            "                  53.4         25         26      0.413      0.654      0.546      0.215\n",
            "                  53.5         29         30      0.355      0.167      0.282        0.2\n",
            "                  54.0        240        430      0.888      0.919      0.932       0.62\n",
            "                  54.4         89        125      0.555      0.304      0.358     0.0896\n",
            "                  54.5         23         27      0.225      0.148      0.154     0.0983\n",
            "                  55.0        282        508       0.87      0.945      0.928      0.524\n",
            "                  55.4         73         93      0.725      0.699      0.773      0.259\n",
            "                  55.5         14         15          0          0      0.102     0.0746\n",
            "                  56.0        373       1106       0.94      0.974      0.975      0.832\n",
            "                  56.1          1          1      0.298          1      0.995      0.697\n",
            "                  56.2          6          6          1          0      0.156       0.14\n",
            "                  56.4          5          9          1      0.222      0.468      0.279\n",
            "                  57.0        399       1170      0.962      0.969      0.984      0.785\n",
            "                  57.1          3          4          1          0      0.594      0.295\n",
            "                  57.2          1          1          1          0     0.0123    0.00737\n",
            "                  58.0        385        387      0.977      0.982      0.988      0.811\n",
            "                  58.1          5          5      0.716        0.4      0.858      0.511\n",
            "                  58.2          1          1          1          0     0.0553     0.0387\n",
            "                  59.0        388        388      0.972      0.995      0.985      0.842\n",
            "                  59.1          1          1          0          0          0          0\n",
            "                  59.2          1          1          1          0          0          0\n",
            "                  59.3          9         12      0.896      0.717      0.818      0.389\n",
            "                  60.0        302        304      0.812       0.97      0.941      0.744\n",
            "                  60.1         30         36      0.512      0.389      0.453      0.236\n",
            "                  60.3         74         87       0.57      0.494      0.523      0.288\n",
            "                  61.0        398        398      0.983      0.988      0.989      0.835\n",
            "                  61.1          1          1          1          0          0          0\n",
            "                  61.2          1          1          0          0          0          0\n",
            "                  61.4          4          4          1          0    0.00502    0.00352\n",
            "Speed: 0.5ms preprocess, 3.6ms inference, 0.0ms loss, 0.9ms postprocess per image\n",
            "Saving /content/drive/MyDrive/fiber_optic_box_inspection/runs_yolo/val_default_augmentations_P00_/predictions.json...\n",
            "Results saved to \u001b[1m/content/drive/MyDrive/fiber_optic_box_inspection/runs_yolo/val_default_augmentations_P00_\u001b[0m\n"
          ]
        }
      ]
    },
    {
      "cell_type": "code",
      "source": [
        "with open(Path(yolo_default_augmentations_P00.val_path, 'metrics_P00.pkl'), 'wb') as f:\n",
        "    pickle.dump(metrics_P00, f)"
      ],
      "metadata": {
        "id": "tz0_5I7_Tlw_"
      },
      "execution_count": null,
      "outputs": []
    },
    {
      "cell_type": "markdown",
      "source": [
        "### P25"
      ],
      "metadata": {
        "id": "RcC-5Qji3Jcs"
      }
    },
    {
      "cell_type": "code",
      "source": [
        "model_P25 = YOLO(yolo_default_augmentations_P25.get_best_weight_path()) # todo\n",
        "metrics_P25 = model_P25.val(\n",
        "    data=local_paths['yolo_data_cfg_P25'],\n",
        "    batch=32,\n",
        "    imgsz=IMGSZ,\n",
        "    save_json=True,\n",
        "    device=0,\n",
        "    plots=True,\n",
        "    project=paths['yolo_output_dir'],\n",
        "    name=yolo_default_augmentations_P25.val_run_name, #todo\n",
        "    verbose=True,\n",
        "    save_txt=True,\n",
        "    save_conf=True,\n",
        "    workers=16,\n",
        ")"
      ],
      "metadata": {
        "colab": {
          "base_uri": "https://localhost:8080/"
        },
        "outputId": "5a245c6d-7e93-4a18-a4c9-2ef09c087012",
        "collapsed": true,
        "id": "sWnvs3-k3Jct"
      },
      "execution_count": null,
      "outputs": [
        {
          "output_type": "stream",
          "name": "stdout",
          "text": [
            "Ultralytics 8.3.161 🚀 Python-3.11.13 torch-2.6.0+cu124 CUDA:0 (NVIDIA A100-SXM4-40GB, 40507MiB)\n",
            "Model summary (fused): 92 layers, 25,938,190 parameters, 0 gradients, 79.2 GFLOPs\n",
            "\u001b[34m\u001b[1mval: \u001b[0mFast image access ✅ (ping: 0.0±0.0 ms, read: 2498.5±665.7 MB/s, size: 129.8 KB)\n"
          ]
        },
        {
          "output_type": "stream",
          "name": "stderr",
          "text": [
            "\u001b[34m\u001b[1mval: \u001b[0mScanning /content/dataset_v2_ALL/image_label_P25... 2100 images, 0 backgrounds, 0 corrupt: 100%|██████████| 2100/2100 [00:01<00:00, 1454.44it/s]"
          ]
        },
        {
          "output_type": "stream",
          "name": "stdout",
          "text": [
            "\u001b[34m\u001b[1mval: \u001b[0m/content/dataset_v2_ALL/image_label_P25/2022_11_14_16_04_38-HNIP548102HO.jpg: 1 duplicate labels removed\n",
            "\u001b[34m\u001b[1mval: \u001b[0m/content/dataset_v2_ALL/image_label_P25/2022_11_16_10_35_33-GLIP038152HO.jpg: 1 duplicate labels removed\n",
            "\u001b[34m\u001b[1mval: \u001b[0m/content/dataset_v2_ALL/image_label_P25/2022_11_16_15_40_51-HBHP012080HO.jpg: 1 duplicate labels removed\n",
            "\u001b[34m\u001b[1mval: \u001b[0m/content/dataset_v2_ALL/image_label_P25/2022_11_17_15_10_14-TNNP063261HO.jpg: 1 duplicate labels removed\n",
            "\u001b[34m\u001b[1mval: \u001b[0m/content/dataset_v2_ALL/image_label_P25/2022_11_21_09_08_32-TNNP069058HO.jpg: 1 duplicate labels removed\n",
            "\u001b[34m\u001b[1mval: \u001b[0m/content/dataset_v2_ALL/image_label_P25/2022_12_08_10_14_33-HYNP074125HO.jpg: 1 duplicate labels removed\n",
            "\u001b[34m\u001b[1mval: \u001b[0mNew cache created: /content/dataset_v2_ALL/image_label_P25.cache\n"
          ]
        },
        {
          "output_type": "stream",
          "name": "stderr",
          "text": [
            "\n",
            "                 Class     Images  Instances      Box(P          R      mAP50  mAP50-95): 100%|██████████| 66/66 [02:00<00:00,  1.83s/it]\n"
          ]
        },
        {
          "output_type": "stream",
          "name": "stdout",
          "text": [
            "                   all       2100      23398      0.678      0.637      0.634      0.427\n",
            "                   1.0        207        208      0.757      0.904      0.895      0.771\n",
            "                   1.1         89         89       0.66      0.843      0.764      0.614\n",
            "                   1.2         41         42      0.453      0.452      0.412       0.27\n",
            "                   1.7         29         29      0.403      0.552      0.529      0.373\n",
            "                   2.0        366        367      0.922      0.969      0.971      0.862\n",
            "                   3.0        351        351      0.909      0.969      0.973      0.668\n",
            "                   5.0        315        614      0.918      0.987      0.984      0.694\n",
            "                   5.1         17         18      0.888      0.443      0.539      0.297\n",
            "                   6.0        318        319      0.916      0.972       0.97      0.755\n",
            "                   7.0        283        283      0.765      0.968      0.896      0.623\n",
            "                   7.1         16         16     0.0188    0.00236      0.115     0.0717\n",
            "                   7.2          7          7      0.796      0.143      0.169     0.0397\n",
            "                   8.0        300        860      0.794      0.833      0.851      0.511\n",
            "                   8.3         18         24      0.131      0.333      0.114       0.07\n",
            "                   9.0        222        399      0.713      0.752      0.771       0.41\n",
            "                   9.4         72         97      0.703      0.753       0.69      0.366\n",
            "                  10.0        125        126      0.375      0.754      0.464      0.333\n",
            "                  11.0        374        963      0.712      0.922      0.792      0.469\n",
            "                  11.1         29         43      0.233     0.0465      0.124     0.0596\n",
            "                  13.0        227        229      0.622      0.852      0.801      0.616\n",
            "                  13.1         14         14          1          0     0.0515     0.0296\n",
            "                  14.0        205        207      0.735      0.855      0.829      0.713\n",
            "                  14.1         28         28       0.55      0.643      0.644      0.566\n",
            "                  14.2        119        125       0.55       0.88      0.813      0.636\n",
            "                  19.0        124        124      0.594      0.532      0.617      0.436\n",
            "                  19.1          8          8          1          0     0.0513     0.0355\n",
            "                  19.3         92         92      0.527      0.707      0.609      0.328\n",
            "                  20.0        109        110      0.681      0.627      0.619      0.464\n",
            "                  20.1         76         84      0.466      0.571      0.528      0.328\n",
            "                  20.2        109        151      0.514      0.695      0.589      0.267\n",
            "                  23.0        349        359      0.651      0.928      0.823      0.579\n",
            "                  23.1        222        270      0.551      0.589      0.598      0.324\n",
            "                  23.2          8          8          1          0       0.03     0.0139\n",
            "                  24.0         62        100      0.746       0.66      0.676      0.291\n",
            "                  24.1         94        161       0.59      0.491      0.521        0.2\n",
            "                  26.0        605        606      0.889      0.993       0.96      0.839\n",
            "                  26.1          5          6          1          0     0.0573     0.0506\n",
            "                  27.0        207        208      0.781      0.942      0.909      0.613\n",
            "                  28.0        302        302      0.888          1      0.971      0.828\n",
            "                  29.0        317        319      0.944      0.994      0.977      0.885\n",
            "                  29.1         25         25        0.2       0.16       0.18       0.14\n",
            "                  29.4          1          1          1          0    0.00822    0.00822\n",
            "                  30.0        240        452      0.923       0.96      0.951      0.604\n",
            "                  30.1         16         16      0.302      0.125      0.247      0.152\n",
            "                  32.0         99        189      0.984      0.972      0.987      0.679\n",
            "                  32.1         11         15      0.511        0.8      0.713      0.526\n",
            "                  32.2         54        102      0.747      0.892      0.906      0.572\n",
            "                  35.0        214        228       0.74      0.789      0.812      0.367\n",
            "                  35.1         62         64      0.449      0.297      0.315      0.112\n",
            "                  37.0        269        636       0.73      0.951      0.904      0.585\n",
            "                  37.4         73        214        0.8      0.963      0.921      0.614\n",
            "                  38.0        260        939      0.769      0.856      0.889      0.563\n",
            "                  38.1          5          7          1          0     0.0635     0.0198\n",
            "                  39.0        204        342      0.878      0.942      0.929       0.61\n",
            "                  39.1         13         18       0.57      0.221      0.358      0.151\n",
            "                  40.0        229        229      0.744          1      0.942      0.821\n",
            "                  40.1         32         32      0.586       0.62      0.704      0.546\n",
            "                  41.0        143        146      0.959      0.963       0.97      0.841\n",
            "                  41.1          2          2          0          0     0.0119     0.0107\n",
            "                  42.0        149        149      0.884      0.993      0.976      0.705\n",
            "                  42.1          9          9      0.939      0.333      0.502      0.284\n",
            "                  43.0        400       1577      0.971      0.986      0.989      0.841\n",
            "                  43.1         39         47      0.685      0.872      0.908      0.567\n",
            "                  44.0        303        304      0.974       0.97      0.986      0.761\n",
            "                  45.0        301        302      0.866       0.95      0.954      0.748\n",
            "                  45.1         82         86      0.412      0.686      0.483      0.202\n",
            "                  45.2          9          9      0.329     0.0732      0.212     0.0746\n",
            "                  46.0        186        470      0.738      0.857      0.837      0.405\n",
            "                  46.1         99        167      0.539      0.042      0.249     0.0743\n",
            "                  46.3          8         10          1          0      0.167     0.0777\n",
            "                  47.0        311        923      0.852      0.928       0.94      0.576\n",
            "                  47.1        100        105      0.793      0.804      0.819       0.39\n",
            "                  48.0        290        343      0.671      0.851      0.844      0.462\n",
            "                  49.0        223        236      0.706       0.89      0.806      0.557\n",
            "                  49.3         29         29      0.307      0.414      0.243     0.0937\n",
            "                  49.4         65         68      0.507      0.485      0.498      0.283\n",
            "                  50.0        145        149      0.887       0.94      0.926      0.737\n",
            "                  50.1         40         40      0.488      0.951      0.823      0.519\n",
            "                  50.2          7          8          1          0     0.0376     0.0181\n",
            "                  51.0        494        495      0.863      0.994      0.938      0.831\n",
            "                  51.2         48         61      0.433      0.393      0.332      0.155\n",
            "                  51.3         10         12      0.182      0.167      0.161      0.116\n",
            "                  52.0        277        292      0.894      0.928      0.921      0.568\n",
            "                  52.3         21         21          0          0      0.153      0.103\n",
            "                  52.5         21         21      0.704      0.792      0.744      0.305\n",
            "                  53.0        280        305      0.826      0.918      0.888      0.562\n",
            "                  53.4         25         26      0.444      0.423      0.425      0.142\n",
            "                  53.5         29         30      0.222      0.233      0.229      0.164\n",
            "                  54.0        240        429      0.875      0.925      0.935       0.63\n",
            "                  54.4         92        129      0.618      0.295      0.394      0.128\n",
            "                  54.5         23         27      0.131      0.037     0.0912     0.0542\n",
            "                  55.0        285        514       0.87      0.949      0.923       0.53\n",
            "                  55.4         73         93      0.647      0.817      0.761      0.305\n",
            "                  55.5         14         15          0          0     0.0779     0.0616\n",
            "                  56.0        372       1102      0.919      0.984      0.978       0.84\n",
            "                  56.4          5          9       0.69      0.556      0.559      0.337\n",
            "                  57.0        397       1164       0.95      0.972      0.983       0.78\n",
            "                  58.0        383        385      0.977      0.983      0.983      0.796\n",
            "                  58.1          6          6      0.692      0.754      0.823      0.505\n",
            "                  59.0        387        387      0.984      0.992      0.989      0.847\n",
            "                  60.0        299        301      0.791      0.977      0.943      0.748\n",
            "                  60.1         31         37      0.415      0.541      0.479      0.249\n",
            "                  60.3         74         87      0.584      0.506      0.499      0.265\n",
            "                  61.0        396        396      0.978      0.992       0.99      0.835\n",
            "Speed: 0.6ms preprocess, 3.6ms inference, 0.0ms loss, 0.8ms postprocess per image\n",
            "Saving /content/drive/MyDrive/fiber_optic_box_inspection/runs_yolo/val_default_augmentations_P25_/predictions.json...\n",
            "Results saved to \u001b[1m/content/drive/MyDrive/fiber_optic_box_inspection/runs_yolo/val_default_augmentations_P25_\u001b[0m\n"
          ]
        }
      ]
    },
    {
      "cell_type": "code",
      "source": [
        "with open(Path(yolo_default_augmentations_P25.val_path, 'metrics_P25.pkl'), 'wb') as f:\n",
        "    pickle.dump(metrics_P25, f)"
      ],
      "metadata": {
        "id": "k5qD-Hzb3Jct"
      },
      "execution_count": null,
      "outputs": []
    },
    {
      "cell_type": "markdown",
      "source": [
        "### P30"
      ],
      "metadata": {
        "id": "HL5-xl2N3Wjh"
      }
    },
    {
      "cell_type": "code",
      "source": [
        "model_P30 = YOLO(yolo_default_augmentations_P30.get_best_weight_path()) # todo\n",
        "metrics_P30 = model_P30.val(\n",
        "    data=local_paths['yolo_data_cfg_P30'],\n",
        "    batch=32,\n",
        "    imgsz=IMGSZ,\n",
        "    save_json=True,\n",
        "    device=0,\n",
        "    plots=True,\n",
        "    project=paths['yolo_output_dir'],\n",
        "    name=yolo_default_augmentations_P30.val_run_name, #todo\n",
        "    verbose=True,\n",
        "    save_txt=True,\n",
        "    save_conf=True,\n",
        "    workers=16,\n",
        ")"
      ],
      "metadata": {
        "colab": {
          "base_uri": "https://localhost:8080/"
        },
        "outputId": "091c49fd-ac56-413f-e1c3-400a8ca17b4b",
        "collapsed": true,
        "id": "ABCONxi63Wji"
      },
      "execution_count": null,
      "outputs": [
        {
          "output_type": "stream",
          "name": "stdout",
          "text": [
            "Ultralytics 8.3.161 🚀 Python-3.11.13 torch-2.6.0+cu124 CUDA:0 (NVIDIA A100-SXM4-40GB, 40507MiB)\n",
            "Model summary (fused): 92 layers, 25,938,190 parameters, 0 gradients, 79.2 GFLOPs\n",
            "\u001b[34m\u001b[1mval: \u001b[0mFast image access ✅ (ping: 0.0±0.0 ms, read: 2353.3±680.5 MB/s, size: 123.1 KB)\n"
          ]
        },
        {
          "output_type": "stream",
          "name": "stderr",
          "text": [
            "\u001b[34m\u001b[1mval: \u001b[0mScanning /content/dataset_v2_ALL/image_label_P30... 2100 images, 0 backgrounds, 0 corrupt: 100%|██████████| 2100/2100 [00:01<00:00, 1452.79it/s]"
          ]
        },
        {
          "output_type": "stream",
          "name": "stdout",
          "text": [
            "\u001b[34m\u001b[1mval: \u001b[0m/content/dataset_v2_ALL/image_label_P30/2022_11_14_16_04_38-HNIP548102HO.jpg: 1 duplicate labels removed\n",
            "\u001b[34m\u001b[1mval: \u001b[0m/content/dataset_v2_ALL/image_label_P30/2022_11_16_10_35_33-GLIP038152HO.jpg: 1 duplicate labels removed\n",
            "\u001b[34m\u001b[1mval: \u001b[0m/content/dataset_v2_ALL/image_label_P30/2022_11_16_15_40_51-HBHP012080HO.jpg: 1 duplicate labels removed\n",
            "\u001b[34m\u001b[1mval: \u001b[0m/content/dataset_v2_ALL/image_label_P30/2022_11_17_15_10_14-TNNP063261HO.jpg: 1 duplicate labels removed\n",
            "\u001b[34m\u001b[1mval: \u001b[0m/content/dataset_v2_ALL/image_label_P30/2022_11_21_09_08_32-TNNP069058HO.jpg: 1 duplicate labels removed\n",
            "\u001b[34m\u001b[1mval: \u001b[0m/content/dataset_v2_ALL/image_label_P30/2022_12_08_10_14_33-HYNP074125HO.jpg: 1 duplicate labels removed\n",
            "\u001b[34m\u001b[1mval: \u001b[0mNew cache created: /content/dataset_v2_ALL/image_label_P30.cache\n"
          ]
        },
        {
          "output_type": "stream",
          "name": "stderr",
          "text": [
            "\n",
            "                 Class     Images  Instances      Box(P          R      mAP50  mAP50-95): 100%|██████████| 66/66 [01:55<00:00,  1.75s/it]\n"
          ]
        },
        {
          "output_type": "stream",
          "name": "stdout",
          "text": [
            "                   all       2100      23341      0.698      0.676      0.674      0.454\n",
            "                   1.0        201        203      0.745      0.921      0.891       0.76\n",
            "                   1.1         89         89      0.675      0.809      0.786      0.622\n",
            "                   1.2         41         42      0.512      0.525       0.52      0.336\n",
            "                   1.7         29         29      0.213      0.552      0.484      0.336\n",
            "                   2.0        361        362      0.889      0.972      0.974      0.861\n",
            "                   3.0        347        347       0.93      0.965      0.976      0.642\n",
            "                   5.0        314        612       0.95      0.979      0.987      0.689\n",
            "                   5.1         17         18       0.76      0.333      0.536      0.289\n",
            "                   6.0        322        323      0.933      0.972      0.971      0.752\n",
            "                   7.0        286        286      0.792      0.951      0.883      0.605\n",
            "                   7.1         16         16      0.121     0.0625       0.07     0.0437\n",
            "                   8.0        298        855      0.796      0.848      0.853      0.502\n",
            "                   8.3         19         25      0.263      0.257      0.165     0.0903\n",
            "                   9.0        218        386      0.739      0.727      0.782      0.435\n",
            "                   9.4         70         97      0.695      0.777      0.738      0.411\n",
            "                  10.0        124        125      0.395      0.656       0.42      0.301\n",
            "                  11.0        368        951      0.699      0.907      0.802      0.482\n",
            "                  11.1         29         43      0.293     0.0299      0.159     0.0846\n",
            "                  13.0        231        233      0.578      0.876      0.788      0.614\n",
            "                  13.1         14         14          1          0     0.0526     0.0329\n",
            "                  14.0        204        206      0.702      0.869      0.841      0.728\n",
            "                  14.1         29         29      0.558      0.567      0.624      0.496\n",
            "                  14.2        115        121      0.601       0.81      0.761      0.582\n",
            "                  19.0        123        123      0.465      0.684      0.568      0.405\n",
            "                  19.1          7          7          1          0      0.181      0.171\n",
            "                  19.3         95         95      0.508      0.695      0.606      0.351\n",
            "                  20.0        102        103      0.653      0.639      0.661      0.493\n",
            "                  20.1         79         88      0.504      0.614       0.59      0.375\n",
            "                  20.2        109        151      0.532      0.616      0.543      0.244\n",
            "                  23.0        347        357      0.715      0.905      0.831      0.566\n",
            "                  23.1        223        271      0.711      0.572      0.632      0.339\n",
            "                  23.2          8          8          1          0     0.0139    0.00963\n",
            "                  24.0         66        106      0.694      0.707      0.634       0.26\n",
            "                  24.1         96        161      0.723       0.41      0.506      0.195\n",
            "                  26.0        612        613       0.89      0.992      0.968      0.835\n",
            "                  27.0        214        215      0.849      0.893      0.932      0.621\n",
            "                  28.0        305        305      0.905          1      0.961      0.817\n",
            "                  29.0        319        321      0.948      0.994       0.98      0.892\n",
            "                  29.1         26         26      0.223      0.269      0.217       0.18\n",
            "                  30.0        239        451      0.939      0.889      0.953      0.618\n",
            "                  30.1         15         15      0.324      0.133      0.177      0.119\n",
            "                  32.0        103        197      0.974      0.967      0.991      0.685\n",
            "                  32.1         11         15      0.649      0.733      0.739       0.51\n",
            "                  32.2         53        100      0.817       0.82      0.876      0.573\n",
            "                  35.0        215        229      0.787      0.789      0.832      0.374\n",
            "                  35.1         62         64      0.498      0.559      0.499      0.195\n",
            "                  37.0        274        648      0.785      0.938      0.914      0.588\n",
            "                  37.4         72        214      0.802      0.967      0.937      0.651\n",
            "                  38.0        265        958      0.769      0.868      0.901      0.561\n",
            "                  38.1          5          7      0.366      0.143      0.233     0.0616\n",
            "                  39.0        203        341        0.9      0.935      0.932      0.605\n",
            "                  39.1         14         19      0.411      0.185      0.217     0.0718\n",
            "                  40.0        231        232      0.762      0.996      0.956      0.843\n",
            "                  40.1         33         33      0.713      0.545      0.725      0.523\n",
            "                  41.0        146        149      0.973       0.97      0.975      0.843\n",
            "                  41.1          2          2      0.862        0.5      0.496      0.397\n",
            "                  42.0        151        151       0.91      0.987      0.968      0.714\n",
            "                  42.1          9          9      0.513      0.444      0.545      0.316\n",
            "                  43.0        395       1555      0.976      0.985      0.986       0.83\n",
            "                  43.1         40         50      0.758       0.92      0.917      0.566\n",
            "                  44.0        306        307      0.967      0.974      0.984      0.768\n",
            "                  45.0        296        297      0.858      0.973      0.963      0.751\n",
            "                  45.1         82         87      0.399       0.69       0.52      0.215\n",
            "                  46.0        182        457      0.702      0.864      0.835      0.404\n",
            "                  46.1         98        166      0.666     0.0482      0.205     0.0675\n",
            "                  47.0        318        944      0.879      0.928      0.941      0.575\n",
            "                  47.1        100        105      0.821      0.848      0.858      0.401\n",
            "                  48.0        297        348      0.705      0.865      0.852      0.457\n",
            "                  49.0        225        238      0.743      0.852      0.811      0.557\n",
            "                  49.3         30         30      0.284        0.5      0.266        0.1\n",
            "                  49.4         65         68      0.556      0.331      0.444      0.272\n",
            "                  50.0        141        145      0.892      0.945      0.916      0.715\n",
            "                  50.1         41         41      0.511      0.878      0.821      0.506\n",
            "                  50.2          8          9          1          0      0.122     0.0256\n",
            "                  51.0        493        494      0.885      0.969      0.938      0.836\n",
            "                  51.2         49         62      0.369        0.5      0.352       0.16\n",
            "                  51.3         10         12      0.189     0.0833      0.106     0.0877\n",
            "                  52.0        283        297      0.887      0.929      0.927      0.559\n",
            "                  52.3         18         18      0.463     0.0514      0.138     0.0853\n",
            "                  52.5         20         20      0.655       0.76      0.747      0.223\n",
            "                  53.0        279        302      0.835      0.923      0.859      0.552\n",
            "                  53.4         27         28      0.626      0.679      0.601       0.23\n",
            "                  53.5         28         29      0.233      0.138      0.226      0.155\n",
            "                  54.0        245        439      0.859       0.94      0.933      0.608\n",
            "                  54.4         89        123      0.486      0.384      0.392      0.124\n",
            "                  54.5         23         27      0.296      0.111      0.118     0.0761\n",
            "                  55.0        290        522      0.904      0.941       0.94      0.554\n",
            "                  55.4         76         95      0.622      0.747      0.741      0.278\n",
            "                  55.5         13         14          1          0      0.114     0.0894\n",
            "                  56.0        367       1087      0.909      0.989      0.978      0.836\n",
            "                  57.0        392       1150      0.948      0.974       0.98      0.773\n",
            "                  58.0        377        379      0.957      0.989      0.985      0.798\n",
            "                  58.1          6          6       0.91      0.833      0.942      0.649\n",
            "                  59.0        381        381       0.97      0.997      0.986      0.839\n",
            "                  60.0        295        297      0.801      0.949      0.934      0.734\n",
            "                  60.1         30         36      0.523        0.5      0.472      0.243\n",
            "                  60.3         74         89      0.463      0.514      0.474      0.249\n",
            "                  61.0        391        391       0.98      0.997      0.986      0.835\n",
            "Speed: 0.4ms preprocess, 3.7ms inference, 0.0ms loss, 0.8ms postprocess per image\n",
            "Saving /content/drive/MyDrive/fiber_optic_box_inspection/runs_yolo/val_default_augmentations_P30_/predictions.json...\n",
            "Results saved to \u001b[1m/content/drive/MyDrive/fiber_optic_box_inspection/runs_yolo/val_default_augmentations_P30_\u001b[0m\n"
          ]
        }
      ]
    },
    {
      "cell_type": "code",
      "source": [
        "with open(Path(yolo_default_augmentations_P30.val_path, 'metrics_P30.pkl'), 'wb') as f:\n",
        "    pickle.dump(metrics_P30, f)"
      ],
      "metadata": {
        "id": "_3Nhx2yD3Wji"
      },
      "execution_count": null,
      "outputs": []
    },
    {
      "cell_type": "markdown",
      "source": [
        "### P35"
      ],
      "metadata": {
        "id": "FqR87Yf23kxk"
      }
    },
    {
      "cell_type": "code",
      "source": [
        "model_P35 = YOLO(yolo_default_augmentations_P35.get_best_weight_path()) # todo\n",
        "metrics_P35 = model_P35.val(\n",
        "    data=local_paths['yolo_data_cfg_P35'],\n",
        "    batch=32,\n",
        "    imgsz=IMGSZ,\n",
        "    save_json=True,\n",
        "    device=0,\n",
        "    plots=True,\n",
        "    project=paths['yolo_output_dir'],\n",
        "    name=yolo_default_augmentations_P35.val_run_name, #todo\n",
        "    verbose=True,\n",
        "    save_txt=True,\n",
        "    save_conf=True,\n",
        "    workers=16,\n",
        ")"
      ],
      "metadata": {
        "colab": {
          "base_uri": "https://localhost:8080/"
        },
        "outputId": "eaa3d920-0689-4e94-dc09-cd6f9b7c4c17",
        "collapsed": true,
        "id": "S2Uz2lM53kxl"
      },
      "execution_count": null,
      "outputs": [
        {
          "output_type": "stream",
          "name": "stdout",
          "text": [
            "Ultralytics 8.3.161 🚀 Python-3.11.13 torch-2.6.0+cu124 CUDA:0 (NVIDIA A100-SXM4-40GB, 40507MiB)\n",
            "Model summary (fused): 92 layers, 25,938,190 parameters, 0 gradients, 79.2 GFLOPs\n",
            "\u001b[34m\u001b[1mval: \u001b[0mFast image access ✅ (ping: 0.0±0.0 ms, read: 2571.1±685.9 MB/s, size: 134.0 KB)\n"
          ]
        },
        {
          "output_type": "stream",
          "name": "stderr",
          "text": [
            "\u001b[34m\u001b[1mval: \u001b[0mScanning /content/dataset_v2_ALL/image_label_P35... 2100 images, 0 backgrounds, 0 corrupt: 100%|██████████| 2100/2100 [00:01<00:00, 1459.26it/s]"
          ]
        },
        {
          "output_type": "stream",
          "name": "stdout",
          "text": [
            "\u001b[34m\u001b[1mval: \u001b[0m/content/dataset_v2_ALL/image_label_P35/2022_11_14_16_04_38-HNIP548102HO.jpg: 1 duplicate labels removed\n",
            "\u001b[34m\u001b[1mval: \u001b[0m/content/dataset_v2_ALL/image_label_P35/2022_11_16_10_35_33-GLIP038152HO.jpg: 1 duplicate labels removed\n",
            "\u001b[34m\u001b[1mval: \u001b[0m/content/dataset_v2_ALL/image_label_P35/2022_11_16_15_40_51-HBHP012080HO.jpg: 1 duplicate labels removed\n",
            "\u001b[34m\u001b[1mval: \u001b[0m/content/dataset_v2_ALL/image_label_P35/2022_11_17_15_10_14-TNNP063261HO.jpg: 1 duplicate labels removed\n",
            "\u001b[34m\u001b[1mval: \u001b[0m/content/dataset_v2_ALL/image_label_P35/2022_11_21_09_08_32-TNNP069058HO.jpg: 1 duplicate labels removed\n",
            "\u001b[34m\u001b[1mval: \u001b[0m/content/dataset_v2_ALL/image_label_P35/2022_12_08_10_14_33-HYNP074125HO.jpg: 1 duplicate labels removed\n",
            "\u001b[34m\u001b[1mval: \u001b[0mNew cache created: /content/dataset_v2_ALL/image_label_P35.cache\n"
          ]
        },
        {
          "output_type": "stream",
          "name": "stderr",
          "text": [
            "\n",
            "                 Class     Images  Instances      Box(P          R      mAP50  mAP50-95): 100%|██████████| 66/66 [02:03<00:00,  1.87s/it]\n"
          ]
        },
        {
          "output_type": "stream",
          "name": "stdout",
          "text": [
            "                   all       2100      23291      0.665      0.709      0.694       0.47\n",
            "                   1.0        201        203      0.723      0.936       0.91      0.782\n",
            "                   1.1         89         89      0.576      0.749      0.727       0.57\n",
            "                   1.2         41         42      0.336      0.524      0.464      0.336\n",
            "                   1.7         29         29      0.527        0.5      0.518      0.395\n",
            "                   2.0        361        362      0.875      0.975      0.972      0.859\n",
            "                   3.0        347        347      0.918      0.968      0.975      0.653\n",
            "                   5.0        314        612      0.947      0.986      0.985      0.678\n",
            "                   6.0        322        323      0.941      0.969       0.97      0.749\n",
            "                   7.0        286        286      0.816       0.93      0.892      0.623\n",
            "                   7.1         16         16     0.0597     0.0625      0.104     0.0612\n",
            "                   8.0        298        855        0.8       0.83      0.843      0.505\n",
            "                   8.3         19         25      0.257       0.12      0.179     0.0867\n",
            "                   9.0        218        386       0.69      0.791      0.764      0.403\n",
            "                   9.4         70         97      0.699      0.773      0.746      0.403\n",
            "                  10.0        124        125      0.367       0.84      0.488      0.367\n",
            "                  11.0        368        951      0.698      0.935      0.802      0.472\n",
            "                  11.1         29         43      0.162     0.0698     0.0987     0.0359\n",
            "                  13.0        231        233      0.621      0.871      0.814      0.619\n",
            "                  13.1         14         14      0.334     0.0714       0.12     0.0883\n",
            "                  14.0        204        206      0.684      0.922      0.838      0.718\n",
            "                  14.1         29         29      0.488      0.724      0.641      0.551\n",
            "                  14.2        115        121      0.581      0.818      0.823       0.64\n",
            "                  19.0        123        123      0.571      0.562       0.62      0.432\n",
            "                  19.3         95         95      0.575      0.642      0.662      0.375\n",
            "                  20.0        102        103      0.506      0.738      0.634      0.452\n",
            "                  20.1         79         88      0.469      0.716       0.65      0.415\n",
            "                  20.2        109        151       0.47      0.728      0.593       0.29\n",
            "                  23.0        347        357      0.687      0.908      0.809      0.577\n",
            "                  23.1        223        271      0.697      0.568        0.6      0.329\n",
            "                  24.0         66        106      0.717      0.717      0.666      0.288\n",
            "                  24.1         96        161      0.666      0.447      0.517      0.225\n",
            "                  26.0        612        613      0.887      0.994      0.962      0.841\n",
            "                  27.0        214        215      0.844      0.926       0.93      0.626\n",
            "                  28.0        305        305      0.902          1      0.961      0.817\n",
            "                  29.0        319        321      0.945      0.994      0.978      0.892\n",
            "                  29.1         26         26      0.327      0.308      0.285       0.22\n",
            "                  30.0        239        451       0.92      0.949      0.942      0.603\n",
            "                  30.1         15         15      0.323      0.133      0.131     0.0823\n",
            "                  32.0        103        197      0.975      0.988      0.993      0.691\n",
            "                  32.1         11         15      0.648      0.614      0.744      0.513\n",
            "                  32.2         53        100       0.92        0.7      0.872      0.584\n",
            "                  35.0        215        229       0.72      0.852      0.838      0.389\n",
            "                  35.1         62         64      0.444      0.469      0.421      0.202\n",
            "                  37.0        274        648      0.791      0.931      0.903      0.577\n",
            "                  37.4         72        214       0.82      0.894      0.927      0.626\n",
            "                  38.0        265        958      0.724      0.876       0.89      0.563\n",
            "                  38.1          5          7      0.243      0.143      0.239      0.109\n",
            "                  39.0        203        341      0.877      0.944      0.939       0.61\n",
            "                  39.1         14         19      0.506      0.162      0.286      0.116\n",
            "                  40.0        231        232      0.751      0.983      0.944      0.836\n",
            "                  40.1         33         33      0.613      0.636      0.715      0.525\n",
            "                  41.0        146        149      0.973      0.973      0.972      0.838\n",
            "                  42.0        151        151      0.899      0.987      0.975      0.717\n",
            "                  42.1          9          9      0.415      0.444      0.406      0.257\n",
            "                  43.0        395       1555      0.977      0.986      0.987      0.831\n",
            "                  43.1         40         50      0.704      0.856      0.919      0.528\n",
            "                  44.0        306        307       0.95      0.977      0.988      0.757\n",
            "                  45.0        296        297      0.862       0.97      0.953      0.744\n",
            "                  45.1         82         87      0.608      0.483      0.525      0.229\n",
            "                  46.0        182        457      0.693      0.859      0.824        0.4\n",
            "                  46.1         98        166      0.552     0.0602      0.223      0.072\n",
            "                  47.0        318        944      0.845      0.936      0.946      0.565\n",
            "                  47.1        100        105      0.779      0.857      0.858      0.408\n",
            "                  48.0        297        348      0.699      0.856      0.835      0.458\n",
            "                  49.0        225        238      0.731       0.84      0.807      0.565\n",
            "                  49.3         30         30      0.261      0.567      0.237      0.082\n",
            "                  49.4         65         68      0.425      0.382      0.392      0.235\n",
            "                  50.0        141        145      0.904      0.952      0.914      0.715\n",
            "                  50.1         41         41      0.571      0.951      0.818      0.541\n",
            "                  51.0        493        494      0.885      0.982      0.951      0.848\n",
            "                  51.2         49         62      0.328      0.306      0.224      0.103\n",
            "                  51.3         10         12      0.116       0.25      0.209     0.0996\n",
            "                  52.0        283        297      0.882      0.909      0.912      0.555\n",
            "                  52.3         18         18      0.141      0.278       0.13     0.0874\n",
            "                  52.5         20         20      0.737       0.85      0.825      0.304\n",
            "                  53.0        279        302      0.818      0.906      0.877      0.553\n",
            "                  53.4         27         28      0.749      0.534      0.622      0.221\n",
            "                  53.5         28         29      0.257      0.345      0.228      0.149\n",
            "                  54.0        245        439      0.847      0.936       0.93      0.621\n",
            "                  54.4         89        123       0.51       0.28      0.319     0.0996\n",
            "                  54.5         23         27      0.249      0.148      0.186      0.107\n",
            "                  55.0        290        522      0.898      0.944      0.939      0.543\n",
            "                  55.4         76         95       0.57      0.842       0.76      0.267\n",
            "                  55.5         13         14          1          0     0.0558     0.0411\n",
            "                  56.0        367       1087      0.932      0.976      0.981      0.832\n",
            "                  57.0        392       1150      0.946       0.97      0.973       0.77\n",
            "                  58.0        377        379      0.973      0.987      0.983      0.796\n",
            "                  59.0        381        381      0.973      0.995      0.984      0.833\n",
            "                  60.0        295        297      0.822      0.946      0.936      0.743\n",
            "                  60.1         30         36      0.576       0.49      0.473      0.251\n",
            "                  60.3         74         89      0.483      0.526      0.491      0.272\n",
            "                  61.0        391        391      0.982      0.997      0.987      0.819\n",
            "Speed: 0.5ms preprocess, 3.7ms inference, 0.0ms loss, 0.8ms postprocess per image\n",
            "Saving /content/drive/MyDrive/fiber_optic_box_inspection/runs_yolo/val_default_augmentations_P35_/predictions.json...\n",
            "Results saved to \u001b[1m/content/drive/MyDrive/fiber_optic_box_inspection/runs_yolo/val_default_augmentations_P35_\u001b[0m\n"
          ]
        }
      ]
    },
    {
      "cell_type": "code",
      "source": [
        "with open(Path(yolo_default_augmentations_P35.val_path, 'metrics_P35.pkl'), 'wb') as f:\n",
        "    pickle.dump(metrics_P35, f)"
      ],
      "metadata": {
        "id": "4bEypCAY3kxl"
      },
      "execution_count": null,
      "outputs": []
    },
    {
      "cell_type": "markdown",
      "source": [
        "### P40"
      ],
      "metadata": {
        "id": "RYlF8ea03vQd"
      }
    },
    {
      "cell_type": "code",
      "source": [
        "model_P40 = YOLO(yolo_default_augmentations_P40.get_best_weight_path()) # todo\n",
        "metrics_P40 = model_P40.val(\n",
        "    data=local_paths['yolo_data_cfg_P40'],\n",
        "    batch=32,\n",
        "    imgsz=IMGSZ,\n",
        "    save_json=True,\n",
        "    device=0,\n",
        "    plots=True,\n",
        "    project=paths['yolo_output_dir'],\n",
        "    name=yolo_default_augmentations_P40.val_run_name, #todo\n",
        "    verbose=True,\n",
        "    save_txt=True,\n",
        "    save_conf=True,\n",
        "    workers=16,\n",
        ")"
      ],
      "metadata": {
        "colab": {
          "base_uri": "https://localhost:8080/"
        },
        "outputId": "7ca098ee-dc3a-4d91-9ebb-0995ff9129d2",
        "collapsed": true,
        "id": "tniNsfU-3vQe"
      },
      "execution_count": null,
      "outputs": [
        {
          "output_type": "stream",
          "name": "stdout",
          "text": [
            "Ultralytics 8.3.161 🚀 Python-3.11.13 torch-2.6.0+cu124 CUDA:0 (NVIDIA A100-SXM4-40GB, 40507MiB)\n",
            "Model summary (fused): 92 layers, 25,938,190 parameters, 0 gradients, 79.2 GFLOPs\n",
            "\u001b[34m\u001b[1mval: \u001b[0mFast image access ✅ (ping: 0.0±0.0 ms, read: 2284.0±832.3 MB/s, size: 111.5 KB)\n"
          ]
        },
        {
          "output_type": "stream",
          "name": "stderr",
          "text": [
            "\u001b[34m\u001b[1mval: \u001b[0mScanning /content/dataset_v2_ALL/image_label_P40... 2100 images, 0 backgrounds, 0 corrupt: 100%|██████████| 2100/2100 [00:01<00:00, 1415.43it/s]"
          ]
        },
        {
          "output_type": "stream",
          "name": "stdout",
          "text": [
            "\u001b[34m\u001b[1mval: \u001b[0m/content/dataset_v2_ALL/image_label_P40/2022_11_14_16_04_38-HNIP548102HO.jpg: 1 duplicate labels removed\n",
            "\u001b[34m\u001b[1mval: \u001b[0m/content/dataset_v2_ALL/image_label_P40/2022_11_16_10_35_33-GLIP038152HO.jpg: 1 duplicate labels removed\n",
            "\u001b[34m\u001b[1mval: \u001b[0m/content/dataset_v2_ALL/image_label_P40/2022_11_16_15_40_51-HBHP012080HO.jpg: 1 duplicate labels removed\n",
            "\u001b[34m\u001b[1mval: \u001b[0m/content/dataset_v2_ALL/image_label_P40/2022_11_17_15_10_14-TNNP063261HO.jpg: 1 duplicate labels removed\n",
            "\u001b[34m\u001b[1mval: \u001b[0m/content/dataset_v2_ALL/image_label_P40/2022_11_21_09_08_32-TNNP069058HO.jpg: 1 duplicate labels removed\n",
            "\u001b[34m\u001b[1mval: \u001b[0m/content/dataset_v2_ALL/image_label_P40/2022_12_08_10_14_33-HYNP074125HO.jpg: 1 duplicate labels removed\n",
            "\u001b[34m\u001b[1mval: \u001b[0mNew cache created: /content/dataset_v2_ALL/image_label_P40.cache\n"
          ]
        },
        {
          "output_type": "stream",
          "name": "stderr",
          "text": [
            "\n",
            "                 Class     Images  Instances      Box(P          R      mAP50  mAP50-95): 100%|██████████| 66/66 [01:54<00:00,  1.74s/it]\n"
          ]
        },
        {
          "output_type": "stream",
          "name": "stdout",
          "text": [
            "                   all       2100      23204      0.684      0.739      0.728      0.496\n",
            "                   1.0        197        199      0.723       0.92      0.889      0.751\n",
            "                   1.1         89         89       0.59      0.809        0.7      0.555\n",
            "                   1.2         41         42      0.481      0.375      0.482      0.357\n",
            "                   1.7         30         30      0.583      0.533      0.567      0.399\n",
            "                   2.0        358        359       0.86      0.986      0.972      0.856\n",
            "                   3.0        344        344      0.917      0.957      0.975      0.651\n",
            "                   5.0        313        610      0.942      0.992      0.983      0.679\n",
            "                   6.0        320        321      0.951      0.969      0.974      0.736\n",
            "                   7.0        285        285      0.799      0.947      0.883      0.602\n",
            "                   8.0        298        847        0.8      0.836       0.84      0.502\n",
            "                   8.3         19         25      0.152      0.072      0.134     0.0801\n",
            "                   9.0        217        383      0.713      0.754      0.779      0.404\n",
            "                   9.4         68         96      0.753       0.76      0.723      0.387\n",
            "                  10.0        122        123      0.363      0.815      0.458      0.338\n",
            "                  11.0        365        944      0.675        0.9      0.786      0.462\n",
            "                  11.1         27         41      0.176     0.0172      0.114     0.0492\n",
            "                  13.0        227        229      0.602      0.908      0.798      0.615\n",
            "                  14.0        205        207      0.715      0.889       0.85      0.728\n",
            "                  14.1         27         27       0.42      0.704      0.584      0.489\n",
            "                  14.2        113        119      0.587      0.807      0.789      0.589\n",
            "                  19.0        121        121      0.565      0.653      0.622      0.445\n",
            "                  19.3         95         95      0.526      0.779      0.667      0.391\n",
            "                  20.0        100        101      0.572      0.644      0.642       0.46\n",
            "                  20.1         80         89      0.513      0.562      0.566      0.366\n",
            "                  20.2        109        152      0.577      0.526      0.569      0.272\n",
            "                  23.0        350        360      0.649      0.889      0.811      0.557\n",
            "                  23.1        224        273       0.64      0.561      0.596       0.32\n",
            "                  24.0         71        113      0.662      0.673      0.654      0.293\n",
            "                  24.1         99        164      0.681      0.443      0.494      0.219\n",
            "                  26.0        619        620       0.89      0.997      0.958      0.831\n",
            "                  27.0        215        216      0.754      0.965      0.934      0.627\n",
            "                  28.0        310        310      0.905          1      0.967      0.821\n",
            "                  29.0        323        325      0.945      0.994      0.981      0.891\n",
            "                  29.1         26         26      0.158      0.346       0.16      0.131\n",
            "                  30.0        240        453      0.917       0.96      0.941      0.611\n",
            "                  30.1         15         15       0.19      0.111      0.203      0.137\n",
            "                  32.0        107        204      0.966       0.98      0.991      0.672\n",
            "                  32.2         54        102      0.805      0.824      0.862      0.564\n",
            "                  35.0        215        229      0.786      0.751       0.83      0.386\n",
            "                  35.1         62         64      0.478      0.453      0.442      0.167\n",
            "                  37.0        277        656      0.758      0.942      0.905      0.583\n",
            "                  37.4         73        216      0.772      0.958      0.933      0.626\n",
            "                  38.0        269        971      0.775      0.848      0.889      0.567\n",
            "                  39.0        204        342      0.894      0.939      0.942      0.623\n",
            "                  40.0        231        232      0.715      0.991      0.929      0.827\n",
            "                  40.1         34         34      0.888      0.382      0.636      0.482\n",
            "                  41.0        149        152      0.961      0.974      0.975      0.841\n",
            "                  42.0        155        155      0.911      0.994      0.988      0.718\n",
            "                  43.0        393       1547      0.976      0.984      0.992      0.837\n",
            "                  43.1         40         50      0.718       0.78      0.826      0.515\n",
            "                  44.0        307        308      0.974      0.975      0.988      0.744\n",
            "                  45.0        294        295       0.85      0.978      0.958      0.742\n",
            "                  45.1         82         87      0.672      0.494      0.542      0.225\n",
            "                  46.0        180        451      0.745      0.825       0.84      0.412\n",
            "                  46.1         99        169      0.675     0.0414      0.273     0.0888\n",
            "                  47.0        320        946      0.885      0.919      0.948      0.575\n",
            "                  47.1        100        105      0.783      0.819      0.832      0.403\n",
            "                  48.0        298        348      0.703      0.865      0.855      0.464\n",
            "                  49.0        227        240      0.717      0.896      0.777      0.538\n",
            "                  49.3         30         30      0.316      0.367      0.336      0.129\n",
            "                  49.4         65         68      0.356      0.397      0.374      0.215\n",
            "                  50.0        140        144      0.865      0.951      0.913      0.726\n",
            "                  50.1         42         42      0.624      0.929      0.846      0.529\n",
            "                  51.0        493        494      0.884      0.988      0.943      0.842\n",
            "                  51.2         48         61      0.309      0.475      0.278      0.145\n",
            "                  52.0        285        300      0.873       0.93      0.921      0.556\n",
            "                  52.3         18         18     0.0865      0.111      0.121     0.0819\n",
            "                  52.5         20         20      0.617        0.8      0.762      0.347\n",
            "                  53.0        282        305      0.838      0.916      0.883      0.561\n",
            "                  53.4         26         27      0.386      0.512      0.494      0.202\n",
            "                  53.5         29         30      0.227        0.2      0.206      0.136\n",
            "                  54.0        247        442      0.853      0.925      0.914      0.597\n",
            "                  54.4         90        124      0.499      0.306      0.349      0.114\n",
            "                  54.5         23         27      0.148      0.037      0.123     0.0797\n",
            "                  55.0        293        527      0.895      0.939      0.937      0.542\n",
            "                  55.4         76         94      0.639      0.798      0.768      0.299\n",
            "                  56.0        366       1083      0.932      0.979      0.979       0.84\n",
            "                  57.0        391       1147      0.956      0.971      0.984      0.773\n",
            "                  58.0        375        377      0.958      0.981      0.984      0.795\n",
            "                  59.0        379        379      0.967      0.995      0.986       0.83\n",
            "                  60.0        293        295      0.795      0.959      0.926       0.74\n",
            "                  60.1         30         36      0.615        0.4      0.441      0.245\n",
            "                  60.3         74         89      0.462      0.559       0.52      0.277\n",
            "                  61.0        389        389      0.981      0.997      0.992      0.827\n",
            "Speed: 0.6ms preprocess, 3.6ms inference, 0.0ms loss, 0.8ms postprocess per image\n",
            "Saving /content/drive/MyDrive/fiber_optic_box_inspection/runs_yolo/val_default_augmentations_P40_2/predictions.json...\n",
            "Results saved to \u001b[1m/content/drive/MyDrive/fiber_optic_box_inspection/runs_yolo/val_default_augmentations_P40_2\u001b[0m\n"
          ]
        }
      ]
    },
    {
      "cell_type": "code",
      "source": [
        "with open(Path(yolo_default_augmentations_P40.val_path, 'metrics_P40.pkl'), 'wb') as f:\n",
        "    pickle.dump(metrics_P40, f)"
      ],
      "metadata": {
        "id": "EZAu8Nq33vQe"
      },
      "execution_count": null,
      "outputs": []
    },
    {
      "cell_type": "markdown",
      "source": [
        "## no augmentations"
      ],
      "metadata": {
        "id": "6WObchFqpQB9"
      }
    },
    {
      "cell_type": "markdown",
      "source": [
        "### P40"
      ],
      "metadata": {
        "id": "MrX4qoMnpUR0"
      }
    },
    {
      "cell_type": "code",
      "source": [
        "model_P40 = YOLO(yolo_no_augmentations_P40.get_best_weight_path()) # todo\n",
        "metrics_P40 = model_P40.val(\n",
        "    data=local_paths['yolo_data_cfg_P40'],\n",
        "    batch=32,\n",
        "    imgsz=IMGSZ,\n",
        "    save_json=True,\n",
        "    device=0,\n",
        "    plots=True,\n",
        "    project=paths['yolo_output_dir'],\n",
        "    name=yolo_no_augmentations_P40.val_run_name, #todo\n",
        "    verbose=True,\n",
        "    save_txt=True,\n",
        "    save_conf=True,\n",
        "    workers=16,\n",
        ")"
      ],
      "metadata": {
        "collapsed": true,
        "id": "DSEkW_3kpUR0",
        "colab": {
          "base_uri": "https://localhost:8080/"
        },
        "outputId": "72bf64e4-1aa7-47db-c8b9-680ff5272701"
      },
      "execution_count": null,
      "outputs": [
        {
          "output_type": "stream",
          "name": "stdout",
          "text": [
            "Ultralytics 8.3.161 🚀 Python-3.11.13 torch-2.6.0+cu124 CUDA:0 (NVIDIA A100-SXM4-40GB, 40507MiB)\n",
            "Model summary (fused): 92 layers, 25,938,190 parameters, 0 gradients, 79.2 GFLOPs\n",
            "\u001b[34m\u001b[1mval: \u001b[0mFast image access ✅ (ping: 0.0±0.0 ms, read: 2113.9±582.4 MB/s, size: 124.3 KB)\n"
          ]
        },
        {
          "output_type": "stream",
          "name": "stderr",
          "text": [
            "\u001b[34m\u001b[1mval: \u001b[0mScanning /content/dataset_v2_ALL/image_label_P40.cache... 2100 images, 0 backgrounds, 0 corrupt: 100%|██████████| 2100/2100 [00:00<?, ?it/s]"
          ]
        },
        {
          "output_type": "stream",
          "name": "stdout",
          "text": [
            "\u001b[34m\u001b[1mval: \u001b[0m/content/dataset_v2_ALL/image_label_P40/2022_11_14_16_04_38-HNIP548102HO.jpg: 1 duplicate labels removed\n",
            "\u001b[34m\u001b[1mval: \u001b[0m/content/dataset_v2_ALL/image_label_P40/2022_11_16_10_35_33-GLIP038152HO.jpg: 1 duplicate labels removed\n",
            "\u001b[34m\u001b[1mval: \u001b[0m/content/dataset_v2_ALL/image_label_P40/2022_11_16_15_40_51-HBHP012080HO.jpg: 1 duplicate labels removed\n",
            "\u001b[34m\u001b[1mval: \u001b[0m/content/dataset_v2_ALL/image_label_P40/2022_11_17_15_10_14-TNNP063261HO.jpg: 1 duplicate labels removed\n",
            "\u001b[34m\u001b[1mval: \u001b[0m/content/dataset_v2_ALL/image_label_P40/2022_11_21_09_08_32-TNNP069058HO.jpg: 1 duplicate labels removed\n",
            "\u001b[34m\u001b[1mval: \u001b[0m/content/dataset_v2_ALL/image_label_P40/2022_12_08_10_14_33-HYNP074125HO.jpg: 1 duplicate labels removed\n"
          ]
        },
        {
          "output_type": "stream",
          "name": "stderr",
          "text": [
            "\n",
            "                 Class     Images  Instances      Box(P          R      mAP50  mAP50-95): 100%|██████████| 66/66 [01:34<00:00,  1.43s/it]\n"
          ]
        },
        {
          "output_type": "stream",
          "name": "stdout",
          "text": [
            "                   all       2100      23204      0.661      0.703      0.683      0.457\n",
            "                   1.0        197        199      0.707      0.837      0.827      0.693\n",
            "                   1.1         89         89      0.397      0.865       0.63      0.494\n",
            "                   1.2         41         42      0.387      0.476      0.376      0.199\n",
            "                   1.7         30         30      0.404      0.467      0.514      0.382\n",
            "                   2.0        358        359       0.89      0.967      0.957      0.842\n",
            "                   3.0        344        344      0.945      0.936      0.956      0.646\n",
            "                   5.0        313        610      0.924      0.964      0.971      0.674\n",
            "                   6.0        320        321      0.926      0.973      0.968       0.73\n",
            "                   7.0        285        285      0.828      0.891      0.883      0.602\n",
            "                   8.0        298        847      0.726      0.834      0.822      0.471\n",
            "                   8.3         19         25          0          0     0.0541     0.0308\n",
            "                   9.0        217        383      0.688      0.689      0.696      0.353\n",
            "                   9.4         68         96      0.767      0.625      0.666      0.351\n",
            "                  10.0        122        123      0.487      0.579      0.489       0.36\n",
            "                  11.0        365        944      0.653      0.892      0.765      0.441\n",
            "                  11.1         27         41      0.198     0.0244     0.0601     0.0301\n",
            "                  13.0        227        229      0.754      0.589      0.757       0.57\n",
            "                  14.0        205        207      0.728      0.836      0.817      0.689\n",
            "                  14.1         27         27      0.417       0.63      0.561      0.443\n",
            "                  14.2        113        119      0.674      0.647      0.704      0.531\n",
            "                  19.0        121        121      0.521      0.566      0.581      0.409\n",
            "                  19.3         95         95      0.638      0.568      0.599      0.309\n",
            "                  20.0        100        101      0.557      0.698      0.649      0.478\n",
            "                  20.1         80         89      0.527      0.539      0.502      0.304\n",
            "                  20.2        109        152      0.474      0.475      0.437      0.223\n",
            "                  23.0        350        360      0.696      0.857      0.799      0.544\n",
            "                  23.1        224        273      0.635      0.571      0.583      0.275\n",
            "                  24.0         71        113       0.65      0.674      0.634      0.256\n",
            "                  24.1         99        164       0.44      0.396      0.387      0.128\n",
            "                  26.0        619        620      0.892      0.989      0.955       0.82\n",
            "                  27.0        215        216      0.861      0.831      0.876      0.568\n",
            "                  28.0        310        310      0.903          1      0.965      0.824\n",
            "                  29.0        323        325      0.942      0.993      0.973      0.876\n",
            "                  29.1         26         26      0.148      0.231      0.125     0.0931\n",
            "                  30.0        240        453      0.918      0.934      0.917      0.568\n",
            "                  30.1         15         15      0.163      0.267      0.198      0.117\n",
            "                  32.0        107        204       0.94      0.966      0.988      0.656\n",
            "                  32.2         54        102      0.594      0.873      0.846      0.521\n",
            "                  35.0        215        229       0.65      0.808      0.794      0.352\n",
            "                  35.1         62         64      0.369      0.359       0.31      0.107\n",
            "                  37.0        277        656      0.779      0.928      0.897      0.563\n",
            "                  37.4         73        216       0.83      0.875      0.931       0.61\n",
            "                  38.0        269        971      0.772      0.839      0.875       0.54\n",
            "                  39.0        204        342      0.902      0.891      0.925      0.586\n",
            "                  40.0        231        232      0.871      0.832      0.907      0.782\n",
            "                  40.1         34         34      0.339      0.765      0.526      0.397\n",
            "                  41.0        149        152      0.966      0.974      0.976      0.834\n",
            "                  42.0        155        155      0.911      0.992      0.973       0.67\n",
            "                  43.0        393       1547      0.973      0.983      0.983       0.81\n",
            "                  43.1         40         50      0.772        0.7      0.716      0.372\n",
            "                  44.0        307        308       0.96      0.929      0.972      0.731\n",
            "                  45.0        294        295      0.811      0.983      0.942      0.744\n",
            "                  45.1         82         87      0.411      0.586      0.453      0.213\n",
            "                  46.0        180        451      0.722      0.749      0.757      0.364\n",
            "                  46.1         99        169      0.385      0.174      0.225     0.0691\n",
            "                  47.0        320        946      0.881      0.873       0.91      0.542\n",
            "                  47.1        100        105      0.678      0.703      0.709      0.318\n",
            "                  48.0        298        348      0.636      0.822      0.795      0.405\n",
            "                  49.0        227        240      0.722      0.867      0.716      0.475\n",
            "                  49.3         30         30      0.217      0.231       0.21     0.0842\n",
            "                  49.4         65         68      0.528      0.378      0.348      0.204\n",
            "                  50.0        140        144      0.818      0.951      0.918      0.725\n",
            "                  50.1         42         42      0.597      0.762      0.743      0.481\n",
            "                  51.0        493        494      0.855      0.953      0.924      0.821\n",
            "                  51.2         48         61       0.39      0.189      0.238     0.0992\n",
            "                  52.0        285        300      0.792      0.903      0.874      0.538\n",
            "                  52.3         18         18     0.0652      0.333     0.0991     0.0605\n",
            "                  52.5         20         20      0.595      0.662      0.658      0.214\n",
            "                  53.0        282        305      0.813      0.911      0.867      0.548\n",
            "                  53.4         26         27      0.397       0.37      0.324      0.143\n",
            "                  53.5         29         30      0.119      0.133      0.132     0.0849\n",
            "                  54.0        247        442      0.829      0.908      0.909      0.587\n",
            "                  54.4         90        124      0.351      0.242      0.192     0.0477\n",
            "                  54.5         23         27          1          0     0.0562     0.0396\n",
            "                  55.0        293        527      0.893      0.911      0.922      0.511\n",
            "                  55.4         76         94      0.575       0.66      0.609      0.225\n",
            "                  56.0        366       1083      0.904      0.981      0.925       0.77\n",
            "                  57.0        391       1147      0.922      0.971      0.976       0.74\n",
            "                  58.0        375        377      0.932      0.983      0.978      0.771\n",
            "                  59.0        379        379      0.972      0.995      0.978      0.819\n",
            "                  60.0        293        295      0.836      0.892      0.912      0.679\n",
            "                  60.1         30         36      0.315        0.5      0.363      0.172\n",
            "                  60.3         74         89      0.474      0.495      0.485      0.254\n",
            "                  61.0        389        389      0.967       0.99      0.985      0.816\n",
            "Speed: 0.5ms preprocess, 3.6ms inference, 0.0ms loss, 0.8ms postprocess per image\n",
            "Saving /content/drive/MyDrive/fiber_optic_box_inspection/runs_yolo/val_no_augmentations_P40_/predictions.json...\n",
            "Results saved to \u001b[1m/content/drive/MyDrive/fiber_optic_box_inspection/runs_yolo/val_no_augmentations_P40_\u001b[0m\n"
          ]
        }
      ]
    },
    {
      "cell_type": "code",
      "source": [
        "with open(Path(yolo_no_augmentations_P40.val_path, 'metrics_P40.pkl'), 'wb') as f:\n",
        "    pickle.dump(metrics_P40, f)"
      ],
      "metadata": {
        "id": "6k3HbTInpUR1"
      },
      "execution_count": null,
      "outputs": []
    },
    {
      "cell_type": "markdown",
      "source": [
        "## aug 1"
      ],
      "metadata": {
        "id": "1AYr75H7LMyl"
      }
    },
    {
      "cell_type": "code",
      "source": [
        "model_P40_aug_1 = YOLO(yolo_aug_1_P40.get_best_weight_path()) # todo\n",
        "metrics_P40_aug_1 = model_P40_aug_1.val(\n",
        "    data=local_paths['yolo_data_cfg_P40_aug_1'],\n",
        "    batch=32,\n",
        "    imgsz=IMGSZ,\n",
        "    save_json=True,\n",
        "    device=0,\n",
        "    plots=True,\n",
        "    project=paths['yolo_output_dir'],\n",
        "    name=yolo_aug_1_P40.val_run_name, #todo\n",
        "    verbose=True,\n",
        "    save_txt=True,\n",
        "    save_conf=True,\n",
        "    workers=16,\n",
        ")"
      ],
      "metadata": {
        "colab": {
          "base_uri": "https://localhost:8080/"
        },
        "outputId": "8e6d7838-ac24-47a0-821d-699ec773f1d8",
        "id": "nvSgnv0DLRdm",
        "collapsed": true
      },
      "execution_count": null,
      "outputs": [
        {
          "output_type": "stream",
          "name": "stdout",
          "text": [
            "Ultralytics 8.3.162 🚀 Python-3.11.13 torch-2.6.0+cu124 CUDA:0 (NVIDIA A100-SXM4-40GB, 40507MiB)\n",
            "Model summary (fused): 92 layers, 25,938,190 parameters, 0 gradients, 79.2 GFLOPs\n",
            "Downloading https://ultralytics.com/assets/Arial.ttf to '/root/.config/Ultralytics/Arial.ttf'...\n"
          ]
        },
        {
          "output_type": "stream",
          "name": "stderr",
          "text": [
            "100%|██████████| 755k/755k [00:00<00:00, 14.3MB/s]"
          ]
        },
        {
          "output_type": "stream",
          "name": "stdout",
          "text": [
            "\u001b[34m\u001b[1mval: \u001b[0mFast image access ✅ (ping: 0.0±0.0 ms, read: 3094.0±530.6 MB/s, size: 125.6 KB)\n"
          ]
        },
        {
          "output_type": "stream",
          "name": "stderr",
          "text": [
            "\n",
            "\u001b[34m\u001b[1mval: \u001b[0mScanning /content/dataset_v2_ALL/image_label_P40... 2100 images, 0 backgrounds, 0 corrupt: 100%|██████████| 2100/2100 [00:01<00:00, 1448.79it/s]"
          ]
        },
        {
          "output_type": "stream",
          "name": "stdout",
          "text": [
            "\u001b[34m\u001b[1mval: \u001b[0m/content/dataset_v2_ALL/image_label_P40/2022_11_14_16_04_38-HNIP548102HO.jpg: 1 duplicate labels removed\n",
            "\u001b[34m\u001b[1mval: \u001b[0m/content/dataset_v2_ALL/image_label_P40/2022_11_16_10_35_33-GLIP038152HO.jpg: 1 duplicate labels removed\n",
            "\u001b[34m\u001b[1mval: \u001b[0m/content/dataset_v2_ALL/image_label_P40/2022_11_16_15_40_51-HBHP012080HO.jpg: 1 duplicate labels removed\n",
            "\u001b[34m\u001b[1mval: \u001b[0m/content/dataset_v2_ALL/image_label_P40/2022_11_17_15_10_14-TNNP063261HO.jpg: 1 duplicate labels removed\n",
            "\u001b[34m\u001b[1mval: \u001b[0m/content/dataset_v2_ALL/image_label_P40/2022_11_21_09_08_32-TNNP069058HO.jpg: 1 duplicate labels removed\n",
            "\u001b[34m\u001b[1mval: \u001b[0m/content/dataset_v2_ALL/image_label_P40/2022_12_08_10_14_33-HYNP074125HO.jpg: 1 duplicate labels removed\n",
            "\u001b[34m\u001b[1mval: \u001b[0mNew cache created: /content/dataset_v2_ALL/image_label_P40.cache\n"
          ]
        },
        {
          "output_type": "stream",
          "name": "stderr",
          "text": [
            "\n",
            "                 Class     Images  Instances      Box(P          R      mAP50  mAP50-95): 100%|██████████| 66/66 [02:36<00:00,  2.37s/it]\n"
          ]
        },
        {
          "output_type": "stream",
          "name": "stdout",
          "text": [
            "                   all       2100      23204        0.7      0.667      0.663      0.436\n",
            "                   1.0        197        199      0.734      0.884      0.854      0.708\n",
            "                   1.1         89         89      0.742      0.348       0.58      0.445\n",
            "                   1.2         41         42      0.639      0.429      0.484       0.28\n",
            "                   1.7         30         30      0.205     0.0667      0.139     0.0803\n",
            "                   2.0        358        359      0.949      0.888      0.955      0.821\n",
            "                   3.0        344        344       0.94      0.916      0.956      0.624\n",
            "                   5.0        313        610      0.878       0.97      0.964       0.64\n",
            "                   6.0        320        321      0.894      0.972      0.948      0.677\n",
            "                   7.0        285        285      0.798      0.861      0.856      0.547\n",
            "                   8.0        298        847      0.643      0.848       0.79      0.451\n",
            "                   8.3         19         25          1          0     0.0357     0.0217\n",
            "                   9.0        217        383      0.632      0.783       0.73      0.384\n",
            "                   9.4         68         96      0.682      0.594      0.613        0.3\n",
            "                  10.0        122        123      0.402      0.536      0.402       0.29\n",
            "                  11.0        365        944      0.686      0.896      0.786      0.419\n",
            "                  11.1         27         41          0          0    0.00905    0.00418\n",
            "                  13.0        227        229      0.576      0.659      0.683      0.502\n",
            "                  14.0        205        207      0.722      0.845      0.818      0.684\n",
            "                  14.1         27         27      0.218      0.926      0.503      0.415\n",
            "                  14.2        113        119      0.601      0.765      0.721      0.539\n",
            "                  19.0        121        121      0.668      0.315      0.548      0.368\n",
            "                  19.3         95         95      0.481      0.695      0.651      0.338\n",
            "                  20.0        100        101      0.675      0.515      0.605      0.421\n",
            "                  20.1         80         89      0.552      0.393      0.507      0.304\n",
            "                  20.2        109        152      0.361      0.632      0.454      0.221\n",
            "                  23.0        350        360      0.651      0.867      0.752      0.494\n",
            "                  23.1        224        273      0.549      0.549      0.516      0.278\n",
            "                  24.0         71        113      0.676      0.504      0.599      0.265\n",
            "                  24.1         99        164      0.638      0.279      0.393       0.15\n",
            "                  26.0        619        620      0.889      0.994      0.954      0.817\n",
            "                  27.0        215        216      0.699      0.977      0.904      0.577\n",
            "                  28.0        310        310      0.901          1      0.958      0.807\n",
            "                  29.0        323        325      0.948      0.991      0.969      0.868\n",
            "                  29.1         26         26          1          0      0.144      0.116\n",
            "                  30.0        240        453      0.917      0.951      0.929      0.577\n",
            "                  30.1         15         15          1          0      0.184      0.119\n",
            "                  32.0        107        204      0.953      0.926      0.965       0.63\n",
            "                  32.2         54        102      0.652      0.098      0.525      0.324\n",
            "                  35.0        215        229      0.554      0.852      0.709      0.294\n",
            "                  35.1         62         64      0.627      0.236      0.347      0.115\n",
            "                  37.0        277        656      0.696      0.938       0.89      0.558\n",
            "                  37.4         73        216      0.772      0.949      0.907      0.597\n",
            "                  38.0        269        971      0.787      0.821      0.876      0.531\n",
            "                  39.0        204        342       0.86      0.944      0.933      0.586\n",
            "                  40.0        231        232      0.706      0.996      0.861       0.74\n",
            "                  40.1         34         34          1          0      0.114     0.0776\n",
            "                  41.0        149        152       0.96      0.961      0.964      0.817\n",
            "                  42.0        155        155      0.921      0.968      0.967      0.659\n",
            "                  43.0        393       1547      0.979      0.978      0.985      0.809\n",
            "                  43.1         40         50      0.622       0.74      0.793      0.438\n",
            "                  44.0        307        308      0.727      0.968      0.941      0.663\n",
            "                  45.0        294        295      0.881      0.969      0.954      0.739\n",
            "                  45.1         82         87      0.383      0.667      0.481      0.227\n",
            "                  46.0        180        451      0.687      0.783      0.784      0.374\n",
            "                  46.1         99        169      0.835     0.0301      0.203     0.0689\n",
            "                  47.0        320        946      0.766       0.91      0.909      0.511\n",
            "                  47.1        100        105      0.664        0.8      0.784       0.36\n",
            "                  48.0        298        348        0.6      0.836      0.797      0.384\n",
            "                  49.0        227        240      0.667      0.886      0.794       0.53\n",
            "                  49.3         30         30       0.25      0.633      0.331      0.113\n",
            "                  49.4         65         68      0.683      0.191      0.337      0.186\n",
            "                  50.0        140        144      0.885      0.911       0.89      0.703\n",
            "                  50.1         42         42      0.402      0.762      0.556      0.293\n",
            "                  51.0        493        494      0.798      0.941      0.909        0.8\n",
            "                  51.2         48         61      0.304      0.246      0.183     0.0747\n",
            "                  52.0        285        300      0.867      0.913      0.893      0.549\n",
            "                  52.3         18         18          1          0      0.128     0.0781\n",
            "                  52.5         20         20      0.554       0.65      0.646       0.23\n",
            "                  53.0        282        305      0.784      0.885      0.824      0.508\n",
            "                  53.4         26         27      0.329      0.481      0.359       0.12\n",
            "                  53.5         29         30          0          0      0.143      0.104\n",
            "                  54.0        247        442      0.839      0.921      0.914      0.587\n",
            "                  54.4         90        124      0.372      0.119      0.189     0.0612\n",
            "                  54.5         23         27          1          0     0.0168    0.00965\n",
            "                  55.0        293        527      0.865      0.935      0.927      0.503\n",
            "                  55.4         76         94      0.527       0.67      0.586      0.221\n",
            "                  56.0        366       1083      0.899      0.989      0.968        0.8\n",
            "                  57.0        391       1147      0.933       0.97      0.973      0.727\n",
            "                  58.0        375        377      0.923       0.98      0.971      0.757\n",
            "                  59.0        379        379      0.954      0.995      0.985      0.801\n",
            "                  60.0        293        295        0.8      0.939       0.92      0.697\n",
            "                  60.1         30         36      0.543      0.231      0.262      0.142\n",
            "                  60.3         74         89      0.471      0.573      0.413        0.2\n",
            "                  61.0        389        389       0.95      0.997      0.988      0.795\n",
            "Speed: 0.5ms preprocess, 4.0ms inference, 0.0ms loss, 1.0ms postprocess per image\n",
            "Saving /content/drive/MyDrive/fiber_optic_box_inspection/runs_yolo/val_aug_1_P40_/predictions.json...\n",
            "Results saved to \u001b[1m/content/drive/MyDrive/fiber_optic_box_inspection/runs_yolo/val_aug_1_P40_\u001b[0m\n"
          ]
        }
      ]
    },
    {
      "cell_type": "code",
      "source": [
        "with open(Path(yolo_aug_1_P40.val_path, 'metrics_P40_aug_1.pkl'), 'wb') as f:\n",
        "    pickle.dump(metrics_P40_aug_1, f)"
      ],
      "metadata": {
        "id": "m-Z-FSpVLRdn"
      },
      "execution_count": null,
      "outputs": []
    },
    {
      "cell_type": "markdown",
      "source": [
        "## aug 2"
      ],
      "metadata": {
        "id": "I8x_Vn3hN8sF"
      }
    },
    {
      "cell_type": "code",
      "source": [
        "model_P40_aug_2 = YOLO(yolo_aug_2_P40.get_best_weight_path()) # todo\n",
        "metrics_P40_aug_2 = model_P40_aug_2.val(\n",
        "    data=local_paths['yolo_data_cfg_P40_aug_2'],\n",
        "    batch=32,\n",
        "    imgsz=IMGSZ,\n",
        "    save_json=True,\n",
        "    device=0,\n",
        "    plots=True,\n",
        "    project=paths['yolo_output_dir'],\n",
        "    name=yolo_aug_2_P40.val_run_name, #todo\n",
        "    verbose=True,\n",
        "    save_txt=True,\n",
        "    save_conf=True,\n",
        "    workers=16,\n",
        ")"
      ],
      "metadata": {
        "collapsed": true,
        "colab": {
          "base_uri": "https://localhost:8080/"
        },
        "outputId": "9d4c5636-897f-4366-a59a-b55130b49942",
        "id": "obxmAGC_N8sG"
      },
      "execution_count": null,
      "outputs": [
        {
          "output_type": "stream",
          "name": "stdout",
          "text": [
            "Ultralytics 8.3.162 🚀 Python-3.11.13 torch-2.6.0+cu124 CUDA:0 (NVIDIA A100-SXM4-40GB, 40507MiB)\n",
            "Model summary (fused): 92 layers, 25,938,190 parameters, 0 gradients, 79.2 GFLOPs\n",
            "\u001b[34m\u001b[1mval: \u001b[0mFast image access ✅ (ping: 0.0±0.0 ms, read: 64.4±21.1 MB/s, size: 125.7 KB)\n"
          ]
        },
        {
          "output_type": "stream",
          "name": "stderr",
          "text": [
            "\u001b[34m\u001b[1mval: \u001b[0mScanning /content/dataset_v2_ALL/image_label_P40.cache... 2100 images, 0 backgrounds, 0 corrupt: 100%|██████████| 2100/2100 [00:00<?, ?it/s]"
          ]
        },
        {
          "output_type": "stream",
          "name": "stdout",
          "text": [
            "\u001b[34m\u001b[1mval: \u001b[0m/content/dataset_v2_ALL/image_label_P40/2022_11_14_16_04_38-HNIP548102HO.jpg: 1 duplicate labels removed\n",
            "\u001b[34m\u001b[1mval: \u001b[0m/content/dataset_v2_ALL/image_label_P40/2022_11_16_10_35_33-GLIP038152HO.jpg: 1 duplicate labels removed\n",
            "\u001b[34m\u001b[1mval: \u001b[0m/content/dataset_v2_ALL/image_label_P40/2022_11_16_15_40_51-HBHP012080HO.jpg: 1 duplicate labels removed\n",
            "\u001b[34m\u001b[1mval: \u001b[0m/content/dataset_v2_ALL/image_label_P40/2022_11_17_15_10_14-TNNP063261HO.jpg: 1 duplicate labels removed\n",
            "\u001b[34m\u001b[1mval: \u001b[0m/content/dataset_v2_ALL/image_label_P40/2022_11_21_09_08_32-TNNP069058HO.jpg: 1 duplicate labels removed\n",
            "\u001b[34m\u001b[1mval: \u001b[0m/content/dataset_v2_ALL/image_label_P40/2022_12_08_10_14_33-HYNP074125HO.jpg: 1 duplicate labels removed\n"
          ]
        },
        {
          "output_type": "stream",
          "name": "stderr",
          "text": [
            "\n",
            "                 Class     Images  Instances      Box(P          R      mAP50  mAP50-95): 100%|██████████| 66/66 [01:05<00:00,  1.01it/s]\n"
          ]
        },
        {
          "output_type": "stream",
          "name": "stdout",
          "text": [
            "                   all       2100      23204      0.785      0.779        0.8      0.603\n",
            "                   1.0        197        199      0.766      0.886      0.859      0.735\n",
            "                   1.1         89         89      0.706      0.673      0.709      0.558\n",
            "                   1.2         41         42      0.431      0.361      0.365       0.24\n",
            "                   1.7         30         30       0.26      0.367      0.363      0.276\n",
            "                   2.0        358        359       0.92       0.95      0.962      0.844\n",
            "                   3.0        344        344      0.917      0.942      0.948      0.629\n",
            "                   5.0        313        610      0.945      0.959      0.974       0.69\n",
            "                   6.0        320        321      0.943      0.973      0.965      0.758\n",
            "                   7.0        285        285      0.845      0.902      0.904      0.642\n",
            "                   8.0        298        847      0.814      0.779      0.818      0.497\n",
            "                   8.3         19         25      0.515       0.28      0.341      0.276\n",
            "                   9.0        217        383      0.771      0.655      0.712      0.442\n",
            "                   9.4         68         96       0.81      0.823      0.838      0.629\n",
            "                  10.0        122        123      0.455      0.571      0.441      0.333\n",
            "                  11.0        365        944      0.754      0.836      0.777      0.464\n",
            "                  11.1         27         41      0.713      0.488      0.553       0.43\n",
            "                  13.0        227        229       0.71      0.695      0.758      0.573\n",
            "                  14.0        205        207      0.765      0.831      0.851      0.722\n",
            "                  14.1         27         27      0.457      0.407      0.507      0.369\n",
            "                  14.2        113        119       0.67      0.767      0.726      0.558\n",
            "                  19.0        121        121       0.57       0.47      0.545      0.373\n",
            "                  19.3         95         95      0.577      0.632      0.612      0.328\n",
            "                  20.0        100        101       0.61      0.693       0.63      0.456\n",
            "                  20.1         80         89      0.469      0.528      0.528      0.342\n",
            "                  20.2        109        152      0.567      0.467      0.489       0.25\n",
            "                  23.0        350        360      0.731       0.83      0.823      0.599\n",
            "                  23.1        224        273      0.768      0.648      0.676      0.396\n",
            "                  24.0         71        113      0.865      0.788      0.867      0.654\n",
            "                  24.1         99        164      0.827      0.673      0.766       0.56\n",
            "                  26.0        619        620      0.909      0.979      0.951      0.833\n",
            "                  27.0        215        216      0.848      0.907      0.897      0.625\n",
            "                  28.0        310        310      0.911      0.995      0.944      0.817\n",
            "                  29.0        323        325      0.949      0.991       0.97      0.885\n",
            "                  29.1         26         26      0.505      0.308      0.406      0.319\n",
            "                  30.0        240        453      0.936      0.962       0.96      0.658\n",
            "                  30.1         15         15      0.587      0.533      0.695       0.59\n",
            "                  32.0        107        204      0.981       0.98      0.994      0.762\n",
            "                  32.2         54        102      0.723      0.902      0.892      0.685\n",
            "                  35.0        215        229      0.855      0.821      0.893      0.571\n",
            "                  35.1         62         64      0.697      0.734      0.737      0.543\n",
            "                  37.0        277        656      0.827      0.902      0.888      0.634\n",
            "                  37.4         73        216      0.912      0.957      0.962      0.801\n",
            "                  38.0        269        971      0.856      0.889      0.915      0.657\n",
            "                  39.0        204        342      0.887      0.924      0.938      0.667\n",
            "                  40.0        231        232      0.839      0.966      0.928      0.824\n",
            "                  40.1         34         34      0.833      0.647      0.894      0.753\n",
            "                  41.0        149        152      0.966      0.974      0.976      0.856\n",
            "                  42.0        155        155      0.929      0.987      0.978      0.781\n",
            "                  43.0        393       1547       0.98      0.985      0.989      0.856\n",
            "                  43.1         40         50      0.758       0.88      0.921      0.732\n",
            "                  44.0        307        308      0.915      0.968      0.968      0.769\n",
            "                  45.0        294        295      0.896      0.973      0.956      0.747\n",
            "                  45.1         82         87      0.665      0.708      0.726      0.374\n",
            "                  46.0        180        451      0.818      0.788       0.82      0.478\n",
            "                  46.1         99        169      0.582      0.373      0.458      0.284\n",
            "                  47.0        320        946      0.929      0.908      0.943      0.683\n",
            "                  47.1        100        105      0.886      0.819      0.872      0.617\n",
            "                  48.0        298        348      0.855      0.848      0.878      0.609\n",
            "                  49.0        227        240      0.807      0.834       0.81      0.568\n",
            "                  49.3         30         30       0.66      0.567      0.639      0.293\n",
            "                  49.4         65         68      0.722      0.706      0.769      0.564\n",
            "                  50.0        140        144      0.897      0.944      0.925      0.747\n",
            "                  50.1         42         42      0.778          1       0.92      0.607\n",
            "                  51.0        493        494      0.903      0.956      0.923      0.838\n",
            "                  51.2         48         61      0.561      0.393      0.435      0.243\n",
            "                  52.0        285        300      0.936      0.919      0.941      0.687\n",
            "                  52.3         18         18      0.638      0.589      0.609      0.568\n",
            "                  52.5         20         20      0.913        0.9      0.942      0.744\n",
            "                  53.0        282        305      0.906      0.921      0.933      0.688\n",
            "                  53.4         26         27      0.883      0.704      0.772      0.624\n",
            "                  53.5         29         30      0.667      0.633      0.761      0.677\n",
            "                  54.0        247        442      0.934      0.936      0.957      0.714\n",
            "                  54.4         90        124      0.882      0.532      0.688      0.512\n",
            "                  54.5         23         27      0.592      0.519      0.572      0.495\n",
            "                  55.0        293        527      0.924      0.935      0.956       0.67\n",
            "                  55.4         76         94      0.894      0.808      0.865      0.574\n",
            "                  56.0        366       1083      0.911      0.992       0.95      0.813\n",
            "                  57.0        391       1147      0.952       0.98      0.973      0.783\n",
            "                  58.0        375        377       0.98      0.987      0.984       0.83\n",
            "                  59.0        379        379       0.98      0.992      0.987      0.845\n",
            "                  60.0        293        295      0.852      0.934      0.913      0.737\n",
            "                  60.1         30         36      0.629      0.694      0.671      0.492\n",
            "                  60.3         74         89      0.754      0.618      0.659      0.445\n",
            "                  61.0        389        389       0.97      0.998      0.987       0.85\n",
            "Speed: 0.9ms preprocess, 3.6ms inference, 0.0ms loss, 1.1ms postprocess per image\n",
            "Saving /content/drive/MyDrive/fiber_optic_box_inspection/runs_yolo/val_aug_2_P40_/predictions.json...\n",
            "Results saved to \u001b[1m/content/drive/MyDrive/fiber_optic_box_inspection/runs_yolo/val_aug_2_P40_\u001b[0m\n"
          ]
        }
      ]
    },
    {
      "cell_type": "code",
      "source": [
        "with open(Path(yolo_aug_2_P40.val_path, 'metrics_P40_aug_2.pkl'), 'wb') as f:\n",
        "    pickle.dump(metrics_P40_aug_2, f)"
      ],
      "metadata": {
        "id": "E2W8fJdEN8sG"
      },
      "execution_count": null,
      "outputs": []
    },
    {
      "cell_type": "markdown",
      "source": [
        "## aug 3"
      ],
      "metadata": {
        "id": "lSRyS3pad-FB"
      }
    },
    {
      "cell_type": "code",
      "source": [
        "model_P40_aug_3 = YOLO(yolo_aug_3_P40.get_best_weight_path()) # todo\n",
        "metrics_P40_aug_3 = model_P40_aug_3.val(\n",
        "    data=local_paths['yolo_data_cfg_P40_aug_3'],\n",
        "    batch=32,\n",
        "    imgsz=IMGSZ,\n",
        "    save_json=True,\n",
        "    device=0,\n",
        "    plots=True,\n",
        "    project=paths['yolo_output_dir'],\n",
        "    name=yolo_aug_3_P40.val_run_name, #todo\n",
        "    verbose=True,\n",
        "    save_txt=True,\n",
        "    save_conf=True,\n",
        "    workers=16,\n",
        ")"
      ],
      "metadata": {
        "collapsed": true,
        "colab": {
          "base_uri": "https://localhost:8080/"
        },
        "outputId": "152f4f01-e9ed-4c24-83c9-614e9c3c19c5",
        "id": "PJ_-UG-hd-FB"
      },
      "execution_count": null,
      "outputs": [
        {
          "output_type": "stream",
          "name": "stdout",
          "text": [
            "Ultralytics 8.3.162 🚀 Python-3.11.13 torch-2.6.0+cu124 CUDA:0 (NVIDIA A100-SXM4-40GB, 40507MiB)\n",
            "Model summary (fused): 92 layers, 25,938,190 parameters, 0 gradients, 79.2 GFLOPs\n",
            "\u001b[34m\u001b[1mval: \u001b[0mFast image access ✅ (ping: 0.0±0.0 ms, read: 49.3±10.6 MB/s, size: 122.5 KB)\n"
          ]
        },
        {
          "output_type": "stream",
          "name": "stderr",
          "text": [
            "\u001b[34m\u001b[1mval: \u001b[0mScanning /content/dataset_v2_ALL/image_label_P40.cache... 2100 images, 0 backgrounds, 0 corrupt: 100%|██████████| 2100/2100 [00:00<?, ?it/s]"
          ]
        },
        {
          "output_type": "stream",
          "name": "stdout",
          "text": [
            "\u001b[34m\u001b[1mval: \u001b[0m/content/dataset_v2_ALL/image_label_P40/2022_11_14_16_04_38-HNIP548102HO.jpg: 1 duplicate labels removed\n",
            "\u001b[34m\u001b[1mval: \u001b[0m/content/dataset_v2_ALL/image_label_P40/2022_11_16_10_35_33-GLIP038152HO.jpg: 1 duplicate labels removed\n",
            "\u001b[34m\u001b[1mval: \u001b[0m/content/dataset_v2_ALL/image_label_P40/2022_11_16_15_40_51-HBHP012080HO.jpg: 1 duplicate labels removed\n",
            "\u001b[34m\u001b[1mval: \u001b[0m/content/dataset_v2_ALL/image_label_P40/2022_11_17_15_10_14-TNNP063261HO.jpg: 1 duplicate labels removed\n",
            "\u001b[34m\u001b[1mval: \u001b[0m/content/dataset_v2_ALL/image_label_P40/2022_11_21_09_08_32-TNNP069058HO.jpg: 1 duplicate labels removed\n",
            "\u001b[34m\u001b[1mval: \u001b[0m/content/dataset_v2_ALL/image_label_P40/2022_12_08_10_14_33-HYNP074125HO.jpg: 1 duplicate labels removed\n"
          ]
        },
        {
          "output_type": "stream",
          "name": "stderr",
          "text": [
            "\n",
            "                 Class     Images  Instances      Box(P          R      mAP50  mAP50-95): 100%|██████████| 66/66 [01:09<00:00,  1.05s/it]\n"
          ]
        },
        {
          "output_type": "stream",
          "name": "stdout",
          "text": [
            "                   all       2100      23204      0.809      0.775      0.803       0.61\n",
            "                   1.0        197        199      0.787      0.879      0.871      0.744\n",
            "                   1.1         89         89      0.684      0.658      0.633      0.489\n",
            "                   1.2         41         42      0.572      0.381      0.461      0.323\n",
            "                   1.7         30         30      0.335      0.386      0.334      0.218\n",
            "                   2.0        358        359      0.926      0.944      0.953      0.843\n",
            "                   3.0        344        344      0.925      0.942       0.93       0.62\n",
            "                   5.0        313        610      0.956      0.952      0.968      0.697\n",
            "                   6.0        320        321      0.941      0.972      0.957      0.746\n",
            "                   7.0        285        285      0.851      0.898      0.895      0.629\n",
            "                   8.0        298        847      0.838      0.743      0.813      0.511\n",
            "                   8.3         19         25      0.643       0.44      0.511      0.489\n",
            "                   9.0        217        383      0.808      0.616      0.724      0.425\n",
            "                   9.4         68         96      0.843      0.865      0.902      0.768\n",
            "                  10.0        122        123      0.452      0.536      0.431      0.329\n",
            "                  11.0        365        944      0.782      0.806      0.783      0.467\n",
            "                  11.1         27         41      0.742       0.39      0.542      0.407\n",
            "                  13.0        227        229      0.738      0.663      0.722      0.546\n",
            "                  14.0        205        207      0.779      0.799      0.816      0.694\n",
            "                  14.1         27         27      0.565      0.593       0.62      0.485\n",
            "                  14.2        113        119      0.635      0.714      0.699      0.537\n",
            "                  19.0        121        121      0.531      0.521      0.568      0.415\n",
            "                  19.3         95         95      0.712      0.599      0.652       0.36\n",
            "                  20.0        100        101      0.591      0.614      0.637      0.465\n",
            "                  20.1         80         89      0.553      0.416      0.431      0.274\n",
            "                  20.2        109        152      0.624      0.426      0.531      0.259\n",
            "                  23.0        350        360      0.761      0.808       0.82      0.599\n",
            "                  23.1        224        273      0.822      0.634      0.721      0.447\n",
            "                  24.0         71        113      0.858      0.805      0.884      0.721\n",
            "                  24.1         99        164      0.878      0.655      0.796       0.63\n",
            "                  26.0        619        620      0.914      0.977       0.94      0.819\n",
            "                  27.0        215        216      0.875      0.944      0.912      0.646\n",
            "                  28.0        310        310      0.916      0.988      0.923      0.795\n",
            "                  29.0        323        325      0.951      0.994      0.971      0.893\n",
            "                  29.1         26         26      0.707      0.462      0.591       0.48\n",
            "                  30.0        240        453      0.945      0.965      0.962      0.671\n",
            "                  30.1         15         15      0.742      0.577      0.626      0.503\n",
            "                  32.0        107        204      0.981      0.989      0.989      0.791\n",
            "                  32.2         54        102      0.806      0.941       0.93      0.736\n",
            "                  35.0        215        229      0.843      0.796      0.856      0.528\n",
            "                  35.1         62         64      0.818      0.734       0.77       0.58\n",
            "                  37.0        277        656      0.856      0.925      0.916      0.677\n",
            "                  37.4         73        216      0.871      0.898      0.913      0.758\n",
            "                  38.0        269        971      0.898      0.885      0.923      0.683\n",
            "                  39.0        204        342       0.93      0.942      0.954      0.678\n",
            "                  40.0        231        232      0.843      0.978      0.915      0.812\n",
            "                  40.1         34         34      0.814       0.77      0.918      0.797\n",
            "                  41.0        149        152      0.956      0.974      0.965      0.837\n",
            "                  42.0        155        155      0.962       0.98       0.98      0.786\n",
            "                  43.0        393       1547      0.981      0.979      0.988      0.859\n",
            "                  43.1         40         50      0.834        0.9      0.934      0.749\n",
            "                  44.0        307        308      0.958      0.968      0.976      0.795\n",
            "                  45.0        294        295      0.917      0.983      0.957      0.737\n",
            "                  45.1         82         87      0.704      0.609      0.645      0.348\n",
            "                  46.0        180        451      0.824      0.752      0.811      0.498\n",
            "                  46.1         99        169       0.64      0.326      0.476      0.295\n",
            "                  47.0        320        946      0.932      0.892      0.945      0.681\n",
            "                  47.1        100        105      0.899      0.771      0.869      0.653\n",
            "                  48.0        298        348      0.877      0.868      0.887      0.611\n",
            "                  49.0        227        240       0.83      0.775      0.809      0.576\n",
            "                  49.3         30         30      0.489       0.51      0.554      0.243\n",
            "                  49.4         65         68      0.805      0.603      0.647      0.508\n",
            "                  50.0        140        144      0.887      0.938      0.923      0.743\n",
            "                  50.1         42         42      0.802      0.976      0.935       0.67\n",
            "                  51.0        493        494      0.882      0.954      0.929      0.847\n",
            "                  51.2         48         61      0.576      0.328      0.428      0.229\n",
            "                  52.0        285        300      0.935      0.913      0.941      0.712\n",
            "                  52.3         18         18      0.676      0.556      0.608      0.556\n",
            "                  52.5         20         20       0.83       0.85       0.89      0.487\n",
            "                  53.0        282        305      0.909      0.905      0.939      0.704\n",
            "                  53.4         26         27       0.87      0.815      0.836      0.548\n",
            "                  53.5         29         30      0.757      0.667       0.73      0.637\n",
            "                  54.0        247        442      0.927      0.934       0.95      0.715\n",
            "                  54.4         90        124      0.842      0.524      0.682      0.491\n",
            "                  54.5         23         27      0.792       0.63        0.7      0.596\n",
            "                  55.0        293        527      0.947       0.92       0.95      0.682\n",
            "                  55.4         76         94      0.784      0.735      0.806      0.495\n",
            "                  56.0        366       1083      0.918       0.99      0.949      0.825\n",
            "                  57.0        391       1147      0.958      0.976      0.975      0.793\n",
            "                  58.0        375        377      0.984       0.99      0.989      0.839\n",
            "                  59.0        379        379      0.978      0.992      0.991      0.863\n",
            "                  60.0        293        295      0.876      0.936      0.934      0.755\n",
            "                  60.1         30         36      0.641      0.696      0.714      0.587\n",
            "                  60.3         74         89      0.738      0.596      0.643       0.47\n",
            "                  61.0        389        389      0.979      0.997      0.986      0.851\n",
            "Speed: 0.2ms preprocess, 3.6ms inference, 0.0ms loss, 1.1ms postprocess per image\n",
            "Saving /content/drive/MyDrive/fiber_optic_box_inspection/runs_yolo/val_aug_3_P40_/predictions.json...\n",
            "Results saved to \u001b[1m/content/drive/MyDrive/fiber_optic_box_inspection/runs_yolo/val_aug_3_P40_\u001b[0m\n"
          ]
        }
      ]
    },
    {
      "cell_type": "code",
      "source": [
        "with open(Path(yolo_aug_3_P40.val_path, 'metrics_P40_aug_3.pkl'), 'wb') as f:\n",
        "    pickle.dump(metrics_P40_aug_3, f)"
      ],
      "metadata": {
        "id": "iw_sK9ttd-FC"
      },
      "execution_count": null,
      "outputs": []
    },
    {
      "cell_type": "markdown",
      "source": [
        "## aug 4"
      ],
      "metadata": {
        "id": "7ivCPxRWnwIV"
      }
    },
    {
      "cell_type": "code",
      "source": [
        "model_P40_aug_4 = YOLO(yolo_aug_4_P40.get_best_weight_path()) # todo\n",
        "metrics_P40_aug_4 = model_P40_aug_4.val(\n",
        "    data=local_paths['yolo_data_cfg_P40_aug_4'],\n",
        "    batch=32,\n",
        "    imgsz=IMGSZ,\n",
        "    save_json=True,\n",
        "    device=0,\n",
        "    plots=True,\n",
        "    project=paths['yolo_output_dir'],\n",
        "    name=yolo_aug_4_P40.val_run_name, #todo\n",
        "    verbose=True,\n",
        "    save_txt=True,\n",
        "    save_conf=True,\n",
        "    workers=16,\n",
        ")"
      ],
      "metadata": {
        "colab": {
          "base_uri": "https://localhost:8080/"
        },
        "outputId": "2938c570-6f74-43cc-97c6-ad8a95f57f75",
        "collapsed": true,
        "id": "w1GfMWBQnwIW"
      },
      "execution_count": null,
      "outputs": [
        {
          "output_type": "stream",
          "name": "stdout",
          "text": [
            "Ultralytics 8.3.162 🚀 Python-3.11.13 torch-2.6.0+cu124 CUDA:0 (NVIDIA A100-SXM4-40GB, 40507MiB)\n",
            "Model summary (fused): 92 layers, 25,938,190 parameters, 0 gradients, 79.2 GFLOPs\n",
            "\u001b[34m\u001b[1mval: \u001b[0mFast image access ✅ (ping: 0.0±0.0 ms, read: 34.0±2.5 MB/s, size: 108.5 KB)\n"
          ]
        },
        {
          "output_type": "stream",
          "name": "stderr",
          "text": [
            "\u001b[34m\u001b[1mval: \u001b[0mScanning /content/dataset_v2_ALL/image_label_P40.cache... 2100 images, 0 backgrounds, 0 corrupt: 100%|██████████| 2100/2100 [00:00<?, ?it/s]"
          ]
        },
        {
          "output_type": "stream",
          "name": "stdout",
          "text": [
            "\u001b[34m\u001b[1mval: \u001b[0m/content/dataset_v2_ALL/image_label_P40/2022_11_14_16_04_38-HNIP548102HO.jpg: 1 duplicate labels removed\n",
            "\u001b[34m\u001b[1mval: \u001b[0m/content/dataset_v2_ALL/image_label_P40/2022_11_16_10_35_33-GLIP038152HO.jpg: 1 duplicate labels removed\n",
            "\u001b[34m\u001b[1mval: \u001b[0m/content/dataset_v2_ALL/image_label_P40/2022_11_16_15_40_51-HBHP012080HO.jpg: 1 duplicate labels removed\n",
            "\u001b[34m\u001b[1mval: \u001b[0m/content/dataset_v2_ALL/image_label_P40/2022_11_17_15_10_14-TNNP063261HO.jpg: 1 duplicate labels removed\n",
            "\u001b[34m\u001b[1mval: \u001b[0m/content/dataset_v2_ALL/image_label_P40/2022_11_21_09_08_32-TNNP069058HO.jpg: 1 duplicate labels removed\n",
            "\u001b[34m\u001b[1mval: \u001b[0m/content/dataset_v2_ALL/image_label_P40/2022_12_08_10_14_33-HYNP074125HO.jpg: 1 duplicate labels removed\n"
          ]
        },
        {
          "output_type": "stream",
          "name": "stderr",
          "text": [
            "\n",
            "                 Class     Images  Instances      Box(P          R      mAP50  mAP50-95): 100%|██████████| 66/66 [01:17<00:00,  1.18s/it]\n"
          ]
        },
        {
          "output_type": "stream",
          "name": "stdout",
          "text": [
            "                   all       2100      23204      0.823      0.799      0.827      0.625\n",
            "                   1.0        197        199        0.8      0.904      0.883      0.751\n",
            "                   1.1         89         89      0.683      0.652      0.721      0.567\n",
            "                   1.2         41         42      0.515        0.5      0.515      0.373\n",
            "                   1.7         30         30      0.379        0.4      0.375      0.265\n",
            "                   2.0        358        359      0.915      0.958      0.943      0.827\n",
            "                   3.0        344        344      0.914      0.942      0.943      0.635\n",
            "                   5.0        313        610      0.946      0.966      0.965      0.664\n",
            "                   6.0        320        321      0.949      0.963      0.955      0.766\n",
            "                   7.0        285        285      0.857      0.906      0.912      0.637\n",
            "                   8.0        298        847      0.837      0.772      0.804      0.479\n",
            "                   8.3         19         25      0.508       0.48      0.609      0.516\n",
            "                   9.0        217        383       0.79      0.666      0.738      0.422\n",
            "                   9.4         68         96      0.839      0.875      0.891      0.716\n",
            "                  10.0        122        123       0.47      0.545      0.461      0.342\n",
            "                  11.0        365        944      0.772      0.859       0.78       0.47\n",
            "                  11.1         27         41      0.792      0.464      0.756      0.479\n",
            "                  13.0        227        229      0.705      0.738      0.732      0.548\n",
            "                  14.0        205        207      0.758      0.831      0.823      0.693\n",
            "                  14.1         27         27      0.476      0.407      0.461      0.394\n",
            "                  14.2        113        119      0.695       0.79      0.745      0.559\n",
            "                  19.0        121        121      0.663      0.496      0.584      0.395\n",
            "                  19.3         95         95      0.625      0.663      0.617      0.335\n",
            "                  20.0        100        101      0.635      0.517      0.606      0.449\n",
            "                  20.1         80         89      0.545      0.525      0.458      0.294\n",
            "                  20.2        109        152      0.531      0.513      0.492      0.229\n",
            "                  23.0        350        360      0.771      0.841      0.818      0.603\n",
            "                  23.1        224        273      0.772       0.67      0.747       0.47\n",
            "                  24.0         71        113      0.839      0.833      0.887      0.694\n",
            "                  24.1         99        164      0.895      0.678      0.765      0.607\n",
            "                  26.0        619        620      0.909      0.971      0.946      0.838\n",
            "                  27.0        215        216      0.874      0.934      0.924      0.653\n",
            "                  28.0        310        310      0.922      0.986      0.954      0.835\n",
            "                  29.0        323        325      0.955      0.994      0.986      0.905\n",
            "                  29.1         26         26      0.934      0.654      0.833      0.714\n",
            "                  30.0        240        453      0.951      0.962      0.959      0.667\n",
            "                  30.1         15         15      0.731      0.725      0.707      0.557\n",
            "                  32.0        107        204      0.987      0.985      0.985      0.789\n",
            "                  32.2         54        102      0.804      0.941      0.939      0.699\n",
            "                  35.0        215        229      0.869      0.814      0.888       0.55\n",
            "                  35.1         62         64      0.787      0.672       0.75      0.569\n",
            "                  37.0        277        656      0.867      0.904      0.907      0.664\n",
            "                  37.4         73        216      0.909      0.921      0.928      0.756\n",
            "                  38.0        269        971       0.89        0.9      0.925      0.674\n",
            "                  39.0        204        342       0.93       0.93       0.96      0.695\n",
            "                  40.0        231        232      0.886      0.974       0.94       0.84\n",
            "                  40.1         34         34      0.932       0.81      0.953      0.792\n",
            "                  41.0        149        152      0.966       0.98      0.985      0.863\n",
            "                  42.0        155        155      0.941      0.987      0.967      0.791\n",
            "                  43.0        393       1547      0.978      0.981      0.989      0.856\n",
            "                  43.1         40         50      0.827       0.92      0.934      0.768\n",
            "                  44.0        307        308      0.963      0.977      0.976      0.785\n",
            "                  45.0        294        295       0.93      0.983      0.962      0.766\n",
            "                  45.1         82         87      0.657      0.705      0.707      0.397\n",
            "                  46.0        180        451      0.823      0.787      0.826      0.486\n",
            "                  46.1         99        169      0.627      0.348      0.486      0.315\n",
            "                  47.0        320        946       0.92      0.909      0.947       0.68\n",
            "                  47.1        100        105      0.895      0.809      0.885       0.64\n",
            "                  48.0        298        348      0.875      0.856      0.885      0.616\n",
            "                  49.0        227        240      0.815      0.838       0.87      0.644\n",
            "                  49.3         30         30      0.755      0.533      0.652        0.4\n",
            "                  49.4         65         68      0.823      0.752      0.795      0.639\n",
            "                  50.0        140        144      0.922      0.958      0.927      0.756\n",
            "                  50.1         42         42       0.89          1      0.963      0.672\n",
            "                  51.0        493        494      0.907       0.97      0.942      0.866\n",
            "                  51.2         48         61      0.587      0.459      0.491      0.277\n",
            "                  52.0        285        300      0.948      0.903      0.934      0.703\n",
            "                  52.3         18         18      0.815      0.736      0.877      0.716\n",
            "                  52.5         20         20      0.893       0.85      0.914      0.582\n",
            "                  53.0        282        305      0.939      0.921      0.945      0.685\n",
            "                  53.4         26         27      0.852      0.815      0.843      0.508\n",
            "                  53.5         29         30      0.847      0.633      0.797      0.679\n",
            "                  54.0        247        442      0.939      0.939      0.963      0.738\n",
            "                  54.4         90        124      0.844      0.605      0.742      0.503\n",
            "                  54.5         23         27      0.835      0.444      0.639      0.576\n",
            "                  55.0        293        527      0.952       0.94      0.959      0.695\n",
            "                  55.4         76         94      0.865      0.798      0.841      0.519\n",
            "                  56.0        366       1083      0.913       0.99      0.942      0.819\n",
            "                  57.0        391       1147      0.957       0.97      0.971      0.791\n",
            "                  58.0        375        377      0.981      0.992       0.99      0.834\n",
            "                  59.0        379        379      0.971      0.995      0.989      0.855\n",
            "                  60.0        293        295      0.894      0.949      0.941      0.763\n",
            "                  60.1         30         36       0.83       0.75      0.763      0.582\n",
            "                  60.3         74         89      0.749      0.697      0.726      0.504\n",
            "                  61.0        389        389      0.976      0.995      0.989      0.845\n",
            "Speed: 0.6ms preprocess, 3.8ms inference, 0.0ms loss, 1.1ms postprocess per image\n",
            "Saving /content/drive/MyDrive/fiber_optic_box_inspection/runs_yolo/val_aug_4_P40_/predictions.json...\n",
            "Results saved to \u001b[1m/content/drive/MyDrive/fiber_optic_box_inspection/runs_yolo/val_aug_4_P40_\u001b[0m\n"
          ]
        }
      ]
    },
    {
      "cell_type": "code",
      "source": [
        "with open(Path(yolo_aug_4_P40.val_path, 'metrics_P40_aug_4.pkl'), 'wb') as f:\n",
        "    pickle.dump(metrics_P40_aug_4, f)"
      ],
      "metadata": {
        "id": "iRsIKzBynwIW"
      },
      "execution_count": null,
      "outputs": []
    },
    {
      "cell_type": "markdown",
      "source": [
        "# test"
      ],
      "metadata": {
        "id": "sJ8kq3LpLbur"
      }
    },
    {
      "cell_type": "code",
      "source": [
        "with open(Path(yolo_default_augmentations_P00.val_path, 'metrics_P00.pkl'), 'rb') as f:\n",
        "    metrics_P00 = pickle.load(f)\n",
        "with open(Path(yolo_default_augmentations_P25.val_path, 'metrics_P25.pkl'), 'rb') as f:\n",
        "    metrics_P25 = pickle.load(f)\n",
        "with open(Path(yolo_default_augmentations_P30.val_path, 'metrics_P30.pkl'), 'rb') as f:\n",
        "    metrics_P30 = pickle.load(f)\n",
        "with open(Path(yolo_default_augmentations_P35.val_path, 'metrics_P35.pkl'), 'rb') as f:\n",
        "    metrics_P35 = pickle.load(f)\n",
        "with open(Path(yolo_default_augmentations_P40.val_path, 'metrics_P40.pkl'), 'rb') as f:\n",
        "    metrics_P40 = pickle.load(f)\n",
        "with open(Path(yolo_no_augmentations_P40.val_path, 'metrics_P40.pkl'), 'rb') as f:\n",
        "    metrics_P40_aug_none = pickle.load(f)\n",
        "with open(Path(yolo_aug_1_P40.val_path, 'metrics_P40_aug_1.pkl'), 'rb') as f:\n",
        "    metrics_P40_aug_1 = pickle.load(f)\n",
        "with open(Path(yolo_aug_2_P40.val_path, 'metrics_P40_aug_2.pkl'), 'rb') as f:\n",
        "    metrics_P40_aug_2 = pickle.load(f)\n",
        "with open(Path(yolo_aug_3_P40.val_path, 'metrics_P40_aug_3.pkl'), 'rb') as f:\n",
        "    metrics_P40_aug_3 = pickle.load(f)\n",
        "with open(Path(yolo_aug_4_P40.val_path, 'metrics_P40_aug_4.pkl'), 'rb') as f:\n",
        "    metrics_P40_aug_4 = pickle.load(f)"
      ],
      "metadata": {
        "id": "r_TbMoJnT2pS"
      },
      "execution_count": null,
      "outputs": []
    },
    {
      "cell_type": "code",
      "source": [
        "df_metrics_P00 = metrics_P00.to_df()\n",
        "df_metrics_P00 = df_metrics_P00.set_index('Class')\n",
        "df_metrics_P25 = metrics_P25.to_df()\n",
        "df_metrics_P25 = df_metrics_P25.set_index('Class')\n",
        "df_metrics_P30 = metrics_P30.to_df()\n",
        "df_metrics_P30 = df_metrics_P30.set_index('Class')\n",
        "df_metrics_P35 = metrics_P35.to_df()\n",
        "df_metrics_P35 = df_metrics_P35.set_index('Class')\n",
        "df_metrics_P40 = metrics_P40.to_df()\n",
        "df_metrics_P40 = df_metrics_P40.set_index('Class')\n",
        "df_metrics_P40_aug_none = metrics_P40_aug_none.to_df()\n",
        "df_metrics_P40_aug_none = df_metrics_P40_aug_none.set_index('Class')\n",
        "df_metrics_P40_aug_1 = metrics_P40_aug_1.to_df()\n",
        "df_metrics_P40_aug_1 = df_metrics_P40_aug_1.set_index('Class')\n",
        "df_metrics_P40_aug_2 = metrics_P40_aug_2.to_df()\n",
        "df_metrics_P40_aug_2 = df_metrics_P40_aug_2.set_index('Class')\n",
        "df_metrics_P40_aug_3 = metrics_P40_aug_3.to_df()\n",
        "df_metrics_P40_aug_3 = df_metrics_P40_aug_3.set_index('Class')\n",
        "df_metrics_P40_aug_4 = metrics_P40_aug_4.to_df()\n",
        "df_metrics_P40_aug_4 = df_metrics_P40_aug_4.set_index('Class')"
      ],
      "metadata": {
        "id": "wRpg9knMC_T0"
      },
      "execution_count": null,
      "outputs": []
    },
    {
      "cell_type": "code",
      "source": [
        "df_mean_metrics = pd.concat([\n",
        "    df_metrics_P00.mean(numeric_only=True),\n",
        "                                    df_metrics_P25.mean(numeric_only=True),\n",
        "                                    df_metrics_P30.mean(numeric_only=True),\n",
        "                                    df_metrics_P35.mean(numeric_only=True),\n",
        "                                    df_metrics_P40.mean(numeric_only=True),\n",
        "                             df_metrics_P40_aug_none.mean(numeric_only=True),\n",
        "                             df_metrics_P40_aug_1.mean(numeric_only=True),\n",
        "                             df_metrics_P40_aug_2.mean(numeric_only=True),\n",
        "                             df_metrics_P40_aug_3.mean(numeric_only=True),\n",
        "                             df_metrics_P40_aug_4.mean(numeric_only=True),\n",
        "                             ], axis=1)"
      ],
      "metadata": {
        "id": "j5OOLd92I5jc"
      },
      "execution_count": null,
      "outputs": []
    },
    {
      "cell_type": "code",
      "source": [
        "df_mean_metrics.transpose().drop(columns=['Images', 'Instances', 'Box-P', 'Box-R'])"
      ],
      "metadata": {
        "colab": {
          "base_uri": "https://localhost:8080/",
          "height": 363
        },
        "id": "krw89Ne7JkLZ",
        "outputId": "856188b3-172f-457e-a23d-9ea5b3aca931"
      },
      "execution_count": null,
      "outputs": [
        {
          "output_type": "execute_result",
          "data": {
            "text/plain": [
              "     Box-F1     mAP50  mAP50-95\n",
              "0  0.495289  0.570668  0.382055\n",
              "1  0.602999  0.633737  0.427420\n",
              "2  0.646231  0.674154  0.453933\n",
              "3  0.668216  0.694336  0.470178\n",
              "4  0.698103  0.728303  0.495579\n",
              "5  0.667627  0.683368  0.457351\n",
              "6  0.623589  0.662962  0.436272\n",
              "7  0.778136  0.799964  0.602906\n",
              "8  0.786902  0.803384  0.610204\n",
              "9  0.806832  0.826511  0.624859"
            ],
            "text/html": [
              "\n",
              "  <div id=\"df-636d4e04-4335-4540-9d9b-460694285d37\" class=\"colab-df-container\">\n",
              "    <div>\n",
              "<style scoped>\n",
              "    .dataframe tbody tr th:only-of-type {\n",
              "        vertical-align: middle;\n",
              "    }\n",
              "\n",
              "    .dataframe tbody tr th {\n",
              "        vertical-align: top;\n",
              "    }\n",
              "\n",
              "    .dataframe thead th {\n",
              "        text-align: right;\n",
              "    }\n",
              "</style>\n",
              "<table border=\"1\" class=\"dataframe\">\n",
              "  <thead>\n",
              "    <tr style=\"text-align: right;\">\n",
              "      <th></th>\n",
              "      <th>Box-F1</th>\n",
              "      <th>mAP50</th>\n",
              "      <th>mAP50-95</th>\n",
              "    </tr>\n",
              "  </thead>\n",
              "  <tbody>\n",
              "    <tr>\n",
              "      <th>0</th>\n",
              "      <td>0.495289</td>\n",
              "      <td>0.570668</td>\n",
              "      <td>0.382055</td>\n",
              "    </tr>\n",
              "    <tr>\n",
              "      <th>1</th>\n",
              "      <td>0.602999</td>\n",
              "      <td>0.633737</td>\n",
              "      <td>0.427420</td>\n",
              "    </tr>\n",
              "    <tr>\n",
              "      <th>2</th>\n",
              "      <td>0.646231</td>\n",
              "      <td>0.674154</td>\n",
              "      <td>0.453933</td>\n",
              "    </tr>\n",
              "    <tr>\n",
              "      <th>3</th>\n",
              "      <td>0.668216</td>\n",
              "      <td>0.694336</td>\n",
              "      <td>0.470178</td>\n",
              "    </tr>\n",
              "    <tr>\n",
              "      <th>4</th>\n",
              "      <td>0.698103</td>\n",
              "      <td>0.728303</td>\n",
              "      <td>0.495579</td>\n",
              "    </tr>\n",
              "    <tr>\n",
              "      <th>5</th>\n",
              "      <td>0.667627</td>\n",
              "      <td>0.683368</td>\n",
              "      <td>0.457351</td>\n",
              "    </tr>\n",
              "    <tr>\n",
              "      <th>6</th>\n",
              "      <td>0.623589</td>\n",
              "      <td>0.662962</td>\n",
              "      <td>0.436272</td>\n",
              "    </tr>\n",
              "    <tr>\n",
              "      <th>7</th>\n",
              "      <td>0.778136</td>\n",
              "      <td>0.799964</td>\n",
              "      <td>0.602906</td>\n",
              "    </tr>\n",
              "    <tr>\n",
              "      <th>8</th>\n",
              "      <td>0.786902</td>\n",
              "      <td>0.803384</td>\n",
              "      <td>0.610204</td>\n",
              "    </tr>\n",
              "    <tr>\n",
              "      <th>9</th>\n",
              "      <td>0.806832</td>\n",
              "      <td>0.826511</td>\n",
              "      <td>0.624859</td>\n",
              "    </tr>\n",
              "  </tbody>\n",
              "</table>\n",
              "</div>\n",
              "    <div class=\"colab-df-buttons\">\n",
              "\n",
              "  <div class=\"colab-df-container\">\n",
              "    <button class=\"colab-df-convert\" onclick=\"convertToInteractive('df-636d4e04-4335-4540-9d9b-460694285d37')\"\n",
              "            title=\"Convert this dataframe to an interactive table.\"\n",
              "            style=\"display:none;\">\n",
              "\n",
              "  <svg xmlns=\"http://www.w3.org/2000/svg\" height=\"24px\" viewBox=\"0 -960 960 960\">\n",
              "    <path d=\"M120-120v-720h720v720H120Zm60-500h600v-160H180v160Zm220 220h160v-160H400v160Zm0 220h160v-160H400v160ZM180-400h160v-160H180v160Zm440 0h160v-160H620v160ZM180-180h160v-160H180v160Zm440 0h160v-160H620v160Z\"/>\n",
              "  </svg>\n",
              "    </button>\n",
              "\n",
              "  <style>\n",
              "    .colab-df-container {\n",
              "      display:flex;\n",
              "      gap: 12px;\n",
              "    }\n",
              "\n",
              "    .colab-df-convert {\n",
              "      background-color: #E8F0FE;\n",
              "      border: none;\n",
              "      border-radius: 50%;\n",
              "      cursor: pointer;\n",
              "      display: none;\n",
              "      fill: #1967D2;\n",
              "      height: 32px;\n",
              "      padding: 0 0 0 0;\n",
              "      width: 32px;\n",
              "    }\n",
              "\n",
              "    .colab-df-convert:hover {\n",
              "      background-color: #E2EBFA;\n",
              "      box-shadow: 0px 1px 2px rgba(60, 64, 67, 0.3), 0px 1px 3px 1px rgba(60, 64, 67, 0.15);\n",
              "      fill: #174EA6;\n",
              "    }\n",
              "\n",
              "    .colab-df-buttons div {\n",
              "      margin-bottom: 4px;\n",
              "    }\n",
              "\n",
              "    [theme=dark] .colab-df-convert {\n",
              "      background-color: #3B4455;\n",
              "      fill: #D2E3FC;\n",
              "    }\n",
              "\n",
              "    [theme=dark] .colab-df-convert:hover {\n",
              "      background-color: #434B5C;\n",
              "      box-shadow: 0px 1px 3px 1px rgba(0, 0, 0, 0.15);\n",
              "      filter: drop-shadow(0px 1px 2px rgba(0, 0, 0, 0.3));\n",
              "      fill: #FFFFFF;\n",
              "    }\n",
              "  </style>\n",
              "\n",
              "    <script>\n",
              "      const buttonEl =\n",
              "        document.querySelector('#df-636d4e04-4335-4540-9d9b-460694285d37 button.colab-df-convert');\n",
              "      buttonEl.style.display =\n",
              "        google.colab.kernel.accessAllowed ? 'block' : 'none';\n",
              "\n",
              "      async function convertToInteractive(key) {\n",
              "        const element = document.querySelector('#df-636d4e04-4335-4540-9d9b-460694285d37');\n",
              "        const dataTable =\n",
              "          await google.colab.kernel.invokeFunction('convertToInteractive',\n",
              "                                                    [key], {});\n",
              "        if (!dataTable) return;\n",
              "\n",
              "        const docLinkHtml = 'Like what you see? Visit the ' +\n",
              "          '<a target=\"_blank\" href=https://colab.research.google.com/notebooks/data_table.ipynb>data table notebook</a>'\n",
              "          + ' to learn more about interactive tables.';\n",
              "        element.innerHTML = '';\n",
              "        dataTable['output_type'] = 'display_data';\n",
              "        await google.colab.output.renderOutput(dataTable, element);\n",
              "        const docLink = document.createElement('div');\n",
              "        docLink.innerHTML = docLinkHtml;\n",
              "        element.appendChild(docLink);\n",
              "      }\n",
              "    </script>\n",
              "  </div>\n",
              "\n",
              "\n",
              "    <div id=\"df-d6da682e-bb25-4cdd-b131-3650326aaed9\">\n",
              "      <button class=\"colab-df-quickchart\" onclick=\"quickchart('df-d6da682e-bb25-4cdd-b131-3650326aaed9')\"\n",
              "                title=\"Suggest charts\"\n",
              "                style=\"display:none;\">\n",
              "\n",
              "<svg xmlns=\"http://www.w3.org/2000/svg\" height=\"24px\"viewBox=\"0 0 24 24\"\n",
              "     width=\"24px\">\n",
              "    <g>\n",
              "        <path d=\"M19 3H5c-1.1 0-2 .9-2 2v14c0 1.1.9 2 2 2h14c1.1 0 2-.9 2-2V5c0-1.1-.9-2-2-2zM9 17H7v-7h2v7zm4 0h-2V7h2v10zm4 0h-2v-4h2v4z\"/>\n",
              "    </g>\n",
              "</svg>\n",
              "      </button>\n",
              "\n",
              "<style>\n",
              "  .colab-df-quickchart {\n",
              "      --bg-color: #E8F0FE;\n",
              "      --fill-color: #1967D2;\n",
              "      --hover-bg-color: #E2EBFA;\n",
              "      --hover-fill-color: #174EA6;\n",
              "      --disabled-fill-color: #AAA;\n",
              "      --disabled-bg-color: #DDD;\n",
              "  }\n",
              "\n",
              "  [theme=dark] .colab-df-quickchart {\n",
              "      --bg-color: #3B4455;\n",
              "      --fill-color: #D2E3FC;\n",
              "      --hover-bg-color: #434B5C;\n",
              "      --hover-fill-color: #FFFFFF;\n",
              "      --disabled-bg-color: #3B4455;\n",
              "      --disabled-fill-color: #666;\n",
              "  }\n",
              "\n",
              "  .colab-df-quickchart {\n",
              "    background-color: var(--bg-color);\n",
              "    border: none;\n",
              "    border-radius: 50%;\n",
              "    cursor: pointer;\n",
              "    display: none;\n",
              "    fill: var(--fill-color);\n",
              "    height: 32px;\n",
              "    padding: 0;\n",
              "    width: 32px;\n",
              "  }\n",
              "\n",
              "  .colab-df-quickchart:hover {\n",
              "    background-color: var(--hover-bg-color);\n",
              "    box-shadow: 0 1px 2px rgba(60, 64, 67, 0.3), 0 1px 3px 1px rgba(60, 64, 67, 0.15);\n",
              "    fill: var(--button-hover-fill-color);\n",
              "  }\n",
              "\n",
              "  .colab-df-quickchart-complete:disabled,\n",
              "  .colab-df-quickchart-complete:disabled:hover {\n",
              "    background-color: var(--disabled-bg-color);\n",
              "    fill: var(--disabled-fill-color);\n",
              "    box-shadow: none;\n",
              "  }\n",
              "\n",
              "  .colab-df-spinner {\n",
              "    border: 2px solid var(--fill-color);\n",
              "    border-color: transparent;\n",
              "    border-bottom-color: var(--fill-color);\n",
              "    animation:\n",
              "      spin 1s steps(1) infinite;\n",
              "  }\n",
              "\n",
              "  @keyframes spin {\n",
              "    0% {\n",
              "      border-color: transparent;\n",
              "      border-bottom-color: var(--fill-color);\n",
              "      border-left-color: var(--fill-color);\n",
              "    }\n",
              "    20% {\n",
              "      border-color: transparent;\n",
              "      border-left-color: var(--fill-color);\n",
              "      border-top-color: var(--fill-color);\n",
              "    }\n",
              "    30% {\n",
              "      border-color: transparent;\n",
              "      border-left-color: var(--fill-color);\n",
              "      border-top-color: var(--fill-color);\n",
              "      border-right-color: var(--fill-color);\n",
              "    }\n",
              "    40% {\n",
              "      border-color: transparent;\n",
              "      border-right-color: var(--fill-color);\n",
              "      border-top-color: var(--fill-color);\n",
              "    }\n",
              "    60% {\n",
              "      border-color: transparent;\n",
              "      border-right-color: var(--fill-color);\n",
              "    }\n",
              "    80% {\n",
              "      border-color: transparent;\n",
              "      border-right-color: var(--fill-color);\n",
              "      border-bottom-color: var(--fill-color);\n",
              "    }\n",
              "    90% {\n",
              "      border-color: transparent;\n",
              "      border-bottom-color: var(--fill-color);\n",
              "    }\n",
              "  }\n",
              "</style>\n",
              "\n",
              "      <script>\n",
              "        async function quickchart(key) {\n",
              "          const quickchartButtonEl =\n",
              "            document.querySelector('#' + key + ' button');\n",
              "          quickchartButtonEl.disabled = true;  // To prevent multiple clicks.\n",
              "          quickchartButtonEl.classList.add('colab-df-spinner');\n",
              "          try {\n",
              "            const charts = await google.colab.kernel.invokeFunction(\n",
              "                'suggestCharts', [key], {});\n",
              "          } catch (error) {\n",
              "            console.error('Error during call to suggestCharts:', error);\n",
              "          }\n",
              "          quickchartButtonEl.classList.remove('colab-df-spinner');\n",
              "          quickchartButtonEl.classList.add('colab-df-quickchart-complete');\n",
              "        }\n",
              "        (() => {\n",
              "          let quickchartButtonEl =\n",
              "            document.querySelector('#df-d6da682e-bb25-4cdd-b131-3650326aaed9 button');\n",
              "          quickchartButtonEl.style.display =\n",
              "            google.colab.kernel.accessAllowed ? 'block' : 'none';\n",
              "        })();\n",
              "      </script>\n",
              "    </div>\n",
              "\n",
              "    </div>\n",
              "  </div>\n"
            ],
            "application/vnd.google.colaboratory.intrinsic+json": {
              "type": "dataframe",
              "summary": "{\n  \"name\": \"df_mean_metrics\",\n  \"rows\": 10,\n  \"fields\": [\n    {\n      \"column\": \"Box-F1\",\n      \"properties\": {\n        \"dtype\": \"number\",\n        \"std\": 0.0954907994662909,\n        \"min\": 0.495288992248062,\n        \"max\": 0.8068315476190475,\n        \"num_unique_values\": 10,\n        \"samples\": [\n          0.7869020238095237,\n          0.6029993269230769,\n          0.6676265476190476\n        ],\n        \"semantic_type\": \"\",\n        \"description\": \"\"\n      }\n    },\n    {\n      \"column\": \"mAP50\",\n      \"properties\": {\n        \"dtype\": \"number\",\n        \"std\": 0.08189020751792896,\n        \"min\": 0.5706683720930232,\n        \"max\": 0.8265110714285714,\n        \"num_unique_values\": 10,\n        \"samples\": [\n          0.8033838095238097,\n          0.633737403846154,\n          0.6833680952380952\n        ],\n        \"semantic_type\": \"\",\n        \"description\": \"\"\n      }\n    },\n    {\n      \"column\": \"mAP50-95\",\n      \"properties\": {\n        \"dtype\": \"number\",\n        \"std\": 0.08580366546552676,\n        \"min\": 0.3820548062015504,\n        \"max\": 0.6248590476190478,\n        \"num_unique_values\": 10,\n        \"samples\": [\n          0.6102036904761905,\n          0.42741980769230775,\n          0.45735119047619055\n        ],\n        \"semantic_type\": \"\",\n        \"description\": \"\"\n      }\n    }\n  ]\n}"
            }
          },
          "metadata": {},
          "execution_count": 56
        }
      ]
    },
    {
      "cell_type": "code",
      "source": [
        "import numpy as np"
      ],
      "metadata": {
        "id": "jfLIqKYEMktZ"
      },
      "execution_count": null,
      "outputs": []
    },
    {
      "cell_type": "code",
      "source": [
        "df_mean_metrics.to_csv('/content/metrics_data_aug.csv')"
      ],
      "metadata": {
        "id": "msA2lgPAP0KF"
      },
      "execution_count": null,
      "outputs": []
    },
    {
      "cell_type": "code",
      "source": [
        "\n",
        "# Transpose and drop specified columns\n",
        "df_plot = df_mean_metrics.transpose().drop(columns=['Images', 'Instances', 'Box-P', 'Box-R'])\n",
        "df_plot.index = ['Run 1 (Full)', 'Run 2 (25th)', 'Run 3 (30th)', 'Run 4 (35th)', 'Run 5 (40th)',\n",
        "                 'Run A', 'Run B (Resize/Crop)', 'Run C (Affine/Perspective)', 'Run D (Sun Flare/Shadow)', 'Run E (Mosaic)', ]\n",
        "\n",
        "# Print the resulting DataFrame for verification\n",
        "print(\"Mean Metrics for Class Reduction Runs:\")\n",
        "print(df_plot)\n",
        "\n",
        "# Set up the bar plot\n",
        "x = np.arange(len(df_plot.index))  # Positions for the runs\n",
        "width = 0.25  # Width of the bars\n",
        "\n",
        "fig, ax = plt.subplots(figsize=(12, 6))\n",
        "\n",
        "# Plot bars for each metric\n",
        "bar1 = ax.bar(x - width, df_plot['Box-F1'], width, label='Box-F1', color='#36A2EB')\n",
        "bar2 = ax.bar(x, df_plot['mAP50'], width, label='mAP50', color='#FF6384')\n",
        "bar3 = ax.bar(x + width, df_plot['mAP50-95'], width, label='mAP50-95', color='#FFCE56')\n",
        "\n",
        "# Customize the plot\n",
        "ax.set_xlabel('Runs')\n",
        "ax.set_ylabel('Metric Value')\n",
        "ax.set_title('Performance Metrics Across Class Reduction and Data Augmentation Runs')\n",
        "ax.set_xticks(x)\n",
        "ax.set_xticklabels(df_plot.index, rotation=15)\n",
        "ax.legend()\n",
        "\n",
        "# Add grid for better readability\n",
        "ax.grid(True, which='both', linestyle='--', alpha=0.7)\n",
        "\n",
        "# Adjust layout to prevent label cutoff\n",
        "plt.tight_layout()\n",
        "\n",
        "# Save the plot (uncomment to save as a file)\n",
        "# plt.savefig('class_reduction_metrics.png', dpi=300, bbox_inches='tight')\n",
        "\n",
        "# Display the plot\n",
        "plt.show()"
      ],
      "metadata": {
        "colab": {
          "base_uri": "https://localhost:8080/",
          "height": 777
        },
        "id": "aPQ-07TJMa9J",
        "outputId": "5bc6344c-84b0-4709-b138-4849a211b2cd"
      },
      "execution_count": null,
      "outputs": [
        {
          "output_type": "stream",
          "name": "stdout",
          "text": [
            "Mean Metrics for Class Reduction Runs:\n",
            "                              Box-F1     mAP50  mAP50-95\n",
            "Run 1 (Full)                0.495289  0.570668  0.382055\n",
            "Run 2 (25th)                0.602999  0.633737  0.427420\n",
            "Run 3 (30th)                0.646231  0.674154  0.453933\n",
            "Run 4 (35th)                0.668216  0.694336  0.470178\n",
            "Run 5 (40th)                0.698103  0.728303  0.495579\n",
            "Run A                       0.667627  0.683368  0.457351\n",
            "Run B (Resize/Crop)         0.623589  0.662962  0.436272\n",
            "Run C (Affine/Perspective)  0.778136  0.799964  0.602906\n",
            "Run D (Sun Flare/Shadow)    0.786902  0.803384  0.610204\n",
            "Run E (Mosaic)              0.806832  0.826511  0.624859\n"
          ]
        },
        {
          "output_type": "display_data",
          "data": {
            "text/plain": [
              "<Figure size 1200x600 with 1 Axes>"
            ],
            "image/png": "[encoded data removed]"
          },
          "metadata": {}
        }
      ]
    },
    {
      "cell_type": "code",
      "source": [
        "def count(dfa, dfb):\n",
        "    common_index = dfa.index.intersection(dfb.index)\n",
        "    s = pd.DataFrame(index=common_index)\n",
        "    s['Box-F1'] = dfa.loc[common_index, 'Box-F1'] < dfb.loc[common_index, 'Box-F1']\n",
        "    s['mAP50'] = dfa.loc[common_index, 'mAP50'] < dfb.loc[common_index, 'mAP50']\n",
        "    s['mAP50-95'] = dfa.loc[common_index, 'mAP50-95'] < dfb.loc[common_index, 'mAP50-95']\n",
        "    row_sum = s.sum(axis=1)\n",
        "    ans = []\n",
        "    for i in range(4):\n",
        "        ans.append(row_sum[row_sum == i].count())\n",
        "    print(ans)"
      ],
      "metadata": {
        "id": "J9o1yQTjR5V4"
      },
      "execution_count": null,
      "outputs": []
    },
    {
      "cell_type": "code",
      "source": [
        "count(df_metrics_P00, df_metrics_P25)\n",
        "count(df_metrics_P25, df_metrics_P30)\n",
        "count(df_metrics_P30, df_metrics_P35)\n",
        "count(df_metrics_P35, df_metrics_P40)\n",
        "count(df_metrics_P00, df_metrics_P40)"
      ],
      "metadata": {
        "colab": {
          "base_uri": "https://localhost:8080/"
        },
        "id": "2ywSIujkWBe2",
        "outputId": "573962af-e761-492b-953a-abe38d941b6b"
      },
      "execution_count": null,
      "outputs": [
        {
          "output_type": "stream",
          "name": "stdout",
          "text": [
            "[np.int64(31), np.int64(32), np.int64(21), np.int64(20)]\n",
            "[np.int64(22), np.int64(21), np.int64(29), np.int64(26)]\n",
            "[np.int64(17), np.int64(31), np.int64(20), np.int64(24)]\n",
            "[np.int64(27), np.int64(17), np.int64(20), np.int64(20)]\n",
            "[np.int64(32), np.int64(16), np.int64(21), np.int64(15)]\n"
          ]
        }
      ]
    },
    {
      "cell_type": "code",
      "source": [
        "df_metrics_P40.mean(numeric_only=True)"
      ],
      "metadata": {
        "id": "L1iHpWajDKD4",
        "collapsed": true,
        "colab": {
          "base_uri": "https://localhost:8080/",
          "height": 303
        },
        "outputId": "abd23c1d-9204-4855-c2ce-f65d9f2cb8d7"
      },
      "execution_count": null,
      "outputs": [
        {
          "output_type": "execute_result",
          "data": {
            "text/plain": [
              "Images       182.571429\n",
              "Instances    276.238095\n",
              "Box-P          0.683770\n",
              "Box-R          0.739141\n",
              "Box-F1         0.698103\n",
              "mAP50          0.728303\n",
              "mAP50-95       0.495579\n",
              "dtype: float64"
            ],
            "text/html": [
              "<div>\n",
              "<style scoped>\n",
              "    .dataframe tbody tr th:only-of-type {\n",
              "        vertical-align: middle;\n",
              "    }\n",
              "\n",
              "    .dataframe tbody tr th {\n",
              "        vertical-align: top;\n",
              "    }\n",
              "\n",
              "    .dataframe thead th {\n",
              "        text-align: right;\n",
              "    }\n",
              "</style>\n",
              "<table border=\"1\" class=\"dataframe\">\n",
              "  <thead>\n",
              "    <tr style=\"text-align: right;\">\n",
              "      <th></th>\n",
              "      <th>0</th>\n",
              "    </tr>\n",
              "  </thead>\n",
              "  <tbody>\n",
              "    <tr>\n",
              "      <th>Images</th>\n",
              "      <td>182.571429</td>\n",
              "    </tr>\n",
              "    <tr>\n",
              "      <th>Instances</th>\n",
              "      <td>276.238095</td>\n",
              "    </tr>\n",
              "    <tr>\n",
              "      <th>Box-P</th>\n",
              "      <td>0.683770</td>\n",
              "    </tr>\n",
              "    <tr>\n",
              "      <th>Box-R</th>\n",
              "      <td>0.739141</td>\n",
              "    </tr>\n",
              "    <tr>\n",
              "      <th>Box-F1</th>\n",
              "      <td>0.698103</td>\n",
              "    </tr>\n",
              "    <tr>\n",
              "      <th>mAP50</th>\n",
              "      <td>0.728303</td>\n",
              "    </tr>\n",
              "    <tr>\n",
              "      <th>mAP50-95</th>\n",
              "      <td>0.495579</td>\n",
              "    </tr>\n",
              "  </tbody>\n",
              "</table>\n",
              "</div><br><label><b>dtype:</b> float64</label>"
            ]
          },
          "metadata": {},
          "execution_count": 14
        }
      ]
    },
    {
      "cell_type": "code",
      "source": [
        "df_metrics_P40_aug_none.mean(numeric_only=True)"
      ],
      "metadata": {
        "id": "nKMoleNlPyoa",
        "colab": {
          "base_uri": "https://localhost:8080/",
          "height": 303
        },
        "outputId": "58e55338-95d4-40a8-88c0-95fe9072e02a"
      },
      "execution_count": null,
      "outputs": [
        {
          "output_type": "execute_result",
          "data": {
            "text/plain": [
              "Images       182.571429\n",
              "Instances    276.238095\n",
              "Box-P          0.660607\n",
              "Box-R          0.703370\n",
              "Box-F1         0.667627\n",
              "mAP50          0.683368\n",
              "mAP50-95       0.457351\n",
              "dtype: float64"
            ],
            "text/html": [
              "<div>\n",
              "<style scoped>\n",
              "    .dataframe tbody tr th:only-of-type {\n",
              "        vertical-align: middle;\n",
              "    }\n",
              "\n",
              "    .dataframe tbody tr th {\n",
              "        vertical-align: top;\n",
              "    }\n",
              "\n",
              "    .dataframe thead th {\n",
              "        text-align: right;\n",
              "    }\n",
              "</style>\n",
              "<table border=\"1\" class=\"dataframe\">\n",
              "  <thead>\n",
              "    <tr style=\"text-align: right;\">\n",
              "      <th></th>\n",
              "      <th>0</th>\n",
              "    </tr>\n",
              "  </thead>\n",
              "  <tbody>\n",
              "    <tr>\n",
              "      <th>Images</th>\n",
              "      <td>182.571429</td>\n",
              "    </tr>\n",
              "    <tr>\n",
              "      <th>Instances</th>\n",
              "      <td>276.238095</td>\n",
              "    </tr>\n",
              "    <tr>\n",
              "      <th>Box-P</th>\n",
              "      <td>0.660607</td>\n",
              "    </tr>\n",
              "    <tr>\n",
              "      <th>Box-R</th>\n",
              "      <td>0.703370</td>\n",
              "    </tr>\n",
              "    <tr>\n",
              "      <th>Box-F1</th>\n",
              "      <td>0.667627</td>\n",
              "    </tr>\n",
              "    <tr>\n",
              "      <th>mAP50</th>\n",
              "      <td>0.683368</td>\n",
              "    </tr>\n",
              "    <tr>\n",
              "      <th>mAP50-95</th>\n",
              "      <td>0.457351</td>\n",
              "    </tr>\n",
              "  </tbody>\n",
              "</table>\n",
              "</div><br><label><b>dtype:</b> float64</label>"
            ]
          },
          "metadata": {},
          "execution_count": 15
        }
      ]
    },
    {
      "cell_type": "code",
      "source": [
        "df_metrics_P40_aug_1.mean(numeric_only=True)"
      ],
      "metadata": {
        "colab": {
          "base_uri": "https://localhost:8080/",
          "height": 303
        },
        "id": "yXwZz9GYO6BG",
        "outputId": "86eb83ed-abdd-4677-dbcf-b8148030af7c"
      },
      "execution_count": null,
      "outputs": [
        {
          "output_type": "execute_result",
          "data": {
            "text/plain": [
              "Images       182.571429\n",
              "Instances    276.238095\n",
              "Box-P          0.699716\n",
              "Box-R          0.667144\n",
              "Box-F1         0.623589\n",
              "mAP50          0.662962\n",
              "mAP50-95       0.436272\n",
              "dtype: float64"
            ],
            "text/html": [
              "<div>\n",
              "<style scoped>\n",
              "    .dataframe tbody tr th:only-of-type {\n",
              "        vertical-align: middle;\n",
              "    }\n",
              "\n",
              "    .dataframe tbody tr th {\n",
              "        vertical-align: top;\n",
              "    }\n",
              "\n",
              "    .dataframe thead th {\n",
              "        text-align: right;\n",
              "    }\n",
              "</style>\n",
              "<table border=\"1\" class=\"dataframe\">\n",
              "  <thead>\n",
              "    <tr style=\"text-align: right;\">\n",
              "      <th></th>\n",
              "      <th>0</th>\n",
              "    </tr>\n",
              "  </thead>\n",
              "  <tbody>\n",
              "    <tr>\n",
              "      <th>Images</th>\n",
              "      <td>182.571429</td>\n",
              "    </tr>\n",
              "    <tr>\n",
              "      <th>Instances</th>\n",
              "      <td>276.238095</td>\n",
              "    </tr>\n",
              "    <tr>\n",
              "      <th>Box-P</th>\n",
              "      <td>0.699716</td>\n",
              "    </tr>\n",
              "    <tr>\n",
              "      <th>Box-R</th>\n",
              "      <td>0.667144</td>\n",
              "    </tr>\n",
              "    <tr>\n",
              "      <th>Box-F1</th>\n",
              "      <td>0.623589</td>\n",
              "    </tr>\n",
              "    <tr>\n",
              "      <th>mAP50</th>\n",
              "      <td>0.662962</td>\n",
              "    </tr>\n",
              "    <tr>\n",
              "      <th>mAP50-95</th>\n",
              "      <td>0.436272</td>\n",
              "    </tr>\n",
              "  </tbody>\n",
              "</table>\n",
              "</div><br><label><b>dtype:</b> float64</label>"
            ]
          },
          "metadata": {},
          "execution_count": 16
        }
      ]
    },
    {
      "cell_type": "code",
      "source": [],
      "metadata": {
        "id": "aouFlHfFPPvG"
      },
      "execution_count": null,
      "outputs": []
    }
  ]
}